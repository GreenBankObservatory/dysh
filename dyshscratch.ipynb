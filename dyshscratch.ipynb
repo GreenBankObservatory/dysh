{
 "cells": [
  {
   "cell_type": "code",
   "execution_count": 1,
   "id": "344f3e47",
   "metadata": {},
   "outputs": [],
   "source": [
    "from dysh.fits.gbtfitsload import GBTFITSLoad\n"
   ]
  },
  {
   "cell_type": "code",
   "execution_count": 1,
   "id": "66334db6",
   "metadata": {},
   "outputs": [
    {
     "ename": "ModuleNotFoundError",
     "evalue": "No module named 'dysh'",
     "output_type": "error",
     "traceback": [
      "\u001b[0;31m---------------------------------------------------------------------------\u001b[0m",
      "\u001b[0;31mModuleNotFoundError\u001b[0m                       Traceback (most recent call last)",
      "\u001b[0;32m/tmp/ipykernel_123973/347708087.py\u001b[0m in \u001b[0;36m<module>\u001b[0;34m\u001b[0m\n\u001b[0;32m----> 1\u001b[0;31m \u001b[0;32mimport\u001b[0m \u001b[0mdysh\u001b[0m\u001b[0;34m\u001b[0m\u001b[0;34m\u001b[0m\u001b[0m\n\u001b[0m",
      "\u001b[0;31mModuleNotFoundError\u001b[0m: No module named 'dysh'"
     ]
    }
   ],
   "source": [
    "import dysh"
   ]
  },
  {
   "cell_type": "code",
   "execution_count": 27,
   "id": "527ac225",
   "metadata": {},
   "outputs": [],
   "source": [
    "sdf = GBTFITSLoad('testdata/TGBT21A_501_11/TGBT21A_501_11.raw.vegas.fits')\n",
    "\n",
    "sdf = GBTFITSLoad('testdata/AGBT05B_047_01/AGBT05B_047_01.raw.acs')\n",
    "sdf = GBTFITSLoad('testdata/TGBT21A_501_11/TGBT21A_501_11_scan_152_ifnum_0_plnum_0.fits')\n"
   ]
  },
  {
   "cell_type": "code",
   "execution_count": 42,
   "id": "24da2c2a",
   "metadata": {},
   "outputs": [],
   "source": [
    "sdf = GBTFITSLoad('testdata/AGBT05B_047_01/AGBT05B_047_01.raw.acs')"
   ]
  },
  {
   "cell_type": "code",
   "execution_count": 2,
   "id": "89e1eb97",
   "metadata": {},
   "outputs": [],
   "source": [
    "sdf = GBTFITSLoad('/home/sdfits/TRCO_231002_L/TRCO_231002_L.raw.vegas')"
   ]
  },
  {
   "cell_type": "code",
   "execution_count": 3,
   "id": "13e0ec82",
   "metadata": {},
   "outputs": [
    {
     "data": {
      "text/html": [
       "<div>\n",
       "<style scoped>\n",
       "    .dataframe tbody tr th:only-of-type {\n",
       "        vertical-align: middle;\n",
       "    }\n",
       "\n",
       "    .dataframe tbody tr th {\n",
       "        vertical-align: top;\n",
       "    }\n",
       "\n",
       "    .dataframe thead th {\n",
       "        text-align: right;\n",
       "    }\n",
       "</style>\n",
       "<table border=\"1\" class=\"dataframe\">\n",
       "  <thead>\n",
       "    <tr style=\"text-align: right;\">\n",
       "      <th></th>\n",
       "      <th>SCAN</th>\n",
       "      <th>OBJECT</th>\n",
       "      <th>VELOCITY</th>\n",
       "      <th>PROC</th>\n",
       "      <th>PROCSEQN</th>\n",
       "      <th>RESTFREQ</th>\n",
       "      <th>DOPFREQ</th>\n",
       "      <th># IF</th>\n",
       "      <th># POL</th>\n",
       "      <th># INT</th>\n",
       "      <th># FEED</th>\n",
       "      <th>AZIMUTH</th>\n",
       "      <th>ELEVATIO</th>\n",
       "    </tr>\n",
       "  </thead>\n",
       "  <tbody>\n",
       "    <tr>\n",
       "      <th>0</th>\n",
       "      <td>11</td>\n",
       "      <td>3C286</td>\n",
       "      <td>0.0</td>\n",
       "      <td>OffOn</td>\n",
       "      <td>1</td>\n",
       "      <td>1.44</td>\n",
       "      <td>1.44</td>\n",
       "      <td>1</td>\n",
       "      <td>2</td>\n",
       "      <td>12</td>\n",
       "      <td>1</td>\n",
       "      <td>268.938076</td>\n",
       "      <td>55.806133</td>\n",
       "    </tr>\n",
       "    <tr>\n",
       "      <th>1</th>\n",
       "      <td>12</td>\n",
       "      <td>3C286</td>\n",
       "      <td>0.0</td>\n",
       "      <td>OffOn</td>\n",
       "      <td>2</td>\n",
       "      <td>1.44</td>\n",
       "      <td>1.44</td>\n",
       "      <td>1</td>\n",
       "      <td>2</td>\n",
       "      <td>12</td>\n",
       "      <td>1</td>\n",
       "      <td>270.600316</td>\n",
       "      <td>53.722005</td>\n",
       "    </tr>\n",
       "    <tr>\n",
       "      <th>2</th>\n",
       "      <td>13</td>\n",
       "      <td>3C286</td>\n",
       "      <td>0.0</td>\n",
       "      <td>OffOn</td>\n",
       "      <td>1</td>\n",
       "      <td>1.44</td>\n",
       "      <td>1.44</td>\n",
       "      <td>1</td>\n",
       "      <td>2</td>\n",
       "      <td>12</td>\n",
       "      <td>1</td>\n",
       "      <td>269.417689</td>\n",
       "      <td>55.217254</td>\n",
       "    </tr>\n",
       "    <tr>\n",
       "      <th>3</th>\n",
       "      <td>14</td>\n",
       "      <td>3C286</td>\n",
       "      <td>0.0</td>\n",
       "      <td>OffOn</td>\n",
       "      <td>2</td>\n",
       "      <td>1.44</td>\n",
       "      <td>1.44</td>\n",
       "      <td>1</td>\n",
       "      <td>2</td>\n",
       "      <td>12</td>\n",
       "      <td>1</td>\n",
       "      <td>271.056282</td>\n",
       "      <td>53.133075</td>\n",
       "    </tr>\n",
       "    <tr>\n",
       "      <th>4</th>\n",
       "      <td>15</td>\n",
       "      <td>3C286</td>\n",
       "      <td>0.0</td>\n",
       "      <td>OffOn</td>\n",
       "      <td>1</td>\n",
       "      <td>1.44</td>\n",
       "      <td>1.44</td>\n",
       "      <td>1</td>\n",
       "      <td>2</td>\n",
       "      <td>12</td>\n",
       "      <td>1</td>\n",
       "      <td>269.890354</td>\n",
       "      <td>54.628299</td>\n",
       "    </tr>\n",
       "    <tr>\n",
       "      <th>5</th>\n",
       "      <td>16</td>\n",
       "      <td>3C286</td>\n",
       "      <td>0.0</td>\n",
       "      <td>OffOn</td>\n",
       "      <td>2</td>\n",
       "      <td>1.44</td>\n",
       "      <td>1.44</td>\n",
       "      <td>1</td>\n",
       "      <td>2</td>\n",
       "      <td>12</td>\n",
       "      <td>1</td>\n",
       "      <td>271.506448</td>\n",
       "      <td>52.544263</td>\n",
       "    </tr>\n",
       "    <tr>\n",
       "      <th>6</th>\n",
       "      <td>17</td>\n",
       "      <td>3C286</td>\n",
       "      <td>0.0</td>\n",
       "      <td>OffOn</td>\n",
       "      <td>1</td>\n",
       "      <td>1.44</td>\n",
       "      <td>1.44</td>\n",
       "      <td>1</td>\n",
       "      <td>2</td>\n",
       "      <td>12</td>\n",
       "      <td>1</td>\n",
       "      <td>270.356082</td>\n",
       "      <td>54.039627</td>\n",
       "    </tr>\n",
       "    <tr>\n",
       "      <th>7</th>\n",
       "      <td>18</td>\n",
       "      <td>3C286</td>\n",
       "      <td>0.0</td>\n",
       "      <td>OffOn</td>\n",
       "      <td>2</td>\n",
       "      <td>1.44</td>\n",
       "      <td>1.44</td>\n",
       "      <td>1</td>\n",
       "      <td>2</td>\n",
       "      <td>12</td>\n",
       "      <td>1</td>\n",
       "      <td>271.950766</td>\n",
       "      <td>51.955975</td>\n",
       "    </tr>\n",
       "    <tr>\n",
       "      <th>8</th>\n",
       "      <td>19</td>\n",
       "      <td>3C286</td>\n",
       "      <td>0.0</td>\n",
       "      <td>OffOn</td>\n",
       "      <td>1</td>\n",
       "      <td>1.44</td>\n",
       "      <td>1.44</td>\n",
       "      <td>1</td>\n",
       "      <td>2</td>\n",
       "      <td>12</td>\n",
       "      <td>1</td>\n",
       "      <td>270.81533</td>\n",
       "      <td>53.450981</td>\n",
       "    </tr>\n",
       "    <tr>\n",
       "      <th>9</th>\n",
       "      <td>20</td>\n",
       "      <td>3C286</td>\n",
       "      <td>0.0</td>\n",
       "      <td>OffOn</td>\n",
       "      <td>2</td>\n",
       "      <td>1.44</td>\n",
       "      <td>1.44</td>\n",
       "      <td>1</td>\n",
       "      <td>2</td>\n",
       "      <td>12</td>\n",
       "      <td>1</td>\n",
       "      <td>272.390271</td>\n",
       "      <td>51.367596</td>\n",
       "    </tr>\n",
       "    <tr>\n",
       "      <th>10</th>\n",
       "      <td>21</td>\n",
       "      <td>3C286</td>\n",
       "      <td>0.0</td>\n",
       "      <td>OffOn</td>\n",
       "      <td>1</td>\n",
       "      <td>1.44</td>\n",
       "      <td>1.44</td>\n",
       "      <td>1</td>\n",
       "      <td>2</td>\n",
       "      <td>12</td>\n",
       "      <td>1</td>\n",
       "      <td>271.271009</td>\n",
       "      <td>52.859014</td>\n",
       "    </tr>\n",
       "    <tr>\n",
       "      <th>11</th>\n",
       "      <td>22</td>\n",
       "      <td>3C286</td>\n",
       "      <td>0.0</td>\n",
       "      <td>OffOn</td>\n",
       "      <td>2</td>\n",
       "      <td>1.44</td>\n",
       "      <td>1.44</td>\n",
       "      <td>1</td>\n",
       "      <td>2</td>\n",
       "      <td>7</td>\n",
       "      <td>1</td>\n",
       "      <td>272.796797</td>\n",
       "      <td>50.817124</td>\n",
       "    </tr>\n",
       "  </tbody>\n",
       "</table>\n",
       "</div>"
      ],
      "text/plain": [
       "    SCAN OBJECT VELOCITY   PROC  PROCSEQN RESTFREQ DOPFREQ # IF # POL # INT  \\\n",
       "0     11  3C286      0.0  OffOn         1     1.44    1.44    1     2    12   \n",
       "1     12  3C286      0.0  OffOn         2     1.44    1.44    1     2    12   \n",
       "2     13  3C286      0.0  OffOn         1     1.44    1.44    1     2    12   \n",
       "3     14  3C286      0.0  OffOn         2     1.44    1.44    1     2    12   \n",
       "4     15  3C286      0.0  OffOn         1     1.44    1.44    1     2    12   \n",
       "5     16  3C286      0.0  OffOn         2     1.44    1.44    1     2    12   \n",
       "6     17  3C286      0.0  OffOn         1     1.44    1.44    1     2    12   \n",
       "7     18  3C286      0.0  OffOn         2     1.44    1.44    1     2    12   \n",
       "8     19  3C286      0.0  OffOn         1     1.44    1.44    1     2    12   \n",
       "9     20  3C286      0.0  OffOn         2     1.44    1.44    1     2    12   \n",
       "10    21  3C286      0.0  OffOn         1     1.44    1.44    1     2    12   \n",
       "11    22  3C286      0.0  OffOn         2     1.44    1.44    1     2     7   \n",
       "\n",
       "   # FEED     AZIMUTH   ELEVATIO  \n",
       "0       1  268.938076  55.806133  \n",
       "1       1  270.600316  53.722005  \n",
       "2       1  269.417689  55.217254  \n",
       "3       1  271.056282  53.133075  \n",
       "4       1  269.890354  54.628299  \n",
       "5       1  271.506448  52.544263  \n",
       "6       1  270.356082  54.039627  \n",
       "7       1  271.950766  51.955975  \n",
       "8       1   270.81533  53.450981  \n",
       "9       1  272.390271  51.367596  \n",
       "10      1  271.271009  52.859014  \n",
       "11      1  272.796797  50.817124  "
      ]
     },
     "execution_count": 3,
     "metadata": {},
     "output_type": "execute_result"
    }
   ],
   "source": [
    "sdf.summary()\n"
   ]
  },
  {
   "cell_type": "code",
   "execution_count": 4,
   "id": "a4f2a292",
   "metadata": {},
   "outputs": [],
   "source": [
    "ps = sdf.getps(scan=[11,13,15])"
   ]
  },
  {
   "cell_type": "code",
   "execution_count": 7,
   "id": "c25feb81",
   "metadata": {},
   "outputs": [
    {
     "ename": "AttributeError",
     "evalue": "'ScanBlock' object has no attribute 'nrows'",
     "output_type": "error",
     "traceback": [
      "\u001b[0;31m---------------------------------------------------------------------------\u001b[0m",
      "\u001b[0;31mAttributeError\u001b[0m                            Traceback (most recent call last)",
      "Cell \u001b[0;32mIn[7], line 1\u001b[0m\n\u001b[0;32m----> 1\u001b[0m \u001b[43mps\u001b[49m\u001b[38;5;241;43m.\u001b[39;49m\u001b[43mnrows\u001b[49m\n",
      "\u001b[0;31mAttributeError\u001b[0m: 'ScanBlock' object has no attribute 'nrows'"
     ]
    }
   ],
   "source": [
    "ps.nrows"
   ]
  },
  {
   "cell_type": "code",
   "execution_count": 11,
   "id": "0d151914",
   "metadata": {},
   "outputs": [
    {
     "ename": "IndexError",
     "evalue": "list index out of range",
     "output_type": "error",
     "traceback": [
      "\u001b[0;31m---------------------------------------------------------------------------\u001b[0m",
      "\u001b[0;31mIndexError\u001b[0m                                Traceback (most recent call last)",
      "Cell \u001b[0;32mIn[11], line 1\u001b[0m\n\u001b[0;32m----> 1\u001b[0m \u001b[43mps\u001b[49m\u001b[43m[\u001b[49m\u001b[38;5;241;43m3\u001b[39;49m\u001b[43m]\u001b[49m\u001b[38;5;241m.\u001b[39mscan\n",
      "File \u001b[0;32m~/.conda/envs/dyshpy/lib/python3.9/collections/__init__.py:1175\u001b[0m, in \u001b[0;36mUserList.__getitem__\u001b[0;34m(self, i)\u001b[0m\n\u001b[1;32m   1173\u001b[0m     \u001b[38;5;28;01mreturn\u001b[39;00m \u001b[38;5;28mself\u001b[39m\u001b[38;5;241m.\u001b[39m\u001b[38;5;18m__class__\u001b[39m(\u001b[38;5;28mself\u001b[39m\u001b[38;5;241m.\u001b[39mdata[i])\n\u001b[1;32m   1174\u001b[0m \u001b[38;5;28;01melse\u001b[39;00m:\n\u001b[0;32m-> 1175\u001b[0m     \u001b[38;5;28;01mreturn\u001b[39;00m \u001b[38;5;28;43mself\u001b[39;49m\u001b[38;5;241;43m.\u001b[39;49m\u001b[43mdata\u001b[49m\u001b[43m[\u001b[49m\u001b[43mi\u001b[49m\u001b[43m]\u001b[49m\n",
      "\u001b[0;31mIndexError\u001b[0m: list index out of range"
     ]
    }
   ],
   "source": [
    "ps[3].scan"
   ]
  },
  {
   "cell_type": "code",
   "execution_count": 13,
   "id": "222d1042",
   "metadata": {},
   "outputs": [
    {
     "data": {
      "text/plain": [
       "48"
      ]
     },
     "execution_count": 13,
     "metadata": {},
     "output_type": "execute_result"
    }
   ],
   "source": [
    "len(ps[0])"
   ]
  },
  {
   "cell_type": "code",
   "execution_count": 38,
   "id": "7bd62b7c",
   "metadata": {},
   "outputs": [
    {
     "data": {
      "text/plain": [
       "True"
      ]
     },
     "execution_count": 38,
     "metadata": {},
     "output_type": "execute_result"
    }
   ],
   "source": [
    "sdf.velocity_convention('OPTI-HEL') == 'optical'"
   ]
  },
  {
   "cell_type": "code",
   "execution_count": 39,
   "id": "b51b05d4",
   "metadata": {},
   "outputs": [
    {
     "data": {
      "text/plain": [
       "True"
      ]
     },
     "execution_count": 39,
     "metadata": {},
     "output_type": "execute_result"
    }
   ],
   "source": [
    "sdf.velocity_frame('RADI-HEL') == 'heliocentric'"
   ]
  },
  {
   "cell_type": "code",
   "execution_count": 32,
   "id": "43fb483e",
   "metadata": {},
   "outputs": [
    {
     "ename": "SyntaxError",
     "evalue": "invalid syntax (1570717753.py, line 1)",
     "output_type": "error",
     "traceback": [
      "\u001b[0;36m  Cell \u001b[0;32mIn[32], line 1\u001b[0;36m\u001b[0m\n\u001b[0;31m    sdf.select('intnum'==[50:70])\u001b[0m\n\u001b[0m                            ^\u001b[0m\n\u001b[0;31mSyntaxError\u001b[0m\u001b[0;31m:\u001b[0m invalid syntax\n"
     ]
    }
   ],
   "source": [
    "sdf.select('intnum'==[50:70])"
   ]
  },
  {
   "cell_type": "code",
   "execution_count": 30,
   "id": "88f45cc7",
   "metadata": {},
   "outputs": [
    {
     "data": {
      "text/plain": [
       "302"
      ]
     },
     "execution_count": 30,
     "metadata": {},
     "output_type": "execute_result"
    }
   ],
   "source": [
    "len(sdf.index(bintable=0))"
   ]
  },
  {
   "cell_type": "code",
   "execution_count": 26,
   "id": "06eac1c1",
   "metadata": {},
   "outputs": [
    {
     "data": {
      "text/plain": [
       "(8, 13)"
      ]
     },
     "execution_count": 26,
     "metadata": {},
     "output_type": "execute_result"
    }
   ],
   "source": [
    "sdf.summary().shape"
   ]
  },
  {
   "cell_type": "code",
   "execution_count": 5,
   "id": "980552c0",
   "metadata": {},
   "outputs": [
    {
     "data": {
      "text/html": [
       "<div>\n",
       "<style scoped>\n",
       "    .dataframe tbody tr th:only-of-type {\n",
       "        vertical-align: middle;\n",
       "    }\n",
       "\n",
       "    .dataframe tbody tr th {\n",
       "        vertical-align: top;\n",
       "    }\n",
       "\n",
       "    .dataframe thead th {\n",
       "        text-align: right;\n",
       "    }\n",
       "</style>\n",
       "<table border=\"1\" class=\"dataframe\">\n",
       "  <thead>\n",
       "    <tr style=\"text-align: right;\">\n",
       "      <th></th>\n",
       "      <th>OBJECT</th>\n",
       "      <th>BANDWID</th>\n",
       "      <th>DATE-OBS</th>\n",
       "      <th>DURATION</th>\n",
       "      <th>EXPOSURE</th>\n",
       "      <th>TSYS</th>\n",
       "      <th>TDIM7</th>\n",
       "      <th>TUNIT7</th>\n",
       "      <th>CTYPE1</th>\n",
       "      <th>CRVAL1</th>\n",
       "      <th>...</th>\n",
       "      <th>FDNUM</th>\n",
       "      <th>INT</th>\n",
       "      <th>NSAVE</th>\n",
       "      <th>HDU</th>\n",
       "      <th>BINTABLE</th>\n",
       "      <th>ROW</th>\n",
       "      <th>FITSINDEX</th>\n",
       "      <th>PROC</th>\n",
       "      <th>_OBSTYPE</th>\n",
       "      <th>_SUBOBSMODE</th>\n",
       "    </tr>\n",
       "  </thead>\n",
       "  <tbody>\n",
       "    <tr>\n",
       "      <th>0</th>\n",
       "      <td>NGC2415</td>\n",
       "      <td>23437500.0</td>\n",
       "      <td>2021-02-10T07:38:37.50</td>\n",
       "      <td>0.998245</td>\n",
       "      <td>0.975875</td>\n",
       "      <td>17.458052</td>\n",
       "      <td>(32768,1,1,1)</td>\n",
       "      <td>Counts</td>\n",
       "      <td>FREQ-OBS</td>\n",
       "      <td>1.402545e+09</td>\n",
       "      <td>...</td>\n",
       "      <td>0</td>\n",
       "      <td>0</td>\n",
       "      <td>-1</td>\n",
       "      <td>1</td>\n",
       "      <td>0</td>\n",
       "      <td>0</td>\n",
       "      <td>0.0</td>\n",
       "      <td>OnOff</td>\n",
       "      <td>PSWITCHON</td>\n",
       "      <td>TPWCAL</td>\n",
       "    </tr>\n",
       "    <tr>\n",
       "      <th>1</th>\n",
       "      <td>NGC2415</td>\n",
       "      <td>23437500.0</td>\n",
       "      <td>2021-02-10T07:38:37.50</td>\n",
       "      <td>0.998245</td>\n",
       "      <td>0.975875</td>\n",
       "      <td>17.458052</td>\n",
       "      <td>(32768,1,1,1)</td>\n",
       "      <td>Counts</td>\n",
       "      <td>FREQ-OBS</td>\n",
       "      <td>1.402545e+09</td>\n",
       "      <td>...</td>\n",
       "      <td>0</td>\n",
       "      <td>0</td>\n",
       "      <td>-1</td>\n",
       "      <td>1</td>\n",
       "      <td>0</td>\n",
       "      <td>1</td>\n",
       "      <td>0.0</td>\n",
       "      <td>OnOff</td>\n",
       "      <td>PSWITCHON</td>\n",
       "      <td>TPWCAL</td>\n",
       "    </tr>\n",
       "    <tr>\n",
       "      <th>2</th>\n",
       "      <td>NGC2415</td>\n",
       "      <td>23437500.0</td>\n",
       "      <td>2021-02-10T07:43:51.50</td>\n",
       "      <td>0.998245</td>\n",
       "      <td>0.975875</td>\n",
       "      <td>17.240004</td>\n",
       "      <td>(32768,1,1,1)</td>\n",
       "      <td>Counts</td>\n",
       "      <td>FREQ-OBS</td>\n",
       "      <td>1.402546e+09</td>\n",
       "      <td>...</td>\n",
       "      <td>0</td>\n",
       "      <td>0</td>\n",
       "      <td>-1</td>\n",
       "      <td>1</td>\n",
       "      <td>0</td>\n",
       "      <td>2</td>\n",
       "      <td>0.0</td>\n",
       "      <td>OnOff</td>\n",
       "      <td>PSWITCHOFF</td>\n",
       "      <td>TPWCAL</td>\n",
       "    </tr>\n",
       "    <tr>\n",
       "      <th>3</th>\n",
       "      <td>NGC2415</td>\n",
       "      <td>23437500.0</td>\n",
       "      <td>2021-02-10T07:43:51.50</td>\n",
       "      <td>0.998245</td>\n",
       "      <td>0.975875</td>\n",
       "      <td>17.240004</td>\n",
       "      <td>(32768,1,1,1)</td>\n",
       "      <td>Counts</td>\n",
       "      <td>FREQ-OBS</td>\n",
       "      <td>1.402546e+09</td>\n",
       "      <td>...</td>\n",
       "      <td>0</td>\n",
       "      <td>0</td>\n",
       "      <td>-1</td>\n",
       "      <td>1</td>\n",
       "      <td>0</td>\n",
       "      <td>3</td>\n",
       "      <td>0.0</td>\n",
       "      <td>OnOff</td>\n",
       "      <td>PSWITCHOFF</td>\n",
       "      <td>TPWCAL</td>\n",
       "    </tr>\n",
       "  </tbody>\n",
       "</table>\n",
       "<p>4 rows × 89 columns</p>\n",
       "</div>"
      ],
      "text/plain": [
       "    OBJECT     BANDWID                DATE-OBS  DURATION  EXPOSURE       TSYS  \\\n",
       "0  NGC2415  23437500.0  2021-02-10T07:38:37.50  0.998245  0.975875  17.458052   \n",
       "1  NGC2415  23437500.0  2021-02-10T07:38:37.50  0.998245  0.975875  17.458052   \n",
       "2  NGC2415  23437500.0  2021-02-10T07:43:51.50  0.998245  0.975875  17.240004   \n",
       "3  NGC2415  23437500.0  2021-02-10T07:43:51.50  0.998245  0.975875  17.240004   \n",
       "\n",
       "           TDIM7  TUNIT7    CTYPE1        CRVAL1  ...  FDNUM  INT NSAVE  HDU  \\\n",
       "0  (32768,1,1,1)  Counts  FREQ-OBS  1.402545e+09  ...      0    0    -1    1   \n",
       "1  (32768,1,1,1)  Counts  FREQ-OBS  1.402545e+09  ...      0    0    -1    1   \n",
       "2  (32768,1,1,1)  Counts  FREQ-OBS  1.402546e+09  ...      0    0    -1    1   \n",
       "3  (32768,1,1,1)  Counts  FREQ-OBS  1.402546e+09  ...      0    0    -1    1   \n",
       "\n",
       "  BINTABLE  ROW  FITSINDEX   PROC    _OBSTYPE  _SUBOBSMODE  \n",
       "0        0    0        0.0  OnOff   PSWITCHON       TPWCAL  \n",
       "1        0    1        0.0  OnOff   PSWITCHON       TPWCAL  \n",
       "2        0    2        0.0  OnOff  PSWITCHOFF       TPWCAL  \n",
       "3        0    3        0.0  OnOff  PSWITCHOFF       TPWCAL  \n",
       "\n",
       "[4 rows x 89 columns]"
      ]
     },
     "execution_count": 5,
     "metadata": {},
     "output_type": "execute_result"
    }
   ],
   "source": [
    "sdf.index(bintable=0)"
   ]
  },
  {
   "cell_type": "code",
   "execution_count": 14,
   "id": "fc936b0a",
   "metadata": {},
   "outputs": [
    {
     "data": {
      "text/plain": [
       "True"
      ]
     },
     "execution_count": 14,
     "metadata": {},
     "output_type": "execute_result"
    }
   ],
   "source": [
    "(sdf.summary(verbose=True)).shape == (4,17)"
   ]
  },
  {
   "cell_type": "code",
   "execution_count": 8,
   "id": "062d5c64",
   "metadata": {},
   "outputs": [
    {
     "data": {
      "text/html": [
       "<div>\n",
       "<style scoped>\n",
       "    .dataframe tbody tr th:only-of-type {\n",
       "        vertical-align: middle;\n",
       "    }\n",
       "\n",
       "    .dataframe tbody tr th {\n",
       "        vertical-align: top;\n",
       "    }\n",
       "\n",
       "    .dataframe thead th {\n",
       "        text-align: right;\n",
       "    }\n",
       "</style>\n",
       "<table border=\"1\" class=\"dataframe\">\n",
       "  <thead>\n",
       "    <tr style=\"text-align: right;\">\n",
       "      <th></th>\n",
       "      <th>SCAN</th>\n",
       "      <th>OBJECT</th>\n",
       "      <th>VELOCITY</th>\n",
       "      <th>PROC</th>\n",
       "      <th>PROCSEQN</th>\n",
       "      <th>PROCSIZE</th>\n",
       "      <th>RESTFREQ</th>\n",
       "      <th>DOPFREQ</th>\n",
       "      <th>IFNUM</th>\n",
       "      <th>FEED</th>\n",
       "      <th>AZIMUTH</th>\n",
       "      <th>ELEVATIO</th>\n",
       "      <th>FDNUM</th>\n",
       "      <th>PLNUM</th>\n",
       "      <th>SIG</th>\n",
       "      <th>CAL</th>\n",
       "      <th>DATE-OBS</th>\n",
       "    </tr>\n",
       "  </thead>\n",
       "  <tbody>\n",
       "    <tr>\n",
       "      <th>0</th>\n",
       "      <td>152</td>\n",
       "      <td>NGC2415</td>\n",
       "      <td>3784.0</td>\n",
       "      <td>OnOff</td>\n",
       "      <td>1</td>\n",
       "      <td>2</td>\n",
       "      <td>1.420406</td>\n",
       "      <td>1.420406</td>\n",
       "      <td>0</td>\n",
       "      <td>1</td>\n",
       "      <td>285.951496</td>\n",
       "      <td>42.100624</td>\n",
       "      <td>0</td>\n",
       "      <td>0</td>\n",
       "      <td>T</td>\n",
       "      <td>T</td>\n",
       "      <td>2021-02-10T07:38:37.50</td>\n",
       "    </tr>\n",
       "    <tr>\n",
       "      <th>1</th>\n",
       "      <td>152</td>\n",
       "      <td>NGC2415</td>\n",
       "      <td>3784.0</td>\n",
       "      <td>OnOff</td>\n",
       "      <td>1</td>\n",
       "      <td>2</td>\n",
       "      <td>1.420406</td>\n",
       "      <td>1.420406</td>\n",
       "      <td>0</td>\n",
       "      <td>1</td>\n",
       "      <td>285.951496</td>\n",
       "      <td>42.100624</td>\n",
       "      <td>0</td>\n",
       "      <td>0</td>\n",
       "      <td>T</td>\n",
       "      <td>F</td>\n",
       "      <td>2021-02-10T07:38:37.50</td>\n",
       "    </tr>\n",
       "    <tr>\n",
       "      <th>2</th>\n",
       "      <td>153</td>\n",
       "      <td>NGC2415</td>\n",
       "      <td>3784.0</td>\n",
       "      <td>OnOff</td>\n",
       "      <td>2</td>\n",
       "      <td>2</td>\n",
       "      <td>1.420406</td>\n",
       "      <td>1.420406</td>\n",
       "      <td>0</td>\n",
       "      <td>1</td>\n",
       "      <td>286.622527</td>\n",
       "      <td>41.584692</td>\n",
       "      <td>0</td>\n",
       "      <td>0</td>\n",
       "      <td>T</td>\n",
       "      <td>T</td>\n",
       "      <td>2021-02-10T07:43:51.50</td>\n",
       "    </tr>\n",
       "    <tr>\n",
       "      <th>3</th>\n",
       "      <td>153</td>\n",
       "      <td>NGC2415</td>\n",
       "      <td>3784.0</td>\n",
       "      <td>OnOff</td>\n",
       "      <td>2</td>\n",
       "      <td>2</td>\n",
       "      <td>1.420406</td>\n",
       "      <td>1.420406</td>\n",
       "      <td>0</td>\n",
       "      <td>1</td>\n",
       "      <td>286.622527</td>\n",
       "      <td>41.584692</td>\n",
       "      <td>0</td>\n",
       "      <td>0</td>\n",
       "      <td>T</td>\n",
       "      <td>F</td>\n",
       "      <td>2021-02-10T07:43:51.50</td>\n",
       "    </tr>\n",
       "  </tbody>\n",
       "</table>\n",
       "</div>"
      ],
      "text/plain": [
       "   SCAN   OBJECT  VELOCITY   PROC  PROCSEQN  PROCSIZE  RESTFREQ   DOPFREQ  \\\n",
       "0   152  NGC2415    3784.0  OnOff         1         2  1.420406  1.420406   \n",
       "1   152  NGC2415    3784.0  OnOff         1         2  1.420406  1.420406   \n",
       "2   153  NGC2415    3784.0  OnOff         2         2  1.420406  1.420406   \n",
       "3   153  NGC2415    3784.0  OnOff         2         2  1.420406  1.420406   \n",
       "\n",
       "   IFNUM  FEED     AZIMUTH   ELEVATIO  FDNUM  PLNUM SIG CAL  \\\n",
       "0      0     1  285.951496  42.100624      0      0   T   T   \n",
       "1      0     1  285.951496  42.100624      0      0   T   F   \n",
       "2      0     1  286.622527  41.584692      0      0   T   T   \n",
       "3      0     1  286.622527  41.584692      0      0   T   F   \n",
       "\n",
       "                 DATE-OBS  \n",
       "0  2021-02-10T07:38:37.50  \n",
       "1  2021-02-10T07:38:37.50  \n",
       "2  2021-02-10T07:43:51.50  \n",
       "3  2021-02-10T07:43:51.50  "
      ]
     },
     "execution_count": 8,
     "metadata": {},
     "output_type": "execute_result"
    }
   ],
   "source": [
    "sdf.summary(verbose=True)"
   ]
  },
  {
   "cell_type": "code",
   "execution_count": 12,
   "id": "d44b82c1",
   "metadata": {},
   "outputs": [
    {
     "data": {
      "text/plain": [
       "pandas.core.frame.DataFrame"
      ]
     },
     "execution_count": 12,
     "metadata": {},
     "output_type": "execute_result"
    }
   ],
   "source": [
    "type(sdf.summary())"
   ]
  },
  {
   "cell_type": "code",
   "execution_count": 13,
   "id": "84c8035a",
   "metadata": {},
   "outputs": [
    {
     "name": "stdout",
     "output_type": "stream",
     "text": [
      " SCAN  OBJECT VELOCITY  PROC  PROCSEQN  RESTFREQ   DOPFREQ # IF # POL # INT # FEED     AZIMUTH   ELEVATIO\n",
      "  152 NGC2415   3784.0 OnOff         1  1.420406  1.420406    1     1     1      1  285.951496  42.100624\n",
      "  153 NGC2415   3784.0 OnOff         2  1.420406  1.420406    1     1     1      1  286.622527  41.584692\n"
     ]
    }
   ],
   "source": [
    "sdf.summary(show_index=False)"
   ]
  },
  {
   "cell_type": "code",
   "execution_count": null,
   "id": "f7d68e6b",
   "metadata": {},
   "outputs": [],
   "source": []
  }
 ],
 "metadata": {
  "kernelspec": {
   "display_name": "Python (dysh)",
   "language": "python",
   "name": "dyshpy"
  },
  "language_info": {
   "codemirror_mode": {
    "name": "ipython",
    "version": 3
   },
   "file_extension": ".py",
   "mimetype": "text/x-python",
   "name": "python",
   "nbconvert_exporter": "python",
   "pygments_lexer": "ipython3",
   "version": "3.9.16"
  }
 },
 "nbformat": 4,
 "nbformat_minor": 5
}
