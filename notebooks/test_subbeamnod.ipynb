{
 "cells": [
  {
   "cell_type": "markdown",
   "id": "78f4da54-2716-4947-91a0-58d5ed81f660",
   "metadata": {},
   "source": [
    "My attempt at reproducing Dave's `snodka` function. Dave's function will be wrong when the atmosphere is changing faster than a scan."
   ]
  },
  {
   "cell_type": "code",
   "execution_count": 1,
   "id": "46687bc3-25af-4312-ab56-d96c887d202f",
   "metadata": {},
   "outputs": [],
   "source": [
    "%load_ext autoreload\n",
    "%autoreload 2\n",
    "%matplotlib widget"
   ]
  },
  {
   "cell_type": "code",
   "execution_count": null,
   "id": "3cb1dffc-45dd-4a98-9bc6-8e4ed0bf5283",
   "metadata": {},
   "outputs": [],
   "source": [
    "import numpy as np\n",
    "import matplotlib.pyplot as plt\n",
    "\n",
    "from astropy.io import fits\n",
    "\n",
    "from dysh.fits.gbtfitsload import GBTFITSLoad"
   ]
  },
  {
   "cell_type": "code",
   "execution_count": null,
   "id": "5f29e7ea-7e6e-43ba-8ed6-c2ccf71ce4c9",
   "metadata": {},
   "outputs": [],
   "source": [
    "def parse_query(query, op=\"and\"):\n",
    "    \"\"\" Takes a dictionary with keys as SDFITS columns\n",
    "    and whose values are a tuple with the condition and \n",
    "    the required value and concatenates them using the\n",
    "    `op` operator.\n",
    "    \"\"\"\n",
    "    q = \"\"\n",
    "    for i,(k,v) in enumerate(query.items()):\n",
    "        q += f\"{k} {v[0]} {v[1]} \"\n",
    "        if i < len(query) - 1:\n",
    "            q += f\"{op} \"\n",
    "    return q\n",
    "\n",
    "\n",
    "def select_rows(df, query, op=\"and\"):\n",
    "    \"\"\" Returns a list with the rows of a `pandas.DataFrame`\n",
    "    that fulfill the query.\n",
    "    See `parse_query` for details on how to define the query.\n",
    "    \"\"\"\n",
    "\n",
    "    q = parse_query(query, op=op)\n",
    "    return list(df.query(q).index)"
   ]
  },
  {
   "cell_type": "code",
   "execution_count": null,
   "id": "70800974-6d9f-4c54-92ca-47be8e2eb541",
   "metadata": {},
   "outputs": [],
   "source": [
    "path = \"/home/dysh/example_data/subbeamnod-Ka/\"\n",
    "sdf_file = f\"{path}/data/TRCO_230413_Ka.raw.vegas/TRCO_230413_Ka.raw.vegas.A.fits\""
   ]
  },
  {
   "cell_type": "code",
   "execution_count": null,
   "id": "8ba8aea8-b7f3-4443-b0ee-5b5a38298d82",
   "metadata": {},
   "outputs": [],
   "source": [
    "sdf = GBTFITSLoad(sdf_file)"
   ]
  },
  {
   "cell_type": "code",
   "execution_count": null,
   "id": "62ac6025-c775-4bae-a976-a2470e277aae",
   "metadata": {},
   "outputs": [],
   "source": [
    "# Define what we are calibrating.\n",
    "scan = 43\n",
    "ifnum = 0\n",
    "fdnum = 1 # Remember that Ka is special because its beams are switched! It is now fixed, yay!\n",
    "plnum = 0\n",
    "bintable = 0\n",
    "w = \"tsys\"\n",
    "docal = True\n",
    "\n",
    "# Select data.\n",
    "q = {\"SCAN\": (\"in\", f\"[{scan}]\"), \n",
    "     \"IFNUM\": (\"in\", f\"[{ifnum}]\"), \n",
    "     \"FDNUM\": (\"in\", f\"[{fdnum}]\"), \n",
    "     \"PLNUM\": (\"==\", plnum), \n",
    "     \"SUBREF_STATE\": (\"==\", -1)}\n",
    "sig_rows = select_rows(sdf._ptable[bintable], q)\n",
    "q = {\"SCAN\": (\"in\", f\"[{scan}]\"), \n",
    "     \"IFNUM\": (\"in\", f\"[{ifnum}]\"), \n",
    "     \"FDNUM\": (\"in\", f\"[{fdnum}]\"), \n",
    "     \"PLNUM\": (\"==\", plnum), \n",
    "     \"SUBREF_STATE\": (\"==\", 1)}\n",
    "ref_rows = select_rows(sdf._ptable[bintable], q)\n",
    "\n",
    "# Average.\n",
    "def time_average(table):\n",
    "    wt = np.empty(len(table), dtype='d')\n",
    "    wt[:] = table[\"EXPOSURE\"].astype('d')*abs(table[\"CDELT1\"]).astype('d')/table[\"TSYS\"].astype('d')\n",
    "    return np.average(table[\"DATA\"], axis=0, weights=wt)\n",
    "\n",
    "ref_avg = time_average(sdf._hdu[bintable+1].data[ref_rows])\n",
    "sig_avg = time_average(sdf._hdu[bintable+1].data[sig_rows])\n",
    "\n",
    "# Get TSYS.\n",
    "fulltp = sdf.gettp(scan,sig=None,cal=None,\n",
    "                    bintable=bintable,fdnum=fdnum,\n",
    "                    plnum=plnum,ifnum=ifnum,\n",
    "                    weight=w,calibrate=docal).timeaverage(weights=w)\n",
    "\n",
    "# Good old calibration.\n",
    "cal = (sig_avg - ref_avg)/ref_avg * fulltp.meta['TSYS']\n",
    "\n",
    "# Now we should make a new SDFITS row with the calibrated data \n",
    "# and the corresponding updated data and metadata."
   ]
  },
  {
   "cell_type": "code",
   "execution_count": null,
   "id": "2f220b33-c52f-4bf6-bcb9-338223fa2ed2",
   "metadata": {},
   "outputs": [],
   "source": [
    "# Open the result from GBTIDL.\n",
    "gbtidl_file = f\"{path}/outputs/snodka_scan_43_fdnum_1_plnum_0.fits\"\n",
    "hdu_ = fits.open(gbtidl_file)\n",
    "gbtidl_sbn = hdu_[1].data[\"DATA\"][0]"
   ]
  },
  {
   "cell_type": "code",
   "execution_count": null,
   "id": "fe19cf4b-b5e1-4a1b-9ac2-044eebc2d13d",
   "metadata": {},
   "outputs": [],
   "source": [
    "# Compare.\n",
    "diff = cal - gbtidl_sbn\n",
    "print(f\"Mean diff: {np.nanmean(diff)}\")\n",
    "print(f\"Median diff: {np.nanmedian(diff)}\")\n",
    "\n",
    "# Allways look at it.\n",
    "plt.figure()\n",
    "plt.subplot(211)\n",
    "plt.plot(cal, label=\"dysh\")\n",
    "plt.plot(gbtidl_sbn, alpha=0.5, label=\"GBTIDL\")\n",
    "plt.legend()\n",
    "plt.ylabel(\"Antenna temperature (K)\")\n",
    "plt.xlabel(\"Channel number\")\n",
    "plt.subplot(212)\n",
    "plt.plot(cal - gbtidl_sbn, c='k')\n",
    "plt.ylabel(\"Difference (K)\")\n",
    "plt.xlabel(\"Channel number\");"
   ]
  },
  {
   "cell_type": "code",
   "execution_count": null,
   "id": "ef52bfd4-5a7c-4afd-8b0f-4da2bc4e4eea",
   "metadata": {},
   "outputs": [],
   "source": []
  }
 ],
 "metadata": {
  "kernelspec": {
   "display_name": "Python 3 (ipykernel)",
   "language": "python",
   "name": "python3"
  },
  "language_info": {
   "codemirror_mode": {
    "name": "ipython",
    "version": 3
   },
   "file_extension": ".py",
   "mimetype": "text/x-python",
   "name": "python",
   "nbconvert_exporter": "python",
   "pygments_lexer": "ipython3",
   "version": "3.11.4"
  }
 },
 "nbformat": 4,
 "nbformat_minor": 5
}
