{
 "cells": [
  {
   "cell_type": "code",
   "execution_count": 3,
   "id": "33dc10af-604c-4f14-9711-df5ad136f764",
   "metadata": {},
   "outputs": [],
   "source": [
    "from dysh.spectra.spectrum import Spectrum\n",
    "import numpy as np\n",
    "from scipy.stats import norm\n",
    "import astropy.units as u\n",
    "import matplotlib.pyplot as plt\n",
    "from dysh.fits.sdfitsload import SDFITSLoad\n",
    "from dysh.fits.gbtfitsload import GBTFITSLoad\n",
    "from dysh.spectra.scan import PSScan, GBTPSScan\n",
    "import pandas\n",
    "from copy import deepcopy\n",
    "pandas.set_option('display.max_rows', 100)\n",
    "from astropy.modeling.fitting import LevMarLSQFitter,LinearLSQFitter\n",
    "from specutils import Spectrum1D, SpectrumList,SpectralRegion\n",
    "from astropy.nddata import StdDevUncertainty\n",
    "from specutils.fitting import fit_continuum\n",
    "import matplotlib.pyplot as plt\n",
    "from dysh.spectra import dcmeantsys,region_to_axis_indices\n",
    "from dysh.plot.specplot import SpectrumPlot\n",
    "from astropy.io import fits\n",
    "from astropy.table import Table\n",
    "import pandas as pd\n",
    "#%matplotlib notebook"
   ]
  },
  {
   "cell_type": "markdown",
   "id": "ce64f394-52d0-4773-9a2f-28e03480e88c",
   "metadata": {},
   "source": [
    "# 1. Create a gaussian spectrum with noise, compute the baseline, remove it, then add the baseline back in"
   ]
  },
  {
   "cell_type": "markdown",
   "id": "816bd368-c9d6-4ec5-bbb4-d900b6eab33c",
   "metadata": {},
   "source": [
    "### First, create the spectrum"
   ]
  },
  {
   "cell_type": "code",
   "execution_count": null,
   "id": "48470d02",
   "metadata": {},
   "outputs": [],
   "source": [
    "npts = 1000\n",
    "x = np.arange(npts)\n",
    "restfreq = 110.20137*u.GHz\n",
    "cdelt1=10*u.kHz\n",
    "xfreq = restfreq+(x-npts//2)*cdelt1\n",
    "y = 3.14+ np.random.rand(npts)+1000*norm(loc=npts/2,scale=50).pdf(x)\n",
    "header={\n",
    "'CDELT1': cdelt1.to('Hz').value, \n",
    "'CRVAL1': xfreq[0].to('Hz').value,\n",
    "'CUNIT1': 'Hz',\n",
    "'CTYPE1': 'FREQ', 'CRPIX1': 1, 'RESTFRQ': restfreq.value, \n",
    "'CTYPE2': 'RA--SIN', 'CRVAL2': 221.34, 'CRPIX2': 1,\n",
    "'CTYPE3': 'DEC--SIN', 'CRVAL3': -12.13, 'CRPIX3': 1,\n",
    "'CUNIT2': 'deg', 'CUNIT3':'deg',\n",
    "'NAXIS1': len(x), 'NAXIS2':1, 'NAXIS3':1,\n",
    "'OBJECT':\"NGC 3421\"\n",
    "}\n",
    "\n",
    "s = Spectrum(flux=y*u.K,spectral_axis=xfreq, rest_value = restfreq, meta=header,\n",
    "             velocity_convention='radio',radial_velocity=25*u.Unit('km/s'))\n",
    "s.velocity"
   ]
  },
  {
   "cell_type": "code",
   "execution_count": null,
   "id": "f0efd8bd-8ba4-4685-aa2b-ec8f7d610246",
   "metadata": {},
   "outputs": [],
   "source": [
    "s.write('/tmp/spec.fits',overwrite=True)\n",
    "#hdu=fits.open('/tmp/spec.fits')\n",
    "from astropy.nddata import CCDData\n",
    "s.write.list_formats()\n",
    "from specutils.io.registers import identify_spectrum_format\n",
    "identify_spectrum_format('/tmp/spec.fits')"
   ]
  },
  {
   "cell_type": "code",
   "execution_count": null,
   "id": "3ea1ae62-ba4e-4a2f-9e29-c7051ec7c1f8",
   "metadata": {},
   "outputs": [],
   "source": [
    "s.uncertainty=StdDevUncertainty(np.random.rand(npts))"
   ]
  },
  {
   "cell_type": "code",
   "execution_count": null,
   "id": "87335175-b71d-4ced-b3f2-836fb9302ded",
   "metadata": {},
   "outputs": [],
   "source": [
    "s.write('/tmp/spec.txt',format='ipac',overwrite=True)"
   ]
  },
  {
   "cell_type": "markdown",
   "id": "c609f7fa-3e49-46c6-b2e5-f306e15bff4e",
   "metadata": {},
   "source": [
    "### Plot it with SpectrumPlot"
   ]
  },
  {
   "cell_type": "code",
   "execution_count": null,
   "id": "00161dbd-107b-43f5-bd19-f7547501d02e",
   "metadata": {},
   "outputs": [],
   "source": [
    "p = SpectrumPlot(s)\n",
    "p.plot(grid=True)"
   ]
  },
  {
   "cell_type": "code",
   "execution_count": null,
   "id": "8941dfc8-31fc-4049-9bb3-24a909f2cdea",
   "metadata": {},
   "outputs": [],
   "source": [
    "if False:  # testing how to indicate baseline exclude region with a line under the x axis\n",
    "    p.plot(color='green',grid=True,xaxis_unit=\"channel\",clip_on=False)\n",
    "    #p.axis.set_clip_on(False)\n",
    "    xr = p.axis.get_xlim()\n",
    "    yr = p.axis.get_xlim()\n",
    "    transx = p.axis.get_xaxis_transform()\n",
    "    transy = p.axis.get_yaxis_transform()\n",
    "    p.axis.plot(xr,[-0.02,-0.02], color=\"orange\", transform=transx, clip_on=False,lw=1.2)\n",
    "    #p.axis.axhline(y=2,color='orange')"
   ]
  },
  {
   "cell_type": "markdown",
   "id": "2faf3864-ffed-46f9-b331-f2dcbde42f1c",
   "metadata": {},
   "source": [
    "### Note plot attributes are sticky, e.g. the grid stays on until you turn it off\n",
    "Is this a good feature?  Would be useful for a standalone plot that stays up between plot updates."
   ]
  },
  {
   "cell_type": "code",
   "execution_count": null,
   "id": "4e3ee793-fb88-49d2-b385-20724e5f60f1",
   "metadata": {},
   "outputs": [],
   "source": [
    "p.plot(color='gray',xaxis_unit=\"km/s\")"
   ]
  },
  {
   "cell_type": "code",
   "execution_count": null,
   "id": "8a97b0bd-28cf-45f3-a56b-fe1f4281dc55",
   "metadata": {},
   "outputs": [],
   "source": [
    "p.plot(xaxis_unit=\"mm\",yaxis_unit=\"mK\")\n",
    "# Haha it should say wavelength not frequency"
   ]
  },
  {
   "cell_type": "markdown",
   "id": "0e4cc2d8-80dc-403c-a085-c27484e3be9e",
   "metadata": {},
   "source": [
    "### Reset arguments to defaults"
   ]
  },
  {
   "cell_type": "code",
   "execution_count": null,
   "id": "7cc86049-c18d-4fa1-b365-6da1b0a0ce74",
   "metadata": {},
   "outputs": [],
   "source": [
    "p.reset()\n",
    "p.plot()"
   ]
  },
  {
   "cell_type": "markdown",
   "id": "e8beb219-53b1-4143-a78e-e0b9984564db",
   "metadata": {},
   "source": [
    "### You can also plot directly from the Spectrum"
   ]
  },
  {
   "cell_type": "code",
   "execution_count": null,
   "id": "22c9f5ed-6fac-4ab1-9aae-1f6b194b3ecc",
   "metadata": {},
   "outputs": [],
   "source": [
    "s.plot(color='green',grid=True,xaxis_unit=\"channel\")"
   ]
  },
  {
   "cell_type": "markdown",
   "id": "71e52a4c-497d-4d13-b004-2db6852fb49f",
   "metadata": {},
   "source": [
    "----------------------"
   ]
  },
  {
   "cell_type": "markdown",
   "id": "b04f36ea-5b15-4f76-b75f-463da94dd1ee",
   "metadata": {},
   "source": [
    "## Baseline subtraction\n"
   ]
  },
  {
   "cell_type": "markdown",
   "id": "5217d57a-bdeb-4167-980b-dbcf8ed47886",
   "metadata": {},
   "source": [
    "### Use channels for the exclude region. Compute the baseline, exclude channels 300 to 700, don't remove it.\n",
    "The red line shows the computed baseline\n",
    "Note that since exclude_action is not set, the exclude region attribute on the spectrum itself will not be set.\n",
    "Attempting to show baseline exlcusion range with orange line.  Seems shifted -- is it radial_velocity?"
   ]
  },
  {
   "cell_type": "code",
   "execution_count": null,
   "id": "b6452f19-e724-414a-9d67-48e2232ac679",
   "metadata": {},
   "outputs": [],
   "source": [
    "s._plotter=None\n",
    "s._undo_baseline()\n",
    "s.baseline(1,exclude=[300,700],remove=False)#,exclude_action='replace')\n",
    "s.plot()\n",
    "print(s.exclude_regions)\n",
    "idx = region_to_axis_indices(s.exclude_regions[0],s)\n",
    "print(idx)\n",
    "s.bshow()\n",
    "s.plotter.axis.plot(s.spectral_axis,s._baseline_model(s.spectral_axis),color='r')\n",
    "transx = p.axis.get_xaxis_transform()\n",
    "xr1 =(s.spectral_axis[0].value,s.spectral_axis[idx[0]].value)\n",
    "print(\"XLIM \",s.plotter.axis.get_xlim())\n",
    "print(xr1)\n",
    "xr2 =(s.spectral_axis[idx[1]].value,s.spectral_axis[-1].value)\n",
    "print(xr2)\n",
    "s.plotter.axis.plot(xr1,[-0.02,-0.02], color=\"orange\", transform=transx, clip_on=False,lw=1.2)\n",
    "s.plotter.axis.plot(xr2,[-0.02,-0.02], color=\"orange\", transform=transx, clip_on=False,lw=1.2)\n",
    "#ax.plot(s.spectral_axis,s._baseline_model(s.exclude_regions),color='g')\n",
    "#ax.axvline(x=110.201,ymin=0,ymax=12,color='k',lw=4)"
   ]
  },
  {
   "cell_type": "markdown",
   "id": "56fea1e9-6e6f-4c54-91fc-4d9390b43cfd",
   "metadata": {},
   "source": [
    "## test using exclude outside spectral axis\n",
    "first should warn, second should except\n"
   ]
  },
  {
   "cell_type": "code",
   "execution_count": null,
   "id": "1ff92eb1-2320-4dea-9e9f-f760f639fe89",
   "metadata": {},
   "outputs": [],
   "source": [
    "s.baseline(1,exclude=[300,6700],remove=False,fix_exclude=True)\n",
    "s.baseline(1,exclude=[300,6700],remove=False)"
   ]
  },
  {
   "cell_type": "markdown",
   "id": "674264d3-a1ff-4b2b-ab03-c5696ef4452f",
   "metadata": {},
   "source": [
    "## Use a frequency Quantity for the exclude region\n",
    "Try presetting a spectral exclude region and replace it or not."
   ]
  },
  {
   "cell_type": "code",
   "execution_count": null,
   "id": "5a706457-b37e-4258-a654-8ffe45eef8cf",
   "metadata": {},
   "outputs": [],
   "source": [
    "s._exclude_regions = [SpectralRegion(110.199*u.GHz,110.2037*u.GHz)]\n",
    "s.baseline(degree=0,remove=False)\n",
    "s.bshow()\n",
    "s.baseline(degree=1,remove=True,exclude=[110.198*u.GHz,110.204*u.GHz],exclude_action='replace')\n",
    "s.plot(color='black',xaxis_unit=\"km/s\")\n",
    "s.bshow()\n",
    "# haha should say \"Velocity\""
   ]
  },
  {
   "cell_type": "code",
   "execution_count": null,
   "id": "8b394e7d-639b-4178-9714-4693c1217910",
   "metadata": {},
   "outputs": [],
   "source": [
    "# this should except\n",
    "s.baseline(1,exclude=[110.199*u.GHz,210.2037*u.GHz],remove=False)"
   ]
  },
  {
   "cell_type": "code",
   "execution_count": null,
   "id": "a3a38c10-d973-4527-b3c5-40df1c156e12",
   "metadata": {},
   "outputs": [],
   "source": [
    "s._undo_baseline()\n",
    "kms = u.Unit(\"km/s\")\n",
    "s.baseline(2,exclude=[19.559188*kms,30.4408*kms],remove=False)\n",
    "s.plot()\n",
    "s.plotter.axis.plot(s.spectral_axis,s._baseline_model(s.spectral_axis),color='r')"
   ]
  },
  {
   "cell_type": "markdown",
   "id": "f816acab-c22d-4500-a50a-f561499624c3",
   "metadata": {},
   "source": [
    "### print some statistics [mean, rms, min, max], show the baseline model function"
   ]
  },
  {
   "cell_type": "code",
   "execution_count": null,
   "id": "72aa0887-8307-4697-b0f1-17084f432a8c",
   "metadata": {},
   "outputs": [],
   "source": [
    "print(s.stats())\n",
    "s.bshow()"
   ]
  },
  {
   "cell_type": "markdown",
   "id": "b969bed1-899e-45ee-ab2c-26b91d817fb1",
   "metadata": {},
   "source": [
    "### now do again it and remove the baseline"
   ]
  },
  {
   "cell_type": "code",
   "execution_count": null,
   "id": "5313009c-71d9-4733-b437-b270c787d666",
   "metadata": {},
   "outputs": [],
   "source": [
    "### undo the baseline removal.  Stats shows it has been added back in and the spectrum is restored"
   ]
  },
  {
   "cell_type": "code",
   "execution_count": null,
   "id": "e35cc786-7be4-47a4-a4a6-d6ff14c04876",
   "metadata": {},
   "outputs": [],
   "source": [
    "s._undo_baseline()\n",
    "print(s.stats())\n",
    "s.bshow()\n"
   ]
  },
  {
   "cell_type": "code",
   "execution_count": 2,
   "id": "bba77bf2-963c-491d-9300-88655c2eab29",
   "metadata": {},
   "outputs": [
    {
     "ename": "FileNotFoundError",
     "evalue": "[Errno 2] No such file or directory: '/home/mpound/src/dysh/src/dysh/fits/tests/data/TGBT21A_501_11_ifnum_0_int_0-2.fits'",
     "output_type": "error",
     "traceback": [
      "\u001b[0;31m---------------------------------------------------------------------------\u001b[0m",
      "\u001b[0;31mFileNotFoundError\u001b[0m                         Traceback (most recent call last)",
      "Cell \u001b[0;32mIn[2], line 4\u001b[0m\n\u001b[1;32m      2\u001b[0m \u001b[38;5;66;03m# Assuming you are in the dysh root dir.\u001b[39;00m\n\u001b[1;32m      3\u001b[0m sdf_file \u001b[38;5;241m=\u001b[39m \u001b[38;5;124m\"\u001b[39m\u001b[38;5;124m/home/mpound/src/dysh/src/dysh/fits/tests/data/TGBT21A_501_11_ifnum_0_int_0-2.fits\u001b[39m\u001b[38;5;124m\"\u001b[39m\n\u001b[0;32m----> 4\u001b[0m sdf \u001b[38;5;241m=\u001b[39m \u001b[43mGBTFITSLoad\u001b[49m\u001b[43m(\u001b[49m\u001b[43msdf_file\u001b[49m\u001b[43m)\u001b[49m\n\u001b[1;32m      5\u001b[0m psscan \u001b[38;5;241m=\u001b[39m sdf\u001b[38;5;241m.\u001b[39mgetps(\u001b[38;5;241m152\u001b[39m, plnum\u001b[38;5;241m=\u001b[39m\u001b[38;5;241m0\u001b[39m)\n\u001b[1;32m      6\u001b[0m psscan\u001b[38;5;241m.\u001b[39mcalibrate()\n",
      "File \u001b[0;32m~/src/dysh/src/dysh/fits/gbtfitsload.py:27\u001b[0m, in \u001b[0;36mGBTFITSLoad.__init__\u001b[0;34m(self, filename, source, hdu, **kwargs)\u001b[0m\n\u001b[1;32m     26\u001b[0m \u001b[38;5;28;01mdef\u001b[39;00m \u001b[38;5;21m__init__\u001b[39m(\u001b[38;5;28mself\u001b[39m, filename, source\u001b[38;5;241m=\u001b[39m\u001b[38;5;28;01mNone\u001b[39;00m,hdu\u001b[38;5;241m=\u001b[39m\u001b[38;5;28;01mNone\u001b[39;00m,\u001b[38;5;241m*\u001b[39m\u001b[38;5;241m*\u001b[39mkwargs):\n\u001b[0;32m---> 27\u001b[0m     \u001b[43mSDFITSLoad\u001b[49m\u001b[38;5;241;43m.\u001b[39;49m\u001b[38;5;21;43m__init__\u001b[39;49m\u001b[43m(\u001b[49m\u001b[38;5;28;43mself\u001b[39;49m\u001b[43m,\u001b[49m\u001b[43mfilename\u001b[49m\u001b[43m,\u001b[49m\u001b[43msource\u001b[49m\u001b[43m,\u001b[49m\u001b[43mhdu\u001b[49m\u001b[43m)\u001b[49m\u001b[38;5;66;03m#,fix=False)\u001b[39;00m\n\u001b[1;32m     29\u001b[0m     \u001b[38;5;28mself\u001b[39m\u001b[38;5;241m.\u001b[39m_compute_proc()\n\u001b[1;32m     30\u001b[0m     \u001b[38;5;28;01mif\u001b[39;00m kwargs\u001b[38;5;241m.\u001b[39mget(\u001b[38;5;124m\"\u001b[39m\u001b[38;5;124mverbose\u001b[39m\u001b[38;5;124m\"\u001b[39m,\u001b[38;5;28;01mNone\u001b[39;00m):\n",
      "File \u001b[0;32m~/src/dysh/src/dysh/fits/sdfitsload.py:48\u001b[0m, in \u001b[0;36mSDFITSLoad.__init__\u001b[0;34m(self, filename, source, hdu, **kwargs)\u001b[0m\n\u001b[1;32m     46\u001b[0m \u001b[38;5;28mself\u001b[39m\u001b[38;5;241m.\u001b[39m_binheader \u001b[38;5;241m=\u001b[39m []\n\u001b[1;32m     47\u001b[0m \u001b[38;5;28mself\u001b[39m\u001b[38;5;241m.\u001b[39m_data \u001b[38;5;241m=\u001b[39m []\n\u001b[0;32m---> 48\u001b[0m \u001b[38;5;28mself\u001b[39m\u001b[38;5;241m.\u001b[39m_hdu \u001b[38;5;241m=\u001b[39m \u001b[43mfits\u001b[49m\u001b[38;5;241;43m.\u001b[39;49m\u001b[43mopen\u001b[49m\u001b[43m(\u001b[49m\u001b[43mfilename\u001b[49m\u001b[43m)\u001b[49m  \n\u001b[1;32m     49\u001b[0m \u001b[38;5;28mself\u001b[39m\u001b[38;5;241m.\u001b[39m_header \u001b[38;5;241m=\u001b[39m \u001b[38;5;28mself\u001b[39m\u001b[38;5;241m.\u001b[39m_hdu[\u001b[38;5;241m0\u001b[39m]\u001b[38;5;241m.\u001b[39mheader\n\u001b[1;32m     50\u001b[0m \u001b[38;5;28mself\u001b[39m\u001b[38;5;241m.\u001b[39mload(hdu,\u001b[38;5;241m*\u001b[39m\u001b[38;5;241m*\u001b[39mkwargs_opts)\n",
      "File \u001b[0;32m~/Anaconda3-2023.03/lib/python3.10/site-packages/astropy/io/fits/hdu/hdulist.py:214\u001b[0m, in \u001b[0;36mfitsopen\u001b[0;34m(name, mode, memmap, save_backup, cache, lazy_load_hdus, ignore_missing_simple, use_fsspec, fsspec_kwargs, **kwargs)\u001b[0m\n\u001b[1;32m    211\u001b[0m \u001b[38;5;28;01mif\u001b[39;00m \u001b[38;5;129;01mnot\u001b[39;00m name:\n\u001b[1;32m    212\u001b[0m     \u001b[38;5;28;01mraise\u001b[39;00m \u001b[38;5;167;01mValueError\u001b[39;00m(\u001b[38;5;124mf\u001b[39m\u001b[38;5;124m\"\u001b[39m\u001b[38;5;124mEmpty filename: \u001b[39m\u001b[38;5;132;01m{\u001b[39;00mname\u001b[38;5;132;01m!r}\u001b[39;00m\u001b[38;5;124m\"\u001b[39m)\n\u001b[0;32m--> 214\u001b[0m \u001b[38;5;28;01mreturn\u001b[39;00m \u001b[43mHDUList\u001b[49m\u001b[38;5;241;43m.\u001b[39;49m\u001b[43mfromfile\u001b[49m\u001b[43m(\u001b[49m\n\u001b[1;32m    215\u001b[0m \u001b[43m    \u001b[49m\u001b[43mname\u001b[49m\u001b[43m,\u001b[49m\n\u001b[1;32m    216\u001b[0m \u001b[43m    \u001b[49m\u001b[43mmode\u001b[49m\u001b[43m,\u001b[49m\n\u001b[1;32m    217\u001b[0m \u001b[43m    \u001b[49m\u001b[43mmemmap\u001b[49m\u001b[43m,\u001b[49m\n\u001b[1;32m    218\u001b[0m \u001b[43m    \u001b[49m\u001b[43msave_backup\u001b[49m\u001b[43m,\u001b[49m\n\u001b[1;32m    219\u001b[0m \u001b[43m    \u001b[49m\u001b[43mcache\u001b[49m\u001b[43m,\u001b[49m\n\u001b[1;32m    220\u001b[0m \u001b[43m    \u001b[49m\u001b[43mlazy_load_hdus\u001b[49m\u001b[43m,\u001b[49m\n\u001b[1;32m    221\u001b[0m \u001b[43m    \u001b[49m\u001b[43mignore_missing_simple\u001b[49m\u001b[43m,\u001b[49m\n\u001b[1;32m    222\u001b[0m \u001b[43m    \u001b[49m\u001b[43muse_fsspec\u001b[49m\u001b[38;5;241;43m=\u001b[39;49m\u001b[43muse_fsspec\u001b[49m\u001b[43m,\u001b[49m\n\u001b[1;32m    223\u001b[0m \u001b[43m    \u001b[49m\u001b[43mfsspec_kwargs\u001b[49m\u001b[38;5;241;43m=\u001b[39;49m\u001b[43mfsspec_kwargs\u001b[49m\u001b[43m,\u001b[49m\n\u001b[1;32m    224\u001b[0m \u001b[43m    \u001b[49m\u001b[38;5;241;43m*\u001b[39;49m\u001b[38;5;241;43m*\u001b[39;49m\u001b[43mkwargs\u001b[49m\u001b[43m,\u001b[49m\n\u001b[1;32m    225\u001b[0m \u001b[43m\u001b[49m\u001b[43m)\u001b[49m\n",
      "File \u001b[0;32m~/Anaconda3-2023.03/lib/python3.10/site-packages/astropy/io/fits/hdu/hdulist.py:482\u001b[0m, in \u001b[0;36mHDUList.fromfile\u001b[0;34m(cls, fileobj, mode, memmap, save_backup, cache, lazy_load_hdus, ignore_missing_simple, **kwargs)\u001b[0m\n\u001b[1;32m    462\u001b[0m \u001b[38;5;129m@classmethod\u001b[39m\n\u001b[1;32m    463\u001b[0m \u001b[38;5;28;01mdef\u001b[39;00m \u001b[38;5;21mfromfile\u001b[39m(\n\u001b[1;32m    464\u001b[0m     \u001b[38;5;28mcls\u001b[39m,\n\u001b[0;32m   (...)\u001b[0m\n\u001b[1;32m    472\u001b[0m     \u001b[38;5;241m*\u001b[39m\u001b[38;5;241m*\u001b[39mkwargs,\n\u001b[1;32m    473\u001b[0m ):\n\u001b[1;32m    474\u001b[0m \u001b[38;5;250m    \u001b[39m\u001b[38;5;124;03m\"\"\"\u001b[39;00m\n\u001b[1;32m    475\u001b[0m \u001b[38;5;124;03m    Creates an `HDUList` instance from a file-like object.\u001b[39;00m\n\u001b[1;32m    476\u001b[0m \n\u001b[0;32m   (...)\u001b[0m\n\u001b[1;32m    479\u001b[0m \u001b[38;5;124;03m    documentation for details of the parameters accepted by this method).\u001b[39;00m\n\u001b[1;32m    480\u001b[0m \u001b[38;5;124;03m    \"\"\"\u001b[39;00m\n\u001b[0;32m--> 482\u001b[0m     \u001b[38;5;28;01mreturn\u001b[39;00m \u001b[38;5;28;43mcls\u001b[39;49m\u001b[38;5;241;43m.\u001b[39;49m\u001b[43m_readfrom\u001b[49m\u001b[43m(\u001b[49m\n\u001b[1;32m    483\u001b[0m \u001b[43m        \u001b[49m\u001b[43mfileobj\u001b[49m\u001b[38;5;241;43m=\u001b[39;49m\u001b[43mfileobj\u001b[49m\u001b[43m,\u001b[49m\n\u001b[1;32m    484\u001b[0m \u001b[43m        \u001b[49m\u001b[43mmode\u001b[49m\u001b[38;5;241;43m=\u001b[39;49m\u001b[43mmode\u001b[49m\u001b[43m,\u001b[49m\n\u001b[1;32m    485\u001b[0m \u001b[43m        \u001b[49m\u001b[43mmemmap\u001b[49m\u001b[38;5;241;43m=\u001b[39;49m\u001b[43mmemmap\u001b[49m\u001b[43m,\u001b[49m\n\u001b[1;32m    486\u001b[0m \u001b[43m        \u001b[49m\u001b[43msave_backup\u001b[49m\u001b[38;5;241;43m=\u001b[39;49m\u001b[43msave_backup\u001b[49m\u001b[43m,\u001b[49m\n\u001b[1;32m    487\u001b[0m \u001b[43m        \u001b[49m\u001b[43mcache\u001b[49m\u001b[38;5;241;43m=\u001b[39;49m\u001b[43mcache\u001b[49m\u001b[43m,\u001b[49m\n\u001b[1;32m    488\u001b[0m \u001b[43m        \u001b[49m\u001b[43mignore_missing_simple\u001b[49m\u001b[38;5;241;43m=\u001b[39;49m\u001b[43mignore_missing_simple\u001b[49m\u001b[43m,\u001b[49m\n\u001b[1;32m    489\u001b[0m \u001b[43m        \u001b[49m\u001b[43mlazy_load_hdus\u001b[49m\u001b[38;5;241;43m=\u001b[39;49m\u001b[43mlazy_load_hdus\u001b[49m\u001b[43m,\u001b[49m\n\u001b[1;32m    490\u001b[0m \u001b[43m        \u001b[49m\u001b[38;5;241;43m*\u001b[39;49m\u001b[38;5;241;43m*\u001b[39;49m\u001b[43mkwargs\u001b[49m\u001b[43m,\u001b[49m\n\u001b[1;32m    491\u001b[0m \u001b[43m    \u001b[49m\u001b[43m)\u001b[49m\n",
      "File \u001b[0;32m~/Anaconda3-2023.03/lib/python3.10/site-packages/astropy/io/fits/hdu/hdulist.py:1170\u001b[0m, in \u001b[0;36mHDUList._readfrom\u001b[0;34m(cls, fileobj, data, mode, memmap, cache, lazy_load_hdus, ignore_missing_simple, use_fsspec, fsspec_kwargs, **kwargs)\u001b[0m\n\u001b[1;32m   1167\u001b[0m \u001b[38;5;28;01mif\u001b[39;00m fileobj \u001b[38;5;129;01mis\u001b[39;00m \u001b[38;5;129;01mnot\u001b[39;00m \u001b[38;5;28;01mNone\u001b[39;00m:\n\u001b[1;32m   1168\u001b[0m     \u001b[38;5;28;01mif\u001b[39;00m \u001b[38;5;129;01mnot\u001b[39;00m \u001b[38;5;28misinstance\u001b[39m(fileobj, _File):\n\u001b[1;32m   1169\u001b[0m         \u001b[38;5;66;03m# instantiate a FITS file object (ffo)\u001b[39;00m\n\u001b[0;32m-> 1170\u001b[0m         fileobj \u001b[38;5;241m=\u001b[39m \u001b[43m_File\u001b[49m\u001b[43m(\u001b[49m\n\u001b[1;32m   1171\u001b[0m \u001b[43m            \u001b[49m\u001b[43mfileobj\u001b[49m\u001b[43m,\u001b[49m\n\u001b[1;32m   1172\u001b[0m \u001b[43m            \u001b[49m\u001b[43mmode\u001b[49m\u001b[38;5;241;43m=\u001b[39;49m\u001b[43mmode\u001b[49m\u001b[43m,\u001b[49m\n\u001b[1;32m   1173\u001b[0m \u001b[43m            \u001b[49m\u001b[43mmemmap\u001b[49m\u001b[38;5;241;43m=\u001b[39;49m\u001b[43mmemmap\u001b[49m\u001b[43m,\u001b[49m\n\u001b[1;32m   1174\u001b[0m \u001b[43m            \u001b[49m\u001b[43mcache\u001b[49m\u001b[38;5;241;43m=\u001b[39;49m\u001b[43mcache\u001b[49m\u001b[43m,\u001b[49m\n\u001b[1;32m   1175\u001b[0m \u001b[43m            \u001b[49m\u001b[43muse_fsspec\u001b[49m\u001b[38;5;241;43m=\u001b[39;49m\u001b[43muse_fsspec\u001b[49m\u001b[43m,\u001b[49m\n\u001b[1;32m   1176\u001b[0m \u001b[43m            \u001b[49m\u001b[43mfsspec_kwargs\u001b[49m\u001b[38;5;241;43m=\u001b[39;49m\u001b[43mfsspec_kwargs\u001b[49m\u001b[43m,\u001b[49m\n\u001b[1;32m   1177\u001b[0m \u001b[43m        \u001b[49m\u001b[43m)\u001b[49m\n\u001b[1;32m   1178\u001b[0m     \u001b[38;5;66;03m# The Astropy mode is determined by the _File initializer if the\u001b[39;00m\n\u001b[1;32m   1179\u001b[0m     \u001b[38;5;66;03m# supplied mode was None\u001b[39;00m\n\u001b[1;32m   1180\u001b[0m     mode \u001b[38;5;241m=\u001b[39m fileobj\u001b[38;5;241m.\u001b[39mmode\n",
      "File \u001b[0;32m~/Anaconda3-2023.03/lib/python3.10/site-packages/astropy/io/fits/file.py:218\u001b[0m, in \u001b[0;36m_File.__init__\u001b[0;34m(self, fileobj, mode, memmap, overwrite, cache, use_fsspec, fsspec_kwargs)\u001b[0m\n\u001b[1;32m    216\u001b[0m     \u001b[38;5;28mself\u001b[39m\u001b[38;5;241m.\u001b[39m_open_fileobj(fileobj, mode, overwrite)\n\u001b[1;32m    217\u001b[0m \u001b[38;5;28;01melif\u001b[39;00m \u001b[38;5;28misinstance\u001b[39m(fileobj, (\u001b[38;5;28mstr\u001b[39m, \u001b[38;5;28mbytes\u001b[39m)):\n\u001b[0;32m--> 218\u001b[0m     \u001b[38;5;28;43mself\u001b[39;49m\u001b[38;5;241;43m.\u001b[39;49m\u001b[43m_open_filename\u001b[49m\u001b[43m(\u001b[49m\u001b[43mfileobj\u001b[49m\u001b[43m,\u001b[49m\u001b[43m \u001b[49m\u001b[43mmode\u001b[49m\u001b[43m,\u001b[49m\u001b[43m \u001b[49m\u001b[43moverwrite\u001b[49m\u001b[43m)\u001b[49m\n\u001b[1;32m    219\u001b[0m \u001b[38;5;28;01melse\u001b[39;00m:\n\u001b[1;32m    220\u001b[0m     \u001b[38;5;28mself\u001b[39m\u001b[38;5;241m.\u001b[39m_open_filelike(fileobj, mode, overwrite)\n",
      "File \u001b[0;32m~/Anaconda3-2023.03/lib/python3.10/site-packages/astropy/io/fits/file.py:636\u001b[0m, in \u001b[0;36m_File._open_filename\u001b[0;34m(self, filename, mode, overwrite)\u001b[0m\n\u001b[1;32m    633\u001b[0m ext \u001b[38;5;241m=\u001b[39m os\u001b[38;5;241m.\u001b[39mpath\u001b[38;5;241m.\u001b[39msplitext(\u001b[38;5;28mself\u001b[39m\u001b[38;5;241m.\u001b[39mname)[\u001b[38;5;241m1\u001b[39m]\n\u001b[1;32m    635\u001b[0m \u001b[38;5;28;01mif\u001b[39;00m \u001b[38;5;129;01mnot\u001b[39;00m \u001b[38;5;28mself\u001b[39m\u001b[38;5;241m.\u001b[39m_try_read_compressed(\u001b[38;5;28mself\u001b[39m\u001b[38;5;241m.\u001b[39mname, magic, mode, ext\u001b[38;5;241m=\u001b[39mext):\n\u001b[0;32m--> 636\u001b[0m     \u001b[38;5;28mself\u001b[39m\u001b[38;5;241m.\u001b[39m_file \u001b[38;5;241m=\u001b[39m \u001b[38;5;28;43mopen\u001b[39;49m\u001b[43m(\u001b[49m\u001b[38;5;28;43mself\u001b[39;49m\u001b[38;5;241;43m.\u001b[39;49m\u001b[43mname\u001b[49m\u001b[43m,\u001b[49m\u001b[43m \u001b[49m\u001b[43mIO_FITS_MODES\u001b[49m\u001b[43m[\u001b[49m\u001b[43mmode\u001b[49m\u001b[43m]\u001b[49m\u001b[43m)\u001b[49m\n\u001b[1;32m    637\u001b[0m     \u001b[38;5;28mself\u001b[39m\u001b[38;5;241m.\u001b[39mclose_on_error \u001b[38;5;241m=\u001b[39m \u001b[38;5;28;01mTrue\u001b[39;00m\n\u001b[1;32m    639\u001b[0m \u001b[38;5;66;03m# Make certain we're back at the beginning of the file\u001b[39;00m\n\u001b[1;32m    640\u001b[0m \u001b[38;5;66;03m# BZ2File does not support seek when the file is open for writing, but\u001b[39;00m\n\u001b[1;32m    641\u001b[0m \u001b[38;5;66;03m# when opening a file for write, bz2.BZ2File always truncates anyway.\u001b[39;00m\n",
      "\u001b[0;31mFileNotFoundError\u001b[0m: [Errno 2] No such file or directory: '/home/mpound/src/dysh/src/dysh/fits/tests/data/TGBT21A_501_11_ifnum_0_int_0-2.fits'"
     ]
    }
   ],
   "source": [
    "from dysh.fits.gbtfitsload import GBTFITSLoad\n",
    "# Assuming you are in the dysh root dir.\n",
    "sdf_file = \"/home/mpound/src/dysh/src/dysh/fits/tests/data/TGBT21A_501_11_ifnum_0_int_0-2.fits\"\n",
    "sdf = GBTFITSLoad(sdf_file)\n",
    "psscan = sdf.getps(152, plnum=0)\n",
    "psscan.calibrate()\n",
    "psscan.tsys\n",
    "#>>> array([17.17140405, 17.3474724 , 17.0515161 ])\n",
    "# The above should be:\n",
    "#>>> array([17.24000345, 17.17140405, 17.15663698])"
   ]
  },
  {
   "cell_type": "code",
   "execution_count": 4,
   "id": "7df303f3-d8c9-4426-acdb-c2ae3d3008ed",
   "metadata": {},
   "outputs": [
    {
     "name": "stderr",
     "output_type": "stream",
     "text": [
      "WARNING: UnitsWarning: 'mmHg' did not parse as fits unit: At col 0, Unit 'mmHg' not supported by the FITS standard.  If this is meant to be a custom unit, define it with 'u.def_unit'. To have it recognized inside a file reader or other code, enable it with 'u.add_enabled_units'. For details, see https://docs.astropy.org/en/latest/units/combining_and_defining.html [astropy.units.core]\n",
      "WARNING: UnitsWarning: 'UTC' did not parse as fits unit: At col 0, Unit 'UTC' not supported by the FITS standard. Did you mean TC, uC or uT? If this is meant to be a custom unit, define it with 'u.def_unit'. To have it recognized inside a file reader or other code, enable it with 'u.add_enabled_units'. For details, see https://docs.astropy.org/en/latest/units/combining_and_defining.html [astropy.units.core]\n"
     ]
    }
   ],
   "source": [
    "datadir = '/data/gbt'\n",
    "#f = datadir + '/examples/misc/ngc5291.fits'\n",
    "f = datadir + '/examples/onoff-L/data/TGBT21A_501_11.raw.vegas.fits'\n",
    "#f = datadir + 'examples/nod-KFPA/data/TGBT22A_503_02.raw.vegas/TGBT22A_503_02.raw.vegas.A.fits'\n",
    "#f = datadir + '/examples/mixed-fs-ps/data/AGBT16B_225_05/AGBT16B_225_05.raw.vegas/AGBT16B_225_05.raw.vegas.A.fits'\n",
    "p = GBTFITSLoad(f)"
   ]
  },
  {
   "cell_type": "code",
   "execution_count": 6,
   "id": "468b61da-d2c6-453e-b362-adc3d04f5bfd",
   "metadata": {},
   "outputs": [
    {
     "name": "stdout",
     "output_type": "stream",
     "text": [
      "PSSCAN nrows = 302\n"
     ]
    },
    {
     "data": {
      "text/plain": [
       "array([17.24000345, 17.17140405, 17.15663698, 16.85934981, 17.35722692,\n",
       "       17.13173653, 17.21543606, 17.30092163, 17.00566475, 16.96166605,\n",
       "       16.90800304, 17.25126367, 16.95205031, 17.07164545, 17.31209165,\n",
       "       17.24198654, 17.23042795, 17.23062501, 17.22081776, 17.1646568 ,\n",
       "       17.10683608, 17.06225591, 17.00860262, 16.95643422, 16.86738768,\n",
       "       17.24130516, 17.23751937, 17.08227286, 17.39648505, 17.25251959,\n",
       "       17.07859948, 17.07804021, 17.17861759, 17.24824253, 17.24999249,\n",
       "       16.90474598, 16.96176874, 17.00971976, 17.08731873, 17.0157204 ,\n",
       "       17.18919643, 17.00773527, 17.22850453, 17.12418577, 17.33776924,\n",
       "       16.96650514, 17.35763214, 17.11744129, 17.39144335, 17.39013886,\n",
       "       17.05785951, 17.19779633, 17.23384321, 17.30106595, 17.30310179,\n",
       "       17.24598466, 17.0762514 , 16.90833193, 17.10749943, 17.27291816,\n",
       "       17.28188999, 16.98815547, 17.00188728, 17.13296885, 17.07062684,\n",
       "       17.27227147, 17.30230105, 17.07988731, 16.8963695 , 17.10115462,\n",
       "       17.18760468, 17.16464015, 17.29588825, 17.25903786, 17.16600708,\n",
       "       17.04040714, 17.07394496, 16.89430175, 17.13808133, 17.44551158,\n",
       "       17.05329519, 17.28725087, 17.02030554, 17.02958544, 17.14531014,\n",
       "       17.32092608, 17.09868303, 17.02123811, 17.03143115, 17.08342331,\n",
       "       17.43130655, 17.17314707, 17.21208047, 17.11114505, 17.30436464,\n",
       "       17.28797112, 17.15330359, 17.24970106, 17.09432272, 17.25600979,\n",
       "       17.2269322 , 17.22181139, 17.08098641, 17.33565846, 17.28431994,\n",
       "       17.06138441, 17.3780446 , 17.2074093 , 17.07532854, 17.19198165,\n",
       "       17.24677568, 17.22095793, 17.06350489, 17.1256554 , 17.00926041,\n",
       "       17.04833398, 17.23487431, 17.29640449, 17.36660674, 17.27849415,\n",
       "       17.08236445, 17.39750783, 17.19545103, 17.31240667, 17.29084654,\n",
       "       17.28540794, 17.15619567, 17.01254939, 17.30877353, 17.08853856,\n",
       "       17.12556797, 17.31823384, 17.31299369, 17.18567848, 16.98684127,\n",
       "       17.25194228, 17.00244377, 17.20882619, 17.28783651, 17.24161463,\n",
       "       17.03756502, 17.49824896, 17.2428872 , 17.07728528, 17.27883971,\n",
       "       17.13643268, 17.10771592, 17.35315941, 17.20938268, 17.16584333,\n",
       "       17.19150843])"
      ]
     },
     "execution_count": 6,
     "metadata": {},
     "output_type": "execute_result"
    }
   ],
   "source": [
    "psscan = p.getps(152, plnum=0)\n",
    "psscan.calibrate()\n",
    "psscan.tsys"
   ]
  },
  {
   "cell_type": "code",
   "execution_count": null,
   "id": "9ec75402-bba6-4b93-a903-fb6850a991f7",
   "metadata": {},
   "outputs": [],
   "source": []
  }
 ],
 "metadata": {
  "kernelspec": {
   "display_name": "Python 3 (ipykernel)",
   "language": "python",
   "name": "python3"
  },
  "language_info": {
   "codemirror_mode": {
    "name": "ipython",
    "version": 3
   },
   "file_extension": ".py",
   "mimetype": "text/x-python",
   "name": "python",
   "nbconvert_exporter": "python",
   "pygments_lexer": "ipython3",
   "version": "3.10.9"
  }
 },
 "nbformat": 4,
 "nbformat_minor": 5
}
