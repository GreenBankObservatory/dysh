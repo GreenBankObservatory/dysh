{
 "cells": [
  {
   "cell_type": "code",
   "execution_count": 2,
   "id": "33dc10af-604c-4f14-9711-df5ad136f764",
   "metadata": {},
   "outputs": [
    {
     "ename": "SyntaxError",
     "evalue": "':' expected after dictionary key (gbtfitsload.py, line 140)",
     "output_type": "error",
     "traceback": [
      "Traceback \u001b[0;36m(most recent call last)\u001b[0m:\n",
      "\u001b[0m  File \u001b[1;32m~/Anaconda3-2023.03/lib/python3.10/site-packages/IPython/core/interactiveshell.py:3460\u001b[0m in \u001b[1;35mrun_code\u001b[0m\n    exec(code_obj, self.user_global_ns, self.user_ns)\u001b[0m\n",
      "\u001b[0;36m  Cell \u001b[0;32mIn[2], line 7\u001b[0;36m\n\u001b[0;31m    from dysh.fits.gbtfitsload import GBTFITSLoad,sonoff\u001b[0;36m\n",
      "\u001b[0;36m  File \u001b[0;32m~/src/dysh/src/dysh/fits/gbtfitsload.py:140\u001b[0;36m\u001b[0m\n\u001b[0;31m    'weights', None,\u001b[0m\n\u001b[0m            ^\u001b[0m\n\u001b[0;31mSyntaxError\u001b[0m\u001b[0;31m:\u001b[0m ':' expected after dictionary key\n"
     ]
    }
   ],
   "source": [
    "from dysh.spectra.spectrum import Spectrum\n",
    "import numpy as np\n",
    "from scipy.stats import norm\n",
    "import astropy.units as u\n",
    "import matplotlib.pyplot as plt\n",
    "from dysh.fits.sdfitsload import SDFITSLoad\n",
    "from dysh.fits.gbtfitsload import GBTFITSLoad,sonoff\n",
    "from dysh.spectra.scan import PSScan, GBTPSScan\n",
    "import pandas\n",
    "from copy import deepcopy\n",
    "pandas.set_option('display.max_rows', 100)\n",
    "from astropy.modeling.fitting import LevMarLSQFitter,LinearLSQFitter\n",
    "from specutils import Spectrum1D, SpectrumList,SpectralRegion\n",
    "from specutils.fitting import fit_continuum\n",
    "import matplotlib.pyplot as plt\n",
    "from dysh.spectra import dcmeantsys\n"
   ]
  },
  {
   "cell_type": "markdown",
   "id": "ce64f394-52d0-4773-9a2f-28e03480e88c",
   "metadata": {},
   "source": [
    "### Create a gaussian spectrum with noise, compute the baseline, remove it, then add the baseline back in"
   ]
  },
  {
   "cell_type": "code",
   "execution_count": null,
   "id": "f72f40c7-8036-42bb-aeb6-89ff31cf1315",
   "metadata": {},
   "outputs": [],
   "source": [
    "npts = 1000\n",
    "x = np.arange(npts)\n",
    "#print(x)\n",
    "y = 3.1415927+np.random.rand(npts)+1000*norm(loc=npts/2,scale=50).pdf(x)\n",
    "#y=1000*norm(loc=npts/2,scale=100).pdf(x)\n",
    "s = Spectrum(flux=y*u.K,spectral_axis=x*u.um,velocity_convention='doppler_radio',radial_velocity=25*u.Unit('km/s'))\n",
    "#print(y)\n",
    "#s._spectral_axis.unit"
   ]
  },
  {
   "cell_type": "markdown",
   "id": "5217d57a-bdeb-4167-980b-dbcf8ed47886",
   "metadata": {},
   "source": [
    "### compute the baseline, exclude channels 300 to 700, don't remove it."
   ]
  },
  {
   "cell_type": "code",
   "execution_count": null,
   "id": "b6452f19-e724-414a-9d67-48e2232ac679",
   "metadata": {},
   "outputs": [],
   "source": [
    "fig,ax=plt.subplots()\n",
    "ax.plot(s.spectral_axis,s.flux)\n",
    "s.baseline(1,exclude=[300,700],remove=False)\n",
    "ax.plot(s.spectral_axis,s._baseline_model(s.spectral_axis),color='r')"
   ]
  },
  {
   "cell_type": "markdown",
   "id": "f816acab-c22d-4500-a50a-f561499624c3",
   "metadata": {},
   "source": [
    "### print some statistics, show the baseline model function"
   ]
  },
  {
   "cell_type": "code",
   "execution_count": null,
   "id": "72aa0887-8307-4697-b0f1-17084f432a8c",
   "metadata": {},
   "outputs": [],
   "source": [
    "print(s.stats())\n",
    "s.bshow()"
   ]
  },
  {
   "cell_type": "markdown",
   "id": "b969bed1-899e-45ee-ab2c-26b91d817fb1",
   "metadata": {},
   "source": [
    "### now do it and remove the baseline"
   ]
  },
  {
   "cell_type": "code",
   "execution_count": null,
   "id": "9633d126-1e17-4152-bc57-15831e5e113e",
   "metadata": {},
   "outputs": [],
   "source": [
    "s = Spectrum(flux=y*u.K,spectral_axis=x*u.um,velocity_convention='doppler_radio',radial_velocity=25*u.Unit('km/s'))\n",
    "s.baseline(1,exclude=[300,700],remove=True)\n",
    "fig,ax=plt.subplots()\n",
    "ax.plot(s.spectral_axis,s.flux)\n",
    "print(s.stats())\n",
    "s.bshow()"
   ]
  },
  {
   "cell_type": "code",
   "execution_count": null,
   "id": "5313009c-71d9-4733-b437-b270c787d666",
   "metadata": {},
   "outputs": [],
   "source": [
    "### undo the baseline removal.  Stats shows it has been added back in and the spectrum is restored"
   ]
  },
  {
   "cell_type": "code",
   "execution_count": null,
   "id": "e35cc786-7be4-47a4-a4a6-d6ff14c04876",
   "metadata": {},
   "outputs": [],
   "source": [
    "s._undo_baseline()\n",
    "print(s.stats())\n",
    "s.bshow()\n"
   ]
  },
  {
   "cell_type": "code",
   "execution_count": null,
   "id": "4b0df155-ab44-48a7-8655-2532e051d901",
   "metadata": {},
   "outputs": [],
   "source": [
    "f = '/data/gbt/examples/misc/ngc5291.fits'\n",
    "f = '/data/gbt/examples/onoff-L/data/TGBT21A_501_11.raw.vegas.fits'\n",
    "#f = '/data/gbt/examples/nod-KFPA/data/TGBT22A_503_02.raw.vegas/TGBT22A_503_02.raw.vegas.A.fits'\n",
    "p = GBTFITSLoad(f)"
   ]
  },
  {
   "cell_type": "code",
   "execution_count": null,
   "id": "7ca6d006-b60d-4199-a909-8ba44c648552",
   "metadata": {},
   "outputs": [],
   "source": [
    "p.summary()[0]"
   ]
  },
  {
   "cell_type": "code",
   "execution_count": null,
   "id": "9d44ac48-9120-48d3-a432-157b2c0f6be8",
   "metadata": {},
   "outputs": [],
   "source": [
    "p._hdu[1].header['TUNIT11']\n"
   ]
  },
  {
   "cell_type": "code",
   "execution_count": null,
   "id": "d5785409-c749-4df7-a73f-4dcbf65212e9",
   "metadata": {},
   "outputs": [],
   "source": [
    "columns = [\"SCAN\",\"PROC\",\"PROCSEQN\",\"IFNUM\",\"PLNUM\",\"SIG\",\"CAL\",\"TSYS\",\"TCAL\", \"OBSMODE\",\"FDNUM\"]\n",
    "df = p._ptable[0]\n",
    "df.columns\n",
    "df[df.columns & columns]#[0:50]\n",
    "#df[(df['SIG'] == 'F') & (df['CAL']=='T')][(df.columns & columns)]"
   ]
  },
  {
   "cell_type": "code",
   "execution_count": null,
   "id": "90197789-7ada-4ccd-89c7-e57e8dc61d7e",
   "metadata": {},
   "outputs": [],
   "source": [
    "df = p._ptable[0]\n",
    "df = df[(df['CAL'] == 'T') & (df['_OBSTYPE'] == \"PSWITCHON\")]\n",
    "df[df[\"SCAN\"].isin([152])].index"
   ]
  },
  {
   "cell_type": "code",
   "execution_count": null,
   "id": "55a11cbf-00fb-4fe4-a9f1-14276b4ffc20",
   "metadata": {},
   "outputs": [],
   "source": [
    "df = p._ptable[0]\n",
    "df=df[df[\"SCAN\"].isin([152])]\n",
    "df=p.select(\"CAL\",\"T\",df)\n",
    "df.index"
   ]
  },
  {
   "cell_type": "code",
   "execution_count": null,
   "id": "1a62e22b-332c-4112-b02f-f7f62c60bd86",
   "metadata": {},
   "outputs": [],
   "source": [
    "cr= p.calonoff_rows([152,153])\n",
    "cr[\"ON\"][-1],cr[\"OFF\"][-1]"
   ]
  },
  {
   "cell_type": "code",
   "execution_count": null,
   "id": "610d6c4d-54fc-4f56-beb5-10eb3d848781",
   "metadata": {},
   "outputs": [],
   "source": [
    "psscan = p.getps(152)"
   ]
  },
  {
   "cell_type": "code",
   "execution_count": null,
   "id": "de023f21-2f5c-4466-b55a-f3c5ff351e61",
   "metadata": {},
   "outputs": [],
   "source": [
    "psscan.calibrate()"
   ]
  },
  {
   "cell_type": "code",
   "execution_count": null,
   "id": "35764215-5cf3-4b61-9955-41f324e06f8f",
   "metadata": {},
   "outputs": [],
   "source": [
    "psscan._calibrated[0]"
   ]
  },
  {
   "cell_type": "code",
   "execution_count": null,
   "id": "78639ed9-1899-4a54-b451-56bd29a350d5",
   "metadata": {},
   "outputs": [],
   "source": [
    "flx = np.mean(psscan._calibrated[np.arange(0,len(psscan._calibrated),4)])\n",
    "fig,ax = plt.subplots()\n",
    "ax.set_ylim([-4,4])\n",
    "ax.plot(psscan.calibrated(0).spectral_axis,flx)\n",
    "all(psscan.calibrated(0).spectral_axis==psscan.calibrated(3).spectral_axis),all(psscan.calibrated(4).spectral_axis==psscan.calibrated(7).spectral_axis)"
   ]
  },
  {
   "cell_type": "code",
   "execution_count": null,
   "id": "4b7446a8-a455-4a78-b8fb-7f318fba399d",
   "metadata": {},
   "outputs": [],
   "source": [
    "fig,ax = plt.subplots()\n",
    "ax.set_ylim([-4,4])\n",
    "ax.plot(psscan.calibrated(0).spectral_axis,psscan.calibrated(0).flux)\n",
    "psscan.calibrated(500).spectral_axis,psscan.calibrated(75).spectral_axis"
   ]
  },
  {
   "cell_type": "code",
   "execution_count": null,
   "id": "32d6bb9c-eead-4db0-b7e1-7a6ba171ad94",
   "metadata": {},
   "outputs": [],
   "source": [
    "avg = Spectrum(spectral_axis=psscan.calibrated(0).spectral_axis,flux=np.mean(psscan._calibrated)*u.K)\n",
    "fig,ax=plt.subplots()\n",
    "ax.plot(avg.spectral_axis,avg.flux)\n",
    "print(np.mean(psscan.tsys))"
   ]
  },
  {
   "cell_type": "code",
   "execution_count": null,
   "id": "930f1d34-f799-4452-9b18-06be3d9df9a8",
   "metadata": {},
   "outputs": [],
   "source": [
    "len(psscan._calibrated)"
   ]
  },
  {
   "cell_type": "code",
   "execution_count": null,
   "id": "b24a1ad3-f497-4c4d-8641-fa09ca97fdf8",
   "metadata": {},
   "outputs": [],
   "source": [
    "df = p._ptable[0]\n",
    "len(p.select('OBJECT','NGC2415',p._ptable[0]))//p.npol(0)"
   ]
  },
  {
   "cell_type": "code",
   "execution_count": null,
   "id": "c38dfbf4-9332-44d4-95be-23225a5a8939",
   "metadata": {},
   "outputs": [],
   "source": [
    "p.index(0).iloc[psscan._scanrows[\"OFF\"]][\"CAL\"]"
   ]
  },
  {
   "cell_type": "code",
   "execution_count": null,
   "id": "cb7d1dfc-31ff-4abc-b0fb-e2280dd18f4c",
   "metadata": {},
   "outputs": [],
   "source": [
    "psscan.calibrate()"
   ]
  },
  {
   "cell_type": "code",
   "execution_count": null,
   "id": "545083db-790c-4ded-89eb-4821fb0e1bbd",
   "metadata": {},
   "outputs": [],
   "source": [
    "df = p._ptable[0]\n",
    "scans = [152,153]\n",
    "df2=df[df[\"SCAN\"].isin([152])]\n",
    "df3=df[df[\"SCAN\"].isin([153])]\n",
    "df4=df[df[\"SCAN\"].isin([156])]\n",
    "un = df2.index.union(df3.index)\n",
    "un2=df2.index\n",
    "un3=df3.index\n",
    "df[\"SCAN\"].iloc[un2]\n",
    "df3.reindex(un2).index"
   ]
  },
  {
   "cell_type": "code",
   "execution_count": null,
   "id": "ffe31e4e-fa2f-435e-8b48-c545df2beb33",
   "metadata": {},
   "outputs": [],
   "source": [
    "on = [152,154,156]\n",
    "off = [153,155,157]\n",
    "scans = [152,155]\n",
    "onrequested = set(on).intersection(scans)\n",
    "offrequested = set(off).intersection(scans)\n",
    "sons = list(onrequested.copy())\n",
    "soffs = list(offrequested.copy())\n",
    "missingoff = []\n",
    "missingon = []\n",
    "setoff = set(off)\n",
    "seton = set(on)\n",
    "for i in onrequested:\n",
    "    expectedoff = i+1\n",
    "    if len(setoff.intersection([expectedoff])) == 0:\n",
    "        missingoff.append(expectedoff)\n",
    "    else:\n",
    "        soffs.append(expectedoff)\n",
    "for i in offrequested:\n",
    "    expectedon = i-1\n",
    "    if len(seton.intersection([expectedon])) == 0:\n",
    "        missingon.append(expectedon)\n",
    "    else:\n",
    "        sons.append(expectedon)\n",
    "if len(missingoff) > 0:\n",
    "    raise ValueError(f\"For the requested ON scans {onrequested}, the OFF scans {missingoff} were not present in bintable {bintable}\")\n",
    "if len(missingon) > 0:\n",
    "    raise ValueError(f\"For the requested OFF scans {offrequested}, the ON scans {missingon} were not present in bintable {bintable}\")\n",
    "print(\"ON\",sorted(sons))\n",
    "print(\"OFF\",sorted(soffs))"
   ]
  },
  {
   "cell_type": "code",
   "execution_count": null,
   "id": "3cd32864-2081-406e-a14e-e4483136842b",
   "metadata": {},
   "outputs": [],
   "source": [
    "scanlist=p.onoff_scan_list()\n",
    "print(scanlist)\n",
    "#scanlist = p.onoff_scan_list([152])\n",
    "#print(scanlist)\n",
    "scanlist = p.onoff_scan_list([153])\n",
    "print(scanlist)\n",
    "scanlist = p.onoff_scan_list([152,153])\n",
    "print(scanlist)\n",
    "scanlist = p.onoff_scan_list(152)\n",
    "print(scanlist)"
   ]
  },
  {
   "cell_type": "code",
   "execution_count": null,
   "id": "efe7ba31-2218-4917-9ade-6d6ecb4a2347",
   "metadata": {},
   "outputs": [],
   "source": [
    "print(sonoff(p.index(0)[\"SCAN\"],p.index(0)[\"PROCSEQN\"]))\n",
    "myscans = set(sorted([153,155]))\n",
    "scanlist=p.onoff_scan_list()\n",
    "print(scanlist)\n",
    "allscans = set(sorted(scanlist[\"ON\"]+scanlist[\"OFF\"]+[1,2,3,4,5]))\n",
    "print(allscans)\n",
    "z=allscans.intersection(myscans)\n",
    "zz =allscans.difference(myscans)\n",
    "zzz=myscans.difference(allscans)\n",
    "print(z,zz,zzz)"
   ]
  },
  {
   "cell_type": "code",
   "execution_count": null,
   "id": "13f88a4c-07e3-4c07-b331-c41cab973b44",
   "metadata": {},
   "outputs": [],
   "source": [
    "psscan = p.getps(scans=[152])"
   ]
  },
  {
   "cell_type": "code",
   "execution_count": null,
   "id": "e8e4fb51-f536-4def-be44-797e61629240",
   "metadata": {},
   "outputs": [],
   "source": [
    "df = p._ptable[0]\n",
    "rows=list(df[df[\"SCAN\"].isin(scans[\"ON\"])].index)\n",
    "df"
   ]
  },
  {
   "cell_type": "code",
   "execution_count": null,
   "id": "cb751350-f340-48af-8688-6400a5cdbc34",
   "metadata": {},
   "outputs": [],
   "source": [
    "rows=p.onoff_rows()\n",
    "rows"
   ]
  },
  {
   "cell_type": "code",
   "execution_count": null,
   "id": "b032052c-27a1-4298-99c8-a3ef7b273a62",
   "metadata": {},
   "outputs": [],
   "source": [
    "show = [\"SCAN\", \"PROCSEQN\", \"PROCSIZE\", \"_OBSTYPE\"]\n",
    "df=df[df.columns & show]\n",
    "df[df[\"_OBSTYPE\"]==\"PSWITCHOFF\"]"
   ]
  },
  {
   "cell_type": "code",
   "execution_count": null,
   "id": "b9bd0e0c-effa-41c0-a434-3f862ddb7a09",
   "metadata": {},
   "outputs": [],
   "source": [
    "dict(p._ptable[0].iloc[0])"
   ]
  },
  {
   "cell_type": "code",
   "execution_count": null,
   "id": "0e431431-e505-49ab-9147-27e891800aa3",
   "metadata": {},
   "outputs": [],
   "source": [
    "df[\"RESTFREQ\"]/=1E9\n",
    "df[\"RESTFREQ\"]"
   ]
  },
  {
   "cell_type": "code",
   "execution_count": null,
   "id": "23f0bffb-e693-437e-a1b8-177d98b894b8",
   "metadata": {},
   "outputs": [],
   "source": [
    "show = [\"SCAN\", \"OBJECT\", \"OBSMODE\", \"VELOCITY\", \"PROCSCAN\", \"PROCSEQN\", \"PROCTYPE\", \"PROCSIZE\", \"RESTFREQ\", \"IFNUM\",\"FEED\", \"AZIMUTH\", \"ELEVATIO\", \"FDNUM\"] \n",
    "scan = [60,61]\n",
    "_df = df[df.columns & show].reindex(columns=show)"
   ]
  },
  {
   "cell_type": "code",
   "execution_count": null,
   "id": "7f3ab993-bd5a-4a4a-8eee-8ebd3fc9ba05",
   "metadata": {},
   "outputs": [],
   "source": [
    "_df[\"OBSMODE\"].str.split(':',expand=True)"
   ]
  },
  {
   "cell_type": "code",
   "execution_count": null,
   "id": "9734e259-6e83-4c45-9f36-d39a54d580a3",
   "metadata": {},
   "outputs": [],
   "source": [
    "\n",
    "_df[(_df[\"SCAN\"]>=scan[0]) & ( _df[\"SCAN\"] <= scan[1])]"
   ]
  },
  {
   "cell_type": "code",
   "execution_count": null,
   "id": "9481a149-c1db-47e9-9c75-74724cda933b",
   "metadata": {},
   "outputs": [],
   "source": [
    "df[\"SCAN\"]"
   ]
  },
  {
   "cell_type": "code",
   "execution_count": null,
   "id": "0c7574bf-7d6f-4fd9-bae1-ebb5efc6b029",
   "metadata": {},
   "outputs": [],
   "source": [
    "df['PROCTYPE']"
   ]
  },
  {
   "cell_type": "code",
   "execution_count": null,
   "id": "59b6be1e-29f2-4c70-bfc4-9b830c3a1d41",
   "metadata": {},
   "outputs": [],
   "source": []
  },
  {
   "cell_type": "code",
   "execution_count": null,
   "id": "43ca5580-f9d8-4cfc-a957-f91194f547a0",
   "metadata": {},
   "outputs": [],
   "source": []
  },
  {
   "cell_type": "code",
   "execution_count": null,
   "id": "2dddf8b5-d361-4bef-998b-1473071d1960",
   "metadata": {},
   "outputs": [],
   "source": []
  }
 ],
 "metadata": {
  "kernelspec": {
   "display_name": "Python 3 (ipykernel)",
   "language": "python",
   "name": "python3"
  },
  "language_info": {
   "codemirror_mode": {
    "name": "ipython",
    "version": 3
   },
   "file_extension": ".py",
   "mimetype": "text/x-python",
   "name": "python",
   "nbconvert_exporter": "python",
   "pygments_lexer": "ipython3",
   "version": "3.10.9"
  }
 },
 "nbformat": 4,
 "nbformat_minor": 5
}
