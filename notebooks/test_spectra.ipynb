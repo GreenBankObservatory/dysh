{
 "cells": [
  {
   "cell_type": "code",
   "execution_count": 2,
   "id": "33dc10af-604c-4f14-9711-df5ad136f764",
   "metadata": {},
   "outputs": [],
   "source": [
    "from dysh.spectra.spectrum import Spectrum\n",
    "import numpy as np\n",
    "from scipy.stats import norm\n",
    "import astropy.units as u\n",
    "import matplotlib.pyplot as plt\n",
    "from dysh.fits.sdfitsload import SDFITSLoad\n",
    "from dysh.fits.gbtfitsload import GBTFITSLoad\n",
    "from dysh.spectra.scan import PSScan, GBTPSScan\n",
    "import pandas\n",
    "from copy import deepcopy\n",
    "pandas.set_option('display.max_rows', 100)\n",
    "from astropy.modeling.fitting import LevMarLSQFitter,LinearLSQFitter\n",
    "from specutils import Spectrum1D, SpectrumList,SpectralRegion\n",
    "from astropy.nddata import StdDevUncertainty\n",
    "from specutils.fitting import fit_continuum\n",
    "import matplotlib.pyplot as plt\n",
    "from dysh.spectra import dcmeantsys\n",
    "from dysh.plot.specplot import SpectrumPlot\n",
    "from astropy.io import fits\n",
    "from astropy.table import Table\n",
    "#%matplotlib notebook"
   ]
  },
  {
   "cell_type": "markdown",
   "id": "ce64f394-52d0-4773-9a2f-28e03480e88c",
   "metadata": {},
   "source": [
    "# 1. Create a gaussian spectrum with noise, compute the baseline, remove it, then add the baseline back in"
   ]
  },
  {
   "cell_type": "markdown",
   "id": "816bd368-c9d6-4ec5-bbb4-d900b6eab33c",
   "metadata": {},
   "source": [
    "### First, create the spectrum"
   ]
  },
  {
   "cell_type": "code",
   "execution_count": null,
   "id": "48470d02",
   "metadata": {},
   "outputs": [],
   "source": [
    "npts = 1000\n",
    "x = np.arange(npts)\n",
    "restfreq = 110.20137*u.GHz\n",
    "xfreq = restfreq+(x-npts//2)*10*u.kHz\n",
    "y = 3.14+ np.random.rand(npts)+1000*norm(loc=npts/2,scale=50).pdf(x)\n",
    "s = Spectrum(flux=y*u.K,spectral_axis=xfreq, rest_value = restfreq,\n",
    "             velocity_convention='radio',radial_velocity=25*u.Unit('km/s'))\n",
    "s.velocity"
   ]
  },
  {
   "cell_type": "code",
   "execution_count": null,
   "id": "f0efd8bd-8ba4-4685-aa2b-ec8f7d610246",
   "metadata": {},
   "outputs": [],
   "source": [
    "s.write('/tmp/spec.fits',overwrite=True)\n",
    "#hdu=fits.open('/tmp/spec.fits')\n",
    "from astropy.nddata import CCDData\n",
    "s.write.list_formats()\n",
    "from specutils.io.registers import identify_spectrum_format\n",
    "identify_spectrum_format('/tmp/spec.fits')"
   ]
  },
  {
   "cell_type": "code",
   "execution_count": null,
   "id": "5fef52de-1eb4-43f5-8455-72fbfcf52aaa",
   "metadata": {},
   "outputs": [],
   "source": [
    "Table.write.help('ascii')"
   ]
  },
  {
   "cell_type": "code",
   "execution_count": null,
   "id": "3ea1ae62-ba4e-4a2f-9e29-c7051ec7c1f8",
   "metadata": {},
   "outputs": [],
   "source": [
    "s.uncertainty=StdDevUncertainty(np.random.rand(npts))"
   ]
  },
  {
   "cell_type": "code",
   "execution_count": null,
   "id": "87335175-b71d-4ced-b3f2-836fb9302ded",
   "metadata": {},
   "outputs": [],
   "source": [
    "s.write('/tmp/spec.txt',format='ipac',overwrite=True)"
   ]
  },
  {
   "cell_type": "markdown",
   "id": "c609f7fa-3e49-46c6-b2e5-f306e15bff4e",
   "metadata": {},
   "source": [
    "### Plot it with SpectrumPlot"
   ]
  },
  {
   "cell_type": "code",
   "execution_count": null,
   "id": "00161dbd-107b-43f5-bd19-f7547501d02e",
   "metadata": {},
   "outputs": [],
   "source": [
    "p = SpectrumPlot(s)\n",
    "#s.spectral_axis.doppler_rest,s.spectral_axis.doppler_convention,s.unit==u.K"
   ]
  },
  {
   "cell_type": "code",
   "execution_count": null,
   "id": "8941dfc8-31fc-4049-9bb3-24a909f2cdea",
   "metadata": {},
   "outputs": [],
   "source": [
    "p.plot(color='green',grid=True,xaxis_unit=\"channel\")"
   ]
  },
  {
   "cell_type": "code",
   "execution_count": null,
   "id": "4e3ee793-fb88-49d2-b385-20724e5f60f1",
   "metadata": {},
   "outputs": [],
   "source": [
    "p.plot(color='gray',grid=True,xaxis_unit=\"km/s\")"
   ]
  },
  {
   "cell_type": "code",
   "execution_count": null,
   "id": "8a97b0bd-28cf-45f3-a56b-fe1f4281dc55",
   "metadata": {},
   "outputs": [],
   "source": [
    "p.plot(xaxis_unit=\"mm\",yaxis_unit=\"mK\")"
   ]
  },
  {
   "cell_type": "code",
   "execution_count": null,
   "id": "7cc86049-c18d-4fa1-b365-6da1b0a0ce74",
   "metadata": {},
   "outputs": [],
   "source": [
    "p.reset()\n",
    "p.plot()"
   ]
  },
  {
   "cell_type": "markdown",
   "id": "b04f36ea-5b15-4f76-b75f-463da94dd1ee",
   "metadata": {},
   "source": [
    "## Use channels for the exclude region"
   ]
  },
  {
   "cell_type": "markdown",
   "id": "5217d57a-bdeb-4167-980b-dbcf8ed47886",
   "metadata": {},
   "source": [
    "### compute the baseline, exclude channels 300 to 700, don't remove it.\n",
    "The red line shows the computed baseline"
   ]
  },
  {
   "cell_type": "code",
   "execution_count": null,
   "id": "b6452f19-e724-414a-9d67-48e2232ac679",
   "metadata": {},
   "outputs": [],
   "source": [
    "fig,ax=plt.subplots()\n",
    "ax.plot(s.spectral_axis,s.flux)\n",
    "s.baseline(1,exclude=[300,700],remove=False)\n",
    "ax.plot(s.spectral_axis,s._baseline_model(s.spectral_axis),color='r')"
   ]
  },
  {
   "cell_type": "markdown",
   "id": "56fea1e9-6e6f-4c54-91fc-4d9390b43cfd",
   "metadata": {},
   "source": [
    "## test using exclude outside spectral axis"
   ]
  },
  {
   "cell_type": "code",
   "execution_count": null,
   "id": "1ff92eb1-2320-4dea-9e9f-f760f639fe89",
   "metadata": {},
   "outputs": [],
   "source": [
    "s.baseline(1,exclude=[300,6700],remove=False)"
   ]
  },
  {
   "cell_type": "markdown",
   "id": "674264d3-a1ff-4b2b-ab03-c5696ef4452f",
   "metadata": {},
   "source": [
    "## Use a frequency Quantity for the exclude region"
   ]
  },
  {
   "cell_type": "code",
   "execution_count": null,
   "id": "ebb5ffde-03c1-49a5-9a08-128566c09c54",
   "metadata": {},
   "outputs": [],
   "source": []
  },
  {
   "cell_type": "code",
   "execution_count": null,
   "id": "5a706457-b37e-4258-a654-8ffe45eef8cf",
   "metadata": {},
   "outputs": [],
   "source": [
    "#s._undo_baseline()\n",
    "s.baseline(1,exclude=[110.199*u.GHz,110.2037*u.GHz],remove=False)\n",
    "fig,ax=plt.subplots()\n",
    "ax.plot(s.spectral_axis,s.flux)\n",
    "ax.plot(s.spectral_axis,s._baseline_model(s.spectral_axis),color='r')"
   ]
  },
  {
   "cell_type": "code",
   "execution_count": null,
   "id": "9f4e49fe-dbcc-4c3b-999c-c2c948472073",
   "metadata": {},
   "outputs": [],
   "source": [
    "s.spectral_axis[300].value,s.spectral_axis[700].value,s.velocity[300],s.velocity[700]"
   ]
  },
  {
   "cell_type": "code",
   "execution_count": null,
   "id": "40e20f80-6176-4401-b756-037dedc25aa3",
   "metadata": {},
   "outputs": [],
   "source": [
    "sr = SpectralRegion(s.spectral_axis[300],s.spectral_axis[700])\n",
    "sr.bounds[0]< s.spectral_axis[0]"
   ]
  },
  {
   "cell_type": "code",
   "execution_count": null,
   "id": "eb026757-e728-4df5-8651-16e6acf19c15",
   "metadata": {},
   "outputs": [],
   "source": [
    "s.spectral_axis.__dict__"
   ]
  },
  {
   "cell_type": "code",
   "execution_count": null,
   "id": "d801814e-0d71-4532-836e-60b035f5e51d",
   "metadata": {},
   "outputs": [],
   "source": [
    "110.19418019499935-110.20336999999999,110.19018019927493-110.19937,s.radial_velocity.to(\"GHz\",equivalencies=s.equivalencies)-s.rest_value"
   ]
  },
  {
   "cell_type": "code",
   "execution_count": null,
   "id": "a3a38c10-d973-4527-b3c5-40df1c156e12",
   "metadata": {},
   "outputs": [],
   "source": [
    "#s._undo_baseline()\n",
    "kms = u.Unit(\"km/s\")\n",
    "s.baseline(1,exclude=[19.559188*kms,30.4408*kms],remove=False)\n",
    "fig,ax=plt.subplots()\n",
    "ax.plot(s.spectral_axis,s.flux)\n",
    "ax.plot(s.spectral_axis,s._baseline_model(s.spectral_axis),color='r')"
   ]
  },
  {
   "cell_type": "markdown",
   "id": "0da23fda-9523-4281-abf8-f486e9e275cb",
   "metadata": {},
   "source": [
    "## Lee's nasty case (github issue #6)"
   ]
  },
  {
   "cell_type": "code",
   "execution_count": null,
   "id": "0345b7bf-7719-4dfc-9ef0-529a1a034028",
   "metadata": {},
   "outputs": [],
   "source": [
    "rnge=[300,6500]\n",
    "#y = 3.1415927+np.random.rand(npts)+1000*norm(loc=npts/2,scale=50).pdf(x)\n",
    "#s = Spectrum(flux=y*u.K,spectral_axis=x*u.um,velocity_convention='doppler_radio',radial_velocity=25*u.Unit('km/s'))\n",
    "s.baseline(1,exclude=rnge,remove=False)\n",
    "fig,ax=plt.subplots()\n",
    "ax.axvline(rnge[0],color='g')\n",
    "#ax.axvline(rnge[1],color='g')\n",
    "ax.plot(s.spectral_axis,s.flux)\n",
    "ax.plot(s.spectral_axis,s._baseline_model(s.spectral_axis),color='r')"
   ]
  },
  {
   "cell_type": "code",
   "execution_count": null,
   "id": "31a3baa2-9386-4e35-a63b-6ff1203fb639",
   "metadata": {},
   "outputs": [],
   "source": [
    "npts = 1000\n",
    "x = np.arange(npts)\n",
    "y2 = 1.0+np.random.rand(npts)+500*norm(loc=npts/2,scale=50).pdf(x)\n",
    "s2 = Spectrum(flux=y2*u.K,spectral_axis=x*u.um,velocity_convention='doppler_radio',radial_velocity=25*u.Unit('km/s'))\n",
    "\n",
    "fig,ax=plt.subplots()\n",
    "ax.plot(s2.spectral_axis,s2.flux)\n",
    "s2.baseline(1,exclude=[350,6500],remove=True)\n",
    "ax.plot(s2.spectral_axis,s2._baseline_model(s2.spectral_axis),color='r')\n",
    "plt.show()\n"
   ]
  },
  {
   "cell_type": "code",
   "execution_count": null,
   "id": "13c9d036-d32b-486b-8848-58054e51c184",
   "metadata": {},
   "outputs": [],
   "source": [
    "s2.baseline_model"
   ]
  },
  {
   "cell_type": "code",
   "execution_count": null,
   "id": "082e43cb-6778-46f8-8416-65365e403efb",
   "metadata": {},
   "outputs": [],
   "source": [
    "\n",
    "y3=y2.copy()[0:300]\n",
    "x3=x[0:300]\n",
    "s3=Spectrum(flux=y3*u.K,spectral_axis=x3*u.um,velocity_convention='doppler_radio',radial_velocity=25*u.Unit('km/s'))\n",
    "fig,ax=plt.subplots()\n",
    "ax.plot(s3.spectral_axis,s3.flux)\n",
    "s3.baseline(1,remove=True)\n",
    "ax.plot(s3.spectral_axis,s3._baseline_model(s3.spectral_axis),color='r')\n",
    "print(s2.baseline_model,\"\\n\",s3.baseline_model)"
   ]
  },
  {
   "cell_type": "markdown",
   "id": "f816acab-c22d-4500-a50a-f561499624c3",
   "metadata": {},
   "source": [
    "### print some statistics [mean, rms, min, max], show the baseline model function"
   ]
  },
  {
   "cell_type": "code",
   "execution_count": null,
   "id": "72aa0887-8307-4697-b0f1-17084f432a8c",
   "metadata": {},
   "outputs": [],
   "source": [
    "print(s.stats())\n",
    "s.bshow()"
   ]
  },
  {
   "cell_type": "markdown",
   "id": "b969bed1-899e-45ee-ab2c-26b91d817fb1",
   "metadata": {},
   "source": [
    "### now do again it and remove the baseline"
   ]
  },
  {
   "cell_type": "code",
   "execution_count": null,
   "id": "9633d126-1e17-4152-bc57-15831e5e113e",
   "metadata": {},
   "outputs": [],
   "source": [
    "s = Spectrum(flux=y*u.K,spectral_axis=x*u.um,velocity_convention='doppler_radio',radial_velocity=25*u.Unit('km/s'))\n",
    "s.baseline(1,exclude=[300,700],remove=True)\n",
    "fig,ax=plt.subplots()\n",
    "ax.plot(s.spectral_axis,s.flux)\n",
    "print(s.stats())\n",
    "s.bshow()"
   ]
  },
  {
   "cell_type": "code",
   "execution_count": null,
   "id": "5313009c-71d9-4733-b437-b270c787d666",
   "metadata": {},
   "outputs": [],
   "source": [
    "### undo the baseline removal.  Stats shows it has been added back in and the spectrum is restored"
   ]
  },
  {
   "cell_type": "code",
   "execution_count": null,
   "id": "e35cc786-7be4-47a4-a4a6-d6ff14c04876",
   "metadata": {},
   "outputs": [],
   "source": [
    "s._undo_baseline()\n",
    "print(s.stats())\n",
    "s.bshow()\n"
   ]
  },
  {
   "cell_type": "markdown",
   "id": "3555b4b0-097b-4ab6-81d3-6315a6cbaa27",
   "metadata": {},
   "source": [
    "-------------"
   ]
  },
  {
   "cell_type": "markdown",
   "id": "d478a858-dec8-448c-a64a-e8f55108fe5f",
   "metadata": {},
   "source": [
    "# 2. GBTFITSLoad and position-switch calibration testing\n",
    "change to use your specific `datadir`"
   ]
  },
  {
   "cell_type": "code",
   "execution_count": 1,
   "id": "4b0df155-ab44-48a7-8655-2532e051d901",
   "metadata": {},
   "outputs": [
    {
     "ename": "NameError",
     "evalue": "name 'GBTFITSLoad' is not defined",
     "output_type": "error",
     "traceback": [
      "\u001b[0;31m---------------------------------------------------------------------------\u001b[0m",
      "\u001b[0;31mNameError\u001b[0m                                 Traceback (most recent call last)",
      "Cell \u001b[0;32mIn[1], line 5\u001b[0m\n\u001b[1;32m      3\u001b[0m f \u001b[38;5;241m=\u001b[39m datadir \u001b[38;5;241m+\u001b[39m \u001b[38;5;124m'\u001b[39m\u001b[38;5;124m/examples/onoff-L/data/TGBT21A_501_11.raw.vegas.fits\u001b[39m\u001b[38;5;124m'\u001b[39m\n\u001b[1;32m      4\u001b[0m \u001b[38;5;66;03m#f = datadir + 'examples/nod-KFPA/data/TGBT22A_503_02.raw.vegas/TGBT22A_503_02.raw.vegas.A.fits'\u001b[39;00m\n\u001b[0;32m----> 5\u001b[0m p \u001b[38;5;241m=\u001b[39m \u001b[43mGBTFITSLoad\u001b[49m(f)\n",
      "\u001b[0;31mNameError\u001b[0m: name 'GBTFITSLoad' is not defined"
     ]
    }
   ],
   "source": [
    "datadir = '/data/gbt'\n",
    "#f = datadir + '/examples/misc/ngc5291.fits'\n",
    "f = datadir + '/examples/onoff-L/data/TGBT21A_501_11.raw.vegas.fits'\n",
    "#f = datadir + 'examples/nod-KFPA/data/TGBT22A_503_02.raw.vegas/TGBT22A_503_02.raw.vegas.A.fits'\n",
    "p = GBTFITSLoad(f)"
   ]
  },
  {
   "cell_type": "code",
   "execution_count": null,
   "id": "dfe902d6-0251-4a74-b664-b5d9fdb9d9ec",
   "metadata": {},
   "outputs": [],
   "source": [
    "p._ptable[0]"
   ]
  },
  {
   "cell_type": "code",
   "execution_count": null,
   "id": "ca64225c-88d6-4f66-a4e9-f59118feeba1",
   "metadata": {},
   "outputs": [],
   "source": [
    "a1 = range(167,198)\n",
    "scanlist = [150,151,154,155,165,166]\n",
    "scanlist.extend(a1)\n",
    "a1[-1]"
   ]
  },
  {
   "cell_type": "code",
   "execution_count": null,
   "id": "862cf89f-42b0-491a-908e-bb85e2cfa2da",
   "metadata": {},
   "outputs": [],
   "source": [
    "p.write_scans(\"/tmp/scans.fits\",overwrite=True,checksum=True,scans=scanlist)"
   ]
  },
  {
   "cell_type": "code",
   "execution_count": null,
   "id": "ba235225-ccc4-4275-a665-68a44d46c2be",
   "metadata": {},
   "outputs": [],
   "source": [
    "p.write(\"/tmp/foobar.fits\",overwrite=True,rows=[11,15,37,99],bintable=0)\n",
    "p.write(\"/tmp/onerows.fits\",overwrite=True,rows=15,bintable=0)"
   ]
  },
  {
   "cell_type": "code",
   "execution_count": null,
   "id": "59d10bdf-5c20-4d4e-abf9-97df4b5d3541",
   "metadata": {},
   "outputs": [],
   "source": [
    "x1 = fits.open(\"/tmp/scans.fits\")\n",
    "x1.info()"
   ]
  },
  {
   "cell_type": "code",
   "execution_count": null,
   "id": "a20f0815-f5f3-4d38-ba4d-6a288f4a0cff",
   "metadata": {},
   "outputs": [],
   "source": [
    "x1 = GBTFITSLoad(\"/tmp/scans.fits\")\n",
    "x1._ptable[0]\n",
    "#x1._hdu.info()"
   ]
  },
  {
   "cell_type": "code",
   "execution_count": null,
   "id": "0bfc7447-c8e3-4694-a2bf-41616fc83c68",
   "metadata": {},
   "outputs": [],
   "source": [
    "x1._hdu[1].header"
   ]
  },
  {
   "cell_type": "code",
   "execution_count": null,
   "id": "fd24dad1-c872-4387-bc56-cb88fa283dd5",
   "metadata": {},
   "outputs": [],
   "source": [
    "x1 = GBTFITSLoad(\"/tmp/foobar.fits\")\n",
    "x1.nrows(0),x1._hdu[1].header"
   ]
  },
  {
   "cell_type": "code",
   "execution_count": null,
   "id": "d578fd92-582c-4c18-b923-f5316643f6bd",
   "metadata": {},
   "outputs": [],
   "source": [
    "x1 = GBTFITSLoad(\"/tmp/onerows.fits\")\n",
    "x1.nrows(0),x1._hdu[1].header"
   ]
  },
  {
   "cell_type": "code",
   "execution_count": null,
   "id": "3d949978-290f-4f95-8fd6-ff5ad6c45f31",
   "metadata": {},
   "outputs": [],
   "source": [
    "spec4 = p.getspec(4)\n",
    "sp = SpectrumPlot(spec4)\n",
    "sp.plot()"
   ]
  },
  {
   "cell_type": "markdown",
   "id": "76b09a24-ab25-4b0d-9b16-ddb6af81fe97",
   "metadata": {},
   "source": [
    "### Print the summary.  Yes, I need to clean this up."
   ]
  },
  {
   "cell_type": "code",
   "execution_count": null,
   "id": "7ca6d006-b60d-4199-a909-8ba44c648552",
   "metadata": {},
   "outputs": [],
   "source": [
    "p.summary()[0]"
   ]
  },
  {
   "cell_type": "markdown",
   "id": "6637056e-81cc-4c7e-a631-1462e7e0d97d",
   "metadata": {},
   "source": [
    "### check out some important columns.  Note the clever selection mechanism"
   ]
  },
  {
   "cell_type": "code",
   "execution_count": null,
   "id": "d5785409-c749-4df7-a73f-4dcbf65212e9",
   "metadata": {},
   "outputs": [],
   "source": [
    "columns = [\"SCAN\",\"PROC\",\"PROCSEQN\",\"IFNUM\",\"PLNUM\",\"SIG\",\"CAL\",\"TSYS\",\"TCAL\", \"OBSMODE\",\"FDNUM\"]\n",
    "df = p._ptable[0]\n",
    "df[df.columns & columns][0:50]\n",
    "#df[(df['SIG'] == 'F') & (df['CAL']=='T')][(df.columns & columns)]"
   ]
  },
  {
   "cell_type": "markdown",
   "id": "f90741e3-6146-4df4-89d5-8b6be6f00e22",
   "metadata": {},
   "source": [
    "## Get a position switch scan and calibrate it.\n",
    "The default ifnum=0, plnum=0"
   ]
  },
  {
   "cell_type": "code",
   "execution_count": null,
   "id": "610d6c4d-54fc-4f56-beb5-10eb3d848781",
   "metadata": {},
   "outputs": [],
   "source": [
    "# eventually this will have calibrate=True as the default, so you don't need to call calibrate().\n",
    "psscan = p.getps(152)"
   ]
  },
  {
   "cell_type": "code",
   "execution_count": null,
   "id": "de023f21-2f5c-4466-b55a-f3c5ff351e61",
   "metadata": {},
   "outputs": [],
   "source": [
    "psscan.calibrate()"
   ]
  },
  {
   "cell_type": "markdown",
   "id": "6e3b0bc9-9d5c-4bb6-9075-26b9086cf7f9",
   "metadata": {},
   "source": [
    "### the raw calibrated numpy array"
   ]
  },
  {
   "cell_type": "code",
   "execution_count": null,
   "id": "35764215-5cf3-4b61-9955-41f324e06f8f",
   "metadata": {},
   "outputs": [],
   "source": [
    "psscan._calibrated[0]"
   ]
  },
  {
   "cell_type": "markdown",
   "id": "209c6253-4ed1-4135-9e87-1ebaec734f21",
   "metadata": {},
   "source": [
    "### A single integration of the calibrated Spectrum"
   ]
  },
  {
   "cell_type": "code",
   "execution_count": null,
   "id": "c83feceb-7435-4231-a0bd-cd177ad96e6f",
   "metadata": {},
   "outputs": [],
   "source": [
    "spec1 = psscan.calibrated(0)\n",
    "spec1.unit == u.K"
   ]
  },
  {
   "cell_type": "code",
   "execution_count": null,
   "id": "54b6cea7-d0be-484f-9363-35d90a146226",
   "metadata": {},
   "outputs": [],
   "source": [
    "sp = SpectrumPlot(spec1)\n",
    "sp.plot(xaxis_unit=\"km/s\")"
   ]
  },
  {
   "cell_type": "code",
   "execution_count": null,
   "id": "4b7446a8-a455-4a78-b8fb-7f318fba399d",
   "metadata": {},
   "outputs": [],
   "source": [
    "if False:\n",
    "    fig,ax = plt.subplots()\n",
    "    ax.set_ylim([-4,4])\n",
    "    ax.plot(spec1.spectral_axis,spec1.flux)\n",
    "    ax.set_xlabel(\"Frequency (GHz)\")\n",
    "    ax.set_ylabel(r\"$T_a$ (K)\")"
   ]
  },
  {
   "cell_type": "code",
   "execution_count": null,
   "id": "78639ed9-1899-4a54-b451-56bd29a350d5",
   "metadata": {},
   "outputs": [],
   "source": [
    "## ignore this\n",
    "if False:\n",
    "    flx = np.mean(psscan._calibrated[np.arange(0,len(psscan._calibrated),4)])\n",
    "    fig,ax = plt.subplots()\n",
    "    ax.set_ylim([-4,4])\n",
    "    ax.plot(psscan.calibrated(0).spectral_axis,flx)\n",
    "    all(psscan.calibrated(0).spectral_axis==psscan.calibrated(3).spectral_axis),all(psscan.calibrated(4).spectral_axis==psscan.calibrated(7).spectral_axis)"
   ]
  },
  {
   "cell_type": "markdown",
   "id": "5e37156f-3a6c-4d52-bc65-97dd7901df68",
   "metadata": {},
   "source": [
    "### The average spectrum.  \n",
    "Note this will be encapsulated in a average() method.\n",
    "Compare this with GBTIDL `getps, 152`"
   ]
  },
  {
   "cell_type": "code",
   "execution_count": null,
   "id": "32d6bb9c-eead-4db0-b7e1-7a6ba171ad94",
   "metadata": {},
   "outputs": [],
   "source": [
    "avg = Spectrum(spectral_axis=psscan.calibrated(0).spectral_axis,flux=np.mean(psscan._calibrated)*u.K)\n",
    "fig,ax=plt.subplots()\n",
    "ax.plot(avg.spectral_axis,avg.flux)\n",
    "ax.set_xlabel(\"Frequency (GHz)\")\n",
    "ax.set_ylabel(r\"$T_a$ (K)\")\n",
    "print(f\"T_sys = {np.mean(psscan.tsys)}\")"
   ]
  },
  {
   "cell_type": "markdown",
   "id": "5882f438-270b-4d33-83f5-60147f8d662f",
   "metadata": {},
   "source": [
    "### Try a different polarization and IF and use the OFF scan number\n",
    "GBTIDL `getps, 153, ifnum=1, plnum=1`"
   ]
  },
  {
   "cell_type": "code",
   "execution_count": null,
   "id": "4e81e83c-ad8d-4a3d-a49e-782da34768f1",
   "metadata": {},
   "outputs": [],
   "source": [
    "psscan = p.getps(153,plnum=1,ifnum=1)\n",
    "psscan.calibrate()"
   ]
  },
  {
   "cell_type": "code",
   "execution_count": null,
   "id": "930f1d34-f799-4452-9b18-06be3d9df9a8",
   "metadata": {},
   "outputs": [],
   "source": [
    "avg = Spectrum(spectral_axis=psscan.calibrated(0).spectral_axis,flux=np.mean(psscan._calibrated)*u.K)\n",
    "fig,ax=plt.subplots()\n",
    "ax.plot(avg.spectral_axis,avg.flux)\n",
    "ax.set_xlabel(\"Frequency (GHz)\")\n",
    "ax.set_ylabel(r\"$T_a$ (K)\")\n",
    "print(f\"T_sys = {np.mean(psscan.tsys)}\")"
   ]
  },
  {
   "cell_type": "markdown",
   "id": "44542afe-67b9-473d-bcbc-7d5a75c71b41",
   "metadata": {},
   "source": [
    "-----\n",
    "# Debugging from here down."
   ]
  },
  {
   "cell_type": "code",
   "execution_count": null,
   "id": "b24a1ad3-f497-4c4d-8641-fa09ca97fdf8",
   "metadata": {},
   "outputs": [],
   "source": [
    "df = p._ptable[0]\n",
    "len(p.select('OBJECT','NGC2415',p._ptable[0]))//p.npol(0)"
   ]
  },
  {
   "cell_type": "code",
   "execution_count": null,
   "id": "3cbbb8b7-5703-4a7d-b4aa-813c4a5e9f1c",
   "metadata": {},
   "outputs": [],
   "source": [
    "psscan.meta"
   ]
  },
  {
   "cell_type": "code",
   "execution_count": null,
   "id": "c38dfbf4-9332-44d4-95be-23225a5a8939",
   "metadata": {},
   "outputs": [],
   "source": [
    "p.index(0).iloc[psscan._scanrows[\"OFF\"]][\"CAL\"]"
   ]
  },
  {
   "cell_type": "code",
   "execution_count": null,
   "id": "cb7d1dfc-31ff-4abc-b0fb-e2280dd18f4c",
   "metadata": {},
   "outputs": [],
   "source": [
    "psscan.calibrate()"
   ]
  },
  {
   "cell_type": "code",
   "execution_count": null,
   "id": "545083db-790c-4ded-89eb-4821fb0e1bbd",
   "metadata": {},
   "outputs": [],
   "source": [
    "df = p._ptable[0]\n",
    "scans = [152,153]\n",
    "df2=df[df[\"SCAN\"].isin([152])]\n",
    "df3=df[df[\"SCAN\"].isin([153])]\n",
    "df4=df[df[\"SCAN\"].isin([156])]\n",
    "un = df2.index.union(df3.index)\n",
    "un2=df2.index\n",
    "un3=df3.index\n",
    "df[\"SCAN\"].iloc[un2]\n",
    "df3.reindex(un2).index"
   ]
  },
  {
   "cell_type": "code",
   "execution_count": null,
   "id": "ffe31e4e-fa2f-435e-8b48-c545df2beb33",
   "metadata": {},
   "outputs": [],
   "source": [
    "on = [152,154,156]\n",
    "off = [153,155,157]\n",
    "scans = [152,155]\n",
    "onrequested = set(on).intersection(scans)\n",
    "offrequested = set(off).intersection(scans)\n",
    "sons = list(onrequested.copy())\n",
    "soffs = list(offrequested.copy())\n",
    "missingoff = []\n",
    "missingon = []\n",
    "setoff = set(off)\n",
    "seton = set(on)\n",
    "for i in onrequested:\n",
    "    expectedoff = i+1\n",
    "    if len(setoff.intersection([expectedoff])) == 0:\n",
    "        missingoff.append(expectedoff)\n",
    "    else:\n",
    "        soffs.append(expectedoff)\n",
    "for i in offrequested:\n",
    "    expectedon = i-1\n",
    "    if len(seton.intersection([expectedon])) == 0:\n",
    "        missingon.append(expectedon)\n",
    "    else:\n",
    "        sons.append(expectedon)\n",
    "if len(missingoff) > 0:\n",
    "    raise ValueError(f\"For the requested ON scans {onrequested}, the OFF scans {missingoff} were not present in bintable {bintable}\")\n",
    "if len(missingon) > 0:\n",
    "    raise ValueError(f\"For the requested OFF scans {offrequested}, the ON scans {missingon} were not present in bintable {bintable}\")\n",
    "print(\"ON\",sorted(sons))\n",
    "print(\"OFF\",sorted(soffs))"
   ]
  },
  {
   "cell_type": "code",
   "execution_count": null,
   "id": "3cd32864-2081-406e-a14e-e4483136842b",
   "metadata": {},
   "outputs": [],
   "source": [
    "scanlist=p.onoff_scan_list()\n",
    "print(scanlist)\n",
    "#scanlist = p.onoff_scan_list([152])\n",
    "#print(scanlist)\n",
    "scanlist = p.onoff_scan_list([153])\n",
    "print(scanlist)\n",
    "scanlist = p.onoff_scan_list([152,153])\n",
    "print(scanlist)\n",
    "scanlist = p.onoff_scan_list(152)\n",
    "print(scanlist)"
   ]
  },
  {
   "cell_type": "code",
   "execution_count": null,
   "id": "efe7ba31-2218-4917-9ade-6d6ecb4a2347",
   "metadata": {},
   "outputs": [],
   "source": [
    "print(sonoff(p.index(0)[\"SCAN\"],p.index(0)[\"PROCSEQN\"]))\n",
    "myscans = set(sorted([153,155]))\n",
    "scanlist=p.onoff_scan_list()\n",
    "print(scanlist)\n",
    "allscans = set(sorted(scanlist[\"ON\"]+scanlist[\"OFF\"]+[1,2,3,4,5]))\n",
    "print(allscans)\n",
    "z=allscans.intersection(myscans)\n",
    "zz =allscans.difference(myscans)\n",
    "zzz=myscans.difference(allscans)\n",
    "print(z,zz,zzz)"
   ]
  },
  {
   "cell_type": "code",
   "execution_count": null,
   "id": "13f88a4c-07e3-4c07-b331-c41cab973b44",
   "metadata": {},
   "outputs": [],
   "source": [
    "psscan = p.getps(scans=[152])"
   ]
  },
  {
   "cell_type": "code",
   "execution_count": null,
   "id": "e8e4fb51-f536-4def-be44-797e61629240",
   "metadata": {},
   "outputs": [],
   "source": [
    "df = p._ptable[0]\n",
    "rows=list(df[df[\"SCAN\"].isin(scans[\"ON\"])].index)\n",
    "df"
   ]
  },
  {
   "cell_type": "code",
   "execution_count": null,
   "id": "cb751350-f340-48af-8688-6400a5cdbc34",
   "metadata": {},
   "outputs": [],
   "source": [
    "rows=p.onoff_rows()\n",
    "rows"
   ]
  },
  {
   "cell_type": "code",
   "execution_count": null,
   "id": "b032052c-27a1-4298-99c8-a3ef7b273a62",
   "metadata": {},
   "outputs": [],
   "source": [
    "show = [\"SCAN\", \"PROCSEQN\", \"PROCSIZE\", \"_OBSTYPE\"]\n",
    "df=df[df.columns & show]\n",
    "df[df[\"_OBSTYPE\"]==\"PSWITCHOFF\"]"
   ]
  },
  {
   "cell_type": "code",
   "execution_count": null,
   "id": "b9bd0e0c-effa-41c0-a434-3f862ddb7a09",
   "metadata": {},
   "outputs": [],
   "source": [
    "dict(p._ptable[0].iloc[0])"
   ]
  },
  {
   "cell_type": "code",
   "execution_count": null,
   "id": "0e431431-e505-49ab-9147-27e891800aa3",
   "metadata": {},
   "outputs": [],
   "source": [
    "df[\"RESTFREQ\"]/=1E9\n",
    "df[\"RESTFREQ\"]"
   ]
  },
  {
   "cell_type": "code",
   "execution_count": null,
   "id": "23f0bffb-e693-437e-a1b8-177d98b894b8",
   "metadata": {},
   "outputs": [],
   "source": [
    "show = [\"SCAN\", \"OBJECT\", \"OBSMODE\", \"VELOCITY\", \"PROCSCAN\", \"PROCSEQN\", \"PROCTYPE\", \"PROCSIZE\", \"RESTFREQ\", \"IFNUM\",\"FEED\", \"AZIMUTH\", \"ELEVATIO\", \"FDNUM\"] \n",
    "scan = [60,61]\n",
    "_df = df[df.columns & show].reindex(columns=show)"
   ]
  },
  {
   "cell_type": "code",
   "execution_count": null,
   "id": "7f3ab993-bd5a-4a4a-8eee-8ebd3fc9ba05",
   "metadata": {},
   "outputs": [],
   "source": [
    "_df[\"OBSMODE\"].str.split(':',expand=True)"
   ]
  },
  {
   "cell_type": "code",
   "execution_count": null,
   "id": "9734e259-6e83-4c45-9f36-d39a54d580a3",
   "metadata": {},
   "outputs": [],
   "source": [
    "\n",
    "_df[(_df[\"SCAN\"]>=scan[0]) & ( _df[\"SCAN\"] <= scan[1])]"
   ]
  },
  {
   "cell_type": "code",
   "execution_count": null,
   "id": "9481a149-c1db-47e9-9c75-74724cda933b",
   "metadata": {},
   "outputs": [],
   "source": [
    "df[\"SCAN\"]"
   ]
  },
  {
   "cell_type": "code",
   "execution_count": null,
   "id": "0c7574bf-7d6f-4fd9-bae1-ebb5efc6b029",
   "metadata": {},
   "outputs": [],
   "source": [
    "df['PROCTYPE']"
   ]
  },
  {
   "cell_type": "code",
   "execution_count": null,
   "id": "59b6be1e-29f2-4c70-bfc4-9b830c3a1d41",
   "metadata": {},
   "outputs": [],
   "source": []
  },
  {
   "cell_type": "code",
   "execution_count": null,
   "id": "43ca5580-f9d8-4cfc-a957-f91194f547a0",
   "metadata": {},
   "outputs": [],
   "source": []
  },
  {
   "cell_type": "code",
   "execution_count": null,
   "id": "2dddf8b5-d361-4bef-998b-1473071d1960",
   "metadata": {},
   "outputs": [],
   "source": []
  }
 ],
 "metadata": {
  "kernelspec": {
   "display_name": "Python 3 (ipykernel)",
   "language": "python",
   "name": "python3"
  },
  "language_info": {
   "codemirror_mode": {
    "name": "ipython",
    "version": 3
   },
   "file_extension": ".py",
   "mimetype": "text/x-python",
   "name": "python",
   "nbconvert_exporter": "python",
   "pygments_lexer": "ipython3",
   "version": "3.10.9"
  }
 },
 "nbformat": 4,
 "nbformat_minor": 5
}
