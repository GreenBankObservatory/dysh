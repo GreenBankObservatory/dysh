{
 "cells": [
  {
   "cell_type": "code",
   "execution_count": 3,
   "id": "bbfbdd58-b103-4e15-8801-2dc6e68d7764",
   "metadata": {},
   "outputs": [],
   "source": [
    "import numpy as np\n",
    "from astropy.io import fits\n",
    "import dysh.util as util\n",
    "from dysh.util import sq_weighted_avg\n",
    "from dysh.fits.gbtfitsload import GBTFITSLoad\n",
    "from copy import deepcopy"
   ]
  },
  {
   "cell_type": "code",
   "execution_count": 4,
   "id": "f6e9a47f-ca87-4e36-b132-6fa7152f9995",
   "metadata": {},
   "outputs": [],
   "source": [
    "# Point it to the testdata directory on the root dysh directory.\n",
    "testdata    = util.get_project_testdata()\n",
    "# The folder with the SDFITS files.\n",
    "data_path   = testdata/\"TGBT21A_501_11/\"\n",
    "data_file   = data_path/\"TGBT21A_501_11_ifnum_0_int_0-2.fits\"\n",
    "data_file = \"/bigdisk/data/gbt/examples/onoff-L/data/TGBT21A_501_11.raw.vegas\"\n",
    "gbtidl_file = data_path/\"TGBT21A_501_11_ifnum_0_int_0-2_getps_152_plnum_0.fits\""
   ]
  },
  {
   "cell_type": "code",
   "execution_count": 5,
   "id": "cff5b8dc-74b8-4604-a8e7-d8d9b329a99c",
   "metadata": {},
   "outputs": [],
   "source": [
    "sdf = GBTFITSLoad(data_file)\n",
    "#sdf.summary()"
   ]
  },
  {
   "cell_type": "code",
   "execution_count": 10,
   "id": "35e6c6c6-264a-42cc-bbd7-afbafe2b806b",
   "metadata": {},
   "outputs": [
    {
     "name": "stdout",
     "output_type": "stream",
     "text": [
      "SCANS {'ON': [156, 158], 'OFF': [157, 159]}\n",
      "len(scanrows ON) 304\n",
      "len(scanrows OFF) 304\n",
      "bintable index is 0\n",
      "PSSCAN #pol = [0]\n"
     ]
    },
    {
     "name": "stderr",
     "output_type": "stream",
     "text": [
      "/home/mpound/src/dysh/src/dysh/spectra/core.py:352: RuntimeWarning: Mean of empty slice\n",
      "  meandiff = np.nanmean(calon[chrng] - caloff[chrng])\n"
     ]
    },
    {
     "name": "stdout",
     "output_type": "stream",
     "text": [
      "CPU times: user 32.3 s, sys: 71.3 ms, total: 32.4 s\n",
      "Wall time: 32.3 s\n"
     ]
    }
   ],
   "source": [
    "%%time\n",
    "psscan = sdf._oldgetps([156, 158], ifnum=0, plnum=0)"
   ]
  },
  {
   "cell_type": "code",
   "execution_count": 11,
   "id": "4d5e5e1e-0d38-49b0-9d3f-0ad19aa41e75",
   "metadata": {},
   "outputs": [
    {
     "name": "stdout",
     "output_type": "stream",
     "text": [
      "{'scan': [156, 158], 'ifnum': 0, 'plnum': 0}\n",
      "len(scanrows ON) 152\n",
      "len(scanrows OFF) 152\n",
      "bintable index is 0\n",
      "PSSCAN #pol = [0]\n"
     ]
    },
    {
     "name": "stderr",
     "output_type": "stream",
     "text": [
      "/home/mpound/src/dysh/src/dysh/spectra/core.py:352: RuntimeWarning: Mean of empty slice\n",
      "  meandiff = np.nanmean(calon[chrng] - caloff[chrng])\n"
     ]
    },
    {
     "name": "stdout",
     "output_type": "stream",
     "text": [
      "len(scanrows ON) 152\n",
      "len(scanrows OFF) 152\n",
      "bintable index is 0\n",
      "PSSCAN #pol = [0]\n",
      "CPU times: user 47.4 s, sys: 8.67 s, total: 56.1 s\n",
      "Wall time: 53.9 s\n"
     ]
    }
   ],
   "source": [
    "%%time \n",
    "psscan2= sdf.getps(scan=[156,158],ifnum=0,plnum=0)"
   ]
  },
  {
   "cell_type": "code",
   "execution_count": 6,
   "id": "b4a0745d-4a1f-46ac-8ada-a52cbe460886",
   "metadata": {},
   "outputs": [
    {
     "name": "stdout",
     "output_type": "stream",
     "text": [
      "{'scan': 156, 'ifnum': 0, 'plnum': 0}\n",
      "len(scanrows ON) 152\n",
      "len(scanrows OFF) 152\n",
      "bintable index is 0\n",
      "PSSCAN #pol = [0]\n"
     ]
    },
    {
     "name": "stderr",
     "output_type": "stream",
     "text": [
      "/home/mpound/src/dysh/src/dysh/spectra/core.py:352: RuntimeWarning: Mean of empty slice\n",
      "  meandiff = np.nanmean(calon[chrng] - caloff[chrng])\n"
     ]
    },
    {
     "ename": "TypeError",
     "evalue": "select() got an unexpected keyword argument 'scan'",
     "output_type": "error",
     "traceback": [
      "\u001b[0;31m---------------------------------------------------------------------------\u001b[0m",
      "\u001b[0;31mTypeError\u001b[0m                                 Traceback (most recent call last)",
      "Cell \u001b[0;32mIn[6], line 2\u001b[0m\n\u001b[1;32m      1\u001b[0m psscanx \u001b[38;5;241m=\u001b[39m sdf\u001b[38;5;241m.\u001b[39mgetps(scan\u001b[38;5;241m=\u001b[39m\u001b[38;5;241m156\u001b[39m,ifnum\u001b[38;5;241m=\u001b[39m\u001b[38;5;241m0\u001b[39m,plnum\u001b[38;5;241m=\u001b[39m\u001b[38;5;241m0\u001b[39m)\n\u001b[0;32m----> 2\u001b[0m \u001b[43msdf\u001b[49m\u001b[38;5;241;43m.\u001b[39;49m\u001b[43mselect\u001b[49m\u001b[43m(\u001b[49m\u001b[43mscan\u001b[49m\u001b[38;5;241;43m=\u001b[39;49m\u001b[38;5;241;43m156\u001b[39;49m\u001b[43m,\u001b[49m\u001b[43mifnum\u001b[49m\u001b[38;5;241;43m=\u001b[39;49m\u001b[38;5;241;43m0\u001b[39;49m\u001b[43m,\u001b[49m\u001b[43mplnum\u001b[49m\u001b[38;5;241;43m=\u001b[39;49m\u001b[38;5;241;43m0\u001b[39;49m\u001b[43m)\u001b[49m\n\u001b[1;32m      3\u001b[0m sdf\u001b[38;5;241m.\u001b[39mshow()\n\u001b[1;32m      4\u001b[0m psscany\u001b[38;5;241m=\u001b[39msdf\u001b[38;5;241m.\u001b[39mgetps()\n",
      "\u001b[0;31mTypeError\u001b[0m: select() got an unexpected keyword argument 'scan'"
     ]
    }
   ],
   "source": [
    "psscanx = sdf.getps(scan=156,ifnum=0,plnum=0)\n"
   ]
  },
  {
   "cell_type": "code",
   "execution_count": 9,
   "id": "8cf52658-4291-4384-9910-628ed1a1b38d",
   "metadata": {},
   "outputs": [
    {
     "name": "stdout",
     "output_type": "stream",
     "text": [
      " ID    TAG    SCAN IFNUM PLNUM # SELECTED\n",
      "--- --------- ---- ----- ----- ----------\n",
      "  0 2a5c32600  156     0     0        152\n",
      "{}\n"
     ]
    },
    {
     "ename": "ValueError",
     "evalue": "For the requested ON scans {156}, the OFF scans [157] were not present",
     "output_type": "error",
     "traceback": [
      "\u001b[0;31m---------------------------------------------------------------------------\u001b[0m",
      "\u001b[0;31mValueError\u001b[0m                                Traceback (most recent call last)",
      "Cell \u001b[0;32mIn[9], line 4\u001b[0m\n\u001b[1;32m      2\u001b[0m sdf\u001b[38;5;241m.\u001b[39m_selection\u001b[38;5;241m.\u001b[39mselect(scan\u001b[38;5;241m=\u001b[39m\u001b[38;5;241m156\u001b[39m,ifnum\u001b[38;5;241m=\u001b[39m\u001b[38;5;241m0\u001b[39m,plnum\u001b[38;5;241m=\u001b[39m\u001b[38;5;241m0\u001b[39m)\n\u001b[1;32m      3\u001b[0m sdf\u001b[38;5;241m.\u001b[39m_selection\u001b[38;5;241m.\u001b[39mshow()\n\u001b[0;32m----> 4\u001b[0m psscany\u001b[38;5;241m=\u001b[39m\u001b[43msdf\u001b[49m\u001b[38;5;241;43m.\u001b[39;49m\u001b[43mgetps\u001b[49m\u001b[43m(\u001b[49m\u001b[43m)\u001b[49m\n",
      "File \u001b[0;32m~/src/dysh/src/dysh/fits/gbtfitsload.py:559\u001b[0m, in \u001b[0;36mGBTFITSLoad.getps\u001b[0;34m(self, calibrate, timeaverage, polaverage, weights, bintable, **kwargs)\u001b[0m\n\u001b[1;32m    556\u001b[0m \u001b[38;5;28;01mfor\u001b[39;00m k \u001b[38;5;129;01min\u001b[39;00m ifnum:\n\u001b[1;32m    557\u001b[0m     _df \u001b[38;5;241m=\u001b[39m select_from(\u001b[38;5;124m\"\u001b[39m\u001b[38;5;124mIFNUM\u001b[39m\u001b[38;5;124m\"\u001b[39m, k, df)\n\u001b[0;32m--> 559\u001b[0m     scanlist \u001b[38;5;241m=\u001b[39m \u001b[38;5;28;43mself\u001b[39;49m\u001b[38;5;241;43m.\u001b[39;49m\u001b[43m_onoff_scan_list_selection\u001b[49m\u001b[43m(\u001b[49m\u001b[43mscans\u001b[49m\u001b[43m,\u001b[49m\u001b[43m \u001b[49m\u001b[43m_df\u001b[49m\u001b[43m,\u001b[49m\u001b[43m \u001b[49m\u001b[43mcheck\u001b[49m\u001b[38;5;241;43m=\u001b[39;49m\u001b[38;5;28;43;01mFalse\u001b[39;49;00m\u001b[43m)\u001b[49m\n\u001b[1;32m    561\u001b[0m     \u001b[38;5;28;01mif\u001b[39;00m \u001b[38;5;28mlen\u001b[39m(scanlist[\u001b[38;5;124m\"\u001b[39m\u001b[38;5;124mON\u001b[39m\u001b[38;5;124m\"\u001b[39m]) \u001b[38;5;241m==\u001b[39m \u001b[38;5;241m0\u001b[39m \u001b[38;5;129;01mor\u001b[39;00m \u001b[38;5;28mlen\u001b[39m(scanlist[\u001b[38;5;124m\"\u001b[39m\u001b[38;5;124mOFF\u001b[39m\u001b[38;5;124m\"\u001b[39m]) \u001b[38;5;241m==\u001b[39m \u001b[38;5;241m0\u001b[39m:\n\u001b[1;32m    562\u001b[0m         \u001b[38;5;66;03m# print(\"scans not found, continuing\")\u001b[39;00m\n\u001b[1;32m    563\u001b[0m         \u001b[38;5;28;01mcontinue\u001b[39;00m\n",
      "File \u001b[0;32m~/src/dysh/src/dysh/fits/gbtfitsload.py:1044\u001b[0m, in \u001b[0;36mGBTFITSLoad._onoff_scan_list_selection\u001b[0;34m(self, scans, selection, check)\u001b[0m\n\u001b[1;32m   1042\u001b[0m \u001b[38;5;28;01melse\u001b[39;00m:\n\u001b[1;32m   1043\u001b[0m     \u001b[38;5;28;01mif\u001b[39;00m \u001b[38;5;28mlen\u001b[39m(missingoff) \u001b[38;5;241m>\u001b[39m \u001b[38;5;241m0\u001b[39m:\n\u001b[0;32m-> 1044\u001b[0m         \u001b[38;5;28;01mraise\u001b[39;00m \u001b[38;5;167;01mValueError\u001b[39;00m(\n\u001b[1;32m   1045\u001b[0m             \u001b[38;5;124mf\u001b[39m\u001b[38;5;124m\"\u001b[39m\u001b[38;5;124mFor the requested ON scans \u001b[39m\u001b[38;5;132;01m{\u001b[39;00monrequested\u001b[38;5;132;01m}\u001b[39;00m\u001b[38;5;124m, the OFF scans \u001b[39m\u001b[38;5;132;01m{\u001b[39;00mmissingoff\u001b[38;5;132;01m}\u001b[39;00m\u001b[38;5;124m were not present\u001b[39m\u001b[38;5;124m\"\u001b[39m\n\u001b[1;32m   1046\u001b[0m         )\n\u001b[1;32m   1047\u001b[0m     \u001b[38;5;28;01mif\u001b[39;00m \u001b[38;5;28mlen\u001b[39m(missingon) \u001b[38;5;241m>\u001b[39m \u001b[38;5;241m0\u001b[39m:\n\u001b[1;32m   1048\u001b[0m         \u001b[38;5;28;01mraise\u001b[39;00m \u001b[38;5;167;01mValueError\u001b[39;00m(\n\u001b[1;32m   1049\u001b[0m             \u001b[38;5;124mf\u001b[39m\u001b[38;5;124m\"\u001b[39m\u001b[38;5;124mFor the requested OFF scans \u001b[39m\u001b[38;5;132;01m{\u001b[39;00moffrequested\u001b[38;5;132;01m}\u001b[39;00m\u001b[38;5;124m, the ON scans \u001b[39m\u001b[38;5;132;01m{\u001b[39;00mmissingon\u001b[38;5;132;01m}\u001b[39;00m\u001b[38;5;124m were not present\u001b[39m\u001b[38;5;124m\"\u001b[39m\n\u001b[1;32m   1050\u001b[0m         )\n",
      "\u001b[0;31mValueError\u001b[0m: For the requested ON scans {156}, the OFF scans [157] were not present"
     ]
    }
   ],
   "source": [
    "sdf._selection.remove(0)\n",
    "sdf._selection.select(scan=156,ifnum=0,plnum=0)\n",
    "sdf._selection.show()\n",
    "psscany=sdf.getps()"
   ]
  },
  {
   "cell_type": "code",
   "execution_count": null,
   "id": "1eca7b9b-885b-4be7-bfb0-4a9cb39e30d3",
   "metadata": {},
   "outputs": [],
   "source": []
  },
  {
   "cell_type": "code",
   "execution_count": 6,
   "id": "3cef746b-d7a1-40e0-b624-96db428cb163",
   "metadata": {},
   "outputs": [
    {
     "ename": "NameError",
     "evalue": "name 'psscan' is not defined",
     "output_type": "error",
     "traceback": [
      "Traceback \u001b[0;36m(most recent call last)\u001b[0m:\n",
      "\u001b[0;36m  Cell \u001b[0;32mIn[6], line 1\u001b[0;36m\n\u001b[0;31m    d1=psscan[0].timeaverage().data\u001b[0;36m\n",
      "\u001b[0;31mNameError\u001b[0m\u001b[0;31m:\u001b[0m name 'psscan' is not defined\n"
     ]
    }
   ],
   "source": [
    "d1=psscan[0].timeaverage().data\n",
    "d2 = psscan2[0].timeaverage().data\n",
    "np.all(d1==d2)"
   ]
  },
  {
   "cell_type": "code",
   "execution_count": null,
   "id": "5ddc7825-a414-4044-9ded-5220f6635594",
   "metadata": {},
   "outputs": [],
   "source": [
    "psscan[0].timeaverage().plot()"
   ]
  },
  {
   "cell_type": "code",
   "execution_count": null,
   "id": "6482dbb3-b632-4d74-901f-65015404b3b6",
   "metadata": {},
   "outputs": [],
   "source": [
    "psscan2[0][0].timeaverage().plot()"
   ]
  },
  {
   "cell_type": "code",
   "execution_count": null,
   "id": "c0bce091-ddbf-4305-8524-ef09535f50b9",
   "metadata": {},
   "outputs": [],
   "source": [
    "df = psscan2[0].iloc[[0, 1, 2, 3, 4, 5, 6, 7, 8, 9, 10, 11, 12, 13, 14, 15, 16, 17, 18, 19, 20, 21, 22, 23, 24, 25, 26, 27, 28, 29, 30, 31, 32, 33, 34, 35, 36, 37, 38, 39, 40, 41, 42, 43, 44, 45, 46, 47, 48, 49, 50, 51, 52, 53, 54, 55, 56, 57, 58, 59, 60, 61, 62, 63, 64, 65, 66, 67, 68, 69, 70, 71, 72, 73, 74, 75, 76, 77, 78, 79, 80, 81, 82, 83, 84, 85, 86, 87, 88, 89, 90, 91, 92, 93, 94, 95, 96, 97, 98, 99, 100, 101, 102, 103, 104, 105, 106, 107, 108, 109, 110, 111, 112, 113, 114, 115, 116, 117, 118, 119, 120, 121, 122, 123, 124, 125, 126, 127, 128, 129, 130, 131, 132, 133, 134, 135, 136, 137, 138, 139, 140, 141, 142, 143, 144, 145, 146, 147, 148, 149, 150, 151]]"
   ]
  },
  {
   "cell_type": "code",
   "execution_count": null,
   "id": "95321f75-809a-4620-8939-61d442919894",
   "metadata": {},
   "outputs": [],
   "source": [
    "df[\"ROW\"]"
   ]
  },
  {
   "cell_type": "code",
   "execution_count": null,
   "id": "07fe5c98-1113-45a7-9048-0c3284fc631e",
   "metadata": {},
   "outputs": [],
   "source": [
    "sdf._index[sdf._index[\"SCAN\"].isin([156])][\"ROW\"]"
   ]
  },
  {
   "cell_type": "code",
   "execution_count": null,
   "id": "def5bae5-a185-4a8e-8045-45e9fc67bd50",
   "metadata": {},
   "outputs": [],
   "source": [
    "#%%time\n",
    "psscan2 = sdf.getps_selection(scan=[156,158],ifnum=0,plnum=0)"
   ]
  },
  {
   "cell_type": "code",
   "execution_count": null,
   "id": "c16f41db-0dff-4296-b200-3b3a92e3b9ed",
   "metadata": {},
   "outputs": [],
   "source": [
    "psscan2[0]._pols#, psscan[0]._pols"
   ]
  },
  {
   "cell_type": "code",
   "execution_count": null,
   "id": "29a6b54b-574c-4e2d-a533-13eff6fa745d",
   "metadata": {
    "scrolled": true
   },
   "outputs": [],
   "source": [
    "psscan[0].timeaverage().plot()"
   ]
  },
  {
   "cell_type": "code",
   "execution_count": null,
   "id": "67a5eeb8-cb8f-4d1d-9a5f-4332ec85ba7f",
   "metadata": {},
   "outputs": [],
   "source": [
    "psscan2[0]._pols"
   ]
  },
  {
   "cell_type": "code",
   "execution_count": null,
   "id": "b4144d38-5ceb-4885-b08a-a7195980311b",
   "metadata": {},
   "outputs": [],
   "source": [
    "psscan2[0].timeaverage().plot()\n"
   ]
  },
  {
   "cell_type": "code",
   "execution_count": null,
   "id": "f440ae2b-d3fc-4e64-a58f-40defc7aff4f",
   "metadata": {},
   "outputs": [],
   "source": [
    "sdf._selection.select(ifnum=0)\n",
    "type(sdf._selection.final)"
   ]
  },
  {
   "cell_type": "code",
   "execution_count": null,
   "id": "233a093b-fae4-4181-be98-4ece675c5f33",
   "metadata": {},
   "outputs": [],
   "source": [
    "zz=sdf._sdf[0].index(bintable=0).iloc[[1, 3, 5, 7, 9, 11, 13, 15, 17, 19, 21, 23, 25, 27, 29, 31, 33, 35, 37, 39, 41, 43, 45, 47, 49, 51, 53, 55, 57, 59, 61, 63, 65, 67, 69, 71, 73, 75, 77, 79, 81, 83, 85, 87, 89, 91, 93, 95, 97, 99, 101, 103, 105, 107, 109, 111, 113, 115, 117, 119, 121, 123, 125, 127, 129, 131, 133, 135, 137, 139, 141, 143, 145, 147, 149, 151]]"
   ]
  },
  {
   "cell_type": "code",
   "execution_count": null,
   "id": "ee108270-78bc-4cc3-a889-274f7d40fe93",
   "metadata": {},
   "outputs": [],
   "source": [
    "zz[\"TCAL\"]"
   ]
  },
  {
   "cell_type": "code",
   "execution_count": null,
   "id": "195d90af-9fe1-4fee-a915-fcd5f97c2a30",
   "metadata": {},
   "outputs": [],
   "source": [
    "sdf._find_bintable_and_row(0)"
   ]
  },
  {
   "cell_type": "code",
   "execution_count": null,
   "id": "958bcd87-433d-4c7b-b00d-98a42e856a3d",
   "metadata": {},
   "outputs": [],
   "source": [
    "p = deepcopy(sdf._selection)\n",
    "p.select(scan=[156,157,158,159])"
   ]
  },
  {
   "cell_type": "code",
   "execution_count": null,
   "id": "0e6ba94f-f6ba-46cb-bb24-b0f645223bc0",
   "metadata": {},
   "outputs": [],
   "source": [
    "s = sdf._selection.final\n",
    "df = s[s[\"PLNUM\"].isin([0])]\n",
    "df = df[df[\"IFNUM\"].isin([0])]\n",
    "df = df[df[\"SCAN\"].isin([156,158])]"
   ]
  },
  {
   "cell_type": "code",
   "execution_count": null,
   "id": "fd8e953d-286c-4647-ad61-fb6dd3c057a0",
   "metadata": {},
   "outputs": [],
   "source": [
    "from copy import deepcopy\n",
    "from dysh.util.selection import Selection\n",
    "ff=deepcopy(sdf._selection)\n",
    "yy = Selection(sdf._selection)"
   ]
  },
  {
   "cell_type": "code",
   "execution_count": null,
   "id": "30ce3d59-8725-4652-8ee9-de52f16500a2",
   "metadata": {},
   "outputs": [],
   "source": [
    "sdf._onoff_scan_list_selection(df)"
   ]
  },
  {
   "cell_type": "code",
   "execution_count": null,
   "id": "999f51c1-e105-4f95-b2a0-8482dc8cb521",
   "metadata": {},
   "outputs": [],
   "source": [
    "# Generate the dysh result.\n",
    "\n",
    "# psscan is a ScanList.\n",
    "psscan = sdf.getps(152, plnum=0)\n",
    "assert len(psscan) == 1\n",
    "psscan.calibrate()\n",
    "# psscan_tavg is a list.\n",
    "psscan_tavg = psscan.timeaverage(weights=\"tsys\")\n",
    "assert len(psscan_tavg) == 1"
   ]
  },
  {
   "cell_type": "code",
   "execution_count": null,
   "id": "af5cc1d8-23d1-466f-9139-59430104cc25",
   "metadata": {},
   "outputs": [],
   "source": [
    "sdf.summary()"
   ]
  },
  {
   "cell_type": "code",
   "execution_count": null,
   "id": "b0d81227-278f-4b05-b46c-6d7a53e46306",
   "metadata": {},
   "outputs": [],
   "source": [
    "sdf.getps_selection(152,ifnum=0,plnum=0)"
   ]
  },
  {
   "cell_type": "code",
   "execution_count": null,
   "id": "0182180a-9c4d-4866-9a66-54ddb92aec20",
   "metadata": {},
   "outputs": [],
   "source": [
    "# Load the GBTIDL result.\n",
    "hdu = fits.open(gbtidl_file)\n",
    "table = hdu[1].data"
   ]
  },
  {
   "cell_type": "code",
   "execution_count": null,
   "id": "1b90ddbb-782d-4c33-b7a6-4ceb2f5f3f91",
   "metadata": {},
   "outputs": [],
   "source": [
    "assert psscan_tavg[0].meta[\"EXPOSURE\"] == table[\"EXPOSURE\"][0]"
   ]
  },
  {
   "cell_type": "code",
   "execution_count": null,
   "id": "cbdf3171-ccff-4ccd-a662-79204ec650cd",
   "metadata": {},
   "outputs": [],
   "source": [
    "assert psscan_tavg[0].meta[\"TSYS\"] == table[\"TSYS\"][0]"
   ]
  },
  {
   "cell_type": "code",
   "execution_count": null,
   "id": "0bcce0e3-1d05-4706-88f7-42d513e1fbf1",
   "metadata": {},
   "outputs": [],
   "source": [
    "assert psscan[0].exposure[0] == 0.9758745431900024"
   ]
  },
  {
   "cell_type": "code",
   "execution_count": null,
   "id": "b54ba51e-8ee0-493d-8e58-5d52c7d6645c",
   "metadata": {},
   "outputs": [],
   "source": [
    "assert abs(psscan[0].delta_freq[0]) == 715.2557373046875000"
   ]
  },
  {
   "cell_type": "code",
   "execution_count": null,
   "id": "93cad600-c946-4e9a-9518-3bf61aac9d1e",
   "metadata": {},
   "outputs": [],
   "source": [
    "assert psscan[0]._tsys[0] == 17.2400033063068747"
   ]
  },
  {
   "cell_type": "code",
   "execution_count": null,
   "id": "d4988734-4213-4eee-8d5f-287af88f696e",
   "metadata": {},
   "outputs": [],
   "source": [
    "assert psscan[0].exposure[0] * abs(psscan[0].delta_freq[0]) / psscan[0]._tsys[0]**2 == 2.3484463846686591815"
   ]
  },
  {
   "cell_type": "code",
   "execution_count": null,
   "id": "1b37634f-b05e-4dc9-844d-a66777dae09f",
   "metadata": {},
   "outputs": [],
   "source": [
    "from dysh.spectra.core import tsys_weight\n",
    "assert tsys_weight(psscan[0].exposure[0], abs(psscan[0].delta_freq[0]), psscan[0]._tsys[0]) == 2.3484463846686591815"
   ]
  },
  {
   "cell_type": "code",
   "execution_count": null,
   "id": "981bd152-7675-46cf-9b20-a8c13583a8b4",
   "metadata": {},
   "outputs": [],
   "source": [
    "foo = psscan[0].exposure[0]*abs(psscan[0].delta_freq[0])*np.power(psscan[0]._tsys[0], -2.)\n",
    "bar = psscan[0].exposure[0]*abs(psscan[0].delta_freq[0])/psscan[0]._tsys[0]**2."
   ]
  },
  {
   "cell_type": "code",
   "execution_count": null,
   "id": "14d8509a-9433-4f6c-8b26-a48aafd7ce0e",
   "metadata": {},
   "outputs": [],
   "source": [
    "foo?"
   ]
  },
  {
   "cell_type": "code",
   "execution_count": null,
   "id": "658109a4-abe2-4996-bc72-87f6f486af3c",
   "metadata": {},
   "outputs": [],
   "source": [
    "bar?"
   ]
  },
  {
   "cell_type": "code",
   "execution_count": null,
   "id": "71e1bff9-029a-4409-8233-055cb21d18a4",
   "metadata": {},
   "outputs": [],
   "source": [
    "gbtidl_exposures = np.array([0.9758745431900024,\n",
    "                             0.9727186456420835,\n",
    "                             0.9758745431900024])\n",
    "gbtidl_delta_freq = np.array([715.2557373046875000,\n",
    "                              715.2557373046875000,\n",
    "                              715.2557373046875000])\n",
    "gbtidl_tsys = np.array([17.2400033063068747,\n",
    "                        17.1714040732369675,\n",
    "                        17.1566370578116292])\n",
    "gbtidl_tsyswt = np.array([2.3484463846686592,\n",
    "                          2.3595923244465413,\n",
    "                          2.3713246243635990])\n",
    "gbtdil_tsys2 = np.array([297.2177140014719612,\n",
    "                         294.8571178463791398,\n",
    "                         294.3501951334752675])\n",
    "gbtidl_tsys2_sum = np.array([697.99986590624030214,\n",
    "                             1393.7424579849857764,\n",
    "                             2091.7423238912260786]) 2091.742323891226078558\n",
    "gbtidl_tsys2_sum_here = np.cumsum(gbtdil_tsys2 * gbtidl_tsyswt)"
   ]
  },
  {
   "cell_type": "code",
   "execution_count": null,
   "id": "e744d654-8fc3-4629-8c73-9e99892b3c78",
   "metadata": {},
   "outputs": [],
   "source": [
    "gbtidl_tsys2_sum_here"
   ]
  },
  {
   "cell_type": "code",
   "execution_count": null,
   "id": "d5defaaf-7ca1-4ec4-aac0-71f244c4be86",
   "metadata": {},
   "outputs": [],
   "source": []
  },
  {
   "cell_type": "code",
   "execution_count": null,
   "id": "8ff0fb77-aa11-437e-99c1-309537bf7de0",
   "metadata": {},
   "outputs": [],
   "source": [
    "tsys2_sum = np.cumsum(psscan[0]._tsys**2. * psscan[0]._tsys_weight)#.astype(\"d\")\n",
    "\n",
    "for i in range(3):\n",
    "    assert psscan[0].exposure[i] == gbtidl_exposures[i]\n",
    "    assert abs(psscan[0].delta_freq[i]) == gbtidl_delta_freq[i]\n",
    "    assert psscan[0]._tsys[i] == gbtidl_tsys[i]\n",
    "    assert psscan[0]._tsys_weight[i] == gbtidl_tsyswt[i]\n",
    "    assert psscan[0]._tsys[i]**2. == gbtdil_tsys2[i]\n",
    "    assert tsys2_sum[i] == gbtidl_tsys2_sum[i]\n",
    "    assert gbtidl_tsys2_sum_here[i] == gbtidl_tsys2_sum[i]"
   ]
  },
  {
   "cell_type": "code",
   "execution_count": null,
   "id": "b482b4d7-956c-4e64-a862-8c8b969e38e6",
   "metadata": {},
   "outputs": [],
   "source": [
    "np.cumsum(psscan[0]._tsys**2. * psscan[0]._tsys_weight)[-1]"
   ]
  },
  {
   "cell_type": "code",
   "execution_count": null,
   "id": "75af46f4-31ba-48b0-b124-4a3575aca64c",
   "metadata": {},
   "outputs": [],
   "source": [
    "tsys_avg = np.average(psscan[0]._tsys, weights=psscan[0]._tsys_weight)\n",
    "assert tsys_avg == table[\"TSYS\"][0]"
   ]
  },
  {
   "cell_type": "code",
   "execution_count": null,
   "id": "e038680a-27ee-4422-abe6-b002453b7863",
   "metadata": {},
   "outputs": [],
   "source": [
    "tsys_avg = sq_weighted_avg(psscan[0]._tsys, axis=0, weights=psscan[0]._tsys_weight)\n",
    "# assert tsys_avg == table[\"TSYS\"][0]\n",
    "tsys_avg"
   ]
  },
  {
   "cell_type": "code",
   "execution_count": null,
   "id": "312be762-89b9-4107-b386-6f864a3061fd",
   "metadata": {},
   "outputs": [],
   "source": [
    "assert tsys_avg.astype(float) == table[\"TSYS\"][0]"
   ]
  },
  {
   "cell_type": "code",
   "execution_count": null,
   "id": "1dfc0628-66f0-474a-b69a-ef18431bd002",
   "metadata": {},
   "outputs": [],
   "source": [
    "table[\"TSYS\"]"
   ]
  },
  {
   "cell_type": "code",
   "execution_count": null,
   "id": "792033d9-db4c-49d0-b1a3-94056934c366",
   "metadata": {},
   "outputs": [],
   "source": [
    "table[\"TSYS\"][0]"
   ]
  },
  {
   "cell_type": "code",
   "execution_count": null,
   "id": "7456a44f-f98d-4e3a-b866-773f0fbf72b4",
   "metadata": {},
   "outputs": [],
   "source": [
    "tsys_avg - table[\"TSYS\"][0]"
   ]
  },
  {
   "cell_type": "code",
   "execution_count": null,
   "id": "d52bf0aa-661b-4e71-9f8d-6c3a07290d0d",
   "metadata": {},
   "outputs": [],
   "source": [
    "tsys_avg - table[\"TSYS\"][0]"
   ]
  },
  {
   "cell_type": "code",
   "execution_count": null,
   "id": "221078c7-eb7b-4456-b23a-affa0058b9cb",
   "metadata": {},
   "outputs": [],
   "source": [
    "psscan_tavg[0].meta[\"TSYS\"] - table[\"TSYS\"][0]"
   ]
  },
  {
   "cell_type": "code",
   "execution_count": null,
   "id": "a36b813f-94e2-4896-9b9a-acfb9bcce887",
   "metadata": {},
   "outputs": [],
   "source": [
    "assert psscan[0]._tsys_weight[0] == 2.3484463846686591815"
   ]
  },
  {
   "cell_type": "code",
   "execution_count": null,
   "id": "96559114-2e70-4337-ada2-6e5c0df060f3",
   "metadata": {},
   "outputs": [],
   "source": [
    "diff = psscan_tavg[0].flux.value.astype(\"d\") - table[\"DATA\"][0]\n",
    "diff"
   ]
  },
  {
   "cell_type": "code",
   "execution_count": null,
   "id": "e3607f6d-ddd6-42d3-9cf7-895e177dd34c",
   "metadata": {},
   "outputs": [],
   "source": [
    "psscan_tavg[0].flux.value"
   ]
  },
  {
   "cell_type": "code",
   "execution_count": null,
   "id": "203bc16d-2741-48d1-a07d-07c0164ec69c",
   "metadata": {},
   "outputs": [],
   "source": [
    "table[\"DATA\"]"
   ]
  },
  {
   "cell_type": "code",
   "execution_count": null,
   "id": "1155b477-4860-43b1-a5e0-a7ec6873ccd0",
   "metadata": {},
   "outputs": [],
   "source": [
    "hdu_ = fits.open(data_file)\n",
    "table_ = hdu_[1].data"
   ]
  },
  {
   "cell_type": "code",
   "execution_count": null,
   "id": "171b5685-71f1-4775-8827-2288f9584d3f",
   "metadata": {},
   "outputs": [],
   "source": [
    "mask_sig = ( table_[\"SCAN\"] == 152 ) & ( table_[\"PLNUM\"] == 0 )\n",
    "mask_ref = ( table_[\"SCAN\"] == 153 ) & ( table_[\"PLNUM\"] == 0 )\n",
    "mask_on  = ( table_[\"CAL\"][mask_sig] == \"T\" )\n",
    "mask_off = ( table_[\"CAL\"][mask_ref] == \"T\" )\n",
    "exp_sig  = table_[\"EXPOSURE\"][mask_sig][::2] + table_[\"EXPOSURE\"][mask_sig][1::2]\n",
    "exp_ref  = table_[\"EXPOSURE\"][mask_ref][::2] + table_[\"EXPOSURE\"][mask_ref][1::2]\n",
    "nsmooth  = 1.\n",
    "exp = exp_sig * exp_ref * nsmooth / (exp_sig + exp_ref * nsmooth)"
   ]
  },
  {
   "cell_type": "code",
   "execution_count": null,
   "id": "acd36d61-ca8a-468a-aca6-b9e1b8d4f50e",
   "metadata": {},
   "outputs": [],
   "source": [
    "exp.sum()"
   ]
  },
  {
   "cell_type": "code",
   "execution_count": null,
   "id": "23bd8c49-fe4a-4daa-b4e7-2868e2c8c809",
   "metadata": {},
   "outputs": [],
   "source": []
  },
  {
   "cell_type": "code",
   "execution_count": null,
   "id": "b128e26d-7751-417d-ac6c-29a1851ceef2",
   "metadata": {},
   "outputs": [],
   "source": [
    "psscan[0].exposure.sum()"
   ]
  },
  {
   "cell_type": "code",
   "execution_count": null,
   "id": "7a1ee277-dcc6-4357-aae3-fe50d614cbd8",
   "metadata": {},
   "outputs": [],
   "source": [
    "table_[\"CAL\"][mask]"
   ]
  },
  {
   "cell_type": "code",
   "execution_count": null,
   "id": "1d3b669e-9c6e-4e4b-8449-c0946cf6caf9",
   "metadata": {},
   "outputs": [],
   "source": [
    "table_[\"DURATION\"][mask][::2]"
   ]
  },
  {
   "cell_type": "code",
   "execution_count": null,
   "id": "8461aabb-7d1d-444e-a31f-2e585a2c15ef",
   "metadata": {},
   "outputs": [],
   "source": [
    "hdut = fits.open(f\"{data_path}/test_exposure.fits\")\n",
    "tablet = hdut[1].data\n",
    "tablet[\"EXPOSURE\"]"
   ]
  },
  {
   "cell_type": "code",
   "execution_count": null,
   "id": "942344c5-20d2-436b-9767-bfcc3a11d04b",
   "metadata": {},
   "outputs": [],
   "source": [
    "tablet[\"EXPOSURE\"] - exp.sum()"
   ]
  },
  {
   "cell_type": "code",
   "execution_count": null,
   "id": "9f34138d-4198-455d-ad60-15751ec38c09",
   "metadata": {},
   "outputs": [],
   "source": [
    "psscan_tavg[0].meta[\"EXPOSURE\"] - tablet[\"EXPOSURE\"]"
   ]
  },
  {
   "cell_type": "code",
   "execution_count": null,
   "id": "c25c2dd9-7627-4733-a412-097c88b1b6ef",
   "metadata": {},
   "outputs": [],
   "source": [
    "psscan_tavg[0].meta[\"EXPOSURE\"] - table[\"EXPOSURE\"]"
   ]
  },
  {
   "cell_type": "code",
   "execution_count": null,
   "id": "032ac02a-e15c-4a88-a407-36135cdfbab6",
   "metadata": {},
   "outputs": [],
   "source": [
    "hdu = fits.open(f\"{data_path}/test_int_0.fits\")\n",
    "table = hdu[1].data"
   ]
  },
  {
   "cell_type": "code",
   "execution_count": null,
   "id": "102123bc-e35c-4eef-a048-20840d782013",
   "metadata": {},
   "outputs": [],
   "source": [
    "table[\"DATA\"][0] - psscan[0].calibrated(0).flux.value.astype(\"d\")"
   ]
  },
  {
   "cell_type": "code",
   "execution_count": null,
   "id": "84f7b07d-a809-4ebb-9f01-54702d544b55",
   "metadata": {},
   "outputs": [],
   "source": [
    "assert table[\"TSYS\"] == psscan[0].calibrated(0).meta[\"TSYS\"]\n",
    "assert table[\"EXPOSURE\"] == psscan[0].calibrated(0).meta[\"EXPOSURE\"]\n",
    "assert table[\"CDELT1\"] == psscan[0].calibrated(0).meta[\"CDELT1\"]"
   ]
  },
  {
   "cell_type": "code",
   "execution_count": null,
   "id": "df59535d-2421-45bd-a440-6f7de5ab1197",
   "metadata": {
    "scrolled": true
   },
   "outputs": [],
   "source": [
    "for i in range(len(table[\"DATA\"][0])):\n",
    "    try:\n",
    "        assert table[\"DATA\"][0][i] == psscan[0].calibrated(0).flux.value[i]\n",
    "    except AssertionError:\n",
    "        print(i)"
   ]
  },
  {
   "cell_type": "code",
   "execution_count": null,
   "id": "a95f0197-d612-4617-821f-d65591e7123a",
   "metadata": {},
   "outputs": [],
   "source": [
    "hdu = fits.open(f\"{data_path}/test_gettp_0.fits\")\n",
    "table = hdu[1].data"
   ]
  },
  {
   "cell_type": "code",
   "execution_count": null,
   "id": "ad1b527f-ae49-4b7a-91ab-6768e1ae22cb",
   "metadata": {},
   "outputs": [],
   "source": [
    "gbtidl_data = table[\"DATA\"][0]"
   ]
  },
  {
   "cell_type": "code",
   "execution_count": null,
   "id": "e07d47cf-2dd2-4ad6-8778-056839351e52",
   "metadata": {},
   "outputs": [],
   "source": [
    "dysh_data = sdf._sdf[0].rawspectra(psscan[0]._bintable_index)[psscan[0]._sigonrows][0]"
   ]
  },
  {
   "cell_type": "code",
   "execution_count": null,
   "id": "dfc32675-cd1e-40ab-981f-413dc344d809",
   "metadata": {},
   "outputs": [],
   "source": [
    "np.nansum((gbtidl_data - dysh_data))"
   ]
  },
  {
   "cell_type": "code",
   "execution_count": null,
   "id": "a63bb902-dcef-4ed2-b475-c9aa5b688f19",
   "metadata": {},
   "outputs": [],
   "source": [
    "table_ = sdf._sdf[0]._hdu[1].data\n",
    "mask = (table_[\"SCAN\"] == 152) & \\\n",
    "       (table_[\"IFNUM\"] == 0) & \\\n",
    "       (table_[\"PLNUM\"] == 0) & \\\n",
    "       (table_[\"CAL\"] == \"T\") & \\\n",
    "       (table_[\"SIG\"] == \"T\")\n",
    "mask.sum()\n"
   ]
  },
  {
   "cell_type": "code",
   "execution_count": null,
   "id": "d8c11182-ac96-477d-b545-b231f1e369fc",
   "metadata": {},
   "outputs": [],
   "source": [
    "table_[mask][\"DATA\"][0]"
   ]
  },
  {
   "cell_type": "code",
   "execution_count": null,
   "id": "1b591f66-f1d8-4c94-a941-49dcd6f8d7ca",
   "metadata": {},
   "outputs": [],
   "source": [
    "sdf.summary()"
   ]
  },
  {
   "cell_type": "code",
   "execution_count": null,
   "id": "21aa7693-c788-4cc7-bf7e-bbd0cd29fba5",
   "metadata": {},
   "outputs": [],
   "source": [
    "hdu = fits.open(f\"{data_path}/test_gettp_intnum_0.fits\")\n",
    "table = hdu[1].data"
   ]
  },
  {
   "cell_type": "code",
   "execution_count": null,
   "id": "235e8b61-8960-494e-94b7-2b20befc18af",
   "metadata": {},
   "outputs": [],
   "source": [
    "tp = sdf.gettp(152)"
   ]
  },
  {
   "cell_type": "code",
   "execution_count": null,
   "id": "cdd018d2-22e5-401a-a70a-2fea8832be8e",
   "metadata": {},
   "outputs": [],
   "source": [
    "np.nansum(tp[0].total_power(0).flux.value - table[\"DATA\"])"
   ]
  },
  {
   "cell_type": "code",
   "execution_count": null,
   "id": "fa9e60eb-e300-4c97-85ed-e1d75746d21f",
   "metadata": {},
   "outputs": [],
   "source": [
    "hdu = fits.open(f\"{data_path}/test_getps_intnum_0.fits\")\n",
    "table = hdu[1].data"
   ]
  },
  {
   "cell_type": "code",
   "execution_count": null,
   "id": "2795b5a6-c537-4083-98bf-dff0e99b5536",
   "metadata": {},
   "outputs": [],
   "source": [
    "ps = sdf.getps(152)"
   ]
  },
  {
   "cell_type": "code",
   "execution_count": null,
   "id": "573e0fd9-c5f8-4ecd-9e49-bbc7984ecf6f",
   "metadata": {},
   "outputs": [],
   "source": [
    "(ps[0].calibrated(0).flux.value == table[\"DATA\"][1])"
   ]
  },
  {
   "cell_type": "code",
   "execution_count": null,
   "id": "e87953be-d5db-4d2c-951a-52d0dd29cb24",
   "metadata": {},
   "outputs": [],
   "source": [
    "assert ps[0]._tsys[0] == table[\"TSYS\"][0]\n",
    "assert ps[0]._tsys[0] == table[\"TSYS\"][1]"
   ]
  },
  {
   "cell_type": "code",
   "execution_count": null,
   "id": "ee7a61fd-18a1-4823-a31b-a07d8adee9da",
   "metadata": {},
   "outputs": [],
   "source": [
    "table[\"DATA\"][0]"
   ]
  },
  {
   "cell_type": "code",
   "execution_count": null,
   "id": "12c30b41-5b03-4207-b9a2-a2143e763140",
   "metadata": {},
   "outputs": [],
   "source": [
    "table[\"DATA\"][1]"
   ]
  },
  {
   "cell_type": "code",
   "execution_count": null,
   "id": "0a5ea81d-723e-4e08-afbf-e7442a84eaa6",
   "metadata": {},
   "outputs": [],
   "source": []
  }
 ],
 "metadata": {
  "kernelspec": {
   "display_name": "Python 3 (ipykernel)",
   "language": "python",
   "name": "python3"
  },
  "language_info": {
   "codemirror_mode": {
    "name": "ipython",
    "version": 3
   },
   "file_extension": ".py",
   "mimetype": "text/x-python",
   "name": "python",
   "nbconvert_exporter": "python",
   "pygments_lexer": "ipython3",
   "version": "3.9.18"
  }
 },
 "nbformat": 4,
 "nbformat_minor": 5
}
