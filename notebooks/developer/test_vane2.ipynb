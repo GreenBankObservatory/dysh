{
 "cells": [
  {
   "cell_type": "markdown",
   "id": "04b1a2e4-34aa-4c8b-a9b1-fe945a33fe7f",
   "metadata": {},
   "source": [
    "# Vane calibration (see also GBT memo 302)\n",
    "\n",
    "The VANE/SKY calibration in ARGUS ...\n",
    "\n",
    "The CALSEQ calibration in the W-band receiver ...\n"
   ]
  },
  {
   "cell_type": "code",
   "execution_count": null,
   "id": "9a8c6f68-39fc-42ed-918c-d3512e809a35",
   "metadata": {},
   "outputs": [],
   "source": [
    "# @todo clean up some imports not needed anymore\n",
    "import os\n",
    "import numpy as np\n",
    "import numpy.ma as ma\n",
    "import matplotlib.pyplot as plt\n",
    "from scipy.stats import norm\n",
    "from astropy.io import fits\n",
    "import astropy.units as u\n",
    "\n",
    "from dysh.fits.sdfitsload import SDFITSLoad\n",
    "from dysh.fits.gbtfitsload import GBTFITSLoad\n",
    "from dysh.util.files import dysh_data\n",
    "from dysh.util.selection import Selection\n",
    "from dysh.spectra.core import mean_tsys\n",
    "# new\n",
    "from dysh.fits.core import mean_data\n",
    "from dysh.fits.core import getbeam\n",
    "from dysh.fits.core import calseq\n",
    "from dysh.fits.core import vanecal\n",
    "from dysh.fits.core import plot_vegas"
   ]
  },
  {
   "cell_type": "code",
   "execution_count": null,
   "id": "832b5d51-5576-45d9-a781-1c9803b24283",
   "metadata": {},
   "outputs": [],
   "source": [
    "# not needed anymore\n",
    "k=['DATE-OBS','SCAN', 'IFNUM', 'PLNUM', 'FDNUM', 'INTNUM', 'PROCSCAN','FEED', 'SRFEED', 'FEEDXOFF', 'FEEDEOFF', 'SIG', 'CAL', 'PROCSEQN', 'PROCSIZE']\n",
    "ks=['DATE-OBS','SCAN', 'SUBOBSMODE', 'IFNUM', 'PLNUM', 'FDNUM', 'INTNUM', 'CAL', 'PROCSEQN']\n",
    "kw=['DATE-OBS','SCAN', 'SUBOBSMODE', 'IFNUM', 'PLNUM', 'FDNUM', 'INTNUM', 'CAL', 'PROCSEQN', 'CALPOSITION','TCAL','TSYS']\n"
   ]
  },
  {
   "cell_type": "markdown",
   "id": "81344c83-857e-402e-a1b1-73a123ffca1c",
   "metadata": {},
   "source": [
    "Helper functions"
   ]
  },
  {
   "cell_type": "code",
   "execution_count": null,
   "id": "56c66afc-3120-42ac-828c-64145c362c93",
   "metadata": {},
   "outputs": [],
   "source": [
    "def mkdir(name, clean=True):\n",
    "    \"\"\" simpler frontend for making a directory that might also already exist\n",
    "        clean=True:    also remove files inside\n",
    "    \"\"\"\n",
    "    os.makedirs(name, exist_ok = True)\n",
    "    if clean:\n",
    "        fns = os.listdir(name)\n",
    "        for fn in fns:\n",
    "            print(f\"Removing {fn} from {name}\")\n",
    "            os.unlink(os.path.join(name,fn))"
   ]
  },
  {
   "cell_type": "code",
   "execution_count": null,
   "id": "0b6cfc91-3bcb-478d-9423-7be9e92a951f",
   "metadata": {},
   "outputs": [],
   "source": [
    "# stop gap until spf.getnod() is smart again\n",
    "def getnod(sdf, scans, beams, ifnum=0, plnum=0, tsys=None):\n",
    "    \"\"\" fake getnod() based on alternating gettp() with averaging done internally\n",
    "        use the real sdf.getnod() for final analysis\n",
    "        new API:    scans[], feeds[], tsys[]\n",
    "        \"\"\"\n",
    "    if tsys is None:\n",
    "        tsys = [1.0, 1.0]\n",
    "    else:\n",
    "        print(f\"@todo use tsys={tsys} for proper weighting\")\n",
    "    ps1_on = sdf.gettp(scan=scans[0], fdnum=beams[0], ifnum=ifnum, plnum=plnum, calibrate=True, cal=False).timeaverage()\n",
    "    ps1_off = sdf.gettp(scan=scans[1], fdnum=beams[0], ifnum=ifnum, plnum=plnum, calibrate=True, cal=False).timeaverage()\n",
    "    sp1 = (ps1_on - ps1_off)/ps1_off\n",
    "\n",
    "    ps2_on = sdf.gettp(scan=scans[1], fdnum=beams[1], ifnum=ifnum, plnum=plnum, calibrate=True, cal=False).timeaverage()\n",
    "    ps2_off = sdf.gettp(scan=scans[0], fdnum=beams[1], ifnum=ifnum, plnum=plnum, calibrate=True, cal=False).timeaverage()\n",
    "    sp2 = (ps2_on - ps2_off)/ps2_off\n",
    "\n",
    "    return (sp1,sp2)\n"
   ]
  },
  {
   "cell_type": "markdown",
   "id": "271fa59b-35d3-47eb-b693-56af96f28da1",
   "metadata": {},
   "source": [
    "##   NGC0001\n",
    "\n",
    "no obvious signal."
   ]
  },
  {
   "cell_type": "code",
   "execution_count": null,
   "id": "7db2ad26-e43a-4242-a467-a76b91ae8e46",
   "metadata": {},
   "outputs": [],
   "source": [
    "f1 = dysh_data('AGBT21B_024_01/AGBT21B_024_01.raw.vegas')\n",
    "sdf1 = GBTFITSLoad(f1, skipflags=True)"
   ]
  },
  {
   "cell_type": "code",
   "execution_count": null,
   "id": "2dd8bc0e-1482-45d3-b5ae-26a1d10bcc90",
   "metadata": {},
   "outputs": [],
   "source": [
    "sdf1.summary()"
   ]
  },
  {
   "cell_type": "markdown",
   "id": "adcbdbb2-d594-445d-95b9-cb2a26c6a225",
   "metadata": {},
   "source": [
    "# NGC5908\n",
    "\n",
    "This edge2 takes too long, but has signal. Only need scans 327..334"
   ]
  },
  {
   "cell_type": "code",
   "execution_count": null,
   "id": "3b6314ed-89a4-4537-b92f-61aefe03bab3",
   "metadata": {},
   "outputs": [],
   "source": [
    "f2=dysh_data('AGBT21B_024_14/AGBT21B_024_14.raw.vegas')\n",
    "print(f2)\n",
    "f2 = \"edge2\"\n",
    "sdf2 = GBTFITSLoad(f2)"
   ]
  },
  {
   "cell_type": "code",
   "execution_count": null,
   "id": "2d2a8f03-2d21-4d26-8af1-a029276bc022",
   "metadata": {},
   "outputs": [],
   "source": [
    "sdf2.summary()"
   ]
  },
  {
   "cell_type": "code",
   "execution_count": null,
   "id": "ece5e92d-a95d-4504-9016-549078c7e957",
   "metadata": {},
   "outputs": [],
   "source": [
    "plot_vegas(sdf2,[327,329],\"edge2 TP at 112 and 114 GHz\")"
   ]
  },
  {
   "cell_type": "code",
   "execution_count": null,
   "id": "4b551481-8c3e-4e9c-845c-e7b0405e0749",
   "metadata": {},
   "outputs": [],
   "source": [
    "plot_vegas(sdf2,[327,329],\"edge2 Tsys at 112 and 114 GHz\",tsys=True, ylim=[0.5,1.2])"
   ]
  },
  {
   "cell_type": "code",
   "execution_count": null,
   "id": "f2b10d8a-628a-44f5-ac3b-21efec5c75be",
   "metadata": {},
   "outputs": [],
   "source": [
    "beam2 = getbeam(sdf2)   # 1,9\n",
    "print(\"feeds\",beam2)\n"
   ]
  },
  {
   "cell_type": "code",
   "execution_count": null,
   "id": "b8aeeb7c-e42e-4498-8b55-07356911e30e",
   "metadata": {},
   "outputs": [],
   "source": [
    "tsys1 = vanecal(sdf2, [327, 328], feeds=beam2)\n",
    "print(tsys1)\n",
    "tsys2 = vanecal(sdf2, [329, 330], feeds=beam2)\n",
    "print(tsys2)"
   ]
  },
  {
   "cell_type": "code",
   "execution_count": null,
   "id": "b70f6798-6f5d-4685-b907-8ee1dbb737b1",
   "metadata": {},
   "outputs": [],
   "source": [
    "print(tsys1)\n",
    "print(tsys2)"
   ]
  },
  {
   "cell_type": "code",
   "execution_count": null,
   "id": "11ace8f6-ebc4-4e88-860e-720783423bff",
   "metadata": {},
   "outputs": [],
   "source": []
  },
  {
   "cell_type": "code",
   "execution_count": null,
   "id": "ff591cd0-b7a4-4a23-a727-419a57fb6dfc",
   "metadata": {},
   "outputs": [],
   "source": [
    "\n"
   ]
  },
  {
   "cell_type": "code",
   "execution_count": null,
   "id": "305e4008-9b87-4082-b5db-c7378ba5f0b1",
   "metadata": {},
   "outputs": [],
   "source": []
  },
  {
   "cell_type": "code",
   "execution_count": null,
   "id": "fcb1b772-dc86-4309-816d-fb0e8ce49faf",
   "metadata": {},
   "outputs": [],
   "source": []
  },
  {
   "cell_type": "code",
   "execution_count": null,
   "id": "9f57d17d-cf05-405a-ae49-60d58cca889e",
   "metadata": {},
   "outputs": [],
   "source": [
    "sp1,sp2 = getnod(sdf2, [331, 332], beam2, tsys=tsys1)\n",
    "sp3,sp4 = getnod(sdf2, [333, 334], beam2, tsys=tsys2)\n",
    "sp3 = sp1.average([sp2,sp3,sp4])\n",
    "object = sp3.meta['OBJECT']"
   ]
  },
  {
   "cell_type": "code",
   "execution_count": null,
   "id": "4f92e8f1-5da8-4728-a4cf-2267e1467732",
   "metadata": {},
   "outputs": [],
   "source": [
    "sp3.plot(title=f\"Source: {object}\",xaxis_unit=\"km/s\")"
   ]
  },
  {
   "cell_type": "code",
   "execution_count": null,
   "id": "7d1299de-b9a2-40cd-8f09-3aff6fc3d315",
   "metadata": {},
   "outputs": [],
   "source": [
    "# do a baseline subtraction\n",
    "kms = u.km/u.s\n",
    "sp4=sp3[400:600]    # @todo need to figure this out in km/s\n",
    "sp4.baseline(model=\"poly\", degree=5, exclude=[-150*kms,150*kms], remove=True)\n",
    "#sp4.baseline(model=\"cheby\", degree=5, exclude=[-150*kms,150*kms], remove=True)\n",
    "# chebyshev', 'legendre', or 'hermite'\n",
    "print(sp4.baseline_model)\n",
    "sp4.plot(title=f\"Source: {object}\",xaxis_unit=\"km/s\")\n",
    "\n",
    "sp5 = sp4.smooth('box', 3)\n",
    "sp5.plot(title=f\"Source: {object}\",xaxis_unit=\"km/s\")\n"
   ]
  },
  {
   "cell_type": "code",
   "execution_count": null,
   "id": "79036fca-39a0-4450-a3ca-a3c52b94ece7",
   "metadata": {},
   "outputs": [],
   "source": []
  },
  {
   "cell_type": "code",
   "execution_count": null,
   "id": "5a040669-3717-4b81-ab65-d45e027ec50b",
   "metadata": {},
   "outputs": [],
   "source": []
  },
  {
   "cell_type": "markdown",
   "id": "67ec4afe-ecf4-4753-ae7c-a9b6212ea8df",
   "metadata": {},
   "source": [
    "#  M82 Q-band (CALSEQ)\n",
    "\n",
    "4 different IFs. Has signal in all but the first IF, but since IF's are overlapping, more interesting to plot them in one\n",
    "spectrum.   We don't have tools for that, so there's a cheat in the end."
   ]
  },
  {
   "cell_type": "code",
   "execution_count": null,
   "id": "c3d4817f-4fbe-4e82-a2ee-5dc961afe127",
   "metadata": {},
   "outputs": [],
   "source": [
    "f3 = dysh_data(accept='AGBT15B_244_07/AGBT15B_244_07.raw.vegas')\n",
    "print(f3)\n",
    "sdf3=GBTFITSLoad(f3, skipflags=True)"
   ]
  },
  {
   "cell_type": "code",
   "execution_count": null,
   "id": "4e56032b-0dbd-47c6-8198-32091c582045",
   "metadata": {},
   "outputs": [],
   "source": [
    "sdf3.summary()"
   ]
  },
  {
   "cell_type": "code",
   "execution_count": null,
   "id": "a32523e9-d93d-4247-86a8-e974348d5564",
   "metadata": {},
   "outputs": [],
   "source": [
    "beams3 = getbeam(sdf3)    \n",
    "print(beams3)"
   ]
  },
  {
   "cell_type": "code",
   "execution_count": null,
   "id": "7ac85349-05a7-466c-87a7-55fd5bc5ea4c",
   "metadata": {},
   "outputs": [],
   "source": [
    "tsys3,g = calseq(sdf3, 130)     # 100.27992034259859, 9.129371938341321e-07\n",
    "print(tsys3,g)"
   ]
  },
  {
   "cell_type": "code",
   "execution_count": null,
   "id": "49b854a4-b348-40cf-9baf-8f17d9590731",
   "metadata": {},
   "outputs": [],
   "source": [
    "print(tsys3,g)  # 100.27992034259859, 9.129371938341321e-07"
   ]
  },
  {
   "cell_type": "markdown",
   "id": "f7beeb93-846d-47ba-a142-3a866d0b027a",
   "metadata": {},
   "source": [
    "The 2nd IF (`ifnum=1`) has a line at 87.3 GHz, though there's also a line for ifnum=2 (88.6), and two lines for ifnum=3 (88.6 and 89.1 GHz), obviously the different IFs overlap somewhat. The edges are noisy and we'll have to take off."
   ]
  },
  {
   "cell_type": "code",
   "execution_count": null,
   "id": "87165302-d341-4434-a35a-f6cfb3acb097",
   "metadata": {},
   "outputs": [],
   "source": [
    "sp_final = list(range(4))\n",
    "\n",
    "for ifnum in range(4):\n",
    "    sp = []\n",
    "    for s in range(131,140,2):\n",
    "        print(s)\n",
    "        sp1,sp2 = getnod(sdf3, [s,s+1], [0,1], plnum=0, ifnum=ifnum)\n",
    "        sp3,sp4 = getnod(sdf3, [s,s+1], [0,1], plnum=1, ifnum=ifnum)\n",
    "        sp.append(sp1)\n",
    "        sp.append(sp2)\n",
    "        sp.append(sp3)\n",
    "        sp.append(sp4)\n",
    "    \n",
    "    sp_final[ifnum] = sp[0].average(sp[1:]).smooth('gauss',16)\n",
    "    sp_final[ifnum].plot()"
   ]
  },
  {
   "cell_type": "markdown",
   "id": "03c48a8c-43c5-46b9-8899-135ef6e9afbd",
   "metadata": {},
   "source": [
    "The edges are unreliable, so we take off 50 channels from the ends. These spectra have 1024 channels. Scale by Tsys."
   ]
  },
  {
   "cell_type": "code",
   "execution_count": null,
   "id": "df390fe1-b461-49b7-be19-4bea851e6b68",
   "metadata": {},
   "outputs": [],
   "source": []
  },
  {
   "cell_type": "code",
   "execution_count": null,
   "id": "daed6525-6696-4d3b-9c9b-a1800522de17",
   "metadata": {},
   "outputs": [],
   "source": [
    "edge = 50\n",
    "x = list(range(4))\n",
    "y = list(range(4))\n",
    "for ifnum in range(4):\n",
    "    sp = sp_final[ifnum][edge:-edge] * tsys3\n",
    "    object = sp.meta['OBJECT']\n",
    "    sp.plot(xaxis_unit=\"GHz\", title=f\"{object}, ifnum={ifnum}\")\n",
    "    # sp.plot(xaxis_unit=\"km/s\", title=f\"{object}, ifnum={ifnum}\")\n",
    "    #    cheat and save the numerical values of the spectra\n",
    "    x[ifnum] = sp.frequency.value\n",
    "    y[ifnum] = sp.flux.value\n"
   ]
  },
  {
   "cell_type": "markdown",
   "id": "e2d3ce98-e95b-4088-a509-76d8c74c3786",
   "metadata": {},
   "source": [
    "Now a cheat, the 4 IFs were stored in arrays x,y"
   ]
  },
  {
   "cell_type": "code",
   "execution_count": null,
   "id": "ed4b8992-da7f-495c-bdae-103fecf72d32",
   "metadata": {},
   "outputs": [],
   "source": [
    "for i in range(4):\n",
    "    plt.plot(x[i],y[i])\n",
    "plt.xlabel(\"Frequency (GHz)\")\n",
    "plt.ylabel(\"Ta\")\n",
    "plt.title(f\"{object}\")"
   ]
  },
  {
   "cell_type": "markdown",
   "id": "0b963c8a-fee8-4cf8-a64e-c9bcb8867653",
   "metadata": {},
   "source": [
    "* 88.63185 HCN\n",
    "* 89.18853 HCO+\n",
    "\n",
    "* VHEL = 269 km/s   dFreq ~ 0.08 GHz"
   ]
  }
 ],
 "metadata": {
  "kernelspec": {
   "display_name": "Python 3 (ipykernel)",
   "language": "python",
   "name": "python3"
  },
  "language_info": {
   "codemirror_mode": {
    "name": "ipython",
    "version": 3
   },
   "file_extension": ".py",
   "mimetype": "text/x-python",
   "name": "python",
   "nbconvert_exporter": "python",
   "pygments_lexer": "ipython3",
   "version": "3.12.4"
  }
 },
 "nbformat": 4,
 "nbformat_minor": 5
}
