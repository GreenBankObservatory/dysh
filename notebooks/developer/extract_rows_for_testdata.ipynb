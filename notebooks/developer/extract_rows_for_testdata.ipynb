{
 "cells": [
  {
   "cell_type": "markdown",
   "id": "6691f991-d394-4425-ba01-07585cb6b5cb",
   "metadata": {},
   "source": [
    "Notebook used to extract rows from a SDFITS file. This is handy to reduce the size of the test data."
   ]
  },
  {
   "cell_type": "code",
   "execution_count": 1,
   "id": "2fa2831b-33d8-4d08-9b58-15dab23a82d4",
   "metadata": {},
   "outputs": [],
   "source": [
    "import numpy as np\n",
    "\n",
    "from astropy.io import fits\n",
    "\n",
    "from dysh import util\n",
    "from dysh.fits.gbtfitsload import GBTFITSLoad\n",
    "from dysh.fits.sdfitsload import SDFITSLoad"
   ]
  },
  {
   "cell_type": "code",
   "execution_count": 2,
   "id": "8fa8d9bf-76c3-4ef3-bf30-b86d36c4c01e",
   "metadata": {},
   "outputs": [],
   "source": [
    "# Select the VEGAS banks to use,\n",
    "# and the scan numbers you are interested in.\n",
    "vbanks = [\"A\"]\n",
    "scans  = [156, 157, 158, 159]\n",
    "\n",
    "# Where do you find the original data?\n",
    "example_data = \"/home/dysh/example_data/\"     #ps\n",
    "data_path    = f\"{example_data}onoff-L/data/TGBT21A_501_11.raw.vegas/\"\n",
    "data_file    = lambda vbank : f\"{data_path}/TGBT21A_501_11.raw.vegas.{vbank}.fits\"\n",
    "# Where will you put the smaller data?\n",
    "# Use meaningful names.\n",
    "output_path  = f\"{util.get_project_testdata()}/TGBT21A_501_11/TGBT21A_501_11_NGC2782/\"\n",
    "output       = lambda vbank : f\"{output_path}/TGBT21A_501_11_NGC2782.raw.vegas.{vbank}.fits\""
   ]
  },
  {
   "cell_type": "code",
   "execution_count": 5,
   "id": "ed2c15b2-ac18-425e-bf1b-cc7fcbe70f37",
   "metadata": {},
   "outputs": [
    {
     "name": "stdout",
     "output_type": "stream",
     "text": [
      "First row of scan 156 is 43680\n",
      "First row of scan 157 is 45200\n",
      "First row of scan 158 is 46720\n",
      "First row of scan 159 is 48240\n",
      "Saved rows to /home/sandboxes/psalas/Dysh/dysh/testdata/TGBT21A_501_11/TGBT21A_501_11_NGC2782//TGBT21A_501_11_NGC2782.raw.vegas.A.fits\n"
     ]
    }
   ],
   "source": [
    "orows  = []\n",
    "\n",
    "# Treat each VEGAS bank independently.\n",
    "for vbank in vbanks:\n",
    "    \n",
    "    # Define the input and output.\n",
    "    df = data_file(vbank)\n",
    "    of = output(vbank)\n",
    "\n",
    "    # Load the input.\n",
    "    sdf = GBTFITSLoad(df)\n",
    "\n",
    "    # We want to keep at least one noise diode cycle \n",
    "    # for each spectral window and polarization.\n",
    "    nrows  = len(sdf.udata(\"PLNUM\")) * len(sdf.udata(\"IFNUM\")) * len(sdf.udata(\"CAL\"))\n",
    "\n",
    "    # Loop over scans getting the row number\n",
    "    # of the first element.\n",
    "    # @TODO: check if plnum=1 is always first.\n",
    "    for scan in scans:\n",
    "        rows = sdf.scan_rows([scan], plnum=1)\n",
    "        print(f\"First row of scan {scan} is {rows[0]}\")\n",
    "        orows.append(np.arange(rows[0], rows[0]+nrows))\n",
    "\n",
    "    # Save the rows for one VEGAS bank.\n",
    "    hdu0  = sdf._sdf[0]._hdu[0].copy()\n",
    "    table = sdf._sdf[0]._hdu[1].data[np.ravel(orows)]\n",
    "    head  = sdf._sdf[0]._hdu[1].header\n",
    "    thdu  = fits.BinTableHDU(table, header=head)\n",
    "    outhdu = fits.HDUList([hdu0, thdu])\n",
    "    outhdu.writeto(of, overwrite=True)\n",
    "    print(f\"Saved rows to {of}\")"
   ]
  },
  {
   "cell_type": "code",
   "execution_count": null,
   "id": "9d2cadaa-ec58-47ae-b42e-63d1f833f847",
   "metadata": {},
   "outputs": [],
   "source": []
  }
 ],
 "metadata": {
  "kernelspec": {
   "display_name": "Python 3 (ipykernel)",
   "language": "python",
   "name": "python3"
  },
  "language_info": {
   "codemirror_mode": {
    "name": "ipython",
    "version": 3
   },
   "file_extension": ".py",
   "mimetype": "text/x-python",
   "name": "python",
   "nbconvert_exporter": "python",
   "pygments_lexer": "ipython3",
   "version": "3.11.6"
  }
 },
 "nbformat": 4,
 "nbformat_minor": 5
}
