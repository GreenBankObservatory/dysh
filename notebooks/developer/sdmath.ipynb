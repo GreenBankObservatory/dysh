{
 "cells": [
  {
   "cell_type": "markdown",
   "id": "ea5b42c5-6611-4d78-a98b-8a8ad9bbcbad",
   "metadata": {},
   "source": [
    "# sdmath\n",
    "\n",
    "Here we are comparing the simple math behind a typical noise-diode based ON-OFF position switch calibration.\n",
    "\n",
    "The math below was taken from an earlier discussion in GBTOY."
   ]
  },
  {
   "cell_type": "markdown",
   "id": "f2ffb0f7-06c5-4d0b-8f15-5590895a9c06",
   "metadata": {},
   "source": [
    "$$\n",
    "T_a(\\nu) = T_{sys}^{ref} \\times {  {sig(\\nu) - ref(\\nu)} \\over { ref(\\nu) }}          \\tag{2}\n",
    "$$\n",
    "in Braatz(2009) the average is computed as follows:\n",
    "$$\n",
    "sig = {1\\over 2} (sig_{calon} + sig_{caloff}), ref = {1\\over 2} (ref_{calon} + ref_{caloff}) \\tag{2a}\n",
    "$$\n",
    "whereas Teuben thought this would be the more logical one:\n",
    "$$\n",
    "T_{calon} =  T_{sys}^{ref} \\times  {  {sig_{calon}(\\nu) - ref_{calon}(\\nu)} \\over { ref_{calon}(\\nu) }} \\tag{2b}\n",
    "$$\n",
    "$$\n",
    "T_{caloff} = T_{sys}^{ref} \\times  {  {sig_{caloff}(\\nu)- ref_{caloff}(\\nu)} \\over { ref_{caloff}(\\nu) }}  \\tag{2c}\n",
    "$$\n",
    "$$\n",
    "T_a(\\nu) = {1\\over 2} (T_{calon} + T_{caloff})  \\tag{2d}\n",
    "$$\n"
   ]
  },
  {
   "cell_type": "markdown",
   "id": "dade5696-105a-47bb-8b5e-423b7c3cef55",
   "metadata": {},
   "source": [
    "## Symbolic\n",
    "\n",
    "```\n",
    "If you write (S=sky  G=galaxy  N=noise diode) - sky should be S_on and S_off\n",
    "   sig_calon   = S + G + N\n",
    "   sig_caloff  = S + G\n",
    "   ref_calon   = S     + N\n",
    "   ref_caloff  = S\n",
    "\n",
    "Braatz:    G / (S + N/2)\n",
    "\n",
    "Teuben:    (G/S + G/(S_N) )/2\n",
    "\n",
    "and their ratio\n",
    "\n",
    "           T/B ~ 1 - (N/S)^2\n",
    "\n",
    "which is about 8% (ngc5291)\n",
    "```"
   ]
  },
  {
   "cell_type": "code",
   "execution_count": null,
   "id": "ec108784-829a-4fea-8919-7fec26272e51",
   "metadata": {},
   "outputs": [],
   "source": [
    "import os\n",
    "import numpy as np\n",
    "import numpy.ma as ma\n",
    "import matplotlib.pyplot as plt\n",
    "from scipy.stats import norm\n",
    "from astropy.io import fits\n",
    "import astropy.units as u\n"
   ]
  },
  {
   "cell_type": "code",
   "execution_count": null,
   "id": "03b1458a-7d3b-40a0-ac2c-a146f364397d",
   "metadata": {},
   "outputs": [],
   "source": [
    "from dysh.fits.sdfitsload import SDFITSLoad\n",
    "from dysh.fits.gbtfitsload import GBTFITSLoad\n",
    "from dysh.util.files import dysh_data\n",
    "from dysh.util.selection import Selection\n",
    "from dysh.spectra.core import mean_tsys\n",
    "\n"
   ]
  },
  {
   "cell_type": "code",
   "execution_count": null,
   "id": "1d727fc6-40f3-4e9b-87d7-b23d4f8fbea6",
   "metadata": {},
   "outputs": [],
   "source": [
    "f1 = dysh_data(example=\"getps\")  # NGC5291\n",
    "print(f1)"
   ]
  },
  {
   "cell_type": "code",
   "execution_count": null,
   "id": "d02d8f10-3226-4010-a6b0-b0ff1847ecea",
   "metadata": {},
   "outputs": [],
   "source": [
    "f2 = dysh_data(example=\"getps2\") # NGC2415\n",
    "print(f2)"
   ]
  },
  {
   "cell_type": "code",
   "execution_count": null,
   "id": "5e3911a3-fd55-4f4b-a983-5bc6dbbdd555",
   "metadata": {},
   "outputs": [],
   "source": [
    "f3 = dysh_data('ngc5291.fits')\n",
    "print(f3)"
   ]
  },
  {
   "cell_type": "code",
   "execution_count": null,
   "id": "e009d085-a2b3-4724-91c3-a9e0d1019a79",
   "metadata": {},
   "outputs": [],
   "source": [
    "sdf1 = GBTFITSLoad(f1)\n",
    "sdf1.summary()"
   ]
  },
  {
   "cell_type": "code",
   "execution_count": null,
   "id": "20362e18-4cab-4631-8e36-284ed5ad4cd6",
   "metadata": {},
   "outputs": [],
   "source": [
    "sdf2 = GBTFITSLoad(f2)\n",
    "sdf2.summary()"
   ]
  },
  {
   "cell_type": "code",
   "execution_count": null,
   "id": "fe5b2a62-4f0c-4e6c-bede-3858ab3bba71",
   "metadata": {},
   "outputs": [],
   "source": [
    "sdf1.getspec(0).plot(xaxis_unit='chan')"
   ]
  },
  {
   "cell_type": "code",
   "execution_count": null,
   "id": "437bf2f2-29f8-4bd3-94c9-ed2a3d150114",
   "metadata": {},
   "outputs": [],
   "source": []
  },
  {
   "cell_type": "code",
   "execution_count": null,
   "id": "e236eb4f-b885-436b-b14a-a98e4bc22208",
   "metadata": {},
   "outputs": [],
   "source": [
    "sdf2.getspec(0).plot(xaxis_unit='chan')"
   ]
  },
  {
   "cell_type": "code",
   "execution_count": null,
   "id": "d9b98d76-09c6-4aa8-bb99-ea5348b5bb8e",
   "metadata": {},
   "outputs": [],
   "source": []
  },
  {
   "cell_type": "code",
   "execution_count": null,
   "id": "dcd62c7d-2627-432b-afc8-203fed17baca",
   "metadata": {},
   "outputs": [],
   "source": []
  },
  {
   "cell_type": "code",
   "execution_count": null,
   "id": "3155e6a9-3e1b-4c33-8e90-9df62a0599c5",
   "metadata": {},
   "outputs": [],
   "source": []
  },
  {
   "cell_type": "code",
   "execution_count": null,
   "id": "56dae696-397a-4ad6-8fcb-ef6f413d38b3",
   "metadata": {},
   "outputs": [],
   "source": [
    "# and older version of this file may fail due to missing ['PLNUM', 'SUBREF_STATE']\n",
    "sdf3 = GBTFITSLoad(f3)\n",
    "sdf3.summary()"
   ]
  },
  {
   "cell_type": "markdown",
   "id": "7ec9d0c1-41e2-47fb-b084-e69c2dce4c37",
   "metadata": {},
   "source": [
    "the remainder is from `getps_dysh_vs_gbtidl.ipynb`\n"
   ]
  },
  {
   "cell_type": "markdown",
   "id": "7fd897ff-0ff0-489d-ac27-24efbd821ca6",
   "metadata": {},
   "source": [
    "# Comparing `getps` between `Dysh` and `GBTIDL`.\n",
    "\n",
    "In GBTIDL, from the `src/dysh/fits/tests/data` directory:\n",
    "```\n",
    "filein,\"TGBT21A_501_11.raw.vegas.fits\"\n",
    "getps,152,ifnum=0,plnum=0,intnum=0\n",
    "fileout,\"TGBT21A_501_11_getps_scan_152_intnum_0_ifnum_0_plnum_0.fits\"\n",
    "keep\n",
    "```\n",
    "Look at the `TCAL` value and the computed `TSYS`:\n",
    "```\n",
    "print,!g.s[0].mean_tcal\n",
    "   1.4551637\n",
    "print,!g.s[0].tsys\n",
    "   17.2400\n",
    "```\n",
    "`GBTIDL` seems to use a lower precision?\n",
    "```\n",
    "PRINT, SIZE(!g.s[0].tsys)\n",
    "           0           4           1\n",
    "```\n",
    "Code 4 is for float, not double :)  [reference](https://www.l3harrisgeospatial.com/docs/size.html)\n",
    "\n",
    "I tried figuring out why `GBTIDL` uses float instead of double, but could not. `GBTIDL` seems to load the data from the `SDFITS` without applying any type conversion, so I do not understand what happens.\n",
    "\n",
    "So, let's check what happens if we re-scale the `dysh` results using a lower precison `TSYS` or the `TSYS` saved by `GBTIDL`.\n",
    "\n",
    "Using the `TSYS` saved by GBTIDL makes the difference smaller. However, I still cannot figure out how to reproduce the `GBTIDL` value for `TSYS` starting from the raw data...\n",
    "\n",
    "Also note that there is no .flag file here, so `GBTIDL` is not using any external flags.\n",
    "\n",
    "**Solved:** The issues is that `IDL` uses inclusive ranges and `Python` does not. Increasing the upper edge to consider one extra channel makes the difference go away!"
   ]
  },
  {
   "cell_type": "code",
   "execution_count": null,
   "id": "89821d70-e95b-4188-a68b-aaf9ee2eb356",
   "metadata": {},
   "outputs": [],
   "source": [
    "%load_ext autoreload\n",
    "%autoreload 2"
   ]
  },
  {
   "cell_type": "code",
   "execution_count": null,
   "id": "064da655-9bde-43be-8dbd-ac24ce432adf",
   "metadata": {},
   "outputs": [],
   "source": []
  },
  {
   "cell_type": "code",
   "execution_count": null,
   "id": "4d266aab-fd1c-4452-b507-2ce69aa73478",
   "metadata": {},
   "outputs": [],
   "source": [
    "import numpy as np\n",
    "from astropy.io import fits\n",
    "from dysh.fits.gbtfitsload import GBTFITSLoad\n",
    "import dysh.util as util"
   ]
  },
  {
   "cell_type": "code",
   "execution_count": null,
   "id": "31879198-73f7-4f96-a209-62429d00b0b2",
   "metadata": {},
   "outputs": [],
   "source": [
    "testdata = util.get_project_testdata()\n",
    "print(type(testdata))\n"
   ]
  },
  {
   "cell_type": "code",
   "execution_count": null,
   "id": "3f7132d8-1cfd-4f63-a03a-cfe004f75a83",
   "metadata": {},
   "outputs": [],
   "source": [
    "file1 = testdata / \"TGBT21A_501_11/TGBT21A_501_11_getps_scan_152_intnum_0_ifnum_0_plnum_0.fits\"\n",
    "file2 = testdata / \"TGBT21A_501_11/TGBT21A_501_11.raw.vegas.fits\""
   ]
  },
  {
   "cell_type": "code",
   "execution_count": null,
   "id": "ced011de-c9fc-4cb9-897a-3e541def0763",
   "metadata": {},
   "outputs": [],
   "source": [
    "hdu1 = fits.open(file1)\n",
    "gbtidl = hdu1[1].data"
   ]
  },
  {
   "cell_type": "code",
   "execution_count": null,
   "id": "0894b1e2-a99f-4e10-9680-6465d21bd1b2",
   "metadata": {},
   "outputs": [],
   "source": [
    "sdf = GBTFITSLoad(file2)\n",
    "psscan = sdf.getps(152)\n",
    "psscan.calibrate()\n",
    "dysh_getps = psscan[0].calibrated(0).flux.to(\"K\").value\n",
    "dysh_getps_rescaled_low = dysh_getps/psscan[0]._tsys*17.2400   # Lower precision\n",
    "dysh_getps_rescaled_sav = dysh_getps/psscan[0]._tsys*gbtidl[\"TSYS\"] # Using the stored value"
   ]
  },
  {
   "cell_type": "code",
   "execution_count": null,
   "id": "d7c32de5-04c9-4a74-af2f-8a0a51e423e9",
   "metadata": {},
   "outputs": [],
   "source": [
    "print(\"GBTIDL vs Dysh native\")\n",
    "print(\"STD:\", np.nanstd(gbtidl[\"DATA\"][0] - dysh_getps))\n",
    "print(\"MEDIAN:\", np.nanmedian(gbtidl[\"DATA\"][0] - dysh_getps))\n",
    "print(\"\\n\")\n",
    "print(\"GBTIDL vs Dysh rescaled to low precision\")\n",
    "print(\"STD:\", np.nanstd(gbtidl[\"DATA\"][0] - dysh_getps_rescaled_low))\n",
    "print(\"MEDIAN:\", np.nanmedian(gbtidl[\"DATA\"][0] - dysh_getps_rescaled_low))\n",
    "print(\"\\n\")\n",
    "print(\"GBTIDL vs Dysh rescaled to saved TSYS\")\n",
    "print(\"STD:\", np.nanstd(gbtidl[\"DATA\"][0] - dysh_getps_rescaled_sav))\n",
    "print(\"MEDIAN:\", np.nanmedian(gbtidl[\"DATA\"][0] - dysh_getps_rescaled_sav))"
   ]
  },
  {
   "cell_type": "markdown",
   "id": "f38ae1f9-ed7b-4a6e-9b4d-e3bc0cfcf6cc",
   "metadata": {},
   "source": [
    "It is better to use the value stored by `GBTIDL` rather than what gets printed."
   ]
  },
  {
   "cell_type": "code",
   "execution_count": null,
   "id": "c98dd245-aab8-47db-beed-b58b4748f8a3",
   "metadata": {},
   "outputs": [],
   "source": [
    "psscan[0]._tsys"
   ]
  },
  {
   "cell_type": "code",
   "execution_count": null,
   "id": "c1b4e168-0e60-4314-95b3-33f554b84d98",
   "metadata": {},
   "outputs": [],
   "source": [
    "gbtidl[\"TSYS\"], gbtidl[\"TCAL\"]"
   ]
  },
  {
   "cell_type": "code",
   "execution_count": null,
   "id": "0b302b20-ea13-41ad-b383-f1ae6595d2d8",
   "metadata": {},
   "outputs": [],
   "source": [
    "print(psscan[0]._tsys/gbtidl[\"TSYS\"] - 1.)"
   ]
  },
  {
   "cell_type": "code",
   "execution_count": null,
   "id": "caac3f45-bd20-4aca-9657-d7e48bcbfe2d",
   "metadata": {},
   "outputs": [],
   "source": [
    "# This is the difference we observe between `getps` in `GBTIDL` and `Dysh`.\n",
    "print(psscan[0]._tsys/gbtidl[\"TSYS\"] - 1.)"
   ]
  },
  {
   "cell_type": "code",
   "execution_count": null,
   "id": "05226070-a079-467c-9a61-2777dd70ebbc",
   "metadata": {},
   "outputs": [],
   "source": [
    "# Let's try to reproduce the `TSYS` calculation.\n",
    "hdu2 = fits.open(file2)\n",
    "table2 = hdu2[1].data"
   ]
  },
  {
   "cell_type": "code",
   "execution_count": null,
   "id": "12876f8b-74a3-45cc-a762-4986769e654d",
   "metadata": {},
   "outputs": [],
   "source": [
    "# Where are our sig-ref?\n",
    "table2[\"CAL\"], table2[\"PROCSEQN\"], table2[\"OBSMODE\"], table2[\"TCAL\"]\n",
    "# Why is `TCAL` different for the OFF position??"
   ]
  },
  {
   "cell_type": "code",
   "execution_count": null,
   "id": "c28c918e-da22-4ca7-b2fe-8f2f2963ccf1",
   "metadata": {},
   "outputs": [],
   "source": [
    "data2 = table2[\"DATA\"].astype(np.float64)"
   ]
  },
  {
   "cell_type": "code",
   "execution_count": null,
   "id": "427bc4c1-c462-4945-b8fc-a0e6be317780",
   "metadata": {},
   "outputs": [],
   "source": [
    "# Unpack arrays.\n",
    "nchan = data2.shape[1]\n",
    "chi = int(0.1*nchan)\n",
    "chf = int(0.9*nchan) + 1 + 1 # IDL uses inclusive channel ranges!\n",
    "print(\"Channel range: \", chi, chf)\n",
    "sig_on = data2[0,chi:chf]\n",
    "sig_off = data2[1,chi:chf]\n",
    "sig_tcal = table2[\"TCAL\"][0]\n",
    "ref_on = data2[2,chi:chf]\n",
    "ref_off = data2[3,chi:chf]\n",
    "ref_tcal = table2[\"TCAL\"][2]"
   ]
  },
  {
   "cell_type": "code",
   "execution_count": null,
   "id": "48fe522c-4baa-434c-8a91-78e5d207adda",
   "metadata": {},
   "outputs": [],
   "source": [
    "tsys_sig = sig_tcal * np.nanmean(sig_off) / np.nanmean((sig_on - sig_off)) + sig_tcal/2.\n",
    "tsys_ref = ref_tcal * np.nanmean(ref_off) / np.nanmean((ref_on - ref_off)) + ref_tcal/2.\n",
    "\n",
    "print(tsys_sig, tsys_ref)\n",
    "# Now they match!"
   ]
  },
  {
   "cell_type": "code",
   "execution_count": null,
   "id": "df5f39fd-c183-4498-b773-5c70232e0015",
   "metadata": {},
   "outputs": [],
   "source": [
    "gbtidl[\"TSYS\"], gbtidl[\"TCAL\"], ref_tcal, sig_tcal"
   ]
  },
  {
   "cell_type": "code",
   "execution_count": null,
   "id": "f0d8ef8a-742f-4560-b6c0-e3f1692c5e40",
   "metadata": {},
   "outputs": [],
   "source": [
    "print(f\"{np.nanmean(ref_off):e}\")"
   ]
  },
  {
   "cell_type": "code",
   "execution_count": null,
   "id": "a0335fec-2271-42cd-a0c9-9dc3e7591013",
   "metadata": {},
   "outputs": [],
   "source": [
    "np.nanmean(ref_off)"
   ]
  },
  {
   "cell_type": "code",
   "execution_count": null,
   "id": "673b7202-ecc6-4b52-903a-e4837f987f9e",
   "metadata": {},
   "outputs": [],
   "source": [
    "np.nanmean(data2[3,3276:29492+1])"
   ]
  },
  {
   "cell_type": "markdown",
   "id": "a5f45558-7ba9-4c7c-bb1b-d952708fee03",
   "metadata": {},
   "source": [
    "# Copy of our pytests\n",
    "------------------"
   ]
  },
  {
   "cell_type": "code",
   "execution_count": null,
   "id": "c3977ae0-4698-46fe-ac84-27416e50a871",
   "metadata": {},
   "outputs": [],
   "source": [
    "def test_getps_single_int():\n",
    "\n",
    "    gbtidl_file = util.get_project_testdata() / \"TGBT21A_501_11/TGBT21A_501_11_getps_scan_152_intnum_0_ifnum_0_plnum_0.fits\"\n",
    "    hdu = fits.open(gbtidl_file)\n",
    "    gbtidl_getps = hdu[1].data[\"DATA\"][0]\n",
    "    sdf_file = util.get_project_testdata() / \"TGBT21A_501_11/TGBT21A_501_11.raw.vegas.fits\"\n",
    "    sdf = GBTFITSLoad(sdf_file)\n",
    "    psscan = sdf.getps(152)\n",
    "    assert len(psscan) == 1\n",
    "    psscan.calibrate()\n",
    "    dysh_getps = psscan[0].calibrated(0).flux.to(\"K\").value\n",
    "    diff = gbtidl_getps - dysh_getps\n",
    "    assert np.nanmedian(diff) == 0.0\n",
    "    assert np.all(abs(diff[~np.isnan(diff)]) < 5e-7)\n",
    "    assert np.isnan(diff[3072])\n"
   ]
  },
  {
   "cell_type": "code",
   "execution_count": null,
   "id": "d7948d67-1e44-4c96-a43b-3fab69512162",
   "metadata": {},
   "outputs": [],
   "source": [
    "def test_gettp_single_int(debug=False):\n",
    "    gbtidl_file = util.get_project_testdata() / \"TGBT21A_501_11/TGBT21A_501_11_gettp_scan_152_intnum_0_ifnum_0_plnum_0_cal_state_1.fits\"\n",
    "    hdu = fits.open(gbtidl_file)\n",
    "    gbtidl_gettp = hdu[1].data[\"DATA\"][0]\n",
    "    sdf_file = util.get_project_testdata() / \"TGBT21A_501_11/TGBT21A_501_11.raw.vegas.fits\"\n",
    "    sdf = GBTFITSLoad(sdf_file)\n",
    "    tps_on = sdf.gettp(152, sig=True, cal=True, calibrate=False)\n",
    "\n",
    "    assert len(tps_on) == 1\n",
    "    diff = tps_on[0].total_power(0).flux.value - gbtidl_gettp\n",
    "    assert np.nanmean(diff) == 0.0\n",
    "    tps_off = sdf.gettp(152, sig=True, cal=False, calibrate=False)\n",
    "    assert len(tps_off) == 1\n",
    "    gbtidl_file = util.get_project_testdata() / \"TGBT21A_501_11/TGBT21A_501_11_gettp_scan_152_intnum_0_ifnum_0_plnum_0_cal_state_0.fits\"\n",
    "    hdu = fits.open(gbtidl_file)\n",
    "    gbtidl_gettp = hdu[1].data[\"DATA\"][0]\n",
    "    diff = tps_off[0].total_power(0).flux.value - gbtidl_gettp\n",
    "    assert np.nanmean(diff) == 0.0\n",
    "\n",
    "    # Now, both on and off.\n",
    "    tps = sdf.gettp(152, sig=True, cal=True)\n",
    "    assert len(tps) == 1\n",
    "    tps_tavg = tps.timeaverage()\n",
    "    assert len(tps_tavg) == 1\n",
    "    gbtidl_file = util.get_project_testdata() / \"TGBT21A_501_11/TGBT21A_501_11_gettp_scan_152_ifnum_0_plnum_0.fits\"\n",
    "    hdu = fits.open(gbtidl_file)\n",
    "    table = hdu[1].data\n",
    "    spec = table[\"DATA\"][0]\n",
    "    diff = tps[0].total_power(0).flux.value - spec\n",
    "    assert np.nanmean(diff) == 0.0\n",
    "    if debug:\n",
    "        return tps_on\n",
    "\n",
    "    "
   ]
  },
  {
   "cell_type": "code",
   "execution_count": null,
   "id": "f386ada8-7c60-4312-a2f6-f58a545d50b3",
   "metadata": {},
   "outputs": [],
   "source": [
    "tps=test_gettp_single_int(True)\n",
    "#tps.timeaverage()[0].plot()"
   ]
  },
  {
   "cell_type": "code",
   "execution_count": null,
   "id": "4fa23716-4ec0-4953-8d38-8e1722f4ca84",
   "metadata": {},
   "outputs": [],
   "source": [
    "test_gettp_single_int(False)"
   ]
  },
  {
   "cell_type": "code",
   "execution_count": null,
   "id": "2473a178-3c64-4164-9781-f6b564705973",
   "metadata": {},
   "outputs": [],
   "source": []
  }
 ],
 "metadata": {
  "kernelspec": {
   "display_name": "Python 3 (ipykernel)",
   "language": "python",
   "name": "python3"
  },
  "language_info": {
   "codemirror_mode": {
    "name": "ipython",
    "version": 3
   },
   "file_extension": ".py",
   "mimetype": "text/x-python",
   "name": "python",
   "nbconvert_exporter": "python",
   "pygments_lexer": "ipython3",
   "version": "3.11.7"
  }
 },
 "nbformat": 4,
 "nbformat_minor": 5
}
