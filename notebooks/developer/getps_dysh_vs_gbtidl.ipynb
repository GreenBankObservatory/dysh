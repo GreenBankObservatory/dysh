{
 "cells": [
  {
   "cell_type": "markdown",
   "id": "7fd897ff-0ff0-489d-ac27-24efbd821ca6",
   "metadata": {},
   "source": [
    "# Comparing `getps` between `Dysh` and `GBTIDL`.\n",
    "\n",
    "In GBTIDL, from the `src/dysh/fits/tests/data` directory:\n",
    "```\n",
    "filein,\"TGBT21A_501_11.raw.vegas.fits\"\n",
    "getps,152,ifnum=0,plnum=0,intnum=0\n",
    "fileout,\"TGBT21A_501_11_getps_scan_152_intnum_0_ifnum_0_plnum_0.fits\"\n",
    "keep\n",
    "```\n",
    "Look at the `TCAL` value and the computed `TSYS`:\n",
    "```\n",
    "print,!g.s[0].mean_tcal\n",
    "   1.4551637\n",
    "print,!g.s[0].tsys\n",
    "   17.2400\n",
    "```\n",
    "`GBTIDL` seems to use a lower precision?\n",
    "```\n",
    "PRINT, SIZE(!g.s[0].tsys)\n",
    "           0           4           1\n",
    "```\n",
    "Code 4 is for float, not double :)  [reference](https://www.l3harrisgeospatial.com/docs/size.html)\n",
    "\n",
    "I tried figuring out why `GBTIDL` uses float instead of double, but could not. `GBTIDL` seems to load the data from the `SDFITS` without applying any type conversion, so I do not understand what happens.\n",
    "\n",
    "So, let's check what happens if we re-scale the `dysh` results using a lower precison `TSYS` or the `TSYS` saved by `GBTIDL`.\n",
    "\n",
    "Using the `TSYS` saved by GBTIDL makes the difference smaller. However, I still cannot figure out how to reproduce the `GBTIDL` value for `TSYS` starting from the raw data...\n",
    "\n",
    "Also note that there is no .flag file here, so `GBTIDL` is not using any external flags.\n",
    "\n",
    "**Solved:** The issues is that `IDL` uses inclusive ranges and `Python` does not. Increasing the upper edge to consider one extra channel makes the difference go away!"
   ]
  },
  {
   "cell_type": "code",
   "execution_count": 1,
   "id": "89821d70-e95b-4188-a68b-aaf9ee2eb356",
   "metadata": {},
   "outputs": [],
   "source": [
    "%load_ext autoreload\n",
    "%autoreload 2"
   ]
  },
  {
   "cell_type": "code",
   "execution_count": 2,
   "id": "4d266aab-fd1c-4452-b507-2ce69aa73478",
   "metadata": {},
   "outputs": [],
   "source": [
    "import numpy as np\n",
    "\n",
    "from astropy.io import fits\n",
    "\n",
    "from dysh.fits.gbtfitsload import GBTFITSLoad"
   ]
  },
  {
   "cell_type": "code",
   "execution_count": 3,
   "id": "3f7132d8-1cfd-4f63-a03a-cfe004f75a83",
   "metadata": {},
   "outputs": [],
   "source": [
    "file1 = \"../../src/dysh/fits/tests/data/TGBT21A_501_11_getps_scan_152_intnum_0_ifnum_0_plnum_0.fits\"\n",
    "file2 = \"../../src/dysh/fits/tests/data/TGBT21A_501_11.raw.vegas.fits\""
   ]
  },
  {
   "cell_type": "code",
   "execution_count": 4,
   "id": "ced011de-c9fc-4cb9-897a-3e541def0763",
   "metadata": {},
   "outputs": [],
   "source": [
    "hdu1 = fits.open(file1)\n",
    "gbtidl = hdu1[1].data"
   ]
  },
  {
   "cell_type": "code",
   "execution_count": 5,
   "id": "0894b1e2-a99f-4e10-9680-6465d21bd1b2",
   "metadata": {},
   "outputs": [
    {
     "name": "stdout",
     "output_type": "stream",
     "text": [
      "FILE  ../../src/dysh/fits/tests/data/TGBT21A_501_11.raw.vegas.fits\n",
      "FILE  ../../src/dysh/fits/tests/data/TGBT21A_501_11.raw.vegas.fits\n"
     ]
    }
   ],
   "source": [
    "sdf = GBTFITSLoad(file2)\n",
    "psscan = sdf.getps(152)\n",
    "psscan.calibrate()\n",
    "dysh_getps = psscan[0].calibrated(0).flux.to(\"K\").value\n",
    "dysh_getps_rescaled_low = dysh_getps/psscan[0]._tsys*17.2400   # Lower precision\n",
    "dysh_getps_rescaled_sav = dysh_getps/psscan[0]._tsys*gbtidl[\"TSYS\"] # Using the stored value"
   ]
  },
  {
   "cell_type": "code",
   "execution_count": 6,
   "id": "d7c32de5-04c9-4a74-af2f-8a0a51e423e9",
   "metadata": {},
   "outputs": [
    {
     "name": "stdout",
     "output_type": "stream",
     "text": [
      "GBTIDL vs Dysh native\n",
      "STD: 3.589269861319414e-08\n",
      "MEDIAN: 0.0\n",
      "\n",
      "\n",
      "GBTIDL vs Dysh rescaled to low precision\n",
      "STD: 1.355511573568983e-07\n",
      "MEDIAN: 3.529158446036185e-08\n",
      "\n",
      "\n",
      "GBTIDL vs Dysh rescaled to saved TSYS\n",
      "STD: 3.743899280915053e-08\n",
      "MEDIAN: -3.010581672846513e-09\n"
     ]
    }
   ],
   "source": [
    "print(\"GBTIDL vs Dysh native\")\n",
    "print(\"STD:\", np.nanstd(gbtidl[\"DATA\"][0] - dysh_getps))\n",
    "print(\"MEDIAN:\", np.nanmedian(gbtidl[\"DATA\"][0] - dysh_getps))\n",
    "print(\"\\n\")\n",
    "print(\"GBTIDL vs Dysh rescaled to low precision\")\n",
    "print(\"STD:\", np.nanstd(gbtidl[\"DATA\"][0] - dysh_getps_rescaled_low))\n",
    "print(\"MEDIAN:\", np.nanmedian(gbtidl[\"DATA\"][0] - dysh_getps_rescaled_low))\n",
    "print(\"\\n\")\n",
    "print(\"GBTIDL vs Dysh rescaled to saved TSYS\")\n",
    "print(\"STD:\", np.nanstd(gbtidl[\"DATA\"][0] - dysh_getps_rescaled_sav))\n",
    "print(\"MEDIAN:\", np.nanmedian(gbtidl[\"DATA\"][0] - dysh_getps_rescaled_sav))"
   ]
  },
  {
   "cell_type": "markdown",
   "id": "f38ae1f9-ed7b-4a6e-9b4d-e3bc0cfcf6cc",
   "metadata": {},
   "source": [
    "It is better to use the value stored by `GBTIDL` rather than what gets printed."
   ]
  },
  {
   "cell_type": "code",
   "execution_count": 7,
   "id": "c98dd245-aab8-47db-beed-b58b4748f8a3",
   "metadata": {},
   "outputs": [
    {
     "data": {
      "text/plain": [
       "array([17.24000331])"
      ]
     },
     "execution_count": 7,
     "metadata": {},
     "output_type": "execute_result"
    }
   ],
   "source": [
    "psscan[0]._tsys"
   ]
  },
  {
   "cell_type": "code",
   "execution_count": 8,
   "id": "c1b4e168-0e60-4314-95b3-33f554b84d98",
   "metadata": {},
   "outputs": [
    {
     "data": {
      "text/plain": [
       "(array([17.24000359]), array([1.45516372]))"
      ]
     },
     "execution_count": 8,
     "metadata": {},
     "output_type": "execute_result"
    }
   ],
   "source": [
    "gbtidl[\"TSYS\"], gbtidl[\"TCAL\"]"
   ]
  },
  {
   "cell_type": "code",
   "execution_count": 9,
   "id": "0b302b20-ea13-41ad-b383-f1ae6595d2d8",
   "metadata": {},
   "outputs": [
    {
     "name": "stdout",
     "output_type": "stream",
     "text": [
      "[-1.62127882e-08]\n"
     ]
    }
   ],
   "source": [
    "print(psscan[0]._tsys/gbtidl[\"TSYS\"] - 1.)"
   ]
  },
  {
   "cell_type": "code",
   "execution_count": 10,
   "id": "caac3f45-bd20-4aca-9657-d7e48bcbfe2d",
   "metadata": {},
   "outputs": [
    {
     "name": "stdout",
     "output_type": "stream",
     "text": [
      "[-1.62127882e-08]\n"
     ]
    }
   ],
   "source": [
    "# This is the difference we observe between `getps` in `GBTIDL` and `Dysh`.\n",
    "print(psscan[0]._tsys/gbtidl[\"TSYS\"] - 1.)"
   ]
  },
  {
   "cell_type": "code",
   "execution_count": 11,
   "id": "05226070-a079-467c-9a61-2777dd70ebbc",
   "metadata": {},
   "outputs": [],
   "source": [
    "# Let's try to reproduce the `TSYS` calculation.\n",
    "hdu2 = fits.open(file2)\n",
    "table2 = hdu2[1].data"
   ]
  },
  {
   "cell_type": "code",
   "execution_count": 12,
   "id": "12876f8b-74a3-45cc-a762-4986769e654d",
   "metadata": {},
   "outputs": [
    {
     "data": {
      "text/plain": [
       "(chararray(['T', 'F', 'T', 'F'], dtype='<U1'),\n",
       " array([1, 1, 2, 2], dtype=int16),\n",
       " chararray(['OnOff:PSWITCHON:TPWCAL', 'OnOff:PSWITCHON:TPWCAL',\n",
       "            'OnOff:PSWITCHOFF:TPWCAL', 'OnOff:PSWITCHOFF:TPWCAL'],\n",
       "           dtype='<U32'),\n",
       " array([1.45516372, 1.45516372, 1.45516419, 1.45516419]))"
      ]
     },
     "execution_count": 12,
     "metadata": {},
     "output_type": "execute_result"
    }
   ],
   "source": [
    "# Where are our sig-ref?\n",
    "table2[\"CAL\"], table2[\"PROCSEQN\"], table2[\"OBSMODE\"], table2[\"TCAL\"]\n",
    "# Why is `TCAL` different for the OFF position??"
   ]
  },
  {
   "cell_type": "code",
   "execution_count": 13,
   "id": "c28c918e-da22-4ca7-b2fe-8f2f2963ccf1",
   "metadata": {},
   "outputs": [],
   "source": [
    "data2 = table2[\"DATA\"].astype(np.float64)"
   ]
  },
  {
   "cell_type": "code",
   "execution_count": 14,
   "id": "427bc4c1-c462-4945-b8fc-a0e6be317780",
   "metadata": {},
   "outputs": [
    {
     "name": "stdout",
     "output_type": "stream",
     "text": [
      "Channel range:  3276 29493\n"
     ]
    }
   ],
   "source": [
    "# Unpack arrays.\n",
    "nchan = data2.shape[1]\n",
    "chi = int(0.1*nchan)\n",
    "chf = int(0.9*nchan) + 1 + 1 # IDL uses inclusive channel ranges!\n",
    "print(\"Channel range: \", chi, chf)\n",
    "sig_on = data2[0,chi:chf]\n",
    "sig_off = data2[1,chi:chf]\n",
    "sig_tcal = table2[\"TCAL\"][0]\n",
    "ref_on = data2[2,chi:chf]\n",
    "ref_off = data2[3,chi:chf]\n",
    "ref_tcal = table2[\"TCAL\"][2]"
   ]
  },
  {
   "cell_type": "code",
   "execution_count": 15,
   "id": "48fe522c-4baa-434c-8a91-78e5d207adda",
   "metadata": {},
   "outputs": [
    {
     "name": "stdout",
     "output_type": "stream",
     "text": [
      "17.45805259378602 17.240003306306875\n"
     ]
    }
   ],
   "source": [
    "tsys_sig = sig_tcal * np.nanmean(sig_off) / np.nanmean((sig_on - sig_off)) + sig_tcal/2.\n",
    "tsys_ref = ref_tcal * np.nanmean(ref_off) / np.nanmean((ref_on - ref_off)) + ref_tcal/2.\n",
    "\n",
    "print(tsys_sig, tsys_ref)\n",
    "# Now they match!"
   ]
  },
  {
   "cell_type": "code",
   "execution_count": 16,
   "id": "df5f39fd-c183-4498-b773-5c70232e0015",
   "metadata": {},
   "outputs": [
    {
     "data": {
      "text/plain": [
       "(array([17.24000359]),\n",
       " array([1.45516372]),\n",
       " 1.4551641941070557,\n",
       " 1.4551637172698975)"
      ]
     },
     "execution_count": 16,
     "metadata": {},
     "output_type": "execute_result"
    }
   ],
   "source": [
    "gbtidl[\"TSYS\"], gbtidl[\"TCAL\"], ref_tcal, sig_tcal"
   ]
  },
  {
   "cell_type": "code",
   "execution_count": 17,
   "id": "f0d8ef8a-742f-4560-b6c0-e3f1692c5e40",
   "metadata": {},
   "outputs": [
    {
     "name": "stdout",
     "output_type": "stream",
     "text": [
      "5.081326e+08\n"
     ]
    }
   ],
   "source": [
    "print(f\"{np.nanmean(ref_off):e}\")"
   ]
  },
  {
   "cell_type": "code",
   "execution_count": 18,
   "id": "a0335fec-2271-42cd-a0c9-9dc3e7591013",
   "metadata": {},
   "outputs": [
    {
     "data": {
      "text/plain": [
       "508132643.4396003"
      ]
     },
     "execution_count": 18,
     "metadata": {},
     "output_type": "execute_result"
    }
   ],
   "source": [
    "np.nanmean(ref_off)"
   ]
  },
  {
   "cell_type": "code",
   "execution_count": 19,
   "id": "673b7202-ecc6-4b52-903a-e4837f987f9e",
   "metadata": {},
   "outputs": [
    {
     "data": {
      "text/plain": [
       "508132643.4396003"
      ]
     },
     "execution_count": 19,
     "metadata": {},
     "output_type": "execute_result"
    }
   ],
   "source": [
    "np.nanmean(data2[3,3276:29492+1])"
   ]
  },
  {
   "cell_type": "markdown",
   "id": "a5f45558-7ba9-4c7c-bb1b-d952708fee03",
   "metadata": {},
   "source": [
    "# Copy of our pytests\n",
    "------------------"
   ]
  },
  {
   "cell_type": "code",
   "execution_count": 20,
   "id": "ab925b3a-3278-41f0-8504-d5511b4839ff",
   "metadata": {},
   "outputs": [],
   "source": [
    "test_data_dir = \"/home/mpound/src/dysh/src/dysh/fits/tests/\""
   ]
  },
  {
   "cell_type": "code",
   "execution_count": 21,
   "id": "c3977ae0-4698-46fe-ac84-27416e50a871",
   "metadata": {},
   "outputs": [],
   "source": [
    "def test_getps_single_int():\n",
    "\n",
    "    gbtidl_file = test_data_dir+\"data/TGBT21A_501_11_getps_scan_152_intnum_0_ifnum_0_plnum_0.fits\"\n",
    "    hdu = fits.open(gbtidl_file)\n",
    "    gbtidl_getps = hdu[1].data[\"DATA\"][0]\n",
    "    sdf_file = test_data_dir+\"data/TGBT21A_501_11.raw.vegas.fits\"\n",
    "    sdf = GBTFITSLoad(sdf_file)\n",
    "    psscan = sdf.getps(152)\n",
    "    assert len(psscan) == 1\n",
    "    psscan.calibrate()\n",
    "    dysh_getps = psscan[0].calibrated(0).flux.to(\"K\").value\n",
    "    diff = gbtidl_getps - dysh_getps\n",
    "    assert np.nanmedian(diff) == 0.0\n",
    "    assert np.all(abs(diff[~np.isnan(diff)]) < 5e-7)\n",
    "    assert np.isnan(diff[3072])\n"
   ]
  },
  {
   "cell_type": "code",
   "execution_count": 22,
   "id": "d7948d67-1e44-4c96-a43b-3fab69512162",
   "metadata": {},
   "outputs": [],
   "source": [
    "def test_gettp_single_int(debug=False):\n",
    "    gbtidl_file = test_data_dir+\"data/TGBT21A_501_11_gettp_scan_152_intnum_0_ifnum_0_plnum_0_cal_state_1.fits\"\n",
    "    hdu = fits.open(gbtidl_file)\n",
    "    gbtidl_gettp = hdu[1].data[\"DATA\"][0]\n",
    "    sdf_file = test_data_dir+\"data/TGBT21A_501_11.raw.vegas.fits\"\n",
    "    sdf = GBTFITSLoad(sdf_file)\n",
    "    tps_on = sdf.gettp(152, sig=True, cal=True, calibrate=False)\n",
    "\n",
    "    assert len(tps_on) == 1\n",
    "    diff = tps_on[0].total_power(0).flux.value - gbtidl_gettp\n",
    "    assert np.nanmean(diff) == 0.0\n",
    "    tps_off = sdf.gettp(152, sig=True, cal=False, calibrate=False)\n",
    "    assert len(tps_off) == 1\n",
    "    gbtidl_file = test_data_dir+\"data/TGBT21A_501_11_gettp_scan_152_intnum_0_ifnum_0_plnum_0_cal_state_0.fits\"\n",
    "    hdu = fits.open(gbtidl_file)\n",
    "    gbtidl_gettp = hdu[1].data[\"DATA\"][0]\n",
    "    diff = tps_off[0].total_power(0).flux.value - gbtidl_gettp\n",
    "    assert np.nanmean(diff) == 0.0\n",
    "\n",
    "    # Now, both on and off.\n",
    "    tps = sdf.gettp(152, sig=True, cal=True)\n",
    "    assert len(tps) == 1\n",
    "    tps_tavg = tps.timeaverage()\n",
    "    assert len(tps_tavg) == 1\n",
    "    gbtidl_file = test_data_dir+\"data/TGBT21A_501_11_gettp_scan_152_ifnum_0_plnum_0.fits\"\n",
    "    hdu = fits.open(gbtidl_file)\n",
    "    table = hdu[1].data\n",
    "    spec = table[\"DATA\"][0]\n",
    "    diff = tps[0].total_power(0).flux.value - spec\n",
    "    assert np.nanmean(diff) == 0.0\n",
    "    if debug:\n",
    "        return tps\n",
    "\n",
    "    "
   ]
  },
  {
   "cell_type": "code",
   "execution_count": 23,
   "id": "f386ada8-7c60-4312-a2f6-f58a545d50b3",
   "metadata": {},
   "outputs": [
    {
     "data": {
      "image/png": "[encoded data removed]",
      "text/plain": [
       "<Figure size 640x480 with 1 Axes>"
      ]
     },
     "metadata": {},
     "output_type": "display_data"
    }
   ],
   "source": [
    "tps=test_gettp_single_int(True)\n",
    "tps.timeaverage()[0].plot()"
   ]
  },
  {
   "cell_type": "code",
   "execution_count": 25,
   "id": "4fa23716-4ec0-4953-8d38-8e1722f4ca84",
   "metadata": {},
   "outputs": [],
   "source": [
    "test_gettp_single_int(False)"
   ]
  }
 ],
 "metadata": {
  "kernelspec": {
   "display_name": "Python 3 (ipykernel)",
   "language": "python",
   "name": "python3"
  },
  "language_info": {
   "codemirror_mode": {
    "name": "ipython",
    "version": 3
   },
   "file_extension": ".py",
   "mimetype": "text/x-python",
   "name": "python",
   "nbconvert_exporter": "python",
   "pygments_lexer": "ipython3",
   "version": "3.10.9"
  }
 },
 "nbformat": 4,
 "nbformat_minor": 5
}
