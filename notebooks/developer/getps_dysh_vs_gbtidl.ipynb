{
 "cells": [
  {
   "cell_type": "markdown",
   "id": "7fd897ff-0ff0-489d-ac27-24efbd821ca6",
   "metadata": {},
   "source": [
    "# Comparing `getps` between `Dysh` and `GBTIDL`.\n",
    "\n",
    "In GBTIDL, from the `src/dysh/fits/tests/data` directory:\n",
    "```\n",
    "filein,\"TGBT21A_501_11.raw.vegas.fits\"\n",
    "getps,152,ifnum=0,plnum=0,intnum=0\n",
    "fileout,\"TGBT21A_501_11_getps_scan_152_intnum_0_ifnum_0_plnum_0.fits\"\n",
    "keep\n",
    "```\n",
    "Look at the `TCAL` value and the computed `TSYS`:\n",
    "```\n",
    "print,!g.s[0].mean_tcal\n",
    "   1.4551637\n",
    "print,!g.s[0].tsys\n",
    "   17.2400\n",
    "```\n",
    "`GBTIDL` seems to use a lower precision?\n",
    "```\n",
    "PRINT, SIZE(!g.s[0].tsys)\n",
    "           0           4           1\n",
    "```\n",
    "Code 4 is for float, not double :)  [reference](https://www.l3harrisgeospatial.com/docs/size.html)\n",
    "\n",
    "I tried figuring out why `GBTIDL` uses float instead of double, but could not. `GBTIDL` seems to load the data from the `SDFITS` without applying any type conversion, so I do not understand what happens.\n",
    "\n",
    "So, let's check what happens if we re-scale the `dysh` results using a lower precison `TSYS` or the `TSYS` saved by `GBTIDL`.\n",
    "\n",
    "Using the `TSYS` saved by GBTIDL makes the difference smaller. However, I still cannot figure out how to reproduce the `GBTIDL` value for `TSYS` starting from the raw data...\n",
    "\n",
    "Also note that there is no .flag file here, so `GBTIDL` is not using any external flags.\n",
    "\n",
    "**Solved:** The issues is that `IDL` uses inclusive ranges and `Python` does not. Increasing the upper edge to consider one extra channel makes the difference go away!"
   ]
  },
  {
   "cell_type": "code",
   "execution_count": 1,
   "id": "89821d70-e95b-4188-a68b-aaf9ee2eb356",
   "metadata": {},
   "outputs": [],
   "source": [
    "%load_ext autoreload\n",
    "%autoreload 2"
   ]
  },
  {
   "cell_type": "code",
   "execution_count": 2,
   "id": "4d266aab-fd1c-4452-b507-2ce69aa73478",
   "metadata": {},
   "outputs": [],
   "source": [
    "import numpy as np\n",
    "\n",
    "from astropy.io import fits\n",
    "\n",
    "from dysh.fits.gbtfitsload import GBTFITSLoad"
   ]
  },
  {
   "cell_type": "code",
   "execution_count": 3,
   "id": "3f7132d8-1cfd-4f63-a03a-cfe004f75a83",
   "metadata": {},
   "outputs": [],
   "source": [
    "file1 = \"../src/dysh/fits/tests/data/TGBT21A_501_11_getps_scan_152_intnum_0_ifnum_0_plnum_0.fits\"\n",
    "file2 = \"../src/dysh/fits/tests/data/TGBT21A_501_11.raw.vegas.fits\""
   ]
  },
  {
   "cell_type": "code",
   "execution_count": 4,
   "id": "ced011de-c9fc-4cb9-897a-3e541def0763",
   "metadata": {},
   "outputs": [
    {
     "ename": "FileNotFoundError",
     "evalue": "[Errno 2] No such file or directory: '../src/dysh/fits/tests/data/TGBT21A_501_11_getps_scan_152_intnum_0_ifnum_0_plnum_0.fits'",
     "output_type": "error",
     "traceback": [
      "\u001b[0;31m---------------------------------------------------------------------------\u001b[0m",
      "\u001b[0;31mFileNotFoundError\u001b[0m                         Traceback (most recent call last)",
      "Cell \u001b[0;32mIn[4], line 1\u001b[0m\n\u001b[0;32m----> 1\u001b[0m hdu1 \u001b[38;5;241m=\u001b[39m \u001b[43mfits\u001b[49m\u001b[38;5;241;43m.\u001b[39;49m\u001b[43mopen\u001b[49m\u001b[43m(\u001b[49m\u001b[43mfile1\u001b[49m\u001b[43m)\u001b[49m\n\u001b[1;32m      2\u001b[0m gbtidl \u001b[38;5;241m=\u001b[39m hdu1[\u001b[38;5;241m1\u001b[39m]\u001b[38;5;241m.\u001b[39mdata\n",
      "File \u001b[0;32m~/Anaconda3-2023.03/lib/python3.10/site-packages/astropy/io/fits/hdu/hdulist.py:214\u001b[0m, in \u001b[0;36mfitsopen\u001b[0;34m(name, mode, memmap, save_backup, cache, lazy_load_hdus, ignore_missing_simple, use_fsspec, fsspec_kwargs, **kwargs)\u001b[0m\n\u001b[1;32m    211\u001b[0m \u001b[38;5;28;01mif\u001b[39;00m \u001b[38;5;129;01mnot\u001b[39;00m name:\n\u001b[1;32m    212\u001b[0m     \u001b[38;5;28;01mraise\u001b[39;00m \u001b[38;5;167;01mValueError\u001b[39;00m(\u001b[38;5;124mf\u001b[39m\u001b[38;5;124m\"\u001b[39m\u001b[38;5;124mEmpty filename: \u001b[39m\u001b[38;5;132;01m{\u001b[39;00mname\u001b[38;5;132;01m!r}\u001b[39;00m\u001b[38;5;124m\"\u001b[39m)\n\u001b[0;32m--> 214\u001b[0m \u001b[38;5;28;01mreturn\u001b[39;00m \u001b[43mHDUList\u001b[49m\u001b[38;5;241;43m.\u001b[39;49m\u001b[43mfromfile\u001b[49m\u001b[43m(\u001b[49m\n\u001b[1;32m    215\u001b[0m \u001b[43m    \u001b[49m\u001b[43mname\u001b[49m\u001b[43m,\u001b[49m\n\u001b[1;32m    216\u001b[0m \u001b[43m    \u001b[49m\u001b[43mmode\u001b[49m\u001b[43m,\u001b[49m\n\u001b[1;32m    217\u001b[0m \u001b[43m    \u001b[49m\u001b[43mmemmap\u001b[49m\u001b[43m,\u001b[49m\n\u001b[1;32m    218\u001b[0m \u001b[43m    \u001b[49m\u001b[43msave_backup\u001b[49m\u001b[43m,\u001b[49m\n\u001b[1;32m    219\u001b[0m \u001b[43m    \u001b[49m\u001b[43mcache\u001b[49m\u001b[43m,\u001b[49m\n\u001b[1;32m    220\u001b[0m \u001b[43m    \u001b[49m\u001b[43mlazy_load_hdus\u001b[49m\u001b[43m,\u001b[49m\n\u001b[1;32m    221\u001b[0m \u001b[43m    \u001b[49m\u001b[43mignore_missing_simple\u001b[49m\u001b[43m,\u001b[49m\n\u001b[1;32m    222\u001b[0m \u001b[43m    \u001b[49m\u001b[43muse_fsspec\u001b[49m\u001b[38;5;241;43m=\u001b[39;49m\u001b[43muse_fsspec\u001b[49m\u001b[43m,\u001b[49m\n\u001b[1;32m    223\u001b[0m \u001b[43m    \u001b[49m\u001b[43mfsspec_kwargs\u001b[49m\u001b[38;5;241;43m=\u001b[39;49m\u001b[43mfsspec_kwargs\u001b[49m\u001b[43m,\u001b[49m\n\u001b[1;32m    224\u001b[0m \u001b[43m    \u001b[49m\u001b[38;5;241;43m*\u001b[39;49m\u001b[38;5;241;43m*\u001b[39;49m\u001b[43mkwargs\u001b[49m\u001b[43m,\u001b[49m\n\u001b[1;32m    225\u001b[0m \u001b[43m\u001b[49m\u001b[43m)\u001b[49m\n",
      "File \u001b[0;32m~/Anaconda3-2023.03/lib/python3.10/site-packages/astropy/io/fits/hdu/hdulist.py:482\u001b[0m, in \u001b[0;36mHDUList.fromfile\u001b[0;34m(cls, fileobj, mode, memmap, save_backup, cache, lazy_load_hdus, ignore_missing_simple, **kwargs)\u001b[0m\n\u001b[1;32m    462\u001b[0m \u001b[38;5;129m@classmethod\u001b[39m\n\u001b[1;32m    463\u001b[0m \u001b[38;5;28;01mdef\u001b[39;00m \u001b[38;5;21mfromfile\u001b[39m(\n\u001b[1;32m    464\u001b[0m     \u001b[38;5;28mcls\u001b[39m,\n\u001b[0;32m   (...)\u001b[0m\n\u001b[1;32m    472\u001b[0m     \u001b[38;5;241m*\u001b[39m\u001b[38;5;241m*\u001b[39mkwargs,\n\u001b[1;32m    473\u001b[0m ):\n\u001b[1;32m    474\u001b[0m \u001b[38;5;250m    \u001b[39m\u001b[38;5;124;03m\"\"\"\u001b[39;00m\n\u001b[1;32m    475\u001b[0m \u001b[38;5;124;03m    Creates an `HDUList` instance from a file-like object.\u001b[39;00m\n\u001b[1;32m    476\u001b[0m \n\u001b[0;32m   (...)\u001b[0m\n\u001b[1;32m    479\u001b[0m \u001b[38;5;124;03m    documentation for details of the parameters accepted by this method).\u001b[39;00m\n\u001b[1;32m    480\u001b[0m \u001b[38;5;124;03m    \"\"\"\u001b[39;00m\n\u001b[0;32m--> 482\u001b[0m     \u001b[38;5;28;01mreturn\u001b[39;00m \u001b[38;5;28;43mcls\u001b[39;49m\u001b[38;5;241;43m.\u001b[39;49m\u001b[43m_readfrom\u001b[49m\u001b[43m(\u001b[49m\n\u001b[1;32m    483\u001b[0m \u001b[43m        \u001b[49m\u001b[43mfileobj\u001b[49m\u001b[38;5;241;43m=\u001b[39;49m\u001b[43mfileobj\u001b[49m\u001b[43m,\u001b[49m\n\u001b[1;32m    484\u001b[0m \u001b[43m        \u001b[49m\u001b[43mmode\u001b[49m\u001b[38;5;241;43m=\u001b[39;49m\u001b[43mmode\u001b[49m\u001b[43m,\u001b[49m\n\u001b[1;32m    485\u001b[0m \u001b[43m        \u001b[49m\u001b[43mmemmap\u001b[49m\u001b[38;5;241;43m=\u001b[39;49m\u001b[43mmemmap\u001b[49m\u001b[43m,\u001b[49m\n\u001b[1;32m    486\u001b[0m \u001b[43m        \u001b[49m\u001b[43msave_backup\u001b[49m\u001b[38;5;241;43m=\u001b[39;49m\u001b[43msave_backup\u001b[49m\u001b[43m,\u001b[49m\n\u001b[1;32m    487\u001b[0m \u001b[43m        \u001b[49m\u001b[43mcache\u001b[49m\u001b[38;5;241;43m=\u001b[39;49m\u001b[43mcache\u001b[49m\u001b[43m,\u001b[49m\n\u001b[1;32m    488\u001b[0m \u001b[43m        \u001b[49m\u001b[43mignore_missing_simple\u001b[49m\u001b[38;5;241;43m=\u001b[39;49m\u001b[43mignore_missing_simple\u001b[49m\u001b[43m,\u001b[49m\n\u001b[1;32m    489\u001b[0m \u001b[43m        \u001b[49m\u001b[43mlazy_load_hdus\u001b[49m\u001b[38;5;241;43m=\u001b[39;49m\u001b[43mlazy_load_hdus\u001b[49m\u001b[43m,\u001b[49m\n\u001b[1;32m    490\u001b[0m \u001b[43m        \u001b[49m\u001b[38;5;241;43m*\u001b[39;49m\u001b[38;5;241;43m*\u001b[39;49m\u001b[43mkwargs\u001b[49m\u001b[43m,\u001b[49m\n\u001b[1;32m    491\u001b[0m \u001b[43m    \u001b[49m\u001b[43m)\u001b[49m\n",
      "File \u001b[0;32m~/Anaconda3-2023.03/lib/python3.10/site-packages/astropy/io/fits/hdu/hdulist.py:1170\u001b[0m, in \u001b[0;36mHDUList._readfrom\u001b[0;34m(cls, fileobj, data, mode, memmap, cache, lazy_load_hdus, ignore_missing_simple, use_fsspec, fsspec_kwargs, **kwargs)\u001b[0m\n\u001b[1;32m   1167\u001b[0m \u001b[38;5;28;01mif\u001b[39;00m fileobj \u001b[38;5;129;01mis\u001b[39;00m \u001b[38;5;129;01mnot\u001b[39;00m \u001b[38;5;28;01mNone\u001b[39;00m:\n\u001b[1;32m   1168\u001b[0m     \u001b[38;5;28;01mif\u001b[39;00m \u001b[38;5;129;01mnot\u001b[39;00m \u001b[38;5;28misinstance\u001b[39m(fileobj, _File):\n\u001b[1;32m   1169\u001b[0m         \u001b[38;5;66;03m# instantiate a FITS file object (ffo)\u001b[39;00m\n\u001b[0;32m-> 1170\u001b[0m         fileobj \u001b[38;5;241m=\u001b[39m \u001b[43m_File\u001b[49m\u001b[43m(\u001b[49m\n\u001b[1;32m   1171\u001b[0m \u001b[43m            \u001b[49m\u001b[43mfileobj\u001b[49m\u001b[43m,\u001b[49m\n\u001b[1;32m   1172\u001b[0m \u001b[43m            \u001b[49m\u001b[43mmode\u001b[49m\u001b[38;5;241;43m=\u001b[39;49m\u001b[43mmode\u001b[49m\u001b[43m,\u001b[49m\n\u001b[1;32m   1173\u001b[0m \u001b[43m            \u001b[49m\u001b[43mmemmap\u001b[49m\u001b[38;5;241;43m=\u001b[39;49m\u001b[43mmemmap\u001b[49m\u001b[43m,\u001b[49m\n\u001b[1;32m   1174\u001b[0m \u001b[43m            \u001b[49m\u001b[43mcache\u001b[49m\u001b[38;5;241;43m=\u001b[39;49m\u001b[43mcache\u001b[49m\u001b[43m,\u001b[49m\n\u001b[1;32m   1175\u001b[0m \u001b[43m            \u001b[49m\u001b[43muse_fsspec\u001b[49m\u001b[38;5;241;43m=\u001b[39;49m\u001b[43muse_fsspec\u001b[49m\u001b[43m,\u001b[49m\n\u001b[1;32m   1176\u001b[0m \u001b[43m            \u001b[49m\u001b[43mfsspec_kwargs\u001b[49m\u001b[38;5;241;43m=\u001b[39;49m\u001b[43mfsspec_kwargs\u001b[49m\u001b[43m,\u001b[49m\n\u001b[1;32m   1177\u001b[0m \u001b[43m        \u001b[49m\u001b[43m)\u001b[49m\n\u001b[1;32m   1178\u001b[0m     \u001b[38;5;66;03m# The Astropy mode is determined by the _File initializer if the\u001b[39;00m\n\u001b[1;32m   1179\u001b[0m     \u001b[38;5;66;03m# supplied mode was None\u001b[39;00m\n\u001b[1;32m   1180\u001b[0m     mode \u001b[38;5;241m=\u001b[39m fileobj\u001b[38;5;241m.\u001b[39mmode\n",
      "File \u001b[0;32m~/Anaconda3-2023.03/lib/python3.10/site-packages/astropy/io/fits/file.py:218\u001b[0m, in \u001b[0;36m_File.__init__\u001b[0;34m(self, fileobj, mode, memmap, overwrite, cache, use_fsspec, fsspec_kwargs)\u001b[0m\n\u001b[1;32m    216\u001b[0m     \u001b[38;5;28mself\u001b[39m\u001b[38;5;241m.\u001b[39m_open_fileobj(fileobj, mode, overwrite)\n\u001b[1;32m    217\u001b[0m \u001b[38;5;28;01melif\u001b[39;00m \u001b[38;5;28misinstance\u001b[39m(fileobj, (\u001b[38;5;28mstr\u001b[39m, \u001b[38;5;28mbytes\u001b[39m)):\n\u001b[0;32m--> 218\u001b[0m     \u001b[38;5;28;43mself\u001b[39;49m\u001b[38;5;241;43m.\u001b[39;49m\u001b[43m_open_filename\u001b[49m\u001b[43m(\u001b[49m\u001b[43mfileobj\u001b[49m\u001b[43m,\u001b[49m\u001b[43m \u001b[49m\u001b[43mmode\u001b[49m\u001b[43m,\u001b[49m\u001b[43m \u001b[49m\u001b[43moverwrite\u001b[49m\u001b[43m)\u001b[49m\n\u001b[1;32m    219\u001b[0m \u001b[38;5;28;01melse\u001b[39;00m:\n\u001b[1;32m    220\u001b[0m     \u001b[38;5;28mself\u001b[39m\u001b[38;5;241m.\u001b[39m_open_filelike(fileobj, mode, overwrite)\n",
      "File \u001b[0;32m~/Anaconda3-2023.03/lib/python3.10/site-packages/astropy/io/fits/file.py:636\u001b[0m, in \u001b[0;36m_File._open_filename\u001b[0;34m(self, filename, mode, overwrite)\u001b[0m\n\u001b[1;32m    633\u001b[0m ext \u001b[38;5;241m=\u001b[39m os\u001b[38;5;241m.\u001b[39mpath\u001b[38;5;241m.\u001b[39msplitext(\u001b[38;5;28mself\u001b[39m\u001b[38;5;241m.\u001b[39mname)[\u001b[38;5;241m1\u001b[39m]\n\u001b[1;32m    635\u001b[0m \u001b[38;5;28;01mif\u001b[39;00m \u001b[38;5;129;01mnot\u001b[39;00m \u001b[38;5;28mself\u001b[39m\u001b[38;5;241m.\u001b[39m_try_read_compressed(\u001b[38;5;28mself\u001b[39m\u001b[38;5;241m.\u001b[39mname, magic, mode, ext\u001b[38;5;241m=\u001b[39mext):\n\u001b[0;32m--> 636\u001b[0m     \u001b[38;5;28mself\u001b[39m\u001b[38;5;241m.\u001b[39m_file \u001b[38;5;241m=\u001b[39m \u001b[38;5;28;43mopen\u001b[39;49m\u001b[43m(\u001b[49m\u001b[38;5;28;43mself\u001b[39;49m\u001b[38;5;241;43m.\u001b[39;49m\u001b[43mname\u001b[49m\u001b[43m,\u001b[49m\u001b[43m \u001b[49m\u001b[43mIO_FITS_MODES\u001b[49m\u001b[43m[\u001b[49m\u001b[43mmode\u001b[49m\u001b[43m]\u001b[49m\u001b[43m)\u001b[49m\n\u001b[1;32m    637\u001b[0m     \u001b[38;5;28mself\u001b[39m\u001b[38;5;241m.\u001b[39mclose_on_error \u001b[38;5;241m=\u001b[39m \u001b[38;5;28;01mTrue\u001b[39;00m\n\u001b[1;32m    639\u001b[0m \u001b[38;5;66;03m# Make certain we're back at the beginning of the file\u001b[39;00m\n\u001b[1;32m    640\u001b[0m \u001b[38;5;66;03m# BZ2File does not support seek when the file is open for writing, but\u001b[39;00m\n\u001b[1;32m    641\u001b[0m \u001b[38;5;66;03m# when opening a file for write, bz2.BZ2File always truncates anyway.\u001b[39;00m\n",
      "\u001b[0;31mFileNotFoundError\u001b[0m: [Errno 2] No such file or directory: '../src/dysh/fits/tests/data/TGBT21A_501_11_getps_scan_152_intnum_0_ifnum_0_plnum_0.fits'"
     ]
    }
   ],
   "source": [
    "hdu1 = fits.open(file1)\n",
    "gbtidl = hdu1[1].data"
   ]
  },
  {
   "cell_type": "code",
   "execution_count": 5,
   "id": "0894b1e2-a99f-4e10-9680-6465d21bd1b2",
   "metadata": {},
   "outputs": [
    {
     "name": "stdout",
     "output_type": "stream",
     "text": [
      "==SDFITSLoad ../src/dysh/fits/tests/data/TGBT21A_501_11.raw.vegas.fits\n",
      "doing pandas for HDU 1\n",
      "==GBTLoad ../src/dysh/fits/tests/data/TGBT21A_501_11.raw.vegas.fits\n",
      "0 OBJECT: ['NGC2415']\n",
      "0 SCAN: [152, 153]\n",
      "0 SAMPLER: ['A2_0']\n",
      "0 SIG: ['T']\n",
      "0 CAL: ['T', 'F']\n",
      "0 PROCSEQN: [1, 2]\n",
      "0 PROCSIZE: [2]\n",
      "0 OBSMODE: ['OnOff:PSWITCHON:TPWCAL', 'OnOff:PSWITCHOFF:TPWCAL']\n",
      "0 SIDEBAND: ['L']\n",
      "PSSCAN nrows = 2\n"
     ]
    }
   ],
   "source": [
    "sdf = GBTFITSLoad(file2)\n",
    "psscan = sdf.getps(152)\n",
    "psscan.calibrate()\n",
    "dysh_getps = psscan.calibrated(0).flux.to(\"K\").value\n",
    "dysh_getps_rescaled_low = dysh_getps/psscan._tsys*17.2400   # Lower precision\n",
    "dysh_getps_rescaled_sav = dysh_getps/psscan._tsys*gbtidl[\"TSYS\"] # Using the stored value"
   ]
  },
  {
   "cell_type": "code",
   "execution_count": 6,
   "id": "d7c32de5-04c9-4a74-af2f-8a0a51e423e9",
   "metadata": {},
   "outputs": [
    {
     "name": "stdout",
     "output_type": "stream",
     "text": [
      "GBTIDL vs Dysh native\n",
      "STD: 3.5892697e-08\n",
      "MEDIAN: 0.0\n",
      "\n",
      "\n",
      "GBTIDL vs Dysh rescaled to low precision\n",
      "STD: 1.4084225762108674e-07\n",
      "MEDIAN: 3.706813700432576e-08\n",
      "\n",
      "\n",
      "GBTIDL vs Dysh rescaled to saved TSYS\n",
      "STD: 3.626210354267308e-08\n",
      "MEDIAN: -1.6236065270014421e-09\n"
     ]
    }
   ],
   "source": [
    "print(\"GBTIDL vs Dysh native\")\n",
    "print(\"STD:\", np.nanstd(gbtidl[\"DATA\"][0] - dysh_getps))\n",
    "print(\"MEDIAN:\", np.nanmedian(gbtidl[\"DATA\"][0] - dysh_getps))\n",
    "print(\"\\n\")\n",
    "print(\"GBTIDL vs Dysh rescaled to low precision\")\n",
    "print(\"STD:\", np.nanstd(gbtidl[\"DATA\"][0] - dysh_getps_rescaled_low))\n",
    "print(\"MEDIAN:\", np.nanmedian(gbtidl[\"DATA\"][0] - dysh_getps_rescaled_low))\n",
    "print(\"\\n\")\n",
    "print(\"GBTIDL vs Dysh rescaled to saved TSYS\")\n",
    "print(\"STD:\", np.nanstd(gbtidl[\"DATA\"][0] - dysh_getps_rescaled_sav))\n",
    "print(\"MEDIAN:\", np.nanmedian(gbtidl[\"DATA\"][0] - dysh_getps_rescaled_sav))"
   ]
  },
  {
   "cell_type": "markdown",
   "id": "f38ae1f9-ed7b-4a6e-9b4d-e3bc0cfcf6cc",
   "metadata": {},
   "source": [
    "It is better to use the value stored by `GBTIDL` rather than what gets printed."
   ]
  },
  {
   "cell_type": "code",
   "execution_count": 7,
   "id": "c98dd245-aab8-47db-beed-b58b4748f8a3",
   "metadata": {},
   "outputs": [
    {
     "data": {
      "text/plain": [
       "array([17.24000345])"
      ]
     },
     "execution_count": 7,
     "metadata": {},
     "output_type": "execute_result"
    }
   ],
   "source": [
    "psscan._tsys"
   ]
  },
  {
   "cell_type": "code",
   "execution_count": 8,
   "id": "c1b4e168-0e60-4314-95b3-33f554b84d98",
   "metadata": {},
   "outputs": [
    {
     "data": {
      "text/plain": [
       "(array([17.24000359]), array([1.45516372]))"
      ]
     },
     "execution_count": 8,
     "metadata": {},
     "output_type": "execute_result"
    }
   ],
   "source": [
    "gbtidl[\"TSYS\"], gbtidl[\"TCAL\"]"
   ]
  },
  {
   "cell_type": "code",
   "execution_count": 9,
   "id": "0b302b20-ea13-41ad-b383-f1ae6595d2d8",
   "metadata": {},
   "outputs": [
    {
     "name": "stdout",
     "output_type": "stream",
     "text": [
      "[-8.15130496e-09]\n"
     ]
    }
   ],
   "source": [
    "print(psscan._tsys/gbtidl[\"TSYS\"] - 1.)"
   ]
  },
  {
   "cell_type": "code",
   "execution_count": 10,
   "id": "caac3f45-bd20-4aca-9657-d7e48bcbfe2d",
   "metadata": {},
   "outputs": [
    {
     "name": "stdout",
     "output_type": "stream",
     "text": [
      "[-8.15130496e-09]\n"
     ]
    }
   ],
   "source": [
    "# This is the difference we observe between `getps` in `GBTIDL` and `Dysh`.\n",
    "print(psscan._tsys/gbtidl[\"TSYS\"] - 1.)"
   ]
  },
  {
   "cell_type": "code",
   "execution_count": 11,
   "id": "05226070-a079-467c-9a61-2777dd70ebbc",
   "metadata": {},
   "outputs": [],
   "source": [
    "# Let's try to reproduce the `TSYS` calculation.\n",
    "hdu2 = fits.open(file2)\n",
    "table2 = hdu2[1].data"
   ]
  },
  {
   "cell_type": "code",
   "execution_count": 12,
   "id": "12876f8b-74a3-45cc-a762-4986769e654d",
   "metadata": {},
   "outputs": [
    {
     "data": {
      "text/plain": [
       "(chararray(['T', 'F', 'T', 'F'], dtype='<U1'),\n",
       " array([1, 1, 2, 2], dtype=int16),\n",
       " chararray(['OnOff:PSWITCHON:TPWCAL', 'OnOff:PSWITCHON:TPWCAL',\n",
       "            'OnOff:PSWITCHOFF:TPWCAL', 'OnOff:PSWITCHOFF:TPWCAL'],\n",
       "           dtype='<U32'),\n",
       " array([1.45516372, 1.45516372, 1.45516419, 1.45516419]))"
      ]
     },
     "execution_count": 12,
     "metadata": {},
     "output_type": "execute_result"
    }
   ],
   "source": [
    "# Where are our sig-ref?\n",
    "table2[\"CAL\"], table2[\"PROCSEQN\"], table2[\"OBSMODE\"], table2[\"TCAL\"]\n",
    "# Why is `TCAL` different for the OFF position??"
   ]
  },
  {
   "cell_type": "code",
   "execution_count": 13,
   "id": "c28c918e-da22-4ca7-b2fe-8f2f2963ccf1",
   "metadata": {},
   "outputs": [],
   "source": [
    "data2 = table2[\"DATA\"].astype(np.float64)"
   ]
  },
  {
   "cell_type": "code",
   "execution_count": 20,
   "id": "427bc4c1-c462-4945-b8fc-a0e6be317780",
   "metadata": {},
   "outputs": [
    {
     "name": "stdout",
     "output_type": "stream",
     "text": [
      "Channel range:  3276 29493\n"
     ]
    }
   ],
   "source": [
    "# Unpack arrays.\n",
    "nchan = data2.shape[1]\n",
    "chi = int(0.1*nchan)\n",
    "chf = int(0.9*nchan) + 1 + 1 # IDL uses inclusive channel ranges!\n",
    "print(\"Channel range: \", chi, chf)\n",
    "sig_on = data2[0,chi:chf]\n",
    "sig_off = data2[1,chi:chf]\n",
    "sig_tcal = table2[\"TCAL\"][0]\n",
    "ref_on = data2[2,chi:chf]\n",
    "ref_off = data2[3,chi:chf]\n",
    "ref_tcal = table2[\"TCAL\"][2]"
   ]
  },
  {
   "cell_type": "code",
   "execution_count": 21,
   "id": "48fe522c-4baa-434c-8a91-78e5d207adda",
   "metadata": {},
   "outputs": [
    {
     "name": "stdout",
     "output_type": "stream",
     "text": [
      "17.45805259378602 17.240003306306875\n"
     ]
    }
   ],
   "source": [
    "tsys_sig = sig_tcal * np.nanmean(sig_off) / np.nanmean((sig_on - sig_off)) + sig_tcal/2.\n",
    "tsys_ref = ref_tcal * np.nanmean(ref_off) / np.nanmean((ref_on - ref_off)) + ref_tcal/2.\n",
    "\n",
    "print(tsys_sig, tsys_ref)\n",
    "# Now they match!"
   ]
  },
  {
   "cell_type": "code",
   "execution_count": 22,
   "id": "df5f39fd-c183-4498-b773-5c70232e0015",
   "metadata": {},
   "outputs": [
    {
     "data": {
      "text/plain": [
       "(array([17.24000359]),\n",
       " array([1.45516372]),\n",
       " 1.4551641941070557,\n",
       " 1.4551637172698975)"
      ]
     },
     "execution_count": 22,
     "metadata": {},
     "output_type": "execute_result"
    }
   ],
   "source": [
    "gbtidl[\"TSYS\"], gbtidl[\"TCAL\"], ref_tcal, sig_tcal"
   ]
  },
  {
   "cell_type": "code",
   "execution_count": 23,
   "id": "f0d8ef8a-742f-4560-b6c0-e3f1692c5e40",
   "metadata": {},
   "outputs": [
    {
     "name": "stdout",
     "output_type": "stream",
     "text": [
      "5.081326e+08\n"
     ]
    }
   ],
   "source": [
    "print(f\"{np.nanmean(ref_off):e}\")"
   ]
  },
  {
   "cell_type": "code",
   "execution_count": 24,
   "id": "a0335fec-2271-42cd-a0c9-9dc3e7591013",
   "metadata": {},
   "outputs": [
    {
     "data": {
      "text/plain": [
       "508132643.4396003"
      ]
     },
     "execution_count": 24,
     "metadata": {},
     "output_type": "execute_result"
    }
   ],
   "source": [
    "np.nanmean(ref_off)"
   ]
  },
  {
   "cell_type": "code",
   "execution_count": 25,
   "id": "673b7202-ecc6-4b52-903a-e4837f987f9e",
   "metadata": {},
   "outputs": [
    {
     "data": {
      "text/plain": [
       "508132643.4396003"
      ]
     },
     "execution_count": 25,
     "metadata": {},
     "output_type": "execute_result"
    }
   ],
   "source": [
    "np.nanmean(data2[3,3276:29492+1])"
   ]
  },
  {
   "cell_type": "code",
   "execution_count": null,
   "id": "c31e398e-bb21-4194-b3b6-158b244d7c31",
   "metadata": {},
   "outputs": [],
   "source": []
  }
 ],
 "metadata": {
  "kernelspec": {
   "display_name": "Python 3 (ipykernel)",
   "language": "python",
   "name": "python3"
  },
  "language_info": {
   "codemirror_mode": {
    "name": "ipython",
    "version": 3
   },
   "file_extension": ".py",
   "mimetype": "text/x-python",
   "name": "python",
   "nbconvert_exporter": "python",
   "pygments_lexer": "ipython3",
   "version": "3.10.9"
  }
 },
 "nbformat": 4,
 "nbformat_minor": 5
}
