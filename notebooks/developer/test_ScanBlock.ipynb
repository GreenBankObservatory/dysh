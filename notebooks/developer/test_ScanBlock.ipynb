{
 "cells": [
  {
   "cell_type": "markdown",
   "id": "07d6fce6-fa90-49e4-93af-9555bc3c5dc1",
   "metadata": {},
   "source": [
    "Notebook testing the use of `ScanBlocks`."
   ]
  },
  {
   "cell_type": "code",
   "execution_count": null,
   "id": "88d6f452-5199-4dd2-88bc-e54e2dd38ce0",
   "metadata": {},
   "outputs": [],
   "source": [
    "import numpy as np\n",
    "from dysh.fits.gbtfitsload import GBTFITSLoad"
   ]
  },
  {
   "cell_type": "code",
   "execution_count": null,
   "id": "eb60f596-62c3-4bae-bc60-3de495f3a229",
   "metadata": {},
   "outputs": [],
   "source": [
    "# Point it to the testdata directory on the root dysh directory.\n",
    "example_data = \"/home/dysh/example_data/\"\n",
    "example_data = \"/bigdisk/data/gbt/examples/\"\n",
    "# The folder with multiple SDFITS files.\n",
    "data_path = f\"{example_data}/onoff-L/data/TGBT21A_501_11.raw.vegas/TGBT21A_501_11.raw.vegas.A.fits\"\n",
    "print(data_path)"
   ]
  },
  {
   "cell_type": "code",
   "execution_count": null,
   "id": "fdc011ab-00c3-4856-afe1-875c6100806a",
   "metadata": {},
   "outputs": [],
   "source": [
    "sdf = GBTFITSLoad(data_path)"
   ]
  },
  {
   "cell_type": "code",
   "execution_count": null,
   "id": "f4c64c1a-b134-4fc3-aaf4-6141855ca859",
   "metadata": {},
   "outputs": [],
   "source": [
    "sdf.summary()"
   ]
  },
  {
   "cell_type": "markdown",
   "id": "f4cb1f49-788f-4a3d-a0ba-c26e273696b2",
   "metadata": {},
   "source": [
    "Let's be ambitious and try to calibrate all the ScoX-1 scans at one. These start with scan 167 and end with scan 195 (last On)."
   ]
  },
  {
   "cell_type": "code",
   "execution_count": null,
   "id": "2faa5aac-1def-4ede-97fb-96a5be6c8c21",
   "metadata": {},
   "outputs": [],
   "source": [
    "scans = np.arange(167, 195+2, 2)\n",
    "print(scans)\n",
    "ps_sb = sdf.getps(scans)"
   ]
  },
  {
   "cell_type": "markdown",
   "id": "46870cf2-3cef-4c9a-94fc-cfe0e2c5025b",
   "metadata": {},
   "source": [
    "Interesting, there's a missmatch between the number of TCALs found and the number of spectra. We'll have to dig deeper to figure out why.\n",
    "\n",
    "For now, let's move on and try something smaller. Let's do NGC2782, scans 156 and 158."
   ]
  },
  {
   "cell_type": "code",
   "execution_count": null,
   "id": "29f34e7e-fc6b-4e70-aada-f8be2e88aaa8",
   "metadata": {},
   "outputs": [],
   "source": [
    "scans = [156, 158]\n",
    "ps_sb = sdf.getps(scans)"
   ]
  },
  {
   "cell_type": "code",
   "execution_count": null,
   "id": "31be76d4-2c47-453e-95b5-5aaafa0c5a2d",
   "metadata": {},
   "outputs": [],
   "source": [
    "ps_sb[0].calibrated(70)"
   ]
  },
  {
   "cell_type": "code",
   "execution_count": null,
   "id": "e0eb5904-1372-4795-acb4-83c3802421be",
   "metadata": {},
   "outputs": [],
   "source": [
    "ps_sb[0].calibrated(70).plot()"
   ]
  },
  {
   "cell_type": "markdown",
   "id": "ad6ed1ac-8135-4944-94bc-8d63e2245163",
   "metadata": {},
   "source": [
    "This works! and all the individual integrations are calibrated (note however that there is a issue with integrations 75 and 151 of the `ScanBlock` -- see [Issue #103](https://github.com/GreenBankObservatory/dysh/issues/103).\n",
    "\n",
    "There's something else odd, the `ScanBlock` only has one element. I would have expected to have one `Scan` object for every input scan.\n",
    "\n",
    "With the current behavior all the integrations are part of the same `Scan`."
   ]
  },
  {
   "cell_type": "code",
   "execution_count": null,
   "id": "443f59c8-6c76-43d1-9c14-333433540dfb",
   "metadata": {},
   "outputs": [],
   "source": [
    "len(ps_sb)"
   ]
  },
  {
   "cell_type": "code",
   "execution_count": null,
   "id": "722a6041-fd60-42a9-9768-4666ba1a1b38",
   "metadata": {},
   "outputs": [],
   "source": [
    "ps_sb[0]._calibrated.shape"
   ]
  },
  {
   "cell_type": "code",
   "execution_count": null,
   "id": "3bf2b83f-c8bc-40d4-9e1c-0e52ddd7f2cc",
   "metadata": {},
   "outputs": [],
   "source": []
  }
 ],
 "metadata": {
  "kernelspec": {
   "display_name": "Python 3 (ipykernel)",
   "language": "python",
   "name": "python3"
  },
  "language_info": {
   "codemirror_mode": {
    "name": "ipython",
    "version": 3
   },
   "file_extension": ".py",
   "mimetype": "text/x-python",
   "name": "python",
   "nbconvert_exporter": "python",
   "pygments_lexer": "ipython3",
   "version": "3.10.9"
  }
 },
 "nbformat": 4,
 "nbformat_minor": 5
}
