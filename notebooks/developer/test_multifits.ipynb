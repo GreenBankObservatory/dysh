{
 "cells": [
  {
   "cell_type": "markdown",
   "id": "e95fb959-0ace-4a5a-b7fd-3024df1e444b",
   "metadata": {},
   "source": [
    "Testing multifits loading and using `gettp` on multiple files."
   ]
  },
  {
   "cell_type": "code",
   "execution_count": 1,
   "id": "7a2f1fdc-e0fe-48de-b4ca-930dddeeed69",
   "metadata": {},
   "outputs": [],
   "source": [
    "from dysh.fits.gbtfitsload import GBTFITSLoad"
   ]
  },
  {
   "cell_type": "code",
   "execution_count": 2,
   "id": "ee41061f-f67e-4151-b960-dc08ffeaf9a0",
   "metadata": {},
   "outputs": [],
   "source": [
    "# Point it to the testdata directory on the root dysh directory.\n",
    "testdata = \"/home/sandboxes/psalas/Dysh/dysh/testdata\"\n",
    "# The folder with multiple SDFITS files.\n",
    "data_path = f\"{testdata}/AGBT18B_354_03.raw.vegas\""
   ]
  },
  {
   "cell_type": "code",
   "execution_count": 3,
   "id": "69fdd387-b2b9-4bc1-bd7f-f92000ece8ee",
   "metadata": {},
   "outputs": [],
   "source": [
    "sdf = GBTFITSLoad(data_path, verbose=False)"
   ]
  },
  {
   "cell_type": "code",
   "execution_count": 4,
   "id": "556ddf8c-dfcf-4f1b-bd7d-91d373a35e13",
   "metadata": {},
   "outputs": [
    {
     "data": {
      "text/html": [
       "<div>\n",
       "<style scoped>\n",
       "    .dataframe tbody tr th:only-of-type {\n",
       "        vertical-align: middle;\n",
       "    }\n",
       "\n",
       "    .dataframe tbody tr th {\n",
       "        vertical-align: top;\n",
       "    }\n",
       "\n",
       "    .dataframe thead th {\n",
       "        text-align: right;\n",
       "    }\n",
       "</style>\n",
       "<table border=\"1\" class=\"dataframe\">\n",
       "  <thead>\n",
       "    <tr style=\"text-align: right;\">\n",
       "      <th></th>\n",
       "      <th>SCAN</th>\n",
       "      <th>OBJECT</th>\n",
       "      <th>VELOCITY</th>\n",
       "      <th>PROC</th>\n",
       "      <th>PROCSEQN</th>\n",
       "      <th>RESTFREQ</th>\n",
       "      <th>DOPFREQ</th>\n",
       "      <th># IF</th>\n",
       "      <th># POL</th>\n",
       "      <th># INT</th>\n",
       "      <th># FEED</th>\n",
       "      <th>AZIMUTH</th>\n",
       "      <th>ELEVATIO</th>\n",
       "    </tr>\n",
       "  </thead>\n",
       "  <tbody>\n",
       "    <tr>\n",
       "      <th>0</th>\n",
       "      <td>6.0</td>\n",
       "      <td>W49N</td>\n",
       "      <td>7.0</td>\n",
       "      <td>OffOn</td>\n",
       "      <td>1.0</td>\n",
       "      <td>45.077148</td>\n",
       "      <td>44.979549</td>\n",
       "      <td>4</td>\n",
       "      <td>2</td>\n",
       "      <td>4</td>\n",
       "      <td>1</td>\n",
       "      <td>128.090129</td>\n",
       "      <td>50.305025</td>\n",
       "    </tr>\n",
       "    <tr>\n",
       "      <th>1</th>\n",
       "      <td>7.0</td>\n",
       "      <td>W49N</td>\n",
       "      <td>7.0</td>\n",
       "      <td>OffOn</td>\n",
       "      <td>2.0</td>\n",
       "      <td>45.077148</td>\n",
       "      <td>44.979549</td>\n",
       "      <td>4</td>\n",
       "      <td>2</td>\n",
       "      <td>4</td>\n",
       "      <td>1</td>\n",
       "      <td>129.920889</td>\n",
       "      <td>50.435658</td>\n",
       "    </tr>\n",
       "  </tbody>\n",
       "</table>\n",
       "</div>"
      ],
      "text/plain": [
       "  SCAN OBJECT VELOCITY   PROC PROCSEQN   RESTFREQ    DOPFREQ # IF # POL # INT  \\\n",
       "0  6.0   W49N      7.0  OffOn      1.0  45.077148  44.979549    4     2     4   \n",
       "1  7.0   W49N      7.0  OffOn      2.0  45.077148  44.979549    4     2     4   \n",
       "\n",
       "  # FEED     AZIMUTH   ELEVATIO  \n",
       "0      1  128.090129  50.305025  \n",
       "1      1  129.920889  50.435658  "
      ]
     },
     "execution_count": 4,
     "metadata": {},
     "output_type": "execute_result"
    }
   ],
   "source": [
    "sdf.summary()"
   ]
  },
  {
   "cell_type": "markdown",
   "id": "7fb51add-e1d7-4441-b4f5-ead9ff8aa2a1",
   "metadata": {},
   "source": [
    "Up to this point, it works fine. It tells you there are multiple IFs (spectral windows).\n",
    "\n",
    "Now, when we try to calibrate something, it breaks down."
   ]
  },
  {
   "cell_type": "code",
   "execution_count": 5,
   "id": "f82b8961-14d3-4d4e-a396-dd420845123a",
   "metadata": {},
   "outputs": [
    {
     "ename": "ValueError",
     "evalue": "Scans [6] not found in ONs or OFFs of bintable None",
     "output_type": "error",
     "traceback": [
      "\u001b[0;31m---------------------------------------------------------------------------\u001b[0m",
      "\u001b[0;31mValueError\u001b[0m                                Traceback (most recent call last)",
      "Cell \u001b[0;32mIn[5], line 1\u001b[0m\n\u001b[0;32m----> 1\u001b[0m ps_scans \u001b[38;5;241m=\u001b[39m \u001b[43msdf\u001b[49m\u001b[38;5;241;43m.\u001b[39;49m\u001b[43mgetps\u001b[49m\u001b[43m(\u001b[49m\u001b[38;5;241;43m6\u001b[39;49m\u001b[43m,\u001b[49m\u001b[43m \u001b[49m\u001b[43mifnum\u001b[49m\u001b[38;5;241;43m=\u001b[39;49m\u001b[38;5;241;43m0\u001b[39;49m\u001b[43m)\u001b[49m\n",
      "File \u001b[0;32m/home/sandboxes/psalas/Dysh/dysh/src/dysh/fits/gbtfitsload.py:376\u001b[0m, in \u001b[0;36mGBTFITSLoad.getps\u001b[0;34m(self, scans, bintable, **kwargs)\u001b[0m\n\u001b[1;32m    374\u001b[0m scanblock \u001b[38;5;241m=\u001b[39m ScanBlock()\n\u001b[1;32m    375\u001b[0m \u001b[38;5;28;01mfor\u001b[39;00m i \u001b[38;5;129;01min\u001b[39;00m \u001b[38;5;28mrange\u001b[39m(\u001b[38;5;28mlen\u001b[39m(\u001b[38;5;28mself\u001b[39m\u001b[38;5;241m.\u001b[39m_sdf)):\n\u001b[0;32m--> 376\u001b[0m     scanlist \u001b[38;5;241m=\u001b[39m \u001b[38;5;28;43mself\u001b[39;49m\u001b[38;5;241;43m.\u001b[39;49m\u001b[43monoff_scan_list\u001b[49m\u001b[43m(\u001b[49m\u001b[43mscans\u001b[49m\u001b[43m,\u001b[49m\u001b[43m \u001b[49m\u001b[43mifnum\u001b[49m\u001b[38;5;241;43m=\u001b[39;49m\u001b[43mifnum\u001b[49m\u001b[43m,\u001b[49m\u001b[43m \u001b[49m\u001b[43mplnum\u001b[49m\u001b[38;5;241;43m=\u001b[39;49m\u001b[43mplnum\u001b[49m\u001b[43m,\u001b[49m\u001b[43m \u001b[49m\u001b[43mfitsindex\u001b[49m\u001b[38;5;241;43m=\u001b[39;49m\u001b[43mi\u001b[49m\u001b[43m)\u001b[49m\n\u001b[1;32m    377\u001b[0m     \u001b[38;5;66;03m# add ifnum,plnum\u001b[39;00m\n\u001b[1;32m    378\u001b[0m     rows \u001b[38;5;241m=\u001b[39m \u001b[38;5;28mself\u001b[39m\u001b[38;5;241m.\u001b[39monoff_rows(scans, ifnum\u001b[38;5;241m=\u001b[39mifnum, plnum\u001b[38;5;241m=\u001b[39mplnum, bintable\u001b[38;5;241m=\u001b[39mbintable, fitsindex\u001b[38;5;241m=\u001b[39mi)\n",
      "File \u001b[0;32m/home/sandboxes/psalas/Dysh/dysh/src/dysh/fits/gbtfitsload.py:981\u001b[0m, in \u001b[0;36mGBTFITSLoad.onoff_scan_list\u001b[0;34m(self, scans, ifnum, plnum, bintable, fitsindex)\u001b[0m\n\u001b[1;32m    979\u001b[0m \u001b[38;5;66;03m# print(\"OFF REQUESTED \",offrequested)\u001b[39;00m\n\u001b[1;32m    980\u001b[0m \u001b[38;5;28;01mif\u001b[39;00m \u001b[38;5;28mlen\u001b[39m(onrequested) \u001b[38;5;241m==\u001b[39m \u001b[38;5;241m0\u001b[39m \u001b[38;5;129;01mand\u001b[39;00m \u001b[38;5;28mlen\u001b[39m(offrequested) \u001b[38;5;241m==\u001b[39m \u001b[38;5;241m0\u001b[39m:\n\u001b[0;32m--> 981\u001b[0m     \u001b[38;5;28;01mraise\u001b[39;00m \u001b[38;5;167;01mValueError\u001b[39;00m(\u001b[38;5;124mf\u001b[39m\u001b[38;5;124m\"\u001b[39m\u001b[38;5;124mScans \u001b[39m\u001b[38;5;132;01m{\u001b[39;00mscans\u001b[38;5;132;01m}\u001b[39;00m\u001b[38;5;124m not found in ONs or OFFs of bintable \u001b[39m\u001b[38;5;132;01m{\u001b[39;00mbintable\u001b[38;5;132;01m}\u001b[39;00m\u001b[38;5;124m\"\u001b[39m)\n\u001b[1;32m    982\u001b[0m \u001b[38;5;66;03m# Then check that for each requested ON/OFF there is a matching OFF/ON\u001b[39;00m\n\u001b[1;32m    983\u001b[0m \u001b[38;5;66;03m# and build the final matched list of ONs and OFfs.\u001b[39;00m\n\u001b[1;32m    984\u001b[0m sons \u001b[38;5;241m=\u001b[39m \u001b[38;5;28mlist\u001b[39m(onrequested\u001b[38;5;241m.\u001b[39mcopy())\n",
      "\u001b[0;31mValueError\u001b[0m: Scans [6] not found in ONs or OFFs of bintable None"
     ]
    }
   ],
   "source": [
    "ps_scans = sdf.getps(6, ifnum=0)"
   ]
  },
  {
   "cell_type": "code",
   "execution_count": 6,
   "id": "88f1a007-25bf-4a19-abb5-5d23af18ae11",
   "metadata": {},
   "outputs": [],
   "source": [
    "# Check what is going wrong by looking at `GBTFITSLoad.onoff_scan_list`\n",
    "\n",
    "# These are the defaults.\n",
    "plnum = 0\n",
    "ifnum = 0\n",
    "df = sdf.index(bintable=None, fitsindex=0)\n",
    "# df = df[(df[\"PLNUM\"] == plnum) & (df[\"IFNUM\"] == ifnum)]\n",
    "# dfon = sdf.select(\"_OBSTYPE\", \"PSWITCHON\", df)\n",
    "# dfoff = sdf.select(\"_OBSTYPE\", \"PSWITCHOFF\", df)\n",
    "# onscans = uniq(list(dfon[\"SCAN\"]))  # wouldn't set() do this too?\n",
    "# offscans = uniq(list(dfoff[\"SCAN\"]))"
   ]
  },
  {
   "cell_type": "code",
   "execution_count": 7,
   "id": "76231a02-3729-4345-b478-740cc0a7191e",
   "metadata": {},
   "outputs": [
    {
     "data": {
      "text/plain": [
       "0     2\n",
       "1     2\n",
       "2     2\n",
       "3     2\n",
       "4     2\n",
       "5     2\n",
       "6     2\n",
       "7     2\n",
       "8     2\n",
       "9     2\n",
       "10    2\n",
       "11    2\n",
       "12    2\n",
       "13    2\n",
       "14    2\n",
       "15    2\n",
       "16    2\n",
       "17    2\n",
       "18    2\n",
       "19    2\n",
       "20    2\n",
       "21    2\n",
       "22    2\n",
       "23    2\n",
       "24    2\n",
       "25    2\n",
       "26    2\n",
       "27    2\n",
       "28    2\n",
       "29    2\n",
       "30    2\n",
       "31    2\n",
       "Name: IFNUM, dtype: int16"
      ]
     },
     "execution_count": 7,
     "metadata": {},
     "output_type": "execute_result"
    }
   ],
   "source": [
    "df[\"IFNUM\"]"
   ]
  },
  {
   "cell_type": "markdown",
   "id": "311e8448-4b9c-4a03-af64-643d0d3f8c6c",
   "metadata": {},
   "source": [
    "The problem seems to be that while selecting the OffOn scans, it expects to find `ifnum=0`, but that is not part of the first file, so it crashes instead on moving on to the next file."
   ]
  },
  {
   "cell_type": "code",
   "execution_count": null,
   "id": "1e506a03-bd3a-4d67-9ceb-a05ce00f7ce5",
   "metadata": {},
   "outputs": [],
   "source": []
  }
 ],
 "metadata": {
  "kernelspec": {
   "display_name": "Python 3 (ipykernel)",
   "language": "python",
   "name": "python3"
  },
  "language_info": {
   "codemirror_mode": {
    "name": "ipython",
    "version": 3
   },
   "file_extension": ".py",
   "mimetype": "text/x-python",
   "name": "python",
   "nbconvert_exporter": "python",
   "pygments_lexer": "ipython3",
   "version": "3.11.6"
  }
 },
 "nbformat": 4,
 "nbformat_minor": 5
}
