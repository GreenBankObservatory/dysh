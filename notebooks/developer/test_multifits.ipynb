{
 "cells": [
  {
   "cell_type": "markdown",
   "id": "e95fb959-0ace-4a5a-b7fd-3024df1e444b",
   "metadata": {},
   "source": [
    "Testing multifits loading and using `gettp` on multiple files."
   ]
  },
  {
   "cell_type": "code",
   "execution_count": 1,
   "id": "7a2f1fdc-e0fe-48de-b4ca-930dddeeed69",
   "metadata": {},
   "outputs": [],
   "source": [
    "from dysh.fits.gbtfitsload import GBTFITSLoad\n",
    "import dysh.util as util"
   ]
  },
  {
   "cell_type": "code",
   "execution_count": 2,
   "id": "ee41061f-f67e-4151-b960-dc08ffeaf9a0",
   "metadata": {},
   "outputs": [],
   "source": [
    "# Point it to the testdata directory on the root dysh directory.\n",
    "testdata = util.get_project_testdata()\n",
    "#testdata = \"/home/sandboxes/psalas/Dysh/dysh/testdata\"\n",
    "# The folder with multiple SDFITS files.\n",
    "data_path = testdata  / \"AGBT18B_354_03.raw.vegas\""
   ]
  },
  {
   "cell_type": "code",
   "execution_count": 3,
   "id": "69fdd387-b2b9-4bc1-bd7f-f92000ece8ee",
   "metadata": {},
   "outputs": [],
   "source": [
    "sdf = GBTFITSLoad(data_path, verbose=False)"
   ]
  },
  {
   "cell_type": "code",
   "execution_count": 4,
   "id": "556ddf8c-dfcf-4f1b-bd7d-91d373a35e13",
   "metadata": {},
   "outputs": [
    {
     "data": {
      "text/html": [
       "<div>\n",
       "<style scoped>\n",
       "    .dataframe tbody tr th:only-of-type {\n",
       "        vertical-align: middle;\n",
       "    }\n",
       "\n",
       "    .dataframe tbody tr th {\n",
       "        vertical-align: top;\n",
       "    }\n",
       "\n",
       "    .dataframe thead th {\n",
       "        text-align: right;\n",
       "    }\n",
       "</style>\n",
       "<table border=\"1\" class=\"dataframe\">\n",
       "  <thead>\n",
       "    <tr style=\"text-align: right;\">\n",
       "      <th></th>\n",
       "      <th>SCAN</th>\n",
       "      <th>OBJECT</th>\n",
       "      <th>VELOCITY</th>\n",
       "      <th>PROC</th>\n",
       "      <th>PROCSEQN</th>\n",
       "      <th>RESTFREQ</th>\n",
       "      <th>DOPFREQ</th>\n",
       "      <th># IF</th>\n",
       "      <th># POL</th>\n",
       "      <th># INT</th>\n",
       "      <th># FEED</th>\n",
       "      <th>AZIMUTH</th>\n",
       "      <th>ELEVATIO</th>\n",
       "    </tr>\n",
       "  </thead>\n",
       "  <tbody>\n",
       "    <tr>\n",
       "      <th>0</th>\n",
       "      <td>6.0</td>\n",
       "      <td>W49N</td>\n",
       "      <td>7.0</td>\n",
       "      <td>OffOn</td>\n",
       "      <td>1.0</td>\n",
       "      <td>45.077148</td>\n",
       "      <td>44.979549</td>\n",
       "      <td>4</td>\n",
       "      <td>2</td>\n",
       "      <td>4</td>\n",
       "      <td>1</td>\n",
       "      <td>128.090129</td>\n",
       "      <td>50.305025</td>\n",
       "    </tr>\n",
       "    <tr>\n",
       "      <th>1</th>\n",
       "      <td>7.0</td>\n",
       "      <td>W49N</td>\n",
       "      <td>7.0</td>\n",
       "      <td>OffOn</td>\n",
       "      <td>2.0</td>\n",
       "      <td>45.077148</td>\n",
       "      <td>44.979549</td>\n",
       "      <td>4</td>\n",
       "      <td>2</td>\n",
       "      <td>4</td>\n",
       "      <td>1</td>\n",
       "      <td>129.920889</td>\n",
       "      <td>50.435658</td>\n",
       "    </tr>\n",
       "  </tbody>\n",
       "</table>\n",
       "</div>"
      ],
      "text/plain": [
       "  SCAN OBJECT VELOCITY   PROC PROCSEQN   RESTFREQ    DOPFREQ # IF # POL # INT  \\\n",
       "0  6.0   W49N      7.0  OffOn      1.0  45.077148  44.979549    4     2     4   \n",
       "1  7.0   W49N      7.0  OffOn      2.0  45.077148  44.979549    4     2     4   \n",
       "\n",
       "  # FEED     AZIMUTH   ELEVATIO  \n",
       "0      1  128.090129  50.305025  \n",
       "1      1  129.920889  50.435658  "
      ]
     },
     "execution_count": 4,
     "metadata": {},
     "output_type": "execute_result"
    }
   ],
   "source": [
    "sdf.summary()"
   ]
  },
  {
   "cell_type": "markdown",
   "id": "7fb51add-e1d7-4441-b4f5-ead9ff8aa2a1",
   "metadata": {},
   "source": [
    "Up to this point, it works fine. It tells you there are multiple IFs (spectral windows).\n",
    "\n",
    "Now, when we try to calibrate something, it breaks down."
   ]
  },
  {
   "cell_type": "code",
   "execution_count": 5,
   "id": "f82b8961-14d3-4d4e-a396-dd420845123a",
   "metadata": {},
   "outputs": [
    {
     "name": "stdout",
     "output_type": "stream",
     "text": [
      "FILE  /home/mpound/src/dysh/testdata/AGBT18B_354_03.raw.vegas/AGBT18B_354_03.raw.vegas.A.fits\n",
      "FILE  /home/mpound/src/dysh/testdata/AGBT18B_354_03.raw.vegas/AGBT18B_354_03.raw.vegas.A.fits\n",
      "FILE  /home/mpound/src/dysh/testdata/AGBT18B_354_03.raw.vegas/AGBT18B_354_03.raw.vegas.B.fits\n",
      "FILE  /home/mpound/src/dysh/testdata/AGBT18B_354_03.raw.vegas/AGBT18B_354_03.raw.vegas.C.fits\n",
      "FILE  /home/mpound/src/dysh/testdata/AGBT18B_354_03.raw.vegas/AGBT18B_354_03.raw.vegas.D.fits\n"
     ]
    },
    {
     "name": "stderr",
     "output_type": "stream",
     "text": [
      "/home/mpound/src/dysh/src/dysh/spectra/core.py:346: RuntimeWarning: Mean of empty slice\n",
      "  meandiff = np.nanmean(calon[chrng]) - np.nanmean(caloff[chrng])\n",
      "/home/mpound/src/dysh/src/dysh/fits/gbtfitsload.py:949: UserWarning: no on/off scans found for given selection\n",
      "  warnings.warn(\"no on/off scans found for given selection\")\n"
     ]
    }
   ],
   "source": [
    "ps_scans = sdf.getps(6, ifnum=2)"
   ]
  },
  {
   "cell_type": "code",
   "execution_count": 6,
   "id": "aac8b43e-02d5-4e13-b21b-b6fa624ac709",
   "metadata": {},
   "outputs": [
    {
     "data": {
      "image/png": "[encoded data removed]",
      "text/plain": [
       "<Figure size 640x480 with 1 Axes>"
      ]
     },
     "metadata": {},
     "output_type": "display_data"
    }
   ],
   "source": [
    "ps_scans[0].timeaverage().plot()"
   ]
  },
  {
   "cell_type": "code",
   "execution_count": 8,
   "id": "66ec15d0-942f-48a7-a658-6b65f48969e2",
   "metadata": {},
   "outputs": [
    {
     "data": {
      "text/html": [
       "<div>\n",
       "<style scoped>\n",
       "    .dataframe tbody tr th:only-of-type {\n",
       "        vertical-align: middle;\n",
       "    }\n",
       "\n",
       "    .dataframe tbody tr th {\n",
       "        vertical-align: top;\n",
       "    }\n",
       "\n",
       "    .dataframe thead th {\n",
       "        text-align: right;\n",
       "    }\n",
       "</style>\n",
       "<table border=\"1\" class=\"dataframe\">\n",
       "  <thead>\n",
       "    <tr style=\"text-align: right;\">\n",
       "      <th></th>\n",
       "      <th>SCAN</th>\n",
       "      <th>OBJECT</th>\n",
       "      <th>VELOCITY</th>\n",
       "      <th>PROC</th>\n",
       "      <th>PROCSEQN</th>\n",
       "      <th>RESTFREQ</th>\n",
       "      <th>DOPFREQ</th>\n",
       "      <th># IF</th>\n",
       "      <th># POL</th>\n",
       "      <th># INT</th>\n",
       "      <th># FEED</th>\n",
       "      <th>AZIMUTH</th>\n",
       "      <th>ELEVATIO</th>\n",
       "    </tr>\n",
       "  </thead>\n",
       "  <tbody>\n",
       "    <tr>\n",
       "      <th>0</th>\n",
       "      <td>6.0</td>\n",
       "      <td>W49N</td>\n",
       "      <td>7.0</td>\n",
       "      <td>OffOn</td>\n",
       "      <td>1.0</td>\n",
       "      <td>44.610393</td>\n",
       "      <td>44.979549</td>\n",
       "      <td>1</td>\n",
       "      <td>2</td>\n",
       "      <td>4</td>\n",
       "      <td>1</td>\n",
       "      <td>128.090105</td>\n",
       "      <td>50.304993</td>\n",
       "    </tr>\n",
       "    <tr>\n",
       "      <th>1</th>\n",
       "      <td>7.0</td>\n",
       "      <td>W49N</td>\n",
       "      <td>7.0</td>\n",
       "      <td>OffOn</td>\n",
       "      <td>2.0</td>\n",
       "      <td>44.610393</td>\n",
       "      <td>44.979549</td>\n",
       "      <td>1</td>\n",
       "      <td>2</td>\n",
       "      <td>4</td>\n",
       "      <td>1</td>\n",
       "      <td>129.920963</td>\n",
       "      <td>50.43569</td>\n",
       "    </tr>\n",
       "  </tbody>\n",
       "</table>\n",
       "</div>"
      ],
      "text/plain": [
       "  SCAN OBJECT VELOCITY   PROC PROCSEQN   RESTFREQ    DOPFREQ # IF # POL # INT  \\\n",
       "0  6.0   W49N      7.0  OffOn      1.0  44.610393  44.979549    1     2     4   \n",
       "1  7.0   W49N      7.0  OffOn      2.0  44.610393  44.979549    1     2     4   \n",
       "\n",
       "  # FEED     AZIMUTH   ELEVATIO  \n",
       "0      1  128.090105  50.304993  \n",
       "1      1  129.920963   50.43569  "
      ]
     },
     "execution_count": 8,
     "metadata": {},
     "output_type": "execute_result"
    }
   ],
   "source": [
    "tg = GBTFITSLoad(data_path / \"AGBT18B_354_03.raw.vegas.B.fits\")\n",
    "tg.summary()"
   ]
  },
  {
   "cell_type": "code",
   "execution_count": 9,
   "id": "9f06ad74-b30e-4b4a-ad63-d38ebd8f783c",
   "metadata": {},
   "outputs": [
    {
     "name": "stdout",
     "output_type": "stream",
     "text": [
      "FILE  /home/mpound/src/dysh/testdata/AGBT18B_354_03.raw.vegas/AGBT18B_354_03.raw.vegas.B.fits\n"
     ]
    },
    {
     "data": {
      "text/plain": [
       "{'ON': [7], 'OFF': [6]}"
      ]
     },
     "execution_count": 9,
     "metadata": {},
     "output_type": "execute_result"
    }
   ],
   "source": [
    "tg.onoff_scan_list([6,7],ifnum=1)"
   ]
  },
  {
   "cell_type": "code",
   "execution_count": null,
   "id": "39206bf5-495d-4ecd-b514-28fdd874ef16",
   "metadata": {},
   "outputs": [],
   "source": []
  }
 ],
 "metadata": {
  "kernelspec": {
   "display_name": "Python 3 (ipykernel)",
   "language": "python",
   "name": "python3"
  },
  "language_info": {
   "codemirror_mode": {
    "name": "ipython",
    "version": 3
   },
   "file_extension": ".py",
   "mimetype": "text/x-python",
   "name": "python",
   "nbconvert_exporter": "python",
   "pygments_lexer": "ipython3",
   "version": "3.10.9"
  }
 },
 "nbformat": 4,
 "nbformat_minor": 5
}
