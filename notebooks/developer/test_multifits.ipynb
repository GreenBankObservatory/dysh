{
 "cells": [
  {
   "cell_type": "markdown",
   "id": "e95fb959-0ace-4a5a-b7fd-3024df1e444b",
   "metadata": {},
   "source": [
    "Testing multifits loading and using `gettp` on multiple files."
   ]
  },
  {
   "cell_type": "code",
   "execution_count": 1,
   "id": "7a2f1fdc-e0fe-48de-b4ca-930dddeeed69",
   "metadata": {},
   "outputs": [],
   "source": [
    "from dysh.fits.gbtfitsload import GBTFITSLoad\n",
    "import dysh.util as util"
   ]
  },
  {
   "cell_type": "code",
   "execution_count": 2,
   "id": "ee41061f-f67e-4151-b960-dc08ffeaf9a0",
   "metadata": {},
   "outputs": [],
   "source": [
    "# Point it to the testdata directory on the root dysh directory.\n",
    "testdata = util.get_project_testdata()\n",
    "#testdata = \"/home/sandboxes/psalas/Dysh/dysh/testdata\"\n",
    "# The folder with multiple SDFITS files.\n",
    "data_path = testdata  / \"AGBT18B_354_03/AGBT18B_354_03.raw.vegas\""
   ]
  },
  {
   "cell_type": "code",
   "execution_count": 3,
   "id": "69fdd387-b2b9-4bc1-bd7f-f92000ece8ee",
   "metadata": {},
   "outputs": [],
   "source": [
    "sdf = GBTFITSLoad(data_path, verbose=False)"
   ]
  },
  {
   "cell_type": "code",
   "execution_count": 4,
   "id": "556ddf8c-dfcf-4f1b-bd7d-91d373a35e13",
   "metadata": {},
   "outputs": [
    {
     "data": {
      "text/html": [
       "<div>\n",
       "<style scoped>\n",
       "    .dataframe tbody tr th:only-of-type {\n",
       "        vertical-align: middle;\n",
       "    }\n",
       "\n",
       "    .dataframe tbody tr th {\n",
       "        vertical-align: top;\n",
       "    }\n",
       "\n",
       "    .dataframe thead th {\n",
       "        text-align: right;\n",
       "    }\n",
       "</style>\n",
       "<table border=\"1\" class=\"dataframe\">\n",
       "  <thead>\n",
       "    <tr style=\"text-align: right;\">\n",
       "      <th></th>\n",
       "      <th>SCAN</th>\n",
       "      <th>OBJECT</th>\n",
       "      <th>VELOCITY</th>\n",
       "      <th>PROC</th>\n",
       "      <th>PROCSEQN</th>\n",
       "      <th>RESTFREQ</th>\n",
       "      <th>DOPFREQ</th>\n",
       "      <th># IF</th>\n",
       "      <th># POL</th>\n",
       "      <th># INT</th>\n",
       "      <th># FEED</th>\n",
       "      <th>AZIMUTH</th>\n",
       "      <th>ELEVATIO</th>\n",
       "    </tr>\n",
       "  </thead>\n",
       "  <tbody>\n",
       "    <tr>\n",
       "      <th>0</th>\n",
       "      <td>6</td>\n",
       "      <td>W49N</td>\n",
       "      <td>7.0</td>\n",
       "      <td>OffOn</td>\n",
       "      <td>1</td>\n",
       "      <td>45.077148</td>\n",
       "      <td>44.979549</td>\n",
       "      <td>4</td>\n",
       "      <td>2</td>\n",
       "      <td>4</td>\n",
       "      <td>1</td>\n",
       "      <td>128.090129</td>\n",
       "      <td>50.305025</td>\n",
       "    </tr>\n",
       "    <tr>\n",
       "      <th>1</th>\n",
       "      <td>7</td>\n",
       "      <td>W49N</td>\n",
       "      <td>7.0</td>\n",
       "      <td>OffOn</td>\n",
       "      <td>2</td>\n",
       "      <td>45.077148</td>\n",
       "      <td>44.979549</td>\n",
       "      <td>4</td>\n",
       "      <td>2</td>\n",
       "      <td>4</td>\n",
       "      <td>1</td>\n",
       "      <td>129.920889</td>\n",
       "      <td>50.435658</td>\n",
       "    </tr>\n",
       "  </tbody>\n",
       "</table>\n",
       "</div>"
      ],
      "text/plain": [
       "   SCAN OBJECT VELOCITY   PROC  PROCSEQN   RESTFREQ    DOPFREQ # IF # POL  \\\n",
       "0     6   W49N      7.0  OffOn         1  45.077148  44.979549    4     2   \n",
       "1     7   W49N      7.0  OffOn         2  45.077148  44.979549    4     2   \n",
       "\n",
       "  # INT # FEED     AZIMUTH   ELEVATIO  \n",
       "0     4      1  128.090129  50.305025  \n",
       "1     4      1  129.920889  50.435658  "
      ]
     },
     "execution_count": 4,
     "metadata": {},
     "output_type": "execute_result"
    }
   ],
   "source": [
    "sdf.summary()"
   ]
  },
  {
   "cell_type": "code",
   "execution_count": 5,
   "id": "bdb440ea-bb8d-4de1-91e8-be8515fbc9f1",
   "metadata": {},
   "outputs": [
    {
     "data": {
      "text/plain": [
       "Index(['OBJECT', 'BANDWID', 'DATE-OBS', 'DURATION', 'EXPOSURE', 'TSYS',\n",
       "       'TDIM7', 'TUNIT7', 'CTYPE1', 'CRVAL1', 'CRPIX1', 'CDELT1', 'CTYPE2',\n",
       "       'CRVAL2', 'CTYPE3', 'CRVAL3', 'CRVAL4', 'OBSERVER', 'OBSID', 'SCAN',\n",
       "       'OBSMODE', 'FRONTEND', 'TCAL', 'VELDEF', 'VFRAME', 'RVSYS', 'OBSFREQ',\n",
       "       'LST', 'AZIMUTH', 'ELEVATIO', 'TAMBIENT', 'PRESSURE', 'HUMIDITY',\n",
       "       'RESTFREQ', 'FREQRES', 'EQUINOX', 'RADESYS', 'TRGTLONG', 'TRGTLAT',\n",
       "       'SAMPLER', 'FEED', 'SRFEED', 'FEEDXOFF', 'FEEDEOFF', 'SUBREF_STATE',\n",
       "       'SIDEBAND', 'PROCSEQN', 'PROCSIZE', 'PROCSCAN', 'PROCTYPE', 'LASTON',\n",
       "       'LASTOFF', 'TIMESTAMP', 'QD_XEL', 'QD_EL', 'QD_BAD', 'QD_METHOD',\n",
       "       'VELOCITY', 'ZEROCHAN', 'DOPFREQ', 'ADCSAMPF', 'VSPDELT', 'VSPRVAL',\n",
       "       'VSPRPIX', 'SIG', 'CAL', 'CALTYPE', 'TWARM', 'TCOLD', 'CALPOSITION',\n",
       "       'IFNUM', 'PLNUM', 'FDNUM', 'HDU', 'BINTABLE', 'ROW', 'PROC', '_OBSTYPE',\n",
       "       '_SUBOBSMODE'],\n",
       "      dtype='object')"
      ]
     },
     "execution_count": 5,
     "metadata": {},
     "output_type": "execute_result"
    }
   ],
   "source": [
    "sdf._index.columns"
   ]
  },
  {
   "cell_type": "code",
   "execution_count": 6,
   "id": "4fe1d7a8-2439-4e2d-82ee-45cfc9cd7c7a",
   "metadata": {},
   "outputs": [
    {
     "data": {
      "text/plain": [
       "0      FREQ-OBS\n",
       "1      FREQ-OBS\n",
       "2      FREQ-OBS\n",
       "3      FREQ-OBS\n",
       "4      FREQ-OBS\n",
       "         ...   \n",
       "123    FREQ-OBS\n",
       "124    FREQ-OBS\n",
       "125    FREQ-OBS\n",
       "126    FREQ-OBS\n",
       "127    FREQ-OBS\n",
       "Name: CTYPE1, Length: 128, dtype: object"
      ]
     },
     "execution_count": 6,
     "metadata": {},
     "output_type": "execute_result"
    }
   ],
   "source": [
    "#sdf._index['TRGTLONG'],sdf._index['CRVAL2']\n",
    "sdf._index['VELOCITY']\n",
    "sdf._index['CTYPE1']"
   ]
  },
  {
   "cell_type": "code",
   "execution_count": 7,
   "id": "a6ce4fb5-d878-4a2a-94f3-c970889a0a6e",
   "metadata": {},
   "outputs": [
    {
     "name": "stderr",
     "output_type": "stream",
     "text": [
      "WARNING: VerifyWarning: Keyword name 'SUBREF_STATE' is greater than 8 characters or contains characters not allowed by the FITS standard; a HIERARCH card will be created. [astropy.io.fits.card]\n",
      "WARNING: VerifyWarning: Keyword name 'TIMESTAMP' is greater than 8 characters or contains characters not allowed by the FITS standard; a HIERARCH card will be created. [astropy.io.fits.card]\n",
      "WARNING: VerifyWarning: Keyword name 'QD_METHOD' is greater than 8 characters or contains characters not allowed by the FITS standard; a HIERARCH card will be created. [astropy.io.fits.card]\n",
      "WARNING: VerifyWarning: Keyword name 'CALPOSITION' is greater than 8 characters or contains characters not allowed by the FITS standard; a HIERARCH card will be created. [astropy.io.fits.card]\n",
      "WARNING: VerifyWarning: Keyword name '_SUBOBSMODE' is greater than 8 characters or contains characters not allowed by the FITS standard; a HIERARCH card will be created. [astropy.io.fits.card]\n",
      "WARNING: FITSFixedWarning: 'datfix' made the change 'Set MJD-OBS to 58795.805503 from DATE-OBS'. [astropy.wcs.wcs]\n",
      "WARNING: FITSFixedWarning: 'spcfix' made the change 'Changed CTYPE1 from 'FREQ-OBS' to 'FREQ', and SPECSYS to 'TOPOCENT' (VELREF=0)'. [astropy.wcs.wcs]\n"
     ]
    }
   ],
   "source": [
    "from astropy.wcs import WCS\n",
    "header = sdf._index.iloc[0].dropna().to_dict()\n",
    "w=WCS(header=header)"
   ]
  },
  {
   "cell_type": "code",
   "execution_count": null,
   "id": "56b6f510-2e3c-45d3-b502-39dbaa473603",
   "metadata": {},
   "outputs": [],
   "source": [
    "set([\"VELOCITY\",\"CRVAL1\", \"FOO\"]) <= header.keys()"
   ]
  },
  {
   "cell_type": "markdown",
   "id": "7fb51add-e1d7-4441-b4f5-ead9ff8aa2a1",
   "metadata": {},
   "source": [
    "Up to this point, it works fine. It tells you there are multiple IFs (spectral windows).\n",
    "\n",
    "Now, when we try to calibrate something, it breaks down."
   ]
  },
  {
   "cell_type": "code",
   "execution_count": null,
   "id": "f82b8961-14d3-4d4e-a396-dd420845123a",
   "metadata": {},
   "outputs": [],
   "source": [
    "ps_scans = sdf.getps(6, ifnum=2)"
   ]
  },
  {
   "cell_type": "code",
   "execution_count": null,
   "id": "aac8b43e-02d5-4e13-b21b-b6fa624ac709",
   "metadata": {},
   "outputs": [],
   "source": [
    "ps_scans[0].timeaverage().plot()"
   ]
  },
  {
   "cell_type": "code",
   "execution_count": null,
   "id": "66ec15d0-942f-48a7-a658-6b65f48969e2",
   "metadata": {},
   "outputs": [],
   "source": [
    "tg = GBTFITSLoad(data_path / \"AGBT18B_354_03.raw.vegas.B.fits\")\n",
    "tg.summary()"
   ]
  },
  {
   "cell_type": "code",
   "execution_count": null,
   "id": "9f06ad74-b30e-4b4a-ad63-d38ebd8f783c",
   "metadata": {},
   "outputs": [],
   "source": [
    "tg.onoff_scan_list([6,7],ifnum=1)"
   ]
  },
  {
   "cell_type": "markdown",
   "id": "6f768594-e79a-478f-b571-8e652500ab52",
   "metadata": {},
   "source": [
    "# Minimal failing example"
   ]
  },
  {
   "cell_type": "code",
   "execution_count": null,
   "id": "22c09a47-62b0-493a-a92b-cd646e705ead",
   "metadata": {},
   "outputs": [],
   "source": [
    "from dysh.fits.gbtfitsload import GBTFITSLoad\n",
    "import dysh.util as util\n",
    " \n",
    " # Point it to the testdata directory on the root dysh directory.\n",
    "testdata = util.get_project_testdata()\n",
    "data_path = testdata  / \"AGBT18B_354_03.raw.vegas\"\n",
    "\n",
    "sdf = GBTFITSLoad(data_path)\n",
    "sdf.udata(\"IFNUM\")\n",
    " \n",
    "for ifnum in sdf.udata(\"IFNUM\"):\n",
    "    try:\n",
    "        print(f\"trying {ifnum}\")\n",
    "        ps_scan = sdf.getps([6], ifnum=ifnum)\n",
    "    except Exception as e:\n",
    "        print(f\"Exception raised for ifnum={ifnum}\")\n",
    "        print(e)\n"
   ]
  },
  {
   "cell_type": "code",
   "execution_count": null,
   "id": "ba69cc51-4ffb-435e-9195-1e094c099181",
   "metadata": {},
   "outputs": [],
   "source": [
    "ps_scan = sdf.getps([6], ifnum=3)\n",
    "ps_scan"
   ]
  },
  {
   "cell_type": "code",
   "execution_count": null,
   "id": "75d74539-26cb-4256-9879-24a7fab359f9",
   "metadata": {},
   "outputs": [],
   "source": [
    "sdf = GBTFITSLoad(data_path)"
   ]
  },
  {
   "cell_type": "code",
   "execution_count": null,
   "id": "2d963b10-7f94-43fc-b4f4-979d57a6046c",
   "metadata": {},
   "outputs": [],
   "source": [
    "for s in sdf._sdf:\n",
    "    print(s.filename)"
   ]
  },
  {
   "cell_type": "code",
   "execution_count": null,
   "id": "5aa0a984-22b8-469c-8098-7d0909ba2629",
   "metadata": {},
   "outputs": [],
   "source": [
    "sdf.summary()\n"
   ]
  },
  {
   "cell_type": "code",
   "execution_count": null,
   "id": "1940da29-913c-4603-943a-dbd2941e940c",
   "metadata": {},
   "outputs": [],
   "source": [
    "fA=\"/home/mpound/src/dysh/testdata/AGBT18B_354_03.raw.vegas/AGBT18B_354_03.raw.vegas.A.fits\"\n",
    "sA = GBTFITSLoad(fA)"
   ]
  },
  {
   "cell_type": "code",
   "execution_count": null,
   "id": "d5356349-f72a-4238-bb47-08271f3ebeea",
   "metadata": {},
   "outputs": [],
   "source": [
    "sA.summary(verbose=True)"
   ]
  },
  {
   "cell_type": "code",
   "execution_count": null,
   "id": "899724cc-9130-44d0-bb4b-ecb449a159fc",
   "metadata": {},
   "outputs": [],
   "source": [
    "fD=\"/home/mpound/src/dysh/testdata/AGBT18B_354_03.raw.vegas/AGBT18B_354_03.raw.vegas.D.fits\"\n",
    "sD = GBTFITSLoad(fD)"
   ]
  },
  {
   "cell_type": "code",
   "execution_count": null,
   "id": "d5cbae16-2a46-448b-af9b-f8649d3c08ed",
   "metadata": {},
   "outputs": [],
   "source": [
    "sD.summary()"
   ]
  },
  {
   "cell_type": "code",
   "execution_count": null,
   "id": "0e3c7cb1-ed43-4d92-908f-0ccb63c90e50",
   "metadata": {},
   "outputs": [],
   "source": [
    "sD.getps(scans=7,ifnum=3)"
   ]
  },
  {
   "cell_type": "code",
   "execution_count": null,
   "id": "7f6323b9-f2ca-4715-a647-e058fe4783a7",
   "metadata": {},
   "outputs": [],
   "source": [
    "sD.index(bintable=None,fitsindex=0)"
   ]
  },
  {
   "cell_type": "code",
   "execution_count": null,
   "id": "7b7d9c12-4366-4018-8366-a39278f905c5",
   "metadata": {},
   "outputs": [],
   "source": []
  },
  {
   "cell_type": "code",
   "execution_count": null,
   "id": "b3cda824-f055-40ed-8cfa-d5e45bc455a7",
   "metadata": {},
   "outputs": [],
   "source": [
    "sA.getps(scans=7,ifnum=2)"
   ]
  },
  {
   "cell_type": "code",
   "execution_count": null,
   "id": "49d66cbb-3be9-45bc-9dba-e481344e84c3",
   "metadata": {},
   "outputs": [],
   "source": []
  }
 ],
 "metadata": {
  "kernelspec": {
   "display_name": "Python 3 (ipykernel)",
   "language": "python",
   "name": "python3"
  },
  "language_info": {
   "codemirror_mode": {
    "name": "ipython",
    "version": 3
   },
   "file_extension": ".py",
   "mimetype": "text/x-python",
   "name": "python",
   "nbconvert_exporter": "python",
   "pygments_lexer": "ipython3",
   "version": "3.9.18"
  }
 },
 "nbformat": 4,
 "nbformat_minor": 5
}
