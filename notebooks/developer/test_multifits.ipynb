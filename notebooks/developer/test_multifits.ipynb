{
 "cells": [
  {
   "cell_type": "markdown",
   "id": "e95fb959-0ace-4a5a-b7fd-3024df1e444b",
   "metadata": {},
   "source": [
    "Testing multifits loading and using `gettp` on multiple files."
   ]
  },
  {
   "cell_type": "code",
   "execution_count": 1,
   "id": "7a2f1fdc-e0fe-48de-b4ca-930dddeeed69",
   "metadata": {},
   "outputs": [],
   "source": [
    "from dysh.fits.gbtfitsload import GBTFITSLoad\n",
    "import dysh.util as util"
   ]
  },
  {
   "cell_type": "code",
   "execution_count": 2,
   "id": "ee41061f-f67e-4151-b960-dc08ffeaf9a0",
   "metadata": {},
   "outputs": [],
   "source": [
    "# Point it to the testdata directory on the root dysh directory.\n",
    "testdata = util.get_project_testdata()\n",
    "#testdata = \"/home/sandboxes/psalas/Dysh/dysh/testdata\"\n",
    "# The folder with multiple SDFITS files.\n",
    "data_path = testdata  / \"AGBT18B_354_03.raw.vegas\""
   ]
  },
  {
   "cell_type": "code",
   "execution_count": 3,
   "id": "69fdd387-b2b9-4bc1-bd7f-f92000ece8ee",
   "metadata": {},
   "outputs": [],
   "source": [
    "sdf = GBTFITSLoad(data_path, verbose=False)"
   ]
  },
  {
   "cell_type": "code",
   "execution_count": 4,
   "id": "556ddf8c-dfcf-4f1b-bd7d-91d373a35e13",
   "metadata": {},
   "outputs": [
    {
     "data": {
      "text/html": [
       "<div>\n",
       "<style scoped>\n",
       "    .dataframe tbody tr th:only-of-type {\n",
       "        vertical-align: middle;\n",
       "    }\n",
       "\n",
       "    .dataframe tbody tr th {\n",
       "        vertical-align: top;\n",
       "    }\n",
       "\n",
       "    .dataframe thead th {\n",
       "        text-align: right;\n",
       "    }\n",
       "</style>\n",
       "<table border=\"1\" class=\"dataframe\">\n",
       "  <thead>\n",
       "    <tr style=\"text-align: right;\">\n",
       "      <th></th>\n",
       "      <th>SCAN</th>\n",
       "      <th>OBJECT</th>\n",
       "      <th>VELOCITY</th>\n",
       "      <th>PROC</th>\n",
       "      <th>PROCSEQN</th>\n",
       "      <th>RESTFREQ</th>\n",
       "      <th>DOPFREQ</th>\n",
       "      <th># IF</th>\n",
       "      <th># POL</th>\n",
       "      <th># INT</th>\n",
       "      <th># FEED</th>\n",
       "      <th>AZIMUTH</th>\n",
       "      <th>ELEVATIO</th>\n",
       "    </tr>\n",
       "  </thead>\n",
       "  <tbody>\n",
       "    <tr>\n",
       "      <th>0</th>\n",
       "      <td>6</td>\n",
       "      <td>W49N</td>\n",
       "      <td>7.0</td>\n",
       "      <td>OffOn</td>\n",
       "      <td>1</td>\n",
       "      <td>45.077148</td>\n",
       "      <td>44.979549</td>\n",
       "      <td>4</td>\n",
       "      <td>2</td>\n",
       "      <td>4</td>\n",
       "      <td>1</td>\n",
       "      <td>128.090129</td>\n",
       "      <td>50.305025</td>\n",
       "    </tr>\n",
       "    <tr>\n",
       "      <th>1</th>\n",
       "      <td>7</td>\n",
       "      <td>W49N</td>\n",
       "      <td>7.0</td>\n",
       "      <td>OffOn</td>\n",
       "      <td>2</td>\n",
       "      <td>45.060008</td>\n",
       "      <td>44.979549</td>\n",
       "      <td>4</td>\n",
       "      <td>2</td>\n",
       "      <td>4</td>\n",
       "      <td>1</td>\n",
       "      <td>129.919789</td>\n",
       "      <td>50.435133</td>\n",
       "    </tr>\n",
       "  </tbody>\n",
       "</table>\n",
       "</div>"
      ],
      "text/plain": [
       "   SCAN OBJECT VELOCITY   PROC  PROCSEQN   RESTFREQ    DOPFREQ # IF # POL  \\\n",
       "0     6   W49N      7.0  OffOn         1  45.077148  44.979549    4     2   \n",
       "1     7   W49N      7.0  OffOn         2  45.060008  44.979549    4     2   \n",
       "\n",
       "  # INT # FEED     AZIMUTH   ELEVATIO  \n",
       "0     4      1  128.090129  50.305025  \n",
       "1     4      1  129.919789  50.435133  "
      ]
     },
     "execution_count": 4,
     "metadata": {},
     "output_type": "execute_result"
    }
   ],
   "source": [
    "sdf.summary()"
   ]
  },
  {
   "cell_type": "markdown",
   "id": "7fb51add-e1d7-4441-b4f5-ead9ff8aa2a1",
   "metadata": {},
   "source": [
    "Up to this point, it works fine. It tells you there are multiple IFs (spectral windows).\n",
    "\n",
    "Now, when we try to calibrate something, it breaks down."
   ]
  },
  {
   "cell_type": "code",
   "execution_count": 5,
   "id": "f82b8961-14d3-4d4e-a396-dd420845123a",
   "metadata": {},
   "outputs": [
    {
     "name": "stdout",
     "output_type": "stream",
     "text": [
      "FILE  /home/sandboxes/psalas/Dysh/dysh/testdata/AGBT18B_354_03.raw.vegas/AGBT18B_354_03.raw.vegas.A.fits\n",
      "FILE  /home/sandboxes/psalas/Dysh/dysh/testdata/AGBT18B_354_03.raw.vegas/AGBT18B_354_03.raw.vegas.B.fits\n",
      "FILE  /home/sandboxes/psalas/Dysh/dysh/testdata/AGBT18B_354_03.raw.vegas/AGBT18B_354_03.raw.vegas.C.fits\n",
      "FILE  /home/sandboxes/psalas/Dysh/dysh/testdata/AGBT18B_354_03.raw.vegas/AGBT18B_354_03.raw.vegas.A.fits\n"
     ]
    },
    {
     "name": "stderr",
     "output_type": "stream",
     "text": [
      "/home/sandboxes/psalas/Dysh/dysh/src/dysh/fits/gbtfitsload.py:955: UserWarning: no on/off scans found for given selection\n",
      "  warnings.warn(\"no on/off scans found for given selection\")\n"
     ]
    },
    {
     "ename": "Exception",
     "evalue": "Scans [] not found in bintable None",
     "output_type": "error",
     "traceback": [
      "\u001b[0;31m---------------------------------------------------------------------------\u001b[0m",
      "\u001b[0;31mException\u001b[0m                                 Traceback (most recent call last)",
      "Cell \u001b[0;32mIn[5], line 1\u001b[0m\n\u001b[0;32m----> 1\u001b[0m ps_scans \u001b[38;5;241m=\u001b[39m \u001b[43msdf\u001b[49m\u001b[38;5;241;43m.\u001b[39;49m\u001b[43mgetps\u001b[49m\u001b[43m(\u001b[49m\u001b[38;5;241;43m6\u001b[39;49m\u001b[43m,\u001b[49m\u001b[43m \u001b[49m\u001b[43mifnum\u001b[49m\u001b[38;5;241;43m=\u001b[39;49m\u001b[38;5;241;43m0\u001b[39;49m\u001b[43m)\u001b[49m\n",
      "File \u001b[0;32m/home/sandboxes/psalas/Dysh/dysh/src/dysh/fits/gbtfitsload.py:388\u001b[0m, in \u001b[0;36mGBTFITSLoad.getps\u001b[0;34m(self, scans, bintable, **kwargs)\u001b[0m\n\u001b[1;32m    386\u001b[0m     \u001b[38;5;28;01mcontinue\u001b[39;00m\n\u001b[1;32m    387\u001b[0m \u001b[38;5;66;03m# add ifnum,plnum\u001b[39;00m\n\u001b[0;32m--> 388\u001b[0m rows \u001b[38;5;241m=\u001b[39m \u001b[38;5;28;43mself\u001b[39;49m\u001b[38;5;241;43m.\u001b[39;49m\u001b[43monoff_rows\u001b[49m\u001b[43m(\u001b[49m\u001b[43mscans\u001b[49m\u001b[43m,\u001b[49m\u001b[43m \u001b[49m\u001b[43mifnum\u001b[49m\u001b[38;5;241;43m=\u001b[39;49m\u001b[43mifnum\u001b[49m\u001b[43m,\u001b[49m\u001b[43m \u001b[49m\u001b[43mplnum\u001b[49m\u001b[38;5;241;43m=\u001b[39;49m\u001b[43mplnum\u001b[49m\u001b[43m,\u001b[49m\u001b[43m \u001b[49m\u001b[43mbintable\u001b[49m\u001b[38;5;241;43m=\u001b[39;49m\u001b[43mbintable\u001b[49m\u001b[43m,\u001b[49m\u001b[43m \u001b[49m\u001b[43mfitsindex\u001b[49m\u001b[38;5;241;43m=\u001b[39;49m\u001b[43mi\u001b[49m\u001b[43m)\u001b[49m\n\u001b[1;32m    389\u001b[0m \u001b[38;5;66;03m# do not pass scan list here. We need all the cal rows. They will\u001b[39;00m\n\u001b[1;32m    390\u001b[0m \u001b[38;5;66;03m# be intersected with scan rows in PSScan\u001b[39;00m\n\u001b[1;32m    391\u001b[0m \u001b[38;5;66;03m# add ifnum,plnum\u001b[39;00m\n\u001b[1;32m    392\u001b[0m calrows \u001b[38;5;241m=\u001b[39m \u001b[38;5;28mself\u001b[39m\u001b[38;5;241m.\u001b[39mcalonoff_rows(scans\u001b[38;5;241m=\u001b[39m\u001b[38;5;28;01mNone\u001b[39;00m, bintable\u001b[38;5;241m=\u001b[39mbintable, fitsindex\u001b[38;5;241m=\u001b[39mi)\n",
      "File \u001b[0;32m/home/sandboxes/psalas/Dysh/dysh/src/dysh/fits/gbtfitsload.py:1105\u001b[0m, in \u001b[0;36mGBTFITSLoad.onoff_rows\u001b[0;34m(self, scans, ifnum, plnum, bintable, fitsindex)\u001b[0m\n\u001b[1;32m   1103\u001b[0m \u001b[38;5;66;03m# scans is now a dict of \"ON\" \"OFF\u001b[39;00m\n\u001b[1;32m   1104\u001b[0m \u001b[38;5;28;01mfor\u001b[39;00m key \u001b[38;5;129;01min\u001b[39;00m scans:\n\u001b[0;32m-> 1105\u001b[0m     rows[key] \u001b[38;5;241m=\u001b[39m \u001b[38;5;28;43mself\u001b[39;49m\u001b[38;5;241;43m.\u001b[39;49m\u001b[43mscan_rows\u001b[49m\u001b[43m(\u001b[49m\u001b[43mscans\u001b[49m\u001b[43m[\u001b[49m\u001b[43mkey\u001b[49m\u001b[43m]\u001b[49m\u001b[43m,\u001b[49m\u001b[43m \u001b[49m\u001b[43mifnum\u001b[49m\u001b[43m,\u001b[49m\u001b[43m \u001b[49m\u001b[43mplnum\u001b[49m\u001b[43m,\u001b[49m\u001b[43m \u001b[49m\u001b[43mbintable\u001b[49m\u001b[43m)\u001b[49m\n\u001b[1;32m   1106\u001b[0m \u001b[38;5;28;01mreturn\u001b[39;00m rows\n",
      "File \u001b[0;32m/home/sandboxes/psalas/Dysh/dysh/src/dysh/fits/gbtfitsload.py:1138\u001b[0m, in \u001b[0;36mGBTFITSLoad.scan_rows\u001b[0;34m(self, scans, ifnum, plnum, bintable, fitsindex)\u001b[0m\n\u001b[1;32m   1136\u001b[0m rows \u001b[38;5;241m=\u001b[39m \u001b[38;5;28mlist\u001b[39m(df\u001b[38;5;241m.\u001b[39mindex)\n\u001b[1;32m   1137\u001b[0m \u001b[38;5;28;01mif\u001b[39;00m \u001b[38;5;28mlen\u001b[39m(rows) \u001b[38;5;241m==\u001b[39m \u001b[38;5;241m0\u001b[39m:\n\u001b[0;32m-> 1138\u001b[0m     \u001b[38;5;28;01mraise\u001b[39;00m \u001b[38;5;167;01mException\u001b[39;00m(\u001b[38;5;124mf\u001b[39m\u001b[38;5;124m\"\u001b[39m\u001b[38;5;124mScans \u001b[39m\u001b[38;5;132;01m{\u001b[39;00mscans\u001b[38;5;132;01m}\u001b[39;00m\u001b[38;5;124m not found in bintable \u001b[39m\u001b[38;5;132;01m{\u001b[39;00mbintable\u001b[38;5;132;01m}\u001b[39;00m\u001b[38;5;124m\"\u001b[39m)\n\u001b[1;32m   1139\u001b[0m \u001b[38;5;28;01mreturn\u001b[39;00m rows\n",
      "\u001b[0;31mException\u001b[0m: Scans [] not found in bintable None"
     ]
    }
   ],
   "source": [
    "ps_scans = sdf.getps(6, ifnum=0)"
   ]
  },
  {
   "cell_type": "code",
   "execution_count": 6,
   "id": "aac8b43e-02d5-4e13-b21b-b6fa624ac709",
   "metadata": {},
   "outputs": [
    {
     "data": {
      "image/png": "[encoded data removed]",
      "text/plain": [
       "<Figure size 640x480 with 1 Axes>"
      ]
     },
     "metadata": {},
     "output_type": "display_data"
    }
   ],
   "source": [
    "ps_scans[0].timeaverage().plot()"
   ]
  },
  {
   "cell_type": "code",
   "execution_count": 8,
   "id": "66ec15d0-942f-48a7-a658-6b65f48969e2",
   "metadata": {},
   "outputs": [
    {
     "data": {
      "text/html": [
       "<div>\n",
       "<style scoped>\n",
       "    .dataframe tbody tr th:only-of-type {\n",
       "        vertical-align: middle;\n",
       "    }\n",
       "\n",
       "    .dataframe tbody tr th {\n",
       "        vertical-align: top;\n",
       "    }\n",
       "\n",
       "    .dataframe thead th {\n",
       "        text-align: right;\n",
       "    }\n",
       "</style>\n",
       "<table border=\"1\" class=\"dataframe\">\n",
       "  <thead>\n",
       "    <tr style=\"text-align: right;\">\n",
       "      <th></th>\n",
       "      <th>SCAN</th>\n",
       "      <th>OBJECT</th>\n",
       "      <th>VELOCITY</th>\n",
       "      <th>PROC</th>\n",
       "      <th>PROCSEQN</th>\n",
       "      <th>RESTFREQ</th>\n",
       "      <th>DOPFREQ</th>\n",
       "      <th># IF</th>\n",
       "      <th># POL</th>\n",
       "      <th># INT</th>\n",
       "      <th># FEED</th>\n",
       "      <th>AZIMUTH</th>\n",
       "      <th>ELEVATIO</th>\n",
       "    </tr>\n",
       "  </thead>\n",
       "  <tbody>\n",
       "    <tr>\n",
       "      <th>0</th>\n",
       "      <td>6.0</td>\n",
       "      <td>W49N</td>\n",
       "      <td>7.0</td>\n",
       "      <td>OffOn</td>\n",
       "      <td>1.0</td>\n",
       "      <td>44.610393</td>\n",
       "      <td>44.979549</td>\n",
       "      <td>1</td>\n",
       "      <td>2</td>\n",
       "      <td>4</td>\n",
       "      <td>1</td>\n",
       "      <td>128.090105</td>\n",
       "      <td>50.304993</td>\n",
       "    </tr>\n",
       "    <tr>\n",
       "      <th>1</th>\n",
       "      <td>7.0</td>\n",
       "      <td>W49N</td>\n",
       "      <td>7.0</td>\n",
       "      <td>OffOn</td>\n",
       "      <td>2.0</td>\n",
       "      <td>44.610393</td>\n",
       "      <td>44.979549</td>\n",
       "      <td>1</td>\n",
       "      <td>2</td>\n",
       "      <td>4</td>\n",
       "      <td>1</td>\n",
       "      <td>129.920963</td>\n",
       "      <td>50.43569</td>\n",
       "    </tr>\n",
       "  </tbody>\n",
       "</table>\n",
       "</div>"
      ],
      "text/plain": [
       "  SCAN OBJECT VELOCITY   PROC PROCSEQN   RESTFREQ    DOPFREQ # IF # POL # INT  \\\n",
       "0  6.0   W49N      7.0  OffOn      1.0  44.610393  44.979549    1     2     4   \n",
       "1  7.0   W49N      7.0  OffOn      2.0  44.610393  44.979549    1     2     4   \n",
       "\n",
       "  # FEED     AZIMUTH   ELEVATIO  \n",
       "0      1  128.090105  50.304993  \n",
       "1      1  129.920963   50.43569  "
      ]
     },
     "execution_count": 8,
     "metadata": {},
     "output_type": "execute_result"
    }
   ],
   "source": [
    "tg = GBTFITSLoad(data_path / \"AGBT18B_354_03.raw.vegas.B.fits\")\n",
    "tg.summary()"
   ]
  },
  {
   "cell_type": "code",
   "execution_count": 9,
   "id": "9f06ad74-b30e-4b4a-ad63-d38ebd8f783c",
   "metadata": {},
   "outputs": [
    {
     "name": "stdout",
     "output_type": "stream",
     "text": [
      "FILE  /home/mpound/src/dysh/testdata/AGBT18B_354_03.raw.vegas/AGBT18B_354_03.raw.vegas.B.fits\n"
     ]
    },
    {
     "data": {
      "text/plain": [
       "{'ON': [7], 'OFF': [6]}"
      ]
     },
     "execution_count": 9,
     "metadata": {},
     "output_type": "execute_result"
    }
   ],
   "source": [
    "tg.onoff_scan_list([6,7],ifnum=1)"
   ]
  },
  {
   "cell_type": "code",
   "execution_count": null,
   "id": "39206bf5-495d-4ecd-b514-28fdd874ef16",
   "metadata": {},
   "outputs": [],
   "source": []
  }
 ],
 "metadata": {
  "kernelspec": {
   "display_name": "Python 3 (ipykernel)",
   "language": "python",
   "name": "python3"
  },
  "language_info": {
   "codemirror_mode": {
    "name": "ipython",
    "version": 3
   },
   "file_extension": ".py",
   "mimetype": "text/x-python",
   "name": "python",
   "nbconvert_exporter": "python",
   "pygments_lexer": "ipython3",
   "version": "3.11.6"
  }
 },
 "nbformat": 4,
 "nbformat_minor": 5
}
