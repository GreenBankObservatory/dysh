{
 "cells": [
  {
   "cell_type": "code",
   "execution_count": 3,
   "id": "33dc10af-604c-4f14-9711-df5ad136f764",
   "metadata": {},
   "outputs": [],
   "source": [
    "from dysh.spectra.spectrum import Spectrum\n",
    "import numpy as np\n",
    "from scipy.stats import norm\n",
    "import astropy.units as u\n",
    "import matplotlib.pyplot as plt\n",
    "from dysh.fits.sdfitsload import SDFITSLoad\n",
    "from dysh.fits.gbtfitsload import GBTFITSLoad\n",
    "from copy import deepcopy\n",
    "from astropy.modeling.fitting import LevMarLSQFitter,LinearLSQFitter\n",
    "from specutils import Spectrum1D, SpectrumList,SpectralRegion\n",
    "from astropy.nddata import StdDevUncertainty\n",
    "from specutils.fitting import fit_continuum\n",
    "import matplotlib.pyplot as plt\n",
    "from dysh.spectra import tsys_weight,average,sq_weighted_avg\n",
    "from dysh.plot.specplot import SpectrumPlot\n",
    "from astropy.io import fits\n",
    "from astropy.table import Table\n",
    "import pandas as pd\n",
    "pd.set_option('display.max_rows', 100)\n",
    "from astropy.utils.data import get_pkg_data_filename\n",
    "#%matplotlib notebook\n",
    "from numpy.lib.recfunctions import drop_fields\n",
    "from dysh.util import uniq"
   ]
  },
  {
   "cell_type": "markdown",
   "id": "3555b4b0-097b-4ab6-81d3-6315a6cbaa27",
   "metadata": {},
   "source": [
    "-------------"
   ]
  },
  {
   "cell_type": "code",
   "execution_count": 4,
   "id": "5da7a9fc-0266-400d-b732-d6adf2f0bfee",
   "metadata": {},
   "outputs": [],
   "source": [
    "datadir = '/data/gbt'\n",
    "f = datadir + '/examples/misc/ngc5291.fits'\n",
    "f = datadir + '/examples/onoff-L/data/TGBT21A_501_11.raw.vegas.fits'\n",
    "#f = datadir + '/examples/nod-KFPA/data/TGBT22A_503_02.raw.vegas/TGBT22A_503_02.raw.vegas.A.fits'\n",
    "#f = datadir + '/examples/mixed-fs-ps/data/AGBT16B_225_05/AGBT16B_225_05.raw.vegas/AGBT16B_225_05.raw.vegas.A.fits'\n",
    "#f = datadir + '/examples/mixed-config/data/TGBT17A_506_11.raw.vegas/TGBT17A_506_11.raw.vegas.A.fits'\n"
   ]
  },
  {
   "cell_type": "code",
   "execution_count": null,
   "id": "a8f6d609-71b5-4db5-a4c9-d0a05e9956a9",
   "metadata": {},
   "outputs": [],
   "source": [
    "sdfits = SDFITSLoad(f,index=False)"
   ]
  },
  {
   "cell_type": "code",
   "execution_count": null,
   "id": "af0298b8-b0e7-4494-aa1e-14791ae2a468",
   "metadata": {},
   "outputs": [],
   "source": [
    "sdfits.info()"
   ]
  },
  {
   "cell_type": "code",
   "execution_count": null,
   "id": "4a7e3d44-6547-461d-bd5c-61c3f2a9f189",
   "metadata": {},
   "outputs": [],
   "source": [
    "sdfits.create_index()"
   ]
  },
  {
   "cell_type": "code",
   "execution_count": null,
   "id": "9d7a9a07-88f1-4403-88cb-9b4a7eb807ae",
   "metadata": {},
   "outputs": [],
   "source": [
    "sdfits.rawspectra(0).shape"
   ]
  },
  {
   "cell_type": "code",
   "execution_count": null,
   "id": "9cf56bc7-c898-4a49-b8fc-33e5cc7e4f02",
   "metadata": {},
   "outputs": [],
   "source": [
    "sdfits._find_bintable_and_row(20)"
   ]
  },
  {
   "cell_type": "code",
   "execution_count": null,
   "id": "cf43ce5c-1ffc-445d-b41c-2ef61b1f267b",
   "metadata": {},
   "outputs": [],
   "source": [
    "sdfits._index[\"TCAL\"]"
   ]
  },
  {
   "cell_type": "markdown",
   "id": "d478a858-dec8-448c-a64a-e8f55108fe5f",
   "metadata": {},
   "source": [
    "# 1. GBTFITSLoad and position-switch calibration testing\n",
    "change to use your specific `datadir`"
   ]
  },
  {
   "cell_type": "code",
   "execution_count": 5,
   "id": "4b0df155-ab44-48a7-8655-2532e051d901",
   "metadata": {},
   "outputs": [
    {
     "name": "stdout",
     "output_type": "stream",
     "text": [
      "Filename: /data/gbt/examples/nod-KFPA/data/TGBT22A_503_02.raw.vegas/TGBT22A_503_02.raw.vegas.A.fits\n",
      "No.    Name      Ver    Type      Cards   Dimensions   Format\n",
      "  0  PRIMARY       1 PrimaryHDU      12   ()      \n",
      "  1  SINGLE DISH    1 BinTableHDU    245   18864R x 74C   ['32A', '1D', '22A', '1D', '1D', '1D', '32768E', '16A', '6A', '8A', '1D', '1D', '1D', '4A', '1D', '4A', '1D', '1I', '32A', '32A', '1J', '32A', '16A', '1E', '8A', '1D', '1D', '1D', '1D', '1D', '1D', '1D', '1D', '1D', '1D', '1D', '1D', '8A', '1D', '1D', '12A', '1I', '1I', '1D', '1D', '1I', '1A', '1I', '1I', '16A', '16A', '1J', '1J', '22A', '1D', '1D', '1I', '1A', '1D', '1E', '1D', '1D', '1D', '1D', '1D', '1A', '1A', '8A', '1E', '1E', '16A', '1I', '1I', '1I']   \n"
     ]
    }
   ],
   "source": [
    "f = datadir + '/examples/nod-KFPA/data/TGBT22A_503_02.raw.vegas/TGBT22A_503_02.raw.vegas.A.fits'\n",
    "p = GBTFITSLoad(f)\n",
    "p.info()"
   ]
  },
  {
   "cell_type": "code",
   "execution_count": 7,
   "id": "7681b70d-c9c1-4076-bfdf-bd8814cee02d",
   "metadata": {},
   "outputs": [
    {
     "data": {
      "text/latex": [
       "$(882598.25, -4924862.7, 3943712.7) \\; \\mathrm{m}$"
      ],
      "text/plain": [
       "<EarthLocation (882598.25131862, -4924862.65979072, 3943712.65334219) m>"
      ]
     },
     "execution_count": 7,
     "metadata": {},
     "output_type": "execute_result"
    }
   ],
   "source": [
    "p.GBT"
   ]
  },
  {
   "cell_type": "code",
   "execution_count": 11,
   "id": "8645bfaf-1749-400a-8ab5-ccd1f31d0da9",
   "metadata": {},
   "outputs": [
    {
     "data": {
      "text/plain": [
       "0       -40000.0\n",
       "1       -40000.0\n",
       "2       -40000.0\n",
       "3       -40000.0\n",
       "4       -40000.0\n",
       "          ...   \n",
       "18859   -48600.0\n",
       "18860   -48600.0\n",
       "18861   -48600.0\n",
       "18862   -48600.0\n",
       "18863   -48600.0\n",
       "Name: VELOCITY, Length: 18864, dtype: float64"
      ]
     },
     "execution_count": 11,
     "metadata": {},
     "output_type": "execute_result"
    }
   ],
   "source": [
    "p._index['VELOCITY']"
   ]
  },
  {
   "cell_type": "code",
   "execution_count": null,
   "id": "37ea3427-fb57-4e98-bedf-5367a7b08f26",
   "metadata": {},
   "outputs": [],
   "source": [
    "p.summary(verbose=True)"
   ]
  },
  {
   "cell_type": "markdown",
   "id": "4d14c7f0-53a9-4b33-9d9b-2812a5024d97",
   "metadata": {},
   "source": [
    "# TPSCAN"
   ]
  },
  {
   "cell_type": "code",
   "execution_count": null,
   "id": "8a7aecba-0778-4849-ae82-15f239b1afd5",
   "metadata": {},
   "outputs": [],
   "source": [
    "tps = p.gettp(scan=60,ifnum=0,plnum=0,fdnum=1,calibrate=True,debug=True)"
   ]
  },
  {
   "cell_type": "code",
   "execution_count": null,
   "id": "ebd87153-398f-4c45-931d-9cb803cc7e32",
   "metadata": {},
   "outputs": [],
   "source": [
    "tps[0].total_power(0).plot()"
   ]
  },
  {
   "cell_type": "markdown",
   "id": "24174fdd-943f-4b1b-8f2f-3a26363c55d3",
   "metadata": {},
   "source": [
    "# PSSCAN \n"
   ]
  },
  {
   "cell_type": "code",
   "execution_count": null,
   "id": "aed793fe-465b-4a86-95fd-a33891645f3e",
   "metadata": {},
   "outputs": [],
   "source": [
    "f = datadir + '/examples/onoff-L/data/TGBT21A_501_11.raw.vegas.fits'\n",
    "p = GBTFITSLoad(f)\n",
    "psscan = p.getps(scan=152,ifnum=0, plnum=0,calibrate=True)"
   ]
  },
  {
   "cell_type": "code",
   "execution_count": null,
   "id": "d79960d6-6a6d-4069-b638-b60794e6eacd",
   "metadata": {},
   "outputs": [],
   "source": [
    "psscan.calibrate()"
   ]
  },
  {
   "cell_type": "code",
   "execution_count": null,
   "id": "53b33dd2-6b16-44c2-a1be-049ed21444f2",
   "metadata": {},
   "outputs": [],
   "source": [
    "psscan[0].timeaverage().plot()"
   ]
  },
  {
   "cell_type": "markdown",
   "id": "badb0ee4-65e7-4d36-9721-19c4379a0296",
   "metadata": {},
   "source": [
    "# get pytest to work"
   ]
  },
  {
   "cell_type": "markdown",
   "id": "8d07c10c-b343-41e2-8186-ca6bf98a63f6",
   "metadata": {},
   "source": [
    "### TPSCAN TEST"
   ]
  },
  {
   "cell_type": "code",
   "execution_count": null,
   "id": "0f681bdb-af02-4e8f-9b77-596edece785b",
   "metadata": {},
   "outputs": [],
   "source": [
    "\n",
    "import pytest\n",
    "from astropy.io import fits\n",
    "from astropy.utils.data import get_pkg_data_filename, get_pkg_data_filenames\n",
    "testdatadir = '/home/mpound/src/dysh/src/dysh/fits/tests/data/'\n",
    "\n",
    "gbtidl_file = testdatadir +'TGBT21A_501_11_gettp_scan_152_intnum_0_ifnum_0_plnum_0_cal_state_1.fits'\n",
    "hdu = fits.open(gbtidl_file)\n",
    "gbtidl_gettp = hdu[1].data[\"DATA\"][0]\n",
    "\n",
    "sdf_file =testdatadir+'TGBT21A_501_11.raw.vegas.fits'\n",
    "sdf = GBTFITSLoad(sdf_file,index=True)\n",
    "tps_on = sdf.gettp(152, sig=True, cal=True, calibrate=False)"
   ]
  },
  {
   "cell_type": "code",
   "execution_count": null,
   "id": "f0b8fbe7-a57f-42fb-8e8c-3bbd2fc04435",
   "metadata": {},
   "outputs": [],
   "source": [
    "diff = tps_on[0].total_power(0).flux.value - gbtidl_gettp\n",
    "assert(np.nanmean(diff) == 0)"
   ]
  },
  {
   "cell_type": "markdown",
   "id": "a89a75c5-f1c7-4cf3-94c5-198f3c632b2a",
   "metadata": {},
   "source": [
    "### PSSCAN TEST"
   ]
  },
  {
   "cell_type": "code",
   "execution_count": null,
   "id": "d60c2563-ee3d-4a4e-8e41-0d92d479c7fa",
   "metadata": {},
   "outputs": [],
   "source": [
    "sdf_file = testdatadir+ 'TGBT21A_501_11_ifnum_0_int_0-2.fits'\n",
    "gbtidl_file = testdatadir + \"TGBT21A_501_11_ifnum_0_int_0-2_getps_152_plnum_0.fits\"\n",
    "# Generate the dysh result.\n",
    "sdf = GBTFITSLoad(sdf_file)\n",
    "psscan = sdf.getps(152, plnum=0)\n",
    "psscan.calibrate()\n",
    "psscan_tavg = psscan.timeaverage(weights=\"tsys\")\n",
    "assert(len(psscan_tavg) == 1 )\n",
    "\n",
    "# Load the GBTIDL result.\n",
    "hdu = fits.open(gbtidl_file)\n",
    "psscan_gbtidl = hdu[1].data[\"DATA\"][0]\n",
    "\n",
    "# Compare.\n",
    "\n",
    "diff = psscan_tavg[0].flux.value - psscan_gbtidl\n",
    "assert np.nanmedian(diff) == 0.0\n"
   ]
  },
  {
   "cell_type": "code",
   "execution_count": null,
   "id": "29e3571b-3d46-46f4-87ce-3bee58638904",
   "metadata": {},
   "outputs": [],
   "source": [
    "psscan[0].calibrated(0)"
   ]
  },
  {
   "cell_type": "code",
   "execution_count": null,
   "id": "ac87d4e7-5bef-43e4-87e7-5386fc361583",
   "metadata": {},
   "outputs": [],
   "source": [
    "def test_compare_with_GBTIDL_tsys_weights():\n",
    "    testdatadir = '/home/mpound/src/dysh/src/dysh/spectra/tests/data/'\n",
    "    sdf_file = testdatadir+\"TGBT21A_501_11_scan_152_ifnum_0_plnum_0.fits\"\n",
    "    gbtidl_file = testdatadir+\"TGBT21A_501_11_gettp_scan_152_ifnum_0_plnum_0_keepints.fits\"\n",
    "\n",
    "    # Generate the dysh result.\n",
    "    sdf = GBTFITSLoad(sdf_file)\n",
    "    # tp is a ScanList\n",
    "    tp = sdf.gettp(152)\n",
    "    assert len(tp) == 1\n",
    "    # tpavg is a list\n",
    "    tpavg = tp.timeaverage()\n",
    "    assert len(tpavg) == 1\n",
    "\n",
    "    # Check that we know how to add.\n",
    "    assert tpavg[0].meta[\"EXPOSURE\"] == tp[0].exposure.sum()\n",
    "\n",
    "    # Load GBTIDL result.\n",
    "    hdu = fits.open(gbtidl_file)\n",
    "    table = hdu[1].data\n",
    "    data = table[\"DATA\"]\n",
    "    # Check exposure times.\n",
    "    assert np.sum(table[\"EXPOSURE\"][:-1] - tp[0].exposure) == 0.0\n",
    "    assert tpavg[0].meta[\"EXPOSURE\"] == table[\"EXPOSURE\"][-1]\n",
    "    # System temperature.\n",
    "    # For some reason, the last integration comes out with a\n",
    "    # difference in TSYS ~4e-10 rather than ~1e-14. Check why.\n",
    "    assert np.all(abs(table[\"TSYS\"][:-1] - tp[0].tsys) < 1e-9)\n",
    "    print(tp[0]._tsys)\n",
    "    diff = tpavg[0].meta[\"TSYS\"] - table[\"TSYS\"][-1]\n",
    "    print(f'{tpavg[0].meta[\"TSYS\"]}. {table[\"TSYS\"][-1]}, DIFF = {diff:e}')\n",
    "    assert abs(tpavg[0].meta[\"TSYS\"] - table[\"TSYS\"][-1]) < 1e-10\n",
    "\n",
    "    # Data, which uses float -- 32 bits.\n",
    "    assert np.sum(tp[0]._data - data[:-1]) == 0.0\n",
    "    assert np.nanmean((tpavg[0].flux.value - data[-1]) / data[-1].mean()) < 2**32\n"
   ]
  },
  {
   "cell_type": "code",
   "execution_count": null,
   "id": "b811a873-8383-4c14-9884-365604fe2bfd",
   "metadata": {},
   "outputs": [],
   "source": [
    "test_compare_with_GBTIDL_tsys_weights()"
   ]
  },
  {
   "cell_type": "code",
   "execution_count": null,
   "id": "2efca138-e247-4039-83cf-bc5ad66ba5ed",
   "metadata": {},
   "outputs": [],
   "source": [
    "f = datadir + '/examples/nod-KFPA/data/TGBT22A_503_02.raw.vegas/'\n",
    "p = GBTFITSLoad(f)\n",
    "p.info()"
   ]
  },
  {
   "cell_type": "code",
   "execution_count": null,
   "id": "64c37e83-8877-4dcf-828c-27ae6f345277",
   "metadata": {},
   "outputs": [],
   "source": [
    "p._sdf[1].index()"
   ]
  },
  {
   "cell_type": "code",
   "execution_count": null,
   "id": "e756d535-2745-4b40-b73e-892e1e77b7ed",
   "metadata": {},
   "outputs": [],
   "source": [
    "p.summary()"
   ]
  },
  {
   "cell_type": "code",
   "execution_count": null,
   "id": "a554b60d-5413-437e-9924-46ac451233ed",
   "metadata": {},
   "outputs": [],
   "source": [
    "p._index"
   ]
  },
  {
   "cell_type": "code",
   "execution_count": null,
   "id": "afde3d85-4335-40a6-b52a-8869bcd6c4eb",
   "metadata": {},
   "outputs": [],
   "source": [
    "scanblock = p.getps(scans=60)"
   ]
  },
  {
   "cell_type": "markdown",
   "id": "ffb7a280-7756-45be-8d81-9b79e1b98419",
   "metadata": {},
   "source": [
    "-----------------------------\n",
    "# Get total power scan integrations and plot the time average "
   ]
  },
  {
   "cell_type": "code",
   "execution_count": null,
   "id": "2ce26878-1761-4269-a888-cacca5b16b51",
   "metadata": {},
   "outputs": [],
   "source": [
    "tps = p.gettp(scan=60,sig=None,cal=None,ifnum=None,plnum=1,fdnum=None,debug=\"True\")\n",
    "#ta=tps.timeaverage()\n",
    "#print(len(ta))"
   ]
  },
  {
   "cell_type": "code",
   "execution_count": null,
   "id": "6631ef2d-a718-46e4-8fba-932359460576",
   "metadata": {},
   "outputs": [],
   "source": [
    "s = tps[2]\n",
    "df = s._sdfits._index.iloc[s._scanrows]\n",
    "ifs=uniq(df[\"IFNUM\"])"
   ]
  },
  {
   "cell_type": "code",
   "execution_count": null,
   "id": "2ccc2bae-2bed-404e-bb60-5a815dfff3f3",
   "metadata": {},
   "outputs": [],
   "source": [
    "df[df[\"IFNUM\"].isin([ifs[0]])]"
   ]
  },
  {
   "cell_type": "code",
   "execution_count": null,
   "id": "c18b7426-b37a-4b34-9387-7d9e0e1d6c98",
   "metadata": {},
   "outputs": [],
   "source": [
    "sr = tps[2]._scanrows\n",
    "tps[2]._sdfits._find_bintable_and_row(sr)[0]"
   ]
  },
  {
   "cell_type": "code",
   "execution_count": null,
   "id": "7b5e38d1-2d5e-4888-bba8-3cedd2c8c7b6",
   "metadata": {},
   "outputs": [],
   "source": [
    "p.files()"
   ]
  },
  {
   "cell_type": "code",
   "execution_count": null,
   "id": "0444fd8c-4fbb-4745-9434-f5205867e719",
   "metadata": {},
   "outputs": [],
   "source": [
    "sdf = GBTFITSLoad('/data/gbt/examples/nod-KFPA/data/TGBT22A_503_02.raw.vegas/TGBT22A_503_02.raw.vegas.D.fits')\n",
    "sdf.summary()"
   ]
  },
  {
   "cell_type": "code",
   "execution_count": null,
   "id": "dacc598d-d87f-4f37-b5ff-2ee16a41193f",
   "metadata": {},
   "outputs": [],
   "source": [
    "datadir = '/data/gbt'\n",
    "f = datadir + '/examples/misc/ngc5291.fits'\n",
    "f = datadir + '/examples/onoff-L/data/TGBT21A_501_11.raw.vegas.fits'\n",
    "sdf = GBTFITSLoad(f)"
   ]
  },
  {
   "cell_type": "code",
   "execution_count": null,
   "id": "4e61e85a-433f-4581-9447-e4f072829216",
   "metadata": {},
   "outputs": [],
   "source": [
    "sdf.summary(verbose=True)"
   ]
  },
  {
   "cell_type": "code",
   "execution_count": null,
   "id": "be772d97-8130-4abc-a050-4e94278d7677",
   "metadata": {},
   "outputs": [],
   "source": [
    "tps = sdf.gettp(scan=152,sig=None,cal=None,ifnum=0,plnum=0,fdnum=0,debug=\"True\")\n",
    "s = tps[0]\n",
    "df = sdf._index.iloc[s._scanrows]\n",
    "#print(s._scanrows)\n",
    "uniq(df[\"IFNUM\"])\n",
    "#s._scanrows\n",
    "#sdf._index[\"SCAN\"]"
   ]
  },
  {
   "cell_type": "code",
   "execution_count": null,
   "id": "b2f4a250-ec5f-4a30-a348-d966bb486405",
   "metadata": {},
   "outputs": [],
   "source": [
    "tps = p.gettp(scan=60,sig=None,cal=None,ifnum=0,plnum=1,debug=\"True\")\n",
    "tps2 = p.gettp(scan=60,sig=True,cal=False,ifnum=0,plnum=1,debug=\"True\")\n",
    "s=tps.timeaverage()[0]\n",
    "s.plot()\n",
    "so = tps2.timeaverage()[0]\n",
    "so.plot()\n",
    "print(\"TSYS(cal=T)=\",s.meta['TSYS'])\n",
    "print(\"TSYS(cal=F)=\",so.meta['TSYS'])\n",
    "s2 = (s+so)*0.5\n",
    "s2.plot()\n",
    "#(s-so).plot()\n",
    "tpsc = p.gettp(scan=60,sig=True,cal=True,ifnum=0,plnum=1,calibrate=True)\n",
    "s4=tpsc.timeaverage()\n",
    "s4.plot()\n",
    "s4.data-s.data\n",
    "print(so.meta[\"TSYS\"])"
   ]
  },
  {
   "cell_type": "code",
   "execution_count": null,
   "id": "a855df40-9337-4c1e-a4e6-78d8a19f8ed2",
   "metadata": {},
   "outputs": [],
   "source": [
    "tps.timeaverage(weights=None).plot()"
   ]
  },
  {
   "cell_type": "code",
   "execution_count": null,
   "id": "5523649d-44bb-4124-9180-f1a2fe6b1174",
   "metadata": {},
   "outputs": [],
   "source": [
    "s=tps.timeaverage(weights=None)\n",
    "s.plot()\n",
    "s._plotter.figure.savefig(\"/home/mpound/src/dysh/docs/static/tp_153_eqweight.png\")"
   ]
  },
  {
   "cell_type": "code",
   "execution_count": null,
   "id": "709c5610-05d8-411e-9288-cc89e989df5f",
   "metadata": {},
   "outputs": [],
   "source": [
    "\n",
    "print('%s' % (np.array2string(tps.tsys,precision=2)))\n"
   ]
  },
  {
   "cell_type": "code",
   "execution_count": null,
   "id": "e5634611-f666-4855-803d-ff6da336c962",
   "metadata": {},
   "outputs": [],
   "source": [
    "freq,counts=np.loadtxt(\"../testdata/tp152_if0_pl1_fd0.txt\",skiprows=3,unpack=True)\n",
    "freq=freq*1E9\n",
    "#fig,ax=plt.subplots()\n",
    "#ax.plot(freq,counts)\n",
    "ss = s/2.0\n",
    "s4.plot()\n",
    "print(len(counts),len(freq))\n",
    "freq+=np.mean(s.spectral_axis.value-freq)\n",
    "s4._plotter.axis.plot(freq,counts,color='r')\n",
    "freq[0]-freq[1]"
   ]
  },
  {
   "cell_type": "markdown",
   "id": "a73fc399-c419-46ee-8281-3b4e2d1d8c1d",
   "metadata": {},
   "source": [
    "## get another TP scan with different IF and Polarization and plot the 13th integration"
   ]
  },
  {
   "cell_type": "code",
   "execution_count": null,
   "id": "5dba32d8-8dea-4e8b-902e-92533ec7df24",
   "metadata": {},
   "outputs": [],
   "source": [
    "tps = p.gettp(scan=153,ifnum=1,plnum=1)\n",
    "tps.total_power(12).plot()"
   ]
  },
  {
   "cell_type": "code",
   "execution_count": null,
   "id": "76266cda-19e4-4ae1-935a-99f20c7a90b3",
   "metadata": {},
   "outputs": [],
   "source": [
    "tps.timeaverage().plot()"
   ]
  },
  {
   "cell_type": "markdown",
   "id": "af69d02a-187c-416d-adc2-ce1eae9feaa6",
   "metadata": {},
   "source": [
    "## Try writing scans or records to FITS files and reading them back in\n"
   ]
  },
  {
   "cell_type": "code",
   "execution_count": null,
   "id": "91a81062-6c6d-4b0d-9676-0b0ffbe994be",
   "metadata": {},
   "outputs": [],
   "source": [
    "scanlist = [152]"
   ]
  },
  {
   "cell_type": "code",
   "execution_count": null,
   "id": "862cf89f-42b0-491a-908e-bb85e2cfa2da",
   "metadata": {},
   "outputs": [],
   "source": [
    "p.write_scans(\"/tmp/scans.fits\",overwrite=True,checksum=True,output_verify='fix',scans=scanlist)"
   ]
  },
  {
   "cell_type": "code",
   "execution_count": null,
   "id": "59d10bdf-5c20-4d4e-abf9-97df4b5d3541",
   "metadata": {},
   "outputs": [],
   "source": [
    "x1 = fits.open(\"/tmp/scans.fits\")\n",
    "x1.info()"
   ]
  },
  {
   "cell_type": "code",
   "execution_count": null,
   "id": "8ebae3d0-6ccc-46f7-93f5-13c11ed3b605",
   "metadata": {},
   "outputs": [],
   "source": [
    "x1[1].header"
   ]
  },
  {
   "cell_type": "code",
   "execution_count": null,
   "id": "a20f0815-f5f3-4d38-ba4d-6a288f4a0cff",
   "metadata": {},
   "outputs": [],
   "source": [
    "x1 = GBTFITSLoad(\"/tmp/scans.fits\")\n",
    "#x1._ptable[0]\n",
    "x1._hdu.info()"
   ]
  },
  {
   "cell_type": "code",
   "execution_count": null,
   "id": "0bfc7447-c8e3-4694-a2bf-41616fc83c68",
   "metadata": {},
   "outputs": [],
   "source": [
    "x1._hdu[1].header"
   ]
  },
  {
   "cell_type": "code",
   "execution_count": null,
   "id": "3d949978-290f-4f95-8fd6-ff5ad6c45f31",
   "metadata": {},
   "outputs": [],
   "source": [
    "spec4 = p.getspec(4)\n",
    "sp = SpectrumPlot(spec4)\n",
    "sp.plot()"
   ]
  },
  {
   "cell_type": "markdown",
   "id": "f90741e3-6146-4df4-89d5-8b6be6f00e22",
   "metadata": {},
   "source": [
    "## Get a position switch scan and calibrate it.\n",
    "The default ifnum=0, plnum=0"
   ]
  },
  {
   "cell_type": "code",
   "execution_count": null,
   "id": "610d6c4d-54fc-4f56-beb5-10eb3d848781",
   "metadata": {},
   "outputs": [],
   "source": [
    "# eventually this will have calibrate=True as the default, so you don't need to call calibrate().\n",
    "psscan = p.getps(152)"
   ]
  },
  {
   "cell_type": "code",
   "execution_count": null,
   "id": "de023f21-2f5c-4466-b55a-f3c5ff351e61",
   "metadata": {},
   "outputs": [],
   "source": [
    "psscan.calibrate()"
   ]
  },
  {
   "cell_type": "code",
   "execution_count": null,
   "id": "54ecbe9e-2992-47a6-aa0e-06f7c66211a8",
   "metadata": {},
   "outputs": [],
   "source": [
    "xx=psscan.timeaverage()\n",
    "type(psscan._calibrated)"
   ]
  },
  {
   "cell_type": "markdown",
   "id": "6e3b0bc9-9d5c-4bb6-9075-26b9086cf7f9",
   "metadata": {},
   "source": [
    "### the raw calibrated numpy array"
   ]
  },
  {
   "cell_type": "code",
   "execution_count": null,
   "id": "35764215-5cf3-4b61-9955-41f324e06f8f",
   "metadata": {},
   "outputs": [],
   "source": [
    "psscan._calibrated"
   ]
  },
  {
   "cell_type": "markdown",
   "id": "209c6253-4ed1-4135-9e87-1ebaec734f21",
   "metadata": {},
   "source": [
    "### A single integration of the calibrated Spectrum"
   ]
  },
  {
   "cell_type": "code",
   "execution_count": null,
   "id": "54b6cea7-d0be-484f-9363-35d90a146226",
   "metadata": {},
   "outputs": [],
   "source": [
    "spec1 = psscan.calibrated(3)\n",
    "sp = SpectrumPlot(spec1)\n",
    "sp.plot(xaxis_unit=\"km/s\")"
   ]
  },
  {
   "cell_type": "markdown",
   "id": "5e37156f-3a6c-4d52-bc65-97dd7901df68",
   "metadata": {},
   "source": [
    "### The average spectrum.  \n",
    "You can plot with equal weights or $T_{sys}$ weighting (the default)\n",
    "Compare this with GBTIDL `getps, 152`"
   ]
  },
  {
   "cell_type": "code",
   "execution_count": null,
   "id": "32d6bb9c-eead-4db0-b7e1-7a6ba171ad94",
   "metadata": {},
   "outputs": [],
   "source": [
    "t=psscan.timeaverage(weights=None)\n",
    "t.plot()\n",
    "print(f\"T_sys = {np.mean(psscan.tsys)}\")"
   ]
  },
  {
   "cell_type": "code",
   "execution_count": null,
   "id": "3a01abdb-78ab-4e6d-bb56-d5ab0415c2e4",
   "metadata": {},
   "outputs": [],
   "source": [
    "t=psscan.timeaverage(weights='tsys').plot()"
   ]
  },
  {
   "cell_type": "markdown",
   "id": "5882f438-270b-4d33-83f5-60147f8d662f",
   "metadata": {},
   "source": [
    "### Try a different polarization and IF and use the OFF scan number\n",
    "GBTIDL `getps, 153, ifnum=1, plnum=1`"
   ]
  },
  {
   "cell_type": "code",
   "execution_count": null,
   "id": "4e81e83c-ad8d-4a3d-a49e-782da34768f1",
   "metadata": {},
   "outputs": [],
   "source": [
    "psscan = p.getps(152,plnum=1,ifnum=1)\n",
    "psscan.calibrate()"
   ]
  },
  {
   "cell_type": "code",
   "execution_count": null,
   "id": "930f1d34-f799-4452-9b18-06be3d9df9a8",
   "metadata": {},
   "outputs": [],
   "source": [
    "psscan.timeaverage().plot()\n",
    "print(f\"T_sys = {np.mean(psscan.tsys)}\")"
   ]
  },
  {
   "cell_type": "markdown",
   "id": "766d2e53-ed56-4d91-adc2-e9fea759519d",
   "metadata": {},
   "source": [
    "### mixed FS and PS\n"
   ]
  },
  {
   "cell_type": "code",
   "execution_count": null,
   "id": "a457e2d6-c150-4789-a90a-5f7bb16032e9",
   "metadata": {},
   "outputs": [],
   "source": [
    "if False:\n",
    "    datadir = '/data/gbt'\n",
    "    f = datadir + '/examples/mixed-fs-ps/data/AGBT16B_225_05/AGBT16B_225_05.raw.vegas/AGBT16B_225_05.raw.vegas.A.fits'\n",
    "    p = GBTFITSLoad(f)\n",
    "    p.info()\n",
    "    p.summary()"
   ]
  },
  {
   "cell_type": "markdown",
   "id": "45a07714-7c30-497b-9a18-a5bec99d308d",
   "metadata": {},
   "source": [
    "--------------------------------"
   ]
  },
  {
   "cell_type": "markdown",
   "id": "4a82fa07-caed-43e3-81d4-1028e333ac4d",
   "metadata": {},
   "source": [
    "# SubbeamNOD KPFA Data "
   ]
  },
  {
   "cell_type": "code",
   "execution_count": null,
   "id": "8b47fcfb-a9f5-4dc9-9794-bf4612377e71",
   "metadata": {},
   "outputs": [],
   "source": [
    "datadir = \"/data/gbt/\"\n",
    "f = datadir + 'examples/subbeamnod-Ka/data/TRCO_230413_Ka.raw.vegas/TRCO_230413_Ka.raw.vegas.A.fits'\n",
    "pnod = GBTFITSLoad(f)\n",
    "pnod.info()"
   ]
  },
  {
   "cell_type": "code",
   "execution_count": null,
   "id": "47b74270-f9f6-4a1c-b261-6268770a8892",
   "metadata": {},
   "outputs": [],
   "source": [
    "pnod.summary()"
   ]
  },
  {
   "cell_type": "code",
   "execution_count": null,
   "id": "4afef240-8423-4570-9248-133d4b11fc09",
   "metadata": {},
   "outputs": [],
   "source": [
    "df=pnod._ptable[0][pnod._ptable[0][\"SCAN\"].isin([32])]\n",
    "len(set(df['DATE-OBS']))"
   ]
  },
  {
   "cell_type": "code",
   "execution_count": null,
   "id": "c42b9ae6-7c0c-43de-b92b-b27e20946cf2",
   "metadata": {},
   "outputs": [],
   "source": [
    "vegas=np.array([0,32,64,96,128,160,192,224,256,288,320,352,384,416,448,480,544,576,608,640,672,\n",
    "                704,736,768,800,832,864,896,928,960,992|0,32,64,96,128,160,192,224,256,288,320,\n",
    "                352,384,416,448,480,544,576,608,640,672,704,736,768,800,832,864,896,928,960,992])"
   ]
  },
  {
   "cell_type": "code",
   "execution_count": null,
   "id": "6f37a42c-296d-46b2-bb92-58f53994ce40",
   "metadata": {},
   "outputs": [],
   "source": [
    "tsysidl=np.array([84.9435,82.1865,88.1306,79.4702,83.3359,82.1568,\n",
    "84.8032,87.5031,82.3827,86.6867,81.2290,83.3456,\n",
    "154.525,76.3337,121.232,107.034,122.812,122.386,\n",
    "109.684,126.385,106.435,116.182,120.199,117.069,\n",
    "55.5695,70.8444,84.2473,84.2600,84.1720,85.6708,\n",
    "83.8575,84.9475,85.0601,83.6906,82.5538,82.3467,\n",
    "111.679,114.020,115.357,118.397,105.984,115.007,\n",
    "113.603,113.097,116.426,115.867,114.906,118.247,\n",
    "65.3346,72.2251,84.1646,83.3890,84.2675,83.7073,\n",
    "83.2034,84.5122,84.7987,81.9806,83.8689,82.9380,\n",
    "103.363,111.527,113.147,101.503,108.444,116.663,\n",
    "111.407,113.278,115.310,115.436,114.451,117.825,\n",
    "73.3529,71.0150,83.4908,84.2935,82.8866,83.5213,\n",
    "85.0363,82.4940,82.6460,83.3778,82.8975,82.3562,\n",
    "90.8207,139.061,101.555,105.921,110.831,112.511,\n",
    "111.064,117.958,116.047,114.238,121.151,113.204,\n",
    "74.1397,72.0670,84.6076,84.3983,83.6667,84.0574,\n",
    "82.1753,81.9777,82.7533,83.2628,83.1251,84.4301,\n",
    "72.5894,138.020,105.265,103.819,112.595,115.162,\n",
    "116.772,115.474,114.101,114.157,115.170,112.846,\n",
    "])\n",
    "#len(tsysidl)     120                                                                                                             \n",
    "      "
   ]
  },
  {
   "cell_type": "code",
   "execution_count": null,
   "id": "4de9915e-b723-429e-b5cc-d7118cfb147e",
   "metadata": {},
   "outputs": [],
   "source": [
    "subrefdata=[0,0]\n",
    "subreffreq=[0,0]"
   ]
  },
  {
   "cell_type": "code",
   "execution_count": null,
   "id": "c8b04abf-9502-4588-a585-9db73934b47d",
   "metadata": {},
   "outputs": [],
   "source": [
    "f,d = np.loadtxt(\"/home/mpound/subref-1.ascii\",skiprows=3,unpack=True)\n",
    "subreffreq[0] =f\n",
    "subrefdata[0] =d"
   ]
  },
  {
   "cell_type": "code",
   "execution_count": null,
   "id": "be329800-331b-4566-9134-cf0018693e2f",
   "metadata": {},
   "outputs": [],
   "source": [
    "f,d = np.loadtxt(\"/home/mpound/subref+1.ascii\",skiprows=3,unpack=True)\n",
    "subreffreq[1] =f\n",
    "subrefdata[1] =d"
   ]
  },
  {
   "cell_type": "code",
   "execution_count": null,
   "id": "c9558763-ca67-464d-8141-8b7210f7977f",
   "metadata": {},
   "outputs": [],
   "source": [
    "snodka_43 = np.loadtxt(\"/home/mpound/snod43_if0_fd1_pl0.ascii\",skiprows=3,unpack=True)"
   ]
  },
  {
   "cell_type": "code",
   "execution_count": null,
   "id": "e3e6c527-77da-4e0a-b46e-72c0412474d3",
   "metadata": {},
   "outputs": [],
   "source": [
    "92*6198*(subrefdata[1]-subrefdata[0])/subrefdata[0]"
   ]
  },
  {
   "cell_type": "code",
   "execution_count": null,
   "id": "35dcb9d6-6df4-4ee0-bb52-d7ff7786c764",
   "metadata": {},
   "outputs": [],
   "source": [
    "ifnum=0\n",
    "plnum=0\n",
    "fdnum=1\n",
    "scan=43\n",
    "bintable=0\n",
    "weights='tsys'\n",
    "cal=None"
   ]
  },
  {
   "cell_type": "code",
   "execution_count": null,
   "id": "45d7d1c1-c020-47ee-aab0-336dbc63435f",
   "metadata": {},
   "outputs": [],
   "source": [
    "\n",
    "tp1=pnod.gettp(scan,cal=cal,bintable=bintable,fdnum=fdnum,plnum=plnum,ifnum=ifnum,calibrate=True,subref=-1)\n",
    "np.mean(np.abs(tp1.tsys))\n",
    "#np.mean(tp1.tsys,where=((tp1.tsys>0) and (tp1.tsys<100)))\n",
    "#w=np.where((tp1.tsys>0) &(tp1.tsys<100))[0]\n",
    "#np.mean(tp1.tsys)\n",
    "#np.shape(tp1.data)"
   ]
  },
  {
   "cell_type": "code",
   "execution_count": null,
   "id": "99b54f70-8de3-490e-84bc-468b49ceeef2",
   "metadata": {},
   "outputs": [],
   "source": [
    "tpa=tp1.timeaverage()\n",
    "tpa.plot()\n",
    "tpa.meta['TSYS']"
   ]
  },
  {
   "cell_type": "code",
   "execution_count": null,
   "id": "595c79f1-d22e-4502-9c7d-1473321a7818",
   "metadata": {},
   "outputs": [],
   "source": [
    "subref=-1\n",
    "print(tp1.timeaverage().meta[\"TCAL\"])\n",
    "df=pnod._ptable[0][pnod._ptable[0][\"SCAN\"].isin([43])]\n",
    "len(df)\n",
    "len(df[(df[\"PLNUM\"]==plnum) & (df[\"FDNUM\"] == fdnum) & ( df[\"SUBREF_STATE\"] == subref)])"
   ]
  },
  {
   "cell_type": "code",
   "execution_count": null,
   "id": "b1d417e9-e240-45d2-b59a-6be35669dea5",
   "metadata": {},
   "outputs": [],
   "source": [
    "#scan=43\n",
    "tsys = {43:92.6198,46:91.72}\n",
    "#bintable=0\n",
    "print(weights)\n",
    "tpp = pnod.gettp(scan,sig=None,cal=None,bintable=bintable,fdnum=fdnum,plnum=plnum,ifnum=ifnum)\n",
    "tpon  = pnod.gettp(scan,sig=None,cal=None,bintable=bintable,fdnum=fdnum,plnum=plnum,ifnum=ifnum,subref=-1)\n",
    "tpoff = pnod.gettp(scan,sig=None,cal=None,bintable=bintable,fdnum=fdnum,plnum=plnum,ifnum=ifnum,subref=1)\n",
    "on  =  tpon.timeaverage(weights=weights)\n",
    "off = tpoff.timeaverage(weights=weights)\n",
    "if False:\n",
    "    print(f\"ON TCAL: {on.meta['TCAL']} OFF TCAL: {off.meta['TCAL']}\")\n",
    "    print(f\"ON TSYS: {on.meta['TSYS']} OFF TSYS: {off.meta['TSYS']}\")\n",
    "    print(f\"ON WTTSYS: {on.meta['WTTSYS']} OFF WTTSYS: {off.meta['WTTSYS']}\")\n",
    "    print(f\"ON MEANTSYS: {on.meta['MEANTSYS']} OFF MEANTSYS: {off.meta['MEANTSYS']}\")\n",
    "    print(\"AVEG \",0.5*(on.meta['TSYS']+off.meta['TSYS']))\n",
    "idl=tsys[scan]*(on-off)/off\n",
    "#idl = tpp.timeaverage(weights=weights).meta['TSYS']*(on-off)/off\n",
    "print(tpp.timeaverage(weights=weights).meta['TSYS'])\n",
    "idl.plot()"
   ]
  },
  {
   "cell_type": "code",
   "execution_count": null,
   "id": "8bbb721a-e3d1-4f00-ab0d-e2b69fc199e5",
   "metadata": {},
   "outputs": [],
   "source": [
    "idl.data"
   ]
  },
  {
   "cell_type": "code",
   "execution_count": null,
   "id": "07672b85-d603-4be2-9645-9e3c05549df9",
   "metadata": {},
   "outputs": [],
   "source": [
    "tsys = {43:92.6168,46:91.72}\n",
    "#bintable=0\n",
    "print(weights)\n",
    "tpp = pnod.gettp(scan,sig=None,cal=None,bintable=bintable,fdnum=fdnum,plnum=plnum,ifnum=ifnum)\n",
    "tpon  = pnod.gettp(scan,sig=None,cal=None,bintable=bintable,fdnum=fdnum,plnum=plnum,ifnum=ifnum,subref=-1,calibrate=True)\n",
    "tpoff = pnod.gettp(scan,sig=None,cal=None,bintable=bintable,fdnum=fdnum,plnum=plnum,ifnum=ifnum,subref=1,calibrate=True)\n",
    "#on  =  tpon.total_power(0)\n",
    "#off = tpoff.total_power(0)\n",
    "tpon.calc_tsys()\n",
    "print(tpon._tsys_weight)\n",
    "on = tpon.timeaverage(weights=None)\n",
    "off = tpoff.timeaverage(weights=None)\n",
    "if False:\n",
    "    print(f\"ON TCAL: {on.meta['TCAL']} OFF TCAL: {off.meta['TCAL']}\")\n",
    "    print(f\"ON TSYS: {on.meta['TSYS']} OFF TSYS: {off.meta['TSYS']}\")\n",
    "    print(f\"ON WTTSYS: {on.meta['WTTSYS']} OFF WTTSYS: {off.meta['WTTSYS']}\")\n",
    "    print(f\"ON MEANTSYS: {on.meta['MEANTSYS']} OFF MEANTSYS: {off.meta['MEANTSYS']}\")\n",
    "    print(\"AVEG \",0.5*(on.meta['TSYS']+off.meta['TSYS']))\n",
    "idl=tsys[scan]*(on-off)/off\n",
    "#idl = tpp.timeaverage(weights=weights).meta['TSYS']*(on-off)/off\n",
    "print(tpp.timeaverage(weights=weights).meta['TSYS'])\n",
    "idl.plot()"
   ]
  },
  {
   "cell_type": "code",
   "execution_count": null,
   "id": "3fb5a964-76b2-4261-acbf-a3a70dfe319f",
   "metadata": {},
   "outputs": [],
   "source": [
    "tpoff.timeaverage().meta[\"TSYS\"]"
   ]
  },
  {
   "cell_type": "code",
   "execution_count": null,
   "id": "f515b01e-d806-44bc-82f5-f34f64fe388a",
   "metadata": {},
   "outputs": [],
   "source": [
    "len(tpon._tsys_weight)"
   ]
  },
  {
   "cell_type": "code",
   "execution_count": null,
   "id": "1529f4d2-a975-4534-8ddb-7f182da48644",
   "metadata": {},
   "outputs": [],
   "source": [
    "fn=get_pkg_data_filename(\"../src/dysh/spectra/tests/data/snodka_43_int_1_fdnum_1_ifnum_0.fits\")\n",
    "hdu=fits.open(fn)\n",
    "xx = hdu[1].data[\"DATA\"][0]\n",
    "len(xx)"
   ]
  },
  {
   "cell_type": "code",
   "execution_count": null,
   "id": "adc0881c-a72e-4530-bf8b-611a753e4848",
   "metadata": {},
   "outputs": [],
   "source": [
    "sdf=GBTFITSLoad(fn)\n",
    "sdf.summary()\n",
    "spec1=sdf.getspec(0)\n",
    "spec1.plot()\n",
    "np.mean(spec1.data-idl.data)"
   ]
  },
  {
   "cell_type": "code",
   "execution_count": null,
   "id": "0335a4c4-db14-4bb7-b4fa-953a0927e6fe",
   "metadata": {},
   "outputs": [],
   "source": [
    "fix,ax=plt.subplots()\n",
    "ax.plot(spec1.spectral_axis,spec1.data-idl.data)"
   ]
  },
  {
   "cell_type": "code",
   "execution_count": null,
   "id": "685e8728-3ca5-4e57-8117-07a3d6ffc380",
   "metadata": {},
   "outputs": [],
   "source": [
    "tpon.total_power(0).plot()\n",
    "tpoff.total_power(0).plot()\n",
    "(0.5*(tpon.total_power(0)+tpoff.total_power(0))).plot()"
   ]
  },
  {
   "cell_type": "code",
   "execution_count": null,
   "id": "5a463696-7196-4361-aed6-445e1190a4e1",
   "metadata": {},
   "outputs": [],
   "source": [
    "print(scan,ifnum,plnum,fdnum,weights)\n",
    "os = pnod.gettp(scan=scan,ifnum=ifnum,plnum=plnum,fdnum=fdnum,weights=None,calbrate=True)\n",
    "np.mean(np.abs(os.tsys)),os.tsys,len(os.tsys),len(tsysidl)\n",
    "#os.timeaverage().meta['TSYS']"
   ]
  },
  {
   "cell_type": "code",
   "execution_count": null,
   "id": "f179de1b-10ab-4119-bb34-fa840940ce74",
   "metadata": {},
   "outputs": [],
   "source": [
    "print(scan)\n",
    "se=pnod.subbeamnod(scan=scan,ifnum=ifnum,plnum=plnum,fdnum=fdnum,weights=None)\n",
    "print(se.meta['TSYS'])"
   ]
  },
  {
   "cell_type": "code",
   "execution_count": null,
   "id": "4850655d-2e5b-4214-88e6-99255e34169b",
   "metadata": {},
   "outputs": [],
   "source": []
  },
  {
   "cell_type": "code",
   "execution_count": null,
   "id": "e10dae88-82f8-49d6-ae86-203b91dbeeb6",
   "metadata": {},
   "outputs": [],
   "source": [
    "fn=get_pkg_data_filename(\"../src/dysh/spectra/tests/data/TRCO_230413_Ka_snodka_43_ifnum_0_plnum_0_fdnum_1.fits\")\n",
    "hdu=fits.open(fn)\n",
    "xx = hdu[1].data[\"DATA\"][0]\n",
    "len(xx)\n",
    "np.nanmedian(xx-snodka_43[1])"
   ]
  },
  {
   "cell_type": "code",
   "execution_count": null,
   "id": "042be26e-0c8e-40b9-b570-78a8c0589f82",
   "metadata": {},
   "outputs": [],
   "source": [
    "fn=get_pkg_data_filename(\"../src/dysh/spectra/tests/data/test2.fits\")\n",
    "hdu=fits.open(fn)\n",
    "x = hdu[1].data[\"DATA\"][0]\n",
    "len(x)"
   ]
  },
  {
   "cell_type": "code",
   "execution_count": null,
   "id": "d2849ea4-990c-4609-a138-bfbe0d13110f",
   "metadata": {},
   "outputs": [],
   "source": [
    "gbt=GBTFITSLoad(fn)\n",
    "gbt.summary()\n",
    "tp=gbt.gettp(43)\n",
    "spec=gbt.getspec(0)\n",
    "spec.plot()\n",
    "se._unit = u.ct"
   ]
  },
  {
   "cell_type": "code",
   "execution_count": null,
   "id": "27d09e3a-6e5e-4efe-9301-bca9dc5c07b5",
   "metadata": {},
   "outputs": [],
   "source": [
    "(se-s).plot()"
   ]
  },
  {
   "cell_type": "code",
   "execution_count": null,
   "id": "0c560f46-e94c-4918-8de0-3e8208257cc0",
   "metadata": {},
   "outputs": [],
   "source": [
    "s=pnod.subbeamnod(scan=scan,ifnum=ifnum,plnum=plnum,fdnum=fdnum,weights='equal',calibrate=True)\n",
    "s._unit = u.ct"
   ]
  },
  {
   "cell_type": "code",
   "execution_count": null,
   "id": "51023c1b-e654-46f0-8777-dcf1b5ca40b9",
   "metadata": {},
   "outputs": [],
   "source": [
    "s.plot()"
   ]
  },
  {
   "cell_type": "code",
   "execution_count": null,
   "id": "62f65ec9-60d1-423c-839b-be6e758857b8",
   "metadata": {},
   "outputs": [],
   "source": [
    "print(np.nanmedian(se.flux.value-x))\n",
    "se.meta['TSYS']\n",
    "fig,ax=plt.subplots()\n",
    "ax.plot(s.spectral_axis,se.flux.value-x)\n",
    "fig.savefig(\"diffequal.png\")"
   ]
  },
  {
   "cell_type": "code",
   "execution_count": null,
   "id": "320b4231-826c-4e45-b4a7-7ebb34485c0e",
   "metadata": {},
   "outputs": [],
   "source": [
    "se.data,xx"
   ]
  },
  {
   "cell_type": "code",
   "execution_count": null,
   "id": "78f95251-ba79-4991-9dd0-48c705e10e44",
   "metadata": {},
   "outputs": [],
   "source": [
    "print(np.nanmedian(s.data-snodka_43[1]))\n",
    "xx=snodka_43[1]\n",
    "print(np.nanmedian(s._spectral_axis.to(\"GHz\").value-snodka_43[0]))"
   ]
  },
  {
   "cell_type": "code",
   "execution_count": null,
   "id": "40cc2ace-48ff-42db-9edf-cd3ef72beebd",
   "metadata": {},
   "outputs": [],
   "source": [
    "print(np.nanmedian(s.flux.value-xx))\n",
    "s.meta['TSYS']\n",
    "fig,ax=plt.subplots()\n",
    "ax.plot(s.spectral_axis,s.data-xx)\n",
    "#fig.savefig(\"difftsyswt.png\")"
   ]
  },
  {
   "cell_type": "code",
   "execution_count": null,
   "id": "35296d84-2bf1-49d0-ad37-9db765f2decc",
   "metadata": {},
   "outputs": [],
   "source": [
    "fig,ax=plt.subplots()\n",
    "ax.plot(s.spectral_axis,100*(s.flux.value-xx)/xx)\n",
    "#ax.set_ylim(-0.50,0.5)\n",
    "ax.set_ylabel(\"Percent difference\")\n",
    "fig.savefig(\"subbeammod_tsysweight_diff.png\")"
   ]
  },
  {
   "cell_type": "code",
   "execution_count": null,
   "id": "f47f67cf-2c62-4eac-bb19-bd09e2969359",
   "metadata": {},
   "outputs": [],
   "source": [
    "fig,ax=plt.subplots()\n",
    "ax.plot(se.spectral_axis,100*(se.flux.value-x)/x)\n",
    "ax.set_ylim(-0.50,0.5)\n",
    "ax.set_ylabel(\"Percent difference\")\n",
    "fig.savefig(\"subbeammod_eqweight_diff.png\")"
   ]
  },
  {
   "cell_type": "markdown",
   "id": "28085a68-41a0-4dbb-a025-5f95f4839bb4",
   "metadata": {},
   "source": [
    "# np.nanmedian(se.flux.value-x)"
   ]
  },
  {
   "cell_type": "code",
   "execution_count": null,
   "id": "92fb66bb-10c3-4b2e-a0c4-8fdb36306afe",
   "metadata": {},
   "outputs": [],
   "source": [
    "se.plot()\n",
    "#s._plotter.axis.plot(s.spectral_axis,x,color='r')\n",
    "fix,ax=plt.subplots()\n",
    "ax.plot(se.spectral_axis,x,color='r')"
   ]
  },
  {
   "cell_type": "code",
   "execution_count": null,
   "id": "f652e3db-8401-4791-801f-ec91375bbf7e",
   "metadata": {},
   "outputs": [],
   "source": [
    "print(s.stats())\n",
    "s.plot()\n",
    "diff=s/idl\n",
    "diff.plot()\n",
    "print(diff.data)\n",
    "print(diff.stats())\n",
    "print(s.meta['TSYS']/tsys[scan],s.meta['TSYS']-tsys[scan])"
   ]
  },
  {
   "cell_type": "code",
   "execution_count": null,
   "id": "de425a7f-9b3f-4973-bee3-1b018bcc65d8",
   "metadata": {},
   "outputs": [],
   "source": [
    "np.nanmedian(idl.flux.value-x),np.nanmedian(diff.data)"
   ]
  },
  {
   "cell_type": "markdown",
   "id": "44542afe-67b9-473d-bcbc-7d5a75c71b41",
   "metadata": {},
   "source": [
    "-----\n",
    "# Debugging from here down."
   ]
  }
 ],
 "metadata": {
  "kernelspec": {
   "display_name": "Python 3 (ipykernel)",
   "language": "python",
   "name": "python3"
  },
  "language_info": {
   "codemirror_mode": {
    "name": "ipython",
    "version": 3
   },
   "file_extension": ".py",
   "mimetype": "text/x-python",
   "name": "python",
   "nbconvert_exporter": "python",
   "pygments_lexer": "ipython3",
   "version": "3.9.18"
  }
 },
 "nbformat": 4,
 "nbformat_minor": 5
}
