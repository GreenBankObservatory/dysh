{
 "cells": [
  {
   "cell_type": "code",
   "execution_count": 1,
   "id": "33dc10af-604c-4f14-9711-df5ad136f764",
   "metadata": {},
   "outputs": [],
   "source": [
    "from dysh.spectra.spectrum import Spectrum\n",
    "import numpy as np\n",
    "from scipy.stats import norm\n",
    "import astropy.units as u\n",
    "import matplotlib.pyplot as plt\n",
    "from dysh.fits.sdfitsload import SDFITSLoad\n",
    "from dysh.fits.gbtfitsload import GBTFITSLoad\n",
    "from dysh.spectra.scan import PSScan, GBTPSScan\n",
    "from copy import deepcopy\n",
    "from astropy.modeling.fitting import LevMarLSQFitter,LinearLSQFitter\n",
    "from specutils import Spectrum1D, SpectrumList,SpectralRegion\n",
    "from astropy.nddata import StdDevUncertainty\n",
    "from specutils.fitting import fit_continuum\n",
    "import matplotlib.pyplot as plt\n",
    "from dysh.spectra import tsys_weight,average\n",
    "from dysh.util import sq_weighted_avg\n",
    "from dysh.plot.specplot import SpectrumPlot\n",
    "from astropy.io import fits\n",
    "from astropy.table import Table\n",
    "import pandas as pd\n",
    "pd.set_option('display.max_rows', 100)\n",
    "from astropy.utils.data import get_pkg_data_filename\n",
    "#%matplotlib notebook"
   ]
  },
  {
   "cell_type": "markdown",
   "id": "3555b4b0-097b-4ab6-81d3-6315a6cbaa27",
   "metadata": {},
   "source": [
    "-------------"
   ]
  },
  {
   "cell_type": "markdown",
   "id": "d478a858-dec8-448c-a64a-e8f55108fe5f",
   "metadata": {},
   "source": [
    "# 1. GBTFITSLoad and position-switch calibration testing\n",
    "change to use your specific `datadir`"
   ]
  },
  {
   "cell_type": "code",
   "execution_count": 2,
   "id": "4b0df155-ab44-48a7-8655-2532e051d901",
   "metadata": {},
   "outputs": [
    {
     "name": "stdout",
     "output_type": "stream",
     "text": [
      "Filename: /data/gbt/examples/onoff-L/data/TGBT21A_501_11.raw.vegas.fits\n",
      "No.    Name      Ver    Type      Cards   Dimensions   Format\n",
      "  0  PRIMARY       1 PrimaryHDU      12   ()      \n",
      "  1  SINGLE DISH    1 BinTableHDU    245   6040R x 74C   ['32A', '1D', '22A', '1D', '1D', '1D', '32768E', '16A', '6A', '8A', '1D', '1D', '1D', '4A', '1D', '4A', '1D', '1I', '32A', '32A', '1J', '32A', '16A', '1E', '8A', '1D', '1D', '1D', '1D', '1D', '1D', '1D', '1D', '1D', '1D', '1D', '1D', '8A', '1D', '1D', '12A', '1I', '1I', '1D', '1D', '1I', '1A', '1I', '1I', '16A', '16A', '1J', '1J', '22A', '1D', '1D', '1I', '1A', '1D', '1E', '1D', '1D', '1D', '1D', '1D', '1A', '1A', '8A', '1E', '1E', '16A', '1I', '1I', '1I']   \n"
     ]
    },
    {
     "name": "stderr",
     "output_type": "stream",
     "text": [
      "WARNING: UnitsWarning: 'mmHg' did not parse as fits unit: At col 0, Unit 'mmHg' not supported by the FITS standard.  If this is meant to be a custom unit, define it with 'u.def_unit'. To have it recognized inside a file reader or other code, enable it with 'u.add_enabled_units'. For details, see https://docs.astropy.org/en/latest/units/combining_and_defining.html [astropy.units.core]\n",
      "WARNING: UnitsWarning: 'UTC' did not parse as fits unit: At col 0, Unit 'UTC' not supported by the FITS standard. Did you mean TC, uC or uT? If this is meant to be a custom unit, define it with 'u.def_unit'. To have it recognized inside a file reader or other code, enable it with 'u.add_enabled_units'. For details, see https://docs.astropy.org/en/latest/units/combining_and_defining.html [astropy.units.core]\n"
     ]
    }
   ],
   "source": [
    "datadir = '/data/gbt'\n",
    "#f = datadir + '/examples/misc/ngc5291.fits'\n",
    "f = datadir + '/examples/onoff-L/data/TGBT21A_501_11.raw.vegas.fits'\n",
    "#f = datadir + 'examples/nod-KFPA/data/TGBT22A_503_02.raw.vegas/TGBT22A_503_02.raw.vegas.A.fits'\n",
    "#f = datadir + '/examples/mixed-fs-ps/data/AGBT16B_225_05/AGBT16B_225_05.raw.vegas/AGBT16B_225_05.raw.vegas.A.fits'\n",
    "p = GBTFITSLoad(f)\n",
    "p.info()"
   ]
  },
  {
   "cell_type": "code",
   "execution_count": 3,
   "id": "8645bfaf-1749-400a-8ab5-ccd1f31d0da9",
   "metadata": {},
   "outputs": [
    {
     "data": {
      "text/html": [
       "<div>\n",
       "<style scoped>\n",
       "    .dataframe tbody tr th:only-of-type {\n",
       "        vertical-align: middle;\n",
       "    }\n",
       "\n",
       "    .dataframe tbody tr th {\n",
       "        vertical-align: top;\n",
       "    }\n",
       "\n",
       "    .dataframe thead th {\n",
       "        text-align: right;\n",
       "    }\n",
       "</style>\n",
       "<table border=\"1\" class=\"dataframe\">\n",
       "  <thead>\n",
       "    <tr style=\"text-align: right;\">\n",
       "      <th></th>\n",
       "      <th>SCAN</th>\n",
       "      <th>OBJECT</th>\n",
       "      <th>VELOCITY</th>\n",
       "      <th>PROC</th>\n",
       "      <th>PROCSEQN</th>\n",
       "      <th>RESTFREQ</th>\n",
       "      <th>DOPFREQ</th>\n",
       "      <th># IF</th>\n",
       "      <th># POL</th>\n",
       "      <th># INT</th>\n",
       "      <th># FEED</th>\n",
       "      <th>AZIMUTH</th>\n",
       "      <th>ELEVATIO</th>\n",
       "    </tr>\n",
       "  </thead>\n",
       "  <tbody>\n",
       "    <tr>\n",
       "      <th>0</th>\n",
       "      <td>152.0</td>\n",
       "      <td>NGC2415</td>\n",
       "      <td>3784.0</td>\n",
       "      <td>OnOff</td>\n",
       "      <td>1.0</td>\n",
       "      <td>1.617185</td>\n",
       "      <td>1.420406</td>\n",
       "      <td>5</td>\n",
       "      <td>2</td>\n",
       "      <td>151</td>\n",
       "      <td>1</td>\n",
       "      <td>286.218008</td>\n",
       "      <td>41.62843</td>\n",
       "    </tr>\n",
       "    <tr>\n",
       "      <th>1</th>\n",
       "      <td>153.0</td>\n",
       "      <td>NGC2415</td>\n",
       "      <td>3784.0</td>\n",
       "      <td>OnOff</td>\n",
       "      <td>2.0</td>\n",
       "      <td>1.617185</td>\n",
       "      <td>1.420406</td>\n",
       "      <td>5</td>\n",
       "      <td>2</td>\n",
       "      <td>151</td>\n",
       "      <td>1</td>\n",
       "      <td>286.886521</td>\n",
       "      <td>41.118134</td>\n",
       "    </tr>\n",
       "  </tbody>\n",
       "</table>\n",
       "</div>"
      ],
      "text/plain": [
       "    SCAN   OBJECT VELOCITY   PROC PROCSEQN  RESTFREQ   DOPFREQ # IF # POL  \\\n",
       "0  152.0  NGC2415   3784.0  OnOff      1.0  1.617185  1.420406    5     2   \n",
       "1  153.0  NGC2415   3784.0  OnOff      2.0  1.617185  1.420406    5     2   \n",
       "\n",
       "  # INT # FEED     AZIMUTH   ELEVATIO  \n",
       "0   151      1  286.218008   41.62843  \n",
       "1   151      1  286.886521  41.118134  "
      ]
     },
     "execution_count": 3,
     "metadata": {},
     "output_type": "execute_result"
    }
   ],
   "source": [
    "p.summary()"
   ]
  },
  {
   "cell_type": "code",
   "execution_count": 4,
   "id": "37ea3427-fb57-4e98-bedf-5367a7b08f26",
   "metadata": {},
   "outputs": [
    {
     "data": {
      "text/html": [
       "<div>\n",
       "<style scoped>\n",
       "    .dataframe tbody tr th:only-of-type {\n",
       "        vertical-align: middle;\n",
       "    }\n",
       "\n",
       "    .dataframe tbody tr th {\n",
       "        vertical-align: top;\n",
       "    }\n",
       "\n",
       "    .dataframe thead th {\n",
       "        text-align: right;\n",
       "    }\n",
       "</style>\n",
       "<table border=\"1\" class=\"dataframe\">\n",
       "  <thead>\n",
       "    <tr style=\"text-align: right;\">\n",
       "      <th></th>\n",
       "      <th>SCAN</th>\n",
       "      <th>OBJECT</th>\n",
       "      <th>VELOCITY</th>\n",
       "      <th>PROC</th>\n",
       "      <th>PROCSEQN</th>\n",
       "      <th>PROCSIZE</th>\n",
       "      <th>RESTFREQ</th>\n",
       "      <th>DOPFREQ</th>\n",
       "      <th>IFNUM</th>\n",
       "      <th>FEED</th>\n",
       "      <th>AZIMUTH</th>\n",
       "      <th>ELEVATIO</th>\n",
       "      <th>FDNUM</th>\n",
       "      <th>PLNUM</th>\n",
       "      <th>SIG</th>\n",
       "      <th>CAL</th>\n",
       "      <th>DATE-OBS</th>\n",
       "    </tr>\n",
       "  </thead>\n",
       "  <tbody>\n",
       "    <tr>\n",
       "      <th>0</th>\n",
       "      <td>152</td>\n",
       "      <td>NGC2415</td>\n",
       "      <td>3784.0</td>\n",
       "      <td>OnOff</td>\n",
       "      <td>1</td>\n",
       "      <td>2</td>\n",
       "      <td>1.420406</td>\n",
       "      <td>1.420406</td>\n",
       "      <td>0</td>\n",
       "      <td>1</td>\n",
       "      <td>285.951496</td>\n",
       "      <td>42.100624</td>\n",
       "      <td>0</td>\n",
       "      <td>1</td>\n",
       "      <td>T</td>\n",
       "      <td>F</td>\n",
       "      <td>2021-02-10T07:38:37.50</td>\n",
       "    </tr>\n",
       "    <tr>\n",
       "      <th>1</th>\n",
       "      <td>152</td>\n",
       "      <td>NGC2415</td>\n",
       "      <td>3784.0</td>\n",
       "      <td>OnOff</td>\n",
       "      <td>1</td>\n",
       "      <td>2</td>\n",
       "      <td>1.420406</td>\n",
       "      <td>1.420406</td>\n",
       "      <td>0</td>\n",
       "      <td>1</td>\n",
       "      <td>285.951496</td>\n",
       "      <td>42.100624</td>\n",
       "      <td>0</td>\n",
       "      <td>1</td>\n",
       "      <td>T</td>\n",
       "      <td>T</td>\n",
       "      <td>2021-02-10T07:38:37.50</td>\n",
       "    </tr>\n",
       "    <tr>\n",
       "      <th>2</th>\n",
       "      <td>152</td>\n",
       "      <td>NGC2415</td>\n",
       "      <td>3784.0</td>\n",
       "      <td>OnOff</td>\n",
       "      <td>1</td>\n",
       "      <td>2</td>\n",
       "      <td>1.420406</td>\n",
       "      <td>1.420406</td>\n",
       "      <td>0</td>\n",
       "      <td>1</td>\n",
       "      <td>285.951496</td>\n",
       "      <td>42.100624</td>\n",
       "      <td>0</td>\n",
       "      <td>0</td>\n",
       "      <td>T</td>\n",
       "      <td>F</td>\n",
       "      <td>2021-02-10T07:38:37.50</td>\n",
       "    </tr>\n",
       "    <tr>\n",
       "      <th>3</th>\n",
       "      <td>152</td>\n",
       "      <td>NGC2415</td>\n",
       "      <td>3784.0</td>\n",
       "      <td>OnOff</td>\n",
       "      <td>1</td>\n",
       "      <td>2</td>\n",
       "      <td>1.420406</td>\n",
       "      <td>1.420406</td>\n",
       "      <td>0</td>\n",
       "      <td>1</td>\n",
       "      <td>285.951496</td>\n",
       "      <td>42.100624</td>\n",
       "      <td>0</td>\n",
       "      <td>0</td>\n",
       "      <td>T</td>\n",
       "      <td>T</td>\n",
       "      <td>2021-02-10T07:38:37.50</td>\n",
       "    </tr>\n",
       "    <tr>\n",
       "      <th>4</th>\n",
       "      <td>152</td>\n",
       "      <td>NGC2415</td>\n",
       "      <td>3784.0</td>\n",
       "      <td>OnOff</td>\n",
       "      <td>1</td>\n",
       "      <td>2</td>\n",
       "      <td>1.612231</td>\n",
       "      <td>1.420406</td>\n",
       "      <td>1</td>\n",
       "      <td>1</td>\n",
       "      <td>285.951496</td>\n",
       "      <td>42.100624</td>\n",
       "      <td>0</td>\n",
       "      <td>1</td>\n",
       "      <td>T</td>\n",
       "      <td>F</td>\n",
       "      <td>2021-02-10T07:38:37.50</td>\n",
       "    </tr>\n",
       "    <tr>\n",
       "      <th>...</th>\n",
       "      <td>...</td>\n",
       "      <td>...</td>\n",
       "      <td>...</td>\n",
       "      <td>...</td>\n",
       "      <td>...</td>\n",
       "      <td>...</td>\n",
       "      <td>...</td>\n",
       "      <td>...</td>\n",
       "      <td>...</td>\n",
       "      <td>...</td>\n",
       "      <td>...</td>\n",
       "      <td>...</td>\n",
       "      <td>...</td>\n",
       "      <td>...</td>\n",
       "      <td>...</td>\n",
       "      <td>...</td>\n",
       "      <td>...</td>\n",
       "    </tr>\n",
       "    <tr>\n",
       "      <th>6035</th>\n",
       "      <td>153</td>\n",
       "      <td>NGC2415</td>\n",
       "      <td>3784.0</td>\n",
       "      <td>OnOff</td>\n",
       "      <td>2</td>\n",
       "      <td>2</td>\n",
       "      <td>1.667359</td>\n",
       "      <td>1.420406</td>\n",
       "      <td>3</td>\n",
       "      <td>1</td>\n",
       "      <td>287.149353</td>\n",
       "      <td>40.652970</td>\n",
       "      <td>0</td>\n",
       "      <td>0</td>\n",
       "      <td>T</td>\n",
       "      <td>T</td>\n",
       "      <td>2021-02-10T07:48:50.97</td>\n",
       "    </tr>\n",
       "    <tr>\n",
       "      <th>6036</th>\n",
       "      <td>153</td>\n",
       "      <td>NGC2415</td>\n",
       "      <td>3784.0</td>\n",
       "      <td>OnOff</td>\n",
       "      <td>2</td>\n",
       "      <td>2</td>\n",
       "      <td>1.720530</td>\n",
       "      <td>1.420406</td>\n",
       "      <td>4</td>\n",
       "      <td>1</td>\n",
       "      <td>287.149353</td>\n",
       "      <td>40.652970</td>\n",
       "      <td>0</td>\n",
       "      <td>1</td>\n",
       "      <td>T</td>\n",
       "      <td>F</td>\n",
       "      <td>2021-02-10T07:48:50.97</td>\n",
       "    </tr>\n",
       "    <tr>\n",
       "      <th>6037</th>\n",
       "      <td>153</td>\n",
       "      <td>NGC2415</td>\n",
       "      <td>3784.0</td>\n",
       "      <td>OnOff</td>\n",
       "      <td>2</td>\n",
       "      <td>2</td>\n",
       "      <td>1.720530</td>\n",
       "      <td>1.420406</td>\n",
       "      <td>4</td>\n",
       "      <td>1</td>\n",
       "      <td>287.149353</td>\n",
       "      <td>40.652970</td>\n",
       "      <td>0</td>\n",
       "      <td>1</td>\n",
       "      <td>T</td>\n",
       "      <td>T</td>\n",
       "      <td>2021-02-10T07:48:50.97</td>\n",
       "    </tr>\n",
       "    <tr>\n",
       "      <th>6038</th>\n",
       "      <td>153</td>\n",
       "      <td>NGC2415</td>\n",
       "      <td>3784.0</td>\n",
       "      <td>OnOff</td>\n",
       "      <td>2</td>\n",
       "      <td>2</td>\n",
       "      <td>1.720530</td>\n",
       "      <td>1.420406</td>\n",
       "      <td>4</td>\n",
       "      <td>1</td>\n",
       "      <td>287.149353</td>\n",
       "      <td>40.652970</td>\n",
       "      <td>0</td>\n",
       "      <td>0</td>\n",
       "      <td>T</td>\n",
       "      <td>F</td>\n",
       "      <td>2021-02-10T07:48:50.97</td>\n",
       "    </tr>\n",
       "    <tr>\n",
       "      <th>6039</th>\n",
       "      <td>153</td>\n",
       "      <td>NGC2415</td>\n",
       "      <td>3784.0</td>\n",
       "      <td>OnOff</td>\n",
       "      <td>2</td>\n",
       "      <td>2</td>\n",
       "      <td>1.720530</td>\n",
       "      <td>1.420406</td>\n",
       "      <td>4</td>\n",
       "      <td>1</td>\n",
       "      <td>287.149353</td>\n",
       "      <td>40.652970</td>\n",
       "      <td>0</td>\n",
       "      <td>0</td>\n",
       "      <td>T</td>\n",
       "      <td>T</td>\n",
       "      <td>2021-02-10T07:48:50.97</td>\n",
       "    </tr>\n",
       "  </tbody>\n",
       "</table>\n",
       "<p>6040 rows × 17 columns</p>\n",
       "</div>"
      ],
      "text/plain": [
       "      SCAN   OBJECT  VELOCITY   PROC  PROCSEQN  PROCSIZE  RESTFREQ   DOPFREQ  \\\n",
       "0      152  NGC2415    3784.0  OnOff         1         2  1.420406  1.420406   \n",
       "1      152  NGC2415    3784.0  OnOff         1         2  1.420406  1.420406   \n",
       "2      152  NGC2415    3784.0  OnOff         1         2  1.420406  1.420406   \n",
       "3      152  NGC2415    3784.0  OnOff         1         2  1.420406  1.420406   \n",
       "4      152  NGC2415    3784.0  OnOff         1         2  1.612231  1.420406   \n",
       "...    ...      ...       ...    ...       ...       ...       ...       ...   \n",
       "6035   153  NGC2415    3784.0  OnOff         2         2  1.667359  1.420406   \n",
       "6036   153  NGC2415    3784.0  OnOff         2         2  1.720530  1.420406   \n",
       "6037   153  NGC2415    3784.0  OnOff         2         2  1.720530  1.420406   \n",
       "6038   153  NGC2415    3784.0  OnOff         2         2  1.720530  1.420406   \n",
       "6039   153  NGC2415    3784.0  OnOff         2         2  1.720530  1.420406   \n",
       "\n",
       "      IFNUM  FEED     AZIMUTH   ELEVATIO  FDNUM  PLNUM SIG CAL  \\\n",
       "0         0     1  285.951496  42.100624      0      1   T   F   \n",
       "1         0     1  285.951496  42.100624      0      1   T   T   \n",
       "2         0     1  285.951496  42.100624      0      0   T   F   \n",
       "3         0     1  285.951496  42.100624      0      0   T   T   \n",
       "4         1     1  285.951496  42.100624      0      1   T   F   \n",
       "...     ...   ...         ...        ...    ...    ...  ..  ..   \n",
       "6035      3     1  287.149353  40.652970      0      0   T   T   \n",
       "6036      4     1  287.149353  40.652970      0      1   T   F   \n",
       "6037      4     1  287.149353  40.652970      0      1   T   T   \n",
       "6038      4     1  287.149353  40.652970      0      0   T   F   \n",
       "6039      4     1  287.149353  40.652970      0      0   T   T   \n",
       "\n",
       "                    DATE-OBS  \n",
       "0     2021-02-10T07:38:37.50  \n",
       "1     2021-02-10T07:38:37.50  \n",
       "2     2021-02-10T07:38:37.50  \n",
       "3     2021-02-10T07:38:37.50  \n",
       "4     2021-02-10T07:38:37.50  \n",
       "...                      ...  \n",
       "6035  2021-02-10T07:48:50.97  \n",
       "6036  2021-02-10T07:48:50.97  \n",
       "6037  2021-02-10T07:48:50.97  \n",
       "6038  2021-02-10T07:48:50.97  \n",
       "6039  2021-02-10T07:48:50.97  \n",
       "\n",
       "[6040 rows x 17 columns]"
      ]
     },
     "execution_count": 4,
     "metadata": {},
     "output_type": "execute_result"
    }
   ],
   "source": [
    "p.summary(verbose=True)"
   ]
  },
  {
   "cell_type": "code",
   "execution_count": null,
   "id": "4400d142-2f57-4643-877a-4f062087fcf6",
   "metadata": {},
   "outputs": [],
   "source": [
    "print(p.index(0)[\"EXPOSURE\"].dtype, p.index(0)[\"CDELT1\"].dtype)\n",
    "tps = p.gettp(scan=152,sig=None,cal=None,bintable=0,ifnum=0,plnum=1)\n",
    "print(tps._tsys_weight.dtype,tps.exposure.dtype,tps.delta_freq.dtype)"
   ]
  },
  {
   "cell_type": "code",
   "execution_count": null,
   "id": "8c29513e-a7e9-49c2-ab98-0d5ae7df8f34",
   "metadata": {},
   "outputs": [],
   "source": [
    "print(p.index(0)[\"EXPOSURE\"].dtype, p.index(0)[\"CDELT1\"].dtype)\n",
    "tps = p.gettp(scan=152,sig=None,cal=None,bintable=0,ifnum=0,plnum=1)\n",
    "print(tps._tsys_weight.dtype,tps.exposure.dtype,tps.delta_freq.dtype)"
   ]
  },
  {
   "cell_type": "code",
   "execution_count": null,
   "id": "0e8c80fa-68b1-4d26-af61-27ba6a6f3b8c",
   "metadata": {},
   "outputs": [],
   "source": []
  },
  {
   "cell_type": "markdown",
   "id": "ffb7a280-7756-45be-8d81-9b79e1b98419",
   "metadata": {},
   "source": [
    "-----------------------------\n",
    "# Get total power scan integrations and plot the time average "
   ]
  },
  {
   "cell_type": "code",
   "execution_count": null,
   "id": "2ce26878-1761-4269-a888-cacca5b16b51",
   "metadata": {},
   "outputs": [],
   "source": [
    "tps = p.gettp(scan=153,sig=None,cal=None,bintable=0,ifnum=0,plnum=1)"
   ]
  },
  {
   "cell_type": "code",
   "execution_count": null,
   "id": "b2f4a250-ec5f-4a30-a348-d966bb486405",
   "metadata": {},
   "outputs": [],
   "source": [
    "tps = p.gettp(scan=152,sig=True,cal=True,bintable=0,ifnum=0,plnum=1)\n",
    "tps2 = p.gettp(scan=152,sig=True,cal=False,bintable=0,ifnum=0,plnum=1)\n",
    "s=tps.timeaverage()\n",
    "s.plot()\n",
    "so = tps2.timeaverage()\n",
    "so.plot()\n",
    "print(\"TSYS(cal=T)=\",s.meta['TSYS'])\n",
    "print(\"TSYS(cal=F)=\",so.meta['TSYS'])\n",
    "s2 = (s+so)*0.5\n",
    "s2.plot()\n",
    "#(s-so).plot()\n",
    "tpsc = p.gettp(scan=152,sig=True,cal=True,bintable=0,ifnum=0,plnum=1,calibrate=True)\n",
    "s4=tpsc.timeaverage()\n",
    "s4.plot()\n",
    "s4.data-s.data\n",
    "print(so.meta[\"TSYS\"])"
   ]
  },
  {
   "cell_type": "code",
   "execution_count": null,
   "id": "a855df40-9337-4c1e-a4e6-78d8a19f8ed2",
   "metadata": {},
   "outputs": [],
   "source": [
    "tps.timeaverage(weights=None).plot()"
   ]
  },
  {
   "cell_type": "code",
   "execution_count": null,
   "id": "5523649d-44bb-4124-9180-f1a2fe6b1174",
   "metadata": {},
   "outputs": [],
   "source": [
    "s=tps.timeaverage(weights=None)\n",
    "s.plot()\n",
    "s._plotter.figure.savefig(\"/home/mpound/src/dysh/docs/static/tp_153_eqweight.png\")"
   ]
  },
  {
   "cell_type": "code",
   "execution_count": null,
   "id": "709c5610-05d8-411e-9288-cc89e989df5f",
   "metadata": {},
   "outputs": [],
   "source": [
    "\n",
    "print('%s' % (np.array2string(tps.tsys,precision=2)))\n"
   ]
  },
  {
   "cell_type": "code",
   "execution_count": null,
   "id": "e5634611-f666-4855-803d-ff6da336c962",
   "metadata": {},
   "outputs": [],
   "source": [
    "freq,counts=np.loadtxt(\"../testdata/tp152_if0_pl1_fd0.txt\",skiprows=3,unpack=True)\n",
    "freq=freq*1E9\n",
    "#fig,ax=plt.subplots()\n",
    "#ax.plot(freq,counts)\n",
    "ss = s/2.0\n",
    "s4.plot()\n",
    "print(len(counts),len(freq))\n",
    "freq+=np.mean(s.spectral_axis.value-freq)\n",
    "s4._plotter.axis.plot(freq,counts,color='r')\n",
    "freq[0]-freq[1]"
   ]
  },
  {
   "cell_type": "markdown",
   "id": "a73fc399-c419-46ee-8281-3b4e2d1d8c1d",
   "metadata": {},
   "source": [
    "## get another TP scan with different IF and Polarization and plot the 13th integration"
   ]
  },
  {
   "cell_type": "code",
   "execution_count": null,
   "id": "5dba32d8-8dea-4e8b-902e-92533ec7df24",
   "metadata": {},
   "outputs": [],
   "source": [
    "tps = p.gettp(scan=153,ifnum=1,plnum=1)\n",
    "tps.total_power(12).plot()"
   ]
  },
  {
   "cell_type": "code",
   "execution_count": null,
   "id": "76266cda-19e4-4ae1-935a-99f20c7a90b3",
   "metadata": {},
   "outputs": [],
   "source": [
    "tps.timeaverage().plot()"
   ]
  },
  {
   "cell_type": "markdown",
   "id": "af69d02a-187c-416d-adc2-ce1eae9feaa6",
   "metadata": {},
   "source": [
    "## Try writing scans or records to FITS files and reading them back in\n"
   ]
  },
  {
   "cell_type": "code",
   "execution_count": null,
   "id": "91a81062-6c6d-4b0d-9676-0b0ffbe994be",
   "metadata": {},
   "outputs": [],
   "source": [
    "scanlist = [152]"
   ]
  },
  {
   "cell_type": "code",
   "execution_count": null,
   "id": "862cf89f-42b0-491a-908e-bb85e2cfa2da",
   "metadata": {},
   "outputs": [],
   "source": [
    "p.write_scans(\"/tmp/scans.fits\",overwrite=True,checksum=True,output_verify='fix',scans=scanlist)"
   ]
  },
  {
   "cell_type": "code",
   "execution_count": null,
   "id": "59d10bdf-5c20-4d4e-abf9-97df4b5d3541",
   "metadata": {},
   "outputs": [],
   "source": [
    "x1 = fits.open(\"/tmp/scans.fits\")\n",
    "x1.info()"
   ]
  },
  {
   "cell_type": "code",
   "execution_count": null,
   "id": "8ebae3d0-6ccc-46f7-93f5-13c11ed3b605",
   "metadata": {},
   "outputs": [],
   "source": [
    "x1[1].header"
   ]
  },
  {
   "cell_type": "code",
   "execution_count": null,
   "id": "a20f0815-f5f3-4d38-ba4d-6a288f4a0cff",
   "metadata": {},
   "outputs": [],
   "source": [
    "x1 = GBTFITSLoad(\"/tmp/scans.fits\")\n",
    "#x1._ptable[0]\n",
    "x1._hdu.info()"
   ]
  },
  {
   "cell_type": "code",
   "execution_count": null,
   "id": "0bfc7447-c8e3-4694-a2bf-41616fc83c68",
   "metadata": {},
   "outputs": [],
   "source": [
    "x1._hdu[1].header"
   ]
  },
  {
   "cell_type": "code",
   "execution_count": null,
   "id": "3d949978-290f-4f95-8fd6-ff5ad6c45f31",
   "metadata": {},
   "outputs": [],
   "source": [
    "spec4 = p.getspec(4)\n",
    "sp = SpectrumPlot(spec4)\n",
    "sp.plot()"
   ]
  },
  {
   "cell_type": "markdown",
   "id": "f90741e3-6146-4df4-89d5-8b6be6f00e22",
   "metadata": {},
   "source": [
    "## Get a position switch scan and calibrate it.\n",
    "The default ifnum=0, plnum=0"
   ]
  },
  {
   "cell_type": "code",
   "execution_count": null,
   "id": "610d6c4d-54fc-4f56-beb5-10eb3d848781",
   "metadata": {},
   "outputs": [],
   "source": [
    "# eventually this will have calibrate=True as the default, so you don't need to call calibrate().\n",
    "psscan = p.getps(152)"
   ]
  },
  {
   "cell_type": "code",
   "execution_count": null,
   "id": "de023f21-2f5c-4466-b55a-f3c5ff351e61",
   "metadata": {},
   "outputs": [],
   "source": [
    "psscan.calibrate()"
   ]
  },
  {
   "cell_type": "code",
   "execution_count": null,
   "id": "54ecbe9e-2992-47a6-aa0e-06f7c66211a8",
   "metadata": {},
   "outputs": [],
   "source": [
    "xx=psscan.timeaverage()\n",
    "type(psscan._calibrated)"
   ]
  },
  {
   "cell_type": "markdown",
   "id": "6e3b0bc9-9d5c-4bb6-9075-26b9086cf7f9",
   "metadata": {},
   "source": [
    "### the raw calibrated numpy array"
   ]
  },
  {
   "cell_type": "code",
   "execution_count": null,
   "id": "35764215-5cf3-4b61-9955-41f324e06f8f",
   "metadata": {},
   "outputs": [],
   "source": [
    "psscan._calibrated"
   ]
  },
  {
   "cell_type": "markdown",
   "id": "209c6253-4ed1-4135-9e87-1ebaec734f21",
   "metadata": {},
   "source": [
    "### A single integration of the calibrated Spectrum"
   ]
  },
  {
   "cell_type": "code",
   "execution_count": null,
   "id": "54b6cea7-d0be-484f-9363-35d90a146226",
   "metadata": {},
   "outputs": [],
   "source": [
    "spec1 = psscan.calibrated(3)\n",
    "sp = SpectrumPlot(spec1)\n",
    "sp.plot(xaxis_unit=\"km/s\")"
   ]
  },
  {
   "cell_type": "markdown",
   "id": "5e37156f-3a6c-4d52-bc65-97dd7901df68",
   "metadata": {},
   "source": [
    "### The average spectrum.  \n",
    "You can plot with equal weights or $T_{sys}$ weighting (the default)\n",
    "Compare this with GBTIDL `getps, 152`"
   ]
  },
  {
   "cell_type": "code",
   "execution_count": null,
   "id": "32d6bb9c-eead-4db0-b7e1-7a6ba171ad94",
   "metadata": {},
   "outputs": [],
   "source": [
    "t=psscan.timeaverage(weights=None)\n",
    "t.plot()\n",
    "print(f\"T_sys = {np.mean(psscan.tsys)}\")"
   ]
  },
  {
   "cell_type": "code",
   "execution_count": null,
   "id": "3a01abdb-78ab-4e6d-bb56-d5ab0415c2e4",
   "metadata": {},
   "outputs": [],
   "source": [
    "t=psscan.timeaverage(weights='tsys').plot()"
   ]
  },
  {
   "cell_type": "markdown",
   "id": "5882f438-270b-4d33-83f5-60147f8d662f",
   "metadata": {},
   "source": [
    "### Try a different polarization and IF and use the OFF scan number\n",
    "GBTIDL `getps, 153, ifnum=1, plnum=1`"
   ]
  },
  {
   "cell_type": "code",
   "execution_count": null,
   "id": "4e81e83c-ad8d-4a3d-a49e-782da34768f1",
   "metadata": {},
   "outputs": [],
   "source": [
    "psscan = p.getps(152,plnum=1,ifnum=1)\n",
    "psscan.calibrate()"
   ]
  },
  {
   "cell_type": "code",
   "execution_count": null,
   "id": "930f1d34-f799-4452-9b18-06be3d9df9a8",
   "metadata": {},
   "outputs": [],
   "source": [
    "psscan.timeaverage().plot()\n",
    "print(f\"T_sys = {np.mean(psscan.tsys)}\")"
   ]
  },
  {
   "cell_type": "markdown",
   "id": "766d2e53-ed56-4d91-adc2-e9fea759519d",
   "metadata": {},
   "source": [
    "### mixed FS and PS\n"
   ]
  },
  {
   "cell_type": "code",
   "execution_count": null,
   "id": "a457e2d6-c150-4789-a90a-5f7bb16032e9",
   "metadata": {},
   "outputs": [],
   "source": [
    "if False:\n",
    "    datadir = '/data/gbt'\n",
    "    f = datadir + '/examples/mixed-fs-ps/data/AGBT16B_225_05/AGBT16B_225_05.raw.vegas/AGBT16B_225_05.raw.vegas.A.fits'\n",
    "    p = GBTFITSLoad(f)\n",
    "    p.info()\n",
    "    p.summary()"
   ]
  },
  {
   "cell_type": "markdown",
   "id": "45a07714-7c30-497b-9a18-a5bec99d308d",
   "metadata": {},
   "source": [
    "--------------------------------"
   ]
  },
  {
   "cell_type": "markdown",
   "id": "4a82fa07-caed-43e3-81d4-1028e333ac4d",
   "metadata": {},
   "source": [
    "# SubbeamNOD KPFA Data "
   ]
  },
  {
   "cell_type": "code",
   "execution_count": 5,
   "id": "8b47fcfb-a9f5-4dc9-9794-bf4612377e71",
   "metadata": {},
   "outputs": [
    {
     "name": "stdout",
     "output_type": "stream",
     "text": [
      "Filename: /data/gbt/examples/subbeamnod-Ka/data/TRCO_230413_Ka.raw.vegas/TRCO_230413_Ka.raw.vegas.A.fits\n",
      "No.    Name      Ver    Type      Cards   Dimensions   Format\n",
      "  0  PRIMARY       1 PrimaryHDU      12   ()      \n",
      "  1  SINGLE DISH    1 BinTableHDU    245   5280R x 74C   ['32A', '1D', '22A', '1D', '1D', '1D', '1024E', '16A', '6A', '8A', '1D', '1D', '1D', '4A', '1D', '4A', '1D', '1I', '32A', '32A', '1J', '32A', '16A', '1E', '8A', '1D', '1D', '1D', '1D', '1D', '1D', '1D', '1D', '1D', '1D', '1D', '1D', '8A', '1D', '1D', '12A', '1I', '1I', '1D', '1D', '1I', '1A', '1I', '1I', '16A', '16A', '1J', '1J', '22A', '1D', '1D', '1I', '1A', '1D', '1E', '1D', '1D', '1D', '1D', '1D', '1A', '1A', '8A', '1E', '1E', '16A', '1I', '1I', '1I']   \n"
     ]
    },
    {
     "name": "stderr",
     "output_type": "stream",
     "text": [
      "WARNING: UnitsWarning: 'mmHg' did not parse as fits unit: At col 0, Unit 'mmHg' not supported by the FITS standard.  If this is meant to be a custom unit, define it with 'u.def_unit'. To have it recognized inside a file reader or other code, enable it with 'u.add_enabled_units'. For details, see https://docs.astropy.org/en/latest/units/combining_and_defining.html [astropy.units.core]\n",
      "WARNING: UnitsWarning: 'UTC' did not parse as fits unit: At col 0, Unit 'UTC' not supported by the FITS standard. Did you mean TC, uC or uT? If this is meant to be a custom unit, define it with 'u.def_unit'. To have it recognized inside a file reader or other code, enable it with 'u.add_enabled_units'. For details, see https://docs.astropy.org/en/latest/units/combining_and_defining.html [astropy.units.core]\n"
     ]
    }
   ],
   "source": [
    "datadir = \"/data/gbt/\"\n",
    "f = datadir + 'examples/subbeamnod-Ka/data/TRCO_230413_Ka.raw.vegas/TRCO_230413_Ka.raw.vegas.A.fits'\n",
    "pnod = GBTFITSLoad(f)\n",
    "pnod.info()"
   ]
  },
  {
   "cell_type": "code",
   "execution_count": 6,
   "id": "47b74270-f9f6-4a1c-b261-6268770a8892",
   "metadata": {},
   "outputs": [
    {
     "data": {
      "text/html": [
       "<div>\n",
       "<style scoped>\n",
       "    .dataframe tbody tr th:only-of-type {\n",
       "        vertical-align: middle;\n",
       "    }\n",
       "\n",
       "    .dataframe tbody tr th {\n",
       "        vertical-align: top;\n",
       "    }\n",
       "\n",
       "    .dataframe thead th {\n",
       "        text-align: right;\n",
       "    }\n",
       "</style>\n",
       "<table border=\"1\" class=\"dataframe\">\n",
       "  <thead>\n",
       "    <tr style=\"text-align: right;\">\n",
       "      <th></th>\n",
       "      <th>SCAN</th>\n",
       "      <th>OBJECT</th>\n",
       "      <th>VELOCITY</th>\n",
       "      <th>PROC</th>\n",
       "      <th>PROCSEQN</th>\n",
       "      <th>RESTFREQ</th>\n",
       "      <th>DOPFREQ</th>\n",
       "      <th># IF</th>\n",
       "      <th># POL</th>\n",
       "      <th># INT</th>\n",
       "      <th># FEED</th>\n",
       "      <th>AZIMUTH</th>\n",
       "      <th>ELEVATIO</th>\n",
       "    </tr>\n",
       "  </thead>\n",
       "  <tbody>\n",
       "    <tr>\n",
       "      <th>0</th>\n",
       "      <td>32.0</td>\n",
       "      <td>1256-0547</td>\n",
       "      <td>0.0</td>\n",
       "      <td>Nod</td>\n",
       "      <td>1.0</td>\n",
       "      <td>26.5</td>\n",
       "      <td>26.5</td>\n",
       "      <td>1</td>\n",
       "      <td>2</td>\n",
       "      <td>60</td>\n",
       "      <td>2</td>\n",
       "      <td>160.975324</td>\n",
       "      <td>43.884984</td>\n",
       "    </tr>\n",
       "    <tr>\n",
       "      <th>1</th>\n",
       "      <td>33.0</td>\n",
       "      <td>1256-0547</td>\n",
       "      <td>0.0</td>\n",
       "      <td>Nod</td>\n",
       "      <td>2.0</td>\n",
       "      <td>26.5</td>\n",
       "      <td>26.5</td>\n",
       "      <td>1</td>\n",
       "      <td>2</td>\n",
       "      <td>60</td>\n",
       "      <td>2</td>\n",
       "      <td>161.174093</td>\n",
       "      <td>43.928449</td>\n",
       "    </tr>\n",
       "    <tr>\n",
       "      <th>2</th>\n",
       "      <td>34.0</td>\n",
       "      <td>1256-0547</td>\n",
       "      <td>0.0</td>\n",
       "      <td>Nod</td>\n",
       "      <td>1.0</td>\n",
       "      <td>30.5</td>\n",
       "      <td>30.5</td>\n",
       "      <td>1</td>\n",
       "      <td>2</td>\n",
       "      <td>60</td>\n",
       "      <td>2</td>\n",
       "      <td>161.589629</td>\n",
       "      <td>44.000491</td>\n",
       "    </tr>\n",
       "    <tr>\n",
       "      <th>3</th>\n",
       "      <td>35.0</td>\n",
       "      <td>1256-0547</td>\n",
       "      <td>0.0</td>\n",
       "      <td>Nod</td>\n",
       "      <td>2.0</td>\n",
       "      <td>30.5</td>\n",
       "      <td>30.5</td>\n",
       "      <td>1</td>\n",
       "      <td>2</td>\n",
       "      <td>60</td>\n",
       "      <td>2</td>\n",
       "      <td>161.783395</td>\n",
       "      <td>44.041622</td>\n",
       "    </tr>\n",
       "    <tr>\n",
       "      <th>4</th>\n",
       "      <td>36.0</td>\n",
       "      <td>1256-0547</td>\n",
       "      <td>0.0</td>\n",
       "      <td>Unknown</td>\n",
       "      <td>0.0</td>\n",
       "      <td>0.75</td>\n",
       "      <td>0.75</td>\n",
       "      <td>1</td>\n",
       "      <td>2</td>\n",
       "      <td>120</td>\n",
       "      <td>2</td>\n",
       "      <td>162.124052</td>\n",
       "      <td>44.100404</td>\n",
       "    </tr>\n",
       "    <tr>\n",
       "      <th>5</th>\n",
       "      <td>37.0</td>\n",
       "      <td>1256-0547</td>\n",
       "      <td>0.0</td>\n",
       "      <td>Nod</td>\n",
       "      <td>1.0</td>\n",
       "      <td>34.5</td>\n",
       "      <td>34.5</td>\n",
       "      <td>1</td>\n",
       "      <td>2</td>\n",
       "      <td>60</td>\n",
       "      <td>2</td>\n",
       "      <td>162.611075</td>\n",
       "      <td>44.183661</td>\n",
       "    </tr>\n",
       "    <tr>\n",
       "      <th>6</th>\n",
       "      <td>38.0</td>\n",
       "      <td>1256-0547</td>\n",
       "      <td>0.0</td>\n",
       "      <td>Nod</td>\n",
       "      <td>2.0</td>\n",
       "      <td>34.5</td>\n",
       "      <td>34.5</td>\n",
       "      <td>1</td>\n",
       "      <td>2</td>\n",
       "      <td>60</td>\n",
       "      <td>2</td>\n",
       "      <td>162.896506</td>\n",
       "      <td>44.237997</td>\n",
       "    </tr>\n",
       "    <tr>\n",
       "      <th>7</th>\n",
       "      <td>39.0</td>\n",
       "      <td>1256-0547</td>\n",
       "      <td>0.0</td>\n",
       "      <td>Nod</td>\n",
       "      <td>1.0</td>\n",
       "      <td>37.5</td>\n",
       "      <td>37.5</td>\n",
       "      <td>1</td>\n",
       "      <td>2</td>\n",
       "      <td>60</td>\n",
       "      <td>2</td>\n",
       "      <td>163.333508</td>\n",
       "      <td>44.306385</td>\n",
       "    </tr>\n",
       "    <tr>\n",
       "      <th>8</th>\n",
       "      <td>40.0</td>\n",
       "      <td>1256-0547</td>\n",
       "      <td>0.0</td>\n",
       "      <td>Nod</td>\n",
       "      <td>2.0</td>\n",
       "      <td>37.5</td>\n",
       "      <td>37.5</td>\n",
       "      <td>1</td>\n",
       "      <td>2</td>\n",
       "      <td>60</td>\n",
       "      <td>2</td>\n",
       "      <td>163.529285</td>\n",
       "      <td>44.343704</td>\n",
       "    </tr>\n",
       "    <tr>\n",
       "      <th>9</th>\n",
       "      <td>41.0</td>\n",
       "      <td>1256-0547</td>\n",
       "      <td>0.0</td>\n",
       "      <td>Nod</td>\n",
       "      <td>1.0</td>\n",
       "      <td>30.5</td>\n",
       "      <td>30.5</td>\n",
       "      <td>1</td>\n",
       "      <td>2</td>\n",
       "      <td>60</td>\n",
       "      <td>2</td>\n",
       "      <td>164.941425</td>\n",
       "      <td>44.559629</td>\n",
       "    </tr>\n",
       "    <tr>\n",
       "      <th>10</th>\n",
       "      <td>42.0</td>\n",
       "      <td>1256-0547</td>\n",
       "      <td>0.0</td>\n",
       "      <td>Nod</td>\n",
       "      <td>2.0</td>\n",
       "      <td>30.5</td>\n",
       "      <td>30.5</td>\n",
       "      <td>1</td>\n",
       "      <td>2</td>\n",
       "      <td>60</td>\n",
       "      <td>2</td>\n",
       "      <td>165.139436</td>\n",
       "      <td>44.593378</td>\n",
       "    </tr>\n",
       "    <tr>\n",
       "      <th>11</th>\n",
       "      <td>43.0</td>\n",
       "      <td>1256-0547</td>\n",
       "      <td>0.0</td>\n",
       "      <td>SubBeamNod</td>\n",
       "      <td>1.0</td>\n",
       "      <td>30.5</td>\n",
       "      <td>30.5</td>\n",
       "      <td>1</td>\n",
       "      <td>2</td>\n",
       "      <td>120</td>\n",
       "      <td>2</td>\n",
       "      <td>165.469522</td>\n",
       "      <td>44.639023</td>\n",
       "    </tr>\n",
       "    <tr>\n",
       "      <th>12</th>\n",
       "      <td>44.0</td>\n",
       "      <td>1256-0547</td>\n",
       "      <td>0.0</td>\n",
       "      <td>Nod</td>\n",
       "      <td>1.0</td>\n",
       "      <td>30.5</td>\n",
       "      <td>30.5</td>\n",
       "      <td>1</td>\n",
       "      <td>2</td>\n",
       "      <td>60</td>\n",
       "      <td>2</td>\n",
       "      <td>166.48287</td>\n",
       "      <td>44.776997</td>\n",
       "    </tr>\n",
       "    <tr>\n",
       "      <th>13</th>\n",
       "      <td>45.0</td>\n",
       "      <td>1256-0547</td>\n",
       "      <td>0.0</td>\n",
       "      <td>Nod</td>\n",
       "      <td>2.0</td>\n",
       "      <td>30.5</td>\n",
       "      <td>30.5</td>\n",
       "      <td>1</td>\n",
       "      <td>2</td>\n",
       "      <td>60</td>\n",
       "      <td>2</td>\n",
       "      <td>166.688378</td>\n",
       "      <td>44.808119</td>\n",
       "    </tr>\n",
       "    <tr>\n",
       "      <th>14</th>\n",
       "      <td>46.0</td>\n",
       "      <td>1256-0547</td>\n",
       "      <td>0.0</td>\n",
       "      <td>SubBeamNod</td>\n",
       "      <td>1.0</td>\n",
       "      <td>30.5</td>\n",
       "      <td>30.5</td>\n",
       "      <td>1</td>\n",
       "      <td>2</td>\n",
       "      <td>120</td>\n",
       "      <td>2</td>\n",
       "      <td>167.026583</td>\n",
       "      <td>44.849753</td>\n",
       "    </tr>\n",
       "    <tr>\n",
       "      <th>15</th>\n",
       "      <td>52.0</td>\n",
       "      <td>1256-0547</td>\n",
       "      <td>0.0</td>\n",
       "      <td>Nod</td>\n",
       "      <td>1.0</td>\n",
       "      <td>30.5</td>\n",
       "      <td>30.5</td>\n",
       "      <td>1</td>\n",
       "      <td>2</td>\n",
       "      <td>60</td>\n",
       "      <td>2</td>\n",
       "      <td>169.972904</td>\n",
       "      <td>45.179358</td>\n",
       "    </tr>\n",
       "    <tr>\n",
       "      <th>16</th>\n",
       "      <td>53.0</td>\n",
       "      <td>1256-0547</td>\n",
       "      <td>0.0</td>\n",
       "      <td>Nod</td>\n",
       "      <td>2.0</td>\n",
       "      <td>30.5</td>\n",
       "      <td>30.5</td>\n",
       "      <td>1</td>\n",
       "      <td>2</td>\n",
       "      <td>60</td>\n",
       "      <td>2</td>\n",
       "      <td>170.175815</td>\n",
       "      <td>45.201877</td>\n",
       "    </tr>\n",
       "    <tr>\n",
       "      <th>17</th>\n",
       "      <td>54.0</td>\n",
       "      <td>1256-0547</td>\n",
       "      <td>0.0</td>\n",
       "      <td>SubBeamNod</td>\n",
       "      <td>1.0</td>\n",
       "      <td>30.5</td>\n",
       "      <td>30.5</td>\n",
       "      <td>1</td>\n",
       "      <td>2</td>\n",
       "      <td>120</td>\n",
       "      <td>2</td>\n",
       "      <td>170.518885</td>\n",
       "      <td>45.232575</td>\n",
       "    </tr>\n",
       "  </tbody>\n",
       "</table>\n",
       "</div>"
      ],
      "text/plain": [
       "    SCAN     OBJECT VELOCITY        PROC PROCSEQN RESTFREQ DOPFREQ # IF # POL  \\\n",
       "0   32.0  1256-0547      0.0         Nod      1.0     26.5    26.5    1     2   \n",
       "1   33.0  1256-0547      0.0         Nod      2.0     26.5    26.5    1     2   \n",
       "2   34.0  1256-0547      0.0         Nod      1.0     30.5    30.5    1     2   \n",
       "3   35.0  1256-0547      0.0         Nod      2.0     30.5    30.5    1     2   \n",
       "4   36.0  1256-0547      0.0     Unknown      0.0     0.75    0.75    1     2   \n",
       "5   37.0  1256-0547      0.0         Nod      1.0     34.5    34.5    1     2   \n",
       "6   38.0  1256-0547      0.0         Nod      2.0     34.5    34.5    1     2   \n",
       "7   39.0  1256-0547      0.0         Nod      1.0     37.5    37.5    1     2   \n",
       "8   40.0  1256-0547      0.0         Nod      2.0     37.5    37.5    1     2   \n",
       "9   41.0  1256-0547      0.0         Nod      1.0     30.5    30.5    1     2   \n",
       "10  42.0  1256-0547      0.0         Nod      2.0     30.5    30.5    1     2   \n",
       "11  43.0  1256-0547      0.0  SubBeamNod      1.0     30.5    30.5    1     2   \n",
       "12  44.0  1256-0547      0.0         Nod      1.0     30.5    30.5    1     2   \n",
       "13  45.0  1256-0547      0.0         Nod      2.0     30.5    30.5    1     2   \n",
       "14  46.0  1256-0547      0.0  SubBeamNod      1.0     30.5    30.5    1     2   \n",
       "15  52.0  1256-0547      0.0         Nod      1.0     30.5    30.5    1     2   \n",
       "16  53.0  1256-0547      0.0         Nod      2.0     30.5    30.5    1     2   \n",
       "17  54.0  1256-0547      0.0  SubBeamNod      1.0     30.5    30.5    1     2   \n",
       "\n",
       "   # INT # FEED     AZIMUTH   ELEVATIO  \n",
       "0     60      2  160.975324  43.884984  \n",
       "1     60      2  161.174093  43.928449  \n",
       "2     60      2  161.589629  44.000491  \n",
       "3     60      2  161.783395  44.041622  \n",
       "4    120      2  162.124052  44.100404  \n",
       "5     60      2  162.611075  44.183661  \n",
       "6     60      2  162.896506  44.237997  \n",
       "7     60      2  163.333508  44.306385  \n",
       "8     60      2  163.529285  44.343704  \n",
       "9     60      2  164.941425  44.559629  \n",
       "10    60      2  165.139436  44.593378  \n",
       "11   120      2  165.469522  44.639023  \n",
       "12    60      2   166.48287  44.776997  \n",
       "13    60      2  166.688378  44.808119  \n",
       "14   120      2  167.026583  44.849753  \n",
       "15    60      2  169.972904  45.179358  \n",
       "16    60      2  170.175815  45.201877  \n",
       "17   120      2  170.518885  45.232575  "
      ]
     },
     "execution_count": 6,
     "metadata": {},
     "output_type": "execute_result"
    }
   ],
   "source": [
    "pnod.summary()"
   ]
  },
  {
   "cell_type": "code",
   "execution_count": null,
   "id": "4afef240-8423-4570-9248-133d4b11fc09",
   "metadata": {},
   "outputs": [],
   "source": [
    "df=pnod._ptable[0][pnod._ptable[0][\"SCAN\"].isin([32])]\n",
    "len(set(df['DATE-OBS']))"
   ]
  },
  {
   "cell_type": "code",
   "execution_count": null,
   "id": "c42b9ae6-7c0c-43de-b92b-b27e20946cf2",
   "metadata": {},
   "outputs": [],
   "source": [
    "vegas=np.array([0,32,64,96,128,160,192,224,256,288,320,352,384,416,448,480,544,576,608,640,672,\n",
    "                704,736,768,800,832,864,896,928,960,992|0,32,64,96,128,160,192,224,256,288,320,\n",
    "                352,384,416,448,480,544,576,608,640,672,704,736,768,800,832,864,896,928,960,992])"
   ]
  },
  {
   "cell_type": "code",
   "execution_count": null,
   "id": "6f37a42c-296d-46b2-bb92-58f53994ce40",
   "metadata": {},
   "outputs": [],
   "source": [
    "tsysidl=np.array([84.9435,82.1865,88.1306,79.4702,83.3359,82.1568,\n",
    "84.8032,87.5031,82.3827,86.6867,81.2290,83.3456,\n",
    "154.525,76.3337,121.232,107.034,122.812,122.386,\n",
    "109.684,126.385,106.435,116.182,120.199,117.069,\n",
    "55.5695,70.8444,84.2473,84.2600,84.1720,85.6708,\n",
    "83.8575,84.9475,85.0601,83.6906,82.5538,82.3467,\n",
    "111.679,114.020,115.357,118.397,105.984,115.007,\n",
    "113.603,113.097,116.426,115.867,114.906,118.247,\n",
    "65.3346,72.2251,84.1646,83.3890,84.2675,83.7073,\n",
    "83.2034,84.5122,84.7987,81.9806,83.8689,82.9380,\n",
    "103.363,111.527,113.147,101.503,108.444,116.663,\n",
    "111.407,113.278,115.310,115.436,114.451,117.825,\n",
    "73.3529,71.0150,83.4908,84.2935,82.8866,83.5213,\n",
    "85.0363,82.4940,82.6460,83.3778,82.8975,82.3562,\n",
    "90.8207,139.061,101.555,105.921,110.831,112.511,\n",
    "111.064,117.958,116.047,114.238,121.151,113.204,\n",
    "74.1397,72.0670,84.6076,84.3983,83.6667,84.0574,\n",
    "82.1753,81.9777,82.7533,83.2628,83.1251,84.4301,\n",
    "72.5894,138.020,105.265,103.819,112.595,115.162,\n",
    "116.772,115.474,114.101,114.157,115.170,112.846,\n",
    "])\n",
    "#len(tsysidl)     120                                                                                                             \n",
    "      "
   ]
  },
  {
   "cell_type": "code",
   "execution_count": null,
   "id": "4de9915e-b723-429e-b5cc-d7118cfb147e",
   "metadata": {},
   "outputs": [],
   "source": [
    "subrefdata=[0,0]\n",
    "subreffreq=[0,0]"
   ]
  },
  {
   "cell_type": "code",
   "execution_count": null,
   "id": "c8b04abf-9502-4588-a585-9db73934b47d",
   "metadata": {},
   "outputs": [],
   "source": [
    "f,d = np.loadtxt(\"/home/mpound/subref-1.ascii\",skiprows=3,unpack=True)\n",
    "subreffreq[0] =f\n",
    "subrefdata[0] =d"
   ]
  },
  {
   "cell_type": "code",
   "execution_count": null,
   "id": "be329800-331b-4566-9134-cf0018693e2f",
   "metadata": {},
   "outputs": [],
   "source": [
    "f,d = np.loadtxt(\"/home/mpound/subref+1.ascii\",skiprows=3,unpack=True)\n",
    "subreffreq[1] =f\n",
    "subrefdata[1] =d"
   ]
  },
  {
   "cell_type": "code",
   "execution_count": null,
   "id": "c9558763-ca67-464d-8141-8b7210f7977f",
   "metadata": {},
   "outputs": [],
   "source": [
    "snodka_43 = np.loadtxt(\"/home/mpound/snod43_if0_fd1_pl0.ascii\",skiprows=3,unpack=True)"
   ]
  },
  {
   "cell_type": "code",
   "execution_count": null,
   "id": "e3e6c527-77da-4e0a-b46e-72c0412474d3",
   "metadata": {},
   "outputs": [],
   "source": [
    "92*6198*(subrefdata[1]-subrefdata[0])/subrefdata[0]"
   ]
  },
  {
   "cell_type": "code",
   "execution_count": null,
   "id": "35dcb9d6-6df4-4ee0-bb52-d7ff7786c764",
   "metadata": {},
   "outputs": [],
   "source": [
    "ifnum=0\n",
    "plnum=0\n",
    "fdnum=1\n",
    "scan=43\n",
    "bintable=0\n",
    "weights='tsys'\n",
    "cal=None"
   ]
  },
  {
   "cell_type": "code",
   "execution_count": null,
   "id": "45d7d1c1-c020-47ee-aab0-336dbc63435f",
   "metadata": {},
   "outputs": [],
   "source": [
    "\n",
    "tp1=pnod.gettp(scan,cal=cal,bintable=bintable,fdnum=fdnum,plnum=plnum,ifnum=ifnum,calibrate=True,subref=-1)\n",
    "np.mean(np.abs(tp1.tsys))\n",
    "#np.mean(tp1.tsys,where=((tp1.tsys>0) and (tp1.tsys<100)))\n",
    "#w=np.where((tp1.tsys>0) &(tp1.tsys<100))[0]\n",
    "#np.mean(tp1.tsys)\n",
    "#np.shape(tp1.data)"
   ]
  },
  {
   "cell_type": "code",
   "execution_count": null,
   "id": "99b54f70-8de3-490e-84bc-468b49ceeef2",
   "metadata": {},
   "outputs": [],
   "source": [
    "tpa=tp1.timeaverage()\n",
    "tpa.plot()\n",
    "tpa.meta['TSYS']"
   ]
  },
  {
   "cell_type": "code",
   "execution_count": null,
   "id": "595c79f1-d22e-4502-9c7d-1473321a7818",
   "metadata": {},
   "outputs": [],
   "source": [
    "subref=-1\n",
    "print(tp1.timeaverage().meta[\"TCAL\"])\n",
    "df=pnod._ptable[0][pnod._ptable[0][\"SCAN\"].isin([43])]\n",
    "len(df)\n",
    "len(df[(df[\"PLNUM\"]==plnum) & (df[\"FDNUM\"] == fdnum) & ( df[\"SUBREF_STATE\"] == subref)])"
   ]
  },
  {
   "cell_type": "code",
   "execution_count": null,
   "id": "b1d417e9-e240-45d2-b59a-6be35669dea5",
   "metadata": {},
   "outputs": [],
   "source": [
    "#scan=43\n",
    "tsys = {43:92.6198,46:91.72}\n",
    "#bintable=0\n",
    "print(weights)\n",
    "tpp = pnod.gettp(scan,sig=None,cal=None,bintable=bintable,fdnum=fdnum,plnum=plnum,ifnum=ifnum)\n",
    "tpon  = pnod.gettp(scan,sig=None,cal=None,bintable=bintable,fdnum=fdnum,plnum=plnum,ifnum=ifnum,subref=-1)\n",
    "tpoff = pnod.gettp(scan,sig=None,cal=None,bintable=bintable,fdnum=fdnum,plnum=plnum,ifnum=ifnum,subref=1)\n",
    "on  =  tpon.timeaverage(weights=weights)\n",
    "off = tpoff.timeaverage(weights=weights)\n",
    "if False:\n",
    "    print(f\"ON TCAL: {on.meta['TCAL']} OFF TCAL: {off.meta['TCAL']}\")\n",
    "    print(f\"ON TSYS: {on.meta['TSYS']} OFF TSYS: {off.meta['TSYS']}\")\n",
    "    print(f\"ON WTTSYS: {on.meta['WTTSYS']} OFF WTTSYS: {off.meta['WTTSYS']}\")\n",
    "    print(f\"ON MEANTSYS: {on.meta['MEANTSYS']} OFF MEANTSYS: {off.meta['MEANTSYS']}\")\n",
    "    print(\"AVEG \",0.5*(on.meta['TSYS']+off.meta['TSYS']))\n",
    "idl=tsys[scan]*(on-off)/off\n",
    "#idl = tpp.timeaverage(weights=weights).meta['TSYS']*(on-off)/off\n",
    "print(tpp.timeaverage(weights=weights).meta['TSYS'])\n",
    "idl.plot()"
   ]
  },
  {
   "cell_type": "code",
   "execution_count": null,
   "id": "8bbb721a-e3d1-4f00-ab0d-e2b69fc199e5",
   "metadata": {},
   "outputs": [],
   "source": [
    "idl.data"
   ]
  },
  {
   "cell_type": "code",
   "execution_count": null,
   "id": "07672b85-d603-4be2-9645-9e3c05549df9",
   "metadata": {},
   "outputs": [],
   "source": [
    "tsys = {43:92.6168,46:91.72}\n",
    "#bintable=0\n",
    "print(weights)\n",
    "tpp = pnod.gettp(scan,sig=None,cal=None,bintable=bintable,fdnum=fdnum,plnum=plnum,ifnum=ifnum)\n",
    "tpon  = pnod.gettp(scan,sig=None,cal=None,bintable=bintable,fdnum=fdnum,plnum=plnum,ifnum=ifnum,subref=-1,calibrate=True)\n",
    "tpoff = pnod.gettp(scan,sig=None,cal=None,bintable=bintable,fdnum=fdnum,plnum=plnum,ifnum=ifnum,subref=1,calibrate=True)\n",
    "#on  =  tpon.total_power(0)\n",
    "#off = tpoff.total_power(0)\n",
    "tpon.calc_tsys()\n",
    "print(tpon._tsys_weight)\n",
    "on = tpon.timeaverage(weights=None)\n",
    "off = tpoff.timeaverage(weights=None)\n",
    "if False:\n",
    "    print(f\"ON TCAL: {on.meta['TCAL']} OFF TCAL: {off.meta['TCAL']}\")\n",
    "    print(f\"ON TSYS: {on.meta['TSYS']} OFF TSYS: {off.meta['TSYS']}\")\n",
    "    print(f\"ON WTTSYS: {on.meta['WTTSYS']} OFF WTTSYS: {off.meta['WTTSYS']}\")\n",
    "    print(f\"ON MEANTSYS: {on.meta['MEANTSYS']} OFF MEANTSYS: {off.meta['MEANTSYS']}\")\n",
    "    print(\"AVEG \",0.5*(on.meta['TSYS']+off.meta['TSYS']))\n",
    "idl=tsys[scan]*(on-off)/off\n",
    "#idl = tpp.timeaverage(weights=weights).meta['TSYS']*(on-off)/off\n",
    "print(tpp.timeaverage(weights=weights).meta['TSYS'])\n",
    "idl.plot()"
   ]
  },
  {
   "cell_type": "code",
   "execution_count": null,
   "id": "3fb5a964-76b2-4261-acbf-a3a70dfe319f",
   "metadata": {},
   "outputs": [],
   "source": [
    "tpoff.timeaverage().meta[\"TSYS\"]"
   ]
  },
  {
   "cell_type": "code",
   "execution_count": null,
   "id": "f515b01e-d806-44bc-82f5-f34f64fe388a",
   "metadata": {},
   "outputs": [],
   "source": [
    "len(tpon._tsys_weight)"
   ]
  },
  {
   "cell_type": "code",
   "execution_count": null,
   "id": "1529f4d2-a975-4534-8ddb-7f182da48644",
   "metadata": {},
   "outputs": [],
   "source": [
    "fn=get_pkg_data_filename(\"../src/dysh/spectra/tests/data/snodka_43_int_1_fdnum_1_ifnum_0.fits\")\n",
    "hdu=fits.open(fn)\n",
    "xx = hdu[1].data[\"DATA\"][0]\n",
    "len(xx)"
   ]
  },
  {
   "cell_type": "code",
   "execution_count": null,
   "id": "adc0881c-a72e-4530-bf8b-611a753e4848",
   "metadata": {},
   "outputs": [],
   "source": [
    "sdf=GBTFITSLoad(fn)\n",
    "sdf.summary()\n",
    "spec1=sdf.getspec(0)\n",
    "spec1.plot()\n",
    "np.mean(spec1.data-idl.data)"
   ]
  },
  {
   "cell_type": "code",
   "execution_count": null,
   "id": "0335a4c4-db14-4bb7-b4fa-953a0927e6fe",
   "metadata": {},
   "outputs": [],
   "source": [
    "fix,ax=plt.subplots()\n",
    "ax.plot(spec1.spectral_axis,spec1.data-idl.data)"
   ]
  },
  {
   "cell_type": "code",
   "execution_count": null,
   "id": "685e8728-3ca5-4e57-8117-07a3d6ffc380",
   "metadata": {},
   "outputs": [],
   "source": [
    "tpon.total_power(0).plot()\n",
    "tpoff.total_power(0).plot()\n",
    "(0.5*(tpon.total_power(0)+tpoff.total_power(0))).plot()"
   ]
  },
  {
   "cell_type": "code",
   "execution_count": null,
   "id": "5a463696-7196-4361-aed6-445e1190a4e1",
   "metadata": {},
   "outputs": [],
   "source": [
    "print(scan,ifnum,plnum,fdnum,weights)\n",
    "os = pnod.gettp(scan=scan,ifnum=ifnum,plnum=plnum,fdnum=fdnum,weights=None,calbrate=True)\n",
    "np.mean(np.abs(os.tsys)),os.tsys,len(os.tsys),len(tsysidl)\n",
    "#os.timeaverage().meta['TSYS']"
   ]
  },
  {
   "cell_type": "code",
   "execution_count": null,
   "id": "f179de1b-10ab-4119-bb34-fa840940ce74",
   "metadata": {},
   "outputs": [],
   "source": [
    "print(scan)\n",
    "se=pnod.subbeamnod(scan=scan,ifnum=ifnum,plnum=plnum,fdnum=fdnum,weights=None)\n",
    "print(se.meta['TSYS'])"
   ]
  },
  {
   "cell_type": "code",
   "execution_count": null,
   "id": "4850655d-2e5b-4214-88e6-99255e34169b",
   "metadata": {},
   "outputs": [],
   "source": []
  },
  {
   "cell_type": "code",
   "execution_count": null,
   "id": "e10dae88-82f8-49d6-ae86-203b91dbeeb6",
   "metadata": {},
   "outputs": [],
   "source": [
    "fn=get_pkg_data_filename(\"../src/dysh/spectra/tests/data/TRCO_230413_Ka_snodka_43_ifnum_0_plnum_0_fdnum_1.fits\")\n",
    "hdu=fits.open(fn)\n",
    "xx = hdu[1].data[\"DATA\"][0]\n",
    "len(xx)\n",
    "np.nanmedian(xx-snodka_43[1])"
   ]
  },
  {
   "cell_type": "code",
   "execution_count": null,
   "id": "042be26e-0c8e-40b9-b570-78a8c0589f82",
   "metadata": {},
   "outputs": [],
   "source": [
    "fn=get_pkg_data_filename(\"../src/dysh/spectra/tests/data/test2.fits\")\n",
    "hdu=fits.open(fn)\n",
    "x = hdu[1].data[\"DATA\"][0]\n",
    "len(x)"
   ]
  },
  {
   "cell_type": "code",
   "execution_count": null,
   "id": "d2849ea4-990c-4609-a138-bfbe0d13110f",
   "metadata": {},
   "outputs": [],
   "source": [
    "gbt=GBTFITSLoad(fn)\n",
    "gbt.summary()\n",
    "tp=gbt.gettp(43)\n",
    "spec=gbt.getspec(0)\n",
    "spec.plot()\n",
    "se._unit = u.ct"
   ]
  },
  {
   "cell_type": "code",
   "execution_count": null,
   "id": "27d09e3a-6e5e-4efe-9301-bca9dc5c07b5",
   "metadata": {},
   "outputs": [],
   "source": [
    "(se-s).plot()"
   ]
  },
  {
   "cell_type": "code",
   "execution_count": null,
   "id": "0c560f46-e94c-4918-8de0-3e8208257cc0",
   "metadata": {},
   "outputs": [],
   "source": [
    "s=pnod.subbeamnod(scan=scan,ifnum=ifnum,plnum=plnum,fdnum=fdnum,weights='equal',calibrate=True)\n",
    "s._unit = u.ct"
   ]
  },
  {
   "cell_type": "code",
   "execution_count": null,
   "id": "51023c1b-e654-46f0-8777-dcf1b5ca40b9",
   "metadata": {},
   "outputs": [],
   "source": [
    "s.plot()"
   ]
  },
  {
   "cell_type": "code",
   "execution_count": null,
   "id": "62f65ec9-60d1-423c-839b-be6e758857b8",
   "metadata": {},
   "outputs": [],
   "source": [
    "print(np.nanmedian(se.flux.value-x))\n",
    "se.meta['TSYS']\n",
    "fig,ax=plt.subplots()\n",
    "ax.plot(s.spectral_axis,se.flux.value-x)\n",
    "fig.savefig(\"diffequal.png\")"
   ]
  },
  {
   "cell_type": "code",
   "execution_count": null,
   "id": "320b4231-826c-4e45-b4a7-7ebb34485c0e",
   "metadata": {},
   "outputs": [],
   "source": [
    "se.data,xx"
   ]
  },
  {
   "cell_type": "code",
   "execution_count": null,
   "id": "78f95251-ba79-4991-9dd0-48c705e10e44",
   "metadata": {},
   "outputs": [],
   "source": [
    "print(np.nanmedian(s.data-snodka_43[1]))\n",
    "xx=snodka_43[1]\n",
    "print(np.nanmedian(s._spectral_axis.to(\"GHz\").value-snodka_43[0]))"
   ]
  },
  {
   "cell_type": "code",
   "execution_count": null,
   "id": "40cc2ace-48ff-42db-9edf-cd3ef72beebd",
   "metadata": {},
   "outputs": [],
   "source": [
    "print(np.nanmedian(s.flux.value-xx))\n",
    "s.meta['TSYS']\n",
    "fig,ax=plt.subplots()\n",
    "ax.plot(s.spectral_axis,s.data-xx)\n",
    "#fig.savefig(\"difftsyswt.png\")"
   ]
  },
  {
   "cell_type": "code",
   "execution_count": null,
   "id": "35296d84-2bf1-49d0-ad37-9db765f2decc",
   "metadata": {},
   "outputs": [],
   "source": [
    "fig,ax=plt.subplots()\n",
    "ax.plot(s.spectral_axis,100*(s.flux.value-xx)/xx)\n",
    "#ax.set_ylim(-0.50,0.5)\n",
    "ax.set_ylabel(\"Percent difference\")\n",
    "fig.savefig(\"subbeammod_tsysweight_diff.png\")"
   ]
  },
  {
   "cell_type": "code",
   "execution_count": null,
   "id": "f47f67cf-2c62-4eac-bb19-bd09e2969359",
   "metadata": {},
   "outputs": [],
   "source": [
    "fig,ax=plt.subplots()\n",
    "ax.plot(se.spectral_axis,100*(se.flux.value-x)/x)\n",
    "ax.set_ylim(-0.50,0.5)\n",
    "ax.set_ylabel(\"Percent difference\")\n",
    "fig.savefig(\"subbeammod_eqweight_diff.png\")"
   ]
  },
  {
   "cell_type": "markdown",
   "id": "28085a68-41a0-4dbb-a025-5f95f4839bb4",
   "metadata": {},
   "source": [
    "# np.nanmedian(se.flux.value-x)"
   ]
  },
  {
   "cell_type": "code",
   "execution_count": null,
   "id": "92fb66bb-10c3-4b2e-a0c4-8fdb36306afe",
   "metadata": {},
   "outputs": [],
   "source": [
    "se.plot()\n",
    "#s._plotter.axis.plot(s.spectral_axis,x,color='r')\n",
    "fix,ax=plt.subplots()\n",
    "ax.plot(se.spectral_axis,x,color='r')"
   ]
  },
  {
   "cell_type": "code",
   "execution_count": null,
   "id": "f652e3db-8401-4791-801f-ec91375bbf7e",
   "metadata": {},
   "outputs": [],
   "source": [
    "print(s.stats())\n",
    "s.plot()\n",
    "diff=s/idl\n",
    "diff.plot()\n",
    "print(diff.data)\n",
    "print(diff.stats())\n",
    "print(s.meta['TSYS']/tsys[scan],s.meta['TSYS']-tsys[scan])"
   ]
  },
  {
   "cell_type": "code",
   "execution_count": null,
   "id": "de425a7f-9b3f-4973-bee3-1b018bcc65d8",
   "metadata": {},
   "outputs": [],
   "source": [
    "np.nanmedian(idl.flux.value-x),np.nanmedian(diff.data)"
   ]
  },
  {
   "cell_type": "markdown",
   "id": "44542afe-67b9-473d-bcbc-7d5a75c71b41",
   "metadata": {},
   "source": [
    "-----\n",
    "# Debugging from here down."
   ]
  }
 ],
 "metadata": {
  "kernelspec": {
   "display_name": "Python 3 (ipykernel)",
   "language": "python",
   "name": "python3"
  },
  "language_info": {
   "codemirror_mode": {
    "name": "ipython",
    "version": 3
   },
   "file_extension": ".py",
   "mimetype": "text/x-python",
   "name": "python",
   "nbconvert_exporter": "python",
   "pygments_lexer": "ipython3",
   "version": "3.10.9"
  }
 },
 "nbformat": 4,
 "nbformat_minor": 5
}
