{
 "cells": [
  {
   "cell_type": "markdown",
   "id": "07d6fce6-fa90-49e4-93af-9555bc3c5dc1",
   "metadata": {},
   "source": [
    "Notebook testing the use of `timeaverage` when some of the integrations are blanked (i.e., some integrations are all NaNs)."
   ]
  },
  {
   "cell_type": "code",
   "execution_count": 1,
   "id": "86da3cf4-bb00-467c-a643-2e63ed650014",
   "metadata": {},
   "outputs": [],
   "source": [
    "%load_ext autoreload\n",
    "%autoreload 2"
   ]
  },
  {
   "cell_type": "code",
   "execution_count": 3,
   "id": "88d6f452-5199-4dd2-88bc-e54e2dd38ce0",
   "metadata": {},
   "outputs": [],
   "source": [
    "import numpy as np\n",
    "import matplotlib.pyplot as plt\n",
    "\n",
    "from astropy.io import fits\n",
    "\n",
    "from dysh import util\n",
    "from dysh.fits.gbtfitsload import GBTFITSLoad"
   ]
  },
  {
   "cell_type": "code",
   "execution_count": 4,
   "id": "eb60f596-62c3-4bae-bc60-3de495f3a229",
   "metadata": {},
   "outputs": [],
   "source": [
    "# Point it to the testdata directory.\n",
    "proj_path = f\"{util.get_project_testdata()}/TGBT21A_501_11/NGC2782_blanks/\"\n",
    "data_path = f\"{proj_path}/NGC2782.raw.vegas.A.fits\""
   ]
  },
  {
   "cell_type": "code",
   "execution_count": 5,
   "id": "fdc011ab-00c3-4856-afe1-875c6100806a",
   "metadata": {},
   "outputs": [],
   "source": [
    "sdf = GBTFITSLoad(data_path)"
   ]
  },
  {
   "cell_type": "code",
   "execution_count": 6,
   "id": "f4c64c1a-b134-4fc3-aaf4-6141855ca859",
   "metadata": {},
   "outputs": [
    {
     "data": {
      "text/html": [
       "<div>\n",
       "<style scoped>\n",
       "    .dataframe tbody tr th:only-of-type {\n",
       "        vertical-align: middle;\n",
       "    }\n",
       "\n",
       "    .dataframe tbody tr th {\n",
       "        vertical-align: top;\n",
       "    }\n",
       "\n",
       "    .dataframe thead th {\n",
       "        text-align: right;\n",
       "    }\n",
       "</style>\n",
       "<table border=\"1\" class=\"dataframe\">\n",
       "  <thead>\n",
       "    <tr style=\"text-align: right;\">\n",
       "      <th></th>\n",
       "      <th>SCAN</th>\n",
       "      <th>OBJECT</th>\n",
       "      <th>VELOCITY</th>\n",
       "      <th>PROC</th>\n",
       "      <th>PROCSEQN</th>\n",
       "      <th>RESTFREQ</th>\n",
       "      <th>DOPFREQ</th>\n",
       "      <th># IF</th>\n",
       "      <th># POL</th>\n",
       "      <th># INT</th>\n",
       "      <th># FEED</th>\n",
       "      <th>AZIMUTH</th>\n",
       "      <th>ELEVATIO</th>\n",
       "    </tr>\n",
       "  </thead>\n",
       "  <tbody>\n",
       "    <tr>\n",
       "      <th>0</th>\n",
       "      <td>156</td>\n",
       "      <td>NGC2782</td>\n",
       "      <td>2543.139777</td>\n",
       "      <td>OnOff</td>\n",
       "      <td>1</td>\n",
       "      <td>1.617185</td>\n",
       "      <td>1.420406</td>\n",
       "      <td>5</td>\n",
       "      <td>2</td>\n",
       "      <td>2</td>\n",
       "      <td>1</td>\n",
       "      <td>286.482849</td>\n",
       "      <td>57.301769</td>\n",
       "    </tr>\n",
       "    <tr>\n",
       "      <th>1</th>\n",
       "      <td>157</td>\n",
       "      <td>NGC2782</td>\n",
       "      <td>2543.139777</td>\n",
       "      <td>OnOff</td>\n",
       "      <td>2</td>\n",
       "      <td>1.617185</td>\n",
       "      <td>1.420406</td>\n",
       "      <td>5</td>\n",
       "      <td>2</td>\n",
       "      <td>2</td>\n",
       "      <td>1</td>\n",
       "      <td>286.132025</td>\n",
       "      <td>58.249648</td>\n",
       "    </tr>\n",
       "  </tbody>\n",
       "</table>\n",
       "</div>"
      ],
      "text/plain": [
       "   SCAN   OBJECT     VELOCITY   PROC  PROCSEQN  RESTFREQ   DOPFREQ # IF # POL  \\\n",
       "0   156  NGC2782  2543.139777  OnOff         1  1.617185  1.420406    5     2   \n",
       "1   157  NGC2782  2543.139777  OnOff         2  1.617185  1.420406    5     2   \n",
       "\n",
       "  # INT # FEED     AZIMUTH   ELEVATIO  \n",
       "0     2      1  286.482849  57.301769  \n",
       "1     2      1  286.132025  58.249648  "
      ]
     },
     "execution_count": 6,
     "metadata": {},
     "output_type": "execute_result"
    }
   ],
   "source": [
    "sdf.summary()"
   ]
  },
  {
   "cell_type": "markdown",
   "id": "25e8d34c-9d68-4236-b9d5-89a15eb6d538",
   "metadata": {},
   "source": [
    "Try to calibrate and timeaverage the `OnOff` scan."
   ]
  },
  {
   "cell_type": "code",
   "execution_count": 19,
   "id": "2faa5aac-1def-4ede-97fb-96a5be6c8c21",
   "metadata": {},
   "outputs": [
    {
     "name": "stdout",
     "output_type": "stream",
     "text": [
      "FILE  /home/sandboxes/psalas/Dysh/dysh/testdata/TGBT21A_501_11/NGC2782_blanks//NGC2782.raw.vegas.A.fits\n",
      "FILE  /home/sandboxes/psalas/Dysh/dysh/testdata/TGBT21A_501_11/NGC2782_blanks//NGC2782.raw.vegas.A.fits\n"
     ]
    },
    {
     "name": "stderr",
     "output_type": "stream",
     "text": [
      "/home/sandboxes/psalas/Dysh/dysh/src/dysh/spectra/core.py:364: RuntimeWarning: Mean of empty slice\n",
      "  meandiff = np.nanmean(calon[chrng] - caloff[chrng])\n"
     ]
    },
    {
     "data": {
      "text/plain": [
       "(2, 32768)"
      ]
     },
     "execution_count": 19,
     "metadata": {},
     "output_type": "execute_result"
    }
   ],
   "source": [
    "ps_sb = sdf.getps([156])\n",
    "ps_sb[0]._calibrated.shape"
   ]
  },
  {
   "cell_type": "code",
   "execution_count": 20,
   "id": "3f7907ea-77b7-4bb0-a917-7a981a03f41c",
   "metadata": {},
   "outputs": [],
   "source": [
    "s=ps_sb.data[0].timeaverage(None)"
   ]
  },
  {
   "cell_type": "code",
   "execution_count": 21,
   "id": "6e0e7197-9e91-4c59-b500-321341c5ab7b",
   "metadata": {},
   "outputs": [],
   "source": [
    "ta = ps_sb.timeaverage()"
   ]
  },
  {
   "cell_type": "code",
   "execution_count": 22,
   "id": "67cee60a-0d2a-47cd-b501-706b3cfe6b0a",
   "metadata": {},
   "outputs": [
    {
     "data": {
      "text/plain": [
       "(2, 32768)"
      ]
     },
     "execution_count": 22,
     "metadata": {},
     "output_type": "execute_result"
    }
   ],
   "source": [
    "ps_sb.data[0]._calibrated.shape"
   ]
  },
  {
   "cell_type": "markdown",
   "id": "5f32fceb-6d2d-49b7-803f-8132a9f047d5",
   "metadata": {},
   "source": [
    "The time average is all NaNs because one, or more, of the integrations were blanked."
   ]
  },
  {
   "cell_type": "code",
   "execution_count": 25,
   "id": "443f59c8-6c76-43d1-9c14-333433540dfb",
   "metadata": {},
   "outputs": [
    {
     "name": "stdout",
     "output_type": "stream",
     "text": [
      "Are all the values NaN? False\n"
     ]
    }
   ],
   "source": [
    "all_nan = np.isnan(ta[0].flux.value).sum() == len(ta[0].flux)\n",
    "print(f\"Are all the values NaN? {all_nan}\")\n",
    "assert ~all_nan"
   ]
  },
  {
   "cell_type": "markdown",
   "id": "e0ccc2e1-60c9-41e0-9cba-feb5b0e6d11d",
   "metadata": {},
   "source": [
    "Let's try to find the blanked integrations. Most likely these are the last integrations of a scan."
   ]
  },
  {
   "cell_type": "code",
   "execution_count": 30,
   "id": "460b8946-ea31-4374-9c06-2b7ff45d8b99",
   "metadata": {},
   "outputs": [
    {
     "name": "stdout",
     "output_type": "stream",
     "text": [
      "Integration 1 is all NaNs\n"
     ]
    }
   ],
   "source": [
    "for i in range(len(ps_sb[0]._calibrated)):\n",
    "    if np.isnan(ps_sb[0].calibrated(i).flux.value).sum() == len(ta[0].flux):\n",
    "        print(f\"Integration {i} is all NaNs\")"
   ]
  },
  {
   "cell_type": "code",
   "execution_count": 27,
   "id": "2fd4afd3-3fc6-4da4-bf52-130120477f99",
   "metadata": {},
   "outputs": [
    {
     "data": {
      "text/plain": [
       "0.0"
      ]
     },
     "execution_count": 27,
     "metadata": {},
     "output_type": "execute_result"
    }
   ],
   "source": [
    "ps_sb[0].calibrated(0).meta[\"EXPOSURE\"] - ta[0].meta[\"EXPOSURE\"]"
   ]
  },
  {
   "cell_type": "code",
   "execution_count": 29,
   "id": "a0437c1c-c2a1-4d37-8d56-05b3e7702000",
   "metadata": {},
   "outputs": [
    {
     "data": {
      "text/plain": [
       "True"
      ]
     },
     "execution_count": 29,
     "metadata": {},
     "output_type": "execute_result"
    }
   ],
   "source": [
    "abs(ps_sb[0].calibrated(0).meta[\"TSYS\"] - ta[0].meta[\"TSYS\"]) < 5e-16"
   ]
  },
  {
   "cell_type": "code",
   "execution_count": 31,
   "id": "174fb21d-df68-4039-9822-3756339792b0",
   "metadata": {},
   "outputs": [
    {
     "data": {
      "text/plain": [
       "True"
      ]
     },
     "execution_count": 31,
     "metadata": {},
     "output_type": "execute_result"
    }
   ],
   "source": [
    "np.all((ps_sb[0].calibrated(0).flux.value - ta[0].flux.value) < 2e-19)"
   ]
  },
  {
   "cell_type": "code",
   "execution_count": 18,
   "id": "2c2134f7-7eb2-4599-ab74-c678ab5e2027",
   "metadata": {},
   "outputs": [
    {
     "data": {
      "text/plain": [
       "[<matplotlib.lines.Line2D at 0x7fe82f46c350>]"
      ]
     },
     "execution_count": 18,
     "metadata": {},
     "output_type": "execute_result"
    },
    {
     "data": {
      "image/png": "[encoded data removed]",
      "text/plain": [
       "<Figure size 640x480 with 1 Axes>"
      ]
     },
     "metadata": {},
     "output_type": "display_data"
    }
   ],
   "source": [
    "plt.figure()\n",
    "plt.plot(ps_sb[0].calibrated(0).flux.value - ta[0].flux.value)"
   ]
  },
  {
   "cell_type": "code",
   "execution_count": 21,
   "id": "0841ba12-b04b-4919-8304-59232a3d3d23",
   "metadata": {},
   "outputs": [
    {
     "data": {
      "text/plain": [
       "<Spectrum1D(flux=<Quantity [nan, nan, nan, ..., nan, nan, nan] K>, spectral_axis=<SpectralAxis \n",
       "   (observer to target:\n",
       "      radial_velocity=0.0 km / s\n",
       "      redshift=0.0\n",
       "    doppler_rest=1420405751.7 Hz\n",
       "    doppler_convention=optical)\n",
       "  [1.42006309e+09, 1.42006238e+09, 1.42006166e+09, ..., 1.39662774e+09,\n",
       "   1.39662703e+09, 1.39662631e+09] Hz>)>"
      ]
     },
     "execution_count": 21,
     "metadata": {},
     "output_type": "execute_result"
    }
   ],
   "source": [
    "ps_sb[0].calibrated(1)"
   ]
  },
  {
   "cell_type": "code",
   "execution_count": null,
   "id": "76547d4b-ae3c-4c30-b951-91729ff6fa90",
   "metadata": {},
   "outputs": [],
   "source": []
  }
 ],
 "metadata": {
  "kernelspec": {
   "display_name": "Python 3 (ipykernel)",
   "language": "python",
   "name": "python3"
  },
  "language_info": {
   "codemirror_mode": {
    "name": "ipython",
    "version": 3
   },
   "file_extension": ".py",
   "mimetype": "text/x-python",
   "name": "python",
   "nbconvert_exporter": "python",
   "pygments_lexer": "ipython3",
   "version": "3.11.6"
  }
 },
 "nbformat": 4,
 "nbformat_minor": 5
}
