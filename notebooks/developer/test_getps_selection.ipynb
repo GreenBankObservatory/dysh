{
 "cells": [
  {
   "cell_type": "markdown",
   "id": "72ac00fa-6dc0-4dd1-bd61-1889ab448fd0",
   "metadata": {},
   "source": [
    "## This notebook shows how calibrating PS data using the selection mechanism works.\n",
    "It also compares results to the old getps method."
   ]
  },
  {
   "cell_type": "code",
   "execution_count": 1,
   "id": "bbfbdd58-b103-4e15-8801-2dc6e68d7764",
   "metadata": {},
   "outputs": [],
   "source": [
    "import numpy as np\n",
    "from astropy.io import fits\n",
    "import dysh.util as util\n",
    "from dysh.util import sq_weighted_avg\n",
    "from dysh.fits.gbtfitsload import GBTFITSLoad\n",
    "from copy import deepcopy\n",
    "import os\n",
    "import wget\n",
    "#from dysh.coordinates import Observatory"
   ]
  },
  {
   "cell_type": "code",
   "execution_count": 2,
   "id": "f6e9a47f-ca87-4e36-b132-6fa7152f9995",
   "metadata": {},
   "outputs": [],
   "source": [
    "# The folder with the SDFITS files.\n",
    "# for testing on GBO replace data_dir with /home/dysh\n",
    "data_dir = \"/bigdisk/data/gbt/\"\n",
    "data_file = data_dir+ \"examples/onoff-L/data/TGBT21A_501_11.raw.vegas\""
   ]
  },
  {
   "cell_type": "code",
   "execution_count": 3,
   "id": "65a2a2c3-763a-4ac2-8311-4cc12d431cc6",
   "metadata": {},
   "outputs": [
    {
     "data": {
      "text/html": [
       "<div>\n",
       "<style scoped>\n",
       "    .dataframe tbody tr th:only-of-type {\n",
       "        vertical-align: middle;\n",
       "    }\n",
       "\n",
       "    .dataframe tbody tr th {\n",
       "        vertical-align: top;\n",
       "    }\n",
       "\n",
       "    .dataframe thead th {\n",
       "        text-align: right;\n",
       "    }\n",
       "</style>\n",
       "<table border=\"1\" class=\"dataframe\">\n",
       "  <thead>\n",
       "    <tr style=\"text-align: right;\">\n",
       "      <th></th>\n",
       "      <th>SCAN</th>\n",
       "      <th>OBJECT</th>\n",
       "      <th>VELOCITY</th>\n",
       "      <th>PROC</th>\n",
       "      <th>PROCSEQN</th>\n",
       "      <th>RESTFREQ</th>\n",
       "      <th>DOPFREQ</th>\n",
       "      <th># IF</th>\n",
       "      <th># POL</th>\n",
       "      <th># INT</th>\n",
       "      <th># FEED</th>\n",
       "      <th>AZIMUTH</th>\n",
       "      <th>ELEVATIO</th>\n",
       "    </tr>\n",
       "  </thead>\n",
       "  <tbody>\n",
       "    <tr>\n",
       "      <th>0</th>\n",
       "      <td>144</td>\n",
       "      <td>PSR_B0329+54</td>\n",
       "      <td>0.0</td>\n",
       "      <td>Track</td>\n",
       "      <td>1</td>\n",
       "      <td>1.617185</td>\n",
       "      <td>1.420406</td>\n",
       "      <td>5</td>\n",
       "      <td>2</td>\n",
       "      <td>3700</td>\n",
       "      <td>1</td>\n",
       "      <td>327.088873</td>\n",
       "      <td>17.777965</td>\n",
       "    </tr>\n",
       "    <tr>\n",
       "      <th>1</th>\n",
       "      <td>152</td>\n",
       "      <td>NGC2415</td>\n",
       "      <td>3784.0</td>\n",
       "      <td>OnOff</td>\n",
       "      <td>1</td>\n",
       "      <td>1.617185</td>\n",
       "      <td>1.420406</td>\n",
       "      <td>5</td>\n",
       "      <td>2</td>\n",
       "      <td>151</td>\n",
       "      <td>1</td>\n",
       "      <td>286.218008</td>\n",
       "      <td>41.62843</td>\n",
       "    </tr>\n",
       "    <tr>\n",
       "      <th>2</th>\n",
       "      <td>153</td>\n",
       "      <td>NGC2415</td>\n",
       "      <td>3784.0</td>\n",
       "      <td>OnOff</td>\n",
       "      <td>2</td>\n",
       "      <td>1.617185</td>\n",
       "      <td>1.420406</td>\n",
       "      <td>5</td>\n",
       "      <td>2</td>\n",
       "      <td>151</td>\n",
       "      <td>1</td>\n",
       "      <td>286.886521</td>\n",
       "      <td>41.118134</td>\n",
       "    </tr>\n",
       "    <tr>\n",
       "      <th>3</th>\n",
       "      <td>154</td>\n",
       "      <td>3C196</td>\n",
       "      <td>0.0</td>\n",
       "      <td>OnOff</td>\n",
       "      <td>1</td>\n",
       "      <td>1.617185</td>\n",
       "      <td>1.420406</td>\n",
       "      <td>5</td>\n",
       "      <td>2</td>\n",
       "      <td>16</td>\n",
       "      <td>1</td>\n",
       "      <td>302.408541</td>\n",
       "      <td>49.254842</td>\n",
       "    </tr>\n",
       "    <tr>\n",
       "      <th>4</th>\n",
       "      <td>155</td>\n",
       "      <td>3C196</td>\n",
       "      <td>0.0</td>\n",
       "      <td>OnOff</td>\n",
       "      <td>2</td>\n",
       "      <td>1.617185</td>\n",
       "      <td>1.420406</td>\n",
       "      <td>5</td>\n",
       "      <td>2</td>\n",
       "      <td>16</td>\n",
       "      <td>1</td>\n",
       "      <td>303.968672</td>\n",
       "      <td>49.159197</td>\n",
       "    </tr>\n",
       "    <tr>\n",
       "      <th>5</th>\n",
       "      <td>156</td>\n",
       "      <td>NGC2782</td>\n",
       "      <td>2543.139777</td>\n",
       "      <td>OnOff</td>\n",
       "      <td>1</td>\n",
       "      <td>1.617185</td>\n",
       "      <td>1.420406</td>\n",
       "      <td>5</td>\n",
       "      <td>2</td>\n",
       "      <td>76</td>\n",
       "      <td>1</td>\n",
       "      <td>286.315641</td>\n",
       "      <td>57.760857</td>\n",
       "    </tr>\n",
       "    <tr>\n",
       "      <th>6</th>\n",
       "      <td>157</td>\n",
       "      <td>NGC2782</td>\n",
       "      <td>2543.139777</td>\n",
       "      <td>OnOff</td>\n",
       "      <td>2</td>\n",
       "      <td>1.617185</td>\n",
       "      <td>1.420406</td>\n",
       "      <td>5</td>\n",
       "      <td>2</td>\n",
       "      <td>76</td>\n",
       "      <td>1</td>\n",
       "      <td>285.968174</td>\n",
       "      <td>58.709599</td>\n",
       "    </tr>\n",
       "    <tr>\n",
       "      <th>7</th>\n",
       "      <td>158</td>\n",
       "      <td>NGC2782</td>\n",
       "      <td>2543.139777</td>\n",
       "      <td>OnOff</td>\n",
       "      <td>1</td>\n",
       "      <td>1.617185</td>\n",
       "      <td>1.420406</td>\n",
       "      <td>5</td>\n",
       "      <td>2</td>\n",
       "      <td>76</td>\n",
       "      <td>1</td>\n",
       "      <td>287.067642</td>\n",
       "      <td>55.736551</td>\n",
       "    </tr>\n",
       "    <tr>\n",
       "      <th>8</th>\n",
       "      <td>159</td>\n",
       "      <td>NGC2782</td>\n",
       "      <td>2543.139777</td>\n",
       "      <td>OnOff</td>\n",
       "      <td>2</td>\n",
       "      <td>1.617185</td>\n",
       "      <td>1.420406</td>\n",
       "      <td>5</td>\n",
       "      <td>2</td>\n",
       "      <td>76</td>\n",
       "      <td>1</td>\n",
       "      <td>286.705791</td>\n",
       "      <td>56.681541</td>\n",
       "    </tr>\n",
       "    <tr>\n",
       "      <th>9</th>\n",
       "      <td>167</td>\n",
       "      <td>ScoX-1</td>\n",
       "      <td>0.0</td>\n",
       "      <td>OnOff</td>\n",
       "      <td>1</td>\n",
       "      <td>5.375</td>\n",
       "      <td>4.5</td>\n",
       "      <td>8</td>\n",
       "      <td>2</td>\n",
       "      <td>11</td>\n",
       "      <td>1</td>\n",
       "      <td>126.125201</td>\n",
       "      <td>16.227996</td>\n",
       "    </tr>\n",
       "    <tr>\n",
       "      <th>10</th>\n",
       "      <td>168</td>\n",
       "      <td>ScoX-1</td>\n",
       "      <td>0.0</td>\n",
       "      <td>OnOff</td>\n",
       "      <td>2</td>\n",
       "      <td>5.375</td>\n",
       "      <td>4.5</td>\n",
       "      <td>8</td>\n",
       "      <td>2</td>\n",
       "      <td>11</td>\n",
       "      <td>1</td>\n",
       "      <td>124.670312</td>\n",
       "      <td>14.994732</td>\n",
       "    </tr>\n",
       "    <tr>\n",
       "      <th>11</th>\n",
       "      <td>169</td>\n",
       "      <td>ScoX-1</td>\n",
       "      <td>0.0</td>\n",
       "      <td>OnOff</td>\n",
       "      <td>1</td>\n",
       "      <td>5.375</td>\n",
       "      <td>4.5</td>\n",
       "      <td>8</td>\n",
       "      <td>2</td>\n",
       "      <td>11</td>\n",
       "      <td>1</td>\n",
       "      <td>126.326176</td>\n",
       "      <td>16.395182</td>\n",
       "    </tr>\n",
       "    <tr>\n",
       "      <th>12</th>\n",
       "      <td>170</td>\n",
       "      <td>ScoX-1</td>\n",
       "      <td>0.0</td>\n",
       "      <td>OnOff</td>\n",
       "      <td>2</td>\n",
       "      <td>5.375</td>\n",
       "      <td>4.5</td>\n",
       "      <td>8</td>\n",
       "      <td>2</td>\n",
       "      <td>7</td>\n",
       "      <td>1</td>\n",
       "      <td>124.863141</td>\n",
       "      <td>15.161276</td>\n",
       "    </tr>\n",
       "    <tr>\n",
       "      <th>13</th>\n",
       "      <td>171</td>\n",
       "      <td>ScoX-1</td>\n",
       "      <td>0.0</td>\n",
       "      <td>OnOff</td>\n",
       "      <td>1</td>\n",
       "      <td>5.375</td>\n",
       "      <td>4.5</td>\n",
       "      <td>8</td>\n",
       "      <td>2</td>\n",
       "      <td>11</td>\n",
       "      <td>1</td>\n",
       "      <td>126.535821</td>\n",
       "      <td>16.568273</td>\n",
       "    </tr>\n",
       "    <tr>\n",
       "      <th>14</th>\n",
       "      <td>172</td>\n",
       "      <td>ScoX-1</td>\n",
       "      <td>0.0</td>\n",
       "      <td>OnOff</td>\n",
       "      <td>2</td>\n",
       "      <td>5.375</td>\n",
       "      <td>4.5</td>\n",
       "      <td>8</td>\n",
       "      <td>2</td>\n",
       "      <td>12</td>\n",
       "      <td>1</td>\n",
       "      <td>125.073374</td>\n",
       "      <td>15.342359</td>\n",
       "    </tr>\n",
       "    <tr>\n",
       "      <th>15</th>\n",
       "      <td>173</td>\n",
       "      <td>ScoX-1</td>\n",
       "      <td>0.0</td>\n",
       "      <td>OnOff</td>\n",
       "      <td>1</td>\n",
       "      <td>5.375</td>\n",
       "      <td>4.5</td>\n",
       "      <td>8</td>\n",
       "      <td>2</td>\n",
       "      <td>11</td>\n",
       "      <td>1</td>\n",
       "      <td>126.73856</td>\n",
       "      <td>16.735803</td>\n",
       "    </tr>\n",
       "    <tr>\n",
       "      <th>16</th>\n",
       "      <td>174</td>\n",
       "      <td>ScoX-1</td>\n",
       "      <td>0.0</td>\n",
       "      <td>OnOff</td>\n",
       "      <td>2</td>\n",
       "      <td>5.375</td>\n",
       "      <td>4.5</td>\n",
       "      <td>8</td>\n",
       "      <td>2</td>\n",
       "      <td>12</td>\n",
       "      <td>1</td>\n",
       "      <td>125.282656</td>\n",
       "      <td>15.520965</td>\n",
       "    </tr>\n",
       "    <tr>\n",
       "      <th>17</th>\n",
       "      <td>175</td>\n",
       "      <td>ScoX-1</td>\n",
       "      <td>0.0</td>\n",
       "      <td>OnOff</td>\n",
       "      <td>1</td>\n",
       "      <td>5.375</td>\n",
       "      <td>4.5</td>\n",
       "      <td>8</td>\n",
       "      <td>2</td>\n",
       "      <td>11</td>\n",
       "      <td>1</td>\n",
       "      <td>126.95256</td>\n",
       "      <td>16.910736</td>\n",
       "    </tr>\n",
       "    <tr>\n",
       "      <th>18</th>\n",
       "      <td>176</td>\n",
       "      <td>ScoX-1</td>\n",
       "      <td>0.0</td>\n",
       "      <td>OnOff</td>\n",
       "      <td>2</td>\n",
       "      <td>5.375</td>\n",
       "      <td>4.5</td>\n",
       "      <td>8</td>\n",
       "      <td>2</td>\n",
       "      <td>11</td>\n",
       "      <td>1</td>\n",
       "      <td>125.482328</td>\n",
       "      <td>15.691038</td>\n",
       "    </tr>\n",
       "    <tr>\n",
       "      <th>19</th>\n",
       "      <td>177</td>\n",
       "      <td>ScoX-1</td>\n",
       "      <td>0.0</td>\n",
       "      <td>OnOff</td>\n",
       "      <td>1</td>\n",
       "      <td>5.375</td>\n",
       "      <td>4.5</td>\n",
       "      <td>8</td>\n",
       "      <td>2</td>\n",
       "      <td>11</td>\n",
       "      <td>1</td>\n",
       "      <td>127.156983</td>\n",
       "      <td>17.077335</td>\n",
       "    </tr>\n",
       "    <tr>\n",
       "      <th>20</th>\n",
       "      <td>178</td>\n",
       "      <td>ScoX-1</td>\n",
       "      <td>0.0</td>\n",
       "      <td>OnOff</td>\n",
       "      <td>2</td>\n",
       "      <td>5.375</td>\n",
       "      <td>4.5</td>\n",
       "      <td>8</td>\n",
       "      <td>2</td>\n",
       "      <td>11</td>\n",
       "      <td>1</td>\n",
       "      <td>125.682936</td>\n",
       "      <td>15.860763</td>\n",
       "    </tr>\n",
       "    <tr>\n",
       "      <th>21</th>\n",
       "      <td>179</td>\n",
       "      <td>ScoX-1</td>\n",
       "      <td>0.0</td>\n",
       "      <td>OnOff</td>\n",
       "      <td>1</td>\n",
       "      <td>5.375</td>\n",
       "      <td>4.5</td>\n",
       "      <td>8</td>\n",
       "      <td>2</td>\n",
       "      <td>11</td>\n",
       "      <td>1</td>\n",
       "      <td>127.362011</td>\n",
       "      <td>17.24349</td>\n",
       "    </tr>\n",
       "    <tr>\n",
       "      <th>22</th>\n",
       "      <td>180</td>\n",
       "      <td>ScoX-1</td>\n",
       "      <td>0.0</td>\n",
       "      <td>OnOff</td>\n",
       "      <td>2</td>\n",
       "      <td>5.375</td>\n",
       "      <td>4.5</td>\n",
       "      <td>8</td>\n",
       "      <td>2</td>\n",
       "      <td>12</td>\n",
       "      <td>1</td>\n",
       "      <td>125.882555</td>\n",
       "      <td>16.030037</td>\n",
       "    </tr>\n",
       "    <tr>\n",
       "      <th>23</th>\n",
       "      <td>181</td>\n",
       "      <td>ScoX-1</td>\n",
       "      <td>0.0</td>\n",
       "      <td>OnOff</td>\n",
       "      <td>1</td>\n",
       "      <td>5.375</td>\n",
       "      <td>4.5</td>\n",
       "      <td>8</td>\n",
       "      <td>2</td>\n",
       "      <td>12</td>\n",
       "      <td>1</td>\n",
       "      <td>127.56816</td>\n",
       "      <td>17.40928</td>\n",
       "    </tr>\n",
       "    <tr>\n",
       "      <th>24</th>\n",
       "      <td>182</td>\n",
       "      <td>ScoX-1</td>\n",
       "      <td>0.0</td>\n",
       "      <td>OnOff</td>\n",
       "      <td>2</td>\n",
       "      <td>5.375</td>\n",
       "      <td>4.5</td>\n",
       "      <td>8</td>\n",
       "      <td>2</td>\n",
       "      <td>11</td>\n",
       "      <td>1</td>\n",
       "      <td>126.08609</td>\n",
       "      <td>16.198928</td>\n",
       "    </tr>\n",
       "    <tr>\n",
       "      <th>25</th>\n",
       "      <td>183</td>\n",
       "      <td>ScoX-1</td>\n",
       "      <td>0.0</td>\n",
       "      <td>OnOff</td>\n",
       "      <td>1</td>\n",
       "      <td>5.375</td>\n",
       "      <td>4.5</td>\n",
       "      <td>8</td>\n",
       "      <td>2</td>\n",
       "      <td>12</td>\n",
       "      <td>1</td>\n",
       "      <td>127.774534</td>\n",
       "      <td>17.57449</td>\n",
       "    </tr>\n",
       "    <tr>\n",
       "      <th>26</th>\n",
       "      <td>184</td>\n",
       "      <td>ScoX-1</td>\n",
       "      <td>0.0</td>\n",
       "      <td>OnOff</td>\n",
       "      <td>2</td>\n",
       "      <td>5.375</td>\n",
       "      <td>4.5</td>\n",
       "      <td>8</td>\n",
       "      <td>2</td>\n",
       "      <td>11</td>\n",
       "      <td>1</td>\n",
       "      <td>126.288175</td>\n",
       "      <td>16.367402</td>\n",
       "    </tr>\n",
       "    <tr>\n",
       "      <th>27</th>\n",
       "      <td>185</td>\n",
       "      <td>ScoX-1</td>\n",
       "      <td>0.0</td>\n",
       "      <td>OnOff</td>\n",
       "      <td>1</td>\n",
       "      <td>5.375</td>\n",
       "      <td>4.5</td>\n",
       "      <td>8</td>\n",
       "      <td>2</td>\n",
       "      <td>11</td>\n",
       "      <td>1</td>\n",
       "      <td>127.982186</td>\n",
       "      <td>17.739357</td>\n",
       "    </tr>\n",
       "    <tr>\n",
       "      <th>28</th>\n",
       "      <td>186</td>\n",
       "      <td>ScoX-1</td>\n",
       "      <td>0.0</td>\n",
       "      <td>OnOff</td>\n",
       "      <td>2</td>\n",
       "      <td>5.375</td>\n",
       "      <td>4.5</td>\n",
       "      <td>8</td>\n",
       "      <td>2</td>\n",
       "      <td>11</td>\n",
       "      <td>1</td>\n",
       "      <td>126.490445</td>\n",
       "      <td>16.535379</td>\n",
       "    </tr>\n",
       "    <tr>\n",
       "      <th>29</th>\n",
       "      <td>187</td>\n",
       "      <td>ScoX-1</td>\n",
       "      <td>0.0</td>\n",
       "      <td>OnOff</td>\n",
       "      <td>1</td>\n",
       "      <td>5.375</td>\n",
       "      <td>4.5</td>\n",
       "      <td>8</td>\n",
       "      <td>2</td>\n",
       "      <td>11</td>\n",
       "      <td>1</td>\n",
       "      <td>128.189736</td>\n",
       "      <td>17.903636</td>\n",
       "    </tr>\n",
       "    <tr>\n",
       "      <th>30</th>\n",
       "      <td>188</td>\n",
       "      <td>ScoX-1</td>\n",
       "      <td>0.0</td>\n",
       "      <td>OnOff</td>\n",
       "      <td>2</td>\n",
       "      <td>5.375</td>\n",
       "      <td>4.5</td>\n",
       "      <td>8</td>\n",
       "      <td>2</td>\n",
       "      <td>11</td>\n",
       "      <td>1</td>\n",
       "      <td>126.694161</td>\n",
       "      <td>16.703051</td>\n",
       "    </tr>\n",
       "    <tr>\n",
       "      <th>31</th>\n",
       "      <td>189</td>\n",
       "      <td>ScoX-1</td>\n",
       "      <td>0.0</td>\n",
       "      <td>OnOff</td>\n",
       "      <td>1</td>\n",
       "      <td>5.375</td>\n",
       "      <td>4.5</td>\n",
       "      <td>8</td>\n",
       "      <td>2</td>\n",
       "      <td>11</td>\n",
       "      <td>1</td>\n",
       "      <td>128.397909</td>\n",
       "      <td>18.067636</td>\n",
       "    </tr>\n",
       "    <tr>\n",
       "      <th>32</th>\n",
       "      <td>190</td>\n",
       "      <td>ScoX-1</td>\n",
       "      <td>0.0</td>\n",
       "      <td>OnOff</td>\n",
       "      <td>2</td>\n",
       "      <td>5.375</td>\n",
       "      <td>4.5</td>\n",
       "      <td>8</td>\n",
       "      <td>2</td>\n",
       "      <td>11</td>\n",
       "      <td>1</td>\n",
       "      <td>126.897075</td>\n",
       "      <td>16.87017</td>\n",
       "    </tr>\n",
       "    <tr>\n",
       "      <th>33</th>\n",
       "      <td>191</td>\n",
       "      <td>ScoX-1</td>\n",
       "      <td>0.0</td>\n",
       "      <td>OnOff</td>\n",
       "      <td>1</td>\n",
       "      <td>5.375</td>\n",
       "      <td>4.5</td>\n",
       "      <td>8</td>\n",
       "      <td>2</td>\n",
       "      <td>12</td>\n",
       "      <td>1</td>\n",
       "      <td>128.606498</td>\n",
       "      <td>18.231054</td>\n",
       "    </tr>\n",
       "    <tr>\n",
       "      <th>34</th>\n",
       "      <td>192</td>\n",
       "      <td>ScoX-1</td>\n",
       "      <td>0.0</td>\n",
       "      <td>OnOff</td>\n",
       "      <td>2</td>\n",
       "      <td>5.375</td>\n",
       "      <td>4.5</td>\n",
       "      <td>8</td>\n",
       "      <td>2</td>\n",
       "      <td>11</td>\n",
       "      <td>1</td>\n",
       "      <td>127.102692</td>\n",
       "      <td>17.036944</td>\n",
       "    </tr>\n",
       "    <tr>\n",
       "      <th>35</th>\n",
       "      <td>193</td>\n",
       "      <td>ScoX-1</td>\n",
       "      <td>0.0</td>\n",
       "      <td>OnOff</td>\n",
       "      <td>1</td>\n",
       "      <td>5.375</td>\n",
       "      <td>4.5</td>\n",
       "      <td>8</td>\n",
       "      <td>2</td>\n",
       "      <td>11</td>\n",
       "      <td>1</td>\n",
       "      <td>128.816022</td>\n",
       "      <td>18.394082</td>\n",
       "    </tr>\n",
       "    <tr>\n",
       "      <th>36</th>\n",
       "      <td>194</td>\n",
       "      <td>ScoX-1</td>\n",
       "      <td>0.0</td>\n",
       "      <td>OnOff</td>\n",
       "      <td>2</td>\n",
       "      <td>5.375</td>\n",
       "      <td>4.5</td>\n",
       "      <td>8</td>\n",
       "      <td>2</td>\n",
       "      <td>12</td>\n",
       "      <td>1</td>\n",
       "      <td>127.307511</td>\n",
       "      <td>17.20324</td>\n",
       "    </tr>\n",
       "    <tr>\n",
       "      <th>37</th>\n",
       "      <td>195</td>\n",
       "      <td>ScoX-1</td>\n",
       "      <td>0.0</td>\n",
       "      <td>OnOff</td>\n",
       "      <td>1</td>\n",
       "      <td>5.375</td>\n",
       "      <td>4.5</td>\n",
       "      <td>8</td>\n",
       "      <td>2</td>\n",
       "      <td>11</td>\n",
       "      <td>1</td>\n",
       "      <td>129.029598</td>\n",
       "      <td>18.559042</td>\n",
       "    </tr>\n",
       "    <tr>\n",
       "      <th>38</th>\n",
       "      <td>196</td>\n",
       "      <td>ScoX-1</td>\n",
       "      <td>0.0</td>\n",
       "      <td>OnOff</td>\n",
       "      <td>2</td>\n",
       "      <td>5.375</td>\n",
       "      <td>4.5</td>\n",
       "      <td>8</td>\n",
       "      <td>2</td>\n",
       "      <td>12</td>\n",
       "      <td>1</td>\n",
       "      <td>127.519763</td>\n",
       "      <td>17.374278</td>\n",
       "    </tr>\n",
       "  </tbody>\n",
       "</table>\n",
       "</div>"
      ],
      "text/plain": [
       "    SCAN        OBJECT     VELOCITY   PROC  PROCSEQN  RESTFREQ   DOPFREQ # IF  \\\n",
       "0    144  PSR_B0329+54          0.0  Track         1  1.617185  1.420406    5   \n",
       "1    152       NGC2415       3784.0  OnOff         1  1.617185  1.420406    5   \n",
       "2    153       NGC2415       3784.0  OnOff         2  1.617185  1.420406    5   \n",
       "3    154         3C196          0.0  OnOff         1  1.617185  1.420406    5   \n",
       "4    155         3C196          0.0  OnOff         2  1.617185  1.420406    5   \n",
       "5    156       NGC2782  2543.139777  OnOff         1  1.617185  1.420406    5   \n",
       "6    157       NGC2782  2543.139777  OnOff         2  1.617185  1.420406    5   \n",
       "7    158       NGC2782  2543.139777  OnOff         1  1.617185  1.420406    5   \n",
       "8    159       NGC2782  2543.139777  OnOff         2  1.617185  1.420406    5   \n",
       "9    167        ScoX-1          0.0  OnOff         1     5.375       4.5    8   \n",
       "10   168        ScoX-1          0.0  OnOff         2     5.375       4.5    8   \n",
       "11   169        ScoX-1          0.0  OnOff         1     5.375       4.5    8   \n",
       "12   170        ScoX-1          0.0  OnOff         2     5.375       4.5    8   \n",
       "13   171        ScoX-1          0.0  OnOff         1     5.375       4.5    8   \n",
       "14   172        ScoX-1          0.0  OnOff         2     5.375       4.5    8   \n",
       "15   173        ScoX-1          0.0  OnOff         1     5.375       4.5    8   \n",
       "16   174        ScoX-1          0.0  OnOff         2     5.375       4.5    8   \n",
       "17   175        ScoX-1          0.0  OnOff         1     5.375       4.5    8   \n",
       "18   176        ScoX-1          0.0  OnOff         2     5.375       4.5    8   \n",
       "19   177        ScoX-1          0.0  OnOff         1     5.375       4.5    8   \n",
       "20   178        ScoX-1          0.0  OnOff         2     5.375       4.5    8   \n",
       "21   179        ScoX-1          0.0  OnOff         1     5.375       4.5    8   \n",
       "22   180        ScoX-1          0.0  OnOff         2     5.375       4.5    8   \n",
       "23   181        ScoX-1          0.0  OnOff         1     5.375       4.5    8   \n",
       "24   182        ScoX-1          0.0  OnOff         2     5.375       4.5    8   \n",
       "25   183        ScoX-1          0.0  OnOff         1     5.375       4.5    8   \n",
       "26   184        ScoX-1          0.0  OnOff         2     5.375       4.5    8   \n",
       "27   185        ScoX-1          0.0  OnOff         1     5.375       4.5    8   \n",
       "28   186        ScoX-1          0.0  OnOff         2     5.375       4.5    8   \n",
       "29   187        ScoX-1          0.0  OnOff         1     5.375       4.5    8   \n",
       "30   188        ScoX-1          0.0  OnOff         2     5.375       4.5    8   \n",
       "31   189        ScoX-1          0.0  OnOff         1     5.375       4.5    8   \n",
       "32   190        ScoX-1          0.0  OnOff         2     5.375       4.5    8   \n",
       "33   191        ScoX-1          0.0  OnOff         1     5.375       4.5    8   \n",
       "34   192        ScoX-1          0.0  OnOff         2     5.375       4.5    8   \n",
       "35   193        ScoX-1          0.0  OnOff         1     5.375       4.5    8   \n",
       "36   194        ScoX-1          0.0  OnOff         2     5.375       4.5    8   \n",
       "37   195        ScoX-1          0.0  OnOff         1     5.375       4.5    8   \n",
       "38   196        ScoX-1          0.0  OnOff         2     5.375       4.5    8   \n",
       "\n",
       "   # POL # INT # FEED     AZIMUTH   ELEVATIO  \n",
       "0      2  3700      1  327.088873  17.777965  \n",
       "1      2   151      1  286.218008   41.62843  \n",
       "2      2   151      1  286.886521  41.118134  \n",
       "3      2    16      1  302.408541  49.254842  \n",
       "4      2    16      1  303.968672  49.159197  \n",
       "5      2    76      1  286.315641  57.760857  \n",
       "6      2    76      1  285.968174  58.709599  \n",
       "7      2    76      1  287.067642  55.736551  \n",
       "8      2    76      1  286.705791  56.681541  \n",
       "9      2    11      1  126.125201  16.227996  \n",
       "10     2    11      1  124.670312  14.994732  \n",
       "11     2    11      1  126.326176  16.395182  \n",
       "12     2     7      1  124.863141  15.161276  \n",
       "13     2    11      1  126.535821  16.568273  \n",
       "14     2    12      1  125.073374  15.342359  \n",
       "15     2    11      1   126.73856  16.735803  \n",
       "16     2    12      1  125.282656  15.520965  \n",
       "17     2    11      1   126.95256  16.910736  \n",
       "18     2    11      1  125.482328  15.691038  \n",
       "19     2    11      1  127.156983  17.077335  \n",
       "20     2    11      1  125.682936  15.860763  \n",
       "21     2    11      1  127.362011   17.24349  \n",
       "22     2    12      1  125.882555  16.030037  \n",
       "23     2    12      1   127.56816   17.40928  \n",
       "24     2    11      1   126.08609  16.198928  \n",
       "25     2    12      1  127.774534   17.57449  \n",
       "26     2    11      1  126.288175  16.367402  \n",
       "27     2    11      1  127.982186  17.739357  \n",
       "28     2    11      1  126.490445  16.535379  \n",
       "29     2    11      1  128.189736  17.903636  \n",
       "30     2    11      1  126.694161  16.703051  \n",
       "31     2    11      1  128.397909  18.067636  \n",
       "32     2    11      1  126.897075   16.87017  \n",
       "33     2    12      1  128.606498  18.231054  \n",
       "34     2    11      1  127.102692  17.036944  \n",
       "35     2    11      1  128.816022  18.394082  \n",
       "36     2    12      1  127.307511   17.20324  \n",
       "37     2    11      1  129.029598  18.559042  \n",
       "38     2    12      1  127.519763  17.374278  "
      ]
     },
     "execution_count": 3,
     "metadata": {},
     "output_type": "execute_result"
    }
   ],
   "source": [
    "sdf = GBTFITSLoad(data_file)\n",
    "sdf.summary()"
   ]
  },
  {
   "cell_type": "markdown",
   "id": "e9db4b47-07c6-4fbe-8f50-9d29c8f9b710",
   "metadata": {},
   "source": [
    "### First run the old version of getps.  "
   ]
  },
  {
   "cell_type": "code",
   "execution_count": null,
   "id": "35e6c6c6-264a-42cc-bbd7-afbafe2b806b",
   "metadata": {},
   "outputs": [],
   "source": [
    "%%time\n",
    "psscan = sdf._oldgetps([156, 158], ifnum=0, plnum=0)"
   ]
  },
  {
   "cell_type": "markdown",
   "id": "6a1663cc-4d43-4084-b2b9-dfe2bea7863c",
   "metadata": {},
   "source": [
    "## Note this *incorrectly* puts all the scans into one PSScan"
   ]
  },
  {
   "cell_type": "code",
   "execution_count": null,
   "id": "83ed6fe7-74c0-4796-bcad-5482b5babd84",
   "metadata": {},
   "outputs": [],
   "source": [
    "print(np.shape(psscan[0]._calibrated))"
   ]
  },
  {
   "cell_type": "markdown",
   "id": "ab129d11-fc9a-4af2-af9e-0111e377ab10",
   "metadata": {},
   "source": [
    "## Now run the version that uses the Selection object.\n",
    "It takes longer than the old style.  We still need to profile the new code and see where it is spending time."
   ]
  },
  {
   "cell_type": "code",
   "execution_count": null,
   "id": "4d5e5e1e-0d38-49b0-9d3f-0ad19aa41e75",
   "metadata": {},
   "outputs": [],
   "source": [
    "%%time \n",
    "psscan2= sdf.getps(scan=[156,158],ifnum=0,plnum=0)"
   ]
  },
  {
   "cell_type": "markdown",
   "id": "b8d58db2-7c3c-4d47-a7df-1a79981f8b46",
   "metadata": {},
   "source": [
    "### It *correctly* separates the scan pairs into individual PSScans"
   ]
  },
  {
   "cell_type": "code",
   "execution_count": null,
   "id": "573691f8-c2d8-4d91-a185-a3f3d6320648",
   "metadata": {},
   "outputs": [],
   "source": [
    "print(np.shape(psscan2[0]._calibrated),np.shape(psscan2[1]._calibrated))"
   ]
  },
  {
   "cell_type": "code",
   "execution_count": null,
   "id": "c63d32b8-1d62-49a6-9a29-af32ac4900f5",
   "metadata": {},
   "outputs": [],
   "source": [
    "### now get the same data using selection\n",
    "sdf.select(scan=[156,158],ifnum=0,plnum=0)\n",
    "psscan3 = sdf.getps()\n"
   ]
  },
  {
   "cell_type": "code",
   "execution_count": null,
   "id": "dffc961e-08b9-4a08-8519-f6c02bf811b1",
   "metadata": {},
   "outputs": [],
   "source": [
    "ta2=psscan2.timeaverage()\n",
    "ta3=psscan3.timeaverage()\n",
    "ta2.spectral_axis"
   ]
  },
  {
   "cell_type": "code",
   "execution_count": null,
   "id": "48019890-1c9c-4445-9097-644d612de991",
   "metadata": {},
   "outputs": [],
   "source": [
    "psscan2._timeaveraged[0].plot()"
   ]
  },
  {
   "cell_type": "code",
   "execution_count": null,
   "id": "fb72b152-b652-4247-9eec-bd8ced7ad5cf",
   "metadata": {},
   "outputs": [],
   "source": [
    "ta2.plot()"
   ]
  },
  {
   "cell_type": "code",
   "execution_count": null,
   "id": "73033706-aebb-4134-8d1d-9b5f1926fa57",
   "metadata": {},
   "outputs": [],
   "source": [
    "for k,v in psscan[0].timeaverage().meta.items():\n",
    "    if ta2.meta[k] != v:\n",
    "        print(f\"{k}={v} != {ta2.meta[k]}\")"
   ]
  },
  {
   "cell_type": "code",
   "execution_count": null,
   "id": "a2125e58-9dd8-4eca-a944-b7c6f49a61c6",
   "metadata": {},
   "outputs": [],
   "source": [
    "ta3.plot()"
   ]
  },
  {
   "cell_type": "code",
   "execution_count": null,
   "id": "957ef65a-772c-47e9-9456-a3baa6d6681b",
   "metadata": {},
   "outputs": [],
   "source": [
    "ta1 = psscan.timeaverage()"
   ]
  },
  {
   "cell_type": "code",
   "execution_count": null,
   "id": "0a2be8da-8ad3-418c-a952-877b3d5d5ca7",
   "metadata": {},
   "outputs": [],
   "source": [
    "ta2 = psscan2.timeaverage()\n",
    "ta2_0 = psscan2._timeaveraged[0]\n",
    "ta2_1 = psscan2._timeaveraged[1]"
   ]
  },
  {
   "cell_type": "raw",
   "id": "53fbf505-ad2e-4e28-ac5d-45abd045792a",
   "metadata": {},
   "source": []
  },
  {
   "cell_type": "code",
   "execution_count": null,
   "id": "27d9949a-1863-4601-8c10-2642b7c5786f",
   "metadata": {},
   "outputs": [],
   "source": [
    "ta2_0.velocity_frame, ta1.velocity_frame, psscan[0].calibrated(0).velocity_frame, ta2.velocity_frame"
   ]
  },
  {
   "cell_type": "code",
   "execution_count": null,
   "id": "2747049d-11fa-4def-9752-77fea0446d58",
   "metadata": {},
   "outputs": [],
   "source": [
    "psscan[0].calibrated(0).spectral_axis"
   ]
  },
  {
   "cell_type": "code",
   "execution_count": null,
   "id": "9aef2943-b384-4e8c-bc7d-f787870c91a3",
   "metadata": {},
   "outputs": [],
   "source": [
    "ta2_0.spectral_axis,ta2_1.spectral_axis"
   ]
  },
  {
   "cell_type": "code",
   "execution_count": null,
   "id": "e8073672-117a-4431-80bd-083db648adda",
   "metadata": {},
   "outputs": [],
   "source": [
    "ta1.spectral_axis,ta2.spectral_axis"
   ]
  },
  {
   "cell_type": "markdown",
   "id": "e8ea59aa-0cf7-49be-9544-6a8997684650",
   "metadata": {},
   "source": [
    "---"
   ]
  },
  {
   "cell_type": "code",
   "execution_count": null,
   "id": "0abe5ed8-14ab-4f56-9563-122470322ef8",
   "metadata": {},
   "outputs": [],
   "source": [
    "# Now "
   ]
  },
  {
   "cell_type": "code",
   "execution_count": null,
   "id": "8cf52658-4291-4384-9910-628ed1a1b38d",
   "metadata": {},
   "outputs": [],
   "source": [
    "sdf.selection.remove(0)\n",
    "#sdf._selection.select(scan=156,ifnum=0,plnum=0)\n",
    "#sdf._selection.show()\n",
    "#psscany=sdf.getps()"
   ]
  },
  {
   "cell_type": "code",
   "execution_count": 4,
   "id": "d9365f15-e863-4d44-bfa9-b6bbb53c9973",
   "metadata": {},
   "outputs": [
    {
     "name": "stderr",
     "output_type": "stream",
     "text": [
      "/home/mpound/src/dysh/src/dysh/spectra/core.py:352: RuntimeWarning: Mean of empty slice\n",
      "  meandiff = np.nanmean(calon[chrng] - caloff[chrng])\n"
     ]
    },
    {
     "name": "stdout",
     "output_type": "stream",
     "text": [
      "{'scan': [156], 'ifnum': 0, 'plnum': 0}\n",
      "case kwargs {'IFNUM': 0, 'PLNUM': 0}\n"
     ]
    },
    {
     "name": "stderr",
     "output_type": "stream",
     "text": [
      "/home/mpound/src/dysh/src/dysh/spectra/core.py:352: RuntimeWarning: Mean of empty slice\n",
      "  meandiff = np.nanmean(calon[chrng] - caloff[chrng])\n",
      "WARNING: NoVelocityWarning: No velocity defined on frame, assuming (0., 0., 0.) km / s. [astropy.coordinates.spectral_coordinate]\n"
     ]
    },
    {
     "name": "stdout",
     "output_type": "stream",
     "text": [
      "TIME AVERAGED DATA [[-0.063301   -0.0774309  -0.0484986  ... -0.03214384  0.03387423\n",
      "  -0.02065325]]\n",
      "AVGDATA [-0.063301   -0.0774309  -0.0484986  ... -0.03214384  0.03387423\n",
      " -0.02065325] weights [5.18474985]\n"
     ]
    },
    {
     "name": "stderr",
     "output_type": "stream",
     "text": [
      "WARNING: NoVelocityWarning: No velocity defined on frame, assuming (0., 0., 0.) km / s. [astropy.coordinates.spectral_coordinate]\n",
      "WARNING: NoVelocityWarning: No velocity defined on frame, assuming (0., 0., 0.) km / s. [astropy.coordinates.spectral_coordinate]\n"
     ]
    },
    {
     "name": "stdout",
     "output_type": "stream",
     "text": [
      "TIME AVERAGED DATA [[-0.063301   -0.0774309  -0.0484986  ... -0.03214384  0.03387423\n",
      "  -0.02065325]]\n",
      "AVGDATA [-0.063301   -0.0774309  -0.0484986  ... -0.03214384  0.03387423\n",
      " -0.02065325] weights [5.18474985]\n"
     ]
    },
    {
     "name": "stderr",
     "output_type": "stream",
     "text": [
      "WARNING: NoVelocityWarning: No velocity defined on frame, assuming (0., 0., 0.) km / s. [astropy.coordinates.spectral_coordinate]\n"
     ]
    }
   ],
   "source": [
    "ps1 = sdf._oldgetps(scans=[156],ifnum=0,plnum=0)\n",
    "ps2 = sdf.getps(scan=[156],ifnum=0,plnum=0)\n",
    "ta1 = ps1.timeaverage()\n",
    "ta2 = ps2.timeaverage()"
   ]
  },
  {
   "cell_type": "code",
   "execution_count": 5,
   "id": "d3f9615e-af13-437f-b631-65e36c411733",
   "metadata": {},
   "outputs": [
    {
     "data": {
      "image/png": "[encoded data removed]",
      "text/plain": [
       "<Figure size 640x480 with 1 Axes>"
      ]
     },
     "metadata": {},
     "output_type": "display_data"
    }
   ],
   "source": [
    "ta1.plot()\n"
   ]
  },
  {
   "cell_type": "code",
   "execution_count": 6,
   "id": "c68f19b1-d086-48ac-a4c6-7941681b873b",
   "metadata": {},
   "outputs": [
    {
     "data": {
      "image/png": "[encoded data removed]",
      "text/plain": [
       "<Figure size 640x480 with 1 Axes>"
      ]
     },
     "metadata": {},
     "output_type": "display_data"
    }
   ],
   "source": [
    "ta2.plot()"
   ]
  },
  {
   "cell_type": "code",
   "execution_count": 8,
   "id": "3cef746b-d7a1-40e0-b624-96db428cb163",
   "metadata": {},
   "outputs": [
    {
     "data": {
      "text/plain": [
       "True"
      ]
     },
     "execution_count": 8,
     "metadata": {},
     "output_type": "execute_result"
    }
   ],
   "source": [
    "\n",
    "np.all(ta1.data == ta2.data)"
   ]
  },
  {
   "cell_type": "code",
   "execution_count": null,
   "id": "5ddc7825-a414-4044-9ded-5220f6635594",
   "metadata": {},
   "outputs": [],
   "source": [
    "ta2.observer"
   ]
  },
  {
   "cell_type": "code",
   "execution_count": null,
   "id": "5d608456-da6b-4203-9def-c6b3c95246ef",
   "metadata": {},
   "outputs": [],
   "source": [
    "ps2._timeaveraged[0]._location"
   ]
  },
  {
   "cell_type": "code",
   "execution_count": null,
   "id": "6482dbb3-b632-4d74-901f-65015404b3b6",
   "metadata": {},
   "outputs": [],
   "source": [
    "psscan2[0][0].timeaverage().plot()"
   ]
  },
  {
   "cell_type": "code",
   "execution_count": null,
   "id": "c0bce091-ddbf-4305-8524-ef09535f50b9",
   "metadata": {},
   "outputs": [],
   "source": [
    "df = psscan2[0].iloc[[0, 1, 2, 3, 4, 5, 6, 7, 8, 9, 10, 11, 12, 13, 14, 15, 16, 17, 18, 19, 20, 21, 22, 23, 24, 25, 26, 27, 28, 29, 30, 31, 32, 33, 34, 35, 36, 37, 38, 39, 40, 41, 42, 43, 44, 45, 46, 47, 48, 49, 50, 51, 52, 53, 54, 55, 56, 57, 58, 59, 60, 61, 62, 63, 64, 65, 66, 67, 68, 69, 70, 71, 72, 73, 74, 75, 76, 77, 78, 79, 80, 81, 82, 83, 84, 85, 86, 87, 88, 89, 90, 91, 92, 93, 94, 95, 96, 97, 98, 99, 100, 101, 102, 103, 104, 105, 106, 107, 108, 109, 110, 111, 112, 113, 114, 115, 116, 117, 118, 119, 120, 121, 122, 123, 124, 125, 126, 127, 128, 129, 130, 131, 132, 133, 134, 135, 136, 137, 138, 139, 140, 141, 142, 143, 144, 145, 146, 147, 148, 149, 150, 151]]"
   ]
  },
  {
   "cell_type": "code",
   "execution_count": null,
   "id": "999f51c1-e105-4f95-b2a0-8482dc8cb521",
   "metadata": {},
   "outputs": [],
   "source": [
    "# Generate the dysh result.\n",
    "\n",
    "# psscan is a ScanList.\n",
    "psscan = sdf.getps(152, plnum=0)\n",
    "assert len(psscan) == 1\n",
    "psscan.calibrate()\n",
    "# psscan_tavg is a list.\n",
    "psscan_tavg = psscan.timeaverage(weights=\"tsys\")\n",
    "assert len(psscan_tavg) == 1"
   ]
  },
  {
   "cell_type": "code",
   "execution_count": null,
   "id": "af5cc1d8-23d1-466f-9139-59430104cc25",
   "metadata": {},
   "outputs": [],
   "source": [
    "sdf.summary()"
   ]
  },
  {
   "cell_type": "code",
   "execution_count": null,
   "id": "b0d81227-278f-4b05-b46c-6d7a53e46306",
   "metadata": {},
   "outputs": [],
   "source": [
    "sdf.getps_selection(152,ifnum=0,plnum=0)"
   ]
  },
  {
   "cell_type": "code",
   "execution_count": null,
   "id": "0182180a-9c4d-4866-9a66-54ddb92aec20",
   "metadata": {},
   "outputs": [],
   "source": [
    "# Load the GBTIDL result.\n",
    "hdu = fits.open(gbtidl_file)\n",
    "table = hdu[1].data"
   ]
  },
  {
   "cell_type": "code",
   "execution_count": null,
   "id": "1b90ddbb-782d-4c33-b7a6-4ceb2f5f3f91",
   "metadata": {},
   "outputs": [],
   "source": [
    "assert psscan_tavg[0].meta[\"EXPOSURE\"] == table[\"EXPOSURE\"][0]"
   ]
  },
  {
   "cell_type": "code",
   "execution_count": null,
   "id": "cbdf3171-ccff-4ccd-a662-79204ec650cd",
   "metadata": {},
   "outputs": [],
   "source": [
    "assert psscan_tavg[0].meta[\"TSYS\"] == table[\"TSYS\"][0]"
   ]
  },
  {
   "cell_type": "code",
   "execution_count": null,
   "id": "0bcce0e3-1d05-4706-88f7-42d513e1fbf1",
   "metadata": {},
   "outputs": [],
   "source": [
    "assert psscan[0].exposure[0] == 0.9758745431900024"
   ]
  },
  {
   "cell_type": "code",
   "execution_count": null,
   "id": "b54ba51e-8ee0-493d-8e58-5d52c7d6645c",
   "metadata": {},
   "outputs": [],
   "source": [
    "assert abs(psscan[0].delta_freq[0]) == 715.2557373046875000"
   ]
  },
  {
   "cell_type": "code",
   "execution_count": null,
   "id": "93cad600-c946-4e9a-9518-3bf61aac9d1e",
   "metadata": {},
   "outputs": [],
   "source": [
    "assert psscan[0]._tsys[0] == 17.2400033063068747"
   ]
  },
  {
   "cell_type": "code",
   "execution_count": null,
   "id": "d4988734-4213-4eee-8d5f-287af88f696e",
   "metadata": {},
   "outputs": [],
   "source": [
    "assert psscan[0].exposure[0] * abs(psscan[0].delta_freq[0]) / psscan[0]._tsys[0]**2 == 2.3484463846686591815"
   ]
  },
  {
   "cell_type": "code",
   "execution_count": null,
   "id": "1b37634f-b05e-4dc9-844d-a66777dae09f",
   "metadata": {},
   "outputs": [],
   "source": [
    "from dysh.spectra.core import tsys_weight\n",
    "assert tsys_weight(psscan[0].exposure[0], abs(psscan[0].delta_freq[0]), psscan[0]._tsys[0]) == 2.3484463846686591815"
   ]
  },
  {
   "cell_type": "code",
   "execution_count": null,
   "id": "981bd152-7675-46cf-9b20-a8c13583a8b4",
   "metadata": {},
   "outputs": [],
   "source": [
    "foo = psscan[0].exposure[0]*abs(psscan[0].delta_freq[0])*np.power(psscan[0]._tsys[0], -2.)\n",
    "bar = psscan[0].exposure[0]*abs(psscan[0].delta_freq[0])/psscan[0]._tsys[0]**2."
   ]
  },
  {
   "cell_type": "code",
   "execution_count": null,
   "id": "14d8509a-9433-4f6c-8b26-a48aafd7ce0e",
   "metadata": {},
   "outputs": [],
   "source": [
    "foo?"
   ]
  },
  {
   "cell_type": "code",
   "execution_count": null,
   "id": "658109a4-abe2-4996-bc72-87f6f486af3c",
   "metadata": {},
   "outputs": [],
   "source": [
    "bar?"
   ]
  },
  {
   "cell_type": "code",
   "execution_count": null,
   "id": "71e1bff9-029a-4409-8233-055cb21d18a4",
   "metadata": {},
   "outputs": [],
   "source": [
    "gbtidl_exposures = np.array([0.9758745431900024,\n",
    "                             0.9727186456420835,\n",
    "                             0.9758745431900024])\n",
    "gbtidl_delta_freq = np.array([715.2557373046875000,\n",
    "                              715.2557373046875000,\n",
    "                              715.2557373046875000])\n",
    "gbtidl_tsys = np.array([17.2400033063068747,\n",
    "                        17.1714040732369675,\n",
    "                        17.1566370578116292])\n",
    "gbtidl_tsyswt = np.array([2.3484463846686592,\n",
    "                          2.3595923244465413,\n",
    "                          2.3713246243635990])\n",
    "gbtdil_tsys2 = np.array([297.2177140014719612,\n",
    "                         294.8571178463791398,\n",
    "                         294.3501951334752675])\n",
    "gbtidl_tsys2_sum = np.array([697.99986590624030214,\n",
    "                             1393.7424579849857764,\n",
    "                             2091.7423238912260786]) 2091.742323891226078558\n",
    "gbtidl_tsys2_sum_here = np.cumsum(gbtdil_tsys2 * gbtidl_tsyswt)"
   ]
  },
  {
   "cell_type": "code",
   "execution_count": null,
   "id": "e744d654-8fc3-4629-8c73-9e99892b3c78",
   "metadata": {},
   "outputs": [],
   "source": [
    "gbtidl_tsys2_sum_here"
   ]
  },
  {
   "cell_type": "code",
   "execution_count": null,
   "id": "d5defaaf-7ca1-4ec4-aac0-71f244c4be86",
   "metadata": {},
   "outputs": [],
   "source": []
  },
  {
   "cell_type": "code",
   "execution_count": null,
   "id": "8ff0fb77-aa11-437e-99c1-309537bf7de0",
   "metadata": {},
   "outputs": [],
   "source": [
    "tsys2_sum = np.cumsum(psscan[0]._tsys**2. * psscan[0]._tsys_weight)#.astype(\"d\")\n",
    "\n",
    "for i in range(3):\n",
    "    assert psscan[0].exposure[i] == gbtidl_exposures[i]\n",
    "    assert abs(psscan[0].delta_freq[i]) == gbtidl_delta_freq[i]\n",
    "    assert psscan[0]._tsys[i] == gbtidl_tsys[i]\n",
    "    assert psscan[0]._tsys_weight[i] == gbtidl_tsyswt[i]\n",
    "    assert psscan[0]._tsys[i]**2. == gbtdil_tsys2[i]\n",
    "    assert tsys2_sum[i] == gbtidl_tsys2_sum[i]\n",
    "    assert gbtidl_tsys2_sum_here[i] == gbtidl_tsys2_sum[i]"
   ]
  },
  {
   "cell_type": "code",
   "execution_count": null,
   "id": "b482b4d7-956c-4e64-a862-8c8b969e38e6",
   "metadata": {},
   "outputs": [],
   "source": [
    "np.cumsum(psscan[0]._tsys**2. * psscan[0]._tsys_weight)[-1]"
   ]
  },
  {
   "cell_type": "code",
   "execution_count": null,
   "id": "75af46f4-31ba-48b0-b124-4a3575aca64c",
   "metadata": {},
   "outputs": [],
   "source": [
    "tsys_avg = np.average(psscan[0]._tsys, weights=psscan[0]._tsys_weight)\n",
    "assert tsys_avg == table[\"TSYS\"][0]"
   ]
  },
  {
   "cell_type": "code",
   "execution_count": null,
   "id": "e038680a-27ee-4422-abe6-b002453b7863",
   "metadata": {},
   "outputs": [],
   "source": [
    "tsys_avg = sq_weighted_avg(psscan[0]._tsys, axis=0, weights=psscan[0]._tsys_weight)\n",
    "# assert tsys_avg == table[\"TSYS\"][0]\n",
    "tsys_avg"
   ]
  },
  {
   "cell_type": "code",
   "execution_count": null,
   "id": "312be762-89b9-4107-b386-6f864a3061fd",
   "metadata": {},
   "outputs": [],
   "source": [
    "assert tsys_avg.astype(float) == table[\"TSYS\"][0]"
   ]
  },
  {
   "cell_type": "code",
   "execution_count": null,
   "id": "1dfc0628-66f0-474a-b69a-ef18431bd002",
   "metadata": {},
   "outputs": [],
   "source": [
    "table[\"TSYS\"]"
   ]
  },
  {
   "cell_type": "code",
   "execution_count": null,
   "id": "792033d9-db4c-49d0-b1a3-94056934c366",
   "metadata": {},
   "outputs": [],
   "source": [
    "table[\"TSYS\"][0]"
   ]
  },
  {
   "cell_type": "code",
   "execution_count": null,
   "id": "7456a44f-f98d-4e3a-b866-773f0fbf72b4",
   "metadata": {},
   "outputs": [],
   "source": [
    "tsys_avg - table[\"TSYS\"][0]"
   ]
  },
  {
   "cell_type": "code",
   "execution_count": null,
   "id": "d52bf0aa-661b-4e71-9f8d-6c3a07290d0d",
   "metadata": {},
   "outputs": [],
   "source": [
    "tsys_avg - table[\"TSYS\"][0]"
   ]
  },
  {
   "cell_type": "code",
   "execution_count": null,
   "id": "221078c7-eb7b-4456-b23a-affa0058b9cb",
   "metadata": {},
   "outputs": [],
   "source": [
    "psscan_tavg[0].meta[\"TSYS\"] - table[\"TSYS\"][0]"
   ]
  },
  {
   "cell_type": "code",
   "execution_count": null,
   "id": "a36b813f-94e2-4896-9b9a-acfb9bcce887",
   "metadata": {},
   "outputs": [],
   "source": [
    "assert psscan[0]._tsys_weight[0] == 2.3484463846686591815"
   ]
  },
  {
   "cell_type": "code",
   "execution_count": null,
   "id": "96559114-2e70-4337-ada2-6e5c0df060f3",
   "metadata": {},
   "outputs": [],
   "source": [
    "diff = psscan_tavg[0].flux.value.astype(\"d\") - table[\"DATA\"][0]\n",
    "diff"
   ]
  },
  {
   "cell_type": "code",
   "execution_count": null,
   "id": "e3607f6d-ddd6-42d3-9cf7-895e177dd34c",
   "metadata": {},
   "outputs": [],
   "source": [
    "psscan_tavg[0].flux.value"
   ]
  },
  {
   "cell_type": "code",
   "execution_count": null,
   "id": "203bc16d-2741-48d1-a07d-07c0164ec69c",
   "metadata": {},
   "outputs": [],
   "source": [
    "table[\"DATA\"]"
   ]
  },
  {
   "cell_type": "code",
   "execution_count": null,
   "id": "1155b477-4860-43b1-a5e0-a7ec6873ccd0",
   "metadata": {},
   "outputs": [],
   "source": [
    "hdu_ = fits.open(data_file)\n",
    "table_ = hdu_[1].data"
   ]
  },
  {
   "cell_type": "code",
   "execution_count": null,
   "id": "171b5685-71f1-4775-8827-2288f9584d3f",
   "metadata": {},
   "outputs": [],
   "source": [
    "mask_sig = ( table_[\"SCAN\"] == 152 ) & ( table_[\"PLNUM\"] == 0 )\n",
    "mask_ref = ( table_[\"SCAN\"] == 153 ) & ( table_[\"PLNUM\"] == 0 )\n",
    "mask_on  = ( table_[\"CAL\"][mask_sig] == \"T\" )\n",
    "mask_off = ( table_[\"CAL\"][mask_ref] == \"T\" )\n",
    "exp_sig  = table_[\"EXPOSURE\"][mask_sig][::2] + table_[\"EXPOSURE\"][mask_sig][1::2]\n",
    "exp_ref  = table_[\"EXPOSURE\"][mask_ref][::2] + table_[\"EXPOSURE\"][mask_ref][1::2]\n",
    "nsmooth  = 1.\n",
    "exp = exp_sig * exp_ref * nsmooth / (exp_sig + exp_ref * nsmooth)"
   ]
  },
  {
   "cell_type": "code",
   "execution_count": null,
   "id": "acd36d61-ca8a-468a-aca6-b9e1b8d4f50e",
   "metadata": {},
   "outputs": [],
   "source": [
    "exp.sum()"
   ]
  },
  {
   "cell_type": "code",
   "execution_count": null,
   "id": "23bd8c49-fe4a-4daa-b4e7-2868e2c8c809",
   "metadata": {},
   "outputs": [],
   "source": []
  },
  {
   "cell_type": "code",
   "execution_count": null,
   "id": "b128e26d-7751-417d-ac6c-29a1851ceef2",
   "metadata": {},
   "outputs": [],
   "source": [
    "psscan[0].exposure.sum()"
   ]
  },
  {
   "cell_type": "code",
   "execution_count": null,
   "id": "7a1ee277-dcc6-4357-aae3-fe50d614cbd8",
   "metadata": {},
   "outputs": [],
   "source": [
    "table_[\"CAL\"][mask]"
   ]
  },
  {
   "cell_type": "code",
   "execution_count": null,
   "id": "1d3b669e-9c6e-4e4b-8449-c0946cf6caf9",
   "metadata": {},
   "outputs": [],
   "source": [
    "table_[\"DURATION\"][mask][::2]"
   ]
  },
  {
   "cell_type": "code",
   "execution_count": null,
   "id": "8461aabb-7d1d-444e-a31f-2e585a2c15ef",
   "metadata": {},
   "outputs": [],
   "source": [
    "hdut = fits.open(f\"{data_path}/test_exposure.fits\")\n",
    "tablet = hdut[1].data\n",
    "tablet[\"EXPOSURE\"]"
   ]
  },
  {
   "cell_type": "code",
   "execution_count": null,
   "id": "942344c5-20d2-436b-9767-bfcc3a11d04b",
   "metadata": {},
   "outputs": [],
   "source": [
    "tablet[\"EXPOSURE\"] - exp.sum()"
   ]
  },
  {
   "cell_type": "code",
   "execution_count": null,
   "id": "9f34138d-4198-455d-ad60-15751ec38c09",
   "metadata": {},
   "outputs": [],
   "source": [
    "psscan_tavg[0].meta[\"EXPOSURE\"] - tablet[\"EXPOSURE\"]"
   ]
  },
  {
   "cell_type": "code",
   "execution_count": null,
   "id": "c25c2dd9-7627-4733-a412-097c88b1b6ef",
   "metadata": {},
   "outputs": [],
   "source": [
    "psscan_tavg[0].meta[\"EXPOSURE\"] - table[\"EXPOSURE\"]"
   ]
  },
  {
   "cell_type": "code",
   "execution_count": null,
   "id": "032ac02a-e15c-4a88-a407-36135cdfbab6",
   "metadata": {},
   "outputs": [],
   "source": [
    "hdu = fits.open(f\"{data_path}/test_int_0.fits\")\n",
    "table = hdu[1].data"
   ]
  },
  {
   "cell_type": "code",
   "execution_count": null,
   "id": "102123bc-e35c-4eef-a048-20840d782013",
   "metadata": {},
   "outputs": [],
   "source": [
    "table[\"DATA\"][0] - psscan[0].calibrated(0).flux.value.astype(\"d\")"
   ]
  },
  {
   "cell_type": "code",
   "execution_count": null,
   "id": "84f7b07d-a809-4ebb-9f01-54702d544b55",
   "metadata": {},
   "outputs": [],
   "source": [
    "assert table[\"TSYS\"] == psscan[0].calibrated(0).meta[\"TSYS\"]\n",
    "assert table[\"EXPOSURE\"] == psscan[0].calibrated(0).meta[\"EXPOSURE\"]\n",
    "assert table[\"CDELT1\"] == psscan[0].calibrated(0).meta[\"CDELT1\"]"
   ]
  },
  {
   "cell_type": "code",
   "execution_count": null,
   "id": "df59535d-2421-45bd-a440-6f7de5ab1197",
   "metadata": {
    "scrolled": true
   },
   "outputs": [],
   "source": [
    "for i in range(len(table[\"DATA\"][0])):\n",
    "    try:\n",
    "        assert table[\"DATA\"][0][i] == psscan[0].calibrated(0).flux.value[i]\n",
    "    except AssertionError:\n",
    "        print(i)"
   ]
  },
  {
   "cell_type": "code",
   "execution_count": null,
   "id": "a95f0197-d612-4617-821f-d65591e7123a",
   "metadata": {},
   "outputs": [],
   "source": [
    "hdu = fits.open(f\"{data_path}/test_gettp_0.fits\")\n",
    "table = hdu[1].data"
   ]
  },
  {
   "cell_type": "code",
   "execution_count": null,
   "id": "ad1b527f-ae49-4b7a-91ab-6768e1ae22cb",
   "metadata": {},
   "outputs": [],
   "source": [
    "gbtidl_data = table[\"DATA\"][0]"
   ]
  },
  {
   "cell_type": "code",
   "execution_count": null,
   "id": "e07d47cf-2dd2-4ad6-8778-056839351e52",
   "metadata": {},
   "outputs": [],
   "source": [
    "dysh_data = sdf._sdf[0].rawspectra(psscan[0]._bintable_index)[psscan[0]._sigonrows][0]"
   ]
  },
  {
   "cell_type": "code",
   "execution_count": null,
   "id": "dfc32675-cd1e-40ab-981f-413dc344d809",
   "metadata": {},
   "outputs": [],
   "source": [
    "np.nansum((gbtidl_data - dysh_data))"
   ]
  },
  {
   "cell_type": "code",
   "execution_count": null,
   "id": "a63bb902-dcef-4ed2-b475-c9aa5b688f19",
   "metadata": {},
   "outputs": [],
   "source": [
    "table_ = sdf._sdf[0]._hdu[1].data\n",
    "mask = (table_[\"SCAN\"] == 152) & \\\n",
    "       (table_[\"IFNUM\"] == 0) & \\\n",
    "       (table_[\"PLNUM\"] == 0) & \\\n",
    "       (table_[\"CAL\"] == \"T\") & \\\n",
    "       (table_[\"SIG\"] == \"T\")\n",
    "mask.sum()\n"
   ]
  },
  {
   "cell_type": "code",
   "execution_count": null,
   "id": "d8c11182-ac96-477d-b545-b231f1e369fc",
   "metadata": {},
   "outputs": [],
   "source": [
    "table_[mask][\"DATA\"][0]"
   ]
  },
  {
   "cell_type": "code",
   "execution_count": null,
   "id": "1b591f66-f1d8-4c94-a941-49dcd6f8d7ca",
   "metadata": {},
   "outputs": [],
   "source": [
    "sdf.summary()"
   ]
  },
  {
   "cell_type": "code",
   "execution_count": null,
   "id": "21aa7693-c788-4cc7-bf7e-bbd0cd29fba5",
   "metadata": {},
   "outputs": [],
   "source": [
    "hdu = fits.open(f\"{data_path}/test_gettp_intnum_0.fits\")\n",
    "table = hdu[1].data"
   ]
  },
  {
   "cell_type": "code",
   "execution_count": null,
   "id": "235e8b61-8960-494e-94b7-2b20befc18af",
   "metadata": {},
   "outputs": [],
   "source": [
    "tp = sdf.gettp(152)"
   ]
  },
  {
   "cell_type": "code",
   "execution_count": null,
   "id": "cdd018d2-22e5-401a-a70a-2fea8832be8e",
   "metadata": {},
   "outputs": [],
   "source": [
    "np.nansum(tp[0].total_power(0).flux.value - table[\"DATA\"])"
   ]
  },
  {
   "cell_type": "code",
   "execution_count": null,
   "id": "fa9e60eb-e300-4c97-85ed-e1d75746d21f",
   "metadata": {},
   "outputs": [],
   "source": [
    "hdu = fits.open(f\"{data_path}/test_getps_intnum_0.fits\")\n",
    "table = hdu[1].data"
   ]
  },
  {
   "cell_type": "code",
   "execution_count": null,
   "id": "2795b5a6-c537-4083-98bf-dff0e99b5536",
   "metadata": {},
   "outputs": [],
   "source": [
    "ps = sdf.getps(152)"
   ]
  },
  {
   "cell_type": "code",
   "execution_count": null,
   "id": "573e0fd9-c5f8-4ecd-9e49-bbc7984ecf6f",
   "metadata": {},
   "outputs": [],
   "source": [
    "(ps[0].calibrated(0).flux.value == table[\"DATA\"][1])"
   ]
  },
  {
   "cell_type": "code",
   "execution_count": null,
   "id": "e87953be-d5db-4d2c-951a-52d0dd29cb24",
   "metadata": {},
   "outputs": [],
   "source": [
    "assert ps[0]._tsys[0] == table[\"TSYS\"][0]\n",
    "assert ps[0]._tsys[0] == table[\"TSYS\"][1]"
   ]
  },
  {
   "cell_type": "code",
   "execution_count": null,
   "id": "ee7a61fd-18a1-4823-a31b-a07d8adee9da",
   "metadata": {},
   "outputs": [],
   "source": [
    "table[\"DATA\"][0]"
   ]
  },
  {
   "cell_type": "code",
   "execution_count": null,
   "id": "12c30b41-5b03-4207-b9a2-a2143e763140",
   "metadata": {},
   "outputs": [],
   "source": [
    "table[\"DATA\"][1]"
   ]
  },
  {
   "cell_type": "code",
   "execution_count": null,
   "id": "0a5ea81d-723e-4e08-afbf-e7442a84eaa6",
   "metadata": {},
   "outputs": [],
   "source": []
  }
 ],
 "metadata": {
  "kernelspec": {
   "display_name": "Python 3 (ipykernel)",
   "language": "python",
   "name": "python3"
  },
  "language_info": {
   "codemirror_mode": {
    "name": "ipython",
    "version": 3
   },
   "file_extension": ".py",
   "mimetype": "text/x-python",
   "name": "python",
   "nbconvert_exporter": "python",
   "pygments_lexer": "ipython3",
   "version": "3.9.18"
  }
 },
 "nbformat": 4,
 "nbformat_minor": 5
}
