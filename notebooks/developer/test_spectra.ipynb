{
 "cells": [
  {
   "cell_type": "code",
   "execution_count": 1,
   "id": "33dc10af-604c-4f14-9711-df5ad136f764",
   "metadata": {},
   "outputs": [],
   "source": [
    "from dysh.spectra.spectrum import Spectrum\n",
    "import numpy as np\n",
    "from scipy.stats import norm\n",
    "import astropy.units as u\n",
    "import matplotlib.pyplot as plt\n",
    "from dysh.fits.sdfitsload import SDFITSLoad\n",
    "from dysh.fits.gbtfitsload import GBTFITSLoad\n",
    "import pandas\n",
    "from copy import deepcopy\n",
    "pandas.set_option('display.max_rows', 100)\n",
    "from astropy.modeling.fitting import LevMarLSQFitter,LinearLSQFitter\n",
    "from specutils import Spectrum1D, SpectrumList,SpectralRegion\n",
    "from astropy.nddata import StdDevUncertainty\n",
    "from specutils.fitting import fit_continuum\n",
    "import matplotlib.pyplot as plt\n",
    "from dysh.spectra import region_to_axis_indices\n",
    "from dysh.plot.specplot import SpectrumPlot\n",
    "from astropy.io import fits\n",
    "from astropy.table import Table\n",
    "import pandas as pd\n",
    "from specutils import Spectrum1D\n",
    "#%matplotlib notebook"
   ]
  },
  {
   "cell_type": "markdown",
   "id": "ce64f394-52d0-4773-9a2f-28e03480e88c",
   "metadata": {},
   "source": [
    "# 1. Create a gaussian spectrum with noise, compute the baseline, remove it, then add the baseline back in"
   ]
  },
  {
   "cell_type": "markdown",
   "id": "816bd368-c9d6-4ec5-bbb4-d900b6eab33c",
   "metadata": {},
   "source": [
    "### First, create the spectrum"
   ]
  },
  {
   "cell_type": "code",
   "execution_count": 2,
   "id": "48470d02",
   "metadata": {},
   "outputs": [
    {
     "data": {
      "text/latex": [
       "$[38.60203,~38.574825,~38.547621,~\\dots,~11.479583,~11.452379,~11.425175] \\; \\mathrm{\\frac{km}{s}}$"
      ],
      "text/plain": [
       "<Quantity [38.60202954, 38.57482548, 38.54762142, 38.52041736, 38.4932133 ,\n",
       "           38.46600924, 38.43880518, 38.41160113, 38.38439707, 38.35719301,\n",
       "           38.32998895, 38.30278489, 38.27558083, 38.24837677, 38.22117271,\n",
       "           38.19396865, 38.16676459, 38.13956053, 38.11235648, 38.08515242,\n",
       "           38.05794836, 38.0307443 , 38.00354024, 37.97633618, 37.94913212,\n",
       "           37.92192806, 37.894724  , 37.86751994, 37.84031589, 37.81311183,\n",
       "           37.78590777, 37.75870371, 37.73149965, 37.70429559, 37.67709153,\n",
       "           37.64988747, 37.62268341, 37.59547935, 37.56827529, 37.54107124,\n",
       "           37.51386718, 37.48666312, 37.45945906, 37.432255  , 37.40505094,\n",
       "           37.37784688, 37.35064282, 37.32343876, 37.2962347 , 37.26903064,\n",
       "           37.24182659, 37.21462253, 37.18741847, 37.16021441, 37.13301035,\n",
       "           37.10580629, 37.07860223, 37.05139817, 37.02419411, 36.99699005,\n",
       "           36.96978599, 36.94258194, 36.91537788, 36.88817382, 36.86096976,\n",
       "           36.8337657 , 36.80656164, 36.77935758, 36.75215352, 36.72494946,\n",
       "           36.6977454 , 36.67054134, 36.64333729, 36.61613323, 36.58892917,\n",
       "           36.56172511, 36.53452105, 36.50731699, 36.48011293, 36.45290887,\n",
       "           36.42570481, 36.39850075, 36.37129669, 36.34409264, 36.31688858,\n",
       "           36.28968452, 36.26248046, 36.2352764 , 36.20807234, 36.18086828,\n",
       "           36.15366422, 36.12646016, 36.0992561 , 36.07205204, 36.04484799,\n",
       "           36.01764393, 35.99043987, 35.96323581, 35.93603175, 35.90882769,\n",
       "           35.88162363, 35.85441957, 35.82721551, 35.80001145, 35.7728074 ,\n",
       "           35.74560334, 35.71839928, 35.69119522, 35.66399116, 35.6367871 ,\n",
       "           35.60958304, 35.58237898, 35.55517492, 35.52797086, 35.5007668 ,\n",
       "           35.47356275, 35.44635869, 35.41915463, 35.39195057, 35.36474651,\n",
       "           35.33754245, 35.31033839, 35.28313433, 35.25593027, 35.22872621,\n",
       "           35.20152215, 35.1743181 , 35.14711404, 35.11990998, 35.09270592,\n",
       "           35.06550186, 35.0382978 , 35.01109374, 34.98388968, 34.95668562,\n",
       "           34.92948156, 34.9022775 , 34.87507345, 34.84786939, 34.82066533,\n",
       "           34.79346127, 34.76625721, 34.73905315, 34.71184909, 34.68464503,\n",
       "           34.65744097, 34.63023691, 34.60303285, 34.5758288 , 34.54862474,\n",
       "           34.52142068, 34.49421662, 34.46701256, 34.4398085 , 34.41260444,\n",
       "           34.38540038, 34.35819632, 34.33099226, 34.3037882 , 34.27658415,\n",
       "           34.24938009, 34.22217603, 34.19497197, 34.16776791, 34.14056385,\n",
       "           34.11335979, 34.08615573, 34.05895167, 34.03174761, 34.00454355,\n",
       "           33.9773395 , 33.95013544, 33.92293138, 33.89572732, 33.86852326,\n",
       "           33.8413192 , 33.81411514, 33.78691108, 33.75970702, 33.73250296,\n",
       "           33.70529891, 33.67809485, 33.65089079, 33.62368673, 33.59648267,\n",
       "           33.56927861, 33.54207455, 33.51487049, 33.48766643, 33.46046237,\n",
       "           33.43325831, 33.40605426, 33.3788502 , 33.35164614, 33.32444208,\n",
       "           33.29723802, 33.27003396, 33.2428299 , 33.21562584, 33.18842178,\n",
       "           33.16121772, 33.13401366, 33.10680961, 33.07960555, 33.05240149,\n",
       "           33.02519743, 32.99799337, 32.97078931, 32.94358525, 32.91638119,\n",
       "           32.88917713, 32.86197307, 32.83476901, 32.80756496, 32.7803609 ,\n",
       "           32.75315684, 32.72595278, 32.69874872, 32.67154466, 32.6443406 ,\n",
       "           32.61713654, 32.58993248, 32.56272842, 32.53552436, 32.50832031,\n",
       "           32.48111625, 32.45391219, 32.42670813, 32.39950407, 32.37230001,\n",
       "           32.34509595, 32.31789189, 32.29068783, 32.26348377, 32.23627971,\n",
       "           32.20907566, 32.1818716 , 32.15466754, 32.12746348, 32.10025942,\n",
       "           32.07305536, 32.0458513 , 32.01864724, 31.99144318, 31.96423912,\n",
       "           31.93703507, 31.90983101, 31.88262695, 31.85542289, 31.82821883,\n",
       "           31.80101477, 31.77381071, 31.74660665, 31.71940259, 31.69219853,\n",
       "           31.66499447, 31.63779042, 31.61058636, 31.5833823 , 31.55617824,\n",
       "           31.52897418, 31.50177012, 31.47456606, 31.447362  , 31.42015794,\n",
       "           31.39295388, 31.36574982, 31.33854577, 31.31134171, 31.28413765,\n",
       "           31.25693359, 31.22972953, 31.20252547, 31.17532141, 31.14811735,\n",
       "           31.12091329, 31.09370923, 31.06650517, 31.03930112, 31.01209706,\n",
       "           30.984893  , 30.95768894, 30.93048488, 30.90328082, 30.87607676,\n",
       "           30.8488727 , 30.82166864, 30.79446458, 30.76726052, 30.74005647,\n",
       "           30.71285241, 30.68564835, 30.65844429, 30.63124023, 30.60403617,\n",
       "           30.57683211, 30.54962805, 30.52242399, 30.49521993, 30.46801587,\n",
       "           30.44081182, 30.41360776, 30.3864037 , 30.35919964, 30.33199558,\n",
       "           30.30479152, 30.27758746, 30.2503834 , 30.22317934, 30.19597528,\n",
       "           30.16877122, 30.14156717, 30.11436311, 30.08715905, 30.05995499,\n",
       "           30.03275093, 30.00554687, 29.97834281, 29.95113875, 29.92393469,\n",
       "           29.89673063, 29.86952658, 29.84232252, 29.81511846, 29.7879144 ,\n",
       "           29.76071034, 29.73350628, 29.70630222, 29.67909816, 29.6518941 ,\n",
       "           29.62469004, 29.59748598, 29.57028193, 29.54307787, 29.51587381,\n",
       "           29.48866975, 29.46146569, 29.43426163, 29.40705757, 29.37985351,\n",
       "           29.35264945, 29.32544539, 29.29824133, 29.27103728, 29.24383322,\n",
       "           29.21662916, 29.1894251 , 29.16222104, 29.13501698, 29.10781292,\n",
       "           29.08060886, 29.0534048 , 29.02620074, 28.99899668, 28.97179263,\n",
       "           28.94458857, 28.91738451, 28.89018045, 28.86297639, 28.83577233,\n",
       "           28.80856827, 28.78136421, 28.75416015, 28.72695609, 28.69975203,\n",
       "           28.67254798, 28.64534392, 28.61813986, 28.5909358 , 28.56373174,\n",
       "           28.53652768, 28.50932362, 28.48211956, 28.4549155 , 28.42771144,\n",
       "           28.40050738, 28.37330333, 28.34609927, 28.31889521, 28.29169115,\n",
       "           28.26448709, 28.23728303, 28.21007897, 28.18287491, 28.15567085,\n",
       "           28.12846679, 28.10126273, 28.07405868, 28.04685462, 28.01965056,\n",
       "           27.9924465 , 27.96524244, 27.93803838, 27.91083432, 27.88363026,\n",
       "           27.8564262 , 27.82922214, 27.80201809, 27.77481403, 27.74760997,\n",
       "           27.72040591, 27.69320185, 27.66599779, 27.63879373, 27.61158967,\n",
       "           27.58438561, 27.55718155, 27.52997749, 27.50277344, 27.47556938,\n",
       "           27.44836532, 27.42116126, 27.3939572 , 27.36675314, 27.33954908,\n",
       "           27.31234502, 27.28514096, 27.2579369 , 27.23073284, 27.20352879,\n",
       "           27.17632473, 27.14912067, 27.12191661, 27.09471255, 27.06750849,\n",
       "           27.04030443, 27.01310037, 26.98589631, 26.95869225, 26.93148819,\n",
       "           26.90428414, 26.87708008, 26.84987602, 26.82267196, 26.7954679 ,\n",
       "           26.76826384, 26.74105978, 26.71385572, 26.68665166, 26.6594476 ,\n",
       "           26.63224354, 26.60503949, 26.57783543, 26.55063137, 26.52342731,\n",
       "           26.49622325, 26.46901919, 26.44181513, 26.41461107, 26.38740701,\n",
       "           26.36020295, 26.33299889, 26.30579484, 26.27859078, 26.25138672,\n",
       "           26.22418266, 26.1969786 , 26.16977454, 26.14257048, 26.11536642,\n",
       "           26.08816236, 26.0609583 , 26.03375425, 26.00655019, 25.97934613,\n",
       "           25.95214207, 25.92493801, 25.89773395, 25.87052989, 25.84332583,\n",
       "           25.81612177, 25.78891771, 25.76171365, 25.7345096 , 25.70730554,\n",
       "           25.68010148, 25.65289742, 25.62569336, 25.5984893 , 25.57128524,\n",
       "           25.54408118, 25.51687712, 25.48967306, 25.462469  , 25.43526495,\n",
       "           25.40806089, 25.38085683, 25.35365277, 25.32644871, 25.29924465,\n",
       "           25.27204059, 25.24483653, 25.21763247, 25.19042841, 25.16322435,\n",
       "           25.1360203 , 25.10881624, 25.08161218, 25.05440812, 25.02720406,\n",
       "           25.        , 24.97279594, 24.94559188, 24.91838782, 24.89118376,\n",
       "           24.8639797 , 24.83677565, 24.80957159, 24.78236753, 24.75516347,\n",
       "           24.72795941, 24.70075535, 24.67355129, 24.64634723, 24.61914317,\n",
       "           24.59193911, 24.56473505, 24.537531  , 24.51032694, 24.48312288,\n",
       "           24.45591882, 24.42871476, 24.4015107 , 24.37430664, 24.34710258,\n",
       "           24.31989852, 24.29269446, 24.2654904 , 24.23828635, 24.21108229,\n",
       "           24.18387823, 24.15667417, 24.12947011, 24.10226605, 24.07506199,\n",
       "           24.04785793, 24.02065387, 23.99344981, 23.96624576, 23.9390417 ,\n",
       "           23.91183764, 23.88463358, 23.85742952, 23.83022546, 23.8030214 ,\n",
       "           23.77581734, 23.74861328, 23.72140922, 23.69420516, 23.66700111,\n",
       "           23.63979705, 23.61259299, 23.58538893, 23.55818487, 23.53098081,\n",
       "           23.50377675, 23.47657269, 23.44936863, 23.42216457, 23.39496051,\n",
       "           23.36775646, 23.3405524 , 23.31334834, 23.28614428, 23.25894022,\n",
       "           23.23173616, 23.2045321 , 23.17732804, 23.15012398, 23.12291992,\n",
       "           23.09571586, 23.06851181, 23.04130775, 23.01410369, 22.98689963,\n",
       "           22.95969557, 22.93249151, 22.90528745, 22.87808339, 22.85087933,\n",
       "           22.82367527, 22.79647121, 22.76926716, 22.7420631 , 22.71485904,\n",
       "           22.68765498, 22.66045092, 22.63324686, 22.6060428 , 22.57883874,\n",
       "           22.55163468, 22.52443062, 22.49722656, 22.47002251, 22.44281845,\n",
       "           22.41561439, 22.38841033, 22.36120627, 22.33400221, 22.30679815,\n",
       "           22.27959409, 22.25239003, 22.22518597, 22.19798191, 22.17077786,\n",
       "           22.1435738 , 22.11636974, 22.08916568, 22.06196162, 22.03475756,\n",
       "           22.0075535 , 21.98034944, 21.95314538, 21.92594132, 21.89873727,\n",
       "           21.87153321, 21.84432915, 21.81712509, 21.78992103, 21.76271697,\n",
       "           21.73551291, 21.70830885, 21.68110479, 21.65390073, 21.62669667,\n",
       "           21.59949262, 21.57228856, 21.5450845 , 21.51788044, 21.49067638,\n",
       "           21.46347232, 21.43626826, 21.4090642 , 21.38186014, 21.35465608,\n",
       "           21.32745202, 21.30024797, 21.27304391, 21.24583985, 21.21863579,\n",
       "           21.19143173, 21.16422767, 21.13702361, 21.10981955, 21.08261549,\n",
       "           21.05541143, 21.02820737, 21.00100332, 20.97379926, 20.9465952 ,\n",
       "           20.91939114, 20.89218708, 20.86498302, 20.83777896, 20.8105749 ,\n",
       "           20.78337084, 20.75616678, 20.72896272, 20.70175867, 20.67455461,\n",
       "           20.64735055, 20.62014649, 20.59294243, 20.56573837, 20.53853431,\n",
       "           20.51133025, 20.48412619, 20.45692213, 20.42971807, 20.40251402,\n",
       "           20.37530996, 20.3481059 , 20.32090184, 20.29369778, 20.26649372,\n",
       "           20.23928966, 20.2120856 , 20.18488154, 20.15767748, 20.13047343,\n",
       "           20.10326937, 20.07606531, 20.04886125, 20.02165719, 19.99445313,\n",
       "           19.96724907, 19.94004501, 19.91284095, 19.88563689, 19.85843283,\n",
       "           19.83122878, 19.80402472, 19.77682066, 19.7496166 , 19.72241254,\n",
       "           19.69520848, 19.66800442, 19.64080036, 19.6135963 , 19.58639224,\n",
       "           19.55918818, 19.53198413, 19.50478007, 19.47757601, 19.45037195,\n",
       "           19.42316789, 19.39596383, 19.36875977, 19.34155571, 19.31435165,\n",
       "           19.28714759, 19.25994353, 19.23273948, 19.20553542, 19.17833136,\n",
       "           19.1511273 , 19.12392324, 19.09671918, 19.06951512, 19.04231106,\n",
       "           19.015107  , 18.98790294, 18.96069888, 18.93349483, 18.90629077,\n",
       "           18.87908671, 18.85188265, 18.82467859, 18.79747453, 18.77027047,\n",
       "           18.74306641, 18.71586235, 18.68865829, 18.66145423, 18.63425018,\n",
       "           18.60704612, 18.57984206, 18.552638  , 18.52543394, 18.49822988,\n",
       "           18.47102582, 18.44382176, 18.4166177 , 18.38941364, 18.36220958,\n",
       "           18.33500553, 18.30780147, 18.28059741, 18.25339335, 18.22618929,\n",
       "           18.19898523, 18.17178117, 18.14457711, 18.11737305, 18.09016899,\n",
       "           18.06296494, 18.03576088, 18.00855682, 17.98135276, 17.9541487 ,\n",
       "           17.92694464, 17.89974058, 17.87253652, 17.84533246, 17.8181284 ,\n",
       "           17.79092434, 17.76372029, 17.73651623, 17.70931217, 17.68210811,\n",
       "           17.65490405, 17.62769999, 17.60049593, 17.57329187, 17.54608781,\n",
       "           17.51888375, 17.49167969, 17.46447564, 17.43727158, 17.41006752,\n",
       "           17.38286346, 17.3556594 , 17.32845534, 17.30125128, 17.27404722,\n",
       "           17.24684316, 17.2196391 , 17.19243504, 17.16523099, 17.13802693,\n",
       "           17.11082287, 17.08361881, 17.05641475, 17.02921069, 17.00200663,\n",
       "           16.97480257, 16.94759851, 16.92039445, 16.89319039, 16.86598634,\n",
       "           16.83878228, 16.81157822, 16.78437416, 16.7571701 , 16.72996604,\n",
       "           16.70276198, 16.67555792, 16.64835386, 16.6211498 , 16.59394574,\n",
       "           16.56674169, 16.53953763, 16.51233357, 16.48512951, 16.45792545,\n",
       "           16.43072139, 16.40351733, 16.37631327, 16.34910921, 16.32190515,\n",
       "           16.29470109, 16.26749704, 16.24029298, 16.21308892, 16.18588486,\n",
       "           16.1586808 , 16.13147674, 16.10427268, 16.07706862, 16.04986456,\n",
       "           16.0226605 , 15.99545645, 15.96825239, 15.94104833, 15.91384427,\n",
       "           15.88664021, 15.85943615, 15.83223209, 15.80502803, 15.77782397,\n",
       "           15.75061991, 15.72341585, 15.6962118 , 15.66900774, 15.64180368,\n",
       "           15.61459962, 15.58739556, 15.5601915 , 15.53298744, 15.50578338,\n",
       "           15.47857932, 15.45137526, 15.4241712 , 15.39696715, 15.36976309,\n",
       "           15.34255903, 15.31535497, 15.28815091, 15.26094685, 15.23374279,\n",
       "           15.20653873, 15.17933467, 15.15213061, 15.12492655, 15.0977225 ,\n",
       "           15.07051844, 15.04331438, 15.01611032, 14.98890626, 14.9617022 ,\n",
       "           14.93449814, 14.90729408, 14.88009002, 14.85288596, 14.8256819 ,\n",
       "           14.79847785, 14.77127379, 14.74406973, 14.71686567, 14.68966161,\n",
       "           14.66245755, 14.63525349, 14.60804943, 14.58084537, 14.55364131,\n",
       "           14.52643725, 14.4992332 , 14.47202914, 14.44482508, 14.41762102,\n",
       "           14.39041696, 14.3632129 , 14.33600884, 14.30880478, 14.28160072,\n",
       "           14.25439666, 14.2271926 , 14.19998855, 14.17278449, 14.14558043,\n",
       "           14.11837637, 14.09117231, 14.06396825, 14.03676419, 14.00956013,\n",
       "           13.98235607, 13.95515201, 13.92794796, 13.9007439 , 13.87353984,\n",
       "           13.84633578, 13.81913172, 13.79192766, 13.7647236 , 13.73751954,\n",
       "           13.71031548, 13.68311142, 13.65590736, 13.62870331, 13.60149925,\n",
       "           13.57429519, 13.54709113, 13.51988707, 13.49268301, 13.46547895,\n",
       "           13.43827489, 13.41107083, 13.38386677, 13.35666271, 13.32945866,\n",
       "           13.3022546 , 13.27505054, 13.24784648, 13.22064242, 13.19343836,\n",
       "           13.1662343 , 13.13903024, 13.11182618, 13.08462212, 13.05741806,\n",
       "           13.03021401, 13.00300995, 12.97580589, 12.94860183, 12.92139777,\n",
       "           12.89419371, 12.86698965, 12.83978559, 12.81258153, 12.78537747,\n",
       "           12.75817341, 12.73096936, 12.7037653 , 12.67656124, 12.64935718,\n",
       "           12.62215312, 12.59494906, 12.567745  , 12.54054094, 12.51333688,\n",
       "           12.48613282, 12.45892876, 12.43172471, 12.40452065, 12.37731659,\n",
       "           12.35011253, 12.32290847, 12.29570441, 12.26850035, 12.24129629,\n",
       "           12.21409223, 12.18688817, 12.15968411, 12.13248006, 12.105276  ,\n",
       "           12.07807194, 12.05086788, 12.02366382, 11.99645976, 11.9692557 ,\n",
       "           11.94205164, 11.91484758, 11.88764352, 11.86043947, 11.83323541,\n",
       "           11.80603135, 11.77882729, 11.75162323, 11.72441917, 11.69721511,\n",
       "           11.67001105, 11.64280699, 11.61560293, 11.58839887, 11.56119482,\n",
       "           11.53399076, 11.5067867 , 11.47958264, 11.45237858, 11.42517452] km / s>"
      ]
     },
     "execution_count": 2,
     "metadata": {},
     "output_type": "execute_result"
    }
   ],
   "source": [
    "npts = 1000\n",
    "x = np.arange(npts)\n",
    "restfreq = 110.20137*u.GHz\n",
    "cdelt1=10*u.kHz\n",
    "xfreq = restfreq+(x-npts//2)*cdelt1\n",
    "y = 3.14+ np.random.rand(npts)+1000*norm(loc=npts/2,scale=50).pdf(x)\n",
    "header={\n",
    "'CDELT1': cdelt1.to('Hz').value, \n",
    "'CRVAL1': xfreq[0].to('Hz').value,\n",
    "'CUNIT1': 'Hz',\n",
    "'CTYPE1': 'FREQ', 'CRPIX1': 1, 'RESTFRQ': restfreq.value, \n",
    "'CTYPE2': 'RA--SIN', 'CRVAL2': 221.34, 'CRPIX2': 1,\n",
    "'CTYPE3': 'DEC--SIN', 'CRVAL3': -12.13, 'CRPIX3': 1,\n",
    "'CUNIT2': 'deg', 'CUNIT3':'deg',\n",
    "'NAXIS1': len(x), 'NAXIS2':1, 'NAXIS3':1,\n",
    "'OBJECT':\"NGC 3421\"\n",
    "}\n",
    "\n",
    "s = Spectrum(flux=y*u.K,spectral_axis=xfreq, rest_value = restfreq, meta=header,\n",
    "             velocity_convention='radio',radial_velocity=25*u.Unit('km/s'))\n",
    "s.velocity"
   ]
  },
  {
   "cell_type": "code",
   "execution_count": 3,
   "id": "7a54b33f-2acc-46f9-8f51-9f0c84e37bd4",
   "metadata": {},
   "outputs": [],
   "source": [
    "s2 =Spectrum1D(flux=y*u.K,spectral_axis=xfreq, rest_value = restfreq, meta=header,\n",
    "             velocity_convention='radio',radial_velocity=25*u.Unit('km/s'))"
   ]
  },
  {
   "cell_type": "code",
   "execution_count": 4,
   "id": "391cb354-05aa-4fe1-9ce0-249ddd992058",
   "metadata": {},
   "outputs": [
    {
     "data": {
      "text/latex": [
       "$25 \\; \\mathrm{\\frac{km}{s}}$"
      ],
      "text/plain": [
       "<Quantity 25. km / s>"
      ]
     },
     "execution_count": 4,
     "metadata": {},
     "output_type": "execute_result"
    }
   ],
   "source": [
    "s2.radial_velocity"
   ]
  },
  {
   "cell_type": "code",
   "execution_count": 5,
   "id": "8d448464-0603-4ded-8d63-0853073b2549",
   "metadata": {},
   "outputs": [
    {
     "data": {
      "text/latex": [
       "$25 \\; \\mathrm{\\frac{km}{s}}$"
      ],
      "text/plain": [
       "<Quantity 25. km / s>"
      ]
     },
     "execution_count": 5,
     "metadata": {},
     "output_type": "execute_result"
    }
   ],
   "source": [
    "s.spectral_axis.radial_velocity"
   ]
  },
  {
   "cell_type": "code",
   "execution_count": null,
   "id": "9ff92d96-a7f6-4eb1-871f-9685135bf794",
   "metadata": {},
   "outputs": [],
   "source": [
    "s.spectral_axis"
   ]
  },
  {
   "cell_type": "code",
   "execution_count": null,
   "id": "57f1dffe-a360-45cc-9347-47bb2be51aec",
   "metadata": {},
   "outputs": [],
   "source": [
    "s.velocity_frame"
   ]
  },
  {
   "cell_type": "code",
   "execution_count": null,
   "id": "f0efd8bd-8ba4-4685-aa2b-ec8f7d610246",
   "metadata": {},
   "outputs": [],
   "source": [
    "s.write('/tmp/spec.fits',overwrite=True)\n",
    "#hdu=fits.open('/tmp/spec.fits')\n",
    "from astropy.nddata import CCDData\n",
    "s.write.list_formats()\n",
    "from specutils.io.registers import identify_spectrum_format\n",
    "identify_spectrum_format('/tmp/spec.fits')"
   ]
  },
  {
   "cell_type": "code",
   "execution_count": null,
   "id": "3ea1ae62-ba4e-4a2f-9e29-c7051ec7c1f8",
   "metadata": {},
   "outputs": [],
   "source": [
    "s.uncertainty=StdDevUncertainty(np.random.rand(npts))"
   ]
  },
  {
   "cell_type": "code",
   "execution_count": null,
   "id": "87335175-b71d-4ced-b3f2-836fb9302ded",
   "metadata": {},
   "outputs": [],
   "source": [
    "s.write('/tmp/spec.txt',format='ipac',overwrite=True)"
   ]
  },
  {
   "cell_type": "markdown",
   "id": "c609f7fa-3e49-46c6-b2e5-f306e15bff4e",
   "metadata": {},
   "source": [
    "### Plot it with SpectrumPlot"
   ]
  },
  {
   "cell_type": "code",
   "execution_count": null,
   "id": "00161dbd-107b-43f5-bd19-f7547501d02e",
   "metadata": {},
   "outputs": [],
   "source": [
    "p = SpectrumPlot(s)\n",
    "p.plot(grid=True)"
   ]
  },
  {
   "cell_type": "code",
   "execution_count": null,
   "id": "8941dfc8-31fc-4049-9bb3-24a909f2cdea",
   "metadata": {},
   "outputs": [],
   "source": [
    "if False:  # testing how to indicate baseline exclude region with a line under the x axis\n",
    "    p.plot(color='green',grid=True,xaxis_unit=\"channel\",clip_on=False)\n",
    "    #p.axis.set_clip_on(False)\n",
    "    xr = p.axis.get_xlim()\n",
    "    yr = p.axis.get_xlim()\n",
    "    transx = p.axis.get_xaxis_transform()\n",
    "    transy = p.axis.get_yaxis_transform()\n",
    "    p.axis.plot(xr,[-0.02,-0.02], color=\"orange\", transform=transx, clip_on=False,lw=1.2)\n",
    "    #p.axis.axhline(y=2,color='orange')"
   ]
  },
  {
   "cell_type": "markdown",
   "id": "2faf3864-ffed-46f9-b331-f2dcbde42f1c",
   "metadata": {},
   "source": [
    "### Note plot attributes are sticky, e.g. the grid stays on until you turn it off\n",
    "Is this a good feature?  Would be useful for a standalone plot that stays up between plot updates."
   ]
  },
  {
   "cell_type": "code",
   "execution_count": null,
   "id": "4e3ee793-fb88-49d2-b385-20724e5f60f1",
   "metadata": {},
   "outputs": [],
   "source": [
    "p.plot(color='gray',xaxis_unit=\"km/s\")"
   ]
  },
  {
   "cell_type": "code",
   "execution_count": null,
   "id": "8a97b0bd-28cf-45f3-a56b-fe1f4281dc55",
   "metadata": {},
   "outputs": [],
   "source": [
    "p.plot(xaxis_unit=\"mm\",yaxis_unit=\"mK\")\n",
    "# Haha it should say wavelength not velocity"
   ]
  },
  {
   "cell_type": "markdown",
   "id": "0e4cc2d8-80dc-403c-a085-c27484e3be9e",
   "metadata": {},
   "source": [
    "### Reset arguments to defaults"
   ]
  },
  {
   "cell_type": "code",
   "execution_count": null,
   "id": "7cc86049-c18d-4fa1-b365-6da1b0a0ce74",
   "metadata": {},
   "outputs": [],
   "source": [
    "p.reset()\n",
    "p.plot()"
   ]
  },
  {
   "cell_type": "markdown",
   "id": "e8beb219-53b1-4143-a78e-e0b9984564db",
   "metadata": {},
   "source": [
    "### You can also plot directly from the Spectrum"
   ]
  },
  {
   "cell_type": "code",
   "execution_count": null,
   "id": "22c9f5ed-6fac-4ab1-9aae-1f6b194b3ecc",
   "metadata": {},
   "outputs": [],
   "source": [
    "s.plot(color='green',grid=True,xaxis_unit=\"channel\")"
   ]
  },
  {
   "cell_type": "markdown",
   "id": "71e52a4c-497d-4d13-b004-2db6852fb49f",
   "metadata": {},
   "source": [
    "----------------------"
   ]
  },
  {
   "cell_type": "markdown",
   "id": "b04f36ea-5b15-4f76-b75f-463da94dd1ee",
   "metadata": {},
   "source": [
    "## Baseline subtraction\n"
   ]
  },
  {
   "cell_type": "markdown",
   "id": "5217d57a-bdeb-4167-980b-dbcf8ed47886",
   "metadata": {},
   "source": [
    "### Use channels for the exclude region. Compute the baseline, exclude channels 300 to 700, don't remove it.\n",
    "The red line shows the computed baseline\n",
    "Note that since exclude_action is not set, the exclude region attribute on the spectrum itself will not be set.\n",
    "Attempting to show baseline exlcusion range with orange line.  Seems shifted -- is it radial_velocity?"
   ]
  },
  {
   "cell_type": "code",
   "execution_count": null,
   "id": "b6452f19-e724-414a-9d67-48e2232ac679",
   "metadata": {},
   "outputs": [],
   "source": [
    "s._plotter=None\n",
    "s._undo_baseline()\n",
    "s.baseline(1,exclude=[300,700],remove=False)#,exclude_action='replace')\n",
    "s.plot()\n",
    "print(s.exclude_regions)\n",
    "idx = region_to_axis_indices(s.exclude_regions[0],s)\n",
    "print(idx)\n",
    "s.bshow()\n",
    "s.plotter.axis.plot(s.spectral_axis,s._baseline_model(s.spectral_axis),color='r')\n",
    "transx = s.plotter.axis.get_xaxis_transform()\n",
    "xr1 =(s.spectral_axis[0].value,s.spectral_axis[idx[0]].value)\n",
    "print(\"XLIM \",s.plotter.axis.get_xlim())\n",
    "print(xr1)\n",
    "xr2 =(s.spectral_axis[idx[1]].value,s.spectral_axis[-1].value)\n",
    "print(xr2)\n",
    "s.plotter.axis.plot(xr1,[-0.02,-0.02], color=\"orange\", transform=transx, clip_on=False,lw=1.2)\n",
    "s.plotter.axis.plot(xr2,[-0.02,-0.02], color=\"orange\", transform=transx, clip_on=False,lw=1.2)\n",
    "#ax.plot(s.spectral_axis,s._baseline_model(s.exclude_regions),color='g')\n",
    "#ax.axvline(x=110.201,ymin=0,ymax=12,color='k',lw=4)\n",
    "s.plotter._plt.show()"
   ]
  },
  {
   "cell_type": "code",
   "execution_count": null,
   "id": "395c2d30-e720-418a-823a-39c05dd9141d",
   "metadata": {},
   "outputs": [],
   "source": []
  },
  {
   "cell_type": "code",
   "execution_count": null,
   "id": "70fc7ecb-22cc-4957-81e5-37ad0a0d4fa1",
   "metadata": {},
   "outputs": [],
   "source": [
    "s._undo_baseline()\n",
    "s.plot()"
   ]
  },
  {
   "cell_type": "markdown",
   "id": "56fea1e9-6e6f-4c54-91fc-4d9390b43cfd",
   "metadata": {},
   "source": [
    "## test using exclude outside spectral axis\n",
    "first should warn, second should except\n"
   ]
  },
  {
   "cell_type": "code",
   "execution_count": null,
   "id": "1ff92eb1-2320-4dea-9e9f-f760f639fe89",
   "metadata": {},
   "outputs": [],
   "source": [
    "s.baseline(1,exclude=[300,6700],remove=False,fix_exclude=True)\n",
    "s.baseline(1,exclude=[300,6700],remove=False)"
   ]
  },
  {
   "cell_type": "markdown",
   "id": "674264d3-a1ff-4b2b-ab03-c5696ef4452f",
   "metadata": {},
   "source": [
    "## Use a frequency Quantity for the exclude region\n",
    "Try presetting a spectral exclude region and replace it or not."
   ]
  },
  {
   "cell_type": "code",
   "execution_count": null,
   "id": "5a706457-b37e-4258-a654-8ffe45eef8cf",
   "metadata": {},
   "outputs": [],
   "source": [
    "s._exclude_regions = [SpectralRegion(110.199*u.GHz,110.2037*u.GHz)]\n",
    "s.baseline(degree=0,remove=False)\n",
    "s.bshow()\n",
    "s.baseline(degree=1,remove=True,exclude=[110.198*u.GHz,110.204*u.GHz],exclude_action='replace')\n",
    "s.plot(color='black',xaxis_unit=\"km/s\")\n",
    "s.bshow()\n",
    "# haha should say \"Velocity\""
   ]
  },
  {
   "cell_type": "code",
   "execution_count": null,
   "id": "8b394e7d-639b-4178-9714-4693c1217910",
   "metadata": {},
   "outputs": [],
   "source": [
    "# this should except\n",
    "s.baseline(1,exclude=[110.199*u.GHz,210.2037*u.GHz],remove=False)"
   ]
  },
  {
   "cell_type": "code",
   "execution_count": null,
   "id": "a3a38c10-d973-4527-b3c5-40df1c156e12",
   "metadata": {},
   "outputs": [],
   "source": [
    "s._undo_baseline()\n",
    "kms = u.Unit(\"km/s\")\n",
    "s.baseline(2,exclude=[19.559188*kms,30.4408*kms],remove=False)\n",
    "s.plot()\n",
    "s.plotter.axis.plot(s.spectral_axis,s._baseline_model(s.spectral_axis),color='r')"
   ]
  },
  {
   "cell_type": "markdown",
   "id": "f816acab-c22d-4500-a50a-f561499624c3",
   "metadata": {},
   "source": [
    "### print some statistics [mean, rms, min, max], show the baseline model function"
   ]
  },
  {
   "cell_type": "code",
   "execution_count": null,
   "id": "72aa0887-8307-4697-b0f1-17084f432a8c",
   "metadata": {},
   "outputs": [],
   "source": [
    "print(s.stats())\n",
    "s.bshow()"
   ]
  },
  {
   "cell_type": "markdown",
   "id": "b969bed1-899e-45ee-ab2c-26b91d817fb1",
   "metadata": {},
   "source": [
    "### now do again it and remove the baseline"
   ]
  },
  {
   "cell_type": "code",
   "execution_count": null,
   "id": "5313009c-71d9-4733-b437-b270c787d666",
   "metadata": {},
   "outputs": [],
   "source": [
    "### undo the baseline removal.  Stats shows it has been added back in and the spectrum is restored"
   ]
  },
  {
   "cell_type": "code",
   "execution_count": null,
   "id": "e35cc786-7be4-47a4-a4a6-d6ff14c04876",
   "metadata": {},
   "outputs": [],
   "source": [
    "s._undo_baseline()\n",
    "print(s.stats())\n",
    "s.bshow()\n"
   ]
  },
  {
   "cell_type": "code",
   "execution_count": null,
   "id": "bba77bf2-963c-491d-9300-88655c2eab29",
   "metadata": {},
   "outputs": [],
   "source": [
    "from dysh.fits.gbtfitsload import GBTFITSLoad\n",
    "# Assuming you are in the dysh root dir.\n",
    "sdf_file = \"/home/mpound/src/dysh/src/dysh/fits/tests/data/TGBT21A_501_11_ifnum_0_int_0-2.fits\"\n",
    "sdf = GBTFITSLoad(sdf_file)\n",
    "psscan = sdf.getps(152, plnum=0)\n",
    "psscan.calibrate()\n",
    "psscan.tsys\n",
    "#>>> array([17.17140405, 17.3474724 , 17.0515161 ])\n",
    "# The above should be:\n",
    "#>>> array([17.24000345, 17.17140405, 17.15663698])"
   ]
  },
  {
   "cell_type": "code",
   "execution_count": null,
   "id": "7df303f3-d8c9-4426-acdb-c2ae3d3008ed",
   "metadata": {},
   "outputs": [],
   "source": [
    "datadir = '/data/gbt'\n",
    "#f = datadir + '/examples/misc/ngc5291.fits'\n",
    "f = datadir + '/examples/onoff-L/data/TGBT21A_501_11.raw.vegas.fits'\n",
    "#f = datadir + 'examples/nod-KFPA/data/TGBT22A_503_02.raw.vegas/TGBT22A_503_02.raw.vegas.A.fits'\n",
    "#f = datadir + '/examples/mixed-fs-ps/data/AGBT16B_225_05/AGBT16B_225_05.raw.vegas/AGBT16B_225_05.raw.vegas.A.fits'\n",
    "p = GBTFITSLoad(f)"
   ]
  },
  {
   "cell_type": "code",
   "execution_count": null,
   "id": "468b61da-d2c6-453e-b362-adc3d04f5bfd",
   "metadata": {},
   "outputs": [],
   "source": [
    "psscan = p.getps(152, plnum=0)\n",
    "psscan.calibrate()\n",
    "psscan.tsys"
   ]
  },
  {
   "cell_type": "code",
   "execution_count": null,
   "id": "9ec75402-bba6-4b93-a903-fb6850a991f7",
   "metadata": {},
   "outputs": [],
   "source": [
    "spec=psscan.timeaverage()\n",
    "spec.plot()"
   ]
  },
  {
   "cell_type": "code",
   "execution_count": null,
   "id": "8262730f-469c-4daa-b3d4-8ec4a8054734",
   "metadata": {},
   "outputs": [],
   "source": []
  }
 ],
 "metadata": {
  "kernelspec": {
   "display_name": "Python 3 (ipykernel)",
   "language": "python",
   "name": "python3"
  },
  "language_info": {
   "codemirror_mode": {
    "name": "ipython",
    "version": 3
   },
   "file_extension": ".py",
   "mimetype": "text/x-python",
   "name": "python",
   "nbconvert_exporter": "python",
   "pygments_lexer": "ipython3",
   "version": "3.9.18"
  }
 },
 "nbformat": 4,
 "nbformat_minor": 5
}
