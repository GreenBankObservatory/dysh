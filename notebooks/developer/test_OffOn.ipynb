{
 "cells": [
  {
   "cell_type": "markdown",
   "id": "bfa6e0a3-50a6-4b86-93f9-ea52fe69bb71",
   "metadata": {},
   "source": [
    "Notebook for calibrating an `OffOn` observation."
   ]
  },
  {
   "cell_type": "code",
   "execution_count": 2,
   "id": "23817299-b5cf-4590-b0f1-4107215f088d",
   "metadata": {},
   "outputs": [],
   "source": [
    "from dysh.fits.gbtfitsload import GBTFITSLoad\n",
    "import dysh.util as util"
   ]
  },
  {
   "cell_type": "code",
   "execution_count": 3,
   "id": "c514b428-dda7-48b8-931f-d93d1ee0f505",
   "metadata": {},
   "outputs": [],
   "source": [
    "# Point it to the testdata directory on the root dysh directory.\n",
    "testdata = util.get_project_testdata()\n",
    "#testdata = \"/home/sandboxes/psalas/Dysh/dysh/testdata\"\n",
    "# The folder with multiple SDFITS files.\n",
    "data_path = testdata  / \"AGBT18B_354_03.raw.vegas\""
   ]
  },
  {
   "cell_type": "code",
   "execution_count": 4,
   "id": "ece473ba-b84c-41ae-8975-00d1ba4e2bd5",
   "metadata": {},
   "outputs": [
    {
     "data": {
      "text/html": [
       "<div>\n",
       "<style scoped>\n",
       "    .dataframe tbody tr th:only-of-type {\n",
       "        vertical-align: middle;\n",
       "    }\n",
       "\n",
       "    .dataframe tbody tr th {\n",
       "        vertical-align: top;\n",
       "    }\n",
       "\n",
       "    .dataframe thead th {\n",
       "        text-align: right;\n",
       "    }\n",
       "</style>\n",
       "<table border=\"1\" class=\"dataframe\">\n",
       "  <thead>\n",
       "    <tr style=\"text-align: right;\">\n",
       "      <th></th>\n",
       "      <th>SCAN</th>\n",
       "      <th>OBJECT</th>\n",
       "      <th>VELOCITY</th>\n",
       "      <th>PROC</th>\n",
       "      <th>PROCSEQN</th>\n",
       "      <th>RESTFREQ</th>\n",
       "      <th>DOPFREQ</th>\n",
       "      <th># IF</th>\n",
       "      <th># POL</th>\n",
       "      <th># INT</th>\n",
       "      <th># FEED</th>\n",
       "      <th>AZIMUTH</th>\n",
       "      <th>ELEVATIO</th>\n",
       "    </tr>\n",
       "  </thead>\n",
       "  <tbody>\n",
       "    <tr>\n",
       "      <th>0</th>\n",
       "      <td>6</td>\n",
       "      <td>W49N</td>\n",
       "      <td>7.0</td>\n",
       "      <td>OffOn</td>\n",
       "      <td>1</td>\n",
       "      <td>45.077148</td>\n",
       "      <td>44.979549</td>\n",
       "      <td>4</td>\n",
       "      <td>2</td>\n",
       "      <td>4</td>\n",
       "      <td>1</td>\n",
       "      <td>128.090129</td>\n",
       "      <td>50.305025</td>\n",
       "    </tr>\n",
       "    <tr>\n",
       "      <th>1</th>\n",
       "      <td>7</td>\n",
       "      <td>W49N</td>\n",
       "      <td>7.0</td>\n",
       "      <td>OffOn</td>\n",
       "      <td>2</td>\n",
       "      <td>45.060008</td>\n",
       "      <td>44.979549</td>\n",
       "      <td>4</td>\n",
       "      <td>2</td>\n",
       "      <td>4</td>\n",
       "      <td>1</td>\n",
       "      <td>129.919789</td>\n",
       "      <td>50.435133</td>\n",
       "    </tr>\n",
       "  </tbody>\n",
       "</table>\n",
       "</div>"
      ],
      "text/plain": [
       "   SCAN OBJECT VELOCITY   PROC  PROCSEQN   RESTFREQ    DOPFREQ # IF # POL  \\\n",
       "0     6   W49N      7.0  OffOn         1  45.077148  44.979549    4     2   \n",
       "1     7   W49N      7.0  OffOn         2  45.060008  44.979549    4     2   \n",
       "\n",
       "  # INT # FEED     AZIMUTH   ELEVATIO  \n",
       "0     4      1  128.090129  50.305025  \n",
       "1     4      1  129.919789  50.435133  "
      ]
     },
     "execution_count": 4,
     "metadata": {},
     "output_type": "execute_result"
    }
   ],
   "source": [
    "sdf = GBTFITSLoad(data_path)\n",
    "sdf.summary()"
   ]
  },
  {
   "cell_type": "markdown",
   "id": "d09b21e8-60c2-4e37-8609-b27deefeb300",
   "metadata": {},
   "source": [
    "The data contains two scans, 6 & 7,\n",
    "* 6 is the Off and\n",
    "* 7 is the On.\n",
    "\n",
    "If we request to calibrate scan 6 using position switching, we get an error. Same for scan 7.\n",
    "\n",
    "This is because `dysh` assumes that the Off scan proceeds the On scan, which is not always true."
   ]
  },
  {
   "cell_type": "code",
   "execution_count": 5,
   "id": "e40aad34-836f-41fb-8875-d8310f8da7db",
   "metadata": {},
   "outputs": [
    {
     "name": "stdout",
     "output_type": "stream",
     "text": [
      "FILE  /home/sandboxes/psalas/Dysh/dysh/testdata/AGBT18B_354_03.raw.vegas/AGBT18B_354_03.raw.vegas.A.fits\n",
      "FILE  /home/sandboxes/psalas/Dysh/dysh/testdata/AGBT18B_354_03.raw.vegas/AGBT18B_354_03.raw.vegas.A.fits\n",
      "FILE  /home/sandboxes/psalas/Dysh/dysh/testdata/AGBT18B_354_03.raw.vegas/AGBT18B_354_03.raw.vegas.B.fits\n",
      "FILE  /home/sandboxes/psalas/Dysh/dysh/testdata/AGBT18B_354_03.raw.vegas/AGBT18B_354_03.raw.vegas.C.fits\n",
      "FILE  /home/sandboxes/psalas/Dysh/dysh/testdata/AGBT18B_354_03.raw.vegas/AGBT18B_354_03.raw.vegas.D.fits\n",
      "FILE  /home/sandboxes/psalas/Dysh/dysh/testdata/AGBT18B_354_03.raw.vegas/getps_scan_6_ifnum_2_plnum_0_intnum_0.fits\n"
     ]
    },
    {
     "name": "stderr",
     "output_type": "stream",
     "text": [
      "/home/sandboxes/psalas/Dysh/dysh/src/dysh/spectra/core.py:364: RuntimeWarning: Mean of empty slice\n",
      "  meandiff = np.nanmean(calon[chrng] - caloff[chrng])\n",
      "/home/sandboxes/psalas/Dysh/dysh/src/dysh/fits/gbtfitsload.py:955: UserWarning: no on/off scans found for given selection\n",
      "  warnings.warn(\"no on/off scans found for given selection\")\n"
     ]
    }
   ],
   "source": [
    "ps_scan = sdf.getps([6], ifnum=2)"
   ]
  },
  {
   "cell_type": "code",
   "execution_count": 6,
   "id": "a59566b1-57c6-432d-bcda-4f28f672156e",
   "metadata": {},
   "outputs": [
    {
     "name": "stdout",
     "output_type": "stream",
     "text": [
      "FILE  /home/sandboxes/psalas/Dysh/dysh/testdata/AGBT18B_354_03.raw.vegas/AGBT18B_354_03.raw.vegas.A.fits\n",
      "FILE  /home/sandboxes/psalas/Dysh/dysh/testdata/AGBT18B_354_03.raw.vegas/AGBT18B_354_03.raw.vegas.B.fits\n",
      "FILE  /home/sandboxes/psalas/Dysh/dysh/testdata/AGBT18B_354_03.raw.vegas/AGBT18B_354_03.raw.vegas.C.fits\n",
      "FILE  /home/sandboxes/psalas/Dysh/dysh/testdata/AGBT18B_354_03.raw.vegas/AGBT18B_354_03.raw.vegas.A.fits\n"
     ]
    },
    {
     "ename": "Exception",
     "evalue": "Scans [] not found in bintable None",
     "output_type": "error",
     "traceback": [
      "\u001b[0;31m---------------------------------------------------------------------------\u001b[0m",
      "\u001b[0;31mException\u001b[0m                                 Traceback (most recent call last)",
      "Cell \u001b[0;32mIn[6], line 1\u001b[0m\n\u001b[0;32m----> 1\u001b[0m ps_scan \u001b[38;5;241m=\u001b[39m \u001b[43msdf\u001b[49m\u001b[38;5;241;43m.\u001b[39;49m\u001b[43mgetps\u001b[49m\u001b[43m(\u001b[49m\u001b[43m[\u001b[49m\u001b[38;5;241;43m6\u001b[39;49m\u001b[43m]\u001b[49m\u001b[43m,\u001b[49m\u001b[43m \u001b[49m\u001b[43mifnum\u001b[49m\u001b[38;5;241;43m=\u001b[39;49m\u001b[38;5;241;43m0\u001b[39;49m\u001b[43m)\u001b[49m\n",
      "File \u001b[0;32m/home/sandboxes/psalas/Dysh/dysh/src/dysh/fits/gbtfitsload.py:388\u001b[0m, in \u001b[0;36mGBTFITSLoad.getps\u001b[0;34m(self, scans, bintable, **kwargs)\u001b[0m\n\u001b[1;32m    386\u001b[0m     \u001b[38;5;28;01mcontinue\u001b[39;00m\n\u001b[1;32m    387\u001b[0m \u001b[38;5;66;03m# add ifnum,plnum\u001b[39;00m\n\u001b[0;32m--> 388\u001b[0m rows \u001b[38;5;241m=\u001b[39m \u001b[38;5;28;43mself\u001b[39;49m\u001b[38;5;241;43m.\u001b[39;49m\u001b[43monoff_rows\u001b[49m\u001b[43m(\u001b[49m\u001b[43mscans\u001b[49m\u001b[43m,\u001b[49m\u001b[43m \u001b[49m\u001b[43mifnum\u001b[49m\u001b[38;5;241;43m=\u001b[39;49m\u001b[43mifnum\u001b[49m\u001b[43m,\u001b[49m\u001b[43m \u001b[49m\u001b[43mplnum\u001b[49m\u001b[38;5;241;43m=\u001b[39;49m\u001b[43mplnum\u001b[49m\u001b[43m,\u001b[49m\u001b[43m \u001b[49m\u001b[43mbintable\u001b[49m\u001b[38;5;241;43m=\u001b[39;49m\u001b[43mbintable\u001b[49m\u001b[43m,\u001b[49m\u001b[43m \u001b[49m\u001b[43mfitsindex\u001b[49m\u001b[38;5;241;43m=\u001b[39;49m\u001b[43mi\u001b[49m\u001b[43m)\u001b[49m\n\u001b[1;32m    389\u001b[0m \u001b[38;5;66;03m# do not pass scan list here. We need all the cal rows. They will\u001b[39;00m\n\u001b[1;32m    390\u001b[0m \u001b[38;5;66;03m# be intersected with scan rows in PSScan\u001b[39;00m\n\u001b[1;32m    391\u001b[0m \u001b[38;5;66;03m# add ifnum,plnum\u001b[39;00m\n\u001b[1;32m    392\u001b[0m calrows \u001b[38;5;241m=\u001b[39m \u001b[38;5;28mself\u001b[39m\u001b[38;5;241m.\u001b[39mcalonoff_rows(scans\u001b[38;5;241m=\u001b[39m\u001b[38;5;28;01mNone\u001b[39;00m, bintable\u001b[38;5;241m=\u001b[39mbintable, fitsindex\u001b[38;5;241m=\u001b[39mi)\n",
      "File \u001b[0;32m/home/sandboxes/psalas/Dysh/dysh/src/dysh/fits/gbtfitsload.py:1105\u001b[0m, in \u001b[0;36mGBTFITSLoad.onoff_rows\u001b[0;34m(self, scans, ifnum, plnum, bintable, fitsindex)\u001b[0m\n\u001b[1;32m   1103\u001b[0m \u001b[38;5;66;03m# scans is now a dict of \"ON\" \"OFF\u001b[39;00m\n\u001b[1;32m   1104\u001b[0m \u001b[38;5;28;01mfor\u001b[39;00m key \u001b[38;5;129;01min\u001b[39;00m scans:\n\u001b[0;32m-> 1105\u001b[0m     rows[key] \u001b[38;5;241m=\u001b[39m \u001b[38;5;28;43mself\u001b[39;49m\u001b[38;5;241;43m.\u001b[39;49m\u001b[43mscan_rows\u001b[49m\u001b[43m(\u001b[49m\u001b[43mscans\u001b[49m\u001b[43m[\u001b[49m\u001b[43mkey\u001b[49m\u001b[43m]\u001b[49m\u001b[43m,\u001b[49m\u001b[43m \u001b[49m\u001b[43mifnum\u001b[49m\u001b[43m,\u001b[49m\u001b[43m \u001b[49m\u001b[43mplnum\u001b[49m\u001b[43m,\u001b[49m\u001b[43m \u001b[49m\u001b[43mbintable\u001b[49m\u001b[43m)\u001b[49m\n\u001b[1;32m   1106\u001b[0m \u001b[38;5;28;01mreturn\u001b[39;00m rows\n",
      "File \u001b[0;32m/home/sandboxes/psalas/Dysh/dysh/src/dysh/fits/gbtfitsload.py:1138\u001b[0m, in \u001b[0;36mGBTFITSLoad.scan_rows\u001b[0;34m(self, scans, ifnum, plnum, bintable, fitsindex)\u001b[0m\n\u001b[1;32m   1136\u001b[0m rows \u001b[38;5;241m=\u001b[39m \u001b[38;5;28mlist\u001b[39m(df\u001b[38;5;241m.\u001b[39mindex)\n\u001b[1;32m   1137\u001b[0m \u001b[38;5;28;01mif\u001b[39;00m \u001b[38;5;28mlen\u001b[39m(rows) \u001b[38;5;241m==\u001b[39m \u001b[38;5;241m0\u001b[39m:\n\u001b[0;32m-> 1138\u001b[0m     \u001b[38;5;28;01mraise\u001b[39;00m \u001b[38;5;167;01mException\u001b[39;00m(\u001b[38;5;124mf\u001b[39m\u001b[38;5;124m\"\u001b[39m\u001b[38;5;124mScans \u001b[39m\u001b[38;5;132;01m{\u001b[39;00mscans\u001b[38;5;132;01m}\u001b[39;00m\u001b[38;5;124m not found in bintable \u001b[39m\u001b[38;5;132;01m{\u001b[39;00mbintable\u001b[38;5;132;01m}\u001b[39;00m\u001b[38;5;124m\"\u001b[39m)\n\u001b[1;32m   1139\u001b[0m \u001b[38;5;28;01mreturn\u001b[39;00m rows\n",
      "\u001b[0;31mException\u001b[0m: Scans [] not found in bintable None"
     ]
    }
   ],
   "source": [
    "ps_scan = sdf.getps([6], ifnum=0)"
   ]
  },
  {
   "cell_type": "code",
   "execution_count": null,
   "id": "d3cabcc4-c32f-4ca9-a109-bf51a00a2b62",
   "metadata": {},
   "outputs": [],
   "source": []
  }
 ],
 "metadata": {
  "kernelspec": {
   "display_name": "Python 3 (ipykernel)",
   "language": "python",
   "name": "python3"
  },
  "language_info": {
   "codemirror_mode": {
    "name": "ipython",
    "version": 3
   },
   "file_extension": ".py",
   "mimetype": "text/x-python",
   "name": "python",
   "nbconvert_exporter": "python",
   "pygments_lexer": "ipython3",
   "version": "3.11.6"
  }
 },
 "nbformat": 4,
 "nbformat_minor": 5
}
