{
 "cells": [
  {
   "cell_type": "markdown",
   "id": "bfa6e0a3-50a6-4b86-93f9-ea52fe69bb71",
   "metadata": {},
   "source": [
    "Notebook for calibrating an `OffOn` observation."
   ]
  },
  {
   "cell_type": "code",
   "execution_count": 1,
   "id": "23817299-b5cf-4590-b0f1-4107215f088d",
   "metadata": {},
   "outputs": [],
   "source": [
    "import wget\n",
    "\n",
    "from dysh.fits.gbtfitsload import GBTFITSLoad"
   ]
  },
  {
   "cell_type": "code",
   "execution_count": 2,
   "id": "c514b428-dda7-48b8-931f-d93d1ee0f505",
   "metadata": {},
   "outputs": [],
   "source": [
    "# User inputs\n",
    "ifnum = 2\n",
    "url = \"https://github.com/GreenBankObservatory/dysh/raw/multifits/testdata/AGBT18B_354_03.raw.vegas/AGBT18B_354_03.raw.vegas.A.fits\""
   ]
  },
  {
   "cell_type": "code",
   "execution_count": 3,
   "id": "bbcba10e-1f76-4363-b7e8-647f4dd7bb1c",
   "metadata": {},
   "outputs": [
    {
     "name": "stdout",
     "output_type": "stream",
     "text": [
      "100% [........................................................................] 16822080 / 16822080"
     ]
    }
   ],
   "source": [
    "# Download the file\n",
    "filename = wget.download(url)"
   ]
  },
  {
   "cell_type": "code",
   "execution_count": 4,
   "id": "ece473ba-b84c-41ae-8975-00d1ba4e2bd5",
   "metadata": {},
   "outputs": [
    {
     "data": {
      "text/html": [
       "<div>\n",
       "<style scoped>\n",
       "    .dataframe tbody tr th:only-of-type {\n",
       "        vertical-align: middle;\n",
       "    }\n",
       "\n",
       "    .dataframe tbody tr th {\n",
       "        vertical-align: top;\n",
       "    }\n",
       "\n",
       "    .dataframe thead th {\n",
       "        text-align: right;\n",
       "    }\n",
       "</style>\n",
       "<table border=\"1\" class=\"dataframe\">\n",
       "  <thead>\n",
       "    <tr style=\"text-align: right;\">\n",
       "      <th></th>\n",
       "      <th>SCAN</th>\n",
       "      <th>OBJECT</th>\n",
       "      <th>VELOCITY</th>\n",
       "      <th>PROC</th>\n",
       "      <th>PROCSEQN</th>\n",
       "      <th>RESTFREQ</th>\n",
       "      <th>DOPFREQ</th>\n",
       "      <th># IF</th>\n",
       "      <th># POL</th>\n",
       "      <th># INT</th>\n",
       "      <th># FEED</th>\n",
       "      <th>AZIMUTH</th>\n",
       "      <th>ELEVATIO</th>\n",
       "    </tr>\n",
       "  </thead>\n",
       "  <tbody>\n",
       "    <tr>\n",
       "      <th>0</th>\n",
       "      <td>6.0</td>\n",
       "      <td>W49N</td>\n",
       "      <td>7.0</td>\n",
       "      <td>OffOn</td>\n",
       "      <td>1.0</td>\n",
       "      <td>43.96304</td>\n",
       "      <td>44.979549</td>\n",
       "      <td>1</td>\n",
       "      <td>2</td>\n",
       "      <td>4</td>\n",
       "      <td>1</td>\n",
       "      <td>128.090105</td>\n",
       "      <td>50.304993</td>\n",
       "    </tr>\n",
       "    <tr>\n",
       "      <th>1</th>\n",
       "      <td>7.0</td>\n",
       "      <td>W49N</td>\n",
       "      <td>7.0</td>\n",
       "      <td>OffOn</td>\n",
       "      <td>2.0</td>\n",
       "      <td>43.96304</td>\n",
       "      <td>44.979549</td>\n",
       "      <td>1</td>\n",
       "      <td>2</td>\n",
       "      <td>4</td>\n",
       "      <td>1</td>\n",
       "      <td>129.920815</td>\n",
       "      <td>50.435627</td>\n",
       "    </tr>\n",
       "  </tbody>\n",
       "</table>\n",
       "</div>"
      ],
      "text/plain": [
       "  SCAN OBJECT VELOCITY   PROC PROCSEQN  RESTFREQ    DOPFREQ # IF # POL # INT  \\\n",
       "0  6.0   W49N      7.0  OffOn      1.0  43.96304  44.979549    1     2     4   \n",
       "1  7.0   W49N      7.0  OffOn      2.0  43.96304  44.979549    1     2     4   \n",
       "\n",
       "  # FEED     AZIMUTH   ELEVATIO  \n",
       "0      1  128.090105  50.304993  \n",
       "1      1  129.920815  50.435627  "
      ]
     },
     "execution_count": 4,
     "metadata": {},
     "output_type": "execute_result"
    }
   ],
   "source": [
    "sdf = GBTFITSLoad(filename)\n",
    "sdf.summary()"
   ]
  },
  {
   "cell_type": "markdown",
   "id": "d09b21e8-60c2-4e37-8609-b27deefeb300",
   "metadata": {},
   "source": [
    "The data contains two scans, 6 & 7,\n",
    "* 6 is the Off and\n",
    "* 7 is the On.\n",
    "\n",
    "If we request to calibrate scan 6 using position switching, we get an error. Same for scan 7.\n",
    "\n",
    "This is because `dysh` assumes that the Off scan proceeds the On scan, which is not always true."
   ]
  },
  {
   "cell_type": "code",
   "execution_count": 5,
   "id": "e40aad34-836f-41fb-8875-d8310f8da7db",
   "metadata": {},
   "outputs": [
    {
     "ename": "ValueError",
     "evalue": "For the requested OFF scans {6}, the ON scans [5] were not present in bintable None",
     "output_type": "error",
     "traceback": [
      "\u001b[0;31m---------------------------------------------------------------------------\u001b[0m",
      "\u001b[0;31mValueError\u001b[0m                                Traceback (most recent call last)",
      "Cell \u001b[0;32mIn[5], line 1\u001b[0m\n\u001b[0;32m----> 1\u001b[0m ps_scan \u001b[38;5;241m=\u001b[39m \u001b[43msdf\u001b[49m\u001b[38;5;241;43m.\u001b[39;49m\u001b[43mgetps\u001b[49m\u001b[43m(\u001b[49m\u001b[43m[\u001b[49m\u001b[38;5;241;43m6\u001b[39;49m\u001b[43m]\u001b[49m\u001b[43m,\u001b[49m\u001b[43m \u001b[49m\u001b[43mifnum\u001b[49m\u001b[38;5;241;43m=\u001b[39;49m\u001b[38;5;241;43m2\u001b[39;49m\u001b[43m)\u001b[49m\n",
      "File \u001b[0;32m/home/sandboxes/psalas/Dysh/dysh/src/dysh/fits/gbtfitsload.py:376\u001b[0m, in \u001b[0;36mGBTFITSLoad.getps\u001b[0;34m(self, scans, bintable, **kwargs)\u001b[0m\n\u001b[1;32m    374\u001b[0m scanblock \u001b[38;5;241m=\u001b[39m ScanBlock()\n\u001b[1;32m    375\u001b[0m \u001b[38;5;28;01mfor\u001b[39;00m i \u001b[38;5;129;01min\u001b[39;00m \u001b[38;5;28mrange\u001b[39m(\u001b[38;5;28mlen\u001b[39m(\u001b[38;5;28mself\u001b[39m\u001b[38;5;241m.\u001b[39m_sdf)):\n\u001b[0;32m--> 376\u001b[0m     scanlist \u001b[38;5;241m=\u001b[39m \u001b[38;5;28;43mself\u001b[39;49m\u001b[38;5;241;43m.\u001b[39;49m\u001b[43monoff_scan_list\u001b[49m\u001b[43m(\u001b[49m\u001b[43mscans\u001b[49m\u001b[43m,\u001b[49m\u001b[43m \u001b[49m\u001b[43mifnum\u001b[49m\u001b[38;5;241;43m=\u001b[39;49m\u001b[43mifnum\u001b[49m\u001b[43m,\u001b[49m\u001b[43m \u001b[49m\u001b[43mplnum\u001b[49m\u001b[38;5;241;43m=\u001b[39;49m\u001b[43mplnum\u001b[49m\u001b[43m,\u001b[49m\u001b[43m \u001b[49m\u001b[43mfitsindex\u001b[49m\u001b[38;5;241;43m=\u001b[39;49m\u001b[43mi\u001b[49m\u001b[43m)\u001b[49m\n\u001b[1;32m    377\u001b[0m     \u001b[38;5;66;03m# add ifnum,plnum\u001b[39;00m\n\u001b[1;32m    378\u001b[0m     rows \u001b[38;5;241m=\u001b[39m \u001b[38;5;28mself\u001b[39m\u001b[38;5;241m.\u001b[39monoff_rows(scans, ifnum\u001b[38;5;241m=\u001b[39mifnum, plnum\u001b[38;5;241m=\u001b[39mplnum, bintable\u001b[38;5;241m=\u001b[39mbintable, fitsindex\u001b[38;5;241m=\u001b[39mi)\n",
      "File \u001b[0;32m/home/sandboxes/psalas/Dysh/dysh/src/dysh/fits/gbtfitsload.py:1008\u001b[0m, in \u001b[0;36mGBTFITSLoad.onoff_scan_list\u001b[0;34m(self, scans, ifnum, plnum, bintable, fitsindex)\u001b[0m\n\u001b[1;32m   1003\u001b[0m     \u001b[38;5;28;01mraise\u001b[39;00m \u001b[38;5;167;01mValueError\u001b[39;00m(\n\u001b[1;32m   1004\u001b[0m         \u001b[38;5;124mf\u001b[39m\u001b[38;5;124m\"\u001b[39m\u001b[38;5;124mFor the requested ON scans \u001b[39m\u001b[38;5;132;01m{\u001b[39;00monrequested\u001b[38;5;132;01m}\u001b[39;00m\u001b[38;5;124m, the OFF scans \u001b[39m\u001b[38;5;132;01m{\u001b[39;00mmissingoff\u001b[38;5;132;01m}\u001b[39;00m\u001b[38;5;124m were not present in bintable\u001b[39m\u001b[38;5;124m\"\u001b[39m\n\u001b[1;32m   1005\u001b[0m         \u001b[38;5;124mf\u001b[39m\u001b[38;5;124m\"\u001b[39m\u001b[38;5;124m \u001b[39m\u001b[38;5;132;01m{\u001b[39;00mbintable\u001b[38;5;132;01m}\u001b[39;00m\u001b[38;5;124m\"\u001b[39m\n\u001b[1;32m   1006\u001b[0m     )\n\u001b[1;32m   1007\u001b[0m \u001b[38;5;28;01mif\u001b[39;00m \u001b[38;5;28mlen\u001b[39m(missingon) \u001b[38;5;241m>\u001b[39m \u001b[38;5;241m0\u001b[39m:\n\u001b[0;32m-> 1008\u001b[0m     \u001b[38;5;28;01mraise\u001b[39;00m \u001b[38;5;167;01mValueError\u001b[39;00m(\n\u001b[1;32m   1009\u001b[0m         \u001b[38;5;124mf\u001b[39m\u001b[38;5;124m\"\u001b[39m\u001b[38;5;124mFor the requested OFF scans \u001b[39m\u001b[38;5;132;01m{\u001b[39;00moffrequested\u001b[38;5;132;01m}\u001b[39;00m\u001b[38;5;124m, the ON scans \u001b[39m\u001b[38;5;132;01m{\u001b[39;00mmissingon\u001b[38;5;132;01m}\u001b[39;00m\u001b[38;5;124m were not present in bintable\u001b[39m\u001b[38;5;124m\"\u001b[39m\n\u001b[1;32m   1010\u001b[0m         \u001b[38;5;124mf\u001b[39m\u001b[38;5;124m\"\u001b[39m\u001b[38;5;124m \u001b[39m\u001b[38;5;132;01m{\u001b[39;00mbintable\u001b[38;5;132;01m}\u001b[39;00m\u001b[38;5;124m\"\u001b[39m\n\u001b[1;32m   1011\u001b[0m     )\n\u001b[1;32m   1012\u001b[0m \u001b[38;5;66;03m# print(\"ON\",sorted(sons))\u001b[39;00m\n\u001b[1;32m   1013\u001b[0m \u001b[38;5;66;03m# print(\"OFF\",sorted(soffs))\u001b[39;00m\n\u001b[1;32m   1014\u001b[0m s[\u001b[38;5;124m\"\u001b[39m\u001b[38;5;124mON\u001b[39m\u001b[38;5;124m\"\u001b[39m] \u001b[38;5;241m=\u001b[39m \u001b[38;5;28msorted\u001b[39m(\u001b[38;5;28mset\u001b[39m(sons))\n",
      "\u001b[0;31mValueError\u001b[0m: For the requested OFF scans {6}, the ON scans [5] were not present in bintable None"
     ]
    }
   ],
   "source": [
    "ps_scan = sdf.getps([6], ifnum=2)"
   ]
  },
  {
   "cell_type": "code",
   "execution_count": 6,
   "id": "a59566b1-57c6-432d-bcda-4f28f672156e",
   "metadata": {},
   "outputs": [
    {
     "ename": "ValueError",
     "evalue": "For the requested ON scans {7}, the OFF scans [8] were not present in bintable None",
     "output_type": "error",
     "traceback": [
      "\u001b[0;31m---------------------------------------------------------------------------\u001b[0m",
      "\u001b[0;31mValueError\u001b[0m                                Traceback (most recent call last)",
      "Cell \u001b[0;32mIn[6], line 1\u001b[0m\n\u001b[0;32m----> 1\u001b[0m ps_scan \u001b[38;5;241m=\u001b[39m \u001b[43msdf\u001b[49m\u001b[38;5;241;43m.\u001b[39;49m\u001b[43mgetps\u001b[49m\u001b[43m(\u001b[49m\u001b[43m[\u001b[49m\u001b[38;5;241;43m7\u001b[39;49m\u001b[43m]\u001b[49m\u001b[43m,\u001b[49m\u001b[43m \u001b[49m\u001b[43mifnum\u001b[49m\u001b[38;5;241;43m=\u001b[39;49m\u001b[38;5;241;43m2\u001b[39;49m\u001b[43m)\u001b[49m\n",
      "File \u001b[0;32m/home/sandboxes/psalas/Dysh/dysh/src/dysh/fits/gbtfitsload.py:376\u001b[0m, in \u001b[0;36mGBTFITSLoad.getps\u001b[0;34m(self, scans, bintable, **kwargs)\u001b[0m\n\u001b[1;32m    374\u001b[0m scanblock \u001b[38;5;241m=\u001b[39m ScanBlock()\n\u001b[1;32m    375\u001b[0m \u001b[38;5;28;01mfor\u001b[39;00m i \u001b[38;5;129;01min\u001b[39;00m \u001b[38;5;28mrange\u001b[39m(\u001b[38;5;28mlen\u001b[39m(\u001b[38;5;28mself\u001b[39m\u001b[38;5;241m.\u001b[39m_sdf)):\n\u001b[0;32m--> 376\u001b[0m     scanlist \u001b[38;5;241m=\u001b[39m \u001b[38;5;28;43mself\u001b[39;49m\u001b[38;5;241;43m.\u001b[39;49m\u001b[43monoff_scan_list\u001b[49m\u001b[43m(\u001b[49m\u001b[43mscans\u001b[49m\u001b[43m,\u001b[49m\u001b[43m \u001b[49m\u001b[43mifnum\u001b[49m\u001b[38;5;241;43m=\u001b[39;49m\u001b[43mifnum\u001b[49m\u001b[43m,\u001b[49m\u001b[43m \u001b[49m\u001b[43mplnum\u001b[49m\u001b[38;5;241;43m=\u001b[39;49m\u001b[43mplnum\u001b[49m\u001b[43m,\u001b[49m\u001b[43m \u001b[49m\u001b[43mfitsindex\u001b[49m\u001b[38;5;241;43m=\u001b[39;49m\u001b[43mi\u001b[49m\u001b[43m)\u001b[49m\n\u001b[1;32m    377\u001b[0m     \u001b[38;5;66;03m# add ifnum,plnum\u001b[39;00m\n\u001b[1;32m    378\u001b[0m     rows \u001b[38;5;241m=\u001b[39m \u001b[38;5;28mself\u001b[39m\u001b[38;5;241m.\u001b[39monoff_rows(scans, ifnum\u001b[38;5;241m=\u001b[39mifnum, plnum\u001b[38;5;241m=\u001b[39mplnum, bintable\u001b[38;5;241m=\u001b[39mbintable, fitsindex\u001b[38;5;241m=\u001b[39mi)\n",
      "File \u001b[0;32m/home/sandboxes/psalas/Dysh/dysh/src/dysh/fits/gbtfitsload.py:1003\u001b[0m, in \u001b[0;36mGBTFITSLoad.onoff_scan_list\u001b[0;34m(self, scans, ifnum, plnum, bintable, fitsindex)\u001b[0m\n\u001b[1;32m   1001\u001b[0m         sons\u001b[38;5;241m.\u001b[39mappend(expectedon)\n\u001b[1;32m   1002\u001b[0m \u001b[38;5;28;01mif\u001b[39;00m \u001b[38;5;28mlen\u001b[39m(missingoff) \u001b[38;5;241m>\u001b[39m \u001b[38;5;241m0\u001b[39m:\n\u001b[0;32m-> 1003\u001b[0m     \u001b[38;5;28;01mraise\u001b[39;00m \u001b[38;5;167;01mValueError\u001b[39;00m(\n\u001b[1;32m   1004\u001b[0m         \u001b[38;5;124mf\u001b[39m\u001b[38;5;124m\"\u001b[39m\u001b[38;5;124mFor the requested ON scans \u001b[39m\u001b[38;5;132;01m{\u001b[39;00monrequested\u001b[38;5;132;01m}\u001b[39;00m\u001b[38;5;124m, the OFF scans \u001b[39m\u001b[38;5;132;01m{\u001b[39;00mmissingoff\u001b[38;5;132;01m}\u001b[39;00m\u001b[38;5;124m were not present in bintable\u001b[39m\u001b[38;5;124m\"\u001b[39m\n\u001b[1;32m   1005\u001b[0m         \u001b[38;5;124mf\u001b[39m\u001b[38;5;124m\"\u001b[39m\u001b[38;5;124m \u001b[39m\u001b[38;5;132;01m{\u001b[39;00mbintable\u001b[38;5;132;01m}\u001b[39;00m\u001b[38;5;124m\"\u001b[39m\n\u001b[1;32m   1006\u001b[0m     )\n\u001b[1;32m   1007\u001b[0m \u001b[38;5;28;01mif\u001b[39;00m \u001b[38;5;28mlen\u001b[39m(missingon) \u001b[38;5;241m>\u001b[39m \u001b[38;5;241m0\u001b[39m:\n\u001b[1;32m   1008\u001b[0m     \u001b[38;5;28;01mraise\u001b[39;00m \u001b[38;5;167;01mValueError\u001b[39;00m(\n\u001b[1;32m   1009\u001b[0m         \u001b[38;5;124mf\u001b[39m\u001b[38;5;124m\"\u001b[39m\u001b[38;5;124mFor the requested OFF scans \u001b[39m\u001b[38;5;132;01m{\u001b[39;00moffrequested\u001b[38;5;132;01m}\u001b[39;00m\u001b[38;5;124m, the ON scans \u001b[39m\u001b[38;5;132;01m{\u001b[39;00mmissingon\u001b[38;5;132;01m}\u001b[39;00m\u001b[38;5;124m were not present in bintable\u001b[39m\u001b[38;5;124m\"\u001b[39m\n\u001b[1;32m   1010\u001b[0m         \u001b[38;5;124mf\u001b[39m\u001b[38;5;124m\"\u001b[39m\u001b[38;5;124m \u001b[39m\u001b[38;5;132;01m{\u001b[39;00mbintable\u001b[38;5;132;01m}\u001b[39;00m\u001b[38;5;124m\"\u001b[39m\n\u001b[1;32m   1011\u001b[0m     )\n",
      "\u001b[0;31mValueError\u001b[0m: For the requested ON scans {7}, the OFF scans [8] were not present in bintable None"
     ]
    }
   ],
   "source": [
    "ps_scan = sdf.getps([7], ifnum=2)"
   ]
  },
  {
   "cell_type": "code",
   "execution_count": null,
   "id": "1fe816de-deaa-4dec-88ff-73d0a8f78da1",
   "metadata": {},
   "outputs": [],
   "source": []
  }
 ],
 "metadata": {
  "kernelspec": {
   "display_name": "Python 3 (ipykernel)",
   "language": "python",
   "name": "python3"
  },
  "language_info": {
   "codemirror_mode": {
    "name": "ipython",
    "version": 3
   },
   "file_extension": ".py",
   "mimetype": "text/x-python",
   "name": "python",
   "nbconvert_exporter": "python",
   "pygments_lexer": "ipython3",
   "version": "3.11.6"
  }
 },
 "nbformat": 4,
 "nbformat_minor": 5
}
