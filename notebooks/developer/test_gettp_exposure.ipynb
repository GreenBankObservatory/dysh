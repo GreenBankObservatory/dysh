{
 "cells": [
  {
   "cell_type": "code",
   "execution_count": 1,
   "id": "81440f8a-72b8-4625-a446-81a258383844",
   "metadata": {},
   "outputs": [],
   "source": [
    "from astropy.io import fits\n",
    "\n",
    "import dysh.util as util\n",
    "from dysh.fits.gbtfitsload import GBTFITSLoad"
   ]
  },
  {
   "cell_type": "code",
   "execution_count": 2,
   "id": "43e50ca5-b5a0-442f-972d-f39c0f5b8605",
   "metadata": {},
   "outputs": [],
   "source": [
    "# Point it to the testdata directory on the root dysh directory.\n",
    "testdata = util.get_project_testdata()\n",
    "# The folder with the SDFITS files.\n",
    "data_path   = testdata/\"TGBT21A_501_11/\"\n",
    "data_file   = data_path/\"TGBT21A_501_11_scan_152_ifnum_0_plnum_0.fits\"\n",
    "gbtidl_file = data_path/\"TGBT21A_501_11_gettp_scan_152_ifnum_0_plnum_0_keepints.fits\""
   ]
  },
  {
   "cell_type": "code",
   "execution_count": 3,
   "id": "249b1a13-35ca-43cc-a466-2e3be014c9cd",
   "metadata": {},
   "outputs": [],
   "source": [
    "sdf = GBTFITSLoad(data_file)"
   ]
  },
  {
   "cell_type": "code",
   "execution_count": 4,
   "id": "f322f8af-9437-42b5-bab2-ef91eabf17a4",
   "metadata": {},
   "outputs": [
    {
     "data": {
      "text/html": [
       "<div>\n",
       "<style scoped>\n",
       "    .dataframe tbody tr th:only-of-type {\n",
       "        vertical-align: middle;\n",
       "    }\n",
       "\n",
       "    .dataframe tbody tr th {\n",
       "        vertical-align: top;\n",
       "    }\n",
       "\n",
       "    .dataframe thead th {\n",
       "        text-align: right;\n",
       "    }\n",
       "</style>\n",
       "<table border=\"1\" class=\"dataframe\">\n",
       "  <thead>\n",
       "    <tr style=\"text-align: right;\">\n",
       "      <th></th>\n",
       "      <th>SCAN</th>\n",
       "      <th>OBJECT</th>\n",
       "      <th>VELOCITY</th>\n",
       "      <th>PROC</th>\n",
       "      <th>PROCSEQN</th>\n",
       "      <th>RESTFREQ</th>\n",
       "      <th>DOPFREQ</th>\n",
       "      <th># IF</th>\n",
       "      <th># POL</th>\n",
       "      <th># INT</th>\n",
       "      <th># FEED</th>\n",
       "      <th>AZIMUTH</th>\n",
       "      <th>ELEVATIO</th>\n",
       "    </tr>\n",
       "  </thead>\n",
       "  <tbody>\n",
       "    <tr>\n",
       "      <th>0</th>\n",
       "      <td>152</td>\n",
       "      <td>NGC2415</td>\n",
       "      <td>3784.0</td>\n",
       "      <td>OnOff</td>\n",
       "      <td>1</td>\n",
       "      <td>1.420406</td>\n",
       "      <td>1.420406</td>\n",
       "      <td>1</td>\n",
       "      <td>1</td>\n",
       "      <td>151</td>\n",
       "      <td>1</td>\n",
       "      <td>286.218008</td>\n",
       "      <td>41.62843</td>\n",
       "    </tr>\n",
       "  </tbody>\n",
       "</table>\n",
       "</div>"
      ],
      "text/plain": [
       "   SCAN   OBJECT VELOCITY   PROC  PROCSEQN  RESTFREQ   DOPFREQ # IF # POL  \\\n",
       "0   152  NGC2415   3784.0  OnOff         1  1.420406  1.420406    1     1   \n",
       "\n",
       "  # INT # FEED     AZIMUTH  ELEVATIO  \n",
       "0   151      1  286.218008  41.62843  "
      ]
     },
     "execution_count": 4,
     "metadata": {},
     "output_type": "execute_result"
    }
   ],
   "source": [
    "sdf.summary()"
   ]
  },
  {
   "cell_type": "code",
   "execution_count": 5,
   "id": "d97528e7-e9d2-4411-a840-67327185393d",
   "metadata": {},
   "outputs": [],
   "source": [
    "tp = sdf.gettp(152)"
   ]
  },
  {
   "cell_type": "code",
   "execution_count": 6,
   "id": "489eed76-eadd-46bb-9fb9-1a548d3c83d5",
   "metadata": {},
   "outputs": [],
   "source": [
    "hdu = fits.open(gbtidl_file)\n",
    "table = hdu[1].data"
   ]
  },
  {
   "cell_type": "code",
   "execution_count": 17,
   "id": "d7d70856-4392-463d-a375-a3bbbafad652",
   "metadata": {},
   "outputs": [],
   "source": [
    "for i in range(len(tp[0]._scanrows)//2):\n",
    "    assert tp[0].total_power(i).meta[\"EXPOSURE\"] == table[\"EXPOSURE\"][i]"
   ]
  },
  {
   "cell_type": "code",
   "execution_count": null,
   "id": "0337241b-1a9e-4434-99b0-bade9e944482",
   "metadata": {},
   "outputs": [],
   "source": []
  }
 ],
 "metadata": {
  "kernelspec": {
   "display_name": "Python 3 (ipykernel)",
   "language": "python",
   "name": "python3"
  },
  "language_info": {
   "codemirror_mode": {
    "name": "ipython",
    "version": 3
   },
   "file_extension": ".py",
   "mimetype": "text/x-python",
   "name": "python",
   "nbconvert_exporter": "python",
   "pygments_lexer": "ipython3",
   "version": "3.11.6"
  }
 },
 "nbformat": 4,
 "nbformat_minor": 5
}
