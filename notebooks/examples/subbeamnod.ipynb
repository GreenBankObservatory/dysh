{
 "cells": [
  {
   "cell_type": "markdown",
   "id": "88e808b0-5df1-4836-b02f-8d28585f4904",
   "metadata": {},
   "source": [
    "# SubBeamNod Data Reduction\n",
    "---------------------------\n",
    "This notebook shows how to use `dysh` to calibrate an SubBeamNod observation via two different methods. It retrieves and calibrates SubBeamNod scans using `GBTFITSLoad.subbeamnod()` which returns a `ScanBlock` object. "
   ]
  },
  {
   "cell_type": "code",
   "execution_count": 1,
   "id": "71a0f9ba-9f38-408d-ba57-2630c1525a64",
   "metadata": {},
   "outputs": [],
   "source": [
    "import os\n",
    "import wget\n",
    "from dysh.fits.gbtfitsload import GBTFITSLoad"
   ]
  },
  {
   "cell_type": "markdown",
   "id": "efc7bb5b-7979-4863-a4a2-7270760c2ee9",
   "metadata": {},
   "source": [
    "## First, we download the example SDFITS data, if necessary."
   ]
  },
  {
   "cell_type": "code",
   "execution_count": 2,
   "id": "f07cfb32-6864-4ac4-94f8-4c2b66b981c4",
   "metadata": {},
   "outputs": [
    {
     "name": "stdout",
     "output_type": "stream",
     "text": [
      "TRCO_230413_Ka.raw.vegas.A.fits already downloaded\n"
     ]
    }
   ],
   "source": [
    "filename=\"TRCO_230413_Ka.raw.vegas.A.fits\"\n",
    "if not os.path.isfile(filename):\n",
    "    url = f\"http://www.gb.nrao.edu/dysh/example_data/subbeamnod-Ka/data/TRCO_230413_Ka.raw.vegas/{filename}\"\n",
    "    print(f\"Downloading {filename}\")\n",
    "    wget.download(url,out=filename)\n",
    "    print(f\"\\nRetrieved {filename}\")\n",
    "else:\n",
    "    print(f\"{filename} already downloaded\")"
   ]
  },
  {
   "cell_type": "markdown",
   "id": "cf925ad1-e149-46dd-9728-53ea2142fbf8",
   "metadata": {},
   "source": [
    "## Now, load the SDFITS file and examine it."
   ]
  },
  {
   "cell_type": "code",
   "execution_count": 3,
   "id": "1b12df99-20b2-4f8b-95c3-802be4ffaf3c",
   "metadata": {},
   "outputs": [],
   "source": [
    "sdfits = GBTFITSLoad(filename)"
   ]
  },
  {
   "cell_type": "markdown",
   "id": "337f7f2e-038d-4479-ba29-a66f46440b30",
   "metadata": {},
   "source": [
    "The returned `sdfits` can be probed for information.\n",
    "You can also print a concise (or verbose if you choose verbose=True) summary of the data."
   ]
  },
  {
   "cell_type": "code",
   "execution_count": 4,
   "id": "259fec35-f69a-4061-ad37-c2235102af4c",
   "metadata": {},
   "outputs": [
    {
     "name": "stdout",
     "output_type": "stream",
     "text": [
      "Filename: TRCO_230413_Ka.raw.vegas.A.fits\n",
      "No.    Name      Ver    Type      Cards   Dimensions   Format\n",
      "  0  PRIMARY       1 PrimaryHDU      12   ()      \n",
      "  1  SINGLE DISH    1 BinTableHDU    245   5280R x 74C   ['32A', '1D', '22A', '1D', '1D', '1D', '1024E', '16A', '6A', '8A', '1D', '1D', '1D', '4A', '1D', '4A', '1D', '1I', '32A', '32A', '1J', '32A', '16A', '1E', '8A', '1D', '1D', '1D', '1D', '1D', '1D', '1D', '1D', '1D', '1D', '1D', '1D', '8A', '1D', '1D', '12A', '1I', '1I', '1D', '1D', '1I', '1A', '1I', '1I', '16A', '16A', '1J', '1J', '22A', '1D', '1D', '1I', '1A', '1D', '1E', '1D', '1D', '1D', '1D', '1D', '1A', '1A', '8A', '1E', '1E', '16A', '1I', '1I', '1I']   \n"
     ]
    },
    {
     "data": {
      "text/html": [
       "<div>\n",
       "<style scoped>\n",
       "    .dataframe tbody tr th:only-of-type {\n",
       "        vertical-align: middle;\n",
       "    }\n",
       "\n",
       "    .dataframe tbody tr th {\n",
       "        vertical-align: top;\n",
       "    }\n",
       "\n",
       "    .dataframe thead th {\n",
       "        text-align: right;\n",
       "    }\n",
       "</style>\n",
       "<table border=\"1\" class=\"dataframe\">\n",
       "  <thead>\n",
       "    <tr style=\"text-align: right;\">\n",
       "      <th></th>\n",
       "      <th>SCAN</th>\n",
       "      <th>OBJECT</th>\n",
       "      <th>VELOCITY</th>\n",
       "      <th>PROC</th>\n",
       "      <th>PROCSEQN</th>\n",
       "      <th>RESTFREQ</th>\n",
       "      <th>DOPFREQ</th>\n",
       "      <th># IF</th>\n",
       "      <th># POL</th>\n",
       "      <th># INT</th>\n",
       "      <th># FEED</th>\n",
       "      <th>AZIMUTH</th>\n",
       "      <th>ELEVATIO</th>\n",
       "    </tr>\n",
       "  </thead>\n",
       "  <tbody>\n",
       "    <tr>\n",
       "      <th>0</th>\n",
       "      <td>32</td>\n",
       "      <td>1256-0547</td>\n",
       "      <td>0.0</td>\n",
       "      <td>Nod</td>\n",
       "      <td>1</td>\n",
       "      <td>26.5</td>\n",
       "      <td>26.5</td>\n",
       "      <td>1</td>\n",
       "      <td>2</td>\n",
       "      <td>60</td>\n",
       "      <td>2</td>\n",
       "      <td>160.975324</td>\n",
       "      <td>43.884984</td>\n",
       "    </tr>\n",
       "    <tr>\n",
       "      <th>1</th>\n",
       "      <td>33</td>\n",
       "      <td>1256-0547</td>\n",
       "      <td>0.0</td>\n",
       "      <td>Nod</td>\n",
       "      <td>2</td>\n",
       "      <td>26.5</td>\n",
       "      <td>26.5</td>\n",
       "      <td>1</td>\n",
       "      <td>2</td>\n",
       "      <td>60</td>\n",
       "      <td>2</td>\n",
       "      <td>161.174093</td>\n",
       "      <td>43.928449</td>\n",
       "    </tr>\n",
       "    <tr>\n",
       "      <th>2</th>\n",
       "      <td>34</td>\n",
       "      <td>1256-0547</td>\n",
       "      <td>0.0</td>\n",
       "      <td>Nod</td>\n",
       "      <td>1</td>\n",
       "      <td>30.5</td>\n",
       "      <td>30.5</td>\n",
       "      <td>1</td>\n",
       "      <td>2</td>\n",
       "      <td>60</td>\n",
       "      <td>2</td>\n",
       "      <td>161.589629</td>\n",
       "      <td>44.000491</td>\n",
       "    </tr>\n",
       "    <tr>\n",
       "      <th>3</th>\n",
       "      <td>35</td>\n",
       "      <td>1256-0547</td>\n",
       "      <td>0.0</td>\n",
       "      <td>Nod</td>\n",
       "      <td>2</td>\n",
       "      <td>30.5</td>\n",
       "      <td>30.5</td>\n",
       "      <td>1</td>\n",
       "      <td>2</td>\n",
       "      <td>60</td>\n",
       "      <td>2</td>\n",
       "      <td>161.783395</td>\n",
       "      <td>44.041622</td>\n",
       "    </tr>\n",
       "    <tr>\n",
       "      <th>4</th>\n",
       "      <td>36</td>\n",
       "      <td>1256-0547</td>\n",
       "      <td>0.0</td>\n",
       "      <td>Unknown</td>\n",
       "      <td>0</td>\n",
       "      <td>0.75</td>\n",
       "      <td>0.75</td>\n",
       "      <td>1</td>\n",
       "      <td>2</td>\n",
       "      <td>120</td>\n",
       "      <td>2</td>\n",
       "      <td>162.124052</td>\n",
       "      <td>44.100404</td>\n",
       "    </tr>\n",
       "    <tr>\n",
       "      <th>5</th>\n",
       "      <td>37</td>\n",
       "      <td>1256-0547</td>\n",
       "      <td>0.0</td>\n",
       "      <td>Nod</td>\n",
       "      <td>1</td>\n",
       "      <td>34.5</td>\n",
       "      <td>34.5</td>\n",
       "      <td>1</td>\n",
       "      <td>2</td>\n",
       "      <td>60</td>\n",
       "      <td>2</td>\n",
       "      <td>162.611075</td>\n",
       "      <td>44.183661</td>\n",
       "    </tr>\n",
       "    <tr>\n",
       "      <th>6</th>\n",
       "      <td>38</td>\n",
       "      <td>1256-0547</td>\n",
       "      <td>0.0</td>\n",
       "      <td>Nod</td>\n",
       "      <td>2</td>\n",
       "      <td>34.5</td>\n",
       "      <td>34.5</td>\n",
       "      <td>1</td>\n",
       "      <td>2</td>\n",
       "      <td>60</td>\n",
       "      <td>2</td>\n",
       "      <td>162.896506</td>\n",
       "      <td>44.237997</td>\n",
       "    </tr>\n",
       "    <tr>\n",
       "      <th>7</th>\n",
       "      <td>39</td>\n",
       "      <td>1256-0547</td>\n",
       "      <td>0.0</td>\n",
       "      <td>Nod</td>\n",
       "      <td>1</td>\n",
       "      <td>37.5</td>\n",
       "      <td>37.5</td>\n",
       "      <td>1</td>\n",
       "      <td>2</td>\n",
       "      <td>60</td>\n",
       "      <td>2</td>\n",
       "      <td>163.333508</td>\n",
       "      <td>44.306385</td>\n",
       "    </tr>\n",
       "    <tr>\n",
       "      <th>8</th>\n",
       "      <td>40</td>\n",
       "      <td>1256-0547</td>\n",
       "      <td>0.0</td>\n",
       "      <td>Nod</td>\n",
       "      <td>2</td>\n",
       "      <td>37.5</td>\n",
       "      <td>37.5</td>\n",
       "      <td>1</td>\n",
       "      <td>2</td>\n",
       "      <td>60</td>\n",
       "      <td>2</td>\n",
       "      <td>163.529285</td>\n",
       "      <td>44.343704</td>\n",
       "    </tr>\n",
       "    <tr>\n",
       "      <th>9</th>\n",
       "      <td>41</td>\n",
       "      <td>1256-0547</td>\n",
       "      <td>0.0</td>\n",
       "      <td>Nod</td>\n",
       "      <td>1</td>\n",
       "      <td>30.5</td>\n",
       "      <td>30.5</td>\n",
       "      <td>1</td>\n",
       "      <td>2</td>\n",
       "      <td>60</td>\n",
       "      <td>2</td>\n",
       "      <td>164.941425</td>\n",
       "      <td>44.559629</td>\n",
       "    </tr>\n",
       "    <tr>\n",
       "      <th>10</th>\n",
       "      <td>42</td>\n",
       "      <td>1256-0547</td>\n",
       "      <td>0.0</td>\n",
       "      <td>Nod</td>\n",
       "      <td>2</td>\n",
       "      <td>30.5</td>\n",
       "      <td>30.5</td>\n",
       "      <td>1</td>\n",
       "      <td>2</td>\n",
       "      <td>60</td>\n",
       "      <td>2</td>\n",
       "      <td>165.139436</td>\n",
       "      <td>44.593378</td>\n",
       "    </tr>\n",
       "    <tr>\n",
       "      <th>11</th>\n",
       "      <td>43</td>\n",
       "      <td>1256-0547</td>\n",
       "      <td>0.0</td>\n",
       "      <td>SubBeamNod</td>\n",
       "      <td>1</td>\n",
       "      <td>30.5</td>\n",
       "      <td>30.5</td>\n",
       "      <td>1</td>\n",
       "      <td>2</td>\n",
       "      <td>120</td>\n",
       "      <td>2</td>\n",
       "      <td>165.469522</td>\n",
       "      <td>44.639023</td>\n",
       "    </tr>\n",
       "    <tr>\n",
       "      <th>12</th>\n",
       "      <td>44</td>\n",
       "      <td>1256-0547</td>\n",
       "      <td>0.0</td>\n",
       "      <td>Nod</td>\n",
       "      <td>1</td>\n",
       "      <td>30.5</td>\n",
       "      <td>30.5</td>\n",
       "      <td>1</td>\n",
       "      <td>2</td>\n",
       "      <td>60</td>\n",
       "      <td>2</td>\n",
       "      <td>166.48287</td>\n",
       "      <td>44.776997</td>\n",
       "    </tr>\n",
       "    <tr>\n",
       "      <th>13</th>\n",
       "      <td>45</td>\n",
       "      <td>1256-0547</td>\n",
       "      <td>0.0</td>\n",
       "      <td>Nod</td>\n",
       "      <td>2</td>\n",
       "      <td>30.5</td>\n",
       "      <td>30.5</td>\n",
       "      <td>1</td>\n",
       "      <td>2</td>\n",
       "      <td>60</td>\n",
       "      <td>2</td>\n",
       "      <td>166.688378</td>\n",
       "      <td>44.808119</td>\n",
       "    </tr>\n",
       "    <tr>\n",
       "      <th>14</th>\n",
       "      <td>46</td>\n",
       "      <td>1256-0547</td>\n",
       "      <td>0.0</td>\n",
       "      <td>SubBeamNod</td>\n",
       "      <td>1</td>\n",
       "      <td>30.5</td>\n",
       "      <td>30.5</td>\n",
       "      <td>1</td>\n",
       "      <td>2</td>\n",
       "      <td>120</td>\n",
       "      <td>2</td>\n",
       "      <td>167.026583</td>\n",
       "      <td>44.849753</td>\n",
       "    </tr>\n",
       "    <tr>\n",
       "      <th>15</th>\n",
       "      <td>52</td>\n",
       "      <td>1256-0547</td>\n",
       "      <td>0.0</td>\n",
       "      <td>Nod</td>\n",
       "      <td>1</td>\n",
       "      <td>30.5</td>\n",
       "      <td>30.5</td>\n",
       "      <td>1</td>\n",
       "      <td>2</td>\n",
       "      <td>60</td>\n",
       "      <td>2</td>\n",
       "      <td>169.972904</td>\n",
       "      <td>45.179358</td>\n",
       "    </tr>\n",
       "    <tr>\n",
       "      <th>16</th>\n",
       "      <td>53</td>\n",
       "      <td>1256-0547</td>\n",
       "      <td>0.0</td>\n",
       "      <td>Nod</td>\n",
       "      <td>2</td>\n",
       "      <td>30.5</td>\n",
       "      <td>30.5</td>\n",
       "      <td>1</td>\n",
       "      <td>2</td>\n",
       "      <td>60</td>\n",
       "      <td>2</td>\n",
       "      <td>170.175815</td>\n",
       "      <td>45.201877</td>\n",
       "    </tr>\n",
       "    <tr>\n",
       "      <th>17</th>\n",
       "      <td>54</td>\n",
       "      <td>1256-0547</td>\n",
       "      <td>0.0</td>\n",
       "      <td>SubBeamNod</td>\n",
       "      <td>1</td>\n",
       "      <td>30.5</td>\n",
       "      <td>30.5</td>\n",
       "      <td>1</td>\n",
       "      <td>2</td>\n",
       "      <td>120</td>\n",
       "      <td>2</td>\n",
       "      <td>170.518885</td>\n",
       "      <td>45.232575</td>\n",
       "    </tr>\n",
       "  </tbody>\n",
       "</table>\n",
       "</div>"
      ],
      "text/plain": [
       "    SCAN     OBJECT VELOCITY        PROC  ...  # INT # FEED     AZIMUTH   ELEVATIO\n",
       "0     32  1256-0547      0.0         Nod  ...     60      2  160.975324  43.884984\n",
       "1     33  1256-0547      0.0         Nod  ...     60      2  161.174093  43.928449\n",
       "2     34  1256-0547      0.0         Nod  ...     60      2  161.589629  44.000491\n",
       "3     35  1256-0547      0.0         Nod  ...     60      2  161.783395  44.041622\n",
       "4     36  1256-0547      0.0     Unknown  ...    120      2  162.124052  44.100404\n",
       "5     37  1256-0547      0.0         Nod  ...     60      2  162.611075  44.183661\n",
       "6     38  1256-0547      0.0         Nod  ...     60      2  162.896506  44.237997\n",
       "7     39  1256-0547      0.0         Nod  ...     60      2  163.333508  44.306385\n",
       "8     40  1256-0547      0.0         Nod  ...     60      2  163.529285  44.343704\n",
       "9     41  1256-0547      0.0         Nod  ...     60      2  164.941425  44.559629\n",
       "10    42  1256-0547      0.0         Nod  ...     60      2  165.139436  44.593378\n",
       "11    43  1256-0547      0.0  SubBeamNod  ...    120      2  165.469522  44.639023\n",
       "12    44  1256-0547      0.0         Nod  ...     60      2   166.48287  44.776997\n",
       "13    45  1256-0547      0.0         Nod  ...     60      2  166.688378  44.808119\n",
       "14    46  1256-0547      0.0  SubBeamNod  ...    120      2  167.026583  44.849753\n",
       "15    52  1256-0547      0.0         Nod  ...     60      2  169.972904  45.179358\n",
       "16    53  1256-0547      0.0         Nod  ...     60      2  170.175815  45.201877\n",
       "17    54  1256-0547      0.0  SubBeamNod  ...    120      2  170.518885  45.232575\n",
       "\n",
       "[18 rows x 13 columns]"
      ]
     },
     "execution_count": 4,
     "metadata": {},
     "output_type": "execute_result"
    }
   ],
   "source": [
    "sdfits.info()\n",
    "sdfits.summary()"
   ]
  },
  {
   "cell_type": "markdown",
   "id": "570e7d59-10ba-4826-9b98-bec3515cf783",
   "metadata": {},
   "source": [
    "## The SubBeamNod scans are 43, 46, and 54. \n",
    "Retrieve and calibrate a SubBeamNod scan. There are two different methods for calibrating a SubBeamNod scan.  The first, with `method='cycle'` (the default) averages the data in each subreflector state for each cycle of integrations. "
   ]
  },
  {
   "cell_type": "code",
   "execution_count": 5,
   "id": "d86e90f0-a285-4ce3-99bf-5aa48f524eeb",
   "metadata": {},
   "outputs": [
    {
     "name": "stdout",
     "output_type": "stream",
     "text": [
      "FINAL i [0] p [0] s [43] f [1]\n",
      "TPSCAN pols=[0]\n",
      "TPSCAN pols=[0]\n",
      "TPSCAN pols=[0]\n",
      "TPSCAN pols=[0]\n",
      "TPSCAN pols=[0]\n",
      "TPSCAN pols=[0]\n",
      "TPSCAN pols=[0]\n",
      "TPSCAN pols=[0]\n",
      "TPSCAN pols=[0]\n",
      "TPSCAN pols=[0]\n"
     ]
    },
    {
     "name": "stderr",
     "output_type": "stream",
     "text": [
      "\u001b[0;33mWARNING\u001b[0m: NoVelocityWarning: No velocity defined on frame, assuming (0., 0., 0.) km / s. [astropy.coordinates.spectral_coordinate]\n",
      "\u001b[0;33mWARNING\u001b[0m: NoVelocityWarning: No velocity defined on frame, assuming (0., 0., 0.) km / s. [astropy.coordinates.spectral_coordinate]\n",
      "\u001b[0;33mWARNING\u001b[0m: NoVelocityWarning: No velocity defined on frame, assuming (0., 0., 0.) km / s. [astropy.coordinates.spectral_coordinate]\n",
      "\u001b[0;33mWARNING\u001b[0m: NoVelocityWarning: No velocity defined on frame, assuming (0., 0., 0.) km / s. [astropy.coordinates.spectral_coordinate]\n",
      "\u001b[0;33mWARNING\u001b[0m: NoVelocityWarning: No velocity defined on frame, assuming (0., 0., 0.) km / s. [astropy.coordinates.spectral_coordinate]\n",
      "\u001b[0;33mWARNING\u001b[0m: NoVelocityWarning: No velocity defined on frame, assuming (0., 0., 0.) km / s. [astropy.coordinates.spectral_coordinate]\n",
      "\u001b[0;33mWARNING\u001b[0m: NoVelocityWarning: No velocity defined on frame, assuming (0., 0., 0.) km / s. [astropy.coordinates.spectral_coordinate]\n",
      "\u001b[0;33mWARNING\u001b[0m: NoVelocityWarning: No velocity defined on frame, assuming (0., 0., 0.) km / s. [astropy.coordinates.spectral_coordinate]\n",
      "\u001b[0;33mWARNING\u001b[0m: NoVelocityWarning: No velocity defined on frame, assuming (0., 0., 0.) km / s. [astropy.coordinates.spectral_coordinate]\n",
      "\u001b[0;33mWARNING\u001b[0m: NoVelocityWarning: No velocity defined on frame, assuming (0., 0., 0.) km / s. [astropy.coordinates.spectral_coordinate]\n"
     ]
    }
   ],
   "source": [
    "w='tsys'\n",
    "sbnk = sdfits.subbeamnod(scan=43,fdnum=1,ifnum=0,weights=w, method='cycle', debug=True)"
   ]
  },
  {
   "cell_type": "markdown",
   "id": "3d3b9fea-ac07-4415-bee2-41dd2e544e77",
   "metadata": {},
   "source": [
    "####  Time average it, then plot it.  Here, we use system temperature weighting."
   ]
  },
  {
   "cell_type": "code",
   "execution_count": 6,
   "id": "fd2d612d-a8da-43ff-87d7-b5d6bb266dfd",
   "metadata": {},
   "outputs": [
    {
     "name": "stderr",
     "output_type": "stream",
     "text": [
      "\u001b[0;33mWARNING\u001b[0m: NoVelocityWarning: No velocity defined on frame, assuming (0., 0., 0.) km / s. [astropy.coordinates.spectral_coordinate]\n",
      "\u001b[0;33mWARNING\u001b[0m: NoVelocityWarning: No velocity defined on frame, assuming (0., 0., 0.) km / s. [astropy.coordinates.spectral_coordinate]\n",
      "\u001b[0;33mWARNING\u001b[0m: NoVelocityWarning: No velocity defined on frame, assuming (0., 0., 0.) km / s. [astropy.coordinates.spectral_coordinate]\n"
     ]
    }
   ],
   "source": [
    "ta = sbnk.timeaverage(weights=w)"
   ]
  },
  {
   "cell_type": "code",
   "execution_count": 7,
   "id": "9d701828-c1d8-4e15-930a-710c09ec1cde",
   "metadata": {},
   "outputs": [
    {
     "data": {
      "image/png": "[encoded data removed]",
      "text/plain": [
       "<Figure size 432x288 with 1 Axes>"
      ]
     },
     "metadata": {},
     "output_type": "display_data"
    }
   ],
   "source": [
    "ta.plot()"
   ]
  },
  {
   "cell_type": "markdown",
   "id": "88080556-05cc-4bac-bbca-fc838a8e8352",
   "metadata": {},
   "source": [
    "## Now the other method.\n",
    "The second method (\"scan\") of calibrating SubBeamNod scans reproduces the method of GBTIDL's `snodka.pro`.  This method is less accurate because it treats the entire group of integrations as one cycle. \n"
   ]
  },
  {
   "cell_type": "code",
   "execution_count": 8,
   "id": "3943d577-238e-4d61-99d0-43e8a6137683",
   "metadata": {},
   "outputs": [
    {
     "name": "stdout",
     "output_type": "stream",
     "text": [
      "TPSCAN pols=[0]\n",
      "TPSCAN pols=[0]\n",
      "TPSCAN pols=[0]\n"
     ]
    },
    {
     "name": "stderr",
     "output_type": "stream",
     "text": [
      "\u001b[0;33mWARNING\u001b[0m: NoVelocityWarning: No velocity defined on frame, assuming (0., 0., 0.) km / s. [astropy.coordinates.spectral_coordinate]\n",
      "\u001b[0;33mWARNING\u001b[0m: NoVelocityWarning: No velocity defined on frame, assuming (0., 0., 0.) km / s. [astropy.coordinates.spectral_coordinate]\n",
      "\u001b[0;33mWARNING\u001b[0m: NoVelocityWarning: No velocity defined on frame, assuming (0., 0., 0.) km / s. [astropy.coordinates.spectral_coordinate]\n"
     ]
    }
   ],
   "source": [
    "sbnk2 = sdfits.subbeamnod(scan=43,fdnum=1,ifnum=0,weights=w, method='scan')"
   ]
  },
  {
   "cell_type": "code",
   "execution_count": 9,
   "id": "2841bb86-3b6c-413b-83cf-303872829db8",
   "metadata": {},
   "outputs": [
    {
     "name": "stderr",
     "output_type": "stream",
     "text": [
      "\u001b[0;33mWARNING\u001b[0m: NoVelocityWarning: No velocity defined on frame, assuming (0., 0., 0.) km / s. [astropy.coordinates.spectral_coordinate]\n",
      "\u001b[0;33mWARNING\u001b[0m: NoVelocityWarning: No velocity defined on frame, assuming (0., 0., 0.) km / s. [astropy.coordinates.spectral_coordinate]\n",
      "\u001b[0;33mWARNING\u001b[0m: NoVelocityWarning: No velocity defined on frame, assuming (0., 0., 0.) km / s. [astropy.coordinates.spectral_coordinate]\n",
      "\u001b[0;33mWARNING\u001b[0m: NoVelocityWarning: No velocity defined on frame, assuming (0., 0., 0.) km / s. [astropy.coordinates.spectral_coordinate]\n",
      "\u001b[0;33mWARNING\u001b[0m: NoVelocityWarning: No velocity defined on frame, assuming (0., 0., 0.) km / s. [astropy.coordinates.spectral_coordinate]\n"
     ]
    }
   ],
   "source": [
    "ta2 = sbnk2.timeaverage(weights=None)"
   ]
  },
  {
   "cell_type": "code",
   "execution_count": 10,
   "id": "b7d01ea0-237e-40bd-984c-d0db942410dd",
   "metadata": {},
   "outputs": [
    {
     "data": {
      "image/png": "[encoded data removed]",
      "text/plain": [
       "<Figure size 432x288 with 1 Axes>"
      ]
     },
     "metadata": {},
     "output_type": "display_data"
    }
   ],
   "source": [
    "ta2.plot()"
   ]
  },
  {
   "cell_type": "markdown",
   "id": "c272edd5-cb66-44bf-b874-bb23c982f46e",
   "metadata": {},
   "source": [
    "## The difference between the two methods can be see by subtracting the spectra and plotting.\n"
   ]
  },
  {
   "cell_type": "code",
   "execution_count": 11,
   "id": "0fa05f47-ec67-40ed-b1af-941af29fde21",
   "metadata": {},
   "outputs": [
    {
     "data": {
      "image/png": "[encoded data removed]",
      "text/plain": [
       "<Figure size 432x288 with 1 Axes>"
      ]
     },
     "metadata": {},
     "output_type": "display_data"
    }
   ],
   "source": [
    "(ta2-ta).plot()"
   ]
  }
 ],
 "metadata": {
  "kernelspec": {
   "display_name": "Python 3 (Spyder)",
   "language": "python3",
   "name": "python3"
  },
  "language_info": {
   "codemirror_mode": {
    "name": "ipython",
    "version": 3
   },
   "file_extension": ".py",
   "mimetype": "text/x-python",
   "name": "python",
   "nbconvert_exporter": "python",
   "pygments_lexer": "ipython3",
   "version": "3.9.18"
  }
 },
 "nbformat": 4,
 "nbformat_minor": 5
}
