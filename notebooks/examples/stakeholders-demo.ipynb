{
 "cells": [
  {
   "cell_type": "markdown",
   "id": "8c8138ef-e687-444e-95b1-9797654f3f62",
   "metadata": {},
   "source": [
    "# dysh demo   \n",
    "-----------\n",
    "## (CAVEAT:   where noted, a few features added after 0.3.0 are used here)\n",
    "July 11, 2024:     merge \"main\" into the \"get_dysh\" branch for this to work as intended\n",
    "\n",
    "* smoothing\n",
    "* spectrum indexing\n",
    "* spectrum writing\n",
    "* dysh_data simplified file finder\n",
    "\n",
    "## General\n",
    "\n",
    "The richness of the Python ecosystem allows for several ways to run python code. Here are three common ones we've used with **dysh**:\n",
    "\n",
    "1. Jupyter Labs/**Notebooks** (this demo)\n",
    "2. **dysh**: an ipython based CLI, with predefined settings to make working with dysh easy. Close to the GBTIDL experience\n",
    "3. Introspective GUI environments, such as **spyder**. Can be useful for some developers\n",
    "\n",
    "\n",
    "## Calibrating and Smoothing a Position Switched (PS) observation\n",
    "\n",
    "This notebook shows how to use `dysh` to calibrate and smooth a PS observation.   For the example below we will use data from the Position-Switch example. The following dysh commands are the simplest to get and smooth a spectrum (leaving out all the function arguments):\n",
    "\n",
    "      sdf = GBTFITSLoad()          # load an SDFITS file\n",
    "      sb = sdf.getps()             # get a PS observation into one or more ScanBlocks\n",
    "      ta = sb.timeaverage()        # timeaverage all ScanBlocks, where allowed!\n",
    "      tb = ta.smooth()             # smooth (and decimate) the spectrum \n",
    "      tb.plot()                    # plot the spectrum                    \n",
    "\n",
    "or if you wish to make use of the Python object chaining:\n",
    "\n",
    "       GBTFITSLoad().getps().timeaverage().smooth().plot()\n",
    "      "
   ]
  },
  {
   "cell_type": "markdown",
   "id": "a2f835df-7a17-4c7e-9823-4821e9c94320",
   "metadata": {},
   "source": [
    "### First load the modules we're going to need"
   ]
  },
  {
   "cell_type": "code",
   "execution_count": null,
   "id": "b4967550-2ca1-4931-b53b-6f9868718490",
   "metadata": {
    "editable": true,
    "slideshow": {
     "slide_type": ""
    },
    "tags": [
     "import"
    ]
   },
   "outputs": [],
   "source": [
    "import numpy as np\n",
    "import astropy.units as u\n",
    "from dysh.fits.gbtfitsload import GBTFITSLoad\n",
    "from dysh.util.files import dysh_data"
   ]
  },
  {
   "cell_type": "markdown",
   "id": "61753f75-c9b4-4588-a4fa-4bbb89d3127f",
   "metadata": {},
   "source": [
    "### Define \"rolled_stats\", a helper function"
   ]
  },
  {
   "cell_type": "code",
   "execution_count": null,
   "id": "e2b21b65-a860-4427-9055-08871aa34d59",
   "metadata": {},
   "outputs": [],
   "source": [
    "# show the mean and std for data and for a 1-rolled data\n",
    "def rolled_stats(data, label='stats:'):\n",
    "    delta = data[1:] - data[:-1]\n",
    "    print(label,data.mean(), data.std(), delta.mean(), delta.std(), delta.std()/data.std()/np.sqrt(2))\n",
    "\n",
    "# to test, check that rolled_stats has a sqrt(2) higher RMS\n",
    "np.random.seed(123)\n",
    "rolled_stats(np.random.normal(0,1,10000))"
   ]
  },
  {
   "cell_type": "markdown",
   "id": "112ca0ec-133d-4191-903d-b0c8277185c9",
   "metadata": {},
   "source": [
    "## Single Dish Math\n",
    "\n",
    "The hot/sky calibration returns a system temperature (a scalar):\n",
    "$$\n",
    " T_{sys} = T_{cal} { { <SKY> } \\over { <HOT - SKY> } } + T_{cal}/2\n",
    "$$\n",
    "where the averaging operator avoids the edges of the passbaand.  \n",
    "\n",
    "\n",
    "After this a comparison between the ON and OFF gives the astronomical signal:\n",
    "$$\n",
    "  T_A = T_{sys}  {   { ON - OFF } \\over {OFF} }\n",
    "$$"
   ]
  },
  {
   "cell_type": "markdown",
   "id": "87669763-8d96-4521-9e81-f69d7213e133",
   "metadata": {},
   "source": [
    "## Load the Position-Switch SDFITS file example\n",
    "\n",
    "The ``dysh_data()`` function can use ``example=`` or ``test=``, where the latter is just a very short example that is included with the github source. For any real work (as in this demo) we use the longer example= version which has 151 integrations, and then some.\n"
   ]
  },
  {
   "cell_type": "code",
   "execution_count": null,
   "id": "d26856f3-fd51-420c-a890-0dd7288082cb",
   "metadata": {},
   "outputs": [],
   "source": [
    "filename = dysh_data(example='getps')      # CAVEAT: new feature\n",
    "print(filename)"
   ]
  },
  {
   "cell_type": "code",
   "execution_count": null,
   "id": "e6757836-02ec-4bbe-9c5a-72ae4a94ea6d",
   "metadata": {},
   "outputs": [],
   "source": [
    "!ls -l"
   ]
  },
  {
   "cell_type": "code",
   "execution_count": null,
   "id": "93a62e3a-c95d-475b-8602-b5b8b7934733",
   "metadata": {
    "editable": true,
    "slideshow": {
     "slide_type": ""
    },
    "tags": [
     "load"
    ]
   },
   "outputs": [],
   "source": [
    "sdfits = GBTFITSLoad(filename)\n",
    "sdfits.summary(verbose=False)"
   ]
  },
  {
   "cell_type": "code",
   "execution_count": null,
   "id": "3e2705a7-a5df-4383-ba87-61627c8b553d",
   "metadata": {},
   "outputs": [],
   "source": [
    "#   use the fact that we store the SDFITS as a panda's DataFrame,  sdfits._index.keys()\n",
    "sdfits._index.keys()"
   ]
  },
  {
   "cell_type": "code",
   "execution_count": null,
   "id": "ff8ed615-5388-4838-8e14-abf5970df10f",
   "metadata": {},
   "outputs": [],
   "source": [
    "# check one or more columns\n",
    "sdfits._index[[\"DATE-OBS\",\"TCAL\",\"INTNUM\",\"IFNUM\",\"PLNUM\",\"CAL\"]]"
   ]
  },
  {
   "cell_type": "code",
   "execution_count": null,
   "id": "dac0d8f1-81ef-4bf8-a327-265a9145dcc1",
   "metadata": {},
   "outputs": [],
   "source": []
  },
  {
   "cell_type": "markdown",
   "id": "256c62c4-7519-458c-884d-9810c7973181",
   "metadata": {},
   "source": [
    "## Behind the scenes: SDFITS file data storage\n",
    "\n",
    "In this particular PS case there are 6040 rows, slowest variable listed first\n",
    "\n",
    "1. nscans = 2 : scans 152 and 153 (the ON and OFF, or SIG and REF)\n",
    "2. ntime = 151 integrations of 1\" each\n",
    "3. nif = 5 IF's\n",
    "4. npol = 2 POL's\n",
    "5. ncal = 2 : CALON/CALOFF\n",
    "6. nchan = 32768 channels\n",
    "\n",
    "The run time of this PS case is thus:   2 x 151sec x 2 ~ 10 mins   (IF and POL are simultaneous). Slewing took about 12.5 sec, looking at the DATE-OBS between rows 6020 and 6021\n",
    "\n",
    "Thus the spectral data could be written as as 6 dimensional array\n",
    "\n",
    "      data[nscan][ntime][nif][npol][ncal][nchan]\n",
    "\n",
    "whereas all other columns are 5 dimensional:\n",
    "\n",
    "      tcal[nscan][ntime][nif][npol][ncal]\n",
    "\n",
    "\n",
    "### Plotting the very first RAW spectrum:"
   ]
  },
  {
   "cell_type": "code",
   "execution_count": null,
   "id": "78bdb54d-2248-4b7e-9497-6ac69419db6e",
   "metadata": {},
   "outputs": [],
   "source": [
    "sp0 = sdfits.getspec(0)\n",
    "sp0.plot()"
   ]
  },
  {
   "cell_type": "markdown",
   "id": "e84c5009-96f4-489d-bc9d-89de390d53c9",
   "metadata": {},
   "source": [
    "## Get a time-averaged spectrum at the highest resolution\n",
    "\n",
    "This test data has 151 integrations of 1 second, so time averaging should make things better. \n",
    "\n"
   ]
  },
  {
   "cell_type": "code",
   "execution_count": null,
   "id": "e0a33c19-576b-46e8-9a57-f34b8f85f6aa",
   "metadata": {
    "editable": true,
    "slideshow": {
     "slide_type": ""
    },
    "tags": [
     "timeaverage",
     "test"
    ]
   },
   "outputs": [],
   "source": [
    "sb = sdfits.getps(scan=152, ifnum=0, plnum=0)\n",
    "ta = sb.timeaverage(weights='tsys')\n",
    "ta.plot(xaxis_unit=\"chan\", yaxis_unit=\"mK\", ymin=-100, ymax=500, grid=True)\n",
    "rolled_stats(ta.flux[21000:28000])\n",
    "print(\"expect:0.1802747611297031 K 0.05488477800860452 K (mean and std)\")    # regression from previous runs"
   ]
  },
  {
   "cell_type": "code",
   "execution_count": null,
   "id": "e38be253-34da-4abe-b737-0c129bb28ec4",
   "metadata": {},
   "outputs": [],
   "source": []
  },
  {
   "cell_type": "markdown",
   "id": "571a36b9-57b0-4448-b7a0-4aea4e09edb3",
   "metadata": {},
   "source": [
    "## Smooth in a few ways\n",
    "\n",
    "By default smoothing will also decimate the signal, to (roughly) make each channel independant of the next. This assuming the input signal had independant channels. If the input was oversampled by a factor of 2, the smoothed signal will be as well, although you can manually decimate by a different value too, for example by using ``decimate=8`` .\n",
    "\n",
    "### Smoothing by 16 channels\n",
    "\n",
    "Since we smooth to a gauss of FWHM 16 channels, the noise should go down by a factor of 4 (54 mK to 12 mK).\n"
   ]
  },
  {
   "cell_type": "code",
   "execution_count": null,
   "id": "54db3d01-d3a8-4fad-bc2a-6138e1cb7d58",
   "metadata": {},
   "outputs": [],
   "source": [
    "ts1 = ta.smooth('gaussian', 16)\n",
    "# ts1 = ts1[200:1800]                    # CAVEAT: new feature\n",
    "ts1.plot(xaxis_unit=\"chan\", yaxis_unit=\"mK\", ymin=-100, ymax=500, grid=True)\n",
    "rolled_stats(ts1.flux[21000//16:28000//16])"
   ]
  },
  {
   "cell_type": "markdown",
   "id": "224c299c-e9b4-48e7-9089-468c11f0670d",
   "metadata": {},
   "source": [
    "### Smoothing more\n",
    "\n",
    "Now smoothing by 320 channels should result in a noise of 55/sqrt(320) or 3 mK, exacty as measures. The rolled RMS ratio is very close to 1, so neighboring channels are not related. If you would decimate by 160, you would see this ratio drop. Be sure to adjust the range of channels for any new ``rolled_stats()``"
   ]
  },
  {
   "cell_type": "code",
   "execution_count": null,
   "id": "ed472d60-d23a-41c4-aa2d-a3044da52c22",
   "metadata": {},
   "outputs": [],
   "source": [
    "ts2 = ta.smooth('box', 320)\n",
    "ts2.plot(xaxis_unit=\"chan\", yaxis_unit=\"mK\", ymin=-100, ymax=500, grid=True)\n",
    "rolled_stats(ts2.flux[60:96])"
   ]
  },
  {
   "cell_type": "code",
   "execution_count": null,
   "id": "bda44ac4-a4fb-470b-9c30-70f6b3b15711",
   "metadata": {},
   "outputs": [],
   "source": [
    "ta.plot(xaxis_unit=\"km/s\", yaxis_unit=\"mK\", ymin=-100, ymax=500)"
   ]
  },
  {
   "cell_type": "code",
   "execution_count": null,
   "id": "6663e6d6-c841-4e25-abab-10f1b2731625",
   "metadata": {},
   "outputs": [],
   "source": [
    "ts2.plot(xaxis_unit=\"km/s\", yaxis_unit=\"mK\", ymin=-100, ymax=500)"
   ]
  },
  {
   "cell_type": "markdown",
   "id": "32ca98d5-d931-45ad-b75e-a215c8a1ed36",
   "metadata": {},
   "source": [
    "# Baseline Subtraction\n",
    "\n",
    "Given that we are not interested in the edges, we'll define a baseline from say 2000,3500 and 4500,6000 and only plot between 2000 and 6000 km/s"
   ]
  },
  {
   "cell_type": "code",
   "execution_count": null,
   "id": "736eafd3-50c4-4219-a7ec-0956ae99c213",
   "metadata": {},
   "outputs": [],
   "source": [
    "# recompute a very smooth spectrum, gives 256 channels\n",
    "ts2 = ta.smooth('box', 128)\n",
    "ts2.plot(xaxis_unit=\"chan\", yaxis_unit=\"mK\", ymin=-50, ymax=300, grid=True)\n",
    "#\n",
    "ts2.baseline(degree=0,model=\"poly\",exclude=[(0,80),(120,140),(180,255)], remove=True)\n",
    "ts2.plot(xaxis_unit=\"chan\", yaxis_unit=\"mK\", ymin=-50, ymax=150, grid=True, xmin=80, xmax=180)\n",
    "print(\"baseline_model:\",ts2.baseline_model)"
   ]
  },
  {
   "cell_type": "markdown",
   "id": "eef967b4-0023-491b-ba3a-3cc52595fd68",
   "metadata": {},
   "source": [
    "### Output a spectrum\n",
    "\n",
    "One a Spectrum has been assembled, it can be output into a number of output formats.\n"
   ]
  },
  {
   "cell_type": "code",
   "execution_count": null,
   "id": "d4844b19-a4de-4619-96b8-38d5e1948cae",
   "metadata": {},
   "outputs": [],
   "source": [
    "# CAVEAT: new feature\n",
    "ta.write(\"ngc2415.txt\",  format=\"basic\", overwrite=True)\n",
    "ta.write(\"ngc2415.fits\", format=\"fits\",  overwrite=True)     # SDFITS dialect, ds9 cannot view this\n",
    "ta.write(\"ngc2415.ecsv\", format=\"ecsv\",  overwrite=True)"
   ]
  },
  {
   "cell_type": "markdown",
   "id": "15afb100-99da-4eca-aed1-1b79f3987930",
   "metadata": {},
   "source": [
    "## Smoothing the reference (\"OFF\") scan\n",
    "\n",
    "Under certain circumstances it can be beneficial to (boxcar) smooth the reference (OFF) signal before the usual\n",
    "(ON-OFF)/OFF calibration. \n",
    "\n",
    "*Technical note*:  if you want to achieve identical results to GBTIDL, the width of the boxcar needs to be odd.\n"
   ]
  },
  {
   "cell_type": "code",
   "execution_count": null,
   "id": "ea6820db-4bd6-4d47-bc04-12d77578651d",
   "metadata": {},
   "outputs": [],
   "source": [
    "sb = sdfits.getps(scan=152, ifnum=0, plnum=0, smoothref=31)\n",
    "ta = sb.timeaverage(weights='tsys')\n",
    "ta.plot(xaxis_unit=\"chan\", yaxis_unit=\"mK\", ymin=-100, ymax=500, grid=True)\n",
    "rolled_stats(ta.flux[21000:28000])"
   ]
  },
  {
   "cell_type": "markdown",
   "id": "3c76eb98-a5d0-4abc-93f2-f87038179687",
   "metadata": {},
   "source": [
    "We could smooth this spectrum the normal way, as was done a few cells ago, and not much difference is visible, except for the noise level.\n"
   ]
  },
  {
   "cell_type": "code",
   "execution_count": null,
   "id": "26d5240f-c475-48bc-84ea-e817dc38363d",
   "metadata": {},
   "outputs": [],
   "source": [
    "ts2 = ta.smooth('box', 320)\n",
    "ts2.plot(xaxis_unit=\"chan\", yaxis_unit=\"mK\", ymin=-100, ymax=500, grid=True)\n",
    "rolled_stats(ta.flux[60:95])"
   ]
  },
  {
   "cell_type": "markdown",
   "id": "bcd7355a-8cd6-4ea8-88bf-128486406089",
   "metadata": {},
   "source": [
    "Although the RMS has gone down (53 mK to 40 mK), the signal correlation has degraded a small amount from 0.98 to 0.91 due to the added correlation of the reference smoothing."
   ]
  },
  {
   "cell_type": "markdown",
   "id": "e930342f-cee3-455e-bb49-51336398163b",
   "metadata": {},
   "source": [
    "## That one liner...\n",
    "\n",
    "Caveat:   this only works for the short test= version "
   ]
  },
  {
   "cell_type": "code",
   "execution_count": null,
   "id": "50c1ebc4-19ff-48ed-819d-90c4a6c2da29",
   "metadata": {},
   "outputs": [],
   "source": [
    "GBTFITSLoad(dysh_data(test='getps')).getps().timeaverage().smooth('box',256).plot()"
   ]
  }
 ],
 "metadata": {
  "kernelspec": {
   "display_name": "Python 3 (ipykernel)",
   "language": "python",
   "name": "python3"
  },
  "language_info": {
   "codemirror_mode": {
    "name": "ipython",
    "version": 3
   },
   "file_extension": ".py",
   "mimetype": "text/x-python",
   "name": "python",
   "nbconvert_exporter": "python",
   "pygments_lexer": "ipython3",
   "version": "3.11.7"
  },
  "toc": {
   "base_numbering": 0
  }
 },
 "nbformat": 4,
 "nbformat_minor": 5
}
