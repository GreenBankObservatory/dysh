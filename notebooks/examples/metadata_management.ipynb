{
 "cells": [
  {
   "cell_type": "markdown",
   "id": "da18aeb2-71a2-4ed9-ab28-564d79542f91",
   "metadata": {},
   "source": [
    "# Modifying metadata\n",
    "\n",
    "In this example we will show how to modify the metadata of a SDFITS file using `dysh`.\n",
    "\n",
    "## Background\n",
    "\n",
    "We will use a practical example. For observations with the GBT it is recommended to observe a flux density calibrator (see e.g., [Perley & Buttler 2017](https://ui.adsabs.harvard.edu/abs/2017ApJS..230....7P/abstract) for a list of calibrator sources and their flux densities) with the same configuration as that used for the science observations. The reason being that the values of the temperature equivalent power of the noise diodes stored in the SDFITS files can be out of date.\n",
    "\n",
    "In this example we won't use observations of a flux density calibrator, but instead we will use the analysis of [Goddy et al (2020)](https://ui.adsabs.harvard.edu/abs/2020RNAAS...4....3G/abstract). They find that the temperature stored in the SDFITS files is on average lower than the measured values, so that the temperature must be corrected by 20%\n",
    "$$T_{\\rm{CAL,corr}}=1.2T_{\\rm{CAL,file}}.$$\n",
    "Here we use this to correct the temperature of the noise diode.\n",
    "\n",
    "## Example\n",
    "\n",
    "We start by importing the relevant modules."
   ]
  },
  {
   "cell_type": "code",
   "execution_count": 1,
   "id": "3de88ab1-3ed0-417f-a3a9-33ef711ce5aa",
   "metadata": {},
   "outputs": [],
   "source": [
    "import os\n",
    "import wget\n",
    "import astropy.units as u\n",
    "from dysh.fits.gbtfitsload import GBTFITSLoad"
   ]
  },
  {
   "cell_type": "markdown",
   "id": "aad31cf1-092d-48d0-8468-8d50756ecdaa",
   "metadata": {},
   "source": [
    "### Data retrieval\n",
    "\n",
    "We download the data we will use for this example, if necessary."
   ]
  },
  {
   "cell_type": "code",
   "execution_count": 2,
   "id": "f610f64f-f951-4ee4-aee4-6d450c2ef851",
   "metadata": {},
   "outputs": [
    {
     "name": "stdout",
     "output_type": "stream",
     "text": [
      "AGBT05B_047_01.raw.acs.fits already downloaded\n"
     ]
    }
   ],
   "source": [
    "filename = \"AGBT05B_047_01.raw.acs.fits\"\n",
    "if not os.path.isfile(filename):\n",
    "    url = f\"http://www.gb.nrao.edu/dysh/example_data/positionswitched/data/AGBT05B_047_01/AGBT05B_047_01.raw.acs/{filename}\"\n",
    "    print(f\"Downloading {filename}\")\n",
    "    wget.download(url,out=filename)\n",
    "    print(f\"\\nRetrieved {filename}\")\n",
    "else:\n",
    "    print(f\"{filename} already downloaded\")"
   ]
  },
  {
   "cell_type": "markdown",
   "id": "248462cf-06d3-48ff-9cc5-5fa6ad9f8d47",
   "metadata": {},
   "source": [
    "### Data loading\n",
    "\n",
    "We load the data and inspect its contents."
   ]
  },
  {
   "cell_type": "code",
   "execution_count": 3,
   "id": "ca5004bd-fbda-4ba3-ab6b-6da604c419ce",
   "metadata": {},
   "outputs": [],
   "source": [
    "sdfits = GBTFITSLoad(filename)"
   ]
  },
  {
   "cell_type": "code",
   "execution_count": 4,
   "id": "24e047ab-a4bf-447c-90f6-246ee7f9413e",
   "metadata": {},
   "outputs": [
    {
     "data": {
      "text/html": [
       "<div>\n",
       "<style scoped>\n",
       "    .dataframe tbody tr th:only-of-type {\n",
       "        vertical-align: middle;\n",
       "    }\n",
       "\n",
       "    .dataframe tbody tr th {\n",
       "        vertical-align: top;\n",
       "    }\n",
       "\n",
       "    .dataframe thead th {\n",
       "        text-align: right;\n",
       "    }\n",
       "</style>\n",
       "<table border=\"1\" class=\"dataframe\">\n",
       "  <thead>\n",
       "    <tr style=\"text-align: right;\">\n",
       "      <th></th>\n",
       "      <th>SCAN</th>\n",
       "      <th>OBJECT</th>\n",
       "      <th>VELOCITY</th>\n",
       "      <th>PROC</th>\n",
       "      <th>PROCSEQN</th>\n",
       "      <th>RESTFREQ</th>\n",
       "      <th>DOPFREQ</th>\n",
       "      <th># IF</th>\n",
       "      <th># POL</th>\n",
       "      <th># INT</th>\n",
       "      <th># FEED</th>\n",
       "      <th>AZIMUTH</th>\n",
       "      <th>ELEVATIO</th>\n",
       "    </tr>\n",
       "  </thead>\n",
       "  <tbody>\n",
       "    <tr>\n",
       "      <th>0</th>\n",
       "      <td>51</td>\n",
       "      <td>NGC5291</td>\n",
       "      <td>4386.0</td>\n",
       "      <td>OnOff</td>\n",
       "      <td>1</td>\n",
       "      <td>1.420405</td>\n",
       "      <td>1.420405</td>\n",
       "      <td>1</td>\n",
       "      <td>2</td>\n",
       "      <td>11</td>\n",
       "      <td>1</td>\n",
       "      <td>198.343112</td>\n",
       "      <td>18.64274</td>\n",
       "    </tr>\n",
       "    <tr>\n",
       "      <th>1</th>\n",
       "      <td>52</td>\n",
       "      <td>NGC5291</td>\n",
       "      <td>4386.0</td>\n",
       "      <td>OnOff</td>\n",
       "      <td>2</td>\n",
       "      <td>1.420405</td>\n",
       "      <td>1.420405</td>\n",
       "      <td>1</td>\n",
       "      <td>2</td>\n",
       "      <td>11</td>\n",
       "      <td>1</td>\n",
       "      <td>198.930571</td>\n",
       "      <td>18.787219</td>\n",
       "    </tr>\n",
       "    <tr>\n",
       "      <th>2</th>\n",
       "      <td>53</td>\n",
       "      <td>NGC5291</td>\n",
       "      <td>4386.0</td>\n",
       "      <td>OnOff</td>\n",
       "      <td>1</td>\n",
       "      <td>1.420405</td>\n",
       "      <td>1.420405</td>\n",
       "      <td>1</td>\n",
       "      <td>2</td>\n",
       "      <td>11</td>\n",
       "      <td>1</td>\n",
       "      <td>199.330491</td>\n",
       "      <td>18.356075</td>\n",
       "    </tr>\n",
       "    <tr>\n",
       "      <th>3</th>\n",
       "      <td>54</td>\n",
       "      <td>NGC5291</td>\n",
       "      <td>4386.0</td>\n",
       "      <td>OnOff</td>\n",
       "      <td>2</td>\n",
       "      <td>1.420405</td>\n",
       "      <td>1.420405</td>\n",
       "      <td>1</td>\n",
       "      <td>2</td>\n",
       "      <td>11</td>\n",
       "      <td>1</td>\n",
       "      <td>199.915725</td>\n",
       "      <td>18.492742</td>\n",
       "    </tr>\n",
       "    <tr>\n",
       "      <th>4</th>\n",
       "      <td>55</td>\n",
       "      <td>NGC5291</td>\n",
       "      <td>4386.0</td>\n",
       "      <td>OnOff</td>\n",
       "      <td>1</td>\n",
       "      <td>1.420405</td>\n",
       "      <td>1.420405</td>\n",
       "      <td>1</td>\n",
       "      <td>2</td>\n",
       "      <td>11</td>\n",
       "      <td>1</td>\n",
       "      <td>200.304237</td>\n",
       "      <td>18.057533</td>\n",
       "    </tr>\n",
       "    <tr>\n",
       "      <th>5</th>\n",
       "      <td>56</td>\n",
       "      <td>NGC5291</td>\n",
       "      <td>4386.0</td>\n",
       "      <td>OnOff</td>\n",
       "      <td>2</td>\n",
       "      <td>1.420405</td>\n",
       "      <td>1.420405</td>\n",
       "      <td>1</td>\n",
       "      <td>2</td>\n",
       "      <td>11</td>\n",
       "      <td>1</td>\n",
       "      <td>200.890603</td>\n",
       "      <td>18.186034</td>\n",
       "    </tr>\n",
       "    <tr>\n",
       "      <th>6</th>\n",
       "      <td>57</td>\n",
       "      <td>NGC5291</td>\n",
       "      <td>4386.0</td>\n",
       "      <td>OnOff</td>\n",
       "      <td>1</td>\n",
       "      <td>1.420405</td>\n",
       "      <td>1.420405</td>\n",
       "      <td>1</td>\n",
       "      <td>2</td>\n",
       "      <td>11</td>\n",
       "      <td>1</td>\n",
       "      <td>202.327548</td>\n",
       "      <td>17.385267</td>\n",
       "    </tr>\n",
       "    <tr>\n",
       "      <th>7</th>\n",
       "      <td>58</td>\n",
       "      <td>NGC5291</td>\n",
       "      <td>4386.0</td>\n",
       "      <td>OnOff</td>\n",
       "      <td>2</td>\n",
       "      <td>1.420405</td>\n",
       "      <td>1.420405</td>\n",
       "      <td>1</td>\n",
       "      <td>2</td>\n",
       "      <td>11</td>\n",
       "      <td>1</td>\n",
       "      <td>202.919161</td>\n",
       "      <td>17.494902</td>\n",
       "    </tr>\n",
       "  </tbody>\n",
       "</table>\n",
       "</div>"
      ],
      "text/plain": [
       "   SCAN   OBJECT VELOCITY   PROC  PROCSEQN  RESTFREQ   DOPFREQ # IF # POL  \\\n",
       "0    51  NGC5291   4386.0  OnOff         1  1.420405  1.420405    1     2   \n",
       "1    52  NGC5291   4386.0  OnOff         2  1.420405  1.420405    1     2   \n",
       "2    53  NGC5291   4386.0  OnOff         1  1.420405  1.420405    1     2   \n",
       "3    54  NGC5291   4386.0  OnOff         2  1.420405  1.420405    1     2   \n",
       "4    55  NGC5291   4386.0  OnOff         1  1.420405  1.420405    1     2   \n",
       "5    56  NGC5291   4386.0  OnOff         2  1.420405  1.420405    1     2   \n",
       "6    57  NGC5291   4386.0  OnOff         1  1.420405  1.420405    1     2   \n",
       "7    58  NGC5291   4386.0  OnOff         2  1.420405  1.420405    1     2   \n",
       "\n",
       "  # INT # FEED     AZIMUTH   ELEVATIO  \n",
       "0    11      1  198.343112   18.64274  \n",
       "1    11      1  198.930571  18.787219  \n",
       "2    11      1  199.330491  18.356075  \n",
       "3    11      1  199.915725  18.492742  \n",
       "4    11      1  200.304237  18.057533  \n",
       "5    11      1  200.890603  18.186034  \n",
       "6    11      1  202.327548  17.385267  \n",
       "7    11      1  202.919161  17.494902  "
      ]
     },
     "execution_count": 4,
     "metadata": {},
     "output_type": "execute_result"
    }
   ],
   "source": [
    "sdfits.summary()"
   ]
  },
  {
   "cell_type": "markdown",
   "id": "257826a2-8124-47f3-af42-fedb9fd9a888",
   "metadata": {},
   "source": [
    "### Metadata inspection\n",
    "\n",
    "Now we inspect the current noise diode temperature stored in the SDFITS file."
   ]
  },
  {
   "cell_type": "code",
   "execution_count": 5,
   "id": "df3cad8b-34f8-4bbd-b950-e8c85c344ee0",
   "metadata": {},
   "outputs": [
    {
     "data": {
      "text/html": [
       "<div>\n",
       "<style scoped>\n",
       "    .dataframe tbody tr th:only-of-type {\n",
       "        vertical-align: middle;\n",
       "    }\n",
       "\n",
       "    .dataframe tbody tr th {\n",
       "        vertical-align: top;\n",
       "    }\n",
       "\n",
       "    .dataframe thead th {\n",
       "        text-align: right;\n",
       "    }\n",
       "</style>\n",
       "<table border=\"1\" class=\"dataframe\">\n",
       "  <thead>\n",
       "    <tr style=\"text-align: right;\">\n",
       "      <th></th>\n",
       "      <th>TCAL</th>\n",
       "      <th>PLNUM</th>\n",
       "    </tr>\n",
       "  </thead>\n",
       "  <tbody>\n",
       "    <tr>\n",
       "      <th>0</th>\n",
       "      <td>1.424292</td>\n",
       "      <td>1</td>\n",
       "    </tr>\n",
       "    <tr>\n",
       "      <th>1</th>\n",
       "      <td>1.424292</td>\n",
       "      <td>1</td>\n",
       "    </tr>\n",
       "    <tr>\n",
       "      <th>2</th>\n",
       "      <td>1.452650</td>\n",
       "      <td>0</td>\n",
       "    </tr>\n",
       "    <tr>\n",
       "      <th>3</th>\n",
       "      <td>1.452650</td>\n",
       "      <td>0</td>\n",
       "    </tr>\n",
       "    <tr>\n",
       "      <th>4</th>\n",
       "      <td>1.424292</td>\n",
       "      <td>1</td>\n",
       "    </tr>\n",
       "    <tr>\n",
       "      <th>...</th>\n",
       "      <td>...</td>\n",
       "      <td>...</td>\n",
       "    </tr>\n",
       "    <tr>\n",
       "      <th>347</th>\n",
       "      <td>1.452650</td>\n",
       "      <td>0</td>\n",
       "    </tr>\n",
       "    <tr>\n",
       "      <th>348</th>\n",
       "      <td>1.424292</td>\n",
       "      <td>1</td>\n",
       "    </tr>\n",
       "    <tr>\n",
       "      <th>349</th>\n",
       "      <td>1.424292</td>\n",
       "      <td>1</td>\n",
       "    </tr>\n",
       "    <tr>\n",
       "      <th>350</th>\n",
       "      <td>1.452650</td>\n",
       "      <td>0</td>\n",
       "    </tr>\n",
       "    <tr>\n",
       "      <th>351</th>\n",
       "      <td>1.452650</td>\n",
       "      <td>0</td>\n",
       "    </tr>\n",
       "  </tbody>\n",
       "</table>\n",
       "<p>352 rows × 2 columns</p>\n",
       "</div>"
      ],
      "text/plain": [
       "         TCAL  PLNUM\n",
       "0    1.424292      1\n",
       "1    1.424292      1\n",
       "2    1.452650      0\n",
       "3    1.452650      0\n",
       "4    1.424292      1\n",
       "..        ...    ...\n",
       "347  1.452650      0\n",
       "348  1.424292      1\n",
       "349  1.424292      1\n",
       "350  1.452650      0\n",
       "351  1.452650      0\n",
       "\n",
       "[352 rows x 2 columns]"
      ]
     },
     "execution_count": 5,
     "metadata": {},
     "output_type": "execute_result"
    }
   ],
   "source": [
    "sdfits[\"TCAL\", \"PLNUM\"]"
   ]
  },
  {
   "cell_type": "markdown",
   "id": "227bec08-e2d3-488b-9f38-83d788d2a7bc",
   "metadata": {},
   "source": [
    "For polarization 0 the noise diode temperature is 1.452650 K and for polarization 1 it is 1.424292 K.\n",
    "\n",
    "We will calibrate the data using these values to compare after we update the noise diode temperature. We use position switching calibration, then we time average all the scans and remove an order 1 polynomial."
   ]
  },
  {
   "cell_type": "code",
   "execution_count": 6,
   "id": "01c287c8-30fe-4949-9595-d7b4a050c2dc",
   "metadata": {},
   "outputs": [
    {
     "name": "stdout",
     "output_type": "stream",
     "text": [
      "EXCLUDING None\n"
     ]
    }
   ],
   "source": [
    "ps_original = sdfits.getps(plnum=0).timeaverage()\n",
    "ps_original.baseline(degree=1, remove=True)"
   ]
  },
  {
   "cell_type": "markdown",
   "id": "b3e0a6f9-209d-4eaa-9785-9ea3b621193e",
   "metadata": {},
   "source": [
    "### Metadata update\n",
    "\n",
    "Now we update the temperature of the noise diode by multiplying by 1.2."
   ]
  },
  {
   "cell_type": "code",
   "execution_count": 7,
   "id": "ecdbe355-f310-4cac-9952-d1608778700f",
   "metadata": {},
   "outputs": [
    {
     "name": "stderr",
     "output_type": "stream",
     "text": [
      "/home/sandboxes/psalas/Dysh/dysh/src/dysh/fits/gbtfitsload.py:1882: UserWarning: Changing an existing SDFITS column\n",
      "  warnings.warn(\"Changing an existing SDFITS column\")\n",
      "/home/sandboxes/psalas/Dysh/dysh/src/dysh/fits/sdfitsload.py:929: UserWarning: Changing an existing SDFITS column\n",
      "  warnings.warn(\"Changing an existing SDFITS column\")\n"
     ]
    }
   ],
   "source": [
    "sdfits[\"TCAL\"] *= 1.2"
   ]
  },
  {
   "cell_type": "markdown",
   "id": "de6c5eb6-7a5e-4b9e-bf2e-f96db35287bf",
   "metadata": {},
   "source": [
    "Now we check that the values were updated."
   ]
  },
  {
   "cell_type": "code",
   "execution_count": 8,
   "id": "c9377048-1a0a-4ff6-bdd4-1bcf08f9ca58",
   "metadata": {},
   "outputs": [
    {
     "data": {
      "text/html": [
       "<div>\n",
       "<style scoped>\n",
       "    .dataframe tbody tr th:only-of-type {\n",
       "        vertical-align: middle;\n",
       "    }\n",
       "\n",
       "    .dataframe tbody tr th {\n",
       "        vertical-align: top;\n",
       "    }\n",
       "\n",
       "    .dataframe thead th {\n",
       "        text-align: right;\n",
       "    }\n",
       "</style>\n",
       "<table border=\"1\" class=\"dataframe\">\n",
       "  <thead>\n",
       "    <tr style=\"text-align: right;\">\n",
       "      <th></th>\n",
       "      <th>TCAL</th>\n",
       "      <th>PLNUM</th>\n",
       "    </tr>\n",
       "  </thead>\n",
       "  <tbody>\n",
       "    <tr>\n",
       "      <th>0</th>\n",
       "      <td>1.70915</td>\n",
       "      <td>1</td>\n",
       "    </tr>\n",
       "    <tr>\n",
       "      <th>1</th>\n",
       "      <td>1.70915</td>\n",
       "      <td>1</td>\n",
       "    </tr>\n",
       "    <tr>\n",
       "      <th>2</th>\n",
       "      <td>1.74318</td>\n",
       "      <td>0</td>\n",
       "    </tr>\n",
       "    <tr>\n",
       "      <th>3</th>\n",
       "      <td>1.74318</td>\n",
       "      <td>0</td>\n",
       "    </tr>\n",
       "    <tr>\n",
       "      <th>4</th>\n",
       "      <td>1.70915</td>\n",
       "      <td>1</td>\n",
       "    </tr>\n",
       "    <tr>\n",
       "      <th>...</th>\n",
       "      <td>...</td>\n",
       "      <td>...</td>\n",
       "    </tr>\n",
       "    <tr>\n",
       "      <th>347</th>\n",
       "      <td>1.74318</td>\n",
       "      <td>0</td>\n",
       "    </tr>\n",
       "    <tr>\n",
       "      <th>348</th>\n",
       "      <td>1.70915</td>\n",
       "      <td>1</td>\n",
       "    </tr>\n",
       "    <tr>\n",
       "      <th>349</th>\n",
       "      <td>1.70915</td>\n",
       "      <td>1</td>\n",
       "    </tr>\n",
       "    <tr>\n",
       "      <th>350</th>\n",
       "      <td>1.74318</td>\n",
       "      <td>0</td>\n",
       "    </tr>\n",
       "    <tr>\n",
       "      <th>351</th>\n",
       "      <td>1.74318</td>\n",
       "      <td>0</td>\n",
       "    </tr>\n",
       "  </tbody>\n",
       "</table>\n",
       "<p>352 rows × 2 columns</p>\n",
       "</div>"
      ],
      "text/plain": [
       "        TCAL  PLNUM\n",
       "0    1.70915      1\n",
       "1    1.70915      1\n",
       "2    1.74318      0\n",
       "3    1.74318      0\n",
       "4    1.70915      1\n",
       "..       ...    ...\n",
       "347  1.74318      0\n",
       "348  1.70915      1\n",
       "349  1.70915      1\n",
       "350  1.74318      0\n",
       "351  1.74318      0\n",
       "\n",
       "[352 rows x 2 columns]"
      ]
     },
     "execution_count": 8,
     "metadata": {},
     "output_type": "execute_result"
    }
   ],
   "source": [
    "sdfits[\"TCAL\", \"PLNUM\"]"
   ]
  },
  {
   "cell_type": "markdown",
   "id": "50febab3-1fc3-4763-afef-de92d6c61340",
   "metadata": {},
   "source": [
    "The values were updated. We proceed with the data reduction."
   ]
  },
  {
   "cell_type": "code",
   "execution_count": 9,
   "id": "d435b22b-6fa2-4966-b04b-d9eebe04f745",
   "metadata": {},
   "outputs": [
    {
     "name": "stdout",
     "output_type": "stream",
     "text": [
      "EXCLUDING None\n"
     ]
    }
   ],
   "source": [
    "ps_updated = sdfits.getps(plnum=0).timeaverage()\n",
    "ps_updated.baseline(degree=1, remove=True)"
   ]
  },
  {
   "cell_type": "markdown",
   "id": "80b89085-88f3-4212-84d0-fff9c0418c9a",
   "metadata": {},
   "source": [
    "Now plot and compare the result. Since the antenna temperature is directly proportional to the temperature of the noise diode, now the line profile after the update should be 20% brighter than without the update."
   ]
  },
  {
   "cell_type": "code",
   "execution_count": 11,
   "id": "7b1b2b5d-353f-4526-b3e3-c50a0ca89182",
   "metadata": {},
   "outputs": [
    {
     "data": {
      "image/png": "[encoded data removed]",
      "text/plain": [
       "<Figure size 640x480 with 1 Axes>"
      ]
     },
     "metadata": {},
     "output_type": "display_data"
    },
    {
     "data": {
      "image/png": "[encoded data removed]",
      "text/plain": [
       "<Figure size 640x480 with 1 Axes>"
      ]
     },
     "metadata": {},
     "output_type": "display_data"
    }
   ],
   "source": [
    "ps_original.plot(ymin=-0.5, ymax=0.3)\n",
    "ps_updated.plot(ymin=-0.5, ymax=0.3)"
   ]
  },
  {
   "cell_type": "code",
   "execution_count": null,
   "id": "ca9dbb65-0c01-4dea-9cdc-69b0dc24378a",
   "metadata": {},
   "outputs": [],
   "source": []
  }
 ],
 "metadata": {
  "kernelspec": {
   "display_name": "Python 3 (ipykernel)",
   "language": "python",
   "name": "python3"
  },
  "language_info": {
   "codemirror_mode": {
    "name": "ipython",
    "version": 3
   },
   "file_extension": ".py",
   "mimetype": "text/x-python",
   "name": "python",
   "nbconvert_exporter": "python",
   "pygments_lexer": "ipython3",
   "version": "3.9.0"
  }
 },
 "nbformat": 4,
 "nbformat_minor": 5
}
