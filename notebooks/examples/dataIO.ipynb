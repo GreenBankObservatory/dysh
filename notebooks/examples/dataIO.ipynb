{
 "cells": [
  {
   "cell_type": "markdown",
   "id": "f2ff2011-ba60-4a00-886d-f8a1efd950b0",
   "metadata": {},
   "source": [
    "## Saving `dysh` data to external files\n",
    "This notebook gives examples of how to write out selected data from [`GBTFitsLoad`](https://dysh.readthedocs.io/en/latest/modules/dysh.fits.html#module-dysh.fits.gbtfitsload) and how to save \n",
    "[`Spectrum`](https://dysh.readthedocs.io/en/latest/modules/dysh.spectra.html#module-dysh.spectra.spectrum), \n",
    "[`Scan`](https://dysh.readthedocs.io/en/latest/modules/dysh.spectra.html#module-dysh.spectra.scan), and \n",
    "[`ScanBlock`](https://dysh.readthedocs.io/en/latest/modules/dysh.spectra.html#dysh.spectra.scan.ScanBlock) to different formats."
   ]
  },
  {
   "cell_type": "code",
   "execution_count": 1,
   "id": "a51699fb-4012-4663-a447-a8290adca502",
   "metadata": {},
   "outputs": [],
   "source": [
    "import os\n",
    "import wget\n",
    "import astropy.units as u\n",
    "from dysh.fits.gbtfitsload import GBTFITSLoad\n",
    "from dysh.spectra.spectrum import Spectrum\n",
    "from dysh.spectra.scan import ScanBlock\n",
    "import matplotlib.pyplot as plt\n",
    "import numpy as np"
   ]
  },
  {
   "cell_type": "markdown",
   "id": "24b6bd02-19a4-4886-8fd3-2ed663713e1f",
   "metadata": {},
   "source": [
    "### Let's start with `GBTFITSLoad`\n",
    "First read  in some data"
   ]
  },
  {
   "cell_type": "code",
   "execution_count": 2,
   "id": "a95701ab-fb3b-4d6f-885d-c3e66fa0b9e4",
   "metadata": {},
   "outputs": [
    {
     "name": "stdout",
     "output_type": "stream",
     "text": [
      "TGBT21A_501_11.raw.vegas.fits already downloaded\n"
     ]
    }
   ],
   "source": [
    "filename = \"TGBT21A_501_11.raw.vegas.fits\"\n",
    "if not os.path.isfile(filename):\n",
    "    url = f\"http://www.gb.nrao.edu/dysh/example_data/onoff-L/data/{filename}\"\n",
    "    print(f\"Downloading {filename}\")\n",
    "    wget.download(url,out=filename)\n",
    "    print(f\"\\nRetrieved {filename}\")\n",
    "else:\n",
    "    print(f\"{filename} already downloaded\")"
   ]
  },
  {
   "cell_type": "code",
   "execution_count": 3,
   "id": "6b9698eb-b695-4fdf-bb34-dd47d155cac3",
   "metadata": {
    "scrolled": true
   },
   "outputs": [
    {
     "data": {
      "text/html": [
       "<div>\n",
       "<style scoped>\n",
       "    .dataframe tbody tr th:only-of-type {\n",
       "        vertical-align: middle;\n",
       "    }\n",
       "\n",
       "    .dataframe tbody tr th {\n",
       "        vertical-align: top;\n",
       "    }\n",
       "\n",
       "    .dataframe thead th {\n",
       "        text-align: right;\n",
       "    }\n",
       "</style>\n",
       "<table border=\"1\" class=\"dataframe\">\n",
       "  <thead>\n",
       "    <tr style=\"text-align: right;\">\n",
       "      <th></th>\n",
       "      <th>SCAN</th>\n",
       "      <th>OBJECT</th>\n",
       "      <th>VELOCITY</th>\n",
       "      <th>PROC</th>\n",
       "      <th>PROCSEQN</th>\n",
       "      <th>RESTFREQ</th>\n",
       "      <th>DOPFREQ</th>\n",
       "      <th># IF</th>\n",
       "      <th># POL</th>\n",
       "      <th># INT</th>\n",
       "      <th># FEED</th>\n",
       "      <th>AZIMUTH</th>\n",
       "      <th>ELEVATIO</th>\n",
       "    </tr>\n",
       "  </thead>\n",
       "  <tbody>\n",
       "    <tr>\n",
       "      <th>0</th>\n",
       "      <td>152</td>\n",
       "      <td>NGC2415</td>\n",
       "      <td>3784.0</td>\n",
       "      <td>OnOff</td>\n",
       "      <td>1</td>\n",
       "      <td>1.617185</td>\n",
       "      <td>1.420406</td>\n",
       "      <td>5</td>\n",
       "      <td>2</td>\n",
       "      <td>151</td>\n",
       "      <td>1</td>\n",
       "      <td>286.218008</td>\n",
       "      <td>41.62843</td>\n",
       "    </tr>\n",
       "    <tr>\n",
       "      <th>1</th>\n",
       "      <td>153</td>\n",
       "      <td>NGC2415</td>\n",
       "      <td>3784.0</td>\n",
       "      <td>OnOff</td>\n",
       "      <td>2</td>\n",
       "      <td>1.617185</td>\n",
       "      <td>1.420406</td>\n",
       "      <td>5</td>\n",
       "      <td>2</td>\n",
       "      <td>151</td>\n",
       "      <td>1</td>\n",
       "      <td>286.886521</td>\n",
       "      <td>41.118134</td>\n",
       "    </tr>\n",
       "  </tbody>\n",
       "</table>\n",
       "</div>"
      ],
      "text/plain": [
       "   SCAN   OBJECT VELOCITY   PROC  PROCSEQN  RESTFREQ   DOPFREQ # IF # POL  \\\n",
       "0   152  NGC2415   3784.0  OnOff         1  1.617185  1.420406    5     2   \n",
       "1   153  NGC2415   3784.0  OnOff         2  1.617185  1.420406    5     2   \n",
       "\n",
       "  # INT # FEED     AZIMUTH   ELEVATIO  \n",
       "0   151      1  286.218008   41.62843  \n",
       "1   151      1  286.886521  41.118134  "
      ]
     },
     "execution_count": 3,
     "metadata": {},
     "output_type": "execute_result"
    }
   ],
   "source": [
    "sdfits = GBTFITSLoad(filename)\n",
    "sdfits.summary()"
   ]
  },
  {
   "cell_type": "markdown",
   "id": "9351def9-e459-46f0-be5f-cc5e9113213a",
   "metadata": {},
   "source": [
    "### Calibrate a position switched scan.  This returns a `ScanBlock` containing one [`PSScan`](https://dysh.readthedocs.io/en/latest/modules/dysh.spectra.html#dysh.spectra.scan.PSScan) with 151 ONs and 151 OFFs."
   ]
  },
  {
   "cell_type": "code",
   "execution_count": null,
   "id": "b8ea0bfc-6a50-43f3-861a-28383bc312ef",
   "metadata": {},
   "outputs": [],
   "source": [
    "psscan = sdfits.getps(scan=152, ifnum=0, plnum=0)"
   ]
  },
  {
   "cell_type": "code",
   "execution_count": null,
   "id": "357fdb65-d0d0-42f7-8ff2-fb2f51789eef",
   "metadata": {},
   "outputs": [],
   "source": [
    "print(f\"Number of integrations = {psscan[0].nrows}\")"
   ]
  },
  {
   "cell_type": "markdown",
   "id": "95eaa2b4-dfb0-4cbc-bd33-61574487fd1f",
   "metadata": {},
   "source": [
    "### Get the time average of the calibrated data\n",
    "This method returns a `Spectrum`."
   ]
  },
  {
   "cell_type": "code",
   "execution_count": null,
   "id": "191dce67-3ca7-40e7-9610-371002934880",
   "metadata": {},
   "outputs": [],
   "source": [
    "ta = psscan.timeaverage()"
   ]
  },
  {
   "cell_type": "code",
   "execution_count": null,
   "id": "fa82c57a-9346-4c65-9b52-84d29b38024d",
   "metadata": {},
   "outputs": [],
   "source": [
    "ta.plot()"
   ]
  },
  {
   "cell_type": "markdown",
   "id": "149ac3c9-fb92-4f9f-87f3-65e07bce92dc",
   "metadata": {},
   "source": [
    "---"
   ]
  },
  {
   "cell_type": "markdown",
   "id": "5e7285c7-51c1-400e-845e-0590ae656e9a",
   "metadata": {},
   "source": [
    "# 1.  Reading and Writing Individual Spectra"
   ]
  },
  {
   "cell_type": "markdown",
   "id": "8e5d964f-53ac-4591-a70a-f4cf4b2a3b43",
   "metadata": {},
   "source": [
    "###  ASCII output\n",
    "`dysh` supports output to text files in a variety of [formats familiar to users of astropy](https://docs.astropy.org/en/stable/io/ascii/index.html#id1):\n",
    "* basic\n",
    "* commented_header\n",
    "* ECSV\n",
    "* fixed_width\n",
    "* IPAC\n",
    "* MRT\n",
    "* votable"
   ]
  },
  {
   "cell_type": "code",
   "execution_count": null,
   "id": "0fbf4377-ec18-45c6-9978-9cc66b4262cc",
   "metadata": {},
   "outputs": [],
   "source": [
    "fmt = [ \n",
    "    \"basic\",\n",
    "    \"commented_header\",\n",
    "    \"ecsv\",\n",
    "    \"fixed_width\",\n",
    "    \"ipac\",\n",
    "    \"mrt\",\n",
    "    \"votable\",\n",
    "]\n",
    "for f in fmt:\n",
    "    file = f\"testwrite.{f}\"\n",
    "    ta.write(file, format=f, overwrite=True)\n"
   ]
  },
  {
   "cell_type": "markdown",
   "id": "9f7976e1-8843-449b-a691-f679b8dc6155",
   "metadata": {},
   "source": [
    "### We can also write a spectrum to FITS format"
   ]
  },
  {
   "cell_type": "code",
   "execution_count": null,
   "id": "17fcc3f7-b768-4e82-912a-d8da3f580981",
   "metadata": {},
   "outputs": [],
   "source": [
    "ta.write(\"testwrite.fits\",format=\"fits\",overwrite=True)"
   ]
  },
  {
   "cell_type": "markdown",
   "id": "014ebca5-5e6c-4400-bb35-3463e11f852a",
   "metadata": {},
   "source": [
    "### We can read spectra in FITS and a few formats\n",
    "[As noted in astropy, ECSV ](https://docs.astropy.org/en/stable/io/ascii/ecsv.html#ecsv-format) is the only ASCII format that can make a lossless output-input roundtrip and thus reproduce an original spectrum."
   ]
  },
  {
   "cell_type": "code",
   "execution_count": null,
   "id": "f9b097e4-27c7-4460-955f-06e7bcccd99d",
   "metadata": {},
   "outputs": [],
   "source": [
    "s1=Spectrum.read(\"testwrite.fits\",format=\"fits\")\n",
    "s1.plot()"
   ]
  },
  {
   "cell_type": "code",
   "execution_count": null,
   "id": "b6c51e2d-2be7-4326-ae12-3ed05f1f73b3",
   "metadata": {},
   "outputs": [],
   "source": [
    "s2=Spectrum.read(\"testwrite.ecsv\",format=\"ecsv\")\n",
    "s2.plot()"
   ]
  },
  {
   "cell_type": "markdown",
   "id": "537058ef-b76d-4b4f-b175-61103cb46767",
   "metadata": {},
   "source": [
    "### GBTIDL ASCII format\n",
    "`dysh` can read text files created by GBTIDL's `write_ascii` function. However, those files do not provide sufficient metadata to to fully recreate the spectrum.  (For instance, they do not have complete sky coordinate information).  "
   ]
  },
  {
   "cell_type": "code",
   "execution_count": null,
   "id": "dee9791c-9036-443d-9951-d4bfcc78df0c",
   "metadata": {},
   "outputs": [],
   "source": [
    "s3 = Spectrum.read(\"onoff-L_gettp_156_intnum_0_HEL.ascii\", format='gbtidl')"
   ]
  },
  {
   "cell_type": "code",
   "execution_count": null,
   "id": "0b8102b6-3c8f-4c33-a972-32b81d09bc36",
   "metadata": {},
   "outputs": [],
   "source": [
    "print(s3,\"\\n\",s3.meta)"
   ]
  },
  {
   "cell_type": "markdown",
   "id": "37c77152-bdb3-4dc4-bd5d-3e705b669908",
   "metadata": {},
   "source": [
    "### `dysh` can even read compressed ASCII files\n",
    "Note these data have velocity on the spectral axis"
   ]
  },
  {
   "cell_type": "code",
   "execution_count": null,
   "id": "2f054bdf-cfd1-486e-8e2d-04c541e6244e",
   "metadata": {},
   "outputs": [],
   "source": [
    "s4 = Spectrum.read(\"onoff-L_getps_152_RADI-HEL.ascii.gz\", format='gbtidl')"
   ]
  },
  {
   "cell_type": "code",
   "execution_count": null,
   "id": "72ff1f59-7363-4168-af22-b5b217a1b132",
   "metadata": {
    "scrolled": true
   },
   "outputs": [],
   "source": [
    "print(s4,\"\\n\",s4.meta)"
   ]
  },
  {
   "cell_type": "markdown",
   "id": "fa602f35-2e39-4f90-a505-8e00e26d8f36",
   "metadata": {},
   "source": [
    "#### Plot it with simple matplotlib commands"
   ]
  },
  {
   "cell_type": "code",
   "execution_count": null,
   "id": "0b6de133-2d3b-41e2-8241-e76250e48143",
   "metadata": {},
   "outputs": [],
   "source": [
    "plt.xlabel(f\"Velocity ({s4.meta['VELDEF']}) [{s4.spectral_axis.unit}]\")\n",
    "plt.ylabel(f\"$T_A$ [{s4.flux.unit}]\")\n",
    "plt.plot(s4.spectral_axis,s4.flux)"
   ]
  },
  {
   "cell_type": "markdown",
   "id": "ff5f304f-3fde-4638-91ae-f0ed8e43753c",
   "metadata": {},
   "source": [
    "---"
   ]
  },
  {
   "cell_type": "markdown",
   "id": "a335b2f6-0b1d-4686-aa6b-b66a97e8c609",
   "metadata": {},
   "source": [
    "# 2. Writing Calibrated Data to SDFITS\n",
    "You can write the calibrated data from a ScanBlock in SDFITS format.  If there are multiple Scans in the ScanBlock, they will all be written to the same binary table (useful for gbtgridder)"
   ]
  },
  {
   "cell_type": "code",
   "execution_count": null,
   "id": "6f99a6b0-199a-45db-b328-3609baab6b57",
   "metadata": {},
   "outputs": [],
   "source": [
    "psscan.write('scanblock.fits',overwrite=True)"
   ]
  },
  {
   "cell_type": "markdown",
   "id": "15914467-f794-457e-8951-b58fd1f36db4",
   "metadata": {},
   "source": [
    "---"
   ]
  },
  {
   "cell_type": "markdown",
   "id": "edb47869-587b-47ff-9e66-23a59657fd1e",
   "metadata": {},
   "source": [
    "# 3. Writing out selected data from `GBTFITSLoad`\n",
    "The `write()` method of `GBTFITSLoad` supports down-selection of data. Data can be selected on any SDFITS column."
   ]
  },
  {
   "cell_type": "code",
   "execution_count": null,
   "id": "0c8a42c1-77e5-4aa9-88b5-ad88f7be0694",
   "metadata": {},
   "outputs": [],
   "source": [
    "sdfits.write(\"mydata.fits\",plnum=1,ifnum=[0,2],intnum=np.arange(100),overwrite=True)"
   ]
  },
  {
   "cell_type": "markdown",
   "id": "3c59504e-9393-45ae-afb9-da513191ff55",
   "metadata": {},
   "source": [
    "### These data, can of course, be read back in"
   ]
  },
  {
   "cell_type": "code",
   "execution_count": null,
   "id": "4a0bcaa6-97d7-4e4c-94ef-50761abc1857",
   "metadata": {},
   "outputs": [],
   "source": [
    "sdfits2 = GBTFITSLoad(\"mydata.fits\")\n",
    "sdfits2.summary()"
   ]
  },
  {
   "cell_type": "markdown",
   "id": "80442074-dd89-44d4-9aa3-b3544a5dcf57",
   "metadata": {},
   "source": [
    "### Writing SDFITS to multiple files \n",
    "If the data came from multiple files, for instance VEGAS banks, then by default they are written to multiple files, so\n",
    "`sdfits.write('mydata.fits') `\n",
    "would write to mydata0.fits, mydata1.fits, ... mydataN.fits.\n",
    "A future enhancement will preserve the A,B,C alphabetic extensions of the input data."
   ]
  },
  {
   "cell_type": "code",
   "execution_count": null,
   "id": "b1f2ba8c-ca55-4bcc-84f6-5ee822900efb",
   "metadata": {},
   "outputs": [],
   "source": []
  }
 ],
 "metadata": {
  "kernelspec": {
   "display_name": "Python 3 (ipykernel)",
   "language": "python",
   "name": "python3"
  },
  "language_info": {
   "codemirror_mode": {
    "name": "ipython",
    "version": 3
   },
   "file_extension": ".py",
   "mimetype": "text/x-python",
   "name": "python",
   "nbconvert_exporter": "python",
   "pygments_lexer": "ipython3",
   "version": "3.9.18"
  }
 },
 "nbformat": 4,
 "nbformat_minor": 5
}
