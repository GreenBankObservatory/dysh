{
 "cells": [
  {
   "cell_type": "markdown",
   "id": "8c8138ef-e687-444e-95b1-9797654f3f62",
   "metadata": {
    "editable": true,
    "slideshow": {
     "slide_type": ""
    },
    "tags": []
   },
   "source": [
    "# Position-switched Data Reduction\n",
    "----------------------------------\n",
    "\n",
    "This notebook shows how to use `dysh` to calibrate an OnOff observation.\n",
    "It retrieves and calibrates position-switch scans using `GBTFITSLoad.getps()`, which returns a `ScanBlock` object.  OffOn observations can be reduced the same way."
   ]
  },
  {
   "cell_type": "code",
   "execution_count": 1,
   "id": "b4967550-2ca1-4931-b53b-6f9868718490",
   "metadata": {
    "editable": true,
    "slideshow": {
     "slide_type": ""
    },
    "tags": [
     "import"
    ]
   },
   "outputs": [],
   "source": [
    "import os\n",
    "import wget\n",
    "import astropy.units as u\n",
    "from dysh.fits.gbtfitsload import GBTFITSLoad"
   ]
  },
  {
   "cell_type": "markdown",
   "id": "87669763-8d96-4521-9e81-f69d7213e133",
   "metadata": {
    "editable": true,
    "slideshow": {
     "slide_type": ""
    },
    "tags": []
   },
   "source": [
    "## First, we download the example SDFITS data, if necessary.\n"
   ]
  },
  {
   "cell_type": "code",
   "execution_count": 2,
   "id": "6bc88bc5-986d-4eae-b1c7-6398cc9ddd5a",
   "metadata": {
    "editable": true,
    "slideshow": {
     "slide_type": ""
    },
    "tags": [
     "wget"
    ]
   },
   "outputs": [
    {
     "name": "stdout",
     "output_type": "stream",
     "text": [
      "TGBT21A_501_11.raw.vegas.fits already downloaded\n"
     ]
    }
   ],
   "source": [
    "filename = \"TGBT21A_501_11.raw.vegas.fits\"\n",
    "if not os.path.isfile(filename):\n",
    "    url = f\"http://www.gb.nrao.edu/dysh/example_data/onoff-L/data/{filename}\"\n",
    "    print(f\"Downloading {filename}\")\n",
    "    wget.download(url,out=filename)\n",
    "    print(f\"\\nRetrieved {filename}\")\n",
    "else:\n",
    "    print(f\"{filename} already downloaded\")"
   ]
  },
  {
   "cell_type": "code",
   "execution_count": 3,
   "id": "93a62e3a-c95d-475b-8602-b5b8b7934733",
   "metadata": {
    "editable": true,
    "slideshow": {
     "slide_type": ""
    },
    "tags": [
     "load"
    ]
   },
   "outputs": [
    {
     "name": "stdout",
     "output_type": "stream",
     "text": [
      "Filename: TGBT21A_501_11.raw.vegas.fits\n",
      "No.    Name      Ver    Type      Cards   Dimensions   Format\n",
      "  0  PRIMARY       1 PrimaryHDU      12   ()      \n",
      "  1  SINGLE DISH    1 BinTableHDU    245   6040R x 74C   ['32A', '1D', '22A', '1D', '1D', '1D', '32768E', '16A', '6A', '8A', '1D', '1D', '1D', '4A', '1D', '4A', '1D', '1I', '32A', '32A', '1J', '32A', '16A', '1E', '8A', '1D', '1D', '1D', '1D', '1D', '1D', '1D', '1D', '1D', '1D', '1D', '1D', '8A', '1D', '1D', '12A', '1I', '1I', '1D', '1D', '1I', '1A', '1I', '1I', '16A', '16A', '1J', '1J', '22A', '1D', '1D', '1I', '1A', '1D', '1E', '1D', '1D', '1D', '1D', '1D', '1A', '1A', '8A', '1E', '1E', '16A', '1I', '1I', '1I']   \n"
     ]
    }
   ],
   "source": [
    "sdfits = GBTFITSLoad(filename)\n",
    "sdfits.info()"
   ]
  },
  {
   "cell_type": "code",
   "execution_count": 4,
   "id": "1d71d0c8-6ff4-4c89-a76e-df2648ee41b6",
   "metadata": {
    "editable": true,
    "slideshow": {
     "slide_type": ""
    },
    "tags": []
   },
   "outputs": [
    {
     "data": {
      "text/html": [
       "<div>\n",
       "<style scoped>\n",
       "    .dataframe tbody tr th:only-of-type {\n",
       "        vertical-align: middle;\n",
       "    }\n",
       "\n",
       "    .dataframe tbody tr th {\n",
       "        vertical-align: top;\n",
       "    }\n",
       "\n",
       "    .dataframe thead th {\n",
       "        text-align: right;\n",
       "    }\n",
       "</style>\n",
       "<table border=\"1\" class=\"dataframe\">\n",
       "  <thead>\n",
       "    <tr style=\"text-align: right;\">\n",
       "      <th></th>\n",
       "      <th>SCAN</th>\n",
       "      <th>OBJECT</th>\n",
       "      <th>VELOCITY</th>\n",
       "      <th>PROC</th>\n",
       "      <th>PROCSEQN</th>\n",
       "      <th>RESTFREQ</th>\n",
       "      <th>DOPFREQ</th>\n",
       "      <th># IF</th>\n",
       "      <th># POL</th>\n",
       "      <th># INT</th>\n",
       "      <th># FEED</th>\n",
       "      <th>AZIMUTH</th>\n",
       "      <th>ELEVATIO</th>\n",
       "    </tr>\n",
       "  </thead>\n",
       "  <tbody>\n",
       "    <tr>\n",
       "      <th>0</th>\n",
       "      <td>152</td>\n",
       "      <td>NGC2415</td>\n",
       "      <td>3784.0</td>\n",
       "      <td>OnOff</td>\n",
       "      <td>1</td>\n",
       "      <td>1.617185</td>\n",
       "      <td>1.420406</td>\n",
       "      <td>5</td>\n",
       "      <td>2</td>\n",
       "      <td>151</td>\n",
       "      <td>1</td>\n",
       "      <td>286.218008</td>\n",
       "      <td>41.62843</td>\n",
       "    </tr>\n",
       "    <tr>\n",
       "      <th>1</th>\n",
       "      <td>153</td>\n",
       "      <td>NGC2415</td>\n",
       "      <td>3784.0</td>\n",
       "      <td>OnOff</td>\n",
       "      <td>2</td>\n",
       "      <td>1.617185</td>\n",
       "      <td>1.420406</td>\n",
       "      <td>5</td>\n",
       "      <td>2</td>\n",
       "      <td>151</td>\n",
       "      <td>1</td>\n",
       "      <td>286.886521</td>\n",
       "      <td>41.118134</td>\n",
       "    </tr>\n",
       "  </tbody>\n",
       "</table>\n",
       "</div>"
      ],
      "text/plain": [
       "   SCAN   OBJECT VELOCITY   PROC  PROCSEQN  RESTFREQ   DOPFREQ # IF # POL  \\\n",
       "0   152  NGC2415   3784.0  OnOff         1  1.617185  1.420406    5     2   \n",
       "1   153  NGC2415   3784.0  OnOff         2  1.617185  1.420406    5     2   \n",
       "\n",
       "  # INT # FEED     AZIMUTH   ELEVATIO  \n",
       "0   151      1  286.218008   41.62843  \n",
       "1   151      1  286.886521  41.118134  "
      ]
     },
     "execution_count": 4,
     "metadata": {},
     "output_type": "execute_result"
    }
   ],
   "source": [
    "sdfits.summary()"
   ]
  },
  {
   "cell_type": "code",
   "execution_count": 5,
   "id": "684126da-97d4-4afb-8625-43160340cab1",
   "metadata": {
    "editable": true,
    "slideshow": {
     "slide_type": ""
    },
    "tags": [
     "getps",
     "test"
    ]
   },
   "outputs": [],
   "source": [
    "psscan = sdfits.getps(152, ifnum=0, plnum=0)\n",
    "psscan.calibrate()"
   ]
  },
  {
   "cell_type": "code",
   "execution_count": 6,
   "id": "5deaae0c-e70b-4758-ae10-f11c6f66cc3b",
   "metadata": {
    "editable": true,
    "slideshow": {
     "slide_type": ""
    },
    "tags": [
     "print_tsys",
     "test"
    ]
   },
   "outputs": [
    {
     "name": "stdout",
     "output_type": "stream",
     "text": [
      "T_sys = 17.17\n"
     ]
    }
   ],
   "source": [
    "print(f\"T_sys = {psscan[0].tsys.mean():.2f}\")"
   ]
  },
  {
   "cell_type": "code",
   "execution_count": 7,
   "id": "e0a33c19-576b-46e8-9a57-f34b8f85f6aa",
   "metadata": {
    "editable": true,
    "slideshow": {
     "slide_type": ""
    },
    "tags": [
     "timeaverage",
     "test"
    ]
   },
   "outputs": [
    {
     "name": "stderr",
     "output_type": "stream",
     "text": [
      "WARNING: NoVelocityWarning: No velocity defined on frame, assuming (0., 0., 0.) km / s. [astropy.coordinates.spectral_coordinate]\n"
     ]
    }
   ],
   "source": [
    "ta = psscan.timeaverage(weights='tsys')"
   ]
  },
  {
   "cell_type": "code",
   "execution_count": 8,
   "id": "40747f0b-d63d-45fa-8910-fef56fe5c751",
   "metadata": {
    "editable": true,
    "slideshow": {
     "slide_type": ""
    },
    "tags": [
     "plot1",
     "test"
    ]
   },
   "outputs": [
    {
     "data": {
      "image/png": "[encoded data removed]",
      "text/plain": [
       "<Figure size 640x480 with 1 Axes>"
      ]
     },
     "metadata": {},
     "output_type": "display_data"
    }
   ],
   "source": [
    "ta[0].plot()"
   ]
  },
  {
   "cell_type": "code",
   "execution_count": 9,
   "id": "6c07cf19-3a5d-47a9-9a10-ccd9f305efb9",
   "metadata": {
    "editable": true,
    "slideshow": {
     "slide_type": ""
    },
    "tags": [
     "plot2",
     "test"
    ]
   },
   "outputs": [
    {
     "data": {
      "image/png": "[encoded data removed]",
      "text/plain": [
       "<Figure size 640x480 with 1 Axes>"
      ]
     },
     "metadata": {},
     "output_type": "display_data"
    }
   ],
   "source": [
    "ta[0].plot(xaxis_unit=\"km/s\",yaxis_unit=\"mK\",ymin=-100,ymax=500,xmin=3000,xmax=4500)"
   ]
  },
  {
   "cell_type": "code",
   "execution_count": null,
   "id": "23b859ca-0f77-4a7d-8250-b91375ceacdf",
   "metadata": {},
   "outputs": [],
   "source": []
  }
 ],
 "metadata": {
  "kernelspec": {
   "display_name": "Python 3 (ipykernel)",
   "language": "python",
   "name": "python3"
  },
  "language_info": {
   "codemirror_mode": {
    "name": "ipython",
    "version": 3
   },
   "file_extension": ".py",
   "mimetype": "text/x-python",
   "name": "python",
   "nbconvert_exporter": "python",
   "pygments_lexer": "ipython3",
   "version": "3.11.6"
  },
  "toc": {
   "base_numbering": 0
  }
 },
 "nbformat": 4,
 "nbformat_minor": 5
}
