{
 "cells": [
  {
   "cell_type": "markdown",
   "id": "9359fc63-3229-4fd3-8631-09c181e6a27b",
   "metadata": {},
   "source": [
    "# Nodding Data Reduction\n",
    "------------------------\n",
    "\n",
    "This notebook shows the reduction path of a nodding observation in a multi-beam receiver.\n",
    "\n",
    "Similar to a position-switched observation, two beams are selected for simultaneous observing (though the receiver can have more than two beams). In the first scan BEAM1 is looking at the source, while BEAM2 is looking at an assumed OFF position. In the next scan, BEAM2 will be looking at the source, while BEAM1 is looking at (another) OFF position. This will result in two position-switched solutions, which are then averaged for the final spectrum. \n",
    "\n",
    "The obvious advantage of this observing mode is that the telescope is always ON source, bringing the noise down by $\\sqrt{2}$ compared to a classic position switched observation. Minus a small amount of slewing time of course. However, the beam separation in the receiver should be large enough to ensure there are good OFF positions, otherwise a proper Position Switching observation is needed with a large enough offset.\n",
    "\n",
    "For fun, this notebook starts with  a matching getps() observation from another scan so we can confirm the improvement in signal/noise.\n",
    "\n",
    "The data in this notebook were also presented in https://gbtdocs.readthedocs.io/en/latest/how-tos/data_reduction/gbtidl.html#basic-nodding in a similar GBTIDL data reduction.\n",
    "\n",
    "## Background\n",
    "\n",
    "The spectral line observed here is the NH$_3$ (1,1) line at 23.69 GHz with the K-band focal plane array (KFPA) receiver. This receiver has 7 beams: one central beam and six in a hexagonal (?) pattern. The source is a position in the W3 cloud.\n"
   ]
  },
  {
   "cell_type": "code",
   "execution_count": null,
   "id": "2845830c-b401-44b3-a6b1-ed1c30c706df",
   "metadata": {
    "scrolled": true
   },
   "outputs": [],
   "source": [
    "# %matplotlib widget"
   ]
  },
  {
   "cell_type": "code",
   "execution_count": null,
   "id": "e34b86e9-6438-4e84-8503-d6dd1699e243",
   "metadata": {},
   "outputs": [],
   "source": [
    "import numpy as np\n",
    "import matplotlib.pyplot as plt\n",
    "from astropy import units as u\n",
    "from dysh.fits.gbtfitsload import GBTFITSLoad\n",
    "from dysh.util.files import dysh_data\n",
    "from pathlib import Path\n",
    "from dysh.util.download import from_url"
   ]
  },
  {
   "cell_type": "markdown",
   "id": "d79cd20c-0d6f-4a40-88f0-c18336d94db8",
   "metadata": {
    "jp-MarkdownHeadingCollapsed": true
   },
   "source": [
    "Future use of dysh_data:\n",
    "\n",
    " filename = dysh_data(example=\"nod-KFPA/data/TGBT22A_503_02.raw.vegas\")\n",
    " \n",
    " filename = dysh_data(example=\"nod-KFPA/data/TGBT22A_503_02.raw.vegas.trim.fits\")"
   ]
  },
  {
   "cell_type": "code",
   "execution_count": null,
   "id": "be47e0aa-097a-4000-a2aa-fc5b0d4dc49e",
   "metadata": {},
   "outputs": [],
   "source": [
    "url = \"http://www.gb.nrao.edu/dysh/example_data/nod-KFPA/data/TGBT22A_503_02.raw.vegas.trim.fits\"\n",
    "savepath = Path.cwd() / \"data\"\n",
    "filename = from_url(url, savepath)"
   ]
  },
  {
   "cell_type": "markdown",
   "id": "6ac043ae-0334-47c8-bf32-fa032e0113ca",
   "metadata": {},
   "source": [
    "This trimmed dataset is an extraction from a much larger dataset (19GB) and can take some time to load if it's the first time."
   ]
  },
  {
   "cell_type": "code",
   "execution_count": null,
   "id": "fb10b18f-4510-4707-ad2a-70a1ec2b4d79",
   "metadata": {},
   "outputs": [],
   "source": [
    "sdf = GBTFITSLoad(filename)"
   ]
  },
  {
   "cell_type": "code",
   "execution_count": null,
   "id": "62f47e96-7553-48c9-9dfb-032d2af60897",
   "metadata": {},
   "outputs": [],
   "source": [
    "sdf.summary()"
   ]
  },
  {
   "cell_type": "markdown",
   "id": "17ac95ab-15f2-4f45-80cd-cc9d6ca0f001",
   "metadata": {},
   "source": [
    "We will use scans 60 and 61 for the position-switching (PS) observation.\n",
    "\n",
    "Also note for the 7-beam KFPA receiver, the central beam (fdnum=0) will be the source tracking beam for the Position Switch observation."
   ]
  },
  {
   "cell_type": "code",
   "execution_count": null,
   "id": "8550e75f-2018-4c8b-9b5c-f9de6a6d4c93",
   "metadata": {},
   "outputs": [],
   "source": [
    "sp0 = sdf.getps(scan=60,plnum=0,ifnum=0,fdnum=0).timeaverage()[1500:-1500]"
   ]
  },
  {
   "cell_type": "code",
   "execution_count": null,
   "id": "af11eee3-1b8b-466f-bdfc-b8ab305c15ed",
   "metadata": {},
   "outputs": [],
   "source": [
    "sp0s = sp0.smooth('box',51)\n",
    "sp0s.plot(title='dysh getps',xaxis_unit=\"chan\")\n",
    "sp0s.stats()"
   ]
  },
  {
   "cell_type": "markdown",
   "id": "81d0b900-0913-4d41-9c41-5f51205d22ae",
   "metadata": {},
   "source": [
    "Now the nodding method, using scans 62 and 63.  This will return one scanblock with two NodScan's, each representing a \"PS\" observations that need to be averaged to get the final spectrum.  We can do that with the timeaverage() function directly applying to this list of (two) NodScan's.  And for good measure we will smooth it a little bit as we did with the previous PS observation.\n",
    "\n",
    "Normally the FITS header will contain information on which is BEAM1 and which is BEAM2. In this case beams 2 and 6 are the two nodding beams. For convenience we are dropped the first and last 1500 (of the 32768) channels of the spectrum to avoid edge effects. We leave it to the reader to view these beautiful edges."
   ]
  },
  {
   "cell_type": "code",
   "execution_count": null,
   "id": "dac5d724-5085-45ed-b48c-2d2d41485920",
   "metadata": {},
   "outputs": [],
   "source": [
    "sp2 = sdf.getnod(scan=62,ifnum=0,plnum=0).timeaverage()[1500:-1500]\n",
    "sp2s = sp2.smooth('box',51)\n",
    "sp2s.stats()"
   ]
  },
  {
   "cell_type": "code",
   "execution_count": null,
   "id": "fddc8738-c3d8-49ba-bb56-e98183f61e74",
   "metadata": {},
   "outputs": [],
   "source": [
    "sp2s.plot(title='dysh getnod',xaxis_unit=\"chan\")\n",
    "print('getps  RMS:', sp0s[:200].stats()['rms'])\n",
    "print('getnod RMS:', sp2s[:200].stats()['rms'])"
   ]
  },
  {
   "cell_type": "markdown",
   "id": "d5c43427-3b7f-434e-99a3-0e1e146cf71f",
   "metadata": {},
   "source": [
    "The improvement of the RMS is not great, the 60 mK signal from the PS should have predicted more like 42 mK. In addition, the NOD spectrum shows the 4 side-peaks to be roughly the same, where the PS spectrum shows the outer two to be well below the middle two. Who is correct?"
   ]
  },
  {
   "cell_type": "markdown",
   "id": "e2b9af8c-a503-4991-8442-dbdeabcfe627",
   "metadata": {},
   "source": [
    "## Baseline Subtracted Spectra\n",
    "\n",
    "Let us subtract a baseline and compare the two spectra on the same scale."
   ]
  },
  {
   "cell_type": "code",
   "execution_count": null,
   "id": "7b2164a7-0224-4cfd-8a7a-04715d9269ca",
   "metadata": {},
   "outputs": [],
   "source": [
    "sp0s.baseline(model=\"cheby\", degree=2, exclude=[200,400], remove=True)\n",
    "sp2s.baseline(model=\"cheby\", degree=2, exclude=[200,400], remove=True)"
   ]
  },
  {
   "cell_type": "code",
   "execution_count": null,
   "id": "a258c425-27ec-41b7-bd11-073da24aaa1e",
   "metadata": {},
   "outputs": [],
   "source": [
    "sp0s.plot(title='dysh getps',xaxis_unit=\"km/s\", ymin=-0.2, ymax=1.0)\n",
    "sp2s.plot(title='dysh getnod',xaxis_unit=\"km/s\", ymin=-0.2, ymax=1.0)"
   ]
  },
  {
   "cell_type": "code",
   "execution_count": null,
   "id": "cab88aad-8fc4-47cd-9108-b20dc44325a7",
   "metadata": {},
   "outputs": [],
   "source": [
    "print(\"PS  spectrum peak:\", sp0s.stats()[\"max\"])\n",
    "print(\"NOD spectrum peak:\", sp2s.stats()[\"max\"])"
   ]
  },
  {
   "cell_type": "markdown",
   "id": "d3e7ff1a-50c9-4369-b917-97f962c8a8ce",
   "metadata": {},
   "source": [
    "Given that the RMS is about 0.060 K, the peaks of these two spectra agree well.\n"
   ]
  }
 ],
 "metadata": {
  "kernelspec": {
   "display_name": "Python 3 (ipykernel)",
   "language": "python",
   "name": "python3"
  },
  "language_info": {
   "codemirror_mode": {
    "name": "ipython",
    "version": 3
   },
   "file_extension": ".py",
   "mimetype": "text/x-python",
   "name": "python",
   "nbconvert_exporter": "python",
   "pygments_lexer": "ipython3",
   "version": "3.12.4"
  }
 },
 "nbformat": 4,
 "nbformat_minor": 5
}
