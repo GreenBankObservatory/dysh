{
 "cells": [
  {
   "cell_type": "markdown",
   "id": "9359fc63-3229-4fd3-8631-09c181e6a27b",
   "metadata": {},
   "source": [
    "# Nodding\n",
    "\n",
    "This notebook shows the reduction path of a nodding observation in a multi-beam receiver.\n",
    "\n",
    "Similar to a position-switched observation, two beams are selected for simultaneous observing (though the receiver can have more than two beams). In the first scan BEAM1 is looking at the source, while BEAM2 is looking at an assumed OFF position. In the next scan, BEAM2 will be looking at the source, while BEAM1 is looking at (another) OFF position. This will result in two position-switched solutions, which are then averaged for the final spectrum. \n",
    "\n",
    "The obvious big advantage of this observing mode is that the telescope is always ON source, bringing the noise down by $\\sqrt{2}$, minus a small amount of slewing time.\n",
    "\n",
    "This notebook also includes the matching getps() observation from another scan. \n"
   ]
  },
  {
   "cell_type": "code",
   "execution_count": null,
   "id": "2845830c-b401-44b3-a6b1-ed1c30c706df",
   "metadata": {
    "scrolled": true
   },
   "outputs": [],
   "source": [
    "# %matplotlib widget"
   ]
  },
  {
   "cell_type": "code",
   "execution_count": null,
   "id": "e34b86e9-6438-4e84-8503-d6dd1699e243",
   "metadata": {},
   "outputs": [],
   "source": [
    "import numpy as np\n",
    "import matplotlib.pyplot as plt\n",
    "from astropy import units as u\n",
    "from dysh.fits.gbtfitsload import GBTFITSLoad\n",
    "from dysh.util.files import dysh_data"
   ]
  },
  {
   "cell_type": "code",
   "execution_count": null,
   "id": "cf801734-2ba0-48cd-a664-3ca15ce58890",
   "metadata": {},
   "outputs": [],
   "source": [
    "path = \"/home/dysh/acceptance_testing/data/\"\n",
    "path = \"/home/teuben/GBT/dysh_data/example_data\"\n",
    "file1 = f\"{path}/nod-KFPA/data/TGBT22A_503_02.raw.vegas\"\n",
    "print(file1)"
   ]
  },
  {
   "cell_type": "code",
   "execution_count": null,
   "id": "254bf771-97b2-4b0e-bbcf-716e5555e77a",
   "metadata": {},
   "outputs": [],
   "source": [
    "file1 = dysh_data(example=\"nod-KFPA/data/TGBT22A_503_02.raw.vegas\")"
   ]
  },
  {
   "cell_type": "markdown",
   "id": "6ac043ae-0334-47c8-bf32-fa032e0113ca",
   "metadata": {},
   "source": [
    "This is a huge dataset (19GB) and can take some time to load if it's the first time."
   ]
  },
  {
   "cell_type": "code",
   "execution_count": null,
   "id": "fb10b18f-4510-4707-ad2a-70a1ec2b4d79",
   "metadata": {},
   "outputs": [],
   "source": [
    "sdf = GBTFITSLoad(file1)"
   ]
  },
  {
   "cell_type": "code",
   "execution_count": null,
   "id": "62f47e96-7553-48c9-9dfb-032d2af60897",
   "metadata": {},
   "outputs": [],
   "source": [
    "sdf.summary()"
   ]
  },
  {
   "cell_type": "markdown",
   "id": "17ac95ab-15f2-4f45-80cd-cc9d6ca0f001",
   "metadata": {},
   "source": [
    "We will use scans 60 and 61 for the position-switching (PS) observation, and average the two polarizations.\n",
    "Technically the averaging should be done weighthing by 1/TSYS**2, but we are lazy here.\n",
    "\n",
    "Also note for the 7-beam KFPA receiver, the central beam (fdnum=0) will be the source tracking beam."
   ]
  },
  {
   "cell_type": "code",
   "execution_count": null,
   "id": "8550e75f-2018-4c8b-9b5c-f9de6a6d4c93",
   "metadata": {},
   "outputs": [],
   "source": [
    "sp0 = sdf.getps(scan=60,plnum=0,ifnum=0,fdnum=0).timeaverage().smooth('box',11)"
   ]
  },
  {
   "cell_type": "code",
   "execution_count": null,
   "id": "af11eee3-1b8b-466f-bdfc-b8ab305c15ed",
   "metadata": {},
   "outputs": [],
   "source": [
    "sp0.plot(title='dysh getps',xaxis_unit=\"chan\")"
   ]
  },
  {
   "cell_type": "markdown",
   "id": "81d0b900-0913-4d41-9c41-5f51205d22ae",
   "metadata": {},
   "source": [
    "Now the nodding method, using scans 62 and 63.  This will return two scanblocks, representing the two \"PS\" observations that need to be averaged to get the final spectrum.  We can do that with the timeaverage() function directly applying to this list of (two) scanblocks.  And for good measure we will smooth it a little bit as we did with the PS observation.\n",
    "\n",
    "Normally the FITS header will contain information on which is BEAM1 and which is BEAM2. "
   ]
  },
  {
   "cell_type": "code",
   "execution_count": null,
   "id": "dac5d724-5085-45ed-b48c-2d2d41485920",
   "metadata": {},
   "outputs": [],
   "source": [
    "sp2 = sdf.getnod(scan=[62,63],ifnum=0,plnum=0).timeaverage().smooth('box',11)"
   ]
  },
  {
   "cell_type": "code",
   "execution_count": null,
   "id": "fddc8738-c3d8-49ba-bb56-e98183f61e74",
   "metadata": {},
   "outputs": [],
   "source": [
    "sp2.plot(title='dysh getnod',xaxis_unit=\"chan\")\n",
    "print('getnod:', sp2[200:1200].stats()['rms'])\n",
    "print('getps: ', sp0[200:1200].stats()['rms'])\n"
   ]
  }
 ],
 "metadata": {
  "kernelspec": {
   "display_name": "Python 3 (ipykernel)",
   "language": "python",
   "name": "python3"
  },
  "language_info": {
   "codemirror_mode": {
    "name": "ipython",
    "version": 3
   },
   "file_extension": ".py",
   "mimetype": "text/x-python",
   "name": "python",
   "nbconvert_exporter": "python",
   "pygments_lexer": "ipython3",
   "version": "3.12.4"
  }
 },
 "nbformat": 4,
 "nbformat_minor": 5
}
