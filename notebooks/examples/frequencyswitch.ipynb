{
 "cells": [
  {
   "cell_type": "markdown",
   "id": "8c8138ef-e687-444e-95b1-9797654f3f62",
   "metadata": {},
   "source": [
    "# Frequency-switched Data Reduction\n",
    "-----------------------------------\n",
    "\n",
    "This notebook shows how to use `dysh` to calibrate a frequency switched observations. The idea is similar to an OnOff observation, except the telescope does not move to an Off in position, but move their IF in frequency space. Here we call the On/Off the Sig and Ref. Since the telescope observes in a Track mode, combining the sig and a shifted (folded) ref, a $\\sqrt{2}$ improvement in S/N can be achieved.\n",
    "\n",
    "It retrieves and calibrates frequency-switched scans using `GBTFITSLoad.getfs()`, which returns a `ScanBlock` object.  "
   ]
  },
  {
   "cell_type": "code",
   "execution_count": null,
   "id": "b4967550-2ca1-4931-b53b-6f9868718490",
   "metadata": {
    "editable": true,
    "slideshow": {
     "slide_type": ""
    },
    "tags": [
     "import"
    ]
   },
   "outputs": [],
   "source": [
    "import os\n",
    "import wget\n",
    "import astropy.units as u\n",
    "from dysh.fits.gbtfitsload import GBTFITSLoad"
   ]
  },
  {
   "cell_type": "markdown",
   "id": "87669763-8d96-4521-9e81-f69d7213e133",
   "metadata": {},
   "source": [
    "## First, we download the example SDFITS data, if necessary.\n"
   ]
  },
  {
   "cell_type": "code",
   "execution_count": null,
   "id": "6bc88bc5-986d-4eae-b1c7-6398cc9ddd5a",
   "metadata": {
    "editable": true,
    "slideshow": {
     "slide_type": ""
    },
    "tags": [
     "wget"
    ]
   },
   "outputs": [],
   "source": [
    "# just scan6 \n",
    "filename = \"AGBT20B_014_03.raw.vegas.A6.fits\"\n",
    "if not os.path.isfile(filename):\n",
    "    url = f\"http://www.gb.nrao.edu/dysh/example_data/onoff-L/data/{filename}\"\n",
    "    print(f\"Downloading {filename}\")\n",
    "    wget.download(url,out=filename)\n",
    "    print(f\"\\nRetrieved {filename}\")\n",
    "else:\n",
    "    print(f\"{filename} already downloaded\")"
   ]
  },
  {
   "cell_type": "code",
   "execution_count": null,
   "id": "93a62e3a-c95d-475b-8602-b5b8b7934733",
   "metadata": {
    "editable": true,
    "slideshow": {
     "slide_type": ""
    },
    "tags": [
     "load"
    ]
   },
   "outputs": [],
   "source": [
    "sdfits = GBTFITSLoad(filename)\n",
    "sdfits.info()\n",
    "sdfits.summary()"
   ]
  },
  {
   "cell_type": "code",
   "execution_count": null,
   "id": "defa4a6f-9da8-4488-846a-7dceccfa9446",
   "metadata": {
    "editable": true,
    "slideshow": {
     "slide_type": ""
    },
    "tags": [
     "getps",
     "test"
    ]
   },
   "outputs": [],
   "source": [
    "#fsscan = sdfits.getfs(6, ifnum=0, plnum=1)\n",
    "#    why does this not work, where getps(6) would work???\n",
    "fsscan = sdfits.getfs(scan=6, ifnum=0, plnum=1)\n",
    "fsscan.calibrate()"
   ]
  },
  {
   "cell_type": "code",
   "execution_count": null,
   "id": "5deaae0c-e70b-4758-ae10-f11c6f66cc3b",
   "metadata": {
    "editable": true,
    "slideshow": {
     "slide_type": ""
    },
    "tags": [
     "print_tsys",
     "test"
    ]
   },
   "outputs": [],
   "source": [
    "\n",
    "print(f\"T_sys = {np.nanmean(fsscan[0].tsys):.2f}\")"
   ]
  },
  {
   "cell_type": "code",
   "execution_count": null,
   "id": "e0a33c19-576b-46e8-9a57-f34b8f85f6aa",
   "metadata": {
    "editable": true,
    "slideshow": {
     "slide_type": ""
    },
    "tags": [
     "timeaverage",
     "test"
    ]
   },
   "outputs": [],
   "source": [
    "ta = fsscan.timeaverage(weights='tsys')"
   ]
  },
  {
   "cell_type": "code",
   "execution_count": null,
   "id": "40747f0b-d63d-45fa-8910-fef56fe5c751",
   "metadata": {
    "editable": true,
    "slideshow": {
     "slide_type": ""
    },
    "tags": [
     "plot1",
     "test"
    ]
   },
   "outputs": [],
   "source": [
    "ta.plot()"
   ]
  },
  {
   "cell_type": "code",
   "execution_count": null,
   "id": "6c07cf19-3a5d-47a9-9a10-ccd9f305efb9",
   "metadata": {
    "editable": true,
    "slideshow": {
     "slide_type": ""
    },
    "tags": [
     "plot2",
     "test"
    ]
   },
   "outputs": [],
   "source": [
    "ta.plot(xaxis_unit=\"km/s\",yaxis_unit=\"K\",ymin=-10,ymax=20,xmin=-2000,xmax=2000)"
   ]
  },
  {
   "cell_type": "code",
   "execution_count": null,
   "id": "d4c4526b-2e78-4f0f-85ff-0a4e3694a1e5",
   "metadata": {
    "editable": true,
    "slideshow": {
     "slide_type": ""
    },
    "tags": [
     "baseline",
     "test"
    ]
   },
   "outputs": [],
   "source": [
    "kms = u.km/u.s\n",
    "#ta.baseline(degree=2,exclude=[(-2000*kms,-400*kms),(-200*kms,100*kms),(600*kms,3000*kms)],remove=True)\n",
    "ta.baseline(degree=2,exclude=[-200*kms,100*kms],remove=True)\n",
    "\n",
    "# @todo  we really should have an include= option as well, mutually exclusive"
   ]
  },
  {
   "cell_type": "code",
   "execution_count": null,
   "id": "527d868b-0ef7-40d3-9e80-dd5aea8f4405",
   "metadata": {
    "editable": true,
    "slideshow": {
     "slide_type": ""
    },
    "tags": [
     "test"
    ]
   },
   "outputs": [],
   "source": [
    "ta.plot(ymin=-1,ymax=1)"
   ]
  },
  {
   "cell_type": "code",
   "execution_count": null,
   "id": "219e21a8-91cb-405e-82fc-249143c219ae",
   "metadata": {
    "editable": true,
    "slideshow": {
     "slide_type": ""
    },
    "tags": [
     "test"
    ]
   },
   "outputs": [],
   "source": [
    "print(ta.baseline_model)"
   ]
  },
  {
   "cell_type": "code",
   "execution_count": null,
   "id": "3a7e4887-ba55-447a-9274-8275e9896d39",
   "metadata": {},
   "outputs": [],
   "source": [
    "ta.savefig(\"baselined_removed.png\")"
   ]
  },
  {
   "cell_type": "code",
   "execution_count": null,
   "id": "23b859ca-0f77-4a7d-8250-b91375ceacdf",
   "metadata": {},
   "outputs": [],
   "source": []
  }
 ],
 "metadata": {
  "kernelspec": {
   "display_name": "Python 3 (ipykernel)",
   "language": "python",
   "name": "python3"
  },
  "language_info": {
   "codemirror_mode": {
    "name": "ipython",
    "version": 3
   },
   "file_extension": ".py",
   "mimetype": "text/x-python",
   "name": "python",
   "nbconvert_exporter": "python",
   "pygments_lexer": "ipython3",
   "version": "3.11.5"
  },
  "toc": {
   "base_numbering": 0
  }
 },
 "nbformat": 4,
 "nbformat_minor": 5
}
