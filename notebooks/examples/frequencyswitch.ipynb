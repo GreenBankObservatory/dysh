{
 "cells": [
  {
   "cell_type": "markdown",
   "id": "8c8138ef-e687-444e-95b1-9797654f3f62",
   "metadata": {},
   "source": [
    "# Frequency-switched Data Reduction\n",
    "-----------------------------------\n",
    "\n",
    "This notebook shows how to use `dysh` to calibrate a frequency switched observations. The idea is similar to an OnOff observation, except the telescope does not move to an Off in position, but move their IF in frequency space. Here we call the On/Off the Sig and Ref. Since the telescope observes in a Track mode, combining the sig and a shifted (folded) ref, a $\\sqrt{2}$ improvement in S/N can be achieved.\n",
    "\n",
    "It retrieves and calibrates frequency-switched scans using `GBTFITSLoad.getfs()`, which returns a `ScanBlock` object.  "
   ]
  },
  {
   "cell_type": "code",
   "execution_count": 1,
   "id": "b4967550-2ca1-4931-b53b-6f9868718490",
   "metadata": {
    "editable": true,
    "slideshow": {
     "slide_type": ""
    },
    "tags": [
     "import"
    ]
   },
   "outputs": [],
   "source": [
    "import os\n",
    "import wget\n",
    "import astropy.units as u\n",
    "from dysh.fits.gbtfitsload import GBTFITSLoad\n",
    "import dysh.util as util\n",
    "import numpy as np"
   ]
  },
  {
   "cell_type": "code",
   "execution_count": 2,
   "id": "434a42cd-2941-4873-8a54-662ba88e6d83",
   "metadata": {},
   "outputs": [],
   "source": [
    "# helper function to show the mean and dispersion for data and 1-rolled data\n",
    "def rolled_stats(data):\n",
    "    delta = data[1:] - data[:-1]\n",
    "    print(data.mean(), data.std(), delta.mean(), delta.std())\n",
    "\n",
    "# rolled_stats(np.random.normal(0,1,10000))"
   ]
  },
  {
   "cell_type": "markdown",
   "id": "87669763-8d96-4521-9e81-f69d7213e133",
   "metadata": {},
   "source": [
    "## First, we download the example SDFITS data, if necessary.\n"
   ]
  },
  {
   "cell_type": "code",
   "execution_count": 3,
   "id": "20611559-a142-4a8e-ae64-6690c93834b8",
   "metadata": {},
   "outputs": [
    {
     "name": "stdout",
     "output_type": "stream",
     "text": [
      "AGBT20B_014_03.raw.vegas.A.fits already downloaded\n"
     ]
    }
   ],
   "source": [
    "filename = \"AGBT20B_014_03.raw.vegas.A.fits\"\n",
    "if not os.path.isfile(filename):\n",
    "    url = f\"http://www.gb.nrao.edu/dysh/example_data/fs-L/data/AGBT20B_014_03.raw.vegas/{filename}\"\n",
    "    print(f\"Downloading {filename}\")\n",
    "    wget.download(url,out=filename)\n",
    "    print(f\"\\nRetrieved {filename}\")\n",
    "else:\n",
    "    print(f\"{filename} already downloaded\")"
   ]
  },
  {
   "cell_type": "code",
   "execution_count": 4,
   "id": "93a62e3a-c95d-475b-8602-b5b8b7934733",
   "metadata": {
    "editable": true,
    "slideshow": {
     "slide_type": ""
    },
    "tags": [
     "load"
    ]
   },
   "outputs": [
    {
     "name": "stdout",
     "output_type": "stream",
     "text": [
      "Filename: AGBT20B_014_03.raw.vegas.A.fits\n",
      "No.    Name      Ver    Type      Cards   Dimensions   Format\n",
      "  0  PRIMARY       1 PrimaryHDU      12   ()      \n",
      "  1  SINGLE DISH    1 BinTableHDU    245   352R x 74C   ['32A', '1D', '22A', '1D', '1D', '1D', '16384E', '16A', '6A', '8A', '1D', '1D', '1D', '4A', '1D', '4A', '1D', '1I', '32A', '32A', '1J', '32A', '16A', '1E', '8A', '1D', '1D', '1D', '1D', '1D', '1D', '1D', '1D', '1D', '1D', '1D', '1D', '8A', '1D', '1D', '12A', '1I', '1I', '1D', '1D', '1I', '1A', '1I', '1I', '16A', '16A', '1J', '1J', '22A', '1D', '1D', '1I', '1A', '1D', '1E', '1D', '1D', '1D', '1D', '1D', '1A', '1A', '8A', '1E', '1E', '16A', '1I', '1I', '1I']   \n"
     ]
    },
    {
     "data": {
      "text/html": [
       "<div>\n",
       "<style scoped>\n",
       "    .dataframe tbody tr th:only-of-type {\n",
       "        vertical-align: middle;\n",
       "    }\n",
       "\n",
       "    .dataframe tbody tr th {\n",
       "        vertical-align: top;\n",
       "    }\n",
       "\n",
       "    .dataframe thead th {\n",
       "        text-align: right;\n",
       "    }\n",
       "</style>\n",
       "<table border=\"1\" class=\"dataframe\">\n",
       "  <thead>\n",
       "    <tr style=\"text-align: right;\">\n",
       "      <th></th>\n",
       "      <th>SCAN</th>\n",
       "      <th>OBJECT</th>\n",
       "      <th>VELOCITY</th>\n",
       "      <th>PROC</th>\n",
       "      <th>PROCSEQN</th>\n",
       "      <th>RESTFREQ</th>\n",
       "      <th>DOPFREQ</th>\n",
       "      <th># IF</th>\n",
       "      <th># POL</th>\n",
       "      <th># INT</th>\n",
       "      <th># FEED</th>\n",
       "      <th>AZIMUTH</th>\n",
       "      <th>ELEVATIO</th>\n",
       "    </tr>\n",
       "  </thead>\n",
       "  <tbody>\n",
       "    <tr>\n",
       "      <th>0</th>\n",
       "      <td>6</td>\n",
       "      <td>M33S</td>\n",
       "      <td>0.0</td>\n",
       "      <td>Track</td>\n",
       "      <td>1</td>\n",
       "      <td>1.606184</td>\n",
       "      <td>1.420405</td>\n",
       "      <td>4</td>\n",
       "      <td>2</td>\n",
       "      <td>11</td>\n",
       "      <td>1</td>\n",
       "      <td>72.712573</td>\n",
       "      <td>28.957453</td>\n",
       "    </tr>\n",
       "  </tbody>\n",
       "</table>\n",
       "</div>"
      ],
      "text/plain": [
       "   SCAN OBJECT VELOCITY   PROC  PROCSEQN  RESTFREQ   DOPFREQ # IF # POL # INT  \\\n",
       "0     6   M33S      0.0  Track         1  1.606184  1.420405    4     2    11   \n",
       "\n",
       "  # FEED    AZIMUTH   ELEVATIO  \n",
       "0      1  72.712573  28.957453  "
      ]
     },
     "execution_count": 4,
     "metadata": {},
     "output_type": "execute_result"
    }
   ],
   "source": [
    "sdfits = GBTFITSLoad(filename)\n",
    "sdfits.info()\n",
    "sdfits.summary()"
   ]
  },
  {
   "cell_type": "markdown",
   "id": "0fef320a-3c1f-4a25-97fc-b8a870ae7205",
   "metadata": {},
   "source": [
    "### Now retrieve and calibrate the frequency-switched scan\n",
    "The default is to fold the sig and ref to create the final spectrum.  Use `fold=False` to not fold them and `use_sig=False` to reverse the role of sig and ref."
   ]
  },
  {
   "cell_type": "code",
   "execution_count": 5,
   "id": "defa4a6f-9da8-4488-846a-7dceccfa9446",
   "metadata": {
    "editable": true,
    "slideshow": {
     "slide_type": ""
    },
    "tags": [
     "getps",
     "test"
    ]
   },
   "outputs": [
    {
     "name": "stderr",
     "output_type": "stream",
     "text": [
      "/home/teuben/GBT/dysh/src/dysh/spectra/core.py:349: RuntimeWarning: Mean of empty slice\n",
      "  meandiff = np.nanmean(calon[chrng] - caloff[chrng])\n"
     ]
    }
   ],
   "source": [
    "fsscan = sdfits.getfs(scan=6, ifnum=0, plnum=1)"
   ]
  },
  {
   "cell_type": "code",
   "execution_count": 6,
   "id": "e0a33c19-576b-46e8-9a57-f34b8f85f6aa",
   "metadata": {
    "editable": true,
    "slideshow": {
     "slide_type": ""
    },
    "tags": [
     "timeaverage",
     "test"
    ]
   },
   "outputs": [],
   "source": [
    "ta = fsscan.timeaverage(weights='tsys')"
   ]
  },
  {
   "cell_type": "code",
   "execution_count": 7,
   "id": "40747f0b-d63d-45fa-8910-fef56fe5c751",
   "metadata": {
    "editable": true,
    "slideshow": {
     "slide_type": ""
    },
    "tags": [
     "plot1",
     "test"
    ]
   },
   "outputs": [
    {
     "data": {
      "image/png": "[encoded data removed]",
      "text/plain": [
       "<Figure size 640x480 with 1 Axes>"
      ]
     },
     "metadata": {},
     "output_type": "display_data"
    }
   ],
   "source": [
    "ta.plot()"
   ]
  },
  {
   "cell_type": "code",
   "execution_count": 8,
   "id": "6c07cf19-3a5d-47a9-9a10-ccd9f305efb9",
   "metadata": {
    "editable": true,
    "slideshow": {
     "slide_type": ""
    },
    "tags": [
     "plot2",
     "test"
    ]
   },
   "outputs": [
    {
     "data": {
      "image/png": "[encoded data removed]",
      "text/plain": [
       "<Figure size 640x480 with 1 Axes>"
      ]
     },
     "metadata": {},
     "output_type": "display_data"
    }
   ],
   "source": [
    "ta.plot(xaxis_unit=\"km/s\",yaxis_unit=\"K\",ymin=-10,ymax=20,xmin=-2000,xmax=2500)"
   ]
  },
  {
   "cell_type": "markdown",
   "id": "dbde7ba7-0a34-49ac-bde7-ecabbb2264c3",
   "metadata": {},
   "source": [
    "### Plot x axis in channel units and remove a baseline with a compound inclusion region.\n",
    "\n",
    "For baseline subtraction either include= or exclude can be used, but not both.\n",
    "Right now, such compound regions only work in channel space. \n",
    "\n",
    "Also note the default is a polynomial model, for which we need to normalize the frequency axis in channel space."
   ]
  },
  {
   "cell_type": "code",
   "execution_count": 9,
   "id": "603ae347-568a-41ba-a02f-7b6824c1af79",
   "metadata": {},
   "outputs": [
    {
     "data": {
      "image/png": "[encoded data removed]",
      "text/plain": [
       "<Figure size 640x480 with 1 Axes>"
      ]
     },
     "metadata": {},
     "output_type": "display_data"
    },
    {
     "name": "stdout",
     "output_type": "stream",
     "text": [
      "-0.142315958298121 K 0.03631059232266146 K -0.00010205442179552853 K 0.04198114224875007 K\n",
      "Warning:  baseline fit done in channel space\n",
      "EXCLUDING [Spectral Region, 1 sub-regions:\n",
      "  (0.0 Hz, 4200.0 Hz) , Spectral Region, 1 sub-regions:\n",
      "  (5300.0 Hz, 6600.0 Hz) , Spectral Region, 1 sub-regions:\n",
      "  (7600.0 Hz, 16383.0 Hz) ]\n"
     ]
    },
    {
     "ename": "AttributeError",
     "evalue": "'str' object has no attribute 'param_names'",
     "output_type": "error",
     "traceback": [
      "\u001b[0;31m---------------------------------------------------------------------------\u001b[0m",
      "\u001b[0;31mAttributeError\u001b[0m                            Traceback (most recent call last)",
      "Cell \u001b[0;32mIn[9], line 3\u001b[0m\n\u001b[1;32m      1\u001b[0m ta\u001b[38;5;241m.\u001b[39mplot(xaxis_unit\u001b[38;5;241m=\u001b[39m\u001b[38;5;124m\"\u001b[39m\u001b[38;5;124mchan\u001b[39m\u001b[38;5;124m\"\u001b[39m,yaxis_unit\u001b[38;5;241m=\u001b[39m\u001b[38;5;124m\"\u001b[39m\u001b[38;5;124mK\u001b[39m\u001b[38;5;124m\"\u001b[39m,ymin\u001b[38;5;241m=\u001b[39m\u001b[38;5;241m-\u001b[39m\u001b[38;5;241m1\u001b[39m,ymax\u001b[38;5;241m=\u001b[39m\u001b[38;5;241m1\u001b[39m)\n\u001b[1;32m      2\u001b[0m rolled_stats(ta\u001b[38;5;241m.\u001b[39mflux[\u001b[38;5;241m4200\u001b[39m:\u001b[38;5;241m5300\u001b[39m])\n\u001b[0;32m----> 3\u001b[0m \u001b[43mta\u001b[49m\u001b[38;5;241;43m.\u001b[39;49m\u001b[43mbaseline\u001b[49m\u001b[43m(\u001b[49m\u001b[43mdegree\u001b[49m\u001b[38;5;241;43m=\u001b[39;49m\u001b[38;5;241;43m2\u001b[39;49m\u001b[43m,\u001b[49m\u001b[43minclude\u001b[49m\u001b[38;5;241;43m=\u001b[39;49m\u001b[43m[\u001b[49m\u001b[43m(\u001b[49m\u001b[38;5;241;43m4200\u001b[39;49m\u001b[43m,\u001b[49m\u001b[38;5;241;43m5300\u001b[39;49m\u001b[43m)\u001b[49m\u001b[43m,\u001b[49m\u001b[43m(\u001b[49m\u001b[38;5;241;43m6600\u001b[39;49m\u001b[43m,\u001b[49m\u001b[38;5;241;43m7600\u001b[39;49m\u001b[43m)\u001b[49m\u001b[43m]\u001b[49m\u001b[43m,\u001b[49m\u001b[43m \u001b[49m\u001b[43mremove\u001b[49m\u001b[38;5;241;43m=\u001b[39;49m\u001b[38;5;28;43;01mTrue\u001b[39;49;00m\u001b[43m,\u001b[49m\u001b[43m \u001b[49m\u001b[43mnormalize\u001b[49m\u001b[38;5;241;43m=\u001b[39;49m\u001b[38;5;28;43;01mTrue\u001b[39;49;00m\u001b[43m)\u001b[49m\n\u001b[1;32m      4\u001b[0m rolled_stats(ta\u001b[38;5;241m.\u001b[39mflux[\u001b[38;5;241m4200\u001b[39m:\u001b[38;5;241m5300\u001b[39m])\n",
      "File \u001b[0;32m~/GBT/dysh/src/dysh/spectra/spectrum.py:202\u001b[0m, in \u001b[0;36mSpectrum.baseline\u001b[0;34m(self, degree, exclude, include, **kwargs)\u001b[0m\n\u001b[1;32m    199\u001b[0m         nchan \u001b[38;5;241m=\u001b[39m \u001b[38;5;28mlen\u001b[39m(spectral_axis)\n\u001b[1;32m    200\u001b[0m         exclude \u001b[38;5;241m=\u001b[39m \u001b[38;5;28mself\u001b[39m\u001b[38;5;241m.\u001b[39m_toggle_sections(nchan, include)\n\u001b[0;32m--> 202\u001b[0m \u001b[38;5;28mself\u001b[39m\u001b[38;5;241m.\u001b[39m_baseline_model \u001b[38;5;241m=\u001b[39m \u001b[43mbaseline\u001b[49m\u001b[43m(\u001b[49m\u001b[38;5;28;43mself\u001b[39;49m\u001b[43m,\u001b[49m\u001b[43m \u001b[49m\u001b[43mdegree\u001b[49m\u001b[43m,\u001b[49m\u001b[43m \u001b[49m\u001b[43mexclude\u001b[49m\u001b[43m,\u001b[49m\u001b[43m \u001b[49m\u001b[38;5;241;43m*\u001b[39;49m\u001b[38;5;241;43m*\u001b[39;49m\u001b[43mkwargs\u001b[49m\u001b[43m)\u001b[49m\n\u001b[1;32m    204\u001b[0m \u001b[38;5;28;01mif\u001b[39;00m kwargs_opts[\u001b[38;5;124m\"\u001b[39m\u001b[38;5;124mremove\u001b[39m\u001b[38;5;124m\"\u001b[39m]:\n\u001b[1;32m    205\u001b[0m     s \u001b[38;5;241m=\u001b[39m \u001b[38;5;28mself\u001b[39m\u001b[38;5;241m.\u001b[39msubtract(\u001b[38;5;28mself\u001b[39m\u001b[38;5;241m.\u001b[39m_baseline_model(\u001b[38;5;28mself\u001b[39m\u001b[38;5;241m.\u001b[39mspectral_axis))\n",
      "File \u001b[0;32m~/GBT/dysh/src/dysh/spectra/core.py:297\u001b[0m, in \u001b[0;36mbaseline\u001b[0;34m(spectrum, order, exclude, **kwargs)\u001b[0m\n\u001b[1;32m    295\u001b[0m     regionlist \u001b[38;5;241m=\u001b[39m p\u001b[38;5;241m.\u001b[39m_exclude_regions\n\u001b[1;32m    296\u001b[0m \u001b[38;5;28mprint\u001b[39m(\u001b[38;5;124mf\u001b[39m\u001b[38;5;124m\"\u001b[39m\u001b[38;5;124mEXCLUDING \u001b[39m\u001b[38;5;132;01m{\u001b[39;00mregionlist\u001b[38;5;132;01m}\u001b[39;00m\u001b[38;5;124m\"\u001b[39m)\n\u001b[0;32m--> 297\u001b[0m \u001b[38;5;28;01mreturn\u001b[39;00m \u001b[43mfit_continuum\u001b[49m\u001b[43m(\u001b[49m\u001b[43mspectrum\u001b[49m\u001b[38;5;241;43m=\u001b[39;49m\u001b[43mp\u001b[49m\u001b[43m,\u001b[49m\u001b[43m \u001b[49m\u001b[43mmodel\u001b[49m\u001b[38;5;241;43m=\u001b[39;49m\u001b[43mmodel\u001b[49m\u001b[43m,\u001b[49m\u001b[43m \u001b[49m\u001b[43mfitter\u001b[49m\u001b[38;5;241;43m=\u001b[39;49m\u001b[43mfitter\u001b[49m\u001b[43m,\u001b[49m\u001b[43m \u001b[49m\u001b[43mexclude_regions\u001b[49m\u001b[38;5;241;43m=\u001b[39;49m\u001b[43mregionlist\u001b[49m\u001b[43m)\u001b[49m\n",
      "File \u001b[0;32m~/GBT/specutils/specutils/fitting/continuum.py:95\u001b[0m, in \u001b[0;36mfit_continuum\u001b[0;34m(spectrum, model, fitter, exclude_regions, window, weights)\u001b[0m\n\u001b[1;32m     92\u001b[0m     w \u001b[38;5;241m=\u001b[39m SpectralRegion(w)\n\u001b[1;32m     94\u001b[0m \u001b[38;5;66;03m# Fit the flux to the model\u001b[39;00m\n\u001b[0;32m---> 95\u001b[0m continuum_spectrum \u001b[38;5;241m=\u001b[39m \u001b[43mfit_lines\u001b[49m\u001b[43m(\u001b[49m\u001b[43mspectrum\u001b[49m\u001b[43m,\u001b[49m\u001b[43m \u001b[49m\u001b[43mmodel\u001b[49m\u001b[43m,\u001b[49m\u001b[43m \u001b[49m\u001b[43mfitter\u001b[49m\u001b[43m,\u001b[49m\u001b[43m \u001b[49m\u001b[43mexclude_regions\u001b[49m\u001b[43m,\u001b[49m\n\u001b[1;32m     96\u001b[0m \u001b[43m                               \u001b[49m\u001b[43mweights\u001b[49m\u001b[43m,\u001b[49m\u001b[43m \u001b[49m\u001b[43mw\u001b[49m\u001b[43m)\u001b[49m\n\u001b[1;32m     98\u001b[0m \u001b[38;5;28;01mreturn\u001b[39;00m continuum_spectrum\n",
      "File \u001b[0;32m~/GBT/specutils/specutils/fitting/fitmodels.py:353\u001b[0m, in \u001b[0;36mfit_lines\u001b[0;34m(spectrum, model, fitter, exclude_regions, weights, window, get_fit_info, **kwargs)\u001b[0m\n\u001b[1;32m    346\u001b[0m     model_window \u001b[38;5;241m=\u001b[39m \u001b[38;5;28;01mNone\u001b[39;00m\n\u001b[1;32m    348\u001b[0m \u001b[38;5;66;03m#\u001b[39;00m\n\u001b[1;32m    349\u001b[0m \u001b[38;5;66;03m# Check to see if the model has units. If it does not\u001b[39;00m\n\u001b[1;32m    350\u001b[0m \u001b[38;5;66;03m# have units then we are going to ignore them.\u001b[39;00m\n\u001b[1;32m    351\u001b[0m \u001b[38;5;66;03m#\u001b[39;00m\n\u001b[0;32m--> 353\u001b[0m ignore_units \u001b[38;5;241m=\u001b[39m \u001b[38;5;28mgetattr\u001b[39m(model_guess, \u001b[43mmodel_guess\u001b[49m\u001b[38;5;241;43m.\u001b[39;49m\u001b[43mparam_names\u001b[49m[\u001b[38;5;241m0\u001b[39m])\u001b[38;5;241m.\u001b[39munit \u001b[38;5;129;01mis\u001b[39;00m \u001b[38;5;28;01mNone\u001b[39;00m\n\u001b[1;32m    355\u001b[0m fit_model \u001b[38;5;241m=\u001b[39m _fit_lines(\n\u001b[1;32m    356\u001b[0m     spectrum,\n\u001b[1;32m    357\u001b[0m     model_guess,\n\u001b[0;32m   (...)\u001b[0m\n\u001b[1;32m    364\u001b[0m     \u001b[38;5;241m*\u001b[39m\u001b[38;5;241m*\u001b[39mkwargs\n\u001b[1;32m    365\u001b[0m )\n\u001b[1;32m    367\u001b[0m \u001b[38;5;28;01mif\u001b[39;00m model_guess\u001b[38;5;241m.\u001b[39mname \u001b[38;5;129;01mis\u001b[39;00m \u001b[38;5;129;01mnot\u001b[39;00m \u001b[38;5;28;01mNone\u001b[39;00m:\n",
      "\u001b[0;31mAttributeError\u001b[0m: 'str' object has no attribute 'param_names'"
     ]
    }
   ],
   "source": [
    "\n",
    "ta.plot(xaxis_unit=\"chan\",yaxis_unit=\"K\",ymin=-1,ymax=1)\n",
    "rolled_stats(ta.flux[4200:5300])\n",
    "ta.baseline(degree=2,include=[(4200,5300),(6600,7600)], remove=True, normalize=True)\n",
    "rolled_stats(ta.flux[4200:5300])\n"
   ]
  },
  {
   "cell_type": "code",
   "execution_count": null,
   "id": "527d868b-0ef7-40d3-9e80-dd5aea8f4405",
   "metadata": {
    "editable": true,
    "slideshow": {
     "slide_type": ""
    },
    "tags": [
     "test"
    ]
   },
   "outputs": [],
   "source": [
    "ta.plot(ymin=-1,ymax=1,xaxis_unit='channel')"
   ]
  },
  {
   "cell_type": "code",
   "execution_count": null,
   "id": "219e21a8-91cb-405e-82fc-249143c219ae",
   "metadata": {
    "editable": true,
    "slideshow": {
     "slide_type": ""
    },
    "tags": [
     "test"
    ]
   },
   "outputs": [],
   "source": [
    "print(ta.baseline_model)"
   ]
  },
  {
   "cell_type": "markdown",
   "id": "dc0a5251-e9c0-4651-8aed-e546360fe126",
   "metadata": {},
   "source": [
    "because we fitted in channel space, the units shown here are /Hz, but should be printed as /chan.\n",
    "\n",
    "An alternative is to choose other models (e.g. chebychev) which normalize internally to unity."
   ]
  },
  {
   "cell_type": "code",
   "execution_count": null,
   "id": "3a7e4887-ba55-447a-9274-8275e9896d39",
   "metadata": {},
   "outputs": [],
   "source": [
    "ta.savefig(\"baselined_removed.png\")"
   ]
  },
  {
   "cell_type": "markdown",
   "id": "2b61a9c0-8d72-4a9f-bfbe-6ba99e1c2544",
   "metadata": {},
   "source": [
    "---"
   ]
  },
  {
   "cell_type": "markdown",
   "id": "835afcaa-bdb5-4d37-a65b-0d25d510b1a1",
   "metadata": {},
   "source": [
    "### Now do the calibration using selection"
   ]
  },
  {
   "cell_type": "code",
   "execution_count": null,
   "id": "dc3445e6-3b0a-47c5-8478-50453258a468",
   "metadata": {},
   "outputs": [],
   "source": [
    "sdfits.select(scan=6,ifnum=0)"
   ]
  },
  {
   "cell_type": "code",
   "execution_count": null,
   "id": "81f4fecb-e541-448a-b2c4-dcc564160597",
   "metadata": {},
   "outputs": [],
   "source": [
    "fsscan2=sdfits.getfs(plnum=1)"
   ]
  },
  {
   "cell_type": "code",
   "execution_count": null,
   "id": "7ca6e18f-ff84-4303-adad-59cc4614c0a1",
   "metadata": {},
   "outputs": [],
   "source": [
    "fsscan2.timeaverage().plot()"
   ]
  },
  {
   "cell_type": "markdown",
   "id": "54ecff3e-bffd-4236-808f-94dc5b754d71",
   "metadata": {},
   "source": [
    "### Get the other polarization and plot"
   ]
  },
  {
   "cell_type": "code",
   "execution_count": null,
   "id": "fe9ed579-924d-4090-b3b6-c2a93dc1f996",
   "metadata": {},
   "outputs": [],
   "source": [
    "fsscan3=sdfits.getfs(plnum=0)"
   ]
  },
  {
   "cell_type": "code",
   "execution_count": null,
   "id": "7be3d731-7da4-41da-ad9d-2f32281765b6",
   "metadata": {},
   "outputs": [],
   "source": [
    "fsscan3.timeaverage().plot()"
   ]
  },
  {
   "cell_type": "markdown",
   "id": "2b2c3744-f312-41ca-9a90-8c0fda4266e9",
   "metadata": {},
   "source": [
    "### Average the polarizations"
   ]
  },
  {
   "cell_type": "code",
   "execution_count": null,
   "id": "cb4c0c01-2f9d-4be2-954c-e75272dfd51f",
   "metadata": {},
   "outputs": [],
   "source": [
    "avg = fsscan2.timeaverage()+fsscan3.timeaverage()\n",
    "avg *= 0.5\n",
    "avg.plot(ymin=-1,ymax=1)\n",
    "rolled_stats(avg.flux[3000:5000])"
   ]
  },
  {
   "cell_type": "markdown",
   "id": "5d159333-1dad-430f-9b3d-89ddb81bb325",
   "metadata": {},
   "source": [
    "Now we can do the baseline correction again"
   ]
  },
  {
   "cell_type": "code",
   "execution_count": null,
   "id": "037b7ccc-5d10-41a1-9b29-ca8561d1da1f",
   "metadata": {},
   "outputs": [],
   "source": [
    "\n",
    "avg.baseline(degree=2,include=[(4200,5300),(6600,7600)], remove=True, normalize=True)\n",
    "avg.plot(ymin=-1,ymax=1)\n"
   ]
  },
  {
   "cell_type": "markdown",
   "id": "a98e190b-ef41-4633-87c0-7c0802193d9a",
   "metadata": {},
   "source": [
    "## Behind the scenes:   raw spectra\n",
    "\n",
    "Take it from us, the spectra are organized in batches of 4, and the first two are the \"sig\" calon/caloff, followed by the \"ref\" calon/caloff. Let's get the first 4 spectra and find out how frequency shifting works.\n"
   ]
  },
  {
   "cell_type": "code",
   "execution_count": null,
   "id": "17514bbd-35f6-4bfd-b8a4-bdf16db2bdf9",
   "metadata": {},
   "outputs": [],
   "source": [
    "r0 = sdfits.getspec(0)\n",
    "r1 = sdfits.getspec(1)\n",
    "r2 = sdfits.getspec(2)\n",
    "r3 = sdfits.getspec(3)"
   ]
  },
  {
   "cell_type": "markdown",
   "id": "0045d8ca-5e97-4f9e-9037-03f8ae88fdee",
   "metadata": {},
   "source": [
    "Let's only plot the \"sig\" and \"ref\" as the calon/off are nearly identical.  You will see below that there is a birdie or bad channel in the \"ref\" spectrum, luckily not where the source (M33) is, so it should not pollute the subsequent calibration.\n",
    "\n",
    "In a followup to this notebook, we shall find out how to identify this bad channel and mask it out. For now, lets carry on."
   ]
  },
  {
   "cell_type": "code",
   "execution_count": null,
   "id": "e3604994-4bf9-431d-9e14-12db1c94d331",
   "metadata": {},
   "outputs": [],
   "source": [
    "r0.plot(title='spectrum 0 (sig)', xaxis_unit=\"chan\")\n",
    "r2.plot(title='spectrum 2 (ref)', xaxis_unit=\"chan\")\n"
   ]
  },
  {
   "cell_type": "markdown",
   "id": "88b6af94-d48a-4d48-9258-66e7727cd7e4",
   "metadata": {},
   "source": [
    "The calibration of a  calon/caloff for each of the sig and cal follows the same procedure as a **gettp()** call. More on this later.\n"
   ]
  }
 ],
 "metadata": {
  "kernelspec": {
   "display_name": "Python 3 (ipykernel)",
   "language": "python",
   "name": "python3"
  },
  "language_info": {
   "codemirror_mode": {
    "name": "ipython",
    "version": 3
   },
   "file_extension": ".py",
   "mimetype": "text/x-python",
   "name": "python",
   "nbconvert_exporter": "python",
   "pygments_lexer": "ipython3",
   "version": "3.11.5"
  },
  "toc": {
   "base_numbering": 0
  }
 },
 "nbformat": 4,
 "nbformat_minor": 5
}
