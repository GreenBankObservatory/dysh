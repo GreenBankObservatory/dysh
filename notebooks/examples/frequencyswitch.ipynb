{
 "cells": [
  {
   "cell_type": "markdown",
   "id": "8c8138ef-e687-444e-95b1-9797654f3f62",
   "metadata": {},
   "source": [
    "# Frequency-switched Data Reduction\n",
    "-----------------------------------\n",
    "\n",
    "This notebook shows how to use `dysh` to calibrate a frequency switched observations. The idea is similar to an OnOff observation, except the telescope does not move to an Off in position on the sky, but moves its intermediate frequency in frequency space. Here we call the On and Off the Sig and Ref, but both will have the signal, just shifted in the band. Since the telescope is always tracking the target, combining the Sig and a shifted (folded) Ref, a $\\sqrt{2}$ improvement in signal-to-noise can be achieved.\n",
    "\n",
    "The retrieval and calibration of frequency-switched observations uses `GBTFITSLoad.getfs()`, which returns a `ScanBlock` object.  "
   ]
  },
  {
   "cell_type": "code",
   "execution_count": 1,
   "id": "b4967550-2ca1-4931-b53b-6f9868718490",
   "metadata": {
    "editable": true,
    "slideshow": {
     "slide_type": ""
    },
    "tags": [
     "import"
    ]
   },
   "outputs": [],
   "source": [
    "from pathlib import Path\n",
    "from dysh.util.download import from_url\n",
    "from dysh.fits.gbtfitsload import GBTFITSLoad"
   ]
  },
  {
   "cell_type": "markdown",
   "id": "87669763-8d96-4521-9e81-f69d7213e133",
   "metadata": {},
   "source": [
    "## Data Retrieval\n",
    "\n",
    "Download the example SDFITS data, if necessary."
   ]
  },
  {
   "cell_type": "code",
   "execution_count": 2,
   "id": "20611559-a142-4a8e-ae64-6690c93834b8",
   "metadata": {},
   "outputs": [
    {
     "name": "stdout",
     "output_type": "stream",
     "text": [
      "Starting download...\n",
      "TREG_050627.raw.acs.fits already downloaded at /home/sandboxes/psalas/Dysh/dysh/notebooks/examples/data\n"
     ]
    }
   ],
   "source": [
    "url = \"http://www.gb.nrao.edu/dysh/example_data/frequencyswitch/data/TREG_050627/TREG_050627.raw.acs/TREG_050627.raw.acs.fits\"\n",
    "savepath = Path.cwd() / \"data\"\n",
    "filename = from_url(url, savepath)"
   ]
  },
  {
   "cell_type": "markdown",
   "id": "8017d5a9-7e4d-47db-bd95-082fa56e40f4",
   "metadata": {},
   "source": [
    "## Data Loading\n",
    "\n",
    "Next, we use `GBTFITSLoad` to load the data, and then its `summary` method to inspect its contents."
   ]
  },
  {
   "cell_type": "code",
   "execution_count": 3,
   "id": "93a62e3a-c95d-475b-8602-b5b8b7934733",
   "metadata": {
    "editable": true,
    "slideshow": {
     "slide_type": ""
    },
    "tags": [
     "load"
    ]
   },
   "outputs": [
    {
     "data": {
      "text/html": [
       "<div>\n",
       "<style scoped>\n",
       "    .dataframe tbody tr th:only-of-type {\n",
       "        vertical-align: middle;\n",
       "    }\n",
       "\n",
       "    .dataframe tbody tr th {\n",
       "        vertical-align: top;\n",
       "    }\n",
       "\n",
       "    .dataframe thead th {\n",
       "        text-align: right;\n",
       "    }\n",
       "</style>\n",
       "<table border=\"1\" class=\"dataframe\">\n",
       "  <thead>\n",
       "    <tr style=\"text-align: right;\">\n",
       "      <th></th>\n",
       "      <th>SCAN</th>\n",
       "      <th>OBJECT</th>\n",
       "      <th>VELOCITY</th>\n",
       "      <th>PROC</th>\n",
       "      <th>PROCSEQN</th>\n",
       "      <th>RESTFREQ</th>\n",
       "      <th>DOPFREQ</th>\n",
       "      <th># IF</th>\n",
       "      <th># POL</th>\n",
       "      <th># INT</th>\n",
       "      <th># FEED</th>\n",
       "      <th>AZIMUTH</th>\n",
       "      <th>ELEVATIO</th>\n",
       "    </tr>\n",
       "  </thead>\n",
       "  <tbody>\n",
       "    <tr>\n",
       "      <th>0</th>\n",
       "      <td>90</td>\n",
       "      <td>W3OH</td>\n",
       "      <td>0.0</td>\n",
       "      <td>Track</td>\n",
       "      <td>1</td>\n",
       "      <td>1.667359</td>\n",
       "      <td>1.667359</td>\n",
       "      <td>1</td>\n",
       "      <td>2</td>\n",
       "      <td>6</td>\n",
       "      <td>1</td>\n",
       "      <td>22.22828</td>\n",
       "      <td>18.114536</td>\n",
       "    </tr>\n",
       "    <tr>\n",
       "      <th>1</th>\n",
       "      <td>91</td>\n",
       "      <td>W3OH</td>\n",
       "      <td>0.0</td>\n",
       "      <td>Track</td>\n",
       "      <td>1</td>\n",
       "      <td>1.667359</td>\n",
       "      <td>1.667359</td>\n",
       "      <td>1</td>\n",
       "      <td>2</td>\n",
       "      <td>6</td>\n",
       "      <td>1</td>\n",
       "      <td>22.352097</td>\n",
       "      <td>18.20982</td>\n",
       "    </tr>\n",
       "    <tr>\n",
       "      <th>2</th>\n",
       "      <td>92</td>\n",
       "      <td>W3OH</td>\n",
       "      <td>0.0</td>\n",
       "      <td>Track</td>\n",
       "      <td>1</td>\n",
       "      <td>1.667359</td>\n",
       "      <td>1.667359</td>\n",
       "      <td>1</td>\n",
       "      <td>2</td>\n",
       "      <td>6</td>\n",
       "      <td>1</td>\n",
       "      <td>22.473876</td>\n",
       "      <td>18.304346</td>\n",
       "    </tr>\n",
       "    <tr>\n",
       "      <th>3</th>\n",
       "      <td>93</td>\n",
       "      <td>W3OH</td>\n",
       "      <td>0.0</td>\n",
       "      <td>Track</td>\n",
       "      <td>1</td>\n",
       "      <td>1.667359</td>\n",
       "      <td>1.667359</td>\n",
       "      <td>1</td>\n",
       "      <td>2</td>\n",
       "      <td>6</td>\n",
       "      <td>1</td>\n",
       "      <td>22.595308</td>\n",
       "      <td>18.399341</td>\n",
       "    </tr>\n",
       "    <tr>\n",
       "      <th>4</th>\n",
       "      <td>94</td>\n",
       "      <td>W3OH</td>\n",
       "      <td>0.0</td>\n",
       "      <td>Track</td>\n",
       "      <td>1</td>\n",
       "      <td>1.667359</td>\n",
       "      <td>1.667359</td>\n",
       "      <td>1</td>\n",
       "      <td>2</td>\n",
       "      <td>6</td>\n",
       "      <td>1</td>\n",
       "      <td>22.716326</td>\n",
       "      <td>18.494854</td>\n",
       "    </tr>\n",
       "  </tbody>\n",
       "</table>\n",
       "</div>"
      ],
      "text/plain": [
       "   SCAN OBJECT VELOCITY   PROC  PROCSEQN  RESTFREQ   DOPFREQ # IF # POL # INT  \\\n",
       "0    90   W3OH      0.0  Track         1  1.667359  1.667359    1     2     6   \n",
       "1    91   W3OH      0.0  Track         1  1.667359  1.667359    1     2     6   \n",
       "2    92   W3OH      0.0  Track         1  1.667359  1.667359    1     2     6   \n",
       "3    93   W3OH      0.0  Track         1  1.667359  1.667359    1     2     6   \n",
       "4    94   W3OH      0.0  Track         1  1.667359  1.667359    1     2     6   \n",
       "\n",
       "  # FEED    AZIMUTH   ELEVATIO  \n",
       "0      1   22.22828  18.114536  \n",
       "1      1  22.352097   18.20982  \n",
       "2      1  22.473876  18.304346  \n",
       "3      1  22.595308  18.399341  \n",
       "4      1  22.716326  18.494854  "
      ]
     },
     "execution_count": 3,
     "metadata": {},
     "output_type": "execute_result"
    }
   ],
   "source": [
    "sdfits = GBTFITSLoad(filename)\n",
    "sdfits.summary()"
   ]
  },
  {
   "cell_type": "markdown",
   "id": "80b45884-dd0c-41da-87af-60f4759fdc27",
   "metadata": {},
   "source": [
    "This data set contains 5 scans, 90 through 94. Each scan observed a single spectral window in two polarizations."
   ]
  },
  {
   "cell_type": "markdown",
   "id": "0fef320a-3c1f-4a25-97fc-b8a870ae7205",
   "metadata": {},
   "source": [
    "## Data Reduction\n",
    "\n",
    "### Single Scan\n",
    "\n",
    "The default is to fold the Sig and Ref to create the final spectrum.  Use `fold=False` to not fold them and `use_sig=False` to reverse the role of Sig and Ref. We will start calibrating `scan=90` (there are 5), `ifnum=0` (there is 1) and `plnum=1` (there are 2)."
   ]
  },
  {
   "cell_type": "code",
   "execution_count": 4,
   "id": "defa4a6f-9da8-4488-846a-7dceccfa9446",
   "metadata": {
    "editable": true,
    "slideshow": {
     "slide_type": ""
    },
    "tags": [
     "getps",
     "test"
    ]
   },
   "outputs": [
    {
     "name": "stdout",
     "output_type": "stream",
     "text": [
      " ID    TAG            SCAN         IFNUM PLNUM FDNUM # SELECTED\n",
      "--- --------- -------------------- ----- ----- ----- ----------\n",
      "  0 bf81aebbe [90, 91, 92, 93, 94]     0     1   [0]        120\n"
     ]
    }
   ],
   "source": [
    "fs_scan_block = sdfits.getfs(scan=90, ifnum=0, plnum=1)"
   ]
  },
  {
   "cell_type": "markdown",
   "id": "85b26a7e-7e40-4877-88ae-e186272e429d",
   "metadata": {},
   "source": [
    "The return of `sdfits.getfs` is a `ScanBlock` which contains a single `FSScan`. The `FSScan` contains the calibrated data for all of the integrations. Now we will time average the integrations.\n",
    "\n",
    "#### Time Averaging\n",
    "To time average the contents of a `ScanBlock` use its `timeaverage` method. Be aware that time averging will not check if the source is the same. \n",
    "\n",
    "By default time averaging uses the following weights: \n",
    "$$\n",
    "\\frac{T^{2}_{sys}}{\\Delta\\nu\\Delta t}\n",
    "$$\n",
    "with $T_{sys}$ the system temperature, $\\Delta\\nu$ the channel width and $\\Delta t$ the integration time. In `dysh` these are set using `weights='tsys'` (the default)."
   ]
  },
  {
   "cell_type": "code",
   "execution_count": null,
   "id": "e0a33c19-576b-46e8-9a57-f34b8f85f6aa",
   "metadata": {
    "editable": true,
    "slideshow": {
     "slide_type": ""
    },
    "tags": [
     "timeaverage",
     "test"
    ]
   },
   "outputs": [],
   "source": [
    "ta = fs_scan_block.timeaverage(weights='tsys')"
   ]
  },
  {
   "cell_type": "markdown",
   "id": "23229196-579b-4ca1-a2fa-e71e3a83a2b2",
   "metadata": {},
   "source": [
    "#### Plotting\n",
    "Plot the data and use different units for the spectral axis."
   ]
  },
  {
   "cell_type": "code",
   "execution_count": null,
   "id": "40747f0b-d63d-45fa-8910-fef56fe5c751",
   "metadata": {
    "editable": true,
    "slideshow": {
     "slide_type": ""
    },
    "tags": [
     "plot1",
     "test"
    ]
   },
   "outputs": [],
   "source": [
    "ta.plot()"
   ]
  },
  {
   "cell_type": "markdown",
   "id": "a94d57f3-2364-4779-9a66-452884ad8777",
   "metadata": {},
   "source": [
    "Now change the x-axis units to km s$^{-1}$ and restrict the range being shown."
   ]
  },
  {
   "cell_type": "code",
   "execution_count": null,
   "id": "6c07cf19-3a5d-47a9-9a10-ccd9f305efb9",
   "metadata": {
    "editable": true,
    "slideshow": {
     "slide_type": ""
    },
    "tags": [
     "plot2",
     "test"
    ]
   },
   "outputs": [],
   "source": [
    "ta.plot(xaxis_unit=\"km/s\", yaxis_unit=\"K\", ymin=-5, ymax=5, xmin=-2000, xmax=2500)"
   ]
  },
  {
   "cell_type": "markdown",
   "id": "dbde7ba7-0a34-49ac-bde7-ecabbb2264c3",
   "metadata": {},
   "source": [
    "#### Baseline Subtraction\n",
    "\n",
    "Next we remove a baseline from the data.\n",
    "\n",
    "We zoom in into the baseline to determine which model the use."
   ]
  },
  {
   "cell_type": "code",
   "execution_count": null,
   "id": "51fdd166-57d8-43b2-b292-61b706095a46",
   "metadata": {},
   "outputs": [],
   "source": [
    "ta.plot(xaxis_unit=\"chan\", yaxis_unit=\"K\", ymin=-2, ymax=2, title=\"before baseline subtraction\")"
   ]
  },
  {
   "cell_type": "markdown",
   "id": "f2091fd1-2ce6-4cae-9854-4e5194e8e066",
   "metadata": {},
   "source": [
    "The baseline looks quasi-periodic, so a Chebyshev (`model='chebyshev'`) polynomial model may be a good model to use. Other available alternatives are: **hermite**, **legendre** and classic **polynomial**\n",
    "\n",
    "For baseline subtraction it is possible to specify the range of channels to be included in the fit (using the `include` argument) or excluded (using the `exclude` argument). Only one channel selection can be used at a time.\n",
    "\n",
    "We will also look at the mean, rms, min and max of the data before and after baseline subtraction."
   ]
  },
  {
   "cell_type": "code",
   "execution_count": null,
   "id": "603ae347-568a-41ba-a02f-7b6824c1af79",
   "metadata": {},
   "outputs": [],
   "source": [
    "# Define a string.\n",
    "fmt_str = \"mean: {mean:.4f} median: {median:.4f} rms: {rms:.3f} min: {min:.2f} max: {max:.2f}\"\n",
    "# Print the statistics before baseline subtraction.\n",
    "print(f\"Before baseline subtraction -- {fmt_str}\".format(**ta[4200:5300].stats()))\n",
    "\n",
    "# Subtract the baseline.\n",
    "ta.baseline(model=\"chebyshev\", degree=5, include=[(4200,10000),(22000,32000)], remove=True)\n",
    "\n",
    "# Print the statistics after baseline subtraction.\n",
    "print(f\"After baseline subtraction -- {fmt_str}\".format(**ta[4200:5300].stats()))\n",
    "\n",
    "# Now plot the baseline subtracted spectrum.\n",
    "ta.plot(xaxis_unit=\"chan\", yaxis_unit=\"K\", ymin=-1, ymax=1, title=\"after baseline subtraction\")"
   ]
  },
  {
   "cell_type": "markdown",
   "id": "55462dfb-cdcd-496c-9fa3-ebbe566dd888",
   "metadata": {},
   "source": [
    "Now we will undo this baseline fit, and plot it again to see if we get the same spectrum back. Also adding the statistics on the first section of the baseline to confirm the statistics are all the same as before we started fitting."
   ]
  },
  {
   "cell_type": "code",
   "execution_count": null,
   "id": "35423008-bd1a-450d-8686-adae3df6a880",
   "metadata": {},
   "outputs": [],
   "source": [
    "ta.undo_baseline()\n",
    "ta.plot(xaxis_unit=\"chan\", yaxis_unit=\"K\", ymin=-1, ymax=1, title='undo the baseline subtraction')\n",
    "print(f\"After undoing the baseline subtraction -- {fmt_str}\".format(**ta[4200:5300].stats()))"
   ]
  },
  {
   "cell_type": "code",
   "execution_count": null,
   "id": "3a7e4887-ba55-447a-9274-8275e9896d39",
   "metadata": {},
   "outputs": [],
   "source": [
    "output_dir = Path.cwd() / \"output\"\n",
    "ta.savefig(output_dir / \"baselined_removed.png\")"
   ]
  },
  {
   "cell_type": "markdown",
   "id": "2b61a9c0-8d72-4a9f-bfbe-6ba99e1c2544",
   "metadata": {},
   "source": [
    "---"
   ]
  },
  {
   "cell_type": "markdown",
   "id": "835afcaa-bdb5-4d37-a65b-0d25d510b1a1",
   "metadata": {},
   "source": [
    "#### Using Selection\n",
    "\n",
    "We will repeat the calibration of `scan=90` and `ifnum=0` using selection. To do this we pre-select the data using the `sdfits.select()` method."
   ]
  },
  {
   "cell_type": "code",
   "execution_count": null,
   "id": "dc3445e6-3b0a-47c5-8478-50453258a468",
   "metadata": {},
   "outputs": [],
   "source": [
    "sdfits.select(scan=90, ifnum=0)"
   ]
  },
  {
   "cell_type": "code",
   "execution_count": null,
   "id": "7ca6e18f-ff84-4303-adad-59cc4614c0a1",
   "metadata": {},
   "outputs": [],
   "source": [
    "fs_scan_block2 = sdfits.getfs(plnum=1)\n",
    "ta2 = fs_scan_block2.timeaverage()\n",
    "ta2.plot(title='Time averaged  plnum=1')\n",
    "print(f\"Using selection polarization 1 -- {fmt_str}\".format(**ta2[4200:5300].stats()))"
   ]
  },
  {
   "cell_type": "markdown",
   "id": "54ecff3e-bffd-4236-808f-94dc5b754d71",
   "metadata": {},
   "source": [
    "#### Polarization Average\n",
    "\n",
    "Now we will calibrate the other polarization and average the two polarizations together.\n",
    "\n",
    "First we calibrate the second polarization, then time average it and inspect the time-averaged calibrated spectrum."
   ]
  },
  {
   "cell_type": "code",
   "execution_count": null,
   "id": "7be3d731-7da4-41da-ad9d-2f32281765b6",
   "metadata": {},
   "outputs": [],
   "source": [
    "fs_scan_block3 = sdfits.getfs(plnum=0)\n",
    "ta3 = fs_scan_block3.timeaverage()\n",
    "ta3.plot(title='Time averaged plnum=0')\n",
    "print(f\"Using selection polarization 0 -- {fmt_str}\".format(**ta3[4200:5300].stats()))"
   ]
  },
  {
   "cell_type": "markdown",
   "id": "2b2c3744-f312-41ca-9a90-8c0fda4266e9",
   "metadata": {},
   "source": [
    "### Average the polarizations\n"
   ]
  },
  {
   "cell_type": "code",
   "execution_count": null,
   "id": "cb4c0c01-2f9d-4be2-954c-e75272dfd51f",
   "metadata": {},
   "outputs": [],
   "source": [
    "avg = 0.5*(ta2 + ta3)\n",
    "avg.plot(ymin=-1,ymax=1, title='Averaged spectrum')\n",
    "print(f\"Polarization average -- {fmt_str}\".format(**avg[4200:5300].stats()))"
   ]
  },
  {
   "cell_type": "markdown",
   "id": "f6473e81-a2ba-4125-8b1a-747e96a29da3",
   "metadata": {},
   "source": [
    "The noise is reduced by 1.34. Not exactly a factor of $\\sqrt{2}$, likely because of the baseline."
   ]
  }
 ],
 "metadata": {
  "kernelspec": {
   "display_name": "Python 3 (ipykernel)",
   "language": "python",
   "name": "python3"
  },
  "language_info": {
   "codemirror_mode": {
    "name": "ipython",
    "version": 3
   },
   "file_extension": ".py",
   "mimetype": "text/x-python",
   "name": "python",
   "nbconvert_exporter": "python",
   "pygments_lexer": "ipython3",
   "version": "3.9.0"
  },
  "toc": {
   "base_numbering": 0
  }
 },
 "nbformat": 4,
 "nbformat_minor": 5
}
