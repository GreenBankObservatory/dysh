{
 "cells": [
  {
   "cell_type": "markdown",
   "id": "8c8138ef-e687-444e-95b1-9797654f3f62",
   "metadata": {},
   "source": [
    "# Frequency-switched Data Reduction\n",
    "-----------------------------------\n",
    "\n",
    "This notebook shows how to use `dysh` to calibrate a frequency switched observations. The idea is similar to an OnOff observation, except the telescope does not move to an Off in position, but move their IF in frequency space. Here we call the On/Off the Sig and Ref. Since the telescope observes in a Track mode, combining the sig and a shifted (folded) ref, a $\\sqrt{2}$ improvement in S/N can be achieved.\n",
    "\n",
    "It retrieves and calibrates frequency-switched scans using `GBTFITSLoad.getfs()`, which returns a `ScanBlock` object.  "
   ]
  },
  {
   "cell_type": "code",
   "execution_count": 1,
   "id": "b4967550-2ca1-4931-b53b-6f9868718490",
   "metadata": {
    "editable": true,
    "slideshow": {
     "slide_type": ""
    },
    "tags": [
     "import"
    ]
   },
   "outputs": [],
   "source": [
    "import os\n",
    "import wget\n",
    "import astropy.units as u\n",
    "from dysh.fits.gbtfitsload import GBTFITSLoad\n",
    "import dysh.util as util\n",
    "import numpy as np"
   ]
  },
  {
   "cell_type": "markdown",
   "id": "87669763-8d96-4521-9e81-f69d7213e133",
   "metadata": {},
   "source": [
    "## First, we load the example SDFITS data\n"
   ]
  },
  {
   "cell_type": "code",
   "execution_count": 2,
   "id": "72d2230b-d488-44a5-9de0-ddb122543cb9",
   "metadata": {},
   "outputs": [],
   "source": [
    "filename = util.get_project_testdata()/\"AGBT20B_014_03.raw.vegas/AGBT20B_014_03.raw.vegas.A6.fits\""
   ]
  },
  {
   "cell_type": "code",
   "execution_count": 3,
   "id": "93a62e3a-c95d-475b-8602-b5b8b7934733",
   "metadata": {
    "editable": true,
    "slideshow": {
     "slide_type": ""
    },
    "tags": [
     "load"
    ]
   },
   "outputs": [
    {
     "name": "stdout",
     "output_type": "stream",
     "text": [
      "Filename: /home/mpound/src/dysh/testdata/AGBT20B_014_03.raw.vegas/AGBT20B_014_03.raw.vegas.A6.fits\n",
      "No.    Name      Ver    Type      Cards   Dimensions   Format\n",
      "  0  PRIMARY       1 PrimaryHDU       9   ()      \n",
      "  1  SINGLE DISH    1 BinTableHDU    185   88R x 83C   ['32A', 'D', '22A', 'D', 'D', 'D', '16384E', '16A', '6A', '8A', 'D', 'D', 'D', '4A', 'D', '4A', 'D', 'I', '32A', '32A', 'J', '32A', '16A', 'D', '8A', 'D', 'D', 'D', 'D', 'D', 'D', 'D', 'D', 'D', 'D', 'D', 'D', 'D', '8A', 'D', 'D', '8A', 'I', 'I', 'D', 'D', 'I', 'A', 'I', 'I', '16A', '16A', 'J', 'J', '22A', 'D', 'D', 'I', 'A', 'D', 'D', 'E', 'D', 'D', 'D', 'D', 'A', 'A', '8A', 'E', 'E', '16A', '32A', '32A', '32A', 'D', 'D', 'D', 'I', 'I', 'I', 'J', 'J']   \n"
     ]
    },
    {
     "data": {
      "text/html": [
       "<div>\n",
       "<style scoped>\n",
       "    .dataframe tbody tr th:only-of-type {\n",
       "        vertical-align: middle;\n",
       "    }\n",
       "\n",
       "    .dataframe tbody tr th {\n",
       "        vertical-align: top;\n",
       "    }\n",
       "\n",
       "    .dataframe thead th {\n",
       "        text-align: right;\n",
       "    }\n",
       "</style>\n",
       "<table border=\"1\" class=\"dataframe\">\n",
       "  <thead>\n",
       "    <tr style=\"text-align: right;\">\n",
       "      <th></th>\n",
       "      <th>SCAN</th>\n",
       "      <th>OBJECT</th>\n",
       "      <th>VELOCITY</th>\n",
       "      <th>PROC</th>\n",
       "      <th>PROCSEQN</th>\n",
       "      <th>RESTFREQ</th>\n",
       "      <th>DOPFREQ</th>\n",
       "      <th># IF</th>\n",
       "      <th># POL</th>\n",
       "      <th># INT</th>\n",
       "      <th># FEED</th>\n",
       "      <th>AZIMUTH</th>\n",
       "      <th>ELEVATIO</th>\n",
       "    </tr>\n",
       "  </thead>\n",
       "  <tbody>\n",
       "    <tr>\n",
       "      <th>0</th>\n",
       "      <td>6</td>\n",
       "      <td>M33S</td>\n",
       "      <td>0.0</td>\n",
       "      <td>Track</td>\n",
       "      <td>1</td>\n",
       "      <td>1.595789</td>\n",
       "      <td>1.420405</td>\n",
       "      <td>4</td>\n",
       "      <td>2</td>\n",
       "      <td>3</td>\n",
       "      <td>1</td>\n",
       "      <td>72.213498</td>\n",
       "      <td>28.201934</td>\n",
       "    </tr>\n",
       "  </tbody>\n",
       "</table>\n",
       "</div>"
      ],
      "text/plain": [
       "   SCAN OBJECT VELOCITY   PROC  ...  # INT # FEED    AZIMUTH   ELEVATIO\n",
       "0     6   M33S      0.0  Track  ...      3      1  72.213498  28.201934\n",
       "\n",
       "[1 rows x 13 columns]"
      ]
     },
     "execution_count": 3,
     "metadata": {},
     "output_type": "execute_result"
    }
   ],
   "source": [
    "sdfits = GBTFITSLoad(filename)\n",
    "sdfits.info()\n",
    "sdfits.summary()"
   ]
  },
  {
   "cell_type": "markdown",
   "id": "0fef320a-3c1f-4a25-97fc-b8a870ae7205",
   "metadata": {},
   "source": [
    "### Now retrieve and calibrate the frequency-switched scan\n",
    "The default is to fold the sig and ref to create the final spectrum.  Use `fold=False` to not fold them."
   ]
  },
  {
   "cell_type": "code",
   "execution_count": 4,
   "id": "defa4a6f-9da8-4488-846a-7dceccfa9446",
   "metadata": {
    "editable": true,
    "slideshow": {
     "slide_type": ""
    },
    "tags": [
     "getps",
     "test"
    ]
   },
   "outputs": [
    {
     "name": "stdout",
     "output_type": "stream",
     "text": [
      "Calibrated 3 spectra with fold=True and use_sig=True\n"
     ]
    }
   ],
   "source": [
    "fsscan = sdfits.getfs(scan=6, ifnum=0, plnum=1)"
   ]
  },
  {
   "cell_type": "code",
   "execution_count": 5,
   "id": "e0a33c19-576b-46e8-9a57-f34b8f85f6aa",
   "metadata": {
    "editable": true,
    "slideshow": {
     "slide_type": ""
    },
    "tags": [
     "timeaverage",
     "test"
    ]
   },
   "outputs": [
    {
     "name": "stdout",
     "output_type": "stream",
     "text": [
      "PJT:   timeaverage\n"
     ]
    }
   ],
   "source": [
    "ta = fsscan.timeaverage(weights='tsys')"
   ]
  },
  {
   "cell_type": "code",
   "execution_count": 6,
   "id": "40747f0b-d63d-45fa-8910-fef56fe5c751",
   "metadata": {
    "editable": true,
    "slideshow": {
     "slide_type": ""
    },
    "tags": [
     "plot1",
     "test"
    ]
   },
   "outputs": [
    {
     "data": {
      "image/png": "[encoded data removed]",
      "text/plain": [
       "<Figure size 432x288 with 1 Axes>"
      ]
     },
     "metadata": {},
     "output_type": "display_data"
    }
   ],
   "source": [
    "ta.plot()"
   ]
  },
  {
   "cell_type": "code",
   "execution_count": 7,
   "id": "6c07cf19-3a5d-47a9-9a10-ccd9f305efb9",
   "metadata": {
    "editable": true,
    "slideshow": {
     "slide_type": ""
    },
    "tags": [
     "plot2",
     "test"
    ]
   },
   "outputs": [
    {
     "data": {
      "image/png": "[encoded data removed]",
      "text/plain": [
       "<Figure size 432x288 with 1 Axes>"
      ]
     },
     "metadata": {},
     "output_type": "display_data"
    }
   ],
   "source": [
    "ta.plot(xaxis_unit=\"km/s\",yaxis_unit=\"K\",ymin=-10,ymax=20,xmin=-2000,xmax=2000)"
   ]
  },
  {
   "cell_type": "code",
   "execution_count": 8,
   "id": "603ae347-568a-41ba-a02f-7b6824c1af79",
   "metadata": {},
   "outputs": [],
   "source": [
    "# wait for merge of update notebooks branch\n",
    "#ta.plot(xaxis_unit=\"chan\",yaxis_unit=\"K\",ymin=-10,ymax=20,xmin=-2000,xmax=2000)\n",
    "#ta.baseline(degree=2,exclude[(x,x),(y,y),(z,z)],remove=True)"
   ]
  },
  {
   "cell_type": "code",
   "execution_count": 9,
   "id": "d4c4526b-2e78-4f0f-85ff-0a4e3694a1e5",
   "metadata": {
    "editable": true,
    "slideshow": {
     "slide_type": ""
    },
    "tags": [
     "baseline",
     "test"
    ]
   },
   "outputs": [
    {
     "name": "stdout",
     "output_type": "stream",
     "text": [
      "EXCLUDING [Spectral Region, 1 sub-regions:\n",
      "  (1419929945.1210444 Hz, 1421351333.4469643 Hz) \n",
      "]\n"
     ]
    },
    {
     "name": "stderr",
     "output_type": "stream",
     "text": [
      "\u001b[0;33mWARNING\u001b[0m: The fit may be poorly conditioned\n",
      " [astropy.modeling.fitting]\n"
     ]
    }
   ],
   "source": [
    "kms = u.km/u.s\n",
    "#ta.baseline(degree=2,exclude=[(-2000*kms,-400*kms),(-200*kms,100*kms),(600*kms,3000*kms)],remove=True)\n",
    "ta.baseline(degree=2,exclude=[-200*kms,100*kms],remove=True)"
   ]
  },
  {
   "cell_type": "code",
   "execution_count": 10,
   "id": "527d868b-0ef7-40d3-9e80-dd5aea8f4405",
   "metadata": {
    "editable": true,
    "slideshow": {
     "slide_type": ""
    },
    "tags": [
     "test"
    ]
   },
   "outputs": [
    {
     "data": {
      "image/png": "[encoded data removed]",
      "text/plain": [
       "<Figure size 432x288 with 1 Axes>"
      ]
     },
     "metadata": {},
     "output_type": "display_data"
    }
   ],
   "source": [
    "ta.plot(ymin=-1,ymax=1)"
   ]
  },
  {
   "cell_type": "code",
   "execution_count": 11,
   "id": "219e21a8-91cb-405e-82fc-249143c219ae",
   "metadata": {
    "editable": true,
    "slideshow": {
     "slide_type": ""
    },
    "tags": [
     "test"
    ]
   },
   "outputs": [
    {
     "name": "stdout",
     "output_type": "stream",
     "text": [
      "Model: Polynomial1D\n",
      "Inputs: ('x',)\n",
      "Outputs: ('y',)\n",
      "Model set size: 1\n",
      "Degree: 2\n",
      "Parameters:\n",
      "             c0                     c1                     c2          \n",
      "             K                    K / Hz                K / Hz2        \n",
      "    -------------------- ----------------------- ----------------------\n",
      "    -0.06743288442859696 -2.3638315696467294e-29 -8.285579698791515e-57\n"
     ]
    }
   ],
   "source": [
    "print(ta.baseline_model)"
   ]
  },
  {
   "cell_type": "code",
   "execution_count": 12,
   "id": "3a7e4887-ba55-447a-9274-8275e9896d39",
   "metadata": {},
   "outputs": [],
   "source": [
    "ta.savefig(\"baselined_removed.png\")"
   ]
  },
  {
   "cell_type": "code",
   "execution_count": null,
   "id": "dcdd7734-7b05-43b2-8c4b-da3f7e64dd36",
   "metadata": {},
   "outputs": [],
   "source": []
  }
 ],
 "metadata": {
  "kernelspec": {
   "display_name": "Python 3 (Spyder)",
   "language": "python3",
   "name": "python3"
  },
  "language_info": {
   "codemirror_mode": {
    "name": "ipython",
    "version": 3
   },
   "file_extension": ".py",
   "mimetype": "text/x-python",
   "name": "python",
   "nbconvert_exporter": "python",
   "pygments_lexer": "ipython3",
   "version": "3.9.18"
  },
  "toc": {
   "base_numbering": 0
  }
 },
 "nbformat": 4,
 "nbformat_minor": 5
}
