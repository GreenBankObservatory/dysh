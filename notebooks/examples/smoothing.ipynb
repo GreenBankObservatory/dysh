{
 "cells": [
  {
   "cell_type": "markdown",
   "id": "8c8138ef-e687-444e-95b1-9797654f3f62",
   "metadata": {},
   "source": [
    "# Smoothing\n",
    "-----------\n",
    "\n",
    "This notebook shows how to use `dysh` to smooth and decimate a spectrum.   We will use data from the Position-Switch example."
   ]
  },
  {
   "cell_type": "code",
   "execution_count": null,
   "id": "b4967550-2ca1-4931-b53b-6f9868718490",
   "metadata": {
    "editable": true,
    "slideshow": {
     "slide_type": ""
    },
    "tags": [
     "import"
    ]
   },
   "outputs": [],
   "source": [
    "import os\n",
    "import wget\n",
    "import astropy.units as u\n",
    "from dysh.fits.gbtfitsload import GBTFITSLoad"
   ]
  },
  {
   "cell_type": "code",
   "execution_count": null,
   "id": "e2b21b65-a860-4427-9055-08871aa34d59",
   "metadata": {},
   "outputs": [],
   "source": [
    "# show the mean and std for data and for a 1-rolled data\n",
    "def rolled_stats(data):\n",
    "    delta = data[1:] - data[:-1]\n",
    "    print('stats:',data.mean(), data.std(), delta.mean(), delta.std())\n",
    "\n",
    "# to test, check that rolled_stats has a sqrt(2) higher RMS\n",
    "rolled_stats(np.random.normal(0,1,10000))"
   ]
  },
  {
   "cell_type": "markdown",
   "id": "87669763-8d96-4521-9e81-f69d7213e133",
   "metadata": {},
   "source": [
    "## We use the FITS file already used in the Position-Switch example\n",
    "\n",
    "this should be as simple as:\n",
    "\n",
    "       filename = get_dysh_data(test='getps')\n"
   ]
  },
  {
   "cell_type": "code",
   "execution_count": null,
   "id": "6bc88bc5-986d-4eae-b1c7-6398cc9ddd5a",
   "metadata": {
    "editable": true,
    "slideshow": {
     "slide_type": ""
    },
    "tags": [
     "wget"
    ]
   },
   "outputs": [],
   "source": [
    "filename = \"TGBT21A_501_11.raw.vegas.fits\"\n",
    "if not os.path.isfile(filename):\n",
    "    url = f\"http://www.gb.nrao.edu/dysh/example_data/onoff-L/data/{filename}\"\n",
    "    print(f\"Downloading {filename}\")\n",
    "    wget.download(url,out=filename)\n",
    "    print(f\"\\nRetrieved {filename}\")\n",
    "else:\n",
    "    print(f\"{filename} already downloaded\")"
   ]
  },
  {
   "cell_type": "code",
   "execution_count": null,
   "id": "93a62e3a-c95d-475b-8602-b5b8b7934733",
   "metadata": {
    "editable": true,
    "slideshow": {
     "slide_type": ""
    },
    "tags": [
     "load"
    ]
   },
   "outputs": [],
   "source": [
    "sdfits = GBTFITSLoad(filename)"
   ]
  },
  {
   "cell_type": "markdown",
   "id": "e84c5009-96f4-489d-bc9d-89de390d53c9",
   "metadata": {},
   "source": [
    "## Get a time-averaged spectrum at the highest resolution\n"
   ]
  },
  {
   "cell_type": "code",
   "execution_count": null,
   "id": "e0a33c19-576b-46e8-9a57-f34b8f85f6aa",
   "metadata": {
    "editable": true,
    "slideshow": {
     "slide_type": ""
    },
    "tags": [
     "timeaverage",
     "test"
    ]
   },
   "outputs": [],
   "source": [
    "psscan = sdfits.getps(scan=152, ifnum=0, plnum=0)\n",
    "ta = psscan.timeaverage(weights='tsys')\n",
    "ta.meta['CDELT1'] = 1000.0\n",
    "ta.plot(xaxis_unit=\"chan\",yaxis_unit=\"mK\",ymin=-100,ymax=500, grid=True)\n",
    "rolled_stats(ta.flux[21000:28000])"
   ]
  },
  {
   "cell_type": "markdown",
   "id": "571a36b9-57b0-4448-b7a0-4aea4e09edb3",
   "metadata": {},
   "source": [
    "## Smooth in a few ways"
   ]
  },
  {
   "cell_type": "code",
   "execution_count": null,
   "id": "54db3d01-d3a8-4fad-bc2a-6138e1cb7d58",
   "metadata": {},
   "outputs": [],
   "source": [
    "ts1 = ta.smooth('gaussian',16)\n",
    "ts1.plot(xaxis_unit=\"chan\",yaxis_unit=\"mK\",ymin=-100,ymax=500,grid=True)\n",
    "rolled_stats(ts1.flux[21000//16:28000//16])"
   ]
  },
  {
   "cell_type": "code",
   "execution_count": null,
   "id": "ed472d60-d23a-41c4-aa2d-a3044da52c22",
   "metadata": {},
   "outputs": [],
   "source": [
    "ts2 = ta.smooth('box', 320)\n",
    "ts2.plot(xaxis_unit=\"chan\",yaxis_unit=\"mK\",ymin=-100,ymax=500, grid=True)"
   ]
  },
  {
   "cell_type": "code",
   "execution_count": null,
   "id": "bda44ac4-a4fb-470b-9c30-70f6b3b15711",
   "metadata": {},
   "outputs": [],
   "source": [
    "ta.plot(xaxis_unit=\"km/s\",yaxis_unit=\"mK\",ymin=-100,ymax=500)"
   ]
  },
  {
   "cell_type": "code",
   "execution_count": null,
   "id": "6663e6d6-c841-4e25-abab-10f1b2731625",
   "metadata": {},
   "outputs": [],
   "source": [
    "ts2.plot(xaxis_unit=\"km/s\",yaxis_unit=\"mK\",ymin=-100,ymax=500)\n",
    "print(ts2._meta['CDELT1'])"
   ]
  },
  {
   "cell_type": "markdown",
   "id": "d950a619-e889-411e-82a2-6eb8d7d54604",
   "metadata": {},
   "source": [
    "## Successive smoothing check"
   ]
  },
  {
   "cell_type": "code",
   "execution_count": null,
   "id": "252f27f1-d63f-4b1e-bda2-5493b85aec65",
   "metadata": {},
   "outputs": [],
   "source": [
    "ts5a = ta.smooth('gaussian',3,-1).smooth('gaussian',5,-1)\n",
    "ts5b = ta.smooth('gaussian',5,-1)\n",
    "(ts5a-ts5b).plot()\n",
    "rolled_stats((ts5a-ts5b).flux[21000:28000])"
   ]
  },
  {
   "cell_type": "code",
   "execution_count": null,
   "id": "dee2b946-1b0a-4fc9-bc5a-5bb217ef4ace",
   "metadata": {},
   "outputs": [],
   "source": [
    "ta2 = 0.5 * (ta + ta)"
   ]
  },
  {
   "cell_type": "code",
   "execution_count": null,
   "id": "4465bc7c-3b0b-4a03-85b2-ff7c2a1c6fa9",
   "metadata": {},
   "outputs": [],
   "source": [
    "ts5b = ta.smooth('gausn',5,-1)"
   ]
  }
 ],
 "metadata": {
  "kernelspec": {
   "display_name": "Python 3 (ipykernel)",
   "language": "python",
   "name": "python3"
  },
  "language_info": {
   "codemirror_mode": {
    "name": "ipython",
    "version": 3
   },
   "file_extension": ".py",
   "mimetype": "text/x-python",
   "name": "python",
   "nbconvert_exporter": "python",
   "pygments_lexer": "ipython3",
   "version": "3.11.7"
  },
  "toc": {
   "base_numbering": 0
  }
 },
 "nbformat": 4,
 "nbformat_minor": 5
}
