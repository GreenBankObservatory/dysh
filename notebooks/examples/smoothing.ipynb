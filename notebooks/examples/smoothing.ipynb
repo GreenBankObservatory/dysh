{
 "cells": [
  {
   "cell_type": "markdown",
   "id": "8c8138ef-e687-444e-95b1-9797654f3f62",
   "metadata": {},
   "source": [
    "# Smoothing\n",
    "-----------\n",
    "\n",
    "This notebook shows how to use `dysh` to smooth a spectrum.   We will use data from the Position-Switch example."
   ]
  },
  {
   "cell_type": "code",
   "execution_count": null,
   "id": "b4967550-2ca1-4931-b53b-6f9868718490",
   "metadata": {
    "editable": true,
    "slideshow": {
     "slide_type": ""
    },
    "tags": [
     "import"
    ]
   },
   "outputs": [],
   "source": [
    "import os\n",
    "import wget\n",
    "import astropy.units as u\n",
    "from dysh.fits.gbtfitsload import GBTFITSLoad"
   ]
  },
  {
   "cell_type": "markdown",
   "id": "87669763-8d96-4521-9e81-f69d7213e133",
   "metadata": {},
   "source": [
    "## We use the FITS file already used in the Position-Switch example\n"
   ]
  },
  {
   "cell_type": "code",
   "execution_count": null,
   "id": "6bc88bc5-986d-4eae-b1c7-6398cc9ddd5a",
   "metadata": {
    "editable": true,
    "slideshow": {
     "slide_type": ""
    },
    "tags": [
     "wget"
    ]
   },
   "outputs": [],
   "source": [
    "filename = \"TGBT21A_501_11.raw.vegas.fits\"\n",
    "if not os.path.isfile(filename):\n",
    "    url = f\"http://www.gb.nrao.edu/dysh/example_data/onoff-L/data/{filename}\"\n",
    "    print(f\"Downloading {filename}\")\n",
    "    wget.download(url,out=filename)\n",
    "    print(f\"\\nRetrieved {filename}\")\n",
    "else:\n",
    "    print(f\"{filename} already downloaded\")"
   ]
  },
  {
   "cell_type": "code",
   "execution_count": null,
   "id": "93a62e3a-c95d-475b-8602-b5b8b7934733",
   "metadata": {
    "editable": true,
    "slideshow": {
     "slide_type": ""
    },
    "tags": [
     "load"
    ]
   },
   "outputs": [],
   "source": [
    "sdfits = GBTFITSLoad(filename)"
   ]
  },
  {
   "cell_type": "markdown",
   "id": "e84c5009-96f4-489d-bc9d-89de390d53c9",
   "metadata": {},
   "source": [
    "## Get a time-averaged spectrum at the highest resolution\n"
   ]
  },
  {
   "cell_type": "code",
   "execution_count": null,
   "id": "e0a33c19-576b-46e8-9a57-f34b8f85f6aa",
   "metadata": {
    "editable": true,
    "slideshow": {
     "slide_type": ""
    },
    "tags": [
     "timeaverage",
     "test"
    ]
   },
   "outputs": [],
   "source": [
    "psscan = sdfits.getps(scan=152, ifnum=0, plnum=0)\n",
    "ta = psscan.timeaverage(weights='tsys')\n",
    "ta.plot(xaxis_unit=\"chan\",yaxis_unit=\"mK\",ymin=-100,ymax=500, grid=True)"
   ]
  },
  {
   "cell_type": "markdown",
   "id": "571a36b9-57b0-4448-b7a0-4aea4e09edb3",
   "metadata": {},
   "source": [
    "## Smooth"
   ]
  },
  {
   "cell_type": "code",
   "execution_count": null,
   "id": "54db3d01-d3a8-4fad-bc2a-6138e1cb7d58",
   "metadata": {},
   "outputs": [],
   "source": [
    "ts1 = ta.smooth('gaussian',32)\n",
    "ts1.plot(xaxis_unit=\"chan\",yaxis_unit=\"mK\",ymin=-100,ymax=500,grid=True)"
   ]
  },
  {
   "cell_type": "code",
   "execution_count": null,
   "id": "ed472d60-d23a-41c4-aa2d-a3044da52c22",
   "metadata": {},
   "outputs": [],
   "source": [
    "ts2 = ta.smooth('box', 320)\n",
    "ts2.plot(xaxis_unit=\"chan\",yaxis_unit=\"mK\",ymin=-100,ymax=500, grid=True)"
   ]
  },
  {
   "cell_type": "code",
   "execution_count": null,
   "id": "bda44ac4-a4fb-470b-9c30-70f6b3b15711",
   "metadata": {},
   "outputs": [],
   "source": [
    "ta.plot(xaxis_unit=\"km/s\",yaxis_unit=\"mK\",ymin=-100,ymax=500)"
   ]
  },
  {
   "cell_type": "code",
   "execution_count": null,
   "id": "6663e6d6-c841-4e25-abab-10f1b2731625",
   "metadata": {},
   "outputs": [],
   "source": [
    "ts2.plot(xaxis_unit=\"km/s\",yaxis_unit=\"mK\",ymin=-100,ymax=500)"
   ]
  }
 ],
 "metadata": {
  "kernelspec": {
   "display_name": "Python 3 (ipykernel)",
   "language": "python",
   "name": "python3"
  },
  "language_info": {
   "codemirror_mode": {
    "name": "ipython",
    "version": 3
   },
   "file_extension": ".py",
   "mimetype": "text/x-python",
   "name": "python",
   "nbconvert_exporter": "python",
   "pygments_lexer": "ipython3",
   "version": "3.11.7"
  },
  "toc": {
   "base_numbering": 0
  }
 },
 "nbformat": 4,
 "nbformat_minor": 5
}
