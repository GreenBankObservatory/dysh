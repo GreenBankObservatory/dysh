{
 "cells": [
  {
   "cell_type": "markdown",
   "id": "8c8138ef-e687-444e-95b1-9797654f3f62",
   "metadata": {},
   "source": [
    "# On-The-Fly (OTF) Data Reduction\n",
    "\n",
    "This notebook shows how to use `dysh` to calibrate and grid an *On-The-Fly* (OTF) observation. See Mangum et al. (2007) in https://ui.adsabs.harvard.edu/abs/2007A%26A...474..679M for the background on this method.\n",
    "\n",
    "This more complex observation is not reduced with one simple command in dysh, but is usually two steps: \n",
    "\n",
    "1. The first step is calibration, where the calibrated spectra are written to an SDFITS file. This can be done in dysh, usually in a loop, one spectrum a time.\n",
    "\n",
    "2. The second step takes these spectra and write\n",
    "them to a FITS cube. For this there are several third-party tools available, there is nothing in dysh yet to cover this."
   ]
  },
  {
   "cell_type": "code",
   "execution_count": null,
   "id": "b4967550-2ca1-4931-b53b-6f9868718490",
   "metadata": {
    "editable": true,
    "slideshow": {
     "slide_type": ""
    },
    "tags": [
     "import"
    ]
   },
   "outputs": [],
   "source": [
    "from pathlib import Path\n",
    "import astropy.units as u\n",
    "from dysh.util.download import from_url\n",
    "from dysh.fits.gbtfitsload import GBTFITSLoad\n",
    "from dysh.util.files import dysh_data\n",
    "\n",
    "from dysh.spectra import ScanBlock"
   ]
  },
  {
   "cell_type": "markdown",
   "id": "87669763-8d96-4521-9e81-f69d7213e133",
   "metadata": {},
   "source": [
    "## Data Retrieval\n",
    "\n",
    "Download the example SDFITS data, if necessary. or rely on $DYSH_DATA"
   ]
  },
  {
   "cell_type": "code",
   "execution_count": null,
   "id": "6bc88bc5-986d-4eae-b1c7-6398cc9ddd5a",
   "metadata": {
    "editable": true,
    "slideshow": {
     "slide_type": ""
    },
    "tags": [
     "wget"
    ]
   },
   "outputs": [],
   "source": [
    "filename = dysh_data(example='mapping-L/data/TGBT17A_506_11.raw.vegas')    \n",
    "print(filename)"
   ]
  },
  {
   "cell_type": "markdown",
   "id": "e0bf5028-e5b2-43c3-9a0c-6416dc02e2ec",
   "metadata": {},
   "source": [
    "## Data Loading\n",
    "\n",
    "Next, we use `GBTFITSLoad` to load the data, and then its `summary` method to inspect its contents. This takes a few seconds."
   ]
  },
  {
   "cell_type": "code",
   "execution_count": null,
   "id": "93a62e3a-c95d-475b-8602-b5b8b7934733",
   "metadata": {
    "editable": true,
    "slideshow": {
     "slide_type": ""
    },
    "tags": [
     "load"
    ]
   },
   "outputs": [],
   "source": [
    "sdfits = GBTFITSLoad(filename)"
   ]
  },
  {
   "cell_type": "code",
   "execution_count": null,
   "id": "90d482e1-3953-49da-9be6-49605ae9cf64",
   "metadata": {
    "scrolled": true
   },
   "outputs": [],
   "source": [
    "sdfits.summary()"
   ]
  },
  {
   "cell_type": "markdown",
   "id": "7b2b8ea5-f1a2-496a-928a-885de31aaaa6",
   "metadata": {},
   "source": [
    "In this particular observation the OTF slew over the galaxy NGC6946 in scans 14-26, followed by an Off position. Each **SCAN**, in this case, corresponds to a row, with 61 integrations as the telescope slews slowly over the sky.\n",
    "Instead of the classical OnOff reduction with `getps`, we can use `getsigref` to refer to scan 27 as the common Off.\n"
   ]
  },
  {
   "cell_type": "markdown",
   "id": "8cbdc5c7-dd31-4d88-a035-9f6780365b22",
   "metadata": {},
   "source": [
    "## Data Reduction\n",
    "\n"
   ]
  },
  {
   "cell_type": "code",
   "execution_count": null,
   "id": "2d090f76-3140-44e8-82a1-5508173f0e81",
   "metadata": {},
   "outputs": [],
   "source": [
    "ifnum=0        # needs to be 0, where the 21cm signal is\n",
    "plnum=[0,1]    # pick 0 and 1, they will be averaged. or just pick one\n",
    "fdnum=0        # only one feed in this dataset\n",
    "nint = 61      # nunber of integrations per scan\n",
    "\n",
    "scans = list(range(14,27))\n",
    "ref = 27"
   ]
  },
  {
   "cell_type": "code",
   "execution_count": null,
   "id": "684126da-97d4-4afb-8625-43160340cab1",
   "metadata": {
    "editable": true,
    "slideshow": {
     "slide_type": ""
    },
    "tags": [
     "getps",
     "test"
    ]
   },
   "outputs": [],
   "source": [
    "%%time \n",
    "\n",
    "sb = ScanBlock()\n",
    "\n",
    "for s in scans:\n",
    "    for p in plnum:\n",
    "        print(f\"Working on scan {s} pol {p}\")\n",
    "        sb1 =  sdfits.getsigref(scan=s, ref=ref, fdnum=fdnum, ifnum=ifnum, plnum=p)[0]\n",
    "        #  @todo baseline subtraction\n",
    "        sb.append(sb1)\n",
    "    \n",
    "sb.write(\"otf1.fits\", overwrite=True)    #  300 ms"
   ]
  },
  {
   "cell_type": "markdown",
   "id": "86a6b93b-0647-4a32-ba62-7958502be105",
   "metadata": {
    "editable": true,
    "slideshow": {
     "slide_type": ""
    },
    "tags": [
     "print_tsys",
     "test"
    ]
   },
   "source": [
    "This calibration step takes about 2.5 minutes, since there are  1586 (13\\*61\\*2) spectra written.\n",
    "\n",
    "This is without baseline subtraction. To be rewritten.\n",
    "\n",
    "## Gridding\n",
    "\n",
    "The most commonly used task for this is `gbtgridder`, which is not part of dysh.  \n",
    "\n",
    "Here's a super short blurb how to get it, with\n",
    "the note that it is important to get the correct release branch.   This was the situation spring 2025, and it may change, so be sure to be in touch with the developers for recommendations.\n",
    "\n",
    "```\n",
    "      git clone -b release_3.0  https://github.com/GreenBankObservatory/gbtgridder\n",
    "      pip install -e gbtgridder\n",
    "```\n",
    "\n",
    "After installation, either from the shell, or from the notebook, one can grid\n",
    "\n",
    "```\n",
    "      gbtgridder --size 32 32  --channels 500:3500 -o otf1 --clobber --auto otf1.fits\n",
    "```\n",
    "\n",
    "this process will create `test2_cube.fits` andd `test2_weight.fits`"
   ]
  },
  {
   "cell_type": "markdown",
   "id": "38898654-c1da-4a02-91d2-b4f488f18af7",
   "metadata": {},
   "source": [
    "We should show the FITS header, and we should plot a spectrum.\n",
    "\n"
   ]
  },
  {
   "cell_type": "code",
   "execution_count": null,
   "id": "90b6d3b2-bab3-4cd1-ac56-cb7fcd4b6459",
   "metadata": {},
   "outputs": [],
   "source": [
    "!gbtgridder --size 32 32  --channels 500:3500 -o otf1 --clobber --auto otf1.fits"
   ]
  },
  {
   "cell_type": "code",
   "execution_count": null,
   "id": "1d459bf1-a519-4349-aa30-3abf0a0e041d",
   "metadata": {},
   "outputs": [],
   "source": [
    "ls -l"
   ]
  },
  {
   "cell_type": "markdown",
   "id": "361b044d-6f40-4cc0-9c16-9f88376cfaca",
   "metadata": {},
   "source": [
    "## Viewing the gridded cube\n",
    "\n",
    "The cube should be 32 x 32 x 3001 x 1 \n",
    "\n",
    "Should check if the gridder can handle NAXIS4=2, but dysh may not handle this. Future feature?"
   ]
  },
  {
   "cell_type": "code",
   "execution_count": null,
   "id": "8a12633b-ed26-44ec-bf55-2ad4ee59e546",
   "metadata": {},
   "outputs": [],
   "source": [
    "from astropy.io import fits\n"
   ]
  },
  {
   "cell_type": "code",
   "execution_count": null,
   "id": "7c3d9923-1160-4aae-90ec-d186ac91d2a1",
   "metadata": {},
   "outputs": [],
   "source": [
    "cube = 'otf1_cube.fits'\n",
    "\n",
    "hdu = fits.open(cube)\n",
    "header = hdu[0].header\n",
    "print(header)\n",
    "\n"
   ]
  },
  {
   "cell_type": "code",
   "execution_count": null,
   "id": "aa40b191-3797-4c7f-a35d-82245d08279e",
   "metadata": {},
   "outputs": [],
   "source": [
    "import matplotlib.pyplot as plt\n",
    "\n",
    "data = hdu[0].data\n",
    "slice = data[0,1500]\n",
    "#  no WCS, but north is up this way and east to the left\n",
    "plt.imshow(slice, origin='lower')"
   ]
  },
  {
   "cell_type": "code",
   "execution_count": null,
   "id": "4df017cd-affc-4ff6-997f-c97dda0544b3",
   "metadata": {
    "scrolled": true
   },
   "outputs": [],
   "source": [
    "spec = data[0,:,16,16]\n",
    "\n",
    "plt.plot(spec)\n",
    "plt.xlabel(\"Channel\")\n",
    "plt.ylabel(header[\"BUNIT\"])\n",
    "plt.title(header[\"OBJECT\"]);"
   ]
  },
  {
   "cell_type": "markdown",
   "id": "dc839dcc-929d-47ba-a0ce-c87949f88588",
   "metadata": {},
   "source": [
    "## SpectralCube\n",
    "\n",
    "another teachable moment?\n"
   ]
  },
  {
   "cell_type": "code",
   "execution_count": null,
   "id": "a001a08b-6a5f-4add-93cf-1fa3ead45786",
   "metadata": {},
   "outputs": [],
   "source": [
    "try:\n",
    "    from spectral_cube import SpectralCube\n",
    "\n",
    "    my_cube = SpectralCube.read(cube).with_spectral_unit(u.km/u.s)\n",
    "\n",
    "except:\n",
    "    print(\"alas, there is no SpectralCube in your python. You could try:   pip install spectral_cube\")"
   ]
  },
  {
   "cell_type": "markdown",
   "id": "84c3aae9-8fd2-4d86-bf1f-a9f0f429df37",
   "metadata": {},
   "source": [
    "## Viewing interactively\n",
    "\n",
    "Here we would be leaveing the notebook and using your shell environment. Use at your own risk, the commands have been commented out as not to hang the automated notebook checkers.\n",
    "\n",
    "A note of caution if you use CARTA: the cell needs to remain running while viewing. Kill it with the \"interrupt the kernel\"."
   ]
  },
  {
   "cell_type": "code",
   "execution_count": null,
   "id": "87cee10e-8954-4719-a782-20cc8d695051",
   "metadata": {},
   "outputs": [],
   "source": [
    "# or go the command line way:\n",
    "\n",
    "#!ds9 otf1_cube.fits"
   ]
  },
  {
   "cell_type": "code",
   "execution_count": null,
   "id": "9f7e456f-0037-4776-8316-9ccb089d74bd",
   "metadata": {},
   "outputs": [],
   "source": [
    "# careful, carta leaves the cell running as long as you want to view the image After that:  interrupt the kernel.\n",
    "\n",
    "#!carta otf1_cube.fits"
   ]
  },
  {
   "cell_type": "code",
   "execution_count": null,
   "id": "bae59c18-38a6-4316-8ea3-2be0f29378da",
   "metadata": {},
   "outputs": [],
   "source": []
  }
 ],
 "metadata": {
  "kernelspec": {
   "display_name": "Python 3 (ipykernel)",
   "language": "python",
   "name": "python3"
  },
  "language_info": {
   "codemirror_mode": {
    "name": "ipython",
    "version": 3
   },
   "file_extension": ".py",
   "mimetype": "text/x-python",
   "name": "python",
   "nbconvert_exporter": "python",
   "pygments_lexer": "ipython3",
   "version": "3.11.7"
  },
  "toc": {
   "base_numbering": 0
  }
 },
 "nbformat": 4,
 "nbformat_minor": 5
}
