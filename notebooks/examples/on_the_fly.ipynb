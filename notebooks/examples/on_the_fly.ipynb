{
 "cells": [
  {
   "cell_type": "markdown",
   "id": "8c8138ef-e687-444e-95b1-9797654f3f62",
   "metadata": {},
   "source": [
    "# On-The-Fly (OTF) Data Reduction\n",
    "\n",
    "This notebook shows how to use `dysh` to calibrate an OTF observation. This more complex observation is not reduced with one simple command, but is always something in two steps.\n",
    "\n",
    "The first step is calibration, where the calibrated spectra are written to an SDFITS file. The second step takes these spectra and write\n",
    "them to a FITS cube. For this there are several third-party tools available, there is nothing in dysh yet to cover this."
   ]
  },
  {
   "cell_type": "code",
   "execution_count": null,
   "id": "b4967550-2ca1-4931-b53b-6f9868718490",
   "metadata": {
    "editable": true,
    "slideshow": {
     "slide_type": ""
    },
    "tags": [
     "import"
    ]
   },
   "outputs": [],
   "source": [
    "from pathlib import Path\n",
    "import astropy.units as u\n",
    "from dysh.util.download import from_url\n",
    "from dysh.fits.gbtfitsload import GBTFITSLoad\n",
    "from dysh.util.files import dysh_data\n",
    "\n",
    "from dysh.spectra import ScanBlock"
   ]
  },
  {
   "cell_type": "markdown",
   "id": "87669763-8d96-4521-9e81-f69d7213e133",
   "metadata": {},
   "source": [
    "## Data Retrieval\n",
    "\n",
    "Download the example SDFITS data, if necessary."
   ]
  },
  {
   "cell_type": "code",
   "execution_count": null,
   "id": "6bc88bc5-986d-4eae-b1c7-6398cc9ddd5a",
   "metadata": {
    "editable": true,
    "slideshow": {
     "slide_type": ""
    },
    "tags": [
     "wget"
    ]
   },
   "outputs": [],
   "source": [
    "filename = dysh_data(example='mapping-L/data/TGBT17A_506_11.raw.vegas')    \n"
   ]
  },
  {
   "cell_type": "markdown",
   "id": "e0bf5028-e5b2-43c3-9a0c-6416dc02e2ec",
   "metadata": {},
   "source": [
    "## Data Loading\n",
    "\n",
    "Next, we use `GBTFITSLoad` to load the data, and then its `summary` method to inspect its contents."
   ]
  },
  {
   "cell_type": "code",
   "execution_count": null,
   "id": "93a62e3a-c95d-475b-8602-b5b8b7934733",
   "metadata": {
    "editable": true,
    "slideshow": {
     "slide_type": ""
    },
    "tags": [
     "load"
    ]
   },
   "outputs": [],
   "source": [
    "sdfits = GBTFITSLoad(filename)"
   ]
  },
  {
   "cell_type": "code",
   "execution_count": null,
   "id": "90d482e1-3953-49da-9be6-49605ae9cf64",
   "metadata": {},
   "outputs": [],
   "source": [
    "sdfits.summary()"
   ]
  },
  {
   "cell_type": "markdown",
   "id": "7b2b8ea5-f1a2-496a-928a-885de31aaaa6",
   "metadata": {},
   "source": [
    "In this particular observation the OTF scanned over the galaxy NGC6946 in 13 Dec scans , followed by an Off position. Instead of the classical OnOff reduction with `getps`, we can use `getsigref` to refer to scan 27 as the common Off."
   ]
  },
  {
   "cell_type": "markdown",
   "id": "8cbdc5c7-dd31-4d88-a035-9f6780365b22",
   "metadata": {},
   "source": [
    "## Data Reduction"
   ]
  },
  {
   "cell_type": "code",
   "execution_count": null,
   "id": "2d090f76-3140-44e8-82a1-5508173f0e81",
   "metadata": {},
   "outputs": [],
   "source": [
    "ifnum=0        # needs to be 0\n",
    "plnum=0        # pick 0 and 1 to average\n",
    "fdnum=0        # fixed\n",
    "nint = 61      # nunber of integrations per scan\n",
    "\n",
    "scans = list(range(14,27))\n",
    "ref = 27"
   ]
  },
  {
   "cell_type": "code",
   "execution_count": null,
   "id": "684126da-97d4-4afb-8625-43160340cab1",
   "metadata": {
    "editable": true,
    "slideshow": {
     "slide_type": ""
    },
    "tags": [
     "getps",
     "test"
    ]
   },
   "outputs": [],
   "source": [
    "sb = ScanBlock()\n",
    "\n",
    "for s in scans:\n",
    "    print(f\"Working on scan {scan}\")\n",
    "    sb1 =  sdfits.getsigref(scan=s, ref=ref, fdnum=fdnum, ifnum=ifnum, plnum=plnum)[0]\n",
    "    sb.append(sb1)\n",
    "    \n",
    "sb.write(\"otf1.fits\", overwrite=True)    #  300 ms"
   ]
  },
  {
   "cell_type": "markdown",
   "id": "86a6b93b-0647-4a32-ba62-7958502be105",
   "metadata": {
    "editable": true,
    "slideshow": {
     "slide_type": ""
    },
    "tags": [
     "print_tsys",
     "test"
    ]
   },
   "source": [
    "## Gridding\n",
    "\n",
    "The most commonly used task for this is `gbtgridder`, which does not come with dysh.  Here's a super short blurb how to get it, with\n",
    "the note that it is important to get the correct release branch.   This was the situation spring 2025, and it may change, so be sure to be in touch with the developers for recommendation.\n",
    "\n",
    "```\n",
    "      git clone -b release_3.0  https://github.com/GreenBankObservatory/gbtgridder\n",
    "      pip install -e gbtgridder\n",
    "```\n",
    "\n",
    "After installation, either from the shell, or from the notebook, one can grid\n",
    "\n",
    "```\n",
    "      gbtgridder --size 32 32  --channels 500:3500 -o otf1 --clobber --auto otf1.fits\n",
    "```\n",
    "\n",
    "this process will create `test2_cube.fits` andd `test2_weight.fits`"
   ]
  },
  {
   "cell_type": "markdown",
   "id": "38898654-c1da-4a02-91d2-b4f488f18af7",
   "metadata": {},
   "source": [
    "We should show the FITS header, and we should plot a spectrum.\n",
    "\n"
   ]
  },
  {
   "cell_type": "markdown",
   "id": "d83e0206-a79f-44c7-bd2b-a45516720e75",
   "metadata": {},
   "source": []
  },
  {
   "cell_type": "markdown",
   "id": "4d1a49f2-8279-4b26-b4c4-9e69ca7ed569",
   "metadata": {},
   "source": []
  },
  {
   "cell_type": "markdown",
   "id": "361b044d-6f40-4cc0-9c16-9f88376cfaca",
   "metadata": {},
   "source": []
  },
  {
   "cell_type": "code",
   "execution_count": null,
   "id": "8a12633b-ed26-44ec-bf55-2ad4ee59e546",
   "metadata": {},
   "outputs": [],
   "source": []
  }
 ],
 "metadata": {
  "kernelspec": {
   "display_name": "Python 3 (ipykernel)",
   "language": "python",
   "name": "python3"
  },
  "language_info": {
   "codemirror_mode": {
    "name": "ipython",
    "version": 3
   },
   "file_extension": ".py",
   "mimetype": "text/x-python",
   "name": "python",
   "nbconvert_exporter": "python",
   "pygments_lexer": "ipython3",
   "version": "3.11.7"
  },
  "toc": {
   "base_numbering": 0
  }
 },
 "nbformat": 4,
 "nbformat_minor": 5
}
