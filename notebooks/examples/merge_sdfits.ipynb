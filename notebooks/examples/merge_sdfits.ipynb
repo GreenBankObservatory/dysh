{
 "cells": [
  {
   "cell_type": "markdown",
   "id": "7bf35116-8ea6-4356-8966-050eff36ca7c",
   "metadata": {},
   "source": [
    "# Merging SDFITS Files\n",
    "\n",
    "This recipe shows how to merge SDFITS files. \n",
    "There is no built-in function to merge SDFITS files, so we will put the files we want to merge in the same directory, and then load them and write them to a single SDFITS file.\n",
    "For this recipe we will use a single SDFITS file to generate two files from subsets of its data.\n",
    "\n",
    "You can find a copy of this tutorial as a Jupyter notebook [here](https://github.com/GreenBankObservatory/dysh/blob/main/notebooks/examples/merge_sdfits.ipynb) or download it by right clicking  <a href=\"https://raw.githubusercontent.com/GreenBankObservatory/dysh/refs/heads/main/notebooks/examples/merge_sdfits.ipynb\" download>here</a> and selecting \"Save Link As\".\n",
    "\n",
    "## Loading Modules\n",
    "We start by loading the modules we will use for this recipe. "
   ]
  },
  {
   "cell_type": "code",
   "execution_count": 1,
   "id": "921bae33-6f92-4e2d-bdea-47722539a5bb",
   "metadata": {},
   "outputs": [],
   "source": [
    "# These modules are required for loading and writing data.\n",
    "from dysh.fits import GBTFITSLoad\n",
    "\n",
    "# These modules are only used to download data.\n",
    "from pathlib import Path\n",
    "from dysh.util.download import from_url"
   ]
  },
  {
   "cell_type": "markdown",
   "id": "aae89b6c-caf4-45d0-a3cf-fcca531f40fd",
   "metadata": {},
   "source": [
    "## Data Retrieval\n",
    "\n",
    "Download the example SDFITS data, if necessary."
   ]
  },
  {
   "cell_type": "code",
   "execution_count": 2,
   "id": "4da076d0-e4de-416b-ab64-69987323c662",
   "metadata": {},
   "outputs": [],
   "source": [
    "url = \"http://www.gb.nrao.edu/dysh/example_data/positionswitch/data/AGBT05B_047_01/AGBT05B_047_01.raw.acs/AGBT05B_047_01.raw.acs.fits\"\n",
    "savepath = Path.cwd() / \"data\"\n",
    "savepath.mkdir(exist_ok=True) # Create the data directory if it does not exist.\n",
    "filename = from_url(url, savepath)"
   ]
  },
  {
   "cell_type": "markdown",
   "id": "61448bb0-9c34-4a44-a681-cf5e6fc54022",
   "metadata": {},
   "source": [
    "## Data Loading\n",
    "\n",
    "Next, we use {py:class}`GBTFITSLoad <dysh.fits.GBTFITSLoad>` to load the data, and then its {py:class}`summary <dysh.fits.GBTFITSLoad.summary>` method to inspect its contents."
   ]
  },
  {
   "cell_type": "code",
   "execution_count": 3,
   "id": "54a6b302-1d99-4d38-9c83-17dd02b2c273",
   "metadata": {},
   "outputs": [],
   "source": [
    "sdfits = GBTFITSLoad(filename)"
   ]
  },
  {
   "cell_type": "code",
   "execution_count": 4,
   "id": "4bc8d280-ec1c-498f-943d-7ec8b6e6602a",
   "metadata": {},
   "outputs": [
    {
     "data": {
      "text/html": [
       "<table border=\"1\" class=\"dataframe\">\n",
       "  <thead>\n",
       "    <tr style=\"text-align: right;\">\n",
       "      <th>SCAN</th>\n",
       "      <th>OBJECT</th>\n",
       "      <th>VELOCITY</th>\n",
       "      <th>PROC</th>\n",
       "      <th>PROCSEQN</th>\n",
       "      <th>RESTFREQ</th>\n",
       "      <th>DOPFREQ</th>\n",
       "      <th># IF</th>\n",
       "      <th># POL</th>\n",
       "      <th># INT</th>\n",
       "      <th># FEED</th>\n",
       "      <th>AZIMUTH</th>\n",
       "      <th>ELEVATION</th>\n",
       "    </tr>\n",
       "  </thead>\n",
       "  <tbody>\n",
       "    <tr>\n",
       "      <td>51</td>\n",
       "      <td>NGC5291</td>\n",
       "      <td>4386.0</td>\n",
       "      <td>OnOff</td>\n",
       "      <td>1</td>\n",
       "      <td>1.420405</td>\n",
       "      <td>1.420405</td>\n",
       "      <td>1</td>\n",
       "      <td>2</td>\n",
       "      <td>11</td>\n",
       "      <td>1</td>\n",
       "      <td>198.3431</td>\n",
       "      <td>18.6427</td>\n",
       "    </tr>\n",
       "    <tr>\n",
       "      <td>52</td>\n",
       "      <td>NGC5291</td>\n",
       "      <td>4386.0</td>\n",
       "      <td>OnOff</td>\n",
       "      <td>2</td>\n",
       "      <td>1.420405</td>\n",
       "      <td>1.420405</td>\n",
       "      <td>1</td>\n",
       "      <td>2</td>\n",
       "      <td>11</td>\n",
       "      <td>1</td>\n",
       "      <td>198.9306</td>\n",
       "      <td>18.7872</td>\n",
       "    </tr>\n",
       "    <tr>\n",
       "      <td>53</td>\n",
       "      <td>NGC5291</td>\n",
       "      <td>4386.0</td>\n",
       "      <td>OnOff</td>\n",
       "      <td>1</td>\n",
       "      <td>1.420405</td>\n",
       "      <td>1.420405</td>\n",
       "      <td>1</td>\n",
       "      <td>2</td>\n",
       "      <td>11</td>\n",
       "      <td>1</td>\n",
       "      <td>199.3305</td>\n",
       "      <td>18.3561</td>\n",
       "    </tr>\n",
       "    <tr>\n",
       "      <td>54</td>\n",
       "      <td>NGC5291</td>\n",
       "      <td>4386.0</td>\n",
       "      <td>OnOff</td>\n",
       "      <td>2</td>\n",
       "      <td>1.420405</td>\n",
       "      <td>1.420405</td>\n",
       "      <td>1</td>\n",
       "      <td>2</td>\n",
       "      <td>11</td>\n",
       "      <td>1</td>\n",
       "      <td>199.9157</td>\n",
       "      <td>18.4927</td>\n",
       "    </tr>\n",
       "    <tr>\n",
       "      <td>55</td>\n",
       "      <td>NGC5291</td>\n",
       "      <td>4386.0</td>\n",
       "      <td>OnOff</td>\n",
       "      <td>1</td>\n",
       "      <td>1.420405</td>\n",
       "      <td>1.420405</td>\n",
       "      <td>1</td>\n",
       "      <td>2</td>\n",
       "      <td>11</td>\n",
       "      <td>1</td>\n",
       "      <td>200.3042</td>\n",
       "      <td>18.0575</td>\n",
       "    </tr>\n",
       "    <tr>\n",
       "      <td>56</td>\n",
       "      <td>NGC5291</td>\n",
       "      <td>4386.0</td>\n",
       "      <td>OnOff</td>\n",
       "      <td>2</td>\n",
       "      <td>1.420405</td>\n",
       "      <td>1.420405</td>\n",
       "      <td>1</td>\n",
       "      <td>2</td>\n",
       "      <td>11</td>\n",
       "      <td>1</td>\n",
       "      <td>200.8906</td>\n",
       "      <td>18.1860</td>\n",
       "    </tr>\n",
       "    <tr>\n",
       "      <td>57</td>\n",
       "      <td>NGC5291</td>\n",
       "      <td>4386.0</td>\n",
       "      <td>OnOff</td>\n",
       "      <td>1</td>\n",
       "      <td>1.420405</td>\n",
       "      <td>1.420405</td>\n",
       "      <td>1</td>\n",
       "      <td>2</td>\n",
       "      <td>11</td>\n",
       "      <td>1</td>\n",
       "      <td>202.3275</td>\n",
       "      <td>17.3853</td>\n",
       "    </tr>\n",
       "    <tr>\n",
       "      <td>58</td>\n",
       "      <td>NGC5291</td>\n",
       "      <td>4386.0</td>\n",
       "      <td>OnOff</td>\n",
       "      <td>2</td>\n",
       "      <td>1.420405</td>\n",
       "      <td>1.420405</td>\n",
       "      <td>1</td>\n",
       "      <td>2</td>\n",
       "      <td>11</td>\n",
       "      <td>1</td>\n",
       "      <td>202.9192</td>\n",
       "      <td>17.4949</td>\n",
       "    </tr>\n",
       "  </tbody>\n",
       "</table>"
      ],
      "text/plain": [
       "<IPython.core.display.HTML object>"
      ]
     },
     "metadata": {},
     "output_type": "display_data"
    }
   ],
   "source": [
    "sdfits.summary()"
   ]
  },
  {
   "cell_type": "markdown",
   "id": "2f78fdb1-d2ea-4494-90d5-eedcbdddebb2",
   "metadata": {},
   "source": [
    "## Writing SDFITS Files\n",
    "\n",
    "To show how to merge SDFITS files, we will create two separate SDFITS files first.\n",
    "We use the {py:class}`GBTFITSLoad.write <dysh.fits.GBTFITSLoad.write>` method to write the data.\n",
    "We will write scans 51 and 52 to two separate files.\n",
    "\n",
    "### Create an Output Directory\n",
    "\n",
    "The approach we will use to merge SDFITS files relies on having the files to be merged in the same directory.\n",
    "We create a new directory ``./output/merge_sdfits`` if it doesn't exist already."
   ]
  },
  {
   "cell_type": "code",
   "execution_count": 5,
   "id": "cb88d125-206c-4e58-8b2f-8febcc6992bd",
   "metadata": {},
   "outputs": [],
   "source": [
    "output_dir = Path.cwd() / \"output/merge_sdfits\"\n",
    "output_dir.mkdir(exist_ok=True, parents=True) # Create the output directory if it does not exist."
   ]
  },
  {
   "cell_type": "markdown",
   "id": "67444e8c-2fc2-4fa3-a73d-b1444dafc34d",
   "metadata": {},
   "source": [
    "### Write the Intermediate SDFITS Files\n",
    "\n",
    "Now we write scans 51 and 52 to the directory we created."
   ]
  },
  {
   "cell_type": "code",
   "execution_count": 6,
   "id": "78a7a00b-01c8-4153-a3cf-10a5fab459db",
   "metadata": {},
   "outputs": [],
   "source": [
    "sdfits.write(output_dir / \"scan51.fits\", scan=51)\n",
    "sdfits.write(output_dir / \"scan52.fits\", scan=52)"
   ]
  },
  {
   "cell_type": "markdown",
   "id": "eea51254-5686-4b88-b275-21ed1496e73a",
   "metadata": {},
   "source": [
    "## Merge SDFITS Files\n",
    "\n",
    "Now that we have two SDFITS files we want to merge, we can do this by loading them using {py:class}`GBTFITSLoad <dysh.fits.GBTFITSLoad>` by passing the directory containing the files we want to merge.\n",
    "In this case, that would be ``./output/merge_sdfits``."
   ]
  },
  {
   "cell_type": "code",
   "execution_count": 7,
   "id": "27b10c0a-1286-4ac5-83a4-111185ac74df",
   "metadata": {},
   "outputs": [
    {
     "name": "stdout",
     "output_type": "stream",
     "text": [
      "Loaded 2 FITS files\n"
     ]
    }
   ],
   "source": [
    "sdfits_merged = GBTFITSLoad(output_dir)"
   ]
  },
  {
   "cell_type": "code",
   "execution_count": 8,
   "id": "34b1523d-5652-4691-92c4-b5adb20788bb",
   "metadata": {},
   "outputs": [
    {
     "data": {
      "text/html": [
       "<table border=\"1\" class=\"dataframe\">\n",
       "  <thead>\n",
       "    <tr style=\"text-align: right;\">\n",
       "      <th>SCAN</th>\n",
       "      <th>OBJECT</th>\n",
       "      <th>VELOCITY</th>\n",
       "      <th>PROC</th>\n",
       "      <th>PROCSEQN</th>\n",
       "      <th>RESTFREQ</th>\n",
       "      <th>DOPFREQ</th>\n",
       "      <th># IF</th>\n",
       "      <th># POL</th>\n",
       "      <th># INT</th>\n",
       "      <th># FEED</th>\n",
       "      <th>AZIMUTH</th>\n",
       "      <th>ELEVATION</th>\n",
       "    </tr>\n",
       "  </thead>\n",
       "  <tbody>\n",
       "    <tr>\n",
       "      <td>51</td>\n",
       "      <td>NGC5291</td>\n",
       "      <td>4386.0</td>\n",
       "      <td>OnOff</td>\n",
       "      <td>1</td>\n",
       "      <td>1.420405</td>\n",
       "      <td>1.420405</td>\n",
       "      <td>1</td>\n",
       "      <td>2</td>\n",
       "      <td>11</td>\n",
       "      <td>1</td>\n",
       "      <td>198.3431</td>\n",
       "      <td>18.6427</td>\n",
       "    </tr>\n",
       "    <tr>\n",
       "      <td>52</td>\n",
       "      <td>NGC5291</td>\n",
       "      <td>4386.0</td>\n",
       "      <td>OnOff</td>\n",
       "      <td>2</td>\n",
       "      <td>1.420405</td>\n",
       "      <td>1.420405</td>\n",
       "      <td>1</td>\n",
       "      <td>2</td>\n",
       "      <td>11</td>\n",
       "      <td>1</td>\n",
       "      <td>198.9306</td>\n",
       "      <td>18.7872</td>\n",
       "    </tr>\n",
       "  </tbody>\n",
       "</table>"
      ],
      "text/plain": [
       "<IPython.core.display.HTML object>"
      ]
     },
     "metadata": {},
     "output_type": "display_data"
    }
   ],
   "source": [
    "sdfits_merged.summary()"
   ]
  },
  {
   "cell_type": "markdown",
   "id": "2133873f-a414-4529-97c7-b744853e2d47",
   "metadata": {},
   "source": [
    "### Write the Merged SDFITS Files to a New File\n",
    "\n",
    "Now we can write the merged SDFITS files to a new file using {py:class}`GBTFITSLoad.write <dysh.fits.GBTFITSLoad.write>`.\n",
    "We tell it to write to a single file with the ``multifile=False`` argument.\n",
    "We write to a new directory to show that this is only one file now."
   ]
  },
  {
   "cell_type": "code",
   "execution_count": 9,
   "id": "79a9e175-82d8-4c73-be60-65d1454d4d02",
   "metadata": {},
   "outputs": [],
   "source": [
    "new_dir = Path.cwd() / \"output/merged_sdfits\"\n",
    "new_dir.mkdir(exist_ok=True)\n",
    "sdfits_merged.write(new_dir / \"merged_sdfits.fits\", multifile=False)"
   ]
  },
  {
   "cell_type": "markdown",
   "id": "28adc061-b482-4755-a34a-00ec5be0f50a",
   "metadata": {},
   "source": [
    "Load the merged SDFITS file."
   ]
  },
  {
   "cell_type": "code",
   "execution_count": 10,
   "id": "bf6201fd-2d70-4c0a-9b58-ba48fb95c574",
   "metadata": {},
   "outputs": [
    {
     "data": {
      "text/html": [
       "<table border=\"1\" class=\"dataframe\">\n",
       "  <thead>\n",
       "    <tr style=\"text-align: right;\">\n",
       "      <th>SCAN</th>\n",
       "      <th>OBJECT</th>\n",
       "      <th>VELOCITY</th>\n",
       "      <th>PROC</th>\n",
       "      <th>PROCSEQN</th>\n",
       "      <th>RESTFREQ</th>\n",
       "      <th>DOPFREQ</th>\n",
       "      <th># IF</th>\n",
       "      <th># POL</th>\n",
       "      <th># INT</th>\n",
       "      <th># FEED</th>\n",
       "      <th>AZIMUTH</th>\n",
       "      <th>ELEVATION</th>\n",
       "    </tr>\n",
       "  </thead>\n",
       "  <tbody>\n",
       "    <tr>\n",
       "      <td>51</td>\n",
       "      <td>NGC5291</td>\n",
       "      <td>4386.0</td>\n",
       "      <td>OnOff</td>\n",
       "      <td>1</td>\n",
       "      <td>1.420405</td>\n",
       "      <td>1.420405</td>\n",
       "      <td>1</td>\n",
       "      <td>2</td>\n",
       "      <td>11</td>\n",
       "      <td>1</td>\n",
       "      <td>198.3431</td>\n",
       "      <td>18.6427</td>\n",
       "    </tr>\n",
       "    <tr>\n",
       "      <td>52</td>\n",
       "      <td>NGC5291</td>\n",
       "      <td>4386.0</td>\n",
       "      <td>OnOff</td>\n",
       "      <td>2</td>\n",
       "      <td>1.420405</td>\n",
       "      <td>1.420405</td>\n",
       "      <td>1</td>\n",
       "      <td>2</td>\n",
       "      <td>11</td>\n",
       "      <td>1</td>\n",
       "      <td>198.9306</td>\n",
       "      <td>18.7872</td>\n",
       "    </tr>\n",
       "  </tbody>\n",
       "</table>"
      ],
      "text/plain": [
       "<IPython.core.display.HTML object>"
      ]
     },
     "metadata": {},
     "output_type": "display_data"
    }
   ],
   "source": [
    "sdfits_merged = GBTFITSLoad(new_dir)\n",
    "sdfits_merged.summary()"
   ]
  },
  {
   "cell_type": "markdown",
   "id": "83cb7126-c668-4c08-a889-18431d9421fa",
   "metadata": {},
   "source": [
    "You can check that it is indeed a single file by looking at the ``files`` attribute of the ``GBTFITSLoad`` object."
   ]
  },
  {
   "cell_type": "code",
   "execution_count": 11,
   "id": "f86f32f0-afd5-47c7-b704-1aa8ad028948",
   "metadata": {},
   "outputs": [
    {
     "data": {
      "text/plain": [
       "[PosixPath('/home/scratch/psalas/python/dysh/notebooks/examples/output/merged_sdfits/merged_sdfits.fits')]"
      ]
     },
     "execution_count": 11,
     "metadata": {},
     "output_type": "execute_result"
    }
   ],
   "source": [
    "sdfits_merged.files"
   ]
  },
  {
   "cell_type": "markdown",
   "id": "fa7617a6-fa80-4207-bdca-849c5bc1cfa0",
   "metadata": {},
   "source": [
    "The same principles can be applied to more complex examples, like selecting an IF for certain scans, and another for others, and then merging them all in a single file."
   ]
  },
  {
   "cell_type": "code",
   "execution_count": null,
   "id": "43130429-0375-4bfa-8490-539971d30879",
   "metadata": {},
   "outputs": [],
   "source": []
  }
 ],
 "metadata": {
  "kernelspec": {
   "display_name": "Python 3 (ipykernel)",
   "language": "python",
   "name": "python3"
  },
  "language_info": {
   "codemirror_mode": {
    "name": "ipython",
    "version": 3
   },
   "file_extension": ".py",
   "mimetype": "text/x-python",
   "name": "python",
   "nbconvert_exporter": "python",
   "pygments_lexer": "ipython3",
   "version": "3.11.6"
  }
 },
 "nbformat": 4,
 "nbformat_minor": 5
}
