{
 "cells": [
  {
   "cell_type": "markdown",
   "id": "858af913-07e5-4b3f-8462-20ddb3fe6680",
   "metadata": {},
   "source": [
    "# Selecting Data\n",
    "\n",
    "This notebook shows how to select data in `dysh`.\n",
    "We illustrate this using the `Selection` class of `dysh`.\n",
    "We use this approach to show the various method available, however, using a `Selection` object will have no effect on the data itself.\n",
    "At the end of the notebook we show how the same selections can be accomplished using a `GBTFITSLoad` object, so that the selections made are actually applied to the data.\n",
    "\n",
    "We start by loading the modules we will use in this notebook."
   ]
  },
  {
   "cell_type": "code",
   "execution_count": null,
   "id": "126a61c2-8730-4194-a39a-3728f611dbd7",
   "metadata": {},
   "outputs": [],
   "source": [
    "# These modules are required for the tutorial.\n",
    "import astropy.units as u\n",
    "from astropy.time import Time\n",
    "from dysh.fits.gbtfitsload import GBTFITSLoad\n",
    "from dysh.util.selection import Selection\n",
    "\n",
    "# These modules are only used to download the data.\n",
    "from pathlib import Path\n",
    "from dysh.util.download import from_url"
   ]
  },
  {
   "cell_type": "markdown",
   "id": "42421919-e8e3-42b9-8080-4b68dcef38f4",
   "metadata": {},
   "source": [
    "## Data Retrieval\n",
    "\n",
    "Download the example SDFITS data, if necessary.\n",
    "\n",
    "The code below will download an SDFITS file from http://www.gb.nrao.edu/dysh/example_data and put it in a data directory.\n",
    "The data directory must exist where this notebook is being run from, otherwise the downloaded SDFITS will be named data.\n",
    "The example will work either way, but be aware if you find a new file named data after running it."
   ]
  },
  {
   "cell_type": "code",
   "execution_count": null,
   "id": "41e76282-545a-4573-9bb7-38af50aa2a89",
   "metadata": {
    "scrolled": true
   },
   "outputs": [],
   "source": [
    "url = \"http://www.gb.nrao.edu/dysh/example_data/hi-survey/data/AGBT04A_008_02.raw.acs/AGBT04A_008_02.raw.acs.fits\"\n",
    "savepath = Path.cwd() / \"data\"\n",
    "filename = from_url(url, savepath)"
   ]
  },
  {
   "cell_type": "markdown",
   "id": "493fadee-e596-4d2d-af68-86793f2148f9",
   "metadata": {},
   "source": [
    "## Data Loading\n",
    "\n",
    "Next, we use `GBTFITSLoad` to load the data, and then its `summary` method to inspect its contents."
   ]
  },
  {
   "cell_type": "code",
   "execution_count": null,
   "id": "9efd592a-c289-4219-82f1-a62cbfc72f04",
   "metadata": {
    "scrolled": true
   },
   "outputs": [],
   "source": [
    "sdfits = GBTFITSLoad(filename)\n",
    "sdfits.summary()"
   ]
  },
  {
   "cell_type": "markdown",
   "id": "cbcaa344-e7b5-49c1-83a2-14feef788a7c",
   "metadata": {},
   "source": [
    "## Create a Selection Object for SDFITS Data\n",
    "\n",
    "We will show how to select data using a `Selection` object.\n",
    "We start by creating the `Selection` object and putting it into a variable named `selection_object`."
   ]
  },
  {
   "cell_type": "code",
   "execution_count": null,
   "id": "b6dc512b-466c-44ac-932e-80857b2b8bae",
   "metadata": {},
   "outputs": [],
   "source": [
    "selection_object = Selection(sdfits)"
   ]
  },
  {
   "cell_type": "markdown",
   "id": "2a1ce21a-2dbb-4672-aadf-0774f2b3e8db",
   "metadata": {},
   "source": [
    "## Using Selection\n",
    "\n",
    "Now we show various ways in which the `Selection` object can be used to select data.\n",
    "\n",
    "### Select by Column Names\n",
    "\n",
    "One way of selecting data is by specifying a value for a column name.\n",
    "For example, we can select data which has OBJECT=\"U8249\" and polarization number 0 using the following."
   ]
  },
  {
   "cell_type": "code",
   "execution_count": null,
   "id": "72e0e07f-ccaa-4a02-8685-7641136fafc4",
   "metadata": {},
   "outputs": [],
   "source": [
    "selection_object.select(object=\"U8249\", plnum=0)"
   ]
  },
  {
   "cell_type": "markdown",
   "id": "61173765-201b-4079-8ca4-5294a2a8f089",
   "metadata": {},
   "source": [
    "We can view the contents of the selection using its `show` method."
   ]
  },
  {
   "cell_type": "code",
   "execution_count": null,
   "id": "fd4d1a79-6c10-49f8-a10c-0012ce93d7cb",
   "metadata": {},
   "outputs": [],
   "source": [
    "selection_object.show()"
   ]
  },
  {
   "cell_type": "markdown",
   "id": "5c974128-e99d-4967-b404-5d8f29ec1723",
   "metadata": {},
   "source": [
    "This displays the selection as a table.\n",
    "In the backround, each time we create a new selection, it is assigned an id and tag.\n",
    "\n",
    "We can also specify the tag name to have a more meaningful value. In this case we will select both polarizations."
   ]
  },
  {
   "cell_type": "code",
   "execution_count": null,
   "id": "c5e0ca48-6b76-414d-8dac-50daab9ddbae",
   "metadata": {},
   "outputs": [],
   "source": [
    "selection_object.select(plnum=[0, 1], tag=\"plnums\")"
   ]
  },
  {
   "cell_type": "code",
   "execution_count": null,
   "id": "fc0e2a0f-0011-4189-9d5f-2352891b43f6",
   "metadata": {},
   "outputs": [],
   "source": [
    "selection_object.show()"
   ]
  },
  {
   "cell_type": "markdown",
   "id": "75e62980-d381-4358-90a1-2c6789aa5d40",
   "metadata": {},
   "source": [
    "### Combining Selections\n",
    "\n",
    "Once we have multiple selection rules in our `Selection` object, we can combine them into a single selection using the `final` method of `Selection`. \n",
    "This will return a `~pandas.DataFrame`."
   ]
  },
  {
   "cell_type": "code",
   "execution_count": null,
   "id": "454b8b20-5bb2-4146-9da5-85afc639e4e8",
   "metadata": {},
   "outputs": [],
   "source": [
    "selection_object.final"
   ]
  },
  {
   "cell_type": "markdown",
   "id": "5666395f-3b8a-420e-9e15-a69c57f82f90",
   "metadata": {},
   "source": [
    "In this particular case, we have 152 rows."
   ]
  },
  {
   "cell_type": "markdown",
   "id": "6f4cb3ef-f1ab-42bf-8a29-cfd29929cca9",
   "metadata": {},
   "source": [
    "### Remove Selections\n",
    "\n",
    "This can be done by id or tag.\n",
    "Multiple rows with the same tag will all be removed."
   ]
  },
  {
   "cell_type": "code",
   "execution_count": null,
   "id": "43fe5ffb-2821-4ee4-9f29-ec245168ae55",
   "metadata": {},
   "outputs": [],
   "source": [
    "selection_object.remove(id=0)\n",
    "selection_object.remove(tag='plnums')\n",
    "selection_object.show()"
   ]
  },
  {
   "cell_type": "markdown",
   "id": "b6b25468-efca-4bd1-91ef-a34e6eb502f5",
   "metadata": {},
   "source": [
    "To remove all selections use `Selection.clear`, like"
   ]
  },
  {
   "cell_type": "code",
   "execution_count": null,
   "id": "a771e05c-9532-4139-b4a8-3b7f25c639e1",
   "metadata": {},
   "outputs": [],
   "source": [
    "selection_object.clear()"
   ]
  },
  {
   "cell_type": "code",
   "execution_count": null,
   "id": "f57c5b8f-b180-4293-87fd-1b3cd3975f35",
   "metadata": {},
   "outputs": [],
   "source": [
    "selection_object.show()"
   ]
  },
  {
   "cell_type": "markdown",
   "id": "97ca64ec-ca06-47c6-a0a4-caf09db3a440",
   "metadata": {},
   "source": [
    "### Select by Range\n",
    "\n",
    "It is also possible to define a selection given a range of values.\n",
    "In this case the selection must be specified using either a list, `[]`, or a tuple, `()`, with a start and an end value.\n",
    "Lower limits are give by `(value,None)` or `(value,)`.\n",
    "Upper limits are given by `(None,value)`, since `(,value)` is not valid `python`.\n",
    "For coordinates the default unit is taken to be degrees.\n",
    "Other units can be explicitly given.\n",
    "Both `()` and `[]` are valid for indicated ranges, but only tuples can be used if `(value,)` for lower limit.\n",
    "\n",
    "For example to select only rows where the right ascention is greater than 114 degrees we would use"
   ]
  },
  {
   "cell_type": "code",
   "execution_count": null,
   "id": "6c627654-19bc-4151-b2de-222efb3e4398",
   "metadata": {},
   "outputs": [],
   "source": [
    "selection_object.select_range(ra=(114,))"
   ]
  },
  {
   "cell_type": "code",
   "execution_count": null,
   "id": "e820a42a-f3e1-4ca5-a67e-e2c43ed1ed67",
   "metadata": {},
   "outputs": [],
   "source": [
    "selection_object.show()"
   ]
  },
  {
   "cell_type": "markdown",
   "id": "eda04fe5-98f3-40c6-8f03-2658c023216d",
   "metadata": {},
   "source": [
    "and to select rows where the elevation is below 80 degrees"
   ]
  },
  {
   "cell_type": "code",
   "execution_count": null,
   "id": "50faf345-a76d-4b45-a743-d9610565122d",
   "metadata": {},
   "outputs": [],
   "source": [
    "selection_object.select_range(elevation=[None,80])"
   ]
  },
  {
   "cell_type": "code",
   "execution_count": null,
   "id": "b900640f-fb5b-495f-bd90-5ed1599d5bf5",
   "metadata": {},
   "outputs": [],
   "source": [
    "selection_object.show()"
   ]
  },
  {
   "cell_type": "markdown",
   "id": "4c387a31-c0cb-45f3-b512-36b6af576cd2",
   "metadata": {},
   "source": [
    "We can check that the selections were applied properly by inspecting at the final result and its \"ELEVATIO\" column."
   ]
  },
  {
   "cell_type": "markdown",
   "id": "b7313f50-6a0b-450a-a714-f23b6c0cdb99",
   "metadata": {},
   "source": [
    "It is also possible to use units during selection.\n",
    "For example"
   ]
  },
  {
   "cell_type": "code",
   "execution_count": null,
   "id": "2e187bff-c9eb-4391-a709-d80f60a90f1a",
   "metadata": {},
   "outputs": [],
   "source": [
    "selection_object.select_range(dec=[854, 855] * u.arcmin)\n",
    "selection_object.show()"
   ]
  },
  {
   "cell_type": "markdown",
   "id": "de633575-366c-4807-9a8d-37d7d3d0baa3",
   "metadata": {},
   "source": [
    "Selection keywords are case insensitive, so for example using `DeC` is the same as `dec`.\n",
    "Note also elevation is aliased here to elevatio (the actual SDFITS keyword)"
   ]
  },
  {
   "cell_type": "code",
   "execution_count": null,
   "id": "a3a02ad4-5517-42f1-be79-1b2324b57b0e",
   "metadata": {},
   "outputs": [],
   "source": [
    "selection_object.select_range(eLEVaTIon=[None,80])\n",
    "selection_object.show()"
   ]
  },
  {
   "cell_type": "markdown",
   "id": "5c896a36-c5d9-4769-b546-0d065db8f04e",
   "metadata": {},
   "source": [
    "Notice that the selections with ids 1 and 3 are the same. \n",
    "By default, `Selection` will not check for duplicates (this makes it swifter)."
   ]
  },
  {
   "cell_type": "markdown",
   "id": "b84e82b3-f17d-4ca0-a9d1-fa63f4207c1e",
   "metadata": {},
   "source": [
    "### Select Within a Range\n",
    "\n",
    "It is also possible to specify the midpoint and a range to make a selection.\n",
    "In this case we use `select_within` and specify the mean value and the +- range.\n",
    "\n",
    "For example to select between elevation of 50-10 and 50+10 we would use"
   ]
  },
  {
   "cell_type": "code",
   "execution_count": null,
   "id": "9c0b64e5-0f7c-4c92-a103-c650938d4d53",
   "metadata": {},
   "outputs": [],
   "source": [
    "selection_object.select_within(eleVation=(50,10))\n",
    "selection_object.show()"
   ]
  },
  {
   "cell_type": "markdown",
   "id": "e6c8562e-3a1f-46f1-ba32-d7b0b1f2ad33",
   "metadata": {},
   "source": [
    "Which shows a selection between 40 and 50 degrees of elevation."
   ]
  },
  {
   "cell_type": "markdown",
   "id": "1c7c7215-fe5e-4792-9f95-9589aabda054",
   "metadata": {},
   "source": [
    "### Using Aliases\n",
    "\n",
    "`Selection` knows about certain aliases for column names.\n",
    "For example, the SDFITS column ELEVATIO can also be selected using ELEVATION.\n",
    "The aliases are defined in the `aliases` attribute of `Selection`."
   ]
  },
  {
   "cell_type": "code",
   "execution_count": null,
   "id": "28b372be-4e93-49b5-85c8-eafbf2a0d881",
   "metadata": {},
   "outputs": [],
   "source": [
    "selection_object.aliases"
   ]
  },
  {
   "cell_type": "markdown",
   "id": "ca77655a-b48c-48b9-9f26-a3697a9d723b",
   "metadata": {},
   "source": [
    "It is also possible to add your own aliases.\n",
    "For example to use target and az as aliases for OBJECT and AZIMUTH we would use"
   ]
  },
  {
   "cell_type": "code",
   "execution_count": null,
   "id": "59eccb75-8ce7-45fb-9ada-ee65128c5fb7",
   "metadata": {},
   "outputs": [],
   "source": [
    "selection_object.alias({'target':'object','az':'azimuth'})"
   ]
  },
  {
   "cell_type": "code",
   "execution_count": null,
   "id": "4111fd49-943a-4b12-96a9-f3bcda4a7480",
   "metadata": {},
   "outputs": [],
   "source": [
    "selection_object.aliases"
   ]
  },
  {
   "cell_type": "code",
   "execution_count": null,
   "id": "d9d3ebf7-1b21-49b1-b44f-f9ec1e78e89d",
   "metadata": {},
   "outputs": [],
   "source": [
    "selection_object.select(target=\"U8249\")\n",
    "selection_object.show()"
   ]
  },
  {
   "cell_type": "markdown",
   "id": "7d387de3-4cf8-40cc-a846-5b216454cd43",
   "metadata": {},
   "source": [
    "Notice that this will only affect the aliases for this particular instance of a `Selection`.\n",
    "Any new Selection objects will not know about these aliases."
   ]
  },
  {
   "cell_type": "code",
   "execution_count": null,
   "id": "f66dad98-9908-456e-a1eb-bb684d3cbf9e",
   "metadata": {},
   "outputs": [],
   "source": [
    "Selection(sdfits).aliases"
   ]
  },
  {
   "cell_type": "markdown",
   "id": "7279270f-8cc5-458c-817a-803dd808045f",
   "metadata": {},
   "source": [
    "### Empty Selections\n",
    "\n",
    "Any selection that results in no data being selected is ignored.\n",
    "You will get a warning message in this case."
   ]
  },
  {
   "cell_type": "code",
   "execution_count": null,
   "id": "012adfe6-6900-438c-b45e-681cabd62993",
   "metadata": {},
   "outputs": [],
   "source": [
    "selection_object.select(target='foobar')"
   ]
  },
  {
   "cell_type": "markdown",
   "id": "3a716b3e-d624-486e-b7b2-2fe8fd967312",
   "metadata": {},
   "source": [
    "### Time Selections\n",
    "\n",
    "UTC time ranges can be selected with Time objects.\n",
    "This checks against the UTC timestamp column.\n",
    "For LST, use select_range(lst=[number1,number2]).\n",
    "\n"
   ]
  },
  {
   "cell_type": "code",
   "execution_count": null,
   "id": "48ffada1-3ef7-422c-8e2f-59ace6161f57",
   "metadata": {},
   "outputs": [],
   "source": [
    "selection_object.select_range(utc=(Time(\"2004-04-22T06:08:05\", scale=\"utc\"),\n",
    "                                   Time(\"2004-04-22T06:08:26\", scale=\"utc\")))"
   ]
  },
  {
   "cell_type": "code",
   "execution_count": null,
   "id": "6dd005de-d65f-46dc-8f49-39a023644f65",
   "metadata": {},
   "outputs": [],
   "source": [
    "selection_object.show()"
   ]
  },
  {
   "cell_type": "code",
   "execution_count": null,
   "id": "17cca444-0498-4bd4-b52f-986f014f19c7",
   "metadata": {},
   "outputs": [],
   "source": [
    "selection_object.final[\"UTC\"]"
   ]
  },
  {
   "cell_type": "markdown",
   "id": "88044ad7-11d2-43f4-834f-cd7aba37787b",
   "metadata": {},
   "source": [
    "### Channel Selection\n",
    "\n",
    "To select channels there is a special method, `Selection.select_channel`.\n",
    "Channels can be ranges, individual channels or combinations there of.\n",
    "Note that selecting channels does not down select rows."
   ]
  },
  {
   "cell_type": "code",
   "execution_count": null,
   "id": "91871580-d678-44ea-828d-c823e92c8746",
   "metadata": {},
   "outputs": [],
   "source": [
    "a = [1, 4, (30, 40)]\n",
    "selection_object.select_channel(a)\n",
    "selection_object.show()"
   ]
  },
  {
   "cell_type": "markdown",
   "id": "663681b2-c3e4-46d1-ba6c-44b8374b54e3",
   "metadata": {},
   "source": [
    "Note that you can only have one channel selection rule at a time."
   ]
  },
  {
   "cell_type": "code",
   "execution_count": null,
   "id": "d3588cb3-83aa-4521-a325-2c9b8bb032a1",
   "metadata": {},
   "outputs": [],
   "source": [
    "try: \n",
    "    selection_object.select_channel([60,70])\n",
    "except Exception as e:\n",
    "    print(e)"
   ]
  },
  {
   "cell_type": "markdown",
   "id": "8ae318b0-259d-47ef-8116-755eb6edafe1",
   "metadata": {},
   "source": [
    "### Applying Selections to Your Data\n",
    "\n",
    "So far we have seen how to create and manage selections.\n",
    "However, these have been made with a separate `Selection` object.\n",
    "All of the methods exposed above are also available through the `GBTFITSLoad` object.\n",
    "For example, to list the selections we'd use `GBTFITSLoad.selection.show()`, to clear the selections `GBTFITSLoad.selection.clear()`, and to select in a range `GBTFITSLoad.select_range()`.\n",
    "\n",
    "To show the effect we start by using `gettp` with the basic required selection of ifnum, plnum and fdnum."
   ]
  },
  {
   "cell_type": "code",
   "execution_count": null,
   "id": "190da330-bdd0-4eb5-8249-336b79eb7dfd",
   "metadata": {},
   "outputs": [],
   "source": [
    "tp_all = sdfits.gettp(ifnum=0, plnum=0, fdnum=0)"
   ]
  },
  {
   "cell_type": "code",
   "execution_count": null,
   "id": "4380787b-a9ba-47ca-8e5d-77b6c95cab34",
   "metadata": {},
   "outputs": [],
   "source": [
    "len(tp_all)"
   ]
  },
  {
   "cell_type": "markdown",
   "id": "e9285e54-8213-44f1-a21d-7719ae87734d",
   "metadata": {},
   "source": [
    "That is all 81 scans were selected.\n",
    "\n",
    "Now we select something and show the selection."
   ]
  },
  {
   "cell_type": "code",
   "execution_count": null,
   "id": "33ab95b0-a404-447d-b940-b1fb536a4871",
   "metadata": {},
   "outputs": [],
   "source": [
    "sdfits.select_range(eLEVaTIon=[None,80])\n",
    "sdfits.selection.show()"
   ]
  },
  {
   "cell_type": "markdown",
   "id": "6cd07a34-d96c-4c15-a428-671c246366a4",
   "metadata": {},
   "source": [
    "Now repeat the `gettp` call and notice the difference."
   ]
  },
  {
   "cell_type": "code",
   "execution_count": null,
   "id": "6fa575c4-24b0-4b78-ad27-cef898f361ef",
   "metadata": {},
   "outputs": [],
   "source": [
    "tp_selection = sdfits.gettp(ifnum=0, plnum=0, fdnum=0)\n",
    "len(tp_selection)"
   ]
  },
  {
   "cell_type": "markdown",
   "id": "58f601f4-80b6-453a-83c7-94cd20145bf8",
   "metadata": {},
   "source": [
    "Now only 74 scans are selected, the ones that have an elevation below 80 degrees."
   ]
  }
 ],
 "metadata": {
  "kernelspec": {
   "display_name": "Python 3 (ipykernel)",
   "language": "python",
   "name": "python3"
  },
  "language_info": {
   "codemirror_mode": {
    "name": "ipython",
    "version": 3
   },
   "file_extension": ".py",
   "mimetype": "text/x-python",
   "name": "python",
   "nbconvert_exporter": "python",
   "pygments_lexer": "ipython3",
   "version": "3.10.0"
  }
 },
 "nbformat": 4,
 "nbformat_minor": 5
}
