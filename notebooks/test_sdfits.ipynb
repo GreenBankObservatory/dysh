{
 "cells": [
  {
   "cell_type": "code",
   "execution_count": 1,
   "id": "33dc10af-604c-4f14-9711-df5ad136f764",
   "metadata": {},
   "outputs": [],
   "source": [
    "from dysh.spectra.spectrum import Spectrum\n",
    "import numpy as np\n",
    "from scipy.stats import norm\n",
    "import astropy.units as u\n",
    "import matplotlib.pyplot as plt\n",
    "from dysh.fits.sdfitsload import SDFITSLoad\n",
    "from dysh.fits.gbtfitsload import GBTFITSLoad\n",
    "from dysh.spectra.scan import PSScan, GBTPSScan\n",
    "import pandas\n",
    "from copy import deepcopy\n",
    "pandas.set_option('display.max_rows', 100)\n",
    "from astropy.modeling.fitting import LevMarLSQFitter,LinearLSQFitter\n",
    "from specutils import Spectrum1D, SpectrumList,SpectralRegion\n",
    "from astropy.nddata import StdDevUncertainty\n",
    "from specutils.fitting import fit_continuum\n",
    "import matplotlib.pyplot as plt\n",
    "from dysh.spectra import dcmeantsys,tsys_weight,average\n",
    "from dysh.plot.specplot import SpectrumPlot\n",
    "from astropy.io import fits\n",
    "from astropy.table import Table\n",
    "import pandas as pd\n",
    "#%matplotlib notebook"
   ]
  },
  {
   "cell_type": "markdown",
   "id": "3555b4b0-097b-4ab6-81d3-6315a6cbaa27",
   "metadata": {},
   "source": [
    "-------------"
   ]
  },
  {
   "cell_type": "markdown",
   "id": "d478a858-dec8-448c-a64a-e8f55108fe5f",
   "metadata": {},
   "source": [
    "# 1. GBTFITSLoad and position-switch calibration testing\n",
    "change to use your specific `datadir`"
   ]
  },
  {
   "cell_type": "code",
   "execution_count": null,
   "id": "4b0df155-ab44-48a7-8655-2532e051d901",
   "metadata": {},
   "outputs": [],
   "source": [
    "datadir = '/data/gbt'\n",
    "#f = datadir + '/examples/misc/ngc5291.fits'\n",
    "f = datadir + '/examples/onoff-L/data/TGBT21A_501_11.raw.vegas.fits'\n",
    "#f = datadir + 'examples/nod-KFPA/data/TGBT22A_503_02.raw.vegas/TGBT22A_503_02.raw.vegas.A.fits'\n",
    "#f = datadir + '/examples/mixed-fs-ps/data/AGBT16B_225_05/AGBT16B_225_05.raw.vegas/AGBT16B_225_05.raw.vegas.A.fits'\n",
    "p = GBTFITSLoad(f)\n",
    "p.info()"
   ]
  },
  {
   "cell_type": "code",
   "execution_count": null,
   "id": "8645bfaf-1749-400a-8ab5-ccd1f31d0da9",
   "metadata": {},
   "outputs": [],
   "source": [
    "p.summary()"
   ]
  },
  {
   "cell_type": "code",
   "execution_count": null,
   "id": "37ea3427-fb57-4e98-bedf-5367a7b08f26",
   "metadata": {},
   "outputs": [],
   "source": [
    "p.summary(verbose=True)"
   ]
  },
  {
   "cell_type": "markdown",
   "id": "ffb7a280-7756-45be-8d81-9b79e1b98419",
   "metadata": {},
   "source": [
    "-----------------------------\n",
    "# Get total power scan integrations and plot the time average "
   ]
  },
  {
   "cell_type": "code",
   "execution_count": null,
   "id": "b2f4a250-ec5f-4a30-a348-d966bb486405",
   "metadata": {},
   "outputs": [],
   "source": [
    "tps = p.gettp(scan=152,sig=True,cal=False,bintable=0,ifnum=0,plnum=1)\n",
    "s=tps.timeaverage()\n",
    "s.plot()\n",
    "print(s.meta['TSYS'])"
   ]
  },
  {
   "cell_type": "code",
   "execution_count": null,
   "id": "a855df40-9337-4c1e-a4e6-78d8a19f8ed2",
   "metadata": {},
   "outputs": [],
   "source": [
    "tps.timeaverage(weights='tsys').plot()"
   ]
  },
  {
   "cell_type": "markdown",
   "id": "a73fc399-c419-46ee-8281-3b4e2d1d8c1d",
   "metadata": {},
   "source": [
    "## get another TP scan with different IF and Polarization and plot the 13th integration"
   ]
  },
  {
   "cell_type": "code",
   "execution_count": null,
   "id": "5dba32d8-8dea-4e8b-902e-92533ec7df24",
   "metadata": {},
   "outputs": [],
   "source": [
    "tps = p.gettp(scan=153,sig=True,cal=True,bintable=0,ifnum=1,plnum=1)\n",
    "tps.total_power(12).plot()"
   ]
  },
  {
   "cell_type": "markdown",
   "id": "af69d02a-187c-416d-adc2-ce1eae9feaa6",
   "metadata": {},
   "source": [
    "## Try writing scans or records to FITS files and reading them back in\n"
   ]
  },
  {
   "cell_type": "code",
   "execution_count": null,
   "id": "91a81062-6c6d-4b0d-9676-0b0ffbe994be",
   "metadata": {},
   "outputs": [],
   "source": [
    "scanlist = [152]"
   ]
  },
  {
   "cell_type": "code",
   "execution_count": null,
   "id": "862cf89f-42b0-491a-908e-bb85e2cfa2da",
   "metadata": {},
   "outputs": [],
   "source": [
    "p.write_scans(\"/tmp/scans.fits\",overwrite=True,checksum=True,output_verify='fix',scans=scanlist)"
   ]
  },
  {
   "cell_type": "code",
   "execution_count": null,
   "id": "59d10bdf-5c20-4d4e-abf9-97df4b5d3541",
   "metadata": {},
   "outputs": [],
   "source": [
    "x1 = fits.open(\"/tmp/scans.fits\")\n",
    "x1.info()"
   ]
  },
  {
   "cell_type": "code",
   "execution_count": null,
   "id": "8ebae3d0-6ccc-46f7-93f5-13c11ed3b605",
   "metadata": {},
   "outputs": [],
   "source": [
    "x1[1].header"
   ]
  },
  {
   "cell_type": "code",
   "execution_count": null,
   "id": "a20f0815-f5f3-4d38-ba4d-6a288f4a0cff",
   "metadata": {},
   "outputs": [],
   "source": [
    "x1 = GBTFITSLoad(\"/tmp/scans.fits\")\n",
    "#x1._ptable[0]\n",
    "x1._hdu.info()"
   ]
  },
  {
   "cell_type": "code",
   "execution_count": null,
   "id": "0bfc7447-c8e3-4694-a2bf-41616fc83c68",
   "metadata": {},
   "outputs": [],
   "source": [
    "x1._hdu[1].header"
   ]
  },
  {
   "cell_type": "code",
   "execution_count": null,
   "id": "fd24dad1-c872-4387-bc56-cb88fa283dd5",
   "metadata": {},
   "outputs": [],
   "source": [
    "x1 = GBTFITSLoad(\"/tmp/foobar.fits\")\n",
    "#x1.nrows(0),x1._hdu[1].header\n",
    "x1.summary()"
   ]
  },
  {
   "cell_type": "code",
   "execution_count": null,
   "id": "d578fd92-582c-4c18-b923-f5316643f6bd",
   "metadata": {},
   "outputs": [],
   "source": [
    "x1 = GBTFITSLoad(\"/tmp/onerows.fits\")\n",
    "x1.nrows(0),x1._hdu[1].header\n",
    "x1.summary()"
   ]
  },
  {
   "cell_type": "code",
   "execution_count": null,
   "id": "3d949978-290f-4f95-8fd6-ff5ad6c45f31",
   "metadata": {},
   "outputs": [],
   "source": [
    "spec4 = p.getspec(4)\n",
    "sp = SpectrumPlot(spec4)\n",
    "sp.plot()"
   ]
  },
  {
   "cell_type": "markdown",
   "id": "f90741e3-6146-4df4-89d5-8b6be6f00e22",
   "metadata": {},
   "source": [
    "## Get a position switch scan and calibrate it.\n",
    "The default ifnum=0, plnum=0"
   ]
  },
  {
   "cell_type": "code",
   "execution_count": null,
   "id": "610d6c4d-54fc-4f56-beb5-10eb3d848781",
   "metadata": {},
   "outputs": [],
   "source": [
    "# eventually this will have calibrate=True as the default, so you don't need to call calibrate().\n",
    "psscan = p.getps(152)"
   ]
  },
  {
   "cell_type": "code",
   "execution_count": null,
   "id": "de023f21-2f5c-4466-b55a-f3c5ff351e61",
   "metadata": {},
   "outputs": [],
   "source": [
    "psscan.calibrate()"
   ]
  },
  {
   "cell_type": "markdown",
   "id": "6e3b0bc9-9d5c-4bb6-9075-26b9086cf7f9",
   "metadata": {},
   "source": [
    "### the raw calibrated numpy array"
   ]
  },
  {
   "cell_type": "code",
   "execution_count": null,
   "id": "54ecbe9e-2992-47a6-aa0e-06f7c66211a8",
   "metadata": {},
   "outputs": [],
   "source": []
  },
  {
   "cell_type": "code",
   "execution_count": null,
   "id": "35764215-5cf3-4b61-9955-41f324e06f8f",
   "metadata": {},
   "outputs": [],
   "source": [
    "psscan._calibrated"
   ]
  },
  {
   "cell_type": "markdown",
   "id": "209c6253-4ed1-4135-9e87-1ebaec734f21",
   "metadata": {},
   "source": [
    "### A single integration of the calibrated Spectrum"
   ]
  },
  {
   "cell_type": "code",
   "execution_count": null,
   "id": "54b6cea7-d0be-484f-9363-35d90a146226",
   "metadata": {},
   "outputs": [],
   "source": [
    "spec1 = psscan.calibrated(3)\n",
    "sp = SpectrumPlot(spec1)\n",
    "sp.plot(xaxis_unit=\"km/s\")"
   ]
  },
  {
   "cell_type": "markdown",
   "id": "5e37156f-3a6c-4d52-bc65-97dd7901df68",
   "metadata": {},
   "source": [
    "### The average spectrum.  \n",
    "You can plot with equal weights or $T_{sys}$ weighting (the default)\n",
    "Compare this with GBTIDL `getps, 152`"
   ]
  },
  {
   "cell_type": "code",
   "execution_count": null,
   "id": "32d6bb9c-eead-4db0-b7e1-7a6ba171ad94",
   "metadata": {},
   "outputs": [],
   "source": [
    "t=psscan.timeaverage(weights=None)\n",
    "t.plot()\n",
    "print(f\"T_sys = {np.mean(psscan.tsys)}\")"
   ]
  },
  {
   "cell_type": "code",
   "execution_count": null,
   "id": "3a01abdb-78ab-4e6d-bb56-d5ab0415c2e4",
   "metadata": {},
   "outputs": [],
   "source": [
    "t=psscan.timeaverage(weights='tsys').plot()"
   ]
  },
  {
   "cell_type": "markdown",
   "id": "5882f438-270b-4d33-83f5-60147f8d662f",
   "metadata": {},
   "source": [
    "### Try a different polarization and IF and use the OFF scan number\n",
    "GBTIDL `getps, 153, ifnum=1, plnum=1`"
   ]
  },
  {
   "cell_type": "code",
   "execution_count": null,
   "id": "4e81e83c-ad8d-4a3d-a49e-782da34768f1",
   "metadata": {},
   "outputs": [],
   "source": [
    "psscan = p.getps(152,plnum=1,ifnum=1)\n",
    "psscan.calibrate()"
   ]
  },
  {
   "cell_type": "code",
   "execution_count": null,
   "id": "930f1d34-f799-4452-9b18-06be3d9df9a8",
   "metadata": {},
   "outputs": [],
   "source": [
    "psscan.timeaverage().plot()\n",
    "print(f\"T_sys = {np.mean(psscan.tsys)}\")"
   ]
  },
  {
   "cell_type": "markdown",
   "id": "766d2e53-ed56-4d91-adc2-e9fea759519d",
   "metadata": {},
   "source": [
    "### mixed FS and PS\n"
   ]
  },
  {
   "cell_type": "code",
   "execution_count": null,
   "id": "a457e2d6-c150-4789-a90a-5f7bb16032e9",
   "metadata": {},
   "outputs": [],
   "source": [
    "f = datadir + '/examples/mixed-fs-ps/data/AGBT16B_225_05/AGBT16B_225_05.raw.vegas/AGBT16B_225_05.raw.vegas.A.fits'\n",
    "p = GBTFITSLoad(f)\n",
    "p.info()\n",
    "p.summary()"
   ]
  },
  {
   "cell_type": "code",
   "execution_count": null,
   "id": "93e4d97e-9de8-42db-98e8-d375dd0b2665",
   "metadata": {},
   "outputs": [],
   "source": [
    "p.gettp(6,sig=True,cal=False,ifnum=1,plnum=1)#.timeaverage().plot()\n"
   ]
  },
  {
   "cell_type": "markdown",
   "id": "45a07714-7c30-497b-9a18-a5bec99d308d",
   "metadata": {},
   "source": [
    "--------------------------------"
   ]
  },
  {
   "cell_type": "markdown",
   "id": "4a82fa07-caed-43e3-81d4-1028e333ac4d",
   "metadata": {},
   "source": [
    "# SubbeamNOD KPFA Data "
   ]
  },
  {
   "cell_type": "code",
   "execution_count": 2,
   "id": "8b47fcfb-a9f5-4dc9-9794-bf4612377e71",
   "metadata": {},
   "outputs": [
    {
     "name": "stdout",
     "output_type": "stream",
     "text": [
      "Filename: /data/gbt/examples/subbeamnod-Ka/data/TRCO_230413_Ka.raw.vegas/TRCO_230413_Ka.raw.vegas.A.fits\n",
      "No.    Name      Ver    Type      Cards   Dimensions   Format\n",
      "  0  PRIMARY       1 PrimaryHDU      12   ()      \n",
      "  1  SINGLE DISH    1 BinTableHDU    245   5280R x 74C   ['32A', '1D', '22A', '1D', '1D', '1D', '1024E', '16A', '6A', '8A', '1D', '1D', '1D', '4A', '1D', '4A', '1D', '1I', '32A', '32A', '1J', '32A', '16A', '1E', '8A', '1D', '1D', '1D', '1D', '1D', '1D', '1D', '1D', '1D', '1D', '1D', '1D', '8A', '1D', '1D', '12A', '1I', '1I', '1D', '1D', '1I', '1A', '1I', '1I', '16A', '16A', '1J', '1J', '22A', '1D', '1D', '1I', '1A', '1D', '1E', '1D', '1D', '1D', '1D', '1D', '1A', '1A', '8A', '1E', '1E', '16A', '1I', '1I', '1I']   \n"
     ]
    },
    {
     "name": "stderr",
     "output_type": "stream",
     "text": [
      "WARNING: UnitsWarning: 'mmHg' did not parse as fits unit: At col 0, Unit 'mmHg' not supported by the FITS standard.  If this is meant to be a custom unit, define it with 'u.def_unit'. To have it recognized inside a file reader or other code, enable it with 'u.add_enabled_units'. For details, see https://docs.astropy.org/en/latest/units/combining_and_defining.html [astropy.units.core]\n",
      "WARNING: UnitsWarning: 'UTC' did not parse as fits unit: At col 0, Unit 'UTC' not supported by the FITS standard. Did you mean TC, uC or uT? If this is meant to be a custom unit, define it with 'u.def_unit'. To have it recognized inside a file reader or other code, enable it with 'u.add_enabled_units'. For details, see https://docs.astropy.org/en/latest/units/combining_and_defining.html [astropy.units.core]\n"
     ]
    }
   ],
   "source": [
    "datadir = \"/data/gbt/\"\n",
    "f = datadir + 'examples/subbeamnod-Ka/data/TRCO_230413_Ka.raw.vegas/TRCO_230413_Ka.raw.vegas.A.fits'\n",
    "pnod = GBTFITSLoad(f)\n",
    "pnod.info()"
   ]
  },
  {
   "cell_type": "code",
   "execution_count": 28,
   "id": "b1d417e9-e240-45d2-b59a-6be35669dea5",
   "metadata": {},
   "outputs": [
    {
     "name": "stdout",
     "output_type": "stream",
     "text": [
      "S  480\n",
      "C  240\n",
      "I  240\n",
      "P  120\n",
      "F  120\n",
      "SR  46\n",
      "46\n",
      "TPSCAN nrows = 46\n",
      "# scanrows 46, # calrows ON 46  # calrows OFF 46\n",
      "S  480\n",
      "C  240\n",
      "I  240\n",
      "P  120\n",
      "F  120\n",
      "SR  47\n",
      "47\n",
      "TPSCAN nrows = 47\n",
      "# scanrows 47, # calrows ON 47  # calrows OFF 47\n"
     ]
    },
    {
     "data": {
      "image/png": "[encoded data removed]",
      "text/plain": [
       "<Figure size 640x480 with 1 Axes>"
      ]
     },
     "metadata": {},
     "output_type": "display_data"
    }
   ],
   "source": [
    "ifnum=0\n",
    "plnum=0\n",
    "fdnum=1\n",
    "scan=46\n",
    "tsys = {43:92.62,46:91.72}\n",
    "bintable=0\n",
    "weights='equal'\n",
    "tpon  = pnod.gettp(scan,sig=True,cal=False,bintable=bintable,fdnum=fdnum,plnum=plnum,ifnum=ifnum,subref=-1)\n",
    "tpoff = pnod.gettp(scan,sig=True,cal=False,bintable=bintable,fdnum=fdnum,plnum=plnum,ifnum=ifnum,subref=1)\n",
    "on  =  tpon.timeaverage(weights=weights)\n",
    "off = tpoff.timeaverage(weights=weights)\n",
    "idl=tsys[scan]*(on-off)/off\n",
    "idl.plot()"
   ]
  },
  {
   "cell_type": "code",
   "execution_count": 29,
   "id": "36135e5f-657e-4331-b8af-9ce8c62400d6",
   "metadata": {},
   "outputs": [
    {
     "name": "stdout",
     "output_type": "stream",
     "text": [
      "S  480\n",
      "C  240\n",
      "I  240\n",
      "P  120\n",
      "F  120\n",
      "120\n",
      "TPSCAN nrows = 120\n",
      "# scanrows 120, # calrows ON 120  # calrows OFF 120\n"
     ]
    },
    {
     "data": {
      "text/plain": [
       "91.09067474728589"
      ]
     },
     "execution_count": 29,
     "metadata": {},
     "output_type": "execute_result"
    }
   ],
   "source": [
    "tpp=pnod.gettp(scan,sig=True,cal=False,bintable=bintable,fdnum=fdnum,plnum=plnum,ifnum=ifnum)\n",
    "tpp.timeaverage(weights=weights).meta['TSYS']\n",
    "np.mean(tpp.tsys)"
   ]
  },
  {
   "cell_type": "code",
   "execution_count": 30,
   "id": "f179de1b-10ab-4119-bb34-fa840940ce74",
   "metadata": {},
   "outputs": [
    {
     "name": "stdout",
     "output_type": "stream",
     "text": [
      "S  480\n",
      "C  240\n",
      "I  240\n",
      "P  120\n",
      "F  120\n",
      "SR  46\n",
      "46\n",
      "TPSCAN nrows = 46\n",
      "# scanrows 46, # calrows ON 46  # calrows OFF 46\n",
      "S  480\n",
      "C  240\n",
      "I  240\n",
      "P  120\n",
      "F  120\n",
      "SR  47\n",
      "47\n",
      "TPSCAN nrows = 47\n",
      "# scanrows 47, # calrows ON 47  # calrows OFF 47\n",
      "Tsys(ON) = 111.63286970607624, Tsys(OFF) = 82.47435181946841, meanTsys = 97.05361076277232\n"
     ]
    }
   ],
   "source": [
    "s=pnod.getnod_ka(scan=scan,ifnum=ifnum,fdnum=fdnum,weights=weights)"
   ]
  },
  {
   "cell_type": "code",
   "execution_count": 31,
   "id": "f652e3db-8401-4791-801f-ec91375bbf7e",
   "metadata": {},
   "outputs": [
    {
     "name": "stdout",
     "output_type": "stream",
     "text": [
      "(<Quantity 34.55849491>, 6.931331727845184, <Quantity -0.70420668>, <Quantity 45.97344765>)\n",
      "[1.05815101 1.05815101 1.05815101 ... 1.05815101 1.05815101 1.05815101]\n",
      "(<Quantity 1.05815101>, 2.1599919653272043e-16, <Quantity 1.05815101>, <Quantity 1.05815101>)\n",
      "1.0581510113690833\n"
     ]
    },
    {
     "data": {
      "image/png": "[encoded data removed]",
      "text/plain": [
       "<Figure size 640x480 with 1 Axes>"
      ]
     },
     "metadata": {},
     "output_type": "display_data"
    },
    {
     "data": {
      "image/png": "[encoded data removed]",
      "text/plain": [
       "<Figure size 640x480 with 1 Axes>"
      ]
     },
     "metadata": {},
     "output_type": "display_data"
    }
   ],
   "source": [
    "print(s.stats())\n",
    "s.plot()\n",
    "diff=s/idl\n",
    "diff.plot()\n",
    "print(diff.data)\n",
    "print(diff.stats())\n",
    "print(s.meta['TSYS']/tsys[scan])"
   ]
  },
  {
   "cell_type": "markdown",
   "id": "44542afe-67b9-473d-bcbc-7d5a75c71b41",
   "metadata": {},
   "source": [
    "-----\n",
    "# Debugging from here down."
   ]
  }
 ],
 "metadata": {
  "kernelspec": {
   "display_name": "Python 3 (ipykernel)",
   "language": "python",
   "name": "python3"
  },
  "language_info": {
   "codemirror_mode": {
    "name": "ipython",
    "version": 3
   },
   "file_extension": ".py",
   "mimetype": "text/x-python",
   "name": "python",
   "nbconvert_exporter": "python",
   "pygments_lexer": "ipython3",
   "version": "3.10.9"
  }
 },
 "nbformat": 4,
 "nbformat_minor": 5
}
