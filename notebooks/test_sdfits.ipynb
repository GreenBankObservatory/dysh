{
 "cells": [
  {
   "cell_type": "code",
   "execution_count": 1,
   "id": "33dc10af-604c-4f14-9711-df5ad136f764",
   "metadata": {},
   "outputs": [],
   "source": [
    "from dysh.spectra.spectrum import Spectrum\n",
    "import numpy as np\n",
    "from scipy.stats import norm\n",
    "import astropy.units as u\n",
    "import matplotlib.pyplot as plt\n",
    "from dysh.fits.sdfitsload import SDFITSLoad\n",
    "from dysh.fits.gbtfitsload import GBTFITSLoad\n",
    "from dysh.spectra.scan import PSScan, GBTPSScan\n",
    "import pandas\n",
    "from copy import deepcopy\n",
    "pandas.set_option('display.max_rows', 100)\n",
    "from astropy.modeling.fitting import LevMarLSQFitter,LinearLSQFitter\n",
    "from specutils import Spectrum1D, SpectrumList,SpectralRegion\n",
    "from astropy.nddata import StdDevUncertainty\n",
    "from specutils.fitting import fit_continuum\n",
    "import matplotlib.pyplot as plt\n",
    "from dysh.spectra import dcmeantsys\n",
    "from dysh.plot.specplot import SpectrumPlot\n",
    "from astropy.io import fits\n",
    "from astropy.table import Table\n",
    "import pandas as pd\n",
    "#%matplotlib notebook"
   ]
  },
  {
   "cell_type": "markdown",
   "id": "3555b4b0-097b-4ab6-81d3-6315a6cbaa27",
   "metadata": {},
   "source": [
    "-------------"
   ]
  },
  {
   "cell_type": "markdown",
   "id": "d478a858-dec8-448c-a64a-e8f55108fe5f",
   "metadata": {},
   "source": [
    "# 1. GBTFITSLoad and position-switch calibration testing\n",
    "change to use your specific `datadir`"
   ]
  },
  {
   "cell_type": "code",
   "execution_count": 2,
   "id": "4b0df155-ab44-48a7-8655-2532e051d901",
   "metadata": {},
   "outputs": [
    {
     "name": "stdout",
     "output_type": "stream",
     "text": [
      "Filename: /data/gbt/examples/onoff-L/data/TGBT21A_501_11.raw.vegas.fits\n",
      "No.    Name      Ver    Type      Cards   Dimensions   Format\n",
      "  0  PRIMARY       1 PrimaryHDU      12   ()      \n",
      "  1  SINGLE DISH    1 BinTableHDU    245   6040R x 74C   ['32A', '1D', '22A', '1D', '1D', '1D', '32768E', '16A', '6A', '8A', '1D', '1D', '1D', '4A', '1D', '4A', '1D', '1I', '32A', '32A', '1J', '32A', '16A', '1E', '8A', '1D', '1D', '1D', '1D', '1D', '1D', '1D', '1D', '1D', '1D', '1D', '1D', '8A', '1D', '1D', '12A', '1I', '1I', '1D', '1D', '1I', '1A', '1I', '1I', '16A', '16A', '1J', '1J', '22A', '1D', '1D', '1I', '1A', '1D', '1E', '1D', '1D', '1D', '1D', '1D', '1A', '1A', '8A', '1E', '1E', '16A', '1I', '1I', '1I']   \n"
     ]
    },
    {
     "name": "stderr",
     "output_type": "stream",
     "text": [
      "WARNING: UnitsWarning: 'mmHg' did not parse as fits unit: At col 0, Unit 'mmHg' not supported by the FITS standard.  If this is meant to be a custom unit, define it with 'u.def_unit'. To have it recognized inside a file reader or other code, enable it with 'u.add_enabled_units'. For details, see https://docs.astropy.org/en/latest/units/combining_and_defining.html [astropy.units.core]\n",
      "WARNING: UnitsWarning: 'UTC' did not parse as fits unit: At col 0, Unit 'UTC' not supported by the FITS standard. Did you mean TC, uC or uT? If this is meant to be a custom unit, define it with 'u.def_unit'. To have it recognized inside a file reader or other code, enable it with 'u.add_enabled_units'. For details, see https://docs.astropy.org/en/latest/units/combining_and_defining.html [astropy.units.core]\n"
     ]
    }
   ],
   "source": [
    "datadir = '/data/gbt'\n",
    "#f = datadir + '/examples/misc/ngc5291.fits'\n",
    "f = datadir + '/examples/onoff-L/data/TGBT21A_501_11.raw.vegas.fits'\n",
    "#f = datadir + 'examples/nod-KFPA/data/TGBT22A_503_02.raw.vegas/TGBT22A_503_02.raw.vegas.A.fits'\n",
    "#f = datadir + '/examples/mixed-fs-ps/data/AGBT16B_225_05/AGBT16B_225_05.raw.vegas/AGBT16B_225_05.raw.vegas.A.fits'\n",
    "p = GBTFITSLoad(f)\n",
    "p.info()"
   ]
  },
  {
   "cell_type": "code",
   "execution_count": 3,
   "id": "8645bfaf-1749-400a-8ab5-ccd1f31d0da9",
   "metadata": {},
   "outputs": [
    {
     "data": {
      "text/html": [
       "<div>\n",
       "<style scoped>\n",
       "    .dataframe tbody tr th:only-of-type {\n",
       "        vertical-align: middle;\n",
       "    }\n",
       "\n",
       "    .dataframe tbody tr th {\n",
       "        vertical-align: top;\n",
       "    }\n",
       "\n",
       "    .dataframe thead th {\n",
       "        text-align: right;\n",
       "    }\n",
       "</style>\n",
       "<table border=\"1\" class=\"dataframe\">\n",
       "  <thead>\n",
       "    <tr style=\"text-align: right;\">\n",
       "      <th></th>\n",
       "      <th>SCAN</th>\n",
       "      <th>OBJECT</th>\n",
       "      <th>VELOCITY</th>\n",
       "      <th>PROC</th>\n",
       "      <th>PROCSEQN</th>\n",
       "      <th>RESTFREQ</th>\n",
       "      <th>DOPFREQ</th>\n",
       "      <th># IF</th>\n",
       "      <th># POL</th>\n",
       "      <th># INT</th>\n",
       "      <th># FEED</th>\n",
       "      <th>AZIMUTH</th>\n",
       "      <th>ELEVATIO</th>\n",
       "    </tr>\n",
       "  </thead>\n",
       "  <tbody>\n",
       "    <tr>\n",
       "      <th>0</th>\n",
       "      <td>152.0</td>\n",
       "      <td>NGC2415</td>\n",
       "      <td>3784.0</td>\n",
       "      <td>OnOff</td>\n",
       "      <td>1.0</td>\n",
       "      <td>1.617185</td>\n",
       "      <td>1.420406</td>\n",
       "      <td>5</td>\n",
       "      <td>2</td>\n",
       "      <td>151</td>\n",
       "      <td>1</td>\n",
       "      <td>286.218008</td>\n",
       "      <td>41.62843</td>\n",
       "    </tr>\n",
       "    <tr>\n",
       "      <th>1</th>\n",
       "      <td>153.0</td>\n",
       "      <td>NGC2415</td>\n",
       "      <td>3784.0</td>\n",
       "      <td>OnOff</td>\n",
       "      <td>2.0</td>\n",
       "      <td>1.617185</td>\n",
       "      <td>1.420406</td>\n",
       "      <td>5</td>\n",
       "      <td>2</td>\n",
       "      <td>151</td>\n",
       "      <td>1</td>\n",
       "      <td>286.886521</td>\n",
       "      <td>41.118134</td>\n",
       "    </tr>\n",
       "  </tbody>\n",
       "</table>\n",
       "</div>"
      ],
      "text/plain": [
       "    SCAN   OBJECT VELOCITY   PROC PROCSEQN  RESTFREQ   DOPFREQ # IF # POL  \\\n",
       "0  152.0  NGC2415   3784.0  OnOff      1.0  1.617185  1.420406    5     2   \n",
       "1  153.0  NGC2415   3784.0  OnOff      2.0  1.617185  1.420406    5     2   \n",
       "\n",
       "  # INT # FEED     AZIMUTH   ELEVATIO  \n",
       "0   151      1  286.218008   41.62843  \n",
       "1   151      1  286.886521  41.118134  "
      ]
     },
     "execution_count": 3,
     "metadata": {},
     "output_type": "execute_result"
    }
   ],
   "source": [
    "p.summary()"
   ]
  },
  {
   "cell_type": "markdown",
   "id": "ffb7a280-7756-45be-8d81-9b79e1b98419",
   "metadata": {},
   "source": [
    "-----------------------------\n",
    "# debugging total power stuff"
   ]
  },
  {
   "cell_type": "code",
   "execution_count": 4,
   "id": "aea39a93-057a-4617-900d-5a53b743748c",
   "metadata": {},
   "outputs": [
    {
     "data": {
      "text/plain": [
       "(0, 32768)"
      ]
     },
     "execution_count": 4,
     "metadata": {},
     "output_type": "execute_result"
    }
   ],
   "source": [
    "scanlist = [6]\n",
    "df = p._ptable[0]\n",
    "tpscan = p.rawspectra(0)[list(df[(df[\"SCAN\"].isin(scanlist)) & (df['CAL']=='F') & (df['SIG']=='T')].index)]\n",
    "np.shape(tpscan)"
   ]
  },
  {
   "cell_type": "code",
   "execution_count": 5,
   "id": "cbefcd4d-c784-439a-98a2-fb301a9e2a2e",
   "metadata": {},
   "outputs": [],
   "source": [
    "if False:\n",
    "    class TPScan(object):\n",
    "        \"\"\"\n",
    "        Holds a total power scan, honestly how is this different than a PS scan\n",
    "\n",
    "        Parameters\n",
    "        ----------\n",
    "            sdfits : ~SDFITSLoad\n",
    "                input SDFITSLoad object (or derivative)\n",
    "            scan: int\n",
    "                scan number\n",
    "            sig_state : str\n",
    "                one of 'SIG' or 'REF' to indicate if this is the signal or reference scan\n",
    "            scanrows : list-like\n",
    "                the list of rows in `sdfits` corresponding to sig_state integrations \n",
    "            bintable : int\n",
    "                the index for BINTABLE in `sdfits` containing the scans\n",
    "        \"\"\"\n",
    "        def __init__(self, sdfits, scan, sig_state, scanrows, bintable):\n",
    "            self._sdfits = sdfits # parent class\n",
    "            self._status = 0 #@TODO make these an enumeration, possibly dict\n",
    "            #                           # ex1:\n",
    "            self._nint = 0              # 11\n",
    "            self._npol = 0              #  2\n",
    "            self._sig = None            # 44\n",
    "            self._ref= None             # 44\n",
    "            self._calibrated = None     # 22\n",
    "            self._timeaveraged = None   #  2\n",
    "            self._polaveraged = None    #  1\n",
    "            self._bintable_index = bintable\n",
    "            self._nrows = len(scanrows['SIG'])\n",
    "            print(f\"TPSCAN nrows = {self.nrows}\")\n",
    "\n",
    "        @property\n",
    "        def status(self):\n",
    "            \"\"\"Status flag, will be used later for undo\"\"\"\n",
    "            return self._status\n",
    "\n",
    "        @property\n",
    "        def nrows(self):\n",
    "            \"\"\"The number of rows in this Scan\"\"\"\n",
    "            return self._nrows\n",
    "\n",
    "        @property\n",
    "        def npol(self):\n",
    "            \"\"\"The number of polarizations in this Scan\"\"\"\n",
    "            return self._npol\n",
    "\n",
    "        #@TODO write calibrated data to a FITS? file.\n",
    "        #def write(self,filename,format,**kwargs):\n",
    "\n",
    "        def __len__(self):\n",
    "            return self._nrows\n"
   ]
  },
  {
   "cell_type": "code",
   "execution_count": 7,
   "id": "e0cd284a-ca60-4ba5-816c-2e19e08574ec",
   "metadata": {},
   "outputs": [
    {
     "data": {
      "text/plain": [
       "151"
      ]
     },
     "execution_count": 7,
     "metadata": {},
     "output_type": "execute_result"
    }
   ],
   "source": [
    "d=p.calonoff_rows(scans=152,bintable=0,ifnum=0,plnum=0)\n",
    "len(d['ON'])"
   ]
  },
  {
   "cell_type": "code",
   "execution_count": 11,
   "id": "b2f4a250-ec5f-4a30-a348-d966bb486405",
   "metadata": {},
   "outputs": [
    {
     "name": "stdout",
     "output_type": "stream",
     "text": [
      "151\n",
      "TPSCAN nrows = 151\n"
     ]
    },
    {
     "data": {
      "text/plain": [
       "array([17.45805392, 17.4667357 , 17.51221928, 17.4754147 , 17.27344124,\n",
       "       17.23664637, 17.42674345, 17.50969773, 17.36458603, 17.41340577,\n",
       "       17.27404075, 17.36085714, 17.28454048, 17.30618109, 17.14631619,\n",
       "       16.99965576, 17.54035873, 17.21348618, 17.39550931, 17.38196485,\n",
       "       17.4854426 , 17.42790778, 17.15065431, 17.20435199, 17.44797606,\n",
       "       17.15114418, 17.30894688, 17.3141454 , 17.10243963, 17.4810351 ,\n",
       "       17.29237157, 17.23753315, 17.5246924 , 17.3108259 , 17.19219528,\n",
       "       17.09618503, 17.34704484, 17.13676429, 17.38384526, 17.48417142,\n",
       "       17.22028478, 17.50097571, 17.32987002, 17.26765015, 17.40924251,\n",
       "       17.19881764, 17.4766609 , 17.21482952, 17.36519109, 17.46644011,\n",
       "       17.25167018, 17.18425595, 17.250671  , 17.17091688, 17.13623695,\n",
       "       17.36259599, 17.24760407, 17.27883821, 17.25393638, 17.19083945,\n",
       "       17.36394905, 17.14476191, 17.48024963, 17.17207704, 17.36090432,\n",
       "       17.42563464, 17.5077979 , 17.37680797, 17.28915614, 17.18587962,\n",
       "       17.40009584, 17.63290516, 17.3575987 , 17.2679166 , 17.19072704,\n",
       "       17.44633019, 17.39411879, 17.47531062, 17.24234865, 17.30600207,\n",
       "       17.13166847, 17.21899694, 17.2412662 , 17.41823931, 17.10318208,\n",
       "       17.49869286, 17.38269065, 17.23877657, 17.42478256, 17.32355852,\n",
       "       17.26694239, 17.35178818, 17.28742978, 17.49182071, 17.39757568,\n",
       "       17.18094616, 17.18381603, 17.27998588, 17.25867833, 17.47777388,\n",
       "       17.38135702, 17.34971349, 17.28273918, 17.2507501 , 17.27804441,\n",
       "       17.39353038, 17.24526432, 17.24286489, 17.07736156, 17.27941412,\n",
       "       17.27902278, 17.36315387, 17.52972439, 17.38010665, 17.33803833,\n",
       "       17.47822213, 17.42754141, 17.49486544, 17.28925051, 17.44242922,\n",
       "       17.31987543, 17.49941033, 17.11423413, 17.38452387, 17.24294538,\n",
       "       17.19842074, 17.37165524, 17.21081753, 17.19458499, 17.31708743,\n",
       "       17.0136221 , 17.48412007, 17.34312861, 17.34779284, 17.50201375,\n",
       "       17.01366234, 17.44470513, 17.45469834, 17.39510964, 17.38077971,\n",
       "       17.17591278, 17.43925127, 17.2164185 , 17.24978839, 17.27576989,\n",
       "       17.1910379 , 17.37761147, 17.34427211, 17.30348885, 17.26162869,\n",
       "       17.36542285])"
      ]
     },
     "execution_count": 11,
     "metadata": {},
     "output_type": "execute_result"
    }
   ],
   "source": [
    "tps = p.gettp(scan=152,sig=True,cal=False,bintable=0,ifnum=0,plnum=0)\n",
    "tps.tsys"
   ]
  },
  {
   "cell_type": "markdown",
   "id": "36a3ec8e-fe7e-4b7e-ad42-c017dbd8f0b8",
   "metadata": {},
   "source": [
    "-----------------------------"
   ]
  },
  {
   "cell_type": "code",
   "execution_count": null,
   "id": "9c704493-a7b9-43aa-a846-edff98bdbe4c",
   "metadata": {},
   "outputs": [],
   "source": [
    "\n",
    "p.summary(verbose=False)"
   ]
  },
  {
   "cell_type": "code",
   "execution_count": null,
   "id": "37ea3427-fb57-4e98-bedf-5367a7b08f26",
   "metadata": {},
   "outputs": [],
   "source": [
    "p.summary(verbose=True)"
   ]
  },
  {
   "cell_type": "code",
   "execution_count": null,
   "id": "624a2a5b-6e07-44c4-8567-3e9db756389c",
   "metadata": {},
   "outputs": [],
   "source": [
    "help(p.summary)"
   ]
  },
  {
   "cell_type": "markdown",
   "id": "af69d02a-187c-416d-adc2-ce1eae9feaa6",
   "metadata": {},
   "source": [
    "## Try writing scans or records to FITS files and reading them back in\n"
   ]
  },
  {
   "cell_type": "code",
   "execution_count": null,
   "id": "91a81062-6c6d-4b0d-9676-0b0ffbe994be",
   "metadata": {},
   "outputs": [],
   "source": [
    "scanlist = [152]"
   ]
  },
  {
   "cell_type": "code",
   "execution_count": null,
   "id": "862cf89f-42b0-491a-908e-bb85e2cfa2da",
   "metadata": {},
   "outputs": [],
   "source": [
    "p.write_scans(\"/tmp/scans.fits\",overwrite=True,checksum=True,output_verify='fix',scans=scanlist)"
   ]
  },
  {
   "cell_type": "code",
   "execution_count": null,
   "id": "ba235225-ccc4-4275-a665-68a44d46c2be",
   "metadata": {},
   "outputs": [],
   "source": [
    "p.write(\"/tmp/foobar.fits\",overwrite=True,rows=[11,15,37,99],bintable=0)\n",
    "p.write(\"/tmp/onerows.fits\",overwrite=True,rows=15,bintable=0)"
   ]
  },
  {
   "cell_type": "code",
   "execution_count": null,
   "id": "59d10bdf-5c20-4d4e-abf9-97df4b5d3541",
   "metadata": {},
   "outputs": [],
   "source": [
    "x1 = fits.open(\"/tmp/scans.fits\")\n",
    "x1.info()"
   ]
  },
  {
   "cell_type": "code",
   "execution_count": null,
   "id": "8ebae3d0-6ccc-46f7-93f5-13c11ed3b605",
   "metadata": {},
   "outputs": [],
   "source": [
    "x1[1].header"
   ]
  },
  {
   "cell_type": "code",
   "execution_count": null,
   "id": "a20f0815-f5f3-4d38-ba4d-6a288f4a0cff",
   "metadata": {},
   "outputs": [],
   "source": [
    "x1 = GBTFITSLoad(\"/tmp/scans.fits\")\n",
    "#x1._ptable[0]\n",
    "x1._hdu.info()"
   ]
  },
  {
   "cell_type": "code",
   "execution_count": null,
   "id": "0bfc7447-c8e3-4694-a2bf-41616fc83c68",
   "metadata": {},
   "outputs": [],
   "source": [
    "x1._hdu[1].header"
   ]
  },
  {
   "cell_type": "code",
   "execution_count": null,
   "id": "fd24dad1-c872-4387-bc56-cb88fa283dd5",
   "metadata": {},
   "outputs": [],
   "source": [
    "x1 = GBTFITSLoad(\"/tmp/foobar.fits\")\n",
    "#x1.nrows(0),x1._hdu[1].header\n",
    "x1.summary()"
   ]
  },
  {
   "cell_type": "code",
   "execution_count": null,
   "id": "d578fd92-582c-4c18-b923-f5316643f6bd",
   "metadata": {},
   "outputs": [],
   "source": [
    "x1 = GBTFITSLoad(\"/tmp/onerows.fits\")\n",
    "x1.nrows(0),x1._hdu[1].header\n",
    "x1.summary()"
   ]
  },
  {
   "cell_type": "code",
   "execution_count": null,
   "id": "3d949978-290f-4f95-8fd6-ff5ad6c45f31",
   "metadata": {},
   "outputs": [],
   "source": [
    "spec4 = p.getspec(4)\n",
    "sp = SpectrumPlot(spec4)\n",
    "sp.plot()"
   ]
  },
  {
   "cell_type": "markdown",
   "id": "f90741e3-6146-4df4-89d5-8b6be6f00e22",
   "metadata": {},
   "source": [
    "## Get a position switch scan and calibrate it.\n",
    "The default ifnum=0, plnum=0"
   ]
  },
  {
   "cell_type": "code",
   "execution_count": null,
   "id": "610d6c4d-54fc-4f56-beb5-10eb3d848781",
   "metadata": {},
   "outputs": [],
   "source": [
    "# eventually this will have calibrate=True as the default, so you don't need to call calibrate().\n",
    "psscan = p.getps(152)"
   ]
  },
  {
   "cell_type": "code",
   "execution_count": null,
   "id": "de023f21-2f5c-4466-b55a-f3c5ff351e61",
   "metadata": {},
   "outputs": [],
   "source": [
    "psscan.calibrate()"
   ]
  },
  {
   "cell_type": "markdown",
   "id": "6e3b0bc9-9d5c-4bb6-9075-26b9086cf7f9",
   "metadata": {},
   "source": [
    "### the raw calibrated numpy array"
   ]
  },
  {
   "cell_type": "code",
   "execution_count": null,
   "id": "35764215-5cf3-4b61-9955-41f324e06f8f",
   "metadata": {},
   "outputs": [],
   "source": [
    "psscan._calibrated[0]"
   ]
  },
  {
   "cell_type": "markdown",
   "id": "209c6253-4ed1-4135-9e87-1ebaec734f21",
   "metadata": {},
   "source": [
    "### A single integration of the calibrated Spectrum"
   ]
  },
  {
   "cell_type": "code",
   "execution_count": null,
   "id": "c83feceb-7435-4231-a0bd-cd177ad96e6f",
   "metadata": {},
   "outputs": [],
   "source": [
    "spec1 = psscan.calibrated(0)\n",
    "spec1.unit == u.K"
   ]
  },
  {
   "cell_type": "code",
   "execution_count": null,
   "id": "54b6cea7-d0be-484f-9363-35d90a146226",
   "metadata": {},
   "outputs": [],
   "source": [
    "sp = SpectrumPlot(spec1)\n",
    "sp.plot(xaxis_unit=\"km/s\")"
   ]
  },
  {
   "cell_type": "code",
   "execution_count": null,
   "id": "4b7446a8-a455-4a78-b8fb-7f318fba399d",
   "metadata": {},
   "outputs": [],
   "source": [
    "if False:\n",
    "    fig,ax = plt.subplots()\n",
    "    ax.set_ylim([-4,4])\n",
    "    ax.plot(spec1.spectral_axis,spec1.flux)\n",
    "    ax.set_xlabel(\"Frequency (GHz)\")\n",
    "    ax.set_ylabel(r\"$T_a$ (K)\")"
   ]
  },
  {
   "cell_type": "code",
   "execution_count": null,
   "id": "78639ed9-1899-4a54-b451-56bd29a350d5",
   "metadata": {},
   "outputs": [],
   "source": [
    "## ignore this\n",
    "if False:\n",
    "    flx = np.mean(psscan._calibrated[np.arange(0,len(psscan._calibrated),4)])\n",
    "    fig,ax = plt.subplots()\n",
    "    ax.set_ylim([-4,4])\n",
    "    ax.plot(psscan.calibrated(0).spectral_axis,flx)\n",
    "    all(psscan.calibrated(0).spectral_axis==psscan.calibrated(3).spectral_axis),all(psscan.calibrated(4).spectral_axis==psscan.calibrated(7).spectral_axis)"
   ]
  },
  {
   "cell_type": "markdown",
   "id": "5e37156f-3a6c-4d52-bc65-97dd7901df68",
   "metadata": {},
   "source": [
    "### The average spectrum.  \n",
    "Note this will be encapsulated in a average() method.\n",
    "Compare this with GBTIDL `getps, 152`"
   ]
  },
  {
   "cell_type": "code",
   "execution_count": null,
   "id": "32d6bb9c-eead-4db0-b7e1-7a6ba171ad94",
   "metadata": {},
   "outputs": [],
   "source": [
    "avg = Spectrum(spectral_axis=psscan.calibrated(0).spectral_axis,flux=np.mean(psscan._calibrated)*u.K)\n",
    "avg.plot()\n",
    "print(f\"T_sys = {np.mean(psscan.tsys)}\")"
   ]
  },
  {
   "cell_type": "markdown",
   "id": "5882f438-270b-4d33-83f5-60147f8d662f",
   "metadata": {},
   "source": [
    "### Try a different polarization and IF and use the OFF scan number\n",
    "GBTIDL `getps, 153, ifnum=1, plnum=1`"
   ]
  },
  {
   "cell_type": "code",
   "execution_count": null,
   "id": "4e81e83c-ad8d-4a3d-a49e-782da34768f1",
   "metadata": {},
   "outputs": [],
   "source": [
    "psscan = p.getps(152,plnum=None,ifnum=1)\n",
    "psscan.calibrate()"
   ]
  },
  {
   "cell_type": "code",
   "execution_count": null,
   "id": "930f1d34-f799-4452-9b18-06be3d9df9a8",
   "metadata": {},
   "outputs": [],
   "source": [
    "avg = Spectrum(spectral_axis=psscan.calibrated(0).spectral_axis,flux=np.mean(psscan._calibrated)*u.K)\n",
    "avg.plot()\n",
    "print(f\"T_sys = {np.mean(psscan.tsys)}\")"
   ]
  },
  {
   "cell_type": "markdown",
   "id": "45a07714-7c30-497b-9a18-a5bec99d308d",
   "metadata": {},
   "source": [
    "--------------------------------"
   ]
  },
  {
   "cell_type": "markdown",
   "id": "4a82fa07-caed-43e3-81d4-1028e333ac4d",
   "metadata": {},
   "source": [
    "# NOD KPFA Data  -- THIS DOESN'T WORK"
   ]
  },
  {
   "cell_type": "code",
   "execution_count": null,
   "id": "8b47fcfb-a9f5-4dc9-9794-bf4612377e71",
   "metadata": {},
   "outputs": [],
   "source": [
    "datadir = \"/data/gbt/\"\n",
    "f = datadir + 'examples/nod-KFPA/data/TGBT22A_503_02.raw.vegas/TGBT22A_503_02.raw.vegas.A.fits'\n",
    "pnod = GBTFITSLoad(f)\n",
    "pnod.info()"
   ]
  },
  {
   "cell_type": "code",
   "execution_count": null,
   "id": "2a16a455-20b0-464a-ad75-756e285ed5c9",
   "metadata": {},
   "outputs": [],
   "source": [
    "p._hdu[1].header"
   ]
  },
  {
   "cell_type": "code",
   "execution_count": null,
   "id": "fe4e07a7-0c30-4a4e-93ac-12d976f9f4ed",
   "metadata": {},
   "outputs": [],
   "source": [
    "\"INSTRUMEN\" in p._ptable[0].columns"
   ]
  },
  {
   "cell_type": "code",
   "execution_count": null,
   "id": "181aeb01-7d38-476a-a7d7-75cd7c9f468a",
   "metadata": {},
   "outputs": [],
   "source": [
    "pnod.getspec(10,0).meta"
   ]
  },
  {
   "cell_type": "code",
   "execution_count": null,
   "id": "93068ad4-515a-4bec-ac35-805910ce72eb",
   "metadata": {},
   "outputs": [],
   "source": [
    "pnod.summary(verbose=True)[0:10]"
   ]
  },
  {
   "cell_type": "code",
   "execution_count": null,
   "id": "f179de1b-10ab-4119-bb34-fa840940ce74",
   "metadata": {},
   "outputs": [],
   "source": []
  },
  {
   "cell_type": "code",
   "execution_count": null,
   "id": "e5962b81-7739-437c-a6e0-934c8f171ccd",
   "metadata": {},
   "outputs": [],
   "source": [
    "pnod._ptable[0].columns"
   ]
  },
  {
   "cell_type": "code",
   "execution_count": null,
   "id": "f146aca9-033c-4c44-ae56-69e9cf8521b4",
   "metadata": {},
   "outputs": [],
   "source": [
    "set(pnod._ptable[0][\"INTNUM\"]),set(pnod._ptable[0][\"FDNUM\"]),set(pnod._ptable[0][\"FEED\"]),set(pnod._ptable[0][\"IFNUM\"]),set(pnod._ptable[0][\"SRFEED\"]),set(pnod._ptable[0][\"SAMPLER\"])"
   ]
  },
  {
   "cell_type": "markdown",
   "id": "44542afe-67b9-473d-bcbc-7d5a75c71b41",
   "metadata": {},
   "source": [
    "-----\n",
    "# Debugging from here down."
   ]
  },
  {
   "cell_type": "code",
   "execution_count": null,
   "id": "b24a1ad3-f497-4c4d-8641-fa09ca97fdf8",
   "metadata": {},
   "outputs": [],
   "source": [
    "df = p._ptable[0]\n",
    "len(p.select('OBJECT','NGC2415',p._ptable[0]))//p.npol(0)"
   ]
  },
  {
   "cell_type": "code",
   "execution_count": null,
   "id": "3cbbb8b7-5703-4a7d-b4aa-813c4a5e9f1c",
   "metadata": {},
   "outputs": [],
   "source": [
    "psscan.meta"
   ]
  },
  {
   "cell_type": "code",
   "execution_count": null,
   "id": "c38dfbf4-9332-44d4-95be-23225a5a8939",
   "metadata": {},
   "outputs": [],
   "source": [
    "p.index(0).iloc[psscan._scanrows[\"OFF\"]][\"CAL\"]"
   ]
  },
  {
   "cell_type": "code",
   "execution_count": null,
   "id": "cb7d1dfc-31ff-4abc-b0fb-e2280dd18f4c",
   "metadata": {},
   "outputs": [],
   "source": [
    "psscan.calibrate()"
   ]
  },
  {
   "cell_type": "code",
   "execution_count": null,
   "id": "545083db-790c-4ded-89eb-4821fb0e1bbd",
   "metadata": {},
   "outputs": [],
   "source": [
    "df = p._ptable[0]\n",
    "scans = [152,153]\n",
    "df2=df[df[\"SCAN\"].isin([152])]\n",
    "df3=df[df[\"SCAN\"].isin([153])]\n",
    "df4=df[df[\"SCAN\"].isin([156])]\n",
    "un = df2.index.union(df3.index)\n",
    "un2=df2.index\n",
    "un3=df3.index\n",
    "df[\"SCAN\"].iloc[un2]\n",
    "df3.reindex(un2).index"
   ]
  },
  {
   "cell_type": "code",
   "execution_count": null,
   "id": "ffe31e4e-fa2f-435e-8b48-c545df2beb33",
   "metadata": {},
   "outputs": [],
   "source": [
    "on = [152,154,156]\n",
    "off = [153,155,157]\n",
    "scans = [152,155]\n",
    "onrequested = set(on).intersection(scans)\n",
    "offrequested = set(off).intersection(scans)\n",
    "sons = list(onrequested.copy())\n",
    "soffs = list(offrequested.copy())\n",
    "missingoff = []\n",
    "missingon = []\n",
    "setoff = set(off)\n",
    "seton = set(on)\n",
    "for i in onrequested:\n",
    "    expectedoff = i+1\n",
    "    if len(setoff.intersection([expectedoff])) == 0:\n",
    "        missingoff.append(expectedoff)\n",
    "    else:\n",
    "        soffs.append(expectedoff)\n",
    "for i in offrequested:\n",
    "    expectedon = i-1\n",
    "    if len(seton.intersection([expectedon])) == 0:\n",
    "        missingon.append(expectedon)\n",
    "    else:\n",
    "        sons.append(expectedon)\n",
    "if len(missingoff) > 0:\n",
    "    raise ValueError(f\"For the requested ON scans {onrequested}, the OFF scans {missingoff} were not present in bintable {bintable}\")\n",
    "if len(missingon) > 0:\n",
    "    raise ValueError(f\"For the requested OFF scans {offrequested}, the ON scans {missingon} were not present in bintable {bintable}\")\n",
    "print(\"ON\",sorted(sons))\n",
    "print(\"OFF\",sorted(soffs))"
   ]
  },
  {
   "cell_type": "code",
   "execution_count": null,
   "id": "3cd32864-2081-406e-a14e-e4483136842b",
   "metadata": {},
   "outputs": [],
   "source": [
    "scanlist=p.onoff_scan_list()\n",
    "print(scanlist)\n",
    "#scanlist = p.onoff_scan_list([152])\n",
    "#print(scanlist)\n",
    "scanlist = p.onoff_scan_list([153])\n",
    "print(scanlist)\n",
    "scanlist = p.onoff_scan_list([152,153])\n",
    "print(scanlist)\n",
    "scanlist = p.onoff_scan_list(152)\n",
    "print(scanlist)"
   ]
  },
  {
   "cell_type": "code",
   "execution_count": null,
   "id": "efe7ba31-2218-4917-9ade-6d6ecb4a2347",
   "metadata": {},
   "outputs": [],
   "source": [
    "print(sonoff(p.index(0)[\"SCAN\"],p.index(0)[\"PROCSEQN\"]))\n",
    "myscans = set(sorted([153,155]))\n",
    "scanlist=p.onoff_scan_list()\n",
    "print(scanlist)\n",
    "allscans = set(sorted(scanlist[\"ON\"]+scanlist[\"OFF\"]+[1,2,3,4,5]))\n",
    "print(allscans)\n",
    "z=allscans.intersection(myscans)\n",
    "zz =allscans.difference(myscans)\n",
    "zzz=myscans.difference(allscans)\n",
    "print(z,zz,zzz)"
   ]
  },
  {
   "cell_type": "code",
   "execution_count": null,
   "id": "13f88a4c-07e3-4c07-b331-c41cab973b44",
   "metadata": {},
   "outputs": [],
   "source": [
    "psscan = p.getps(scans=[152])"
   ]
  },
  {
   "cell_type": "code",
   "execution_count": null,
   "id": "e8e4fb51-f536-4def-be44-797e61629240",
   "metadata": {},
   "outputs": [],
   "source": [
    "df = p._ptable[0]\n",
    "rows=list(df[df[\"SCAN\"].isin(scans[\"ON\"])].index)\n",
    "df"
   ]
  },
  {
   "cell_type": "code",
   "execution_count": null,
   "id": "cb751350-f340-48af-8688-6400a5cdbc34",
   "metadata": {},
   "outputs": [],
   "source": [
    "rows=p.onoff_rows()\n",
    "rows"
   ]
  },
  {
   "cell_type": "code",
   "execution_count": null,
   "id": "b032052c-27a1-4298-99c8-a3ef7b273a62",
   "metadata": {},
   "outputs": [],
   "source": [
    "show = [\"SCAN\", \"PROCSEQN\", \"PROCSIZE\", \"_OBSTYPE\"]\n",
    "df=df[df.columns & show]\n",
    "df[df[\"_OBSTYPE\"]==\"PSWITCHOFF\"]"
   ]
  },
  {
   "cell_type": "code",
   "execution_count": null,
   "id": "b9bd0e0c-effa-41c0-a434-3f862ddb7a09",
   "metadata": {},
   "outputs": [],
   "source": [
    "dict(p._ptable[0].iloc[0])"
   ]
  },
  {
   "cell_type": "code",
   "execution_count": null,
   "id": "0e431431-e505-49ab-9147-27e891800aa3",
   "metadata": {},
   "outputs": [],
   "source": [
    "df[\"RESTFREQ\"]/=1E9\n",
    "df[\"RESTFREQ\"]"
   ]
  },
  {
   "cell_type": "code",
   "execution_count": null,
   "id": "23f0bffb-e693-437e-a1b8-177d98b894b8",
   "metadata": {},
   "outputs": [],
   "source": [
    "show = [\"SCAN\", \"OBJECT\", \"OBSMODE\", \"VELOCITY\", \"PROCSCAN\", \"PROCSEQN\", \"PROCTYPE\", \"PROCSIZE\", \"RESTFREQ\", \"IFNUM\",\"FEED\", \"AZIMUTH\", \"ELEVATIO\", \"FDNUM\"] \n",
    "scan = [60,61]\n",
    "_df = df[df.columns & show].reindex(columns=show)"
   ]
  },
  {
   "cell_type": "code",
   "execution_count": null,
   "id": "7f3ab993-bd5a-4a4a-8eee-8ebd3fc9ba05",
   "metadata": {},
   "outputs": [],
   "source": [
    "_df[\"OBSMODE\"].str.split(':',expand=True)"
   ]
  },
  {
   "cell_type": "code",
   "execution_count": null,
   "id": "9734e259-6e83-4c45-9f36-d39a54d580a3",
   "metadata": {},
   "outputs": [],
   "source": [
    "\n",
    "_df[(_df[\"SCAN\"]>=scan[0]) & ( _df[\"SCAN\"] <= scan[1])]"
   ]
  },
  {
   "cell_type": "code",
   "execution_count": null,
   "id": "9481a149-c1db-47e9-9c75-74724cda933b",
   "metadata": {},
   "outputs": [],
   "source": [
    "df[\"SCAN\"]"
   ]
  },
  {
   "cell_type": "code",
   "execution_count": null,
   "id": "0c7574bf-7d6f-4fd9-bae1-ebb5efc6b029",
   "metadata": {},
   "outputs": [],
   "source": [
    "df['PROCTYPE']"
   ]
  },
  {
   "cell_type": "code",
   "execution_count": null,
   "id": "59b6be1e-29f2-4c70-bfc4-9b830c3a1d41",
   "metadata": {},
   "outputs": [],
   "source": []
  },
  {
   "cell_type": "code",
   "execution_count": null,
   "id": "43ca5580-f9d8-4cfc-a957-f91194f547a0",
   "metadata": {},
   "outputs": [],
   "source": []
  },
  {
   "cell_type": "code",
   "execution_count": null,
   "id": "2dddf8b5-d361-4bef-998b-1473071d1960",
   "metadata": {},
   "outputs": [],
   "source": []
  }
 ],
 "metadata": {
  "kernelspec": {
   "display_name": "Python 3 (ipykernel)",
   "language": "python",
   "name": "python3"
  },
  "language_info": {
   "codemirror_mode": {
    "name": "ipython",
    "version": 3
   },
   "file_extension": ".py",
   "mimetype": "text/x-python",
   "name": "python",
   "nbconvert_exporter": "python",
   "pygments_lexer": "ipython3",
   "version": "3.10.9"
  }
 },
 "nbformat": 4,
 "nbformat_minor": 5
}
