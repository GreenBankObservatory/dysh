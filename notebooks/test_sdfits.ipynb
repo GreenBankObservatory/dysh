{
 "cells": [
  {
   "cell_type": "code",
   "execution_count": 1,
   "id": "33dc10af-604c-4f14-9711-df5ad136f764",
   "metadata": {},
   "outputs": [],
   "source": [
    "from dysh.spectra.spectrum import Spectrum\n",
    "import numpy as np\n",
    "from scipy.stats import norm\n",
    "import astropy.units as u\n",
    "import matplotlib.pyplot as plt\n",
    "from dysh.fits.sdfitsload import SDFITSLoad\n",
    "from dysh.fits.gbtfitsload import GBTFITSLoad\n",
    "from dysh.spectra.scan import PSScan, GBTPSScan\n",
    "import pandas\n",
    "from copy import deepcopy\n",
    "pandas.set_option('display.max_rows', 100)\n",
    "from astropy.modeling.fitting import LevMarLSQFitter,LinearLSQFitter\n",
    "from specutils import Spectrum1D, SpectrumList,SpectralRegion\n",
    "from astropy.nddata import StdDevUncertainty\n",
    "from specutils.fitting import fit_continuum\n",
    "import matplotlib.pyplot as plt\n",
    "from dysh.spectra import dcmeantsys\n",
    "from dysh.plot.specplot import SpectrumPlot\n",
    "from astropy.io import fits\n",
    "from astropy.table import Table\n",
    "import pandas as pd\n",
    "#%matplotlib notebook"
   ]
  },
  {
   "cell_type": "markdown",
   "id": "3555b4b0-097b-4ab6-81d3-6315a6cbaa27",
   "metadata": {},
   "source": [
    "-------------"
   ]
  },
  {
   "cell_type": "markdown",
   "id": "d478a858-dec8-448c-a64a-e8f55108fe5f",
   "metadata": {},
   "source": [
    "# 1. GBTFITSLoad and position-switch calibration testing\n",
    "change to use your specific `datadir`"
   ]
  },
  {
   "cell_type": "code",
   "execution_count": 2,
   "id": "4b0df155-ab44-48a7-8655-2532e051d901",
   "metadata": {},
   "outputs": [
    {
     "name": "stderr",
     "output_type": "stream",
     "text": [
      "WARNING: UnitsWarning: 'mmHg' did not parse as fits unit: At col 0, Unit 'mmHg' not supported by the FITS standard.  If this is meant to be a custom unit, define it with 'u.def_unit'. To have it recognized inside a file reader or other code, enable it with 'u.add_enabled_units'. For details, see https://docs.astropy.org/en/latest/units/combining_and_defining.html [astropy.units.core]\n",
      "WARNING: UnitsWarning: 'UTC' did not parse as fits unit: At col 0, Unit 'UTC' not supported by the FITS standard. Did you mean TC, uC or uT? If this is meant to be a custom unit, define it with 'u.def_unit'. To have it recognized inside a file reader or other code, enable it with 'u.add_enabled_units'. For details, see https://docs.astropy.org/en/latest/units/combining_and_defining.html [astropy.units.core]\n"
     ]
    }
   ],
   "source": [
    "datadir = '/data/gbt'\n",
    "#f = datadir + '/examples/misc/ngc5291.fits'\n",
    "f = datadir + '/examples/onoff-L/data/TGBT21A_501_11.raw.vegas.fits'\n",
    "#f = datadir + 'examples/nod-KFPA/data/TGBT22A_503_02.raw.vegas/TGBT22A_503_02.raw.vegas.A.fits'\n",
    "p = GBTFITSLoad(f)"
   ]
  },
  {
   "cell_type": "code",
   "execution_count": 3,
   "id": "9c704493-a7b9-43aa-a846-edff98bdbe4c",
   "metadata": {},
   "outputs": [
    {
     "data": {
      "text/html": [
       "<div>\n",
       "<style scoped>\n",
       "    .dataframe tbody tr th:only-of-type {\n",
       "        vertical-align: middle;\n",
       "    }\n",
       "\n",
       "    .dataframe tbody tr th {\n",
       "        vertical-align: top;\n",
       "    }\n",
       "\n",
       "    .dataframe thead th {\n",
       "        text-align: right;\n",
       "    }\n",
       "</style>\n",
       "<table border=\"1\" class=\"dataframe\">\n",
       "  <thead>\n",
       "    <tr style=\"text-align: right;\">\n",
       "      <th></th>\n",
       "      <th>SCAN</th>\n",
       "      <th>OBJECT</th>\n",
       "      <th>VELOCITY</th>\n",
       "      <th>PROC</th>\n",
       "      <th>PROCSEQN</th>\n",
       "      <th>RESTFREQ</th>\n",
       "      <th># IF</th>\n",
       "      <th># POL</th>\n",
       "      <th># INT</th>\n",
       "      <th># FEED</th>\n",
       "      <th>AZIMUTH</th>\n",
       "      <th>ELEVATIO</th>\n",
       "    </tr>\n",
       "  </thead>\n",
       "  <tbody>\n",
       "    <tr>\n",
       "      <th>0</th>\n",
       "      <td>152.0</td>\n",
       "      <td>NGC2415</td>\n",
       "      <td>3784.0</td>\n",
       "      <td>OnOff</td>\n",
       "      <td>1.0</td>\n",
       "      <td>1.617185</td>\n",
       "      <td>5</td>\n",
       "      <td>2</td>\n",
       "      <td>3020</td>\n",
       "      <td>1</td>\n",
       "      <td>286.218008</td>\n",
       "      <td>41.62843</td>\n",
       "    </tr>\n",
       "    <tr>\n",
       "      <th>1</th>\n",
       "      <td>153.0</td>\n",
       "      <td>NGC2415</td>\n",
       "      <td>3784.0</td>\n",
       "      <td>OnOff</td>\n",
       "      <td>2.0</td>\n",
       "      <td>1.617185</td>\n",
       "      <td>5</td>\n",
       "      <td>2</td>\n",
       "      <td>3020</td>\n",
       "      <td>1</td>\n",
       "      <td>286.886521</td>\n",
       "      <td>41.118134</td>\n",
       "    </tr>\n",
       "  </tbody>\n",
       "</table>\n",
       "</div>"
      ],
      "text/plain": [
       "    SCAN   OBJECT VELOCITY   PROC PROCSEQN  RESTFREQ # IF # POL # INT # FEED  \\\n",
       "0  152.0  NGC2415   3784.0  OnOff      1.0  1.617185    5     2  3020      1   \n",
       "1  153.0  NGC2415   3784.0  OnOff      2.0  1.617185    5     2  3020      1   \n",
       "\n",
       "      AZIMUTH   ELEVATIO  \n",
       "0  286.218008   41.62843  \n",
       "1  286.886521  41.118134  "
      ]
     },
     "execution_count": 3,
     "metadata": {},
     "output_type": "execute_result"
    }
   ],
   "source": [
    "#Table.from_pandas(\n",
    "p.summary(verbose=False)"
   ]
  },
  {
   "cell_type": "code",
   "execution_count": 4,
   "id": "37ea3427-fb57-4e98-bedf-5367a7b08f26",
   "metadata": {},
   "outputs": [
    {
     "data": {
      "text/html": [
       "<div>\n",
       "<style scoped>\n",
       "    .dataframe tbody tr th:only-of-type {\n",
       "        vertical-align: middle;\n",
       "    }\n",
       "\n",
       "    .dataframe tbody tr th {\n",
       "        vertical-align: top;\n",
       "    }\n",
       "\n",
       "    .dataframe thead th {\n",
       "        text-align: right;\n",
       "    }\n",
       "</style>\n",
       "<table border=\"1\" class=\"dataframe\">\n",
       "  <thead>\n",
       "    <tr style=\"text-align: right;\">\n",
       "      <th></th>\n",
       "      <th>SCAN</th>\n",
       "      <th>OBJECT</th>\n",
       "      <th>VELOCITY</th>\n",
       "      <th>PROC</th>\n",
       "      <th>PROCSEQN</th>\n",
       "      <th>RESTFREQ</th>\n",
       "      <th>IFNUM</th>\n",
       "      <th>FEED</th>\n",
       "      <th>AZIMUTH</th>\n",
       "      <th>ELEVATIO</th>\n",
       "      <th>FDNUM</th>\n",
       "      <th>PLNUM</th>\n",
       "    </tr>\n",
       "  </thead>\n",
       "  <tbody>\n",
       "    <tr>\n",
       "      <th>0</th>\n",
       "      <td>152</td>\n",
       "      <td>NGC2415</td>\n",
       "      <td>3784.0</td>\n",
       "      <td>OnOff</td>\n",
       "      <td>1</td>\n",
       "      <td>1.420406</td>\n",
       "      <td>0</td>\n",
       "      <td>1</td>\n",
       "      <td>285.951496</td>\n",
       "      <td>42.100624</td>\n",
       "      <td>0</td>\n",
       "      <td>1</td>\n",
       "    </tr>\n",
       "    <tr>\n",
       "      <th>1</th>\n",
       "      <td>152</td>\n",
       "      <td>NGC2415</td>\n",
       "      <td>3784.0</td>\n",
       "      <td>OnOff</td>\n",
       "      <td>1</td>\n",
       "      <td>1.420406</td>\n",
       "      <td>0</td>\n",
       "      <td>1</td>\n",
       "      <td>285.951496</td>\n",
       "      <td>42.100624</td>\n",
       "      <td>0</td>\n",
       "      <td>1</td>\n",
       "    </tr>\n",
       "    <tr>\n",
       "      <th>2</th>\n",
       "      <td>152</td>\n",
       "      <td>NGC2415</td>\n",
       "      <td>3784.0</td>\n",
       "      <td>OnOff</td>\n",
       "      <td>1</td>\n",
       "      <td>1.420406</td>\n",
       "      <td>0</td>\n",
       "      <td>1</td>\n",
       "      <td>285.951496</td>\n",
       "      <td>42.100624</td>\n",
       "      <td>0</td>\n",
       "      <td>0</td>\n",
       "    </tr>\n",
       "    <tr>\n",
       "      <th>3</th>\n",
       "      <td>152</td>\n",
       "      <td>NGC2415</td>\n",
       "      <td>3784.0</td>\n",
       "      <td>OnOff</td>\n",
       "      <td>1</td>\n",
       "      <td>1.420406</td>\n",
       "      <td>0</td>\n",
       "      <td>1</td>\n",
       "      <td>285.951496</td>\n",
       "      <td>42.100624</td>\n",
       "      <td>0</td>\n",
       "      <td>0</td>\n",
       "    </tr>\n",
       "    <tr>\n",
       "      <th>4</th>\n",
       "      <td>152</td>\n",
       "      <td>NGC2415</td>\n",
       "      <td>3784.0</td>\n",
       "      <td>OnOff</td>\n",
       "      <td>1</td>\n",
       "      <td>1.612231</td>\n",
       "      <td>1</td>\n",
       "      <td>1</td>\n",
       "      <td>285.951496</td>\n",
       "      <td>42.100624</td>\n",
       "      <td>0</td>\n",
       "      <td>1</td>\n",
       "    </tr>\n",
       "    <tr>\n",
       "      <th>...</th>\n",
       "      <td>...</td>\n",
       "      <td>...</td>\n",
       "      <td>...</td>\n",
       "      <td>...</td>\n",
       "      <td>...</td>\n",
       "      <td>...</td>\n",
       "      <td>...</td>\n",
       "      <td>...</td>\n",
       "      <td>...</td>\n",
       "      <td>...</td>\n",
       "      <td>...</td>\n",
       "      <td>...</td>\n",
       "    </tr>\n",
       "    <tr>\n",
       "      <th>6035</th>\n",
       "      <td>153</td>\n",
       "      <td>NGC2415</td>\n",
       "      <td>3784.0</td>\n",
       "      <td>OnOff</td>\n",
       "      <td>2</td>\n",
       "      <td>1.667359</td>\n",
       "      <td>3</td>\n",
       "      <td>1</td>\n",
       "      <td>287.149353</td>\n",
       "      <td>40.652970</td>\n",
       "      <td>0</td>\n",
       "      <td>0</td>\n",
       "    </tr>\n",
       "    <tr>\n",
       "      <th>6036</th>\n",
       "      <td>153</td>\n",
       "      <td>NGC2415</td>\n",
       "      <td>3784.0</td>\n",
       "      <td>OnOff</td>\n",
       "      <td>2</td>\n",
       "      <td>1.720530</td>\n",
       "      <td>4</td>\n",
       "      <td>1</td>\n",
       "      <td>287.149353</td>\n",
       "      <td>40.652970</td>\n",
       "      <td>0</td>\n",
       "      <td>1</td>\n",
       "    </tr>\n",
       "    <tr>\n",
       "      <th>6037</th>\n",
       "      <td>153</td>\n",
       "      <td>NGC2415</td>\n",
       "      <td>3784.0</td>\n",
       "      <td>OnOff</td>\n",
       "      <td>2</td>\n",
       "      <td>1.720530</td>\n",
       "      <td>4</td>\n",
       "      <td>1</td>\n",
       "      <td>287.149353</td>\n",
       "      <td>40.652970</td>\n",
       "      <td>0</td>\n",
       "      <td>1</td>\n",
       "    </tr>\n",
       "    <tr>\n",
       "      <th>6038</th>\n",
       "      <td>153</td>\n",
       "      <td>NGC2415</td>\n",
       "      <td>3784.0</td>\n",
       "      <td>OnOff</td>\n",
       "      <td>2</td>\n",
       "      <td>1.720530</td>\n",
       "      <td>4</td>\n",
       "      <td>1</td>\n",
       "      <td>287.149353</td>\n",
       "      <td>40.652970</td>\n",
       "      <td>0</td>\n",
       "      <td>0</td>\n",
       "    </tr>\n",
       "    <tr>\n",
       "      <th>6039</th>\n",
       "      <td>153</td>\n",
       "      <td>NGC2415</td>\n",
       "      <td>3784.0</td>\n",
       "      <td>OnOff</td>\n",
       "      <td>2</td>\n",
       "      <td>1.720530</td>\n",
       "      <td>4</td>\n",
       "      <td>1</td>\n",
       "      <td>287.149353</td>\n",
       "      <td>40.652970</td>\n",
       "      <td>0</td>\n",
       "      <td>0</td>\n",
       "    </tr>\n",
       "  </tbody>\n",
       "</table>\n",
       "<p>6040 rows × 12 columns</p>\n",
       "</div>"
      ],
      "text/plain": [
       "      SCAN   OBJECT  VELOCITY   PROC  PROCSEQN  RESTFREQ  IFNUM  FEED  \\\n",
       "0      152  NGC2415    3784.0  OnOff         1  1.420406      0     1   \n",
       "1      152  NGC2415    3784.0  OnOff         1  1.420406      0     1   \n",
       "2      152  NGC2415    3784.0  OnOff         1  1.420406      0     1   \n",
       "3      152  NGC2415    3784.0  OnOff         1  1.420406      0     1   \n",
       "4      152  NGC2415    3784.0  OnOff         1  1.612231      1     1   \n",
       "...    ...      ...       ...    ...       ...       ...    ...   ...   \n",
       "6035   153  NGC2415    3784.0  OnOff         2  1.667359      3     1   \n",
       "6036   153  NGC2415    3784.0  OnOff         2  1.720530      4     1   \n",
       "6037   153  NGC2415    3784.0  OnOff         2  1.720530      4     1   \n",
       "6038   153  NGC2415    3784.0  OnOff         2  1.720530      4     1   \n",
       "6039   153  NGC2415    3784.0  OnOff         2  1.720530      4     1   \n",
       "\n",
       "         AZIMUTH   ELEVATIO  FDNUM  PLNUM  \n",
       "0     285.951496  42.100624      0      1  \n",
       "1     285.951496  42.100624      0      1  \n",
       "2     285.951496  42.100624      0      0  \n",
       "3     285.951496  42.100624      0      0  \n",
       "4     285.951496  42.100624      0      1  \n",
       "...          ...        ...    ...    ...  \n",
       "6035  287.149353  40.652970      0      0  \n",
       "6036  287.149353  40.652970      0      1  \n",
       "6037  287.149353  40.652970      0      1  \n",
       "6038  287.149353  40.652970      0      0  \n",
       "6039  287.149353  40.652970      0      0  \n",
       "\n",
       "[6040 rows x 12 columns]"
      ]
     },
     "execution_count": 4,
     "metadata": {},
     "output_type": "execute_result"
    }
   ],
   "source": [
    "p.summary(verbose=True)"
   ]
  },
  {
   "cell_type": "code",
   "execution_count": 5,
   "id": "91a81062-6c6d-4b0d-9676-0b0ffbe994be",
   "metadata": {},
   "outputs": [],
   "source": [
    "scanlist = [152]"
   ]
  },
  {
   "cell_type": "code",
   "execution_count": 6,
   "id": "862cf89f-42b0-491a-908e-bb85e2cfa2da",
   "metadata": {},
   "outputs": [],
   "source": [
    "p.write_scans(\"/tmp/scans.fits\",overwrite=True,checksum=True,output_verify='fix',scans=scanlist)"
   ]
  },
  {
   "cell_type": "code",
   "execution_count": 7,
   "id": "bcb1e531-f6fb-4f1b-a187-c71724ff61ba",
   "metadata": {},
   "outputs": [
    {
     "data": {
      "text/plain": [
       "SIMPLE  =                    T / file does conform to FITS standard             \n",
       "BITPIX  =                    8 / number of bits per data pixel                  \n",
       "NAXIS   =                    0 / number of data axes                            \n",
       "EXTEND  =                    T / FITS dataset may contain extensions            \n",
       "COMMENT   FITS (Flexible Image Transport System) format is defined in 'Astronomy\n",
       "COMMENT   and Astrophysics', volume 376, page 359; bibcode: 2001A&A...376..359H \n",
       "DATE    = '2022-02-14T17:25:01' / date and time this HDU was created            \n",
       "ORIGIN  = 'NRAO Green Bank'    / origin of observation                          \n",
       "TELESCOP= 'NRAO_GBT'           / the telescope used                             \n",
       "INSTRUME= 'VEGAS   '           / backend                                        \n",
       "SDFITVER= 'sdfits ver1.22'     / this file was created by sdfits                \n",
       "FITSVER = '1.9     '           / FITS definition version                        "
      ]
     },
     "execution_count": 7,
     "metadata": {},
     "output_type": "execute_result"
    }
   ],
   "source": [
    "p._hdu[0].header"
   ]
  },
  {
   "cell_type": "code",
   "execution_count": 8,
   "id": "ba235225-ccc4-4275-a665-68a44d46c2be",
   "metadata": {},
   "outputs": [],
   "source": [
    "p.write(\"/tmp/foobar.fits\",overwrite=True,rows=[11,15,37,99],bintable=0)\n",
    "p.write(\"/tmp/onerows.fits\",overwrite=True,rows=15,bintable=0)"
   ]
  },
  {
   "cell_type": "code",
   "execution_count": 9,
   "id": "59d10bdf-5c20-4d4e-abf9-97df4b5d3541",
   "metadata": {},
   "outputs": [
    {
     "name": "stdout",
     "output_type": "stream",
     "text": [
      "Filename: /tmp/scans.fits\n",
      "No.    Name      Ver    Type      Cards   Dimensions   Format\n",
      "  0  PRIMARY       1 PrimaryHDU      14   ()      \n",
      "  1  SINGLE DISH    1 BinTableHDU    210   3020R x 74C   [32A, 1D, 22A, 1D, 1D, 1D, 32768E, 16A, 6A, 8A, 1D, 1D, 1D, 4A, 1D, 4A, 1D, 1I, 32A, 32A, 1J, 32A, 16A, 1E, 8A, 1D, 1D, 1D, 1D, 1D, 1D, 1D, 1D, 1D, 1D, 1D, 1D, 8A, 1D, 1D, 12A, 1I, 1I, 1D, 1D, 1I, 1A, 1I, 1I, 16A, 16A, 1J, 1J, 22A, 1D, 1D, 1I, 1A, 1D, 1E, 1D, 1D, 1D, 1D, 1D, 1A, 1A, 8A, 1E, 1E, 16A, 1I, 1I, 1I]   \n"
     ]
    }
   ],
   "source": [
    "x1 = fits.open(\"/tmp/scans.fits\")\n",
    "x1.info()"
   ]
  },
  {
   "cell_type": "code",
   "execution_count": 10,
   "id": "a20f0815-f5f3-4d38-ba4d-6a288f4a0cff",
   "metadata": {},
   "outputs": [
    {
     "name": "stdout",
     "output_type": "stream",
     "text": [
      "Filename: /tmp/scans.fits\n",
      "No.    Name      Ver    Type      Cards   Dimensions   Format\n",
      "  0  PRIMARY       1 PrimaryHDU      14   ()      \n",
      "  1  SINGLE DISH    1 BinTableHDU    210   3020R x 74C   ['32A', '1D', '22A', '1D', '1D', '1D', '32768E', '16A', '6A', '8A', '1D', '1D', '1D', '4A', '1D', '4A', '1D', '1I', '32A', '32A', '1J', '32A', '16A', '1E', '8A', '1D', '1D', '1D', '1D', '1D', '1D', '1D', '1D', '1D', '1D', '1D', '1D', '8A', '1D', '1D', '12A', '1I', '1I', '1D', '1D', '1I', '1A', '1I', '1I', '16A', '16A', '1J', '1J', '22A', '1D', '1D', '1I', '1A', '1D', '1E', '1D', '1D', '1D', '1D', '1D', '1A', '1A', '8A', '1E', '1E', '16A', '1I', '1I', '1I']   \n"
     ]
    },
    {
     "name": "stderr",
     "output_type": "stream",
     "text": [
      "WARNING: UnitsWarning: 'mmHg' did not parse as fits unit: At col 0, Unit 'mmHg' not supported by the FITS standard.  If this is meant to be a custom unit, define it with 'u.def_unit'. To have it recognized inside a file reader or other code, enable it with 'u.add_enabled_units'. For details, see https://docs.astropy.org/en/latest/units/combining_and_defining.html [astropy.units.core]\n",
      "WARNING: UnitsWarning: 'UTC' did not parse as fits unit: At col 0, Unit 'UTC' not supported by the FITS standard. Did you mean TC, uC or uT? If this is meant to be a custom unit, define it with 'u.def_unit'. To have it recognized inside a file reader or other code, enable it with 'u.add_enabled_units'. For details, see https://docs.astropy.org/en/latest/units/combining_and_defining.html [astropy.units.core]\n"
     ]
    }
   ],
   "source": [
    "x1 = GBTFITSLoad(\"/tmp/scans.fits\")\n",
    "#x1._ptable[0]\n",
    "x1._hdu.info()"
   ]
  },
  {
   "cell_type": "code",
   "execution_count": 11,
   "id": "0bfc7447-c8e3-4694-a2bf-41616fc83c68",
   "metadata": {},
   "outputs": [
    {
     "data": {
      "text/plain": [
       "XTENSION= 'BINTABLE'           / binary table extension                         \n",
       "BITPIX  =                    8 / array data type                                \n",
       "NAXIS   =                    2 / number of array dimensions                     \n",
       "NAXIS1  =               131698 / length of dimension 1                          \n",
       "NAXIS2  =                 3020 / length of dimension 2                          \n",
       "PCOUNT  =                    0 / number of group parameters                     \n",
       "GCOUNT  =                    1 / number of groups                               \n",
       "TFIELDS =                   74 / number of table fields                         \n",
       "COMMENT Start of SDFITS CORE keywords/columns.                                  \n",
       "TELESCOP= 'NRAO_GBT'           / the telescope used                             \n",
       "COMMENT End of SDFITS CORE keywords/columns.                                    \n",
       "COMMENT Start of SDFITS DATA column and descriptive axes.                       \n",
       "CTYPE4  = 'STOKES  '           / fourth axis is Stokes                          \n",
       "COMMENT End of SDFITS DATA column and descriptive axes.                         \n",
       "COMMENT Start of SDFITS SHARED keywords/columns.                                \n",
       "PROJID  = 'TGBT21A_501_11'     / project identifier                             \n",
       "BACKEND = 'VEGAS   '           / backend device                                 \n",
       "SITELONG=        -7.983983E+01 / E. longitude of intersection of the az/el axes \n",
       "SITELAT =         3.843312E+01 / N. latitude of intersection of the az/el axes  \n",
       "SITEELEV=         8.245950E+02 / height of the intersection of az/el axes       \n",
       "COMMENT End of SDFITS SHARED keywords/columns.                                  \n",
       "COMMENT Start of GBT-specific keywords/columns.                                 \n",
       "COMMENT Feed offsets ARE included in the CRVAL2 and CRVAL3 columns              \n",
       "COMMENT Columns describing VEGAS spur locations                                 \n",
       "COMMENT   SPUR_CHANNEL = (J-VSPRVAL)*VSPDELT+VSPRPIX                            \n",
       "COMMENT   0 <= J <= 32                                                          \n",
       "COMMENT   spur channels are along the frequency axis                            \n",
       "COMMENT End of GBT-specific keywords/columns.                                   \n",
       "EXTNAME = 'SINGLE DISH'        / name of this binary table extension            \n",
       "TTYPE1  = 'OBJECT  '                                                            \n",
       "TFORM1  = '32A     '                                                            \n",
       "TTYPE2  = 'BANDWID '                                                            \n",
       "TFORM2  = '1D      '                                                            \n",
       "TUNIT2  = 'Hz      '                                                            \n",
       "TTYPE3  = 'DATE-OBS'                                                            \n",
       "TFORM3  = '22A     '                                                            \n",
       "TTYPE4  = 'DURATION'                                                            \n",
       "TFORM4  = '1D      '                                                            \n",
       "TUNIT4  = 's       '                                                            \n",
       "TTYPE5  = 'EXPOSURE'                                                            \n",
       "TFORM5  = '1D      '                                                            \n",
       "TUNIT5  = 's       '                                                            \n",
       "TTYPE6  = 'TSYS    '                                                            \n",
       "TFORM6  = '1D      '                                                            \n",
       "TUNIT6  = 'K       '                                                            \n",
       "TTYPE7  = 'DATA    '                                                            \n",
       "TFORM7  = '32768E  '                                                            \n",
       "TTYPE8  = 'TDIM7   '                                                            \n",
       "TFORM8  = '16A     '                                                            \n",
       "TTYPE9  = 'TUNIT7  '                                                            \n",
       "TFORM9  = '6A      '                                                            \n",
       "TTYPE10 = 'CTYPE1  '                                                            \n",
       "TFORM10 = '8A      '                                                            \n",
       "TUNIT10 = 'Hz      '                                                            \n",
       "TTYPE11 = 'CRVAL1  '                                                            \n",
       "TFORM11 = '1D      '                                                            \n",
       "TUNIT11 = 'Hz      '                                                            \n",
       "TTYPE12 = 'CRPIX1  '                                                            \n",
       "TFORM12 = '1D      '                                                            \n",
       "TTYPE13 = 'CDELT1  '                                                            \n",
       "TFORM13 = '1D      '                                                            \n",
       "TUNIT13 = 'Hz      '                                                            \n",
       "TTYPE14 = 'CTYPE2  '                                                            \n",
       "TFORM14 = '4A      '                                                            \n",
       "TTYPE15 = 'CRVAL2  '                                                            \n",
       "TFORM15 = '1D      '                                                            \n",
       "TUNIT15 = 'deg     '                                                            \n",
       "TTYPE16 = 'CTYPE3  '                                                            \n",
       "TFORM16 = '4A      '                                                            \n",
       "TTYPE17 = 'CRVAL3  '                                                            \n",
       "TFORM17 = '1D      '                                                            \n",
       "TUNIT17 = 'deg     '                                                            \n",
       "TTYPE18 = 'CRVAL4  '                                                            \n",
       "TFORM18 = '1I      '                                                            \n",
       "TTYPE19 = 'OBSERVER'                                                            \n",
       "TFORM19 = '32A     '                                                            \n",
       "TTYPE20 = 'OBSID   '                                                            \n",
       "TFORM20 = '32A     '                                                            \n",
       "TTYPE21 = 'SCAN    '                                                            \n",
       "TFORM21 = '1J      '                                                            \n",
       "TTYPE22 = 'OBSMODE '                                                            \n",
       "TFORM22 = '32A     '                                                            \n",
       "TTYPE23 = 'FRONTEND'                                                            \n",
       "TFORM23 = '16A     '                                                            \n",
       "TTYPE24 = 'TCAL    '                                                            \n",
       "TFORM24 = '1E      '                                                            \n",
       "TUNIT24 = 'K       '                                                            \n",
       "TTYPE25 = 'VELDEF  '                                                            \n",
       "TFORM25 = '8A      '                                                            \n",
       "TTYPE26 = 'VFRAME  '                                                            \n",
       "TFORM26 = '1D      '                                                            \n",
       "TUNIT26 = 'm/s     '                                                            \n",
       "TTYPE27 = 'RVSYS   '                                                            \n",
       "TFORM27 = '1D      '                                                            \n",
       "TUNIT27 = 'm/s     '                                                            \n",
       "TTYPE28 = 'OBSFREQ '                                                            \n",
       "TFORM28 = '1D      '                                                            \n",
       "TUNIT28 = 'Hz      '                                                            \n",
       "TTYPE29 = 'LST     '                                                            \n",
       "TFORM29 = '1D      '                                                            \n",
       "TUNIT29 = 's       '                                                            \n",
       "TTYPE30 = 'AZIMUTH '                                                            \n",
       "TFORM30 = '1D      '                                                            \n",
       "TUNIT30 = 'deg     '                                                            \n",
       "TTYPE31 = 'ELEVATIO'                                                            \n",
       "TFORM31 = '1D      '                                                            \n",
       "TUNIT31 = 'deg     '                                                            \n",
       "TTYPE32 = 'TAMBIENT'                                                            \n",
       "TFORM32 = '1D      '                                                            \n",
       "TUNIT32 = 'K       '                                                            \n",
       "TTYPE33 = 'PRESSURE'                                                            \n",
       "TFORM33 = '1D      '                                                            \n",
       "TUNIT33 = 'mmHg    '                                                            \n",
       "TTYPE34 = 'HUMIDITY'                                                            \n",
       "TFORM34 = '1D      '                                                            \n",
       "TTYPE35 = 'RESTFREQ'                                                            \n",
       "TFORM35 = '1D      '                                                            \n",
       "TUNIT35 = 'Hz      '                                                            \n",
       "TTYPE36 = 'FREQRES '                                                            \n",
       "TFORM36 = '1D      '                                                            \n",
       "TUNIT36 = 'Hz      '                                                            \n",
       "TTYPE37 = 'EQUINOX '                                                            \n",
       "TFORM37 = '1D      '                                                            \n",
       "TTYPE38 = 'RADESYS '                                                            \n",
       "TFORM38 = '8A      '                                                            \n",
       "TTYPE39 = 'TRGTLONG'                                                            \n",
       "TFORM39 = '1D      '                                                            \n",
       "TUNIT39 = 'deg     '                                                            \n",
       "TTYPE40 = 'TRGTLAT '                                                            \n",
       "TFORM40 = '1D      '                                                            \n",
       "TUNIT40 = 'deg     '                                                            \n",
       "TTYPE41 = 'SAMPLER '                                                            \n",
       "TFORM41 = '12A     '                                                            \n",
       "TTYPE42 = 'FEED    '                                                            \n",
       "TFORM42 = '1I      '                                                            \n",
       "TTYPE43 = 'SRFEED  '                                                            \n",
       "TFORM43 = '1I      '                                                            \n",
       "TTYPE44 = 'FEEDXOFF'                                                            \n",
       "TFORM44 = '1D      '                                                            \n",
       "TUNIT44 = 'deg     '                                                            \n",
       "TTYPE45 = 'FEEDEOFF'                                                            \n",
       "TFORM45 = '1D      '                                                            \n",
       "TUNIT45 = 'deg     '                                                            \n",
       "TTYPE46 = 'SUBREF_STATE'                                                        \n",
       "TFORM46 = '1I      '                                                            \n",
       "TTYPE47 = 'SIDEBAND'                                                            \n",
       "TFORM47 = '1A      '                                                            \n",
       "TTYPE48 = 'PROCSEQN'                                                            \n",
       "TFORM48 = '1I      '                                                            \n",
       "TTYPE49 = 'PROCSIZE'                                                            \n",
       "TFORM49 = '1I      '                                                            \n",
       "TTYPE50 = 'PROCSCAN'                                                            \n",
       "TFORM50 = '16A     '                                                            \n",
       "TTYPE51 = 'PROCTYPE'                                                            \n",
       "TFORM51 = '16A     '                                                            \n",
       "TTYPE52 = 'LASTON  '                                                            \n",
       "TFORM52 = '1J      '                                                            \n",
       "TTYPE53 = 'LASTOFF '                                                            \n",
       "TFORM53 = '1J      '                                                            \n",
       "TTYPE54 = 'TIMESTAMP'                                                           \n",
       "TFORM54 = '22A     '                                                            \n",
       "TUNIT54 = 'UTC     '                                                            \n",
       "TTYPE55 = 'QD_XEL  '                                                            \n",
       "TFORM55 = '1D      '                                                            \n",
       "TUNIT55 = 'deg     '                                                            \n",
       "TTYPE56 = 'QD_EL   '                                                            \n",
       "TFORM56 = '1D      '                                                            \n",
       "TUNIT56 = 'deg     '                                                            \n",
       "TTYPE57 = 'QD_BAD  '                                                            \n",
       "TFORM57 = '1I      '                                                            \n",
       "TTYPE58 = 'QD_METHOD'                                                           \n",
       "TFORM58 = '1A      '                                                            \n",
       "TTYPE59 = 'VELOCITY'                                                            \n",
       "TFORM59 = '1D      '                                                            \n",
       "TUNIT59 = 'm/s     '                                                            \n",
       "TTYPE60 = 'ZEROCHAN'                                                            \n",
       "TFORM60 = '1E      '                                                            \n",
       "TTYPE61 = 'DOPFREQ '                                                            \n",
       "TFORM61 = '1D      '                                                            \n",
       "TUNIT61 = 'Hz      '                                                            \n",
       "TTYPE62 = 'ADCSAMPF'                                                            \n",
       "TFORM62 = '1D      '                                                            \n",
       "TTYPE63 = 'VSPDELT '                                                            \n",
       "TFORM63 = '1D      '                                                            \n",
       "TTYPE64 = 'VSPRVAL '                                                            \n",
       "TFORM64 = '1D      '                                                            \n",
       "TTYPE65 = 'VSPRPIX '                                                            \n",
       "TFORM65 = '1D      '                                                            \n",
       "TTYPE66 = 'SIG     '                                                            \n",
       "TFORM66 = '1A      '                                                            \n",
       "TTYPE67 = 'CAL     '                                                            \n",
       "TFORM67 = '1A      '                                                            \n",
       "TTYPE68 = 'CALTYPE '                                                            \n",
       "TFORM68 = '8A      '                                                            \n",
       "TTYPE69 = 'TWARM   '                                                            \n",
       "TFORM69 = '1E      '                                                            \n",
       "TUNIT69 = 'K       '                                                            \n",
       "TTYPE70 = 'TCOLD   '                                                            \n",
       "TFORM70 = '1E      '                                                            \n",
       "TUNIT70 = 'K       '                                                            \n",
       "TTYPE71 = 'CALPOSITION'                                                         \n",
       "TFORM71 = '16A     '                                                            \n",
       "TTYPE72 = 'IFNUM   '                                                            \n",
       "TFORM72 = '1I      '                                                            \n",
       "TTYPE73 = 'PLNUM   '                                                            \n",
       "TFORM73 = '1I      '                                                            \n",
       "TTYPE74 = 'FDNUM   '                                                            \n",
       "TFORM74 = '1I      '                                                            \n",
       "CHECKSUM= 'ZLAkeK4hZK9hdK9h'   / HDU checksum updated 2023-06-26T11:45:33       \n",
       "DATASUM = '2622096633'         / data unit checksum updated 2023-06-26T11:45:33 "
      ]
     },
     "execution_count": 11,
     "metadata": {},
     "output_type": "execute_result"
    }
   ],
   "source": [
    "x1._hdu[1].header"
   ]
  },
  {
   "cell_type": "code",
   "execution_count": 12,
   "id": "fd24dad1-c872-4387-bc56-cb88fa283dd5",
   "metadata": {},
   "outputs": [
    {
     "name": "stderr",
     "output_type": "stream",
     "text": [
      "WARNING: UnitsWarning: 'mmHg' did not parse as fits unit: At col 0, Unit 'mmHg' not supported by the FITS standard.  If this is meant to be a custom unit, define it with 'u.def_unit'. To have it recognized inside a file reader or other code, enable it with 'u.add_enabled_units'. For details, see https://docs.astropy.org/en/latest/units/combining_and_defining.html [astropy.units.core]\n",
      "WARNING: UnitsWarning: 'UTC' did not parse as fits unit: At col 0, Unit 'UTC' not supported by the FITS standard. Did you mean TC, uC or uT? If this is meant to be a custom unit, define it with 'u.def_unit'. To have it recognized inside a file reader or other code, enable it with 'u.add_enabled_units'. For details, see https://docs.astropy.org/en/latest/units/combining_and_defining.html [astropy.units.core]\n"
     ]
    },
    {
     "data": {
      "text/html": [
       "<div>\n",
       "<style scoped>\n",
       "    .dataframe tbody tr th:only-of-type {\n",
       "        vertical-align: middle;\n",
       "    }\n",
       "\n",
       "    .dataframe tbody tr th {\n",
       "        vertical-align: top;\n",
       "    }\n",
       "\n",
       "    .dataframe thead th {\n",
       "        text-align: right;\n",
       "    }\n",
       "</style>\n",
       "<table border=\"1\" class=\"dataframe\">\n",
       "  <thead>\n",
       "    <tr style=\"text-align: right;\">\n",
       "      <th></th>\n",
       "      <th>SCAN</th>\n",
       "      <th>OBJECT</th>\n",
       "      <th>VELOCITY</th>\n",
       "      <th>PROC</th>\n",
       "      <th>PROCSEQN</th>\n",
       "      <th>RESTFREQ</th>\n",
       "      <th># IF</th>\n",
       "      <th># POL</th>\n",
       "      <th># INT</th>\n",
       "      <th># FEED</th>\n",
       "      <th>AZIMUTH</th>\n",
       "      <th>ELEVATIO</th>\n",
       "    </tr>\n",
       "  </thead>\n",
       "  <tbody>\n",
       "    <tr>\n",
       "      <th>0</th>\n",
       "      <td>152.0</td>\n",
       "      <td>NGC2415</td>\n",
       "      <td>3784.0</td>\n",
       "      <td>OnOff</td>\n",
       "      <td>1.0</td>\n",
       "      <td>1.693455</td>\n",
       "      <td>3</td>\n",
       "      <td>2</td>\n",
       "      <td>4</td>\n",
       "      <td>1</td>\n",
       "      <td>285.955462</td>\n",
       "      <td>42.092103</td>\n",
       "    </tr>\n",
       "  </tbody>\n",
       "</table>\n",
       "</div>"
      ],
      "text/plain": [
       "    SCAN   OBJECT VELOCITY   PROC PROCSEQN  RESTFREQ # IF # POL # INT # FEED  \\\n",
       "0  152.0  NGC2415   3784.0  OnOff      1.0  1.693455    3     2     4      1   \n",
       "\n",
       "      AZIMUTH   ELEVATIO  \n",
       "0  285.955462  42.092103  "
      ]
     },
     "execution_count": 12,
     "metadata": {},
     "output_type": "execute_result"
    }
   ],
   "source": [
    "x1 = GBTFITSLoad(\"/tmp/foobar.fits\")\n",
    "#x1.nrows(0),x1._hdu[1].header\n",
    "x1.summary()"
   ]
  },
  {
   "cell_type": "code",
   "execution_count": 13,
   "id": "d578fd92-582c-4c18-b923-f5316643f6bd",
   "metadata": {},
   "outputs": [
    {
     "name": "stderr",
     "output_type": "stream",
     "text": [
      "WARNING: UnitsWarning: 'mmHg' did not parse as fits unit: At col 0, Unit 'mmHg' not supported by the FITS standard.  If this is meant to be a custom unit, define it with 'u.def_unit'. To have it recognized inside a file reader or other code, enable it with 'u.add_enabled_units'. For details, see https://docs.astropy.org/en/latest/units/combining_and_defining.html [astropy.units.core]\n",
      "WARNING: UnitsWarning: 'UTC' did not parse as fits unit: At col 0, Unit 'UTC' not supported by the FITS standard. Did you mean TC, uC or uT? If this is meant to be a custom unit, define it with 'u.def_unit'. To have it recognized inside a file reader or other code, enable it with 'u.add_enabled_units'. For details, see https://docs.astropy.org/en/latest/units/combining_and_defining.html [astropy.units.core]\n"
     ]
    },
    {
     "data": {
      "text/html": [
       "<div>\n",
       "<style scoped>\n",
       "    .dataframe tbody tr th:only-of-type {\n",
       "        vertical-align: middle;\n",
       "    }\n",
       "\n",
       "    .dataframe tbody tr th {\n",
       "        vertical-align: top;\n",
       "    }\n",
       "\n",
       "    .dataframe thead th {\n",
       "        text-align: right;\n",
       "    }\n",
       "</style>\n",
       "<table border=\"1\" class=\"dataframe\">\n",
       "  <thead>\n",
       "    <tr style=\"text-align: right;\">\n",
       "      <th></th>\n",
       "      <th>SCAN</th>\n",
       "      <th>OBJECT</th>\n",
       "      <th>VELOCITY</th>\n",
       "      <th>PROC</th>\n",
       "      <th>PROCSEQN</th>\n",
       "      <th>RESTFREQ</th>\n",
       "      <th># IF</th>\n",
       "      <th># POL</th>\n",
       "      <th># INT</th>\n",
       "      <th># FEED</th>\n",
       "      <th>AZIMUTH</th>\n",
       "      <th>ELEVATIO</th>\n",
       "    </tr>\n",
       "  </thead>\n",
       "  <tbody>\n",
       "    <tr>\n",
       "      <th>0</th>\n",
       "      <td>152.0</td>\n",
       "      <td>NGC2415</td>\n",
       "      <td>3784.0</td>\n",
       "      <td>OnOff</td>\n",
       "      <td>1.0</td>\n",
       "      <td>1.667359</td>\n",
       "      <td>1</td>\n",
       "      <td>1</td>\n",
       "      <td>1</td>\n",
       "      <td>1</td>\n",
       "      <td>285.951496</td>\n",
       "      <td>42.100624</td>\n",
       "    </tr>\n",
       "  </tbody>\n",
       "</table>\n",
       "</div>"
      ],
      "text/plain": [
       "    SCAN   OBJECT VELOCITY   PROC PROCSEQN  RESTFREQ # IF # POL # INT # FEED  \\\n",
       "0  152.0  NGC2415   3784.0  OnOff      1.0  1.667359    1     1     1      1   \n",
       "\n",
       "      AZIMUTH   ELEVATIO  \n",
       "0  285.951496  42.100624  "
      ]
     },
     "execution_count": 13,
     "metadata": {},
     "output_type": "execute_result"
    }
   ],
   "source": [
    "x1 = GBTFITSLoad(\"/tmp/onerows.fits\")\n",
    "x1.nrows(0),x1._hdu[1].header\n",
    "x1.summary()"
   ]
  },
  {
   "cell_type": "code",
   "execution_count": 14,
   "id": "3d949978-290f-4f95-8fd6-ff5ad6c45f31",
   "metadata": {},
   "outputs": [
    {
     "data": {
      "image/png": "[encoded data removed]",
      "text/plain": [
       "<Figure size 640x480 with 1 Axes>"
      ]
     },
     "metadata": {},
     "output_type": "display_data"
    }
   ],
   "source": [
    "spec4 = p.getspec(4)\n",
    "sp = SpectrumPlot(spec4)\n",
    "sp.plot()"
   ]
  },
  {
   "cell_type": "markdown",
   "id": "6637056e-81cc-4c7e-a631-1462e7e0d97d",
   "metadata": {},
   "source": [
    "### check out some important columns.  Note the clever selection mechanism"
   ]
  },
  {
   "cell_type": "code",
   "execution_count": 30,
   "id": "d5785409-c749-4df7-a73f-4dcbf65212e9",
   "metadata": {},
   "outputs": [
    {
     "name": "stderr",
     "output_type": "stream",
     "text": [
      "/tmp/ipykernel_899513/716454384.py:3: FutureWarning: Index.__and__ operating as a set operation is deprecated, in the future this will be a logical operation matching Series.__and__.  Use index.intersection(other) instead.\n",
      "  df[df.columns & columns][0:20]\n"
     ]
    },
    {
     "data": {
      "text/html": [
       "<div>\n",
       "<style scoped>\n",
       "    .dataframe tbody tr th:only-of-type {\n",
       "        vertical-align: middle;\n",
       "    }\n",
       "\n",
       "    .dataframe tbody tr th {\n",
       "        vertical-align: top;\n",
       "    }\n",
       "\n",
       "    .dataframe thead th {\n",
       "        text-align: right;\n",
       "    }\n",
       "</style>\n",
       "<table border=\"1\" class=\"dataframe\">\n",
       "  <thead>\n",
       "    <tr style=\"text-align: right;\">\n",
       "      <th></th>\n",
       "      <th>TSYS</th>\n",
       "      <th>SCAN</th>\n",
       "      <th>OBSMODE</th>\n",
       "      <th>TCAL</th>\n",
       "      <th>RESTFREQ</th>\n",
       "      <th>PROCSEQN</th>\n",
       "      <th>SIG</th>\n",
       "      <th>CAL</th>\n",
       "      <th>IFNUM</th>\n",
       "      <th>PLNUM</th>\n",
       "      <th>FDNUM</th>\n",
       "      <th>PROC</th>\n",
       "    </tr>\n",
       "  </thead>\n",
       "  <tbody>\n",
       "    <tr>\n",
       "      <th>0</th>\n",
       "      <td>1.0</td>\n",
       "      <td>152</td>\n",
       "      <td>OnOff:PSWITCHON:TPWCAL</td>\n",
       "      <td>1.428060</td>\n",
       "      <td>1.420406e+09</td>\n",
       "      <td>1</td>\n",
       "      <td>T</td>\n",
       "      <td>F</td>\n",
       "      <td>0</td>\n",
       "      <td>1</td>\n",
       "      <td>0</td>\n",
       "      <td>OnOff</td>\n",
       "    </tr>\n",
       "    <tr>\n",
       "      <th>1</th>\n",
       "      <td>1.0</td>\n",
       "      <td>152</td>\n",
       "      <td>OnOff:PSWITCHON:TPWCAL</td>\n",
       "      <td>1.428060</td>\n",
       "      <td>1.420406e+09</td>\n",
       "      <td>1</td>\n",
       "      <td>T</td>\n",
       "      <td>T</td>\n",
       "      <td>0</td>\n",
       "      <td>1</td>\n",
       "      <td>0</td>\n",
       "      <td>OnOff</td>\n",
       "    </tr>\n",
       "    <tr>\n",
       "      <th>2</th>\n",
       "      <td>1.0</td>\n",
       "      <td>152</td>\n",
       "      <td>OnOff:PSWITCHON:TPWCAL</td>\n",
       "      <td>1.455164</td>\n",
       "      <td>1.420406e+09</td>\n",
       "      <td>1</td>\n",
       "      <td>T</td>\n",
       "      <td>F</td>\n",
       "      <td>0</td>\n",
       "      <td>0</td>\n",
       "      <td>0</td>\n",
       "      <td>OnOff</td>\n",
       "    </tr>\n",
       "    <tr>\n",
       "      <th>3</th>\n",
       "      <td>1.0</td>\n",
       "      <td>152</td>\n",
       "      <td>OnOff:PSWITCHON:TPWCAL</td>\n",
       "      <td>1.455164</td>\n",
       "      <td>1.420406e+09</td>\n",
       "      <td>1</td>\n",
       "      <td>T</td>\n",
       "      <td>T</td>\n",
       "      <td>0</td>\n",
       "      <td>0</td>\n",
       "      <td>0</td>\n",
       "      <td>OnOff</td>\n",
       "    </tr>\n",
       "    <tr>\n",
       "      <th>4</th>\n",
       "      <td>1.0</td>\n",
       "      <td>152</td>\n",
       "      <td>OnOff:PSWITCHON:TPWCAL</td>\n",
       "      <td>1.602189</td>\n",
       "      <td>1.612231e+09</td>\n",
       "      <td>1</td>\n",
       "      <td>T</td>\n",
       "      <td>F</td>\n",
       "      <td>1</td>\n",
       "      <td>1</td>\n",
       "      <td>0</td>\n",
       "      <td>OnOff</td>\n",
       "    </tr>\n",
       "    <tr>\n",
       "      <th>5</th>\n",
       "      <td>1.0</td>\n",
       "      <td>152</td>\n",
       "      <td>OnOff:PSWITCHON:TPWCAL</td>\n",
       "      <td>1.602189</td>\n",
       "      <td>1.612231e+09</td>\n",
       "      <td>1</td>\n",
       "      <td>T</td>\n",
       "      <td>T</td>\n",
       "      <td>1</td>\n",
       "      <td>1</td>\n",
       "      <td>0</td>\n",
       "      <td>OnOff</td>\n",
       "    </tr>\n",
       "    <tr>\n",
       "      <th>6</th>\n",
       "      <td>1.0</td>\n",
       "      <td>152</td>\n",
       "      <td>OnOff:PSWITCHON:TPWCAL</td>\n",
       "      <td>1.575624</td>\n",
       "      <td>1.612231e+09</td>\n",
       "      <td>1</td>\n",
       "      <td>T</td>\n",
       "      <td>F</td>\n",
       "      <td>1</td>\n",
       "      <td>0</td>\n",
       "      <td>0</td>\n",
       "      <td>OnOff</td>\n",
       "    </tr>\n",
       "    <tr>\n",
       "      <th>7</th>\n",
       "      <td>1.0</td>\n",
       "      <td>152</td>\n",
       "      <td>OnOff:PSWITCHON:TPWCAL</td>\n",
       "      <td>1.575624</td>\n",
       "      <td>1.612231e+09</td>\n",
       "      <td>1</td>\n",
       "      <td>T</td>\n",
       "      <td>T</td>\n",
       "      <td>1</td>\n",
       "      <td>0</td>\n",
       "      <td>0</td>\n",
       "      <td>OnOff</td>\n",
       "    </tr>\n",
       "    <tr>\n",
       "      <th>8</th>\n",
       "      <td>1.0</td>\n",
       "      <td>152</td>\n",
       "      <td>OnOff:PSWITCHON:TPWCAL</td>\n",
       "      <td>1.441578</td>\n",
       "      <td>1.665402e+09</td>\n",
       "      <td>1</td>\n",
       "      <td>T</td>\n",
       "      <td>F</td>\n",
       "      <td>2</td>\n",
       "      <td>1</td>\n",
       "      <td>0</td>\n",
       "      <td>OnOff</td>\n",
       "    </tr>\n",
       "    <tr>\n",
       "      <th>9</th>\n",
       "      <td>1.0</td>\n",
       "      <td>152</td>\n",
       "      <td>OnOff:PSWITCHON:TPWCAL</td>\n",
       "      <td>1.441578</td>\n",
       "      <td>1.665402e+09</td>\n",
       "      <td>1</td>\n",
       "      <td>T</td>\n",
       "      <td>T</td>\n",
       "      <td>2</td>\n",
       "      <td>1</td>\n",
       "      <td>0</td>\n",
       "      <td>OnOff</td>\n",
       "    </tr>\n",
       "    <tr>\n",
       "      <th>10</th>\n",
       "      <td>1.0</td>\n",
       "      <td>152</td>\n",
       "      <td>OnOff:PSWITCHON:TPWCAL</td>\n",
       "      <td>1.472222</td>\n",
       "      <td>1.665402e+09</td>\n",
       "      <td>1</td>\n",
       "      <td>T</td>\n",
       "      <td>F</td>\n",
       "      <td>2</td>\n",
       "      <td>0</td>\n",
       "      <td>0</td>\n",
       "      <td>OnOff</td>\n",
       "    </tr>\n",
       "    <tr>\n",
       "      <th>11</th>\n",
       "      <td>1.0</td>\n",
       "      <td>152</td>\n",
       "      <td>OnOff:PSWITCHON:TPWCAL</td>\n",
       "      <td>1.472222</td>\n",
       "      <td>1.665402e+09</td>\n",
       "      <td>1</td>\n",
       "      <td>T</td>\n",
       "      <td>T</td>\n",
       "      <td>2</td>\n",
       "      <td>0</td>\n",
       "      <td>0</td>\n",
       "      <td>OnOff</td>\n",
       "    </tr>\n",
       "    <tr>\n",
       "      <th>12</th>\n",
       "      <td>1.0</td>\n",
       "      <td>152</td>\n",
       "      <td>OnOff:PSWITCHON:TPWCAL</td>\n",
       "      <td>1.437900</td>\n",
       "      <td>1.667359e+09</td>\n",
       "      <td>1</td>\n",
       "      <td>T</td>\n",
       "      <td>F</td>\n",
       "      <td>3</td>\n",
       "      <td>1</td>\n",
       "      <td>0</td>\n",
       "      <td>OnOff</td>\n",
       "    </tr>\n",
       "    <tr>\n",
       "      <th>13</th>\n",
       "      <td>1.0</td>\n",
       "      <td>152</td>\n",
       "      <td>OnOff:PSWITCHON:TPWCAL</td>\n",
       "      <td>1.437900</td>\n",
       "      <td>1.667359e+09</td>\n",
       "      <td>1</td>\n",
       "      <td>T</td>\n",
       "      <td>T</td>\n",
       "      <td>3</td>\n",
       "      <td>1</td>\n",
       "      <td>0</td>\n",
       "      <td>OnOff</td>\n",
       "    </tr>\n",
       "    <tr>\n",
       "      <th>14</th>\n",
       "      <td>1.0</td>\n",
       "      <td>152</td>\n",
       "      <td>OnOff:PSWITCHON:TPWCAL</td>\n",
       "      <td>1.470466</td>\n",
       "      <td>1.667359e+09</td>\n",
       "      <td>1</td>\n",
       "      <td>T</td>\n",
       "      <td>F</td>\n",
       "      <td>3</td>\n",
       "      <td>0</td>\n",
       "      <td>0</td>\n",
       "      <td>OnOff</td>\n",
       "    </tr>\n",
       "    <tr>\n",
       "      <th>15</th>\n",
       "      <td>1.0</td>\n",
       "      <td>152</td>\n",
       "      <td>OnOff:PSWITCHON:TPWCAL</td>\n",
       "      <td>1.470466</td>\n",
       "      <td>1.667359e+09</td>\n",
       "      <td>1</td>\n",
       "      <td>T</td>\n",
       "      <td>T</td>\n",
       "      <td>3</td>\n",
       "      <td>0</td>\n",
       "      <td>0</td>\n",
       "      <td>OnOff</td>\n",
       "    </tr>\n",
       "    <tr>\n",
       "      <th>16</th>\n",
       "      <td>1.0</td>\n",
       "      <td>152</td>\n",
       "      <td>OnOff:PSWITCHON:TPWCAL</td>\n",
       "      <td>1.368714</td>\n",
       "      <td>1.720530e+09</td>\n",
       "      <td>1</td>\n",
       "      <td>T</td>\n",
       "      <td>F</td>\n",
       "      <td>4</td>\n",
       "      <td>1</td>\n",
       "      <td>0</td>\n",
       "      <td>OnOff</td>\n",
       "    </tr>\n",
       "    <tr>\n",
       "      <th>17</th>\n",
       "      <td>1.0</td>\n",
       "      <td>152</td>\n",
       "      <td>OnOff:PSWITCHON:TPWCAL</td>\n",
       "      <td>1.368714</td>\n",
       "      <td>1.720530e+09</td>\n",
       "      <td>1</td>\n",
       "      <td>T</td>\n",
       "      <td>T</td>\n",
       "      <td>4</td>\n",
       "      <td>1</td>\n",
       "      <td>0</td>\n",
       "      <td>OnOff</td>\n",
       "    </tr>\n",
       "    <tr>\n",
       "      <th>18</th>\n",
       "      <td>1.0</td>\n",
       "      <td>152</td>\n",
       "      <td>OnOff:PSWITCHON:TPWCAL</td>\n",
       "      <td>1.419783</td>\n",
       "      <td>1.720530e+09</td>\n",
       "      <td>1</td>\n",
       "      <td>T</td>\n",
       "      <td>F</td>\n",
       "      <td>4</td>\n",
       "      <td>0</td>\n",
       "      <td>0</td>\n",
       "      <td>OnOff</td>\n",
       "    </tr>\n",
       "    <tr>\n",
       "      <th>19</th>\n",
       "      <td>1.0</td>\n",
       "      <td>152</td>\n",
       "      <td>OnOff:PSWITCHON:TPWCAL</td>\n",
       "      <td>1.419783</td>\n",
       "      <td>1.720530e+09</td>\n",
       "      <td>1</td>\n",
       "      <td>T</td>\n",
       "      <td>T</td>\n",
       "      <td>4</td>\n",
       "      <td>0</td>\n",
       "      <td>0</td>\n",
       "      <td>OnOff</td>\n",
       "    </tr>\n",
       "  </tbody>\n",
       "</table>\n",
       "</div>"
      ],
      "text/plain": [
       "    TSYS  SCAN                 OBSMODE      TCAL      RESTFREQ  PROCSEQN SIG  \\\n",
       "0    1.0   152  OnOff:PSWITCHON:TPWCAL  1.428060  1.420406e+09         1   T   \n",
       "1    1.0   152  OnOff:PSWITCHON:TPWCAL  1.428060  1.420406e+09         1   T   \n",
       "2    1.0   152  OnOff:PSWITCHON:TPWCAL  1.455164  1.420406e+09         1   T   \n",
       "3    1.0   152  OnOff:PSWITCHON:TPWCAL  1.455164  1.420406e+09         1   T   \n",
       "4    1.0   152  OnOff:PSWITCHON:TPWCAL  1.602189  1.612231e+09         1   T   \n",
       "5    1.0   152  OnOff:PSWITCHON:TPWCAL  1.602189  1.612231e+09         1   T   \n",
       "6    1.0   152  OnOff:PSWITCHON:TPWCAL  1.575624  1.612231e+09         1   T   \n",
       "7    1.0   152  OnOff:PSWITCHON:TPWCAL  1.575624  1.612231e+09         1   T   \n",
       "8    1.0   152  OnOff:PSWITCHON:TPWCAL  1.441578  1.665402e+09         1   T   \n",
       "9    1.0   152  OnOff:PSWITCHON:TPWCAL  1.441578  1.665402e+09         1   T   \n",
       "10   1.0   152  OnOff:PSWITCHON:TPWCAL  1.472222  1.665402e+09         1   T   \n",
       "11   1.0   152  OnOff:PSWITCHON:TPWCAL  1.472222  1.665402e+09         1   T   \n",
       "12   1.0   152  OnOff:PSWITCHON:TPWCAL  1.437900  1.667359e+09         1   T   \n",
       "13   1.0   152  OnOff:PSWITCHON:TPWCAL  1.437900  1.667359e+09         1   T   \n",
       "14   1.0   152  OnOff:PSWITCHON:TPWCAL  1.470466  1.667359e+09         1   T   \n",
       "15   1.0   152  OnOff:PSWITCHON:TPWCAL  1.470466  1.667359e+09         1   T   \n",
       "16   1.0   152  OnOff:PSWITCHON:TPWCAL  1.368714  1.720530e+09         1   T   \n",
       "17   1.0   152  OnOff:PSWITCHON:TPWCAL  1.368714  1.720530e+09         1   T   \n",
       "18   1.0   152  OnOff:PSWITCHON:TPWCAL  1.419783  1.720530e+09         1   T   \n",
       "19   1.0   152  OnOff:PSWITCHON:TPWCAL  1.419783  1.720530e+09         1   T   \n",
       "\n",
       "   CAL  IFNUM  PLNUM  FDNUM   PROC  \n",
       "0    F      0      1      0  OnOff  \n",
       "1    T      0      1      0  OnOff  \n",
       "2    F      0      0      0  OnOff  \n",
       "3    T      0      0      0  OnOff  \n",
       "4    F      1      1      0  OnOff  \n",
       "5    T      1      1      0  OnOff  \n",
       "6    F      1      0      0  OnOff  \n",
       "7    T      1      0      0  OnOff  \n",
       "8    F      2      1      0  OnOff  \n",
       "9    T      2      1      0  OnOff  \n",
       "10   F      2      0      0  OnOff  \n",
       "11   T      2      0      0  OnOff  \n",
       "12   F      3      1      0  OnOff  \n",
       "13   T      3      1      0  OnOff  \n",
       "14   F      3      0      0  OnOff  \n",
       "15   T      3      0      0  OnOff  \n",
       "16   F      4      1      0  OnOff  \n",
       "17   T      4      1      0  OnOff  \n",
       "18   F      4      0      0  OnOff  \n",
       "19   T      4      0      0  OnOff  "
      ]
     },
     "execution_count": 30,
     "metadata": {},
     "output_type": "execute_result"
    }
   ],
   "source": [
    "columns = [\"SCAN\",\"PROC\",\"PROCSEQN\",\"IFNUM\",\"PLNUM\",\"SIG\",\"CAL\",\"TSYS\",\"TCAL\", \"OBSMODE\",\"FDNUM\", \"RESTFREQ\"]\n",
    "df = p._ptable[0]\n",
    "df[df.columns & columns][0:20]\n",
    "#df[(df['SIG'] == 'F') & (df['CAL']=='T')][(df.columns & columns)]"
   ]
  },
  {
   "cell_type": "markdown",
   "id": "f90741e3-6146-4df4-89d5-8b6be6f00e22",
   "metadata": {},
   "source": [
    "## Get a position switch scan and calibrate it.\n",
    "The default ifnum=0, plnum=0"
   ]
  },
  {
   "cell_type": "code",
   "execution_count": 18,
   "id": "610d6c4d-54fc-4f56-beb5-10eb3d848781",
   "metadata": {},
   "outputs": [
    {
     "name": "stdout",
     "output_type": "stream",
     "text": [
      "PSSCAN nrows = 302\n"
     ]
    }
   ],
   "source": [
    "# eventually this will have calibrate=True as the default, so you don't need to call calibrate().\n",
    "psscan = p.getps(152)"
   ]
  },
  {
   "cell_type": "code",
   "execution_count": 19,
   "id": "de023f21-2f5c-4466-b55a-f3c5ff351e61",
   "metadata": {},
   "outputs": [],
   "source": [
    "psscan.calibrate()"
   ]
  },
  {
   "cell_type": "markdown",
   "id": "6e3b0bc9-9d5c-4bb6-9075-26b9086cf7f9",
   "metadata": {},
   "source": [
    "### the raw calibrated numpy array"
   ]
  },
  {
   "cell_type": "code",
   "execution_count": 20,
   "id": "35764215-5cf3-4b61-9955-41f324e06f8f",
   "metadata": {},
   "outputs": [
    {
     "data": {
      "text/plain": [
       "array([-0.36949378,  0.6447438 , -1.0699384 , ...,  1.0231373 ,\n",
       "        0.17274837,  0.18792354], dtype=float32)"
      ]
     },
     "execution_count": 20,
     "metadata": {},
     "output_type": "execute_result"
    }
   ],
   "source": [
    "psscan._calibrated[0]"
   ]
  },
  {
   "cell_type": "markdown",
   "id": "209c6253-4ed1-4135-9e87-1ebaec734f21",
   "metadata": {},
   "source": [
    "### A single integration of the calibrated Spectrum"
   ]
  },
  {
   "cell_type": "code",
   "execution_count": 21,
   "id": "c83feceb-7435-4231-a0bd-cd177ad96e6f",
   "metadata": {},
   "outputs": [
    {
     "data": {
      "text/plain": [
       "True"
      ]
     },
     "execution_count": 21,
     "metadata": {},
     "output_type": "execute_result"
    }
   ],
   "source": [
    "spec1 = psscan.calibrated(0)\n",
    "spec1.unit == u.K"
   ]
  },
  {
   "cell_type": "code",
   "execution_count": 22,
   "id": "54b6cea7-d0be-484f-9363-35d90a146226",
   "metadata": {},
   "outputs": [
    {
     "data": {
      "image/png": "[encoded data removed]",
      "text/plain": [
       "<Figure size 640x480 with 1 Axes>"
      ]
     },
     "metadata": {},
     "output_type": "display_data"
    }
   ],
   "source": [
    "sp = SpectrumPlot(spec1)\n",
    "sp.plot(xaxis_unit=\"km/s\")"
   ]
  },
  {
   "cell_type": "code",
   "execution_count": null,
   "id": "4b7446a8-a455-4a78-b8fb-7f318fba399d",
   "metadata": {},
   "outputs": [],
   "source": [
    "if False:\n",
    "    fig,ax = plt.subplots()\n",
    "    ax.set_ylim([-4,4])\n",
    "    ax.plot(spec1.spectral_axis,spec1.flux)\n",
    "    ax.set_xlabel(\"Frequency (GHz)\")\n",
    "    ax.set_ylabel(r\"$T_a$ (K)\")"
   ]
  },
  {
   "cell_type": "code",
   "execution_count": null,
   "id": "78639ed9-1899-4a54-b451-56bd29a350d5",
   "metadata": {},
   "outputs": [],
   "source": [
    "## ignore this\n",
    "if False:\n",
    "    flx = np.mean(psscan._calibrated[np.arange(0,len(psscan._calibrated),4)])\n",
    "    fig,ax = plt.subplots()\n",
    "    ax.set_ylim([-4,4])\n",
    "    ax.plot(psscan.calibrated(0).spectral_axis,flx)\n",
    "    all(psscan.calibrated(0).spectral_axis==psscan.calibrated(3).spectral_axis),all(psscan.calibrated(4).spectral_axis==psscan.calibrated(7).spectral_axis)"
   ]
  },
  {
   "cell_type": "markdown",
   "id": "5e37156f-3a6c-4d52-bc65-97dd7901df68",
   "metadata": {},
   "source": [
    "### The average spectrum.  \n",
    "Note this will be encapsulated in a average() method.\n",
    "Compare this with GBTIDL `getps, 152`"
   ]
  },
  {
   "cell_type": "code",
   "execution_count": 23,
   "id": "32d6bb9c-eead-4db0-b7e1-7a6ba171ad94",
   "metadata": {},
   "outputs": [
    {
     "name": "stdout",
     "output_type": "stream",
     "text": [
      "T_sys = 17.17232315879513\n"
     ]
    },
    {
     "data": {
      "image/png": "[encoded data removed]",
      "text/plain": [
       "<Figure size 640x480 with 1 Axes>"
      ]
     },
     "metadata": {},
     "output_type": "display_data"
    }
   ],
   "source": [
    "avg = Spectrum(spectral_axis=psscan.calibrated(0).spectral_axis,flux=np.mean(psscan._calibrated)*u.K)\n",
    "fig,ax=plt.subplots()\n",
    "ax.plot(avg.spectral_axis,avg.flux)\n",
    "ax.set_xlabel(\"Frequency (GHz)\")\n",
    "ax.set_ylabel(r\"$T_a$ (K)\")\n",
    "print(f\"T_sys = {np.mean(psscan.tsys)}\")"
   ]
  },
  {
   "cell_type": "markdown",
   "id": "5882f438-270b-4d33-83f5-60147f8d662f",
   "metadata": {},
   "source": [
    "### Try a different polarization and IF and use the OFF scan number\n",
    "GBTIDL `getps, 153, ifnum=1, plnum=1`"
   ]
  },
  {
   "cell_type": "code",
   "execution_count": 31,
   "id": "4e81e83c-ad8d-4a3d-a49e-782da34768f1",
   "metadata": {},
   "outputs": [
    {
     "name": "stdout",
     "output_type": "stream",
     "text": [
      "PSSCAN nrows = 302\n"
     ]
    }
   ],
   "source": [
    "psscan = p.getps(153,plnum=1,ifnum=1)\n",
    "psscan.calibrate()"
   ]
  },
  {
   "cell_type": "code",
   "execution_count": 32,
   "id": "930f1d34-f799-4452-9b18-06be3d9df9a8",
   "metadata": {},
   "outputs": [
    {
     "name": "stdout",
     "output_type": "stream",
     "text": [
      "T_sys = 21.32320216292886\n"
     ]
    },
    {
     "data": {
      "image/png": "[encoded data removed]",
      "text/plain": [
       "<Figure size 640x480 with 1 Axes>"
      ]
     },
     "metadata": {},
     "output_type": "display_data"
    }
   ],
   "source": [
    "avg = Spectrum(spectral_axis=psscan.calibrated(0).spectral_axis,flux=np.mean(psscan._calibrated)*u.K)\n",
    "fig,ax=plt.subplots()\n",
    "ax.plot(avg.spectral_axis,avg.flux)\n",
    "ax.set_xlabel(\"Frequency (GHz)\")\n",
    "ax.set_ylabel(r\"$T_a$ (K)\")\n",
    "print(f\"T_sys = {np.mean(psscan.tsys)}\")"
   ]
  },
  {
   "cell_type": "markdown",
   "id": "44542afe-67b9-473d-bcbc-7d5a75c71b41",
   "metadata": {},
   "source": [
    "-----\n",
    "# Debugging from here down."
   ]
  },
  {
   "cell_type": "code",
   "execution_count": null,
   "id": "b24a1ad3-f497-4c4d-8641-fa09ca97fdf8",
   "metadata": {},
   "outputs": [],
   "source": [
    "df = p._ptable[0]\n",
    "len(p.select('OBJECT','NGC2415',p._ptable[0]))//p.npol(0)"
   ]
  },
  {
   "cell_type": "code",
   "execution_count": null,
   "id": "3cbbb8b7-5703-4a7d-b4aa-813c4a5e9f1c",
   "metadata": {},
   "outputs": [],
   "source": [
    "psscan.meta"
   ]
  },
  {
   "cell_type": "code",
   "execution_count": null,
   "id": "c38dfbf4-9332-44d4-95be-23225a5a8939",
   "metadata": {},
   "outputs": [],
   "source": [
    "p.index(0).iloc[psscan._scanrows[\"OFF\"]][\"CAL\"]"
   ]
  },
  {
   "cell_type": "code",
   "execution_count": null,
   "id": "cb7d1dfc-31ff-4abc-b0fb-e2280dd18f4c",
   "metadata": {},
   "outputs": [],
   "source": [
    "psscan.calibrate()"
   ]
  },
  {
   "cell_type": "code",
   "execution_count": null,
   "id": "545083db-790c-4ded-89eb-4821fb0e1bbd",
   "metadata": {},
   "outputs": [],
   "source": [
    "df = p._ptable[0]\n",
    "scans = [152,153]\n",
    "df2=df[df[\"SCAN\"].isin([152])]\n",
    "df3=df[df[\"SCAN\"].isin([153])]\n",
    "df4=df[df[\"SCAN\"].isin([156])]\n",
    "un = df2.index.union(df3.index)\n",
    "un2=df2.index\n",
    "un3=df3.index\n",
    "df[\"SCAN\"].iloc[un2]\n",
    "df3.reindex(un2).index"
   ]
  },
  {
   "cell_type": "code",
   "execution_count": null,
   "id": "ffe31e4e-fa2f-435e-8b48-c545df2beb33",
   "metadata": {},
   "outputs": [],
   "source": [
    "on = [152,154,156]\n",
    "off = [153,155,157]\n",
    "scans = [152,155]\n",
    "onrequested = set(on).intersection(scans)\n",
    "offrequested = set(off).intersection(scans)\n",
    "sons = list(onrequested.copy())\n",
    "soffs = list(offrequested.copy())\n",
    "missingoff = []\n",
    "missingon = []\n",
    "setoff = set(off)\n",
    "seton = set(on)\n",
    "for i in onrequested:\n",
    "    expectedoff = i+1\n",
    "    if len(setoff.intersection([expectedoff])) == 0:\n",
    "        missingoff.append(expectedoff)\n",
    "    else:\n",
    "        soffs.append(expectedoff)\n",
    "for i in offrequested:\n",
    "    expectedon = i-1\n",
    "    if len(seton.intersection([expectedon])) == 0:\n",
    "        missingon.append(expectedon)\n",
    "    else:\n",
    "        sons.append(expectedon)\n",
    "if len(missingoff) > 0:\n",
    "    raise ValueError(f\"For the requested ON scans {onrequested}, the OFF scans {missingoff} were not present in bintable {bintable}\")\n",
    "if len(missingon) > 0:\n",
    "    raise ValueError(f\"For the requested OFF scans {offrequested}, the ON scans {missingon} were not present in bintable {bintable}\")\n",
    "print(\"ON\",sorted(sons))\n",
    "print(\"OFF\",sorted(soffs))"
   ]
  },
  {
   "cell_type": "code",
   "execution_count": null,
   "id": "3cd32864-2081-406e-a14e-e4483136842b",
   "metadata": {},
   "outputs": [],
   "source": [
    "scanlist=p.onoff_scan_list()\n",
    "print(scanlist)\n",
    "#scanlist = p.onoff_scan_list([152])\n",
    "#print(scanlist)\n",
    "scanlist = p.onoff_scan_list([153])\n",
    "print(scanlist)\n",
    "scanlist = p.onoff_scan_list([152,153])\n",
    "print(scanlist)\n",
    "scanlist = p.onoff_scan_list(152)\n",
    "print(scanlist)"
   ]
  },
  {
   "cell_type": "code",
   "execution_count": null,
   "id": "efe7ba31-2218-4917-9ade-6d6ecb4a2347",
   "metadata": {},
   "outputs": [],
   "source": [
    "print(sonoff(p.index(0)[\"SCAN\"],p.index(0)[\"PROCSEQN\"]))\n",
    "myscans = set(sorted([153,155]))\n",
    "scanlist=p.onoff_scan_list()\n",
    "print(scanlist)\n",
    "allscans = set(sorted(scanlist[\"ON\"]+scanlist[\"OFF\"]+[1,2,3,4,5]))\n",
    "print(allscans)\n",
    "z=allscans.intersection(myscans)\n",
    "zz =allscans.difference(myscans)\n",
    "zzz=myscans.difference(allscans)\n",
    "print(z,zz,zzz)"
   ]
  },
  {
   "cell_type": "code",
   "execution_count": null,
   "id": "13f88a4c-07e3-4c07-b331-c41cab973b44",
   "metadata": {},
   "outputs": [],
   "source": [
    "psscan = p.getps(scans=[152])"
   ]
  },
  {
   "cell_type": "code",
   "execution_count": null,
   "id": "e8e4fb51-f536-4def-be44-797e61629240",
   "metadata": {},
   "outputs": [],
   "source": [
    "df = p._ptable[0]\n",
    "rows=list(df[df[\"SCAN\"].isin(scans[\"ON\"])].index)\n",
    "df"
   ]
  },
  {
   "cell_type": "code",
   "execution_count": null,
   "id": "cb751350-f340-48af-8688-6400a5cdbc34",
   "metadata": {},
   "outputs": [],
   "source": [
    "rows=p.onoff_rows()\n",
    "rows"
   ]
  },
  {
   "cell_type": "code",
   "execution_count": null,
   "id": "b032052c-27a1-4298-99c8-a3ef7b273a62",
   "metadata": {},
   "outputs": [],
   "source": [
    "show = [\"SCAN\", \"PROCSEQN\", \"PROCSIZE\", \"_OBSTYPE\"]\n",
    "df=df[df.columns & show]\n",
    "df[df[\"_OBSTYPE\"]==\"PSWITCHOFF\"]"
   ]
  },
  {
   "cell_type": "code",
   "execution_count": null,
   "id": "b9bd0e0c-effa-41c0-a434-3f862ddb7a09",
   "metadata": {},
   "outputs": [],
   "source": [
    "dict(p._ptable[0].iloc[0])"
   ]
  },
  {
   "cell_type": "code",
   "execution_count": null,
   "id": "0e431431-e505-49ab-9147-27e891800aa3",
   "metadata": {},
   "outputs": [],
   "source": [
    "df[\"RESTFREQ\"]/=1E9\n",
    "df[\"RESTFREQ\"]"
   ]
  },
  {
   "cell_type": "code",
   "execution_count": null,
   "id": "23f0bffb-e693-437e-a1b8-177d98b894b8",
   "metadata": {},
   "outputs": [],
   "source": [
    "show = [\"SCAN\", \"OBJECT\", \"OBSMODE\", \"VELOCITY\", \"PROCSCAN\", \"PROCSEQN\", \"PROCTYPE\", \"PROCSIZE\", \"RESTFREQ\", \"IFNUM\",\"FEED\", \"AZIMUTH\", \"ELEVATIO\", \"FDNUM\"] \n",
    "scan = [60,61]\n",
    "_df = df[df.columns & show].reindex(columns=show)"
   ]
  },
  {
   "cell_type": "code",
   "execution_count": null,
   "id": "7f3ab993-bd5a-4a4a-8eee-8ebd3fc9ba05",
   "metadata": {},
   "outputs": [],
   "source": [
    "_df[\"OBSMODE\"].str.split(':',expand=True)"
   ]
  },
  {
   "cell_type": "code",
   "execution_count": null,
   "id": "9734e259-6e83-4c45-9f36-d39a54d580a3",
   "metadata": {},
   "outputs": [],
   "source": [
    "\n",
    "_df[(_df[\"SCAN\"]>=scan[0]) & ( _df[\"SCAN\"] <= scan[1])]"
   ]
  },
  {
   "cell_type": "code",
   "execution_count": null,
   "id": "9481a149-c1db-47e9-9c75-74724cda933b",
   "metadata": {},
   "outputs": [],
   "source": [
    "df[\"SCAN\"]"
   ]
  },
  {
   "cell_type": "code",
   "execution_count": null,
   "id": "0c7574bf-7d6f-4fd9-bae1-ebb5efc6b029",
   "metadata": {},
   "outputs": [],
   "source": [
    "df['PROCTYPE']"
   ]
  },
  {
   "cell_type": "code",
   "execution_count": null,
   "id": "59b6be1e-29f2-4c70-bfc4-9b830c3a1d41",
   "metadata": {},
   "outputs": [],
   "source": []
  },
  {
   "cell_type": "code",
   "execution_count": null,
   "id": "43ca5580-f9d8-4cfc-a957-f91194f547a0",
   "metadata": {},
   "outputs": [],
   "source": []
  },
  {
   "cell_type": "code",
   "execution_count": null,
   "id": "2dddf8b5-d361-4bef-998b-1473071d1960",
   "metadata": {},
   "outputs": [],
   "source": []
  }
 ],
 "metadata": {
  "kernelspec": {
   "display_name": "Python 3 (ipykernel)",
   "language": "python",
   "name": "python3"
  },
  "language_info": {
   "codemirror_mode": {
    "name": "ipython",
    "version": 3
   },
   "file_extension": ".py",
   "mimetype": "text/x-python",
   "name": "python",
   "nbconvert_exporter": "python",
   "pygments_lexer": "ipython3",
   "version": "3.10.9"
  }
 },
 "nbformat": 4,
 "nbformat_minor": 5
}
