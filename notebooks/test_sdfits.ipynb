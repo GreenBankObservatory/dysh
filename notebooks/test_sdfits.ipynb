{
 "cells": [
  {
   "cell_type": "code",
   "execution_count": 1,
   "id": "33dc10af-604c-4f14-9711-df5ad136f764",
   "metadata": {},
   "outputs": [],
   "source": [
    "from dysh.spectra.spectrum import Spectrum\n",
    "import numpy as np\n",
    "from scipy.stats import norm\n",
    "import astropy.units as u\n",
    "import matplotlib.pyplot as plt\n",
    "from dysh.fits.sdfitsload import SDFITSLoad\n",
    "from dysh.fits.gbtfitsload import GBTFITSLoad\n",
    "from dysh.spectra.scan import PSScan, GBTPSScan\n",
    "import pandas\n",
    "from copy import deepcopy\n",
    "pandas.set_option('display.max_rows', 100)\n",
    "from astropy.modeling.fitting import LevMarLSQFitter,LinearLSQFitter\n",
    "from specutils import Spectrum1D, SpectrumList,SpectralRegion\n",
    "from astropy.nddata import StdDevUncertainty\n",
    "from specutils.fitting import fit_continuum\n",
    "import matplotlib.pyplot as plt\n",
    "from dysh.spectra import dcmeantsys,tsys_weight,average\n",
    "from dysh.plot.specplot import SpectrumPlot\n",
    "from astropy.io import fits\n",
    "from astropy.table import Table\n",
    "import pandas as pd\n",
    "#%matplotlib notebook"
   ]
  },
  {
   "cell_type": "markdown",
   "id": "3555b4b0-097b-4ab6-81d3-6315a6cbaa27",
   "metadata": {},
   "source": [
    "-------------"
   ]
  },
  {
   "cell_type": "markdown",
   "id": "d478a858-dec8-448c-a64a-e8f55108fe5f",
   "metadata": {},
   "source": [
    "# 1. GBTFITSLoad and position-switch calibration testing\n",
    "change to use your specific `datadir`"
   ]
  },
  {
   "cell_type": "code",
   "execution_count": 2,
   "id": "4b0df155-ab44-48a7-8655-2532e051d901",
   "metadata": {},
   "outputs": [
    {
     "name": "stdout",
     "output_type": "stream",
     "text": [
      "Filename: /data/gbt/examples/onoff-L/data/TGBT21A_501_11.raw.vegas.fits\n",
      "No.    Name      Ver    Type      Cards   Dimensions   Format\n",
      "  0  PRIMARY       1 PrimaryHDU      12   ()      \n",
      "  1  SINGLE DISH    1 BinTableHDU    245   6040R x 74C   ['32A', '1D', '22A', '1D', '1D', '1D', '32768E', '16A', '6A', '8A', '1D', '1D', '1D', '4A', '1D', '4A', '1D', '1I', '32A', '32A', '1J', '32A', '16A', '1E', '8A', '1D', '1D', '1D', '1D', '1D', '1D', '1D', '1D', '1D', '1D', '1D', '1D', '8A', '1D', '1D', '12A', '1I', '1I', '1D', '1D', '1I', '1A', '1I', '1I', '16A', '16A', '1J', '1J', '22A', '1D', '1D', '1I', '1A', '1D', '1E', '1D', '1D', '1D', '1D', '1D', '1A', '1A', '8A', '1E', '1E', '16A', '1I', '1I', '1I']   \n"
     ]
    },
    {
     "name": "stderr",
     "output_type": "stream",
     "text": [
      "WARNING: UnitsWarning: 'mmHg' did not parse as fits unit: At col 0, Unit 'mmHg' not supported by the FITS standard.  If this is meant to be a custom unit, define it with 'u.def_unit'. To have it recognized inside a file reader or other code, enable it with 'u.add_enabled_units'. For details, see https://docs.astropy.org/en/latest/units/combining_and_defining.html [astropy.units.core]\n",
      "WARNING: UnitsWarning: 'UTC' did not parse as fits unit: At col 0, Unit 'UTC' not supported by the FITS standard. Did you mean TC, uC or uT? If this is meant to be a custom unit, define it with 'u.def_unit'. To have it recognized inside a file reader or other code, enable it with 'u.add_enabled_units'. For details, see https://docs.astropy.org/en/latest/units/combining_and_defining.html [astropy.units.core]\n"
     ]
    }
   ],
   "source": [
    "datadir = '/data/gbt'\n",
    "#f = datadir + '/examples/misc/ngc5291.fits'\n",
    "f = datadir + '/examples/onoff-L/data/TGBT21A_501_11.raw.vegas.fits'\n",
    "#f = datadir + 'examples/nod-KFPA/data/TGBT22A_503_02.raw.vegas/TGBT22A_503_02.raw.vegas.A.fits'\n",
    "#f = datadir + '/examples/mixed-fs-ps/data/AGBT16B_225_05/AGBT16B_225_05.raw.vegas/AGBT16B_225_05.raw.vegas.A.fits'\n",
    "p = GBTFITSLoad(f)\n",
    "p.info()"
   ]
  },
  {
   "cell_type": "code",
   "execution_count": 3,
   "id": "8645bfaf-1749-400a-8ab5-ccd1f31d0da9",
   "metadata": {},
   "outputs": [
    {
     "data": {
      "text/html": [
       "<div>\n",
       "<style scoped>\n",
       "    .dataframe tbody tr th:only-of-type {\n",
       "        vertical-align: middle;\n",
       "    }\n",
       "\n",
       "    .dataframe tbody tr th {\n",
       "        vertical-align: top;\n",
       "    }\n",
       "\n",
       "    .dataframe thead th {\n",
       "        text-align: right;\n",
       "    }\n",
       "</style>\n",
       "<table border=\"1\" class=\"dataframe\">\n",
       "  <thead>\n",
       "    <tr style=\"text-align: right;\">\n",
       "      <th></th>\n",
       "      <th>SCAN</th>\n",
       "      <th>OBJECT</th>\n",
       "      <th>VELOCITY</th>\n",
       "      <th>PROC</th>\n",
       "      <th>PROCSEQN</th>\n",
       "      <th>RESTFREQ</th>\n",
       "      <th>DOPFREQ</th>\n",
       "      <th># IF</th>\n",
       "      <th># POL</th>\n",
       "      <th># INT</th>\n",
       "      <th># FEED</th>\n",
       "      <th>AZIMUTH</th>\n",
       "      <th>ELEVATIO</th>\n",
       "    </tr>\n",
       "  </thead>\n",
       "  <tbody>\n",
       "    <tr>\n",
       "      <th>0</th>\n",
       "      <td>152.0</td>\n",
       "      <td>NGC2415</td>\n",
       "      <td>3784.0</td>\n",
       "      <td>OnOff</td>\n",
       "      <td>1.0</td>\n",
       "      <td>1.617185</td>\n",
       "      <td>1.420406</td>\n",
       "      <td>5</td>\n",
       "      <td>2</td>\n",
       "      <td>151</td>\n",
       "      <td>1</td>\n",
       "      <td>286.218008</td>\n",
       "      <td>41.62843</td>\n",
       "    </tr>\n",
       "    <tr>\n",
       "      <th>1</th>\n",
       "      <td>153.0</td>\n",
       "      <td>NGC2415</td>\n",
       "      <td>3784.0</td>\n",
       "      <td>OnOff</td>\n",
       "      <td>2.0</td>\n",
       "      <td>1.617185</td>\n",
       "      <td>1.420406</td>\n",
       "      <td>5</td>\n",
       "      <td>2</td>\n",
       "      <td>151</td>\n",
       "      <td>1</td>\n",
       "      <td>286.886521</td>\n",
       "      <td>41.118134</td>\n",
       "    </tr>\n",
       "  </tbody>\n",
       "</table>\n",
       "</div>"
      ],
      "text/plain": [
       "    SCAN   OBJECT VELOCITY   PROC PROCSEQN  RESTFREQ   DOPFREQ # IF # POL  \\\n",
       "0  152.0  NGC2415   3784.0  OnOff      1.0  1.617185  1.420406    5     2   \n",
       "1  153.0  NGC2415   3784.0  OnOff      2.0  1.617185  1.420406    5     2   \n",
       "\n",
       "  # INT # FEED     AZIMUTH   ELEVATIO  \n",
       "0   151      1  286.218008   41.62843  \n",
       "1   151      1  286.886521  41.118134  "
      ]
     },
     "execution_count": 3,
     "metadata": {},
     "output_type": "execute_result"
    }
   ],
   "source": [
    "p.summary()"
   ]
  },
  {
   "cell_type": "code",
   "execution_count": 4,
   "id": "37ea3427-fb57-4e98-bedf-5367a7b08f26",
   "metadata": {},
   "outputs": [
    {
     "data": {
      "text/html": [
       "<div>\n",
       "<style scoped>\n",
       "    .dataframe tbody tr th:only-of-type {\n",
       "        vertical-align: middle;\n",
       "    }\n",
       "\n",
       "    .dataframe tbody tr th {\n",
       "        vertical-align: top;\n",
       "    }\n",
       "\n",
       "    .dataframe thead th {\n",
       "        text-align: right;\n",
       "    }\n",
       "</style>\n",
       "<table border=\"1\" class=\"dataframe\">\n",
       "  <thead>\n",
       "    <tr style=\"text-align: right;\">\n",
       "      <th></th>\n",
       "      <th>SCAN</th>\n",
       "      <th>OBJECT</th>\n",
       "      <th>VELOCITY</th>\n",
       "      <th>PROC</th>\n",
       "      <th>PROCSEQN</th>\n",
       "      <th>RESTFREQ</th>\n",
       "      <th>DOPFREQ</th>\n",
       "      <th>IFNUM</th>\n",
       "      <th>FEED</th>\n",
       "      <th>AZIMUTH</th>\n",
       "      <th>ELEVATIO</th>\n",
       "      <th>FDNUM</th>\n",
       "      <th>PLNUM</th>\n",
       "      <th>SIG</th>\n",
       "      <th>CAL</th>\n",
       "    </tr>\n",
       "  </thead>\n",
       "  <tbody>\n",
       "    <tr>\n",
       "      <th>0</th>\n",
       "      <td>152</td>\n",
       "      <td>NGC2415</td>\n",
       "      <td>3784.0</td>\n",
       "      <td>OnOff</td>\n",
       "      <td>1</td>\n",
       "      <td>1.420406</td>\n",
       "      <td>1.420406</td>\n",
       "      <td>0</td>\n",
       "      <td>1</td>\n",
       "      <td>285.951496</td>\n",
       "      <td>42.100624</td>\n",
       "      <td>0</td>\n",
       "      <td>1</td>\n",
       "      <td>T</td>\n",
       "      <td>F</td>\n",
       "    </tr>\n",
       "    <tr>\n",
       "      <th>1</th>\n",
       "      <td>152</td>\n",
       "      <td>NGC2415</td>\n",
       "      <td>3784.0</td>\n",
       "      <td>OnOff</td>\n",
       "      <td>1</td>\n",
       "      <td>1.420406</td>\n",
       "      <td>1.420406</td>\n",
       "      <td>0</td>\n",
       "      <td>1</td>\n",
       "      <td>285.951496</td>\n",
       "      <td>42.100624</td>\n",
       "      <td>0</td>\n",
       "      <td>1</td>\n",
       "      <td>T</td>\n",
       "      <td>T</td>\n",
       "    </tr>\n",
       "    <tr>\n",
       "      <th>2</th>\n",
       "      <td>152</td>\n",
       "      <td>NGC2415</td>\n",
       "      <td>3784.0</td>\n",
       "      <td>OnOff</td>\n",
       "      <td>1</td>\n",
       "      <td>1.420406</td>\n",
       "      <td>1.420406</td>\n",
       "      <td>0</td>\n",
       "      <td>1</td>\n",
       "      <td>285.951496</td>\n",
       "      <td>42.100624</td>\n",
       "      <td>0</td>\n",
       "      <td>0</td>\n",
       "      <td>T</td>\n",
       "      <td>F</td>\n",
       "    </tr>\n",
       "    <tr>\n",
       "      <th>3</th>\n",
       "      <td>152</td>\n",
       "      <td>NGC2415</td>\n",
       "      <td>3784.0</td>\n",
       "      <td>OnOff</td>\n",
       "      <td>1</td>\n",
       "      <td>1.420406</td>\n",
       "      <td>1.420406</td>\n",
       "      <td>0</td>\n",
       "      <td>1</td>\n",
       "      <td>285.951496</td>\n",
       "      <td>42.100624</td>\n",
       "      <td>0</td>\n",
       "      <td>0</td>\n",
       "      <td>T</td>\n",
       "      <td>T</td>\n",
       "    </tr>\n",
       "    <tr>\n",
       "      <th>4</th>\n",
       "      <td>152</td>\n",
       "      <td>NGC2415</td>\n",
       "      <td>3784.0</td>\n",
       "      <td>OnOff</td>\n",
       "      <td>1</td>\n",
       "      <td>1.612231</td>\n",
       "      <td>1.420406</td>\n",
       "      <td>1</td>\n",
       "      <td>1</td>\n",
       "      <td>285.951496</td>\n",
       "      <td>42.100624</td>\n",
       "      <td>0</td>\n",
       "      <td>1</td>\n",
       "      <td>T</td>\n",
       "      <td>F</td>\n",
       "    </tr>\n",
       "    <tr>\n",
       "      <th>...</th>\n",
       "      <td>...</td>\n",
       "      <td>...</td>\n",
       "      <td>...</td>\n",
       "      <td>...</td>\n",
       "      <td>...</td>\n",
       "      <td>...</td>\n",
       "      <td>...</td>\n",
       "      <td>...</td>\n",
       "      <td>...</td>\n",
       "      <td>...</td>\n",
       "      <td>...</td>\n",
       "      <td>...</td>\n",
       "      <td>...</td>\n",
       "      <td>...</td>\n",
       "      <td>...</td>\n",
       "    </tr>\n",
       "    <tr>\n",
       "      <th>6035</th>\n",
       "      <td>153</td>\n",
       "      <td>NGC2415</td>\n",
       "      <td>3784.0</td>\n",
       "      <td>OnOff</td>\n",
       "      <td>2</td>\n",
       "      <td>1.667359</td>\n",
       "      <td>1.420406</td>\n",
       "      <td>3</td>\n",
       "      <td>1</td>\n",
       "      <td>287.149353</td>\n",
       "      <td>40.652970</td>\n",
       "      <td>0</td>\n",
       "      <td>0</td>\n",
       "      <td>T</td>\n",
       "      <td>T</td>\n",
       "    </tr>\n",
       "    <tr>\n",
       "      <th>6036</th>\n",
       "      <td>153</td>\n",
       "      <td>NGC2415</td>\n",
       "      <td>3784.0</td>\n",
       "      <td>OnOff</td>\n",
       "      <td>2</td>\n",
       "      <td>1.720530</td>\n",
       "      <td>1.420406</td>\n",
       "      <td>4</td>\n",
       "      <td>1</td>\n",
       "      <td>287.149353</td>\n",
       "      <td>40.652970</td>\n",
       "      <td>0</td>\n",
       "      <td>1</td>\n",
       "      <td>T</td>\n",
       "      <td>F</td>\n",
       "    </tr>\n",
       "    <tr>\n",
       "      <th>6037</th>\n",
       "      <td>153</td>\n",
       "      <td>NGC2415</td>\n",
       "      <td>3784.0</td>\n",
       "      <td>OnOff</td>\n",
       "      <td>2</td>\n",
       "      <td>1.720530</td>\n",
       "      <td>1.420406</td>\n",
       "      <td>4</td>\n",
       "      <td>1</td>\n",
       "      <td>287.149353</td>\n",
       "      <td>40.652970</td>\n",
       "      <td>0</td>\n",
       "      <td>1</td>\n",
       "      <td>T</td>\n",
       "      <td>T</td>\n",
       "    </tr>\n",
       "    <tr>\n",
       "      <th>6038</th>\n",
       "      <td>153</td>\n",
       "      <td>NGC2415</td>\n",
       "      <td>3784.0</td>\n",
       "      <td>OnOff</td>\n",
       "      <td>2</td>\n",
       "      <td>1.720530</td>\n",
       "      <td>1.420406</td>\n",
       "      <td>4</td>\n",
       "      <td>1</td>\n",
       "      <td>287.149353</td>\n",
       "      <td>40.652970</td>\n",
       "      <td>0</td>\n",
       "      <td>0</td>\n",
       "      <td>T</td>\n",
       "      <td>F</td>\n",
       "    </tr>\n",
       "    <tr>\n",
       "      <th>6039</th>\n",
       "      <td>153</td>\n",
       "      <td>NGC2415</td>\n",
       "      <td>3784.0</td>\n",
       "      <td>OnOff</td>\n",
       "      <td>2</td>\n",
       "      <td>1.720530</td>\n",
       "      <td>1.420406</td>\n",
       "      <td>4</td>\n",
       "      <td>1</td>\n",
       "      <td>287.149353</td>\n",
       "      <td>40.652970</td>\n",
       "      <td>0</td>\n",
       "      <td>0</td>\n",
       "      <td>T</td>\n",
       "      <td>T</td>\n",
       "    </tr>\n",
       "  </tbody>\n",
       "</table>\n",
       "<p>6040 rows × 15 columns</p>\n",
       "</div>"
      ],
      "text/plain": [
       "      SCAN   OBJECT  VELOCITY   PROC  PROCSEQN  RESTFREQ   DOPFREQ  IFNUM  \\\n",
       "0      152  NGC2415    3784.0  OnOff         1  1.420406  1.420406      0   \n",
       "1      152  NGC2415    3784.0  OnOff         1  1.420406  1.420406      0   \n",
       "2      152  NGC2415    3784.0  OnOff         1  1.420406  1.420406      0   \n",
       "3      152  NGC2415    3784.0  OnOff         1  1.420406  1.420406      0   \n",
       "4      152  NGC2415    3784.0  OnOff         1  1.612231  1.420406      1   \n",
       "...    ...      ...       ...    ...       ...       ...       ...    ...   \n",
       "6035   153  NGC2415    3784.0  OnOff         2  1.667359  1.420406      3   \n",
       "6036   153  NGC2415    3784.0  OnOff         2  1.720530  1.420406      4   \n",
       "6037   153  NGC2415    3784.0  OnOff         2  1.720530  1.420406      4   \n",
       "6038   153  NGC2415    3784.0  OnOff         2  1.720530  1.420406      4   \n",
       "6039   153  NGC2415    3784.0  OnOff         2  1.720530  1.420406      4   \n",
       "\n",
       "      FEED     AZIMUTH   ELEVATIO  FDNUM  PLNUM SIG CAL  \n",
       "0        1  285.951496  42.100624      0      1   T   F  \n",
       "1        1  285.951496  42.100624      0      1   T   T  \n",
       "2        1  285.951496  42.100624      0      0   T   F  \n",
       "3        1  285.951496  42.100624      0      0   T   T  \n",
       "4        1  285.951496  42.100624      0      1   T   F  \n",
       "...    ...         ...        ...    ...    ...  ..  ..  \n",
       "6035     1  287.149353  40.652970      0      0   T   T  \n",
       "6036     1  287.149353  40.652970      0      1   T   F  \n",
       "6037     1  287.149353  40.652970      0      1   T   T  \n",
       "6038     1  287.149353  40.652970      0      0   T   F  \n",
       "6039     1  287.149353  40.652970      0      0   T   T  \n",
       "\n",
       "[6040 rows x 15 columns]"
      ]
     },
     "execution_count": 4,
     "metadata": {},
     "output_type": "execute_result"
    }
   ],
   "source": [
    "p.summary(verbose=True)"
   ]
  },
  {
   "cell_type": "markdown",
   "id": "ffb7a280-7756-45be-8d81-9b79e1b98419",
   "metadata": {},
   "source": [
    "-----------------------------\n",
    "# Get total power scan integrations and plot the time average "
   ]
  },
  {
   "cell_type": "code",
   "execution_count": 5,
   "id": "b2f4a250-ec5f-4a30-a348-d966bb486405",
   "metadata": {},
   "outputs": [
    {
     "name": "stdout",
     "output_type": "stream",
     "text": [
      "151\n",
      "TPSCAN nrows = 151\n"
     ]
    },
    {
     "data": {
      "image/png": "[encoded data removed]",
      "text/plain": [
       "<Figure size 640x480 with 1 Axes>"
      ]
     },
     "metadata": {},
     "output_type": "display_data"
    }
   ],
   "source": [
    "tps = p.gettp(scan=152,sig=True,cal=False,bintable=0,ifnum=0,plnum=0)\n",
    "tps.timeaverage().plot()"
   ]
  },
  {
   "cell_type": "code",
   "execution_count": 6,
   "id": "a855df40-9337-4c1e-a4e6-78d8a19f8ed2",
   "metadata": {},
   "outputs": [
    {
     "data": {
      "image/png": "[encoded data removed]",
      "text/plain": [
       "<Figure size 640x480 with 1 Axes>"
      ]
     },
     "metadata": {},
     "output_type": "display_data"
    }
   ],
   "source": [
    "tps.timeaverage(weights='tsys').plot()"
   ]
  },
  {
   "cell_type": "markdown",
   "id": "a73fc399-c419-46ee-8281-3b4e2d1d8c1d",
   "metadata": {},
   "source": [
    "## get another TP scan with different IF and Polarization and plot the 13th integration"
   ]
  },
  {
   "cell_type": "code",
   "execution_count": 7,
   "id": "5dba32d8-8dea-4e8b-902e-92533ec7df24",
   "metadata": {},
   "outputs": [
    {
     "name": "stdout",
     "output_type": "stream",
     "text": [
      "151\n",
      "TPSCAN nrows = 151\n"
     ]
    },
    {
     "data": {
      "image/png": "[encoded data removed]",
      "text/plain": [
       "<Figure size 640x480 with 1 Axes>"
      ]
     },
     "metadata": {},
     "output_type": "display_data"
    }
   ],
   "source": [
    "tps = p.gettp(scan=153,sig=True,cal=True,bintable=0,ifnum=1,plnum=1)\n",
    "tps.total_power(12).plot()"
   ]
  },
  {
   "cell_type": "markdown",
   "id": "af69d02a-187c-416d-adc2-ce1eae9feaa6",
   "metadata": {},
   "source": [
    "## Try writing scans or records to FITS files and reading them back in\n"
   ]
  },
  {
   "cell_type": "code",
   "execution_count": 8,
   "id": "91a81062-6c6d-4b0d-9676-0b0ffbe994be",
   "metadata": {},
   "outputs": [],
   "source": [
    "scanlist = [152]"
   ]
  },
  {
   "cell_type": "code",
   "execution_count": 9,
   "id": "862cf89f-42b0-491a-908e-bb85e2cfa2da",
   "metadata": {},
   "outputs": [],
   "source": [
    "p.write_scans(\"/tmp/scans.fits\",overwrite=True,checksum=True,output_verify='fix',scans=scanlist)"
   ]
  },
  {
   "cell_type": "code",
   "execution_count": 10,
   "id": "59d10bdf-5c20-4d4e-abf9-97df4b5d3541",
   "metadata": {},
   "outputs": [
    {
     "name": "stdout",
     "output_type": "stream",
     "text": [
      "Filename: /tmp/scans.fits\n",
      "No.    Name      Ver    Type      Cards   Dimensions   Format\n",
      "  0  PRIMARY       1 PrimaryHDU      14   ()      \n",
      "  1  SINGLE DISH    1 BinTableHDU    210   3020R x 74C   [32A, 1D, 22A, 1D, 1D, 1D, 32768E, 16A, 6A, 8A, 1D, 1D, 1D, 4A, 1D, 4A, 1D, 1I, 32A, 32A, 1J, 32A, 16A, 1E, 8A, 1D, 1D, 1D, 1D, 1D, 1D, 1D, 1D, 1D, 1D, 1D, 1D, 8A, 1D, 1D, 12A, 1I, 1I, 1D, 1D, 1I, 1A, 1I, 1I, 16A, 16A, 1J, 1J, 22A, 1D, 1D, 1I, 1A, 1D, 1E, 1D, 1D, 1D, 1D, 1D, 1A, 1A, 8A, 1E, 1E, 16A, 1I, 1I, 1I]   \n"
     ]
    }
   ],
   "source": [
    "x1 = fits.open(\"/tmp/scans.fits\")\n",
    "x1.info()"
   ]
  },
  {
   "cell_type": "code",
   "execution_count": 11,
   "id": "8ebae3d0-6ccc-46f7-93f5-13c11ed3b605",
   "metadata": {},
   "outputs": [
    {
     "data": {
      "text/plain": [
       "XTENSION= 'BINTABLE'           / binary table extension                         \n",
       "BITPIX  =                    8 / array data type                                \n",
       "NAXIS   =                    2 / number of array dimensions                     \n",
       "NAXIS1  =               131698 / length of dimension 1                          \n",
       "NAXIS2  =                 3020 / length of dimension 2                          \n",
       "PCOUNT  =                    0 / number of group parameters                     \n",
       "GCOUNT  =                    1 / number of groups                               \n",
       "TFIELDS =                   74 / number of table fields                         \n",
       "COMMENT Start of SDFITS CORE keywords/columns.                                  \n",
       "TELESCOP= 'NRAO_GBT'           / the telescope used                             \n",
       "COMMENT End of SDFITS CORE keywords/columns.                                    \n",
       "COMMENT Start of SDFITS DATA column and descriptive axes.                       \n",
       "CTYPE4  = 'STOKES  '           / fourth axis is Stokes                          \n",
       "COMMENT End of SDFITS DATA column and descriptive axes.                         \n",
       "COMMENT Start of SDFITS SHARED keywords/columns.                                \n",
       "PROJID  = 'TGBT21A_501_11'     / project identifier                             \n",
       "BACKEND = 'VEGAS   '           / backend device                                 \n",
       "SITELONG=        -7.983983E+01 / E. longitude of intersection of the az/el axes \n",
       "SITELAT =         3.843312E+01 / N. latitude of intersection of the az/el axes  \n",
       "SITEELEV=         8.245950E+02 / height of the intersection of az/el axes       \n",
       "COMMENT End of SDFITS SHARED keywords/columns.                                  \n",
       "COMMENT Start of GBT-specific keywords/columns.                                 \n",
       "COMMENT Feed offsets ARE included in the CRVAL2 and CRVAL3 columns              \n",
       "COMMENT Columns describing VEGAS spur locations                                 \n",
       "COMMENT   SPUR_CHANNEL = (J-VSPRVAL)*VSPDELT+VSPRPIX                            \n",
       "COMMENT   0 <= J <= 32                                                          \n",
       "COMMENT   spur channels are along the frequency axis                            \n",
       "COMMENT End of GBT-specific keywords/columns.                                   \n",
       "EXTNAME = 'SINGLE DISH'        / name of this binary table extension            \n",
       "TTYPE1  = 'OBJECT  '                                                            \n",
       "TFORM1  = '32A     '                                                            \n",
       "TTYPE2  = 'BANDWID '                                                            \n",
       "TFORM2  = '1D      '                                                            \n",
       "TUNIT2  = 'Hz      '                                                            \n",
       "TTYPE3  = 'DATE-OBS'                                                            \n",
       "TFORM3  = '22A     '                                                            \n",
       "TTYPE4  = 'DURATION'                                                            \n",
       "TFORM4  = '1D      '                                                            \n",
       "TUNIT4  = 's       '                                                            \n",
       "TTYPE5  = 'EXPOSURE'                                                            \n",
       "TFORM5  = '1D      '                                                            \n",
       "TUNIT5  = 's       '                                                            \n",
       "TTYPE6  = 'TSYS    '                                                            \n",
       "TFORM6  = '1D      '                                                            \n",
       "TUNIT6  = 'K       '                                                            \n",
       "TTYPE7  = 'DATA    '                                                            \n",
       "TFORM7  = '32768E  '                                                            \n",
       "TTYPE8  = 'TDIM7   '                                                            \n",
       "TFORM8  = '16A     '                                                            \n",
       "TTYPE9  = 'TUNIT7  '                                                            \n",
       "TFORM9  = '6A      '                                                            \n",
       "TTYPE10 = 'CTYPE1  '                                                            \n",
       "TFORM10 = '8A      '                                                            \n",
       "TUNIT10 = 'Hz      '                                                            \n",
       "TTYPE11 = 'CRVAL1  '                                                            \n",
       "TFORM11 = '1D      '                                                            \n",
       "TUNIT11 = 'Hz      '                                                            \n",
       "TTYPE12 = 'CRPIX1  '                                                            \n",
       "TFORM12 = '1D      '                                                            \n",
       "TTYPE13 = 'CDELT1  '                                                            \n",
       "TFORM13 = '1D      '                                                            \n",
       "TUNIT13 = 'Hz      '                                                            \n",
       "TTYPE14 = 'CTYPE2  '                                                            \n",
       "TFORM14 = '4A      '                                                            \n",
       "TTYPE15 = 'CRVAL2  '                                                            \n",
       "TFORM15 = '1D      '                                                            \n",
       "TUNIT15 = 'deg     '                                                            \n",
       "TTYPE16 = 'CTYPE3  '                                                            \n",
       "TFORM16 = '4A      '                                                            \n",
       "TTYPE17 = 'CRVAL3  '                                                            \n",
       "TFORM17 = '1D      '                                                            \n",
       "TUNIT17 = 'deg     '                                                            \n",
       "TTYPE18 = 'CRVAL4  '                                                            \n",
       "TFORM18 = '1I      '                                                            \n",
       "TTYPE19 = 'OBSERVER'                                                            \n",
       "TFORM19 = '32A     '                                                            \n",
       "TTYPE20 = 'OBSID   '                                                            \n",
       "TFORM20 = '32A     '                                                            \n",
       "TTYPE21 = 'SCAN    '                                                            \n",
       "TFORM21 = '1J      '                                                            \n",
       "TTYPE22 = 'OBSMODE '                                                            \n",
       "TFORM22 = '32A     '                                                            \n",
       "TTYPE23 = 'FRONTEND'                                                            \n",
       "TFORM23 = '16A     '                                                            \n",
       "TTYPE24 = 'TCAL    '                                                            \n",
       "TFORM24 = '1E      '                                                            \n",
       "TUNIT24 = 'K       '                                                            \n",
       "TTYPE25 = 'VELDEF  '                                                            \n",
       "TFORM25 = '8A      '                                                            \n",
       "TTYPE26 = 'VFRAME  '                                                            \n",
       "TFORM26 = '1D      '                                                            \n",
       "TUNIT26 = 'm/s     '                                                            \n",
       "TTYPE27 = 'RVSYS   '                                                            \n",
       "TFORM27 = '1D      '                                                            \n",
       "TUNIT27 = 'm/s     '                                                            \n",
       "TTYPE28 = 'OBSFREQ '                                                            \n",
       "TFORM28 = '1D      '                                                            \n",
       "TUNIT28 = 'Hz      '                                                            \n",
       "TTYPE29 = 'LST     '                                                            \n",
       "TFORM29 = '1D      '                                                            \n",
       "TUNIT29 = 's       '                                                            \n",
       "TTYPE30 = 'AZIMUTH '                                                            \n",
       "TFORM30 = '1D      '                                                            \n",
       "TUNIT30 = 'deg     '                                                            \n",
       "TTYPE31 = 'ELEVATIO'                                                            \n",
       "TFORM31 = '1D      '                                                            \n",
       "TUNIT31 = 'deg     '                                                            \n",
       "TTYPE32 = 'TAMBIENT'                                                            \n",
       "TFORM32 = '1D      '                                                            \n",
       "TUNIT32 = 'K       '                                                            \n",
       "TTYPE33 = 'PRESSURE'                                                            \n",
       "TFORM33 = '1D      '                                                            \n",
       "TUNIT33 = 'mmHg    '                                                            \n",
       "TTYPE34 = 'HUMIDITY'                                                            \n",
       "TFORM34 = '1D      '                                                            \n",
       "TTYPE35 = 'RESTFREQ'                                                            \n",
       "TFORM35 = '1D      '                                                            \n",
       "TUNIT35 = 'Hz      '                                                            \n",
       "TTYPE36 = 'FREQRES '                                                            \n",
       "TFORM36 = '1D      '                                                            \n",
       "TUNIT36 = 'Hz      '                                                            \n",
       "TTYPE37 = 'EQUINOX '                                                            \n",
       "TFORM37 = '1D      '                                                            \n",
       "TTYPE38 = 'RADESYS '                                                            \n",
       "TFORM38 = '8A      '                                                            \n",
       "TTYPE39 = 'TRGTLONG'                                                            \n",
       "TFORM39 = '1D      '                                                            \n",
       "TUNIT39 = 'deg     '                                                            \n",
       "TTYPE40 = 'TRGTLAT '                                                            \n",
       "TFORM40 = '1D      '                                                            \n",
       "TUNIT40 = 'deg     '                                                            \n",
       "TTYPE41 = 'SAMPLER '                                                            \n",
       "TFORM41 = '12A     '                                                            \n",
       "TTYPE42 = 'FEED    '                                                            \n",
       "TFORM42 = '1I      '                                                            \n",
       "TTYPE43 = 'SRFEED  '                                                            \n",
       "TFORM43 = '1I      '                                                            \n",
       "TTYPE44 = 'FEEDXOFF'                                                            \n",
       "TFORM44 = '1D      '                                                            \n",
       "TUNIT44 = 'deg     '                                                            \n",
       "TTYPE45 = 'FEEDEOFF'                                                            \n",
       "TFORM45 = '1D      '                                                            \n",
       "TUNIT45 = 'deg     '                                                            \n",
       "TTYPE46 = 'SUBREF_STATE'                                                        \n",
       "TFORM46 = '1I      '                                                            \n",
       "TTYPE47 = 'SIDEBAND'                                                            \n",
       "TFORM47 = '1A      '                                                            \n",
       "TTYPE48 = 'PROCSEQN'                                                            \n",
       "TFORM48 = '1I      '                                                            \n",
       "TTYPE49 = 'PROCSIZE'                                                            \n",
       "TFORM49 = '1I      '                                                            \n",
       "TTYPE50 = 'PROCSCAN'                                                            \n",
       "TFORM50 = '16A     '                                                            \n",
       "TTYPE51 = 'PROCTYPE'                                                            \n",
       "TFORM51 = '16A     '                                                            \n",
       "TTYPE52 = 'LASTON  '                                                            \n",
       "TFORM52 = '1J      '                                                            \n",
       "TTYPE53 = 'LASTOFF '                                                            \n",
       "TFORM53 = '1J      '                                                            \n",
       "TTYPE54 = 'TIMESTAMP'                                                           \n",
       "TFORM54 = '22A     '                                                            \n",
       "TUNIT54 = 'UTC     '                                                            \n",
       "TTYPE55 = 'QD_XEL  '                                                            \n",
       "TFORM55 = '1D      '                                                            \n",
       "TUNIT55 = 'deg     '                                                            \n",
       "TTYPE56 = 'QD_EL   '                                                            \n",
       "TFORM56 = '1D      '                                                            \n",
       "TUNIT56 = 'deg     '                                                            \n",
       "TTYPE57 = 'QD_BAD  '                                                            \n",
       "TFORM57 = '1I      '                                                            \n",
       "TTYPE58 = 'QD_METHOD'                                                           \n",
       "TFORM58 = '1A      '                                                            \n",
       "TTYPE59 = 'VELOCITY'                                                            \n",
       "TFORM59 = '1D      '                                                            \n",
       "TUNIT59 = 'm/s     '                                                            \n",
       "TTYPE60 = 'ZEROCHAN'                                                            \n",
       "TFORM60 = '1E      '                                                            \n",
       "TTYPE61 = 'DOPFREQ '                                                            \n",
       "TFORM61 = '1D      '                                                            \n",
       "TUNIT61 = 'Hz      '                                                            \n",
       "TTYPE62 = 'ADCSAMPF'                                                            \n",
       "TFORM62 = '1D      '                                                            \n",
       "TTYPE63 = 'VSPDELT '                                                            \n",
       "TFORM63 = '1D      '                                                            \n",
       "TTYPE64 = 'VSPRVAL '                                                            \n",
       "TFORM64 = '1D      '                                                            \n",
       "TTYPE65 = 'VSPRPIX '                                                            \n",
       "TFORM65 = '1D      '                                                            \n",
       "TTYPE66 = 'SIG     '                                                            \n",
       "TFORM66 = '1A      '                                                            \n",
       "TTYPE67 = 'CAL     '                                                            \n",
       "TFORM67 = '1A      '                                                            \n",
       "TTYPE68 = 'CALTYPE '                                                            \n",
       "TFORM68 = '8A      '                                                            \n",
       "TTYPE69 = 'TWARM   '                                                            \n",
       "TFORM69 = '1E      '                                                            \n",
       "TUNIT69 = 'K       '                                                            \n",
       "TTYPE70 = 'TCOLD   '                                                            \n",
       "TFORM70 = '1E      '                                                            \n",
       "TUNIT70 = 'K       '                                                            \n",
       "TTYPE71 = 'CALPOSITION'                                                         \n",
       "TFORM71 = '16A     '                                                            \n",
       "TTYPE72 = 'IFNUM   '                                                            \n",
       "TFORM72 = '1I      '                                                            \n",
       "TTYPE73 = 'PLNUM   '                                                            \n",
       "TFORM73 = '1I      '                                                            \n",
       "TTYPE74 = 'FDNUM   '                                                            \n",
       "TFORM74 = '1I      '                                                            \n",
       "CHECKSUM= 'aJAicI7faIAfaI7f'   / HDU checksum updated 2023-06-30T15:43:26       \n",
       "DATASUM = '2622096633'         / data unit checksum updated 2023-06-30T15:43:26 "
      ]
     },
     "execution_count": 11,
     "metadata": {},
     "output_type": "execute_result"
    }
   ],
   "source": [
    "x1[1].header"
   ]
  },
  {
   "cell_type": "code",
   "execution_count": 12,
   "id": "a20f0815-f5f3-4d38-ba4d-6a288f4a0cff",
   "metadata": {},
   "outputs": [
    {
     "name": "stdout",
     "output_type": "stream",
     "text": [
      "Filename: /tmp/scans.fits\n",
      "No.    Name      Ver    Type      Cards   Dimensions   Format\n",
      "  0  PRIMARY       1 PrimaryHDU      14   ()      \n",
      "  1  SINGLE DISH    1 BinTableHDU    210   3020R x 74C   ['32A', '1D', '22A', '1D', '1D', '1D', '32768E', '16A', '6A', '8A', '1D', '1D', '1D', '4A', '1D', '4A', '1D', '1I', '32A', '32A', '1J', '32A', '16A', '1E', '8A', '1D', '1D', '1D', '1D', '1D', '1D', '1D', '1D', '1D', '1D', '1D', '1D', '8A', '1D', '1D', '12A', '1I', '1I', '1D', '1D', '1I', '1A', '1I', '1I', '16A', '16A', '1J', '1J', '22A', '1D', '1D', '1I', '1A', '1D', '1E', '1D', '1D', '1D', '1D', '1D', '1A', '1A', '8A', '1E', '1E', '16A', '1I', '1I', '1I']   \n"
     ]
    },
    {
     "name": "stderr",
     "output_type": "stream",
     "text": [
      "WARNING: UnitsWarning: 'mmHg' did not parse as fits unit: At col 0, Unit 'mmHg' not supported by the FITS standard.  If this is meant to be a custom unit, define it with 'u.def_unit'. To have it recognized inside a file reader or other code, enable it with 'u.add_enabled_units'. For details, see https://docs.astropy.org/en/latest/units/combining_and_defining.html [astropy.units.core]\n",
      "WARNING: UnitsWarning: 'UTC' did not parse as fits unit: At col 0, Unit 'UTC' not supported by the FITS standard. Did you mean TC, uC or uT? If this is meant to be a custom unit, define it with 'u.def_unit'. To have it recognized inside a file reader or other code, enable it with 'u.add_enabled_units'. For details, see https://docs.astropy.org/en/latest/units/combining_and_defining.html [astropy.units.core]\n"
     ]
    }
   ],
   "source": [
    "x1 = GBTFITSLoad(\"/tmp/scans.fits\")\n",
    "#x1._ptable[0]\n",
    "x1._hdu.info()"
   ]
  },
  {
   "cell_type": "code",
   "execution_count": 13,
   "id": "0bfc7447-c8e3-4694-a2bf-41616fc83c68",
   "metadata": {},
   "outputs": [
    {
     "data": {
      "text/plain": [
       "XTENSION= 'BINTABLE'           / binary table extension                         \n",
       "BITPIX  =                    8 / array data type                                \n",
       "NAXIS   =                    2 / number of array dimensions                     \n",
       "NAXIS1  =               131698 / length of dimension 1                          \n",
       "NAXIS2  =                 3020 / length of dimension 2                          \n",
       "PCOUNT  =                    0 / number of group parameters                     \n",
       "GCOUNT  =                    1 / number of groups                               \n",
       "TFIELDS =                   74 / number of table fields                         \n",
       "COMMENT Start of SDFITS CORE keywords/columns.                                  \n",
       "TELESCOP= 'NRAO_GBT'           / the telescope used                             \n",
       "COMMENT End of SDFITS CORE keywords/columns.                                    \n",
       "COMMENT Start of SDFITS DATA column and descriptive axes.                       \n",
       "CTYPE4  = 'STOKES  '           / fourth axis is Stokes                          \n",
       "COMMENT End of SDFITS DATA column and descriptive axes.                         \n",
       "COMMENT Start of SDFITS SHARED keywords/columns.                                \n",
       "PROJID  = 'TGBT21A_501_11'     / project identifier                             \n",
       "BACKEND = 'VEGAS   '           / backend device                                 \n",
       "SITELONG=        -7.983983E+01 / E. longitude of intersection of the az/el axes \n",
       "SITELAT =         3.843312E+01 / N. latitude of intersection of the az/el axes  \n",
       "SITEELEV=         8.245950E+02 / height of the intersection of az/el axes       \n",
       "COMMENT End of SDFITS SHARED keywords/columns.                                  \n",
       "COMMENT Start of GBT-specific keywords/columns.                                 \n",
       "COMMENT Feed offsets ARE included in the CRVAL2 and CRVAL3 columns              \n",
       "COMMENT Columns describing VEGAS spur locations                                 \n",
       "COMMENT   SPUR_CHANNEL = (J-VSPRVAL)*VSPDELT+VSPRPIX                            \n",
       "COMMENT   0 <= J <= 32                                                          \n",
       "COMMENT   spur channels are along the frequency axis                            \n",
       "COMMENT End of GBT-specific keywords/columns.                                   \n",
       "EXTNAME = 'SINGLE DISH'        / name of this binary table extension            \n",
       "TTYPE1  = 'OBJECT  '                                                            \n",
       "TFORM1  = '32A     '                                                            \n",
       "TTYPE2  = 'BANDWID '                                                            \n",
       "TFORM2  = '1D      '                                                            \n",
       "TUNIT2  = 'Hz      '                                                            \n",
       "TTYPE3  = 'DATE-OBS'                                                            \n",
       "TFORM3  = '22A     '                                                            \n",
       "TTYPE4  = 'DURATION'                                                            \n",
       "TFORM4  = '1D      '                                                            \n",
       "TUNIT4  = 's       '                                                            \n",
       "TTYPE5  = 'EXPOSURE'                                                            \n",
       "TFORM5  = '1D      '                                                            \n",
       "TUNIT5  = 's       '                                                            \n",
       "TTYPE6  = 'TSYS    '                                                            \n",
       "TFORM6  = '1D      '                                                            \n",
       "TUNIT6  = 'K       '                                                            \n",
       "TTYPE7  = 'DATA    '                                                            \n",
       "TFORM7  = '32768E  '                                                            \n",
       "TTYPE8  = 'TDIM7   '                                                            \n",
       "TFORM8  = '16A     '                                                            \n",
       "TTYPE9  = 'TUNIT7  '                                                            \n",
       "TFORM9  = '6A      '                                                            \n",
       "TTYPE10 = 'CTYPE1  '                                                            \n",
       "TFORM10 = '8A      '                                                            \n",
       "TUNIT10 = 'Hz      '                                                            \n",
       "TTYPE11 = 'CRVAL1  '                                                            \n",
       "TFORM11 = '1D      '                                                            \n",
       "TUNIT11 = 'Hz      '                                                            \n",
       "TTYPE12 = 'CRPIX1  '                                                            \n",
       "TFORM12 = '1D      '                                                            \n",
       "TTYPE13 = 'CDELT1  '                                                            \n",
       "TFORM13 = '1D      '                                                            \n",
       "TUNIT13 = 'Hz      '                                                            \n",
       "TTYPE14 = 'CTYPE2  '                                                            \n",
       "TFORM14 = '4A      '                                                            \n",
       "TTYPE15 = 'CRVAL2  '                                                            \n",
       "TFORM15 = '1D      '                                                            \n",
       "TUNIT15 = 'deg     '                                                            \n",
       "TTYPE16 = 'CTYPE3  '                                                            \n",
       "TFORM16 = '4A      '                                                            \n",
       "TTYPE17 = 'CRVAL3  '                                                            \n",
       "TFORM17 = '1D      '                                                            \n",
       "TUNIT17 = 'deg     '                                                            \n",
       "TTYPE18 = 'CRVAL4  '                                                            \n",
       "TFORM18 = '1I      '                                                            \n",
       "TTYPE19 = 'OBSERVER'                                                            \n",
       "TFORM19 = '32A     '                                                            \n",
       "TTYPE20 = 'OBSID   '                                                            \n",
       "TFORM20 = '32A     '                                                            \n",
       "TTYPE21 = 'SCAN    '                                                            \n",
       "TFORM21 = '1J      '                                                            \n",
       "TTYPE22 = 'OBSMODE '                                                            \n",
       "TFORM22 = '32A     '                                                            \n",
       "TTYPE23 = 'FRONTEND'                                                            \n",
       "TFORM23 = '16A     '                                                            \n",
       "TTYPE24 = 'TCAL    '                                                            \n",
       "TFORM24 = '1E      '                                                            \n",
       "TUNIT24 = 'K       '                                                            \n",
       "TTYPE25 = 'VELDEF  '                                                            \n",
       "TFORM25 = '8A      '                                                            \n",
       "TTYPE26 = 'VFRAME  '                                                            \n",
       "TFORM26 = '1D      '                                                            \n",
       "TUNIT26 = 'm/s     '                                                            \n",
       "TTYPE27 = 'RVSYS   '                                                            \n",
       "TFORM27 = '1D      '                                                            \n",
       "TUNIT27 = 'm/s     '                                                            \n",
       "TTYPE28 = 'OBSFREQ '                                                            \n",
       "TFORM28 = '1D      '                                                            \n",
       "TUNIT28 = 'Hz      '                                                            \n",
       "TTYPE29 = 'LST     '                                                            \n",
       "TFORM29 = '1D      '                                                            \n",
       "TUNIT29 = 's       '                                                            \n",
       "TTYPE30 = 'AZIMUTH '                                                            \n",
       "TFORM30 = '1D      '                                                            \n",
       "TUNIT30 = 'deg     '                                                            \n",
       "TTYPE31 = 'ELEVATIO'                                                            \n",
       "TFORM31 = '1D      '                                                            \n",
       "TUNIT31 = 'deg     '                                                            \n",
       "TTYPE32 = 'TAMBIENT'                                                            \n",
       "TFORM32 = '1D      '                                                            \n",
       "TUNIT32 = 'K       '                                                            \n",
       "TTYPE33 = 'PRESSURE'                                                            \n",
       "TFORM33 = '1D      '                                                            \n",
       "TUNIT33 = 'mmHg    '                                                            \n",
       "TTYPE34 = 'HUMIDITY'                                                            \n",
       "TFORM34 = '1D      '                                                            \n",
       "TTYPE35 = 'RESTFREQ'                                                            \n",
       "TFORM35 = '1D      '                                                            \n",
       "TUNIT35 = 'Hz      '                                                            \n",
       "TTYPE36 = 'FREQRES '                                                            \n",
       "TFORM36 = '1D      '                                                            \n",
       "TUNIT36 = 'Hz      '                                                            \n",
       "TTYPE37 = 'EQUINOX '                                                            \n",
       "TFORM37 = '1D      '                                                            \n",
       "TTYPE38 = 'RADESYS '                                                            \n",
       "TFORM38 = '8A      '                                                            \n",
       "TTYPE39 = 'TRGTLONG'                                                            \n",
       "TFORM39 = '1D      '                                                            \n",
       "TUNIT39 = 'deg     '                                                            \n",
       "TTYPE40 = 'TRGTLAT '                                                            \n",
       "TFORM40 = '1D      '                                                            \n",
       "TUNIT40 = 'deg     '                                                            \n",
       "TTYPE41 = 'SAMPLER '                                                            \n",
       "TFORM41 = '12A     '                                                            \n",
       "TTYPE42 = 'FEED    '                                                            \n",
       "TFORM42 = '1I      '                                                            \n",
       "TTYPE43 = 'SRFEED  '                                                            \n",
       "TFORM43 = '1I      '                                                            \n",
       "TTYPE44 = 'FEEDXOFF'                                                            \n",
       "TFORM44 = '1D      '                                                            \n",
       "TUNIT44 = 'deg     '                                                            \n",
       "TTYPE45 = 'FEEDEOFF'                                                            \n",
       "TFORM45 = '1D      '                                                            \n",
       "TUNIT45 = 'deg     '                                                            \n",
       "TTYPE46 = 'SUBREF_STATE'                                                        \n",
       "TFORM46 = '1I      '                                                            \n",
       "TTYPE47 = 'SIDEBAND'                                                            \n",
       "TFORM47 = '1A      '                                                            \n",
       "TTYPE48 = 'PROCSEQN'                                                            \n",
       "TFORM48 = '1I      '                                                            \n",
       "TTYPE49 = 'PROCSIZE'                                                            \n",
       "TFORM49 = '1I      '                                                            \n",
       "TTYPE50 = 'PROCSCAN'                                                            \n",
       "TFORM50 = '16A     '                                                            \n",
       "TTYPE51 = 'PROCTYPE'                                                            \n",
       "TFORM51 = '16A     '                                                            \n",
       "TTYPE52 = 'LASTON  '                                                            \n",
       "TFORM52 = '1J      '                                                            \n",
       "TTYPE53 = 'LASTOFF '                                                            \n",
       "TFORM53 = '1J      '                                                            \n",
       "TTYPE54 = 'TIMESTAMP'                                                           \n",
       "TFORM54 = '22A     '                                                            \n",
       "TUNIT54 = 'UTC     '                                                            \n",
       "TTYPE55 = 'QD_XEL  '                                                            \n",
       "TFORM55 = '1D      '                                                            \n",
       "TUNIT55 = 'deg     '                                                            \n",
       "TTYPE56 = 'QD_EL   '                                                            \n",
       "TFORM56 = '1D      '                                                            \n",
       "TUNIT56 = 'deg     '                                                            \n",
       "TTYPE57 = 'QD_BAD  '                                                            \n",
       "TFORM57 = '1I      '                                                            \n",
       "TTYPE58 = 'QD_METHOD'                                                           \n",
       "TFORM58 = '1A      '                                                            \n",
       "TTYPE59 = 'VELOCITY'                                                            \n",
       "TFORM59 = '1D      '                                                            \n",
       "TUNIT59 = 'm/s     '                                                            \n",
       "TTYPE60 = 'ZEROCHAN'                                                            \n",
       "TFORM60 = '1E      '                                                            \n",
       "TTYPE61 = 'DOPFREQ '                                                            \n",
       "TFORM61 = '1D      '                                                            \n",
       "TUNIT61 = 'Hz      '                                                            \n",
       "TTYPE62 = 'ADCSAMPF'                                                            \n",
       "TFORM62 = '1D      '                                                            \n",
       "TTYPE63 = 'VSPDELT '                                                            \n",
       "TFORM63 = '1D      '                                                            \n",
       "TTYPE64 = 'VSPRVAL '                                                            \n",
       "TFORM64 = '1D      '                                                            \n",
       "TTYPE65 = 'VSPRPIX '                                                            \n",
       "TFORM65 = '1D      '                                                            \n",
       "TTYPE66 = 'SIG     '                                                            \n",
       "TFORM66 = '1A      '                                                            \n",
       "TTYPE67 = 'CAL     '                                                            \n",
       "TFORM67 = '1A      '                                                            \n",
       "TTYPE68 = 'CALTYPE '                                                            \n",
       "TFORM68 = '8A      '                                                            \n",
       "TTYPE69 = 'TWARM   '                                                            \n",
       "TFORM69 = '1E      '                                                            \n",
       "TUNIT69 = 'K       '                                                            \n",
       "TTYPE70 = 'TCOLD   '                                                            \n",
       "TFORM70 = '1E      '                                                            \n",
       "TUNIT70 = 'K       '                                                            \n",
       "TTYPE71 = 'CALPOSITION'                                                         \n",
       "TFORM71 = '16A     '                                                            \n",
       "TTYPE72 = 'IFNUM   '                                                            \n",
       "TFORM72 = '1I      '                                                            \n",
       "TTYPE73 = 'PLNUM   '                                                            \n",
       "TFORM73 = '1I      '                                                            \n",
       "TTYPE74 = 'FDNUM   '                                                            \n",
       "TFORM74 = '1I      '                                                            \n",
       "CHECKSUM= 'aJAicI7faIAfaI7f'   / HDU checksum updated 2023-06-30T15:43:26       \n",
       "DATASUM = '2622096633'         / data unit checksum updated 2023-06-30T15:43:26 "
      ]
     },
     "execution_count": 13,
     "metadata": {},
     "output_type": "execute_result"
    }
   ],
   "source": [
    "x1._hdu[1].header"
   ]
  },
  {
   "cell_type": "code",
   "execution_count": 14,
   "id": "fd24dad1-c872-4387-bc56-cb88fa283dd5",
   "metadata": {},
   "outputs": [
    {
     "name": "stderr",
     "output_type": "stream",
     "text": [
      "WARNING: UnitsWarning: 'mmHg' did not parse as fits unit: At col 0, Unit 'mmHg' not supported by the FITS standard.  If this is meant to be a custom unit, define it with 'u.def_unit'. To have it recognized inside a file reader or other code, enable it with 'u.add_enabled_units'. For details, see https://docs.astropy.org/en/latest/units/combining_and_defining.html [astropy.units.core]\n",
      "WARNING: UnitsWarning: 'UTC' did not parse as fits unit: At col 0, Unit 'UTC' not supported by the FITS standard. Did you mean TC, uC or uT? If this is meant to be a custom unit, define it with 'u.def_unit'. To have it recognized inside a file reader or other code, enable it with 'u.add_enabled_units'. For details, see https://docs.astropy.org/en/latest/units/combining_and_defining.html [astropy.units.core]\n"
     ]
    },
    {
     "data": {
      "text/html": [
       "<div>\n",
       "<style scoped>\n",
       "    .dataframe tbody tr th:only-of-type {\n",
       "        vertical-align: middle;\n",
       "    }\n",
       "\n",
       "    .dataframe tbody tr th {\n",
       "        vertical-align: top;\n",
       "    }\n",
       "\n",
       "    .dataframe thead th {\n",
       "        text-align: right;\n",
       "    }\n",
       "</style>\n",
       "<table border=\"1\" class=\"dataframe\">\n",
       "  <thead>\n",
       "    <tr style=\"text-align: right;\">\n",
       "      <th></th>\n",
       "      <th>SCAN</th>\n",
       "      <th>OBJECT</th>\n",
       "      <th>VELOCITY</th>\n",
       "      <th>PROC</th>\n",
       "      <th>PROCSEQN</th>\n",
       "      <th>RESTFREQ</th>\n",
       "      <th>DOPFREQ</th>\n",
       "      <th># IF</th>\n",
       "      <th># POL</th>\n",
       "      <th># INT</th>\n",
       "      <th># FEED</th>\n",
       "      <th>AZIMUTH</th>\n",
       "      <th>ELEVATIO</th>\n",
       "    </tr>\n",
       "  </thead>\n",
       "  <tbody>\n",
       "    <tr>\n",
       "      <th>0</th>\n",
       "      <td>152.0</td>\n",
       "      <td>NGC2415</td>\n",
       "      <td>3784.0</td>\n",
       "      <td>OnOff</td>\n",
       "      <td>1.0</td>\n",
       "      <td>1.693455</td>\n",
       "      <td>1.420406</td>\n",
       "      <td>3</td>\n",
       "      <td>2</td>\n",
       "      <td>0</td>\n",
       "      <td>1</td>\n",
       "      <td>285.955462</td>\n",
       "      <td>42.092103</td>\n",
       "    </tr>\n",
       "  </tbody>\n",
       "</table>\n",
       "</div>"
      ],
      "text/plain": [
       "    SCAN   OBJECT VELOCITY   PROC PROCSEQN  RESTFREQ   DOPFREQ # IF # POL  \\\n",
       "0  152.0  NGC2415   3784.0  OnOff      1.0  1.693455  1.420406    3     2   \n",
       "\n",
       "  # INT # FEED     AZIMUTH   ELEVATIO  \n",
       "0     0      1  285.955462  42.092103  "
      ]
     },
     "execution_count": 14,
     "metadata": {},
     "output_type": "execute_result"
    }
   ],
   "source": [
    "x1 = GBTFITSLoad(\"/tmp/foobar.fits\")\n",
    "#x1.nrows(0),x1._hdu[1].header\n",
    "x1.summary()"
   ]
  },
  {
   "cell_type": "code",
   "execution_count": 15,
   "id": "d578fd92-582c-4c18-b923-f5316643f6bd",
   "metadata": {},
   "outputs": [
    {
     "name": "stderr",
     "output_type": "stream",
     "text": [
      "WARNING: UnitsWarning: 'mmHg' did not parse as fits unit: At col 0, Unit 'mmHg' not supported by the FITS standard.  If this is meant to be a custom unit, define it with 'u.def_unit'. To have it recognized inside a file reader or other code, enable it with 'u.add_enabled_units'. For details, see https://docs.astropy.org/en/latest/units/combining_and_defining.html [astropy.units.core]\n",
      "WARNING: UnitsWarning: 'UTC' did not parse as fits unit: At col 0, Unit 'UTC' not supported by the FITS standard. Did you mean TC, uC or uT? If this is meant to be a custom unit, define it with 'u.def_unit'. To have it recognized inside a file reader or other code, enable it with 'u.add_enabled_units'. For details, see https://docs.astropy.org/en/latest/units/combining_and_defining.html [astropy.units.core]\n"
     ]
    },
    {
     "data": {
      "text/html": [
       "<div>\n",
       "<style scoped>\n",
       "    .dataframe tbody tr th:only-of-type {\n",
       "        vertical-align: middle;\n",
       "    }\n",
       "\n",
       "    .dataframe tbody tr th {\n",
       "        vertical-align: top;\n",
       "    }\n",
       "\n",
       "    .dataframe thead th {\n",
       "        text-align: right;\n",
       "    }\n",
       "</style>\n",
       "<table border=\"1\" class=\"dataframe\">\n",
       "  <thead>\n",
       "    <tr style=\"text-align: right;\">\n",
       "      <th></th>\n",
       "      <th>SCAN</th>\n",
       "      <th>OBJECT</th>\n",
       "      <th>VELOCITY</th>\n",
       "      <th>PROC</th>\n",
       "      <th>PROCSEQN</th>\n",
       "      <th>RESTFREQ</th>\n",
       "      <th>DOPFREQ</th>\n",
       "      <th># IF</th>\n",
       "      <th># POL</th>\n",
       "      <th># INT</th>\n",
       "      <th># FEED</th>\n",
       "      <th>AZIMUTH</th>\n",
       "      <th>ELEVATIO</th>\n",
       "    </tr>\n",
       "  </thead>\n",
       "  <tbody>\n",
       "    <tr>\n",
       "      <th>0</th>\n",
       "      <td>152.0</td>\n",
       "      <td>NGC2415</td>\n",
       "      <td>3784.0</td>\n",
       "      <td>OnOff</td>\n",
       "      <td>1.0</td>\n",
       "      <td>1.667359</td>\n",
       "      <td>1.420406</td>\n",
       "      <td>1</td>\n",
       "      <td>1</td>\n",
       "      <td>0</td>\n",
       "      <td>1</td>\n",
       "      <td>285.951496</td>\n",
       "      <td>42.100624</td>\n",
       "    </tr>\n",
       "  </tbody>\n",
       "</table>\n",
       "</div>"
      ],
      "text/plain": [
       "    SCAN   OBJECT VELOCITY   PROC PROCSEQN  RESTFREQ   DOPFREQ # IF # POL  \\\n",
       "0  152.0  NGC2415   3784.0  OnOff      1.0  1.667359  1.420406    1     1   \n",
       "\n",
       "  # INT # FEED     AZIMUTH   ELEVATIO  \n",
       "0     0      1  285.951496  42.100624  "
      ]
     },
     "execution_count": 15,
     "metadata": {},
     "output_type": "execute_result"
    }
   ],
   "source": [
    "x1 = GBTFITSLoad(\"/tmp/onerows.fits\")\n",
    "x1.nrows(0),x1._hdu[1].header\n",
    "x1.summary()"
   ]
  },
  {
   "cell_type": "code",
   "execution_count": 16,
   "id": "3d949978-290f-4f95-8fd6-ff5ad6c45f31",
   "metadata": {},
   "outputs": [
    {
     "data": {
      "image/png": "[encoded data removed]",
      "text/plain": [
       "<Figure size 640x480 with 1 Axes>"
      ]
     },
     "metadata": {},
     "output_type": "display_data"
    }
   ],
   "source": [
    "spec4 = p.getspec(4)\n",
    "sp = SpectrumPlot(spec4)\n",
    "sp.plot()"
   ]
  },
  {
   "cell_type": "markdown",
   "id": "f90741e3-6146-4df4-89d5-8b6be6f00e22",
   "metadata": {},
   "source": [
    "## Get a position switch scan and calibrate it.\n",
    "The default ifnum=0, plnum=0"
   ]
  },
  {
   "cell_type": "code",
   "execution_count": 17,
   "id": "610d6c4d-54fc-4f56-beb5-10eb3d848781",
   "metadata": {},
   "outputs": [
    {
     "name": "stdout",
     "output_type": "stream",
     "text": [
      "PSSCAN nrows = 302\n"
     ]
    }
   ],
   "source": [
    "# eventually this will have calibrate=True as the default, so you don't need to call calibrate().\n",
    "psscan = p.getps(152)"
   ]
  },
  {
   "cell_type": "code",
   "execution_count": 18,
   "id": "de023f21-2f5c-4466-b55a-f3c5ff351e61",
   "metadata": {},
   "outputs": [],
   "source": [
    "psscan.calibrate()"
   ]
  },
  {
   "cell_type": "markdown",
   "id": "6e3b0bc9-9d5c-4bb6-9075-26b9086cf7f9",
   "metadata": {},
   "source": [
    "### the raw calibrated numpy array"
   ]
  },
  {
   "cell_type": "code",
   "execution_count": 19,
   "id": "35764215-5cf3-4b61-9955-41f324e06f8f",
   "metadata": {},
   "outputs": [
    {
     "data": {
      "text/plain": [
       "array([array([-0.36950475,  0.6447629 , -1.0699701 , ...,  1.0231676 ,\n",
       "               0.17275348,  0.1879291 ], dtype=float32)               ,\n",
       "       array([-0.550938  , -1.2963707 ,  0.61951226, ...,  0.15545899,\n",
       "               0.05301047,  0.24618886], dtype=float32)               ,\n",
       "       array([ 0.4407859 , -0.19487937, -1.0485803 , ..., -0.74043435,\n",
       "              -0.3688926 ,  0.05335342], dtype=float32)               ,\n",
       "       array([ 0.1549261 , -0.4703066 , -0.73533934, ...,  0.6530034 ,\n",
       "               0.04106233,  0.7526242 ], dtype=float32)               ,\n",
       "       array([-0.7238372 ,  0.31605956,  1.3984408 , ..., -0.03499304,\n",
       "              -0.22855656,  0.13592227], dtype=float32)               ,\n",
       "       array([ 0.95463026,  1.2883178 ,  0.5401967 , ..., -0.26805207,\n",
       "               0.04004041, -0.17960201], dtype=float32)               ,\n",
       "       array([-1.245343  ,  0.42345002,  0.50817156, ..., -0.3057275 ,\n",
       "               0.03470534,  0.32808304], dtype=float32)               ,\n",
       "       array([ 0.31917953, -1.2641162 ,  0.2243861 , ...,  0.30863506,\n",
       "              -0.11733063, -0.57628596], dtype=float32)               ,\n",
       "       array([ 0.5188561 , -0.06630278, -0.35643756, ..., -0.8186022 ,\n",
       "              -1.0141454 , -0.32821167], dtype=float32)               ,\n",
       "       array([-0.04714889,  0.03823978, -0.10489451, ...,  0.11847648,\n",
       "              -0.6228388 ,  0.8253595 ], dtype=float32)               ,\n",
       "       array([-1.0570643 ,  0.9136175 ,  0.13036683, ..., -0.5959592 ,\n",
       "               0.391701  ,  0.78539485], dtype=float32)               ,\n",
       "       array([-0.68530643, -0.6533625 ,  0.34603718, ..., -0.70345235,\n",
       "              -0.15260658,  0.15534377], dtype=float32)               ,\n",
       "       array([-0.06363751,  0.4412423 , -0.08795158, ...,  0.84912276,\n",
       "              -0.13964882,  0.04737889], dtype=float32)               ,\n",
       "       array([-1.3705789 ,  0.13820182, -1.4255742 , ..., -0.8291189 ,\n",
       "              -0.93769586,  1.0901034 ], dtype=float32)               ,\n",
       "       array([ 0.5307616 ,  0.22676374, -0.41041902, ..., -0.20334366,\n",
       "               0.1579291 , -0.7171156 ], dtype=float32)               ,\n",
       "       array([-0.49365294,  0.15905446,  0.378224  , ...,  0.04244388,\n",
       "              -0.44135925,  0.8998694 ], dtype=float32)               ,\n",
       "       array([ 0.3283945 , -0.13571496,  0.2027393 , ..., -0.04841812,\n",
       "              -0.36560646, -0.83143926], dtype=float32)               ,\n",
       "       array([ 0.01646768,  0.6339884 , -0.79370576, ...,  0.09357592,\n",
       "               0.42298374, -0.8168245 ], dtype=float32)               ,\n",
       "       array([-0.55195564, -0.7921644 , -0.33464935, ...,  0.68781877,\n",
       "               0.43477494,  0.05981219], dtype=float32)               ,\n",
       "       array([-0.51853967,  0.34233603, -0.04368628, ...,  0.57861036,\n",
       "              -0.13394956,  0.7786824 ], dtype=float32)               ,\n",
       "       array([-0.58408135,  0.8783145 , -0.24230802, ..., -0.4964765 ,\n",
       "              -0.41062245,  0.40919086], dtype=float32)               ,\n",
       "       array([ 1.3640883 ,  0.64772826,  0.03686992, ..., -0.10671606,\n",
       "              -0.48736483,  0.7808658 ], dtype=float32)               ,\n",
       "       array([ 0.4320203 , -0.3239412 ,  1.0157791 , ...,  0.58701897,\n",
       "               0.2522426 ,  1.0076216 ], dtype=float32)               ,\n",
       "       array([-0.9854751 , -0.04766792,  1.0637056 , ..., -0.50987947,\n",
       "               0.48853508, -0.07639901], dtype=float32)               ,\n",
       "       array([ 0.9272482 ,  0.28100908,  0.7112009 , ..., -0.04430879,\n",
       "               0.3346705 ,  1.8558844 ], dtype=float32)               ,\n",
       "       array([-0.36004454,  0.17061032,  0.33707148, ..., -0.93359745,\n",
       "               0.5127521 , -0.31265476], dtype=float32)               ,\n",
       "       array([ 0.6983443 ,  0.76722056,  0.5353369 , ...,  0.6515919 ,\n",
       "              -0.32698107,  0.4141934 ], dtype=float32)               ,\n",
       "       array([-0.5559153 ,  0.94979215, -0.47991744, ...,  0.29224095,\n",
       "              -0.06371855,  0.17049234], dtype=float32)               ,\n",
       "       array([ 0.08629131,  1.4640791 , -0.2168206 , ..., -0.44997224,\n",
       "              -0.3864545 ,  0.06921386], dtype=float32)               ,\n",
       "       array([ 1.336894  ,  0.18917732, -0.88103414, ...,  0.5637539 ,\n",
       "              -0.14728393, -0.0826914 ], dtype=float32)               ,\n",
       "       array([-0.90622294,  0.05680864,  0.23466766, ..., -1.6252719 ,\n",
       "              -0.82226914, -0.3316179 ], dtype=float32)               ,\n",
       "       array([-0.7180814 ,  0.48378855,  0.74408257, ..., -0.4916145 ,\n",
       "               1.5009571 , -0.20950864], dtype=float32)               ,\n",
       "       array([ 0.81563294, -0.6781447 , -0.19297618, ...,  0.02668211,\n",
       "               0.5366819 ,  0.17383169], dtype=float32)               ,\n",
       "       array([-1.0697194 , -0.8636234 ,  1.0197327 , ..., -1.232427  ,\n",
       "              -0.46921414,  0.6670532 ], dtype=float32)               ,\n",
       "       array([-0.86265194,  0.7877308 , -1.6103772 , ...,  0.21985379,\n",
       "               0.10420533,  0.10069385], dtype=float32)               ,\n",
       "       array([-0.06585345,  0.3392948 ,  1.3274974 , ...,  0.9781779 ,\n",
       "               0.40411532, -0.44184202], dtype=float32)               ,\n",
       "       array([-1.0618982e+00, -5.4965954e-04,  1.5388598e-01, ...,\n",
       "              -1.0061820e+00, -3.7799338e-01, -8.2671396e-02], dtype=float32),\n",
       "       array([-0.4517745 , -0.00510753, -0.5563912 , ..., -1.2313462 ,\n",
       "              -0.31828427,  0.0141415 ], dtype=float32)               ,\n",
       "       array([-0.52426296, -0.17551982, -0.12980664, ...,  0.2598547 ,\n",
       "              -0.30160785,  1.2677366 ], dtype=float32)               ,\n",
       "       array([-0.04350893, -0.58796453, -1.0907173 , ...,  0.7912904 ,\n",
       "              -0.8540859 , -0.4639379 ], dtype=float32)               ,\n",
       "       array([-1.0230242,  0.3955018, -0.684546 , ..., -0.7158652,  0.4502222,\n",
       "              -1.1544399], dtype=float32)                                     ,\n",
       "       array([-0.09537385, -0.49402064, -1.1526315 , ...,  0.45425984,\n",
       "              -0.58836067,  1.1237904 ], dtype=float32)               ,\n",
       "       array([-1.2720981 , -0.5144029 , -0.46239218, ..., -0.02912713,\n",
       "              -0.50774235,  0.73195153], dtype=float32)               ,\n",
       "       array([-0.81191516, -0.31975356,  0.13376072, ...,  0.9901812 ,\n",
       "               0.6219464 , -0.45059225], dtype=float32)               ,\n",
       "       array([0.6376891 , 0.14318453, 0.44894353, ..., 0.20835112, 0.0298661 ,\n",
       "              0.7355305 ], dtype=float32)                                     ,\n",
       "       array([ 0.8667372 , -0.21674341, -0.31839183, ..., -1.3886039 ,\n",
       "               1.7062677 ,  1.2185899 ], dtype=float32)               ,\n",
       "       array([-0.7995937 , -1.3050529 , -0.23059554, ...,  0.5011893 ,\n",
       "              -0.04891582,  0.05033116], dtype=float32)               ,\n",
       "       array([-0.44001034, -0.05593653,  0.49570575, ..., -0.55888486,\n",
       "               0.73479706,  0.00279641], dtype=float32)               ,\n",
       "       array([ 0.9456103 ,  0.51456594, -0.10845884, ...,  0.10489301,\n",
       "               0.3889114 ,  0.18485846], dtype=float32)               ,\n",
       "       array([ 0.38775834,  0.813011  , -0.1000489 , ...,  0.00517369,\n",
       "              -1.3228252 , -0.6781315 ], dtype=float32)               ,\n",
       "       array([ 0.36320397, -0.23696974, -0.38178453, ..., -0.30234343,\n",
       "               0.51386356,  0.15491126], dtype=float32)               ,\n",
       "       array([0.43668693, 1.2797794 , 1.2195963 , ..., 0.5658717 , 0.33790544,\n",
       "              0.45594746], dtype=float32)                                     ,\n",
       "       array([-0.99706596, -0.02431338, -0.80714065, ..., -0.02435976,\n",
       "               0.5622906 , -0.68395174], dtype=float32)               ,\n",
       "       array([-0.8230956 ,  0.20622543,  0.15520148, ..., -0.31961   ,\n",
       "               0.68921065, -0.04874771], dtype=float32)               ,\n",
       "       array([-0.07315986,  1.342837  ,  0.6420923 , ...,  0.45595825,\n",
       "              -1.268301  , -0.46999744], dtype=float32)               ,\n",
       "       array([-0.48644736,  0.37619308,  1.5478555 , ...,  0.20949891,\n",
       "               0.2860731 , -0.44141492], dtype=float32)               ,\n",
       "       array([-0.35437238, -0.37963584, -0.54583544, ...,  0.11016808,\n",
       "               0.18839628,  0.34451988], dtype=float32)               ,\n",
       "       array([-0.47372276,  0.02263089, -0.81279975, ..., -0.45351622,\n",
       "               0.18930204,  0.85073316], dtype=float32)               ,\n",
       "       array([ 0.03731811, -0.14414328,  0.6233016 , ...,  0.5940835 ,\n",
       "               0.25212014, -1.1563171 ], dtype=float32)               ,\n",
       "       array([-0.5339451 , -1.1402695 ,  0.3720728 , ..., -0.01019489,\n",
       "               0.03682121,  1.1228191 ], dtype=float32)               ,\n",
       "       array([-1.4557704 , -0.16389525, -1.0528601 , ..., -0.2076569 ,\n",
       "               0.04728735,  0.09158379], dtype=float32)               ,\n",
       "       array([ 0.2048875 ,  0.5049714 ,  0.33711964, ..., -0.7492003 ,\n",
       "               0.42722172,  0.6041434 ], dtype=float32)               ,\n",
       "       array([ 0.3577144 ,  0.34765923, -0.99709386, ...,  0.22650619,\n",
       "              -0.00920504,  0.16178985], dtype=float32)               ,\n",
       "       array([ 0.9218415 ,  0.7275584 , -0.24367796, ..., -0.18289314,\n",
       "              -0.6765944 ,  0.7593756 ], dtype=float32)               ,\n",
       "       array([-0.14989324, -0.24370971, -0.23010634, ...,  0.34755102,\n",
       "              -0.39158726, -0.76552975], dtype=float32)               ,\n",
       "       array([ 0.45702353, -0.2949707 , -0.26635474, ..., -1.0492727 ,\n",
       "               0.6332903 , -0.8560558 ], dtype=float32)               ,\n",
       "       array([-0.33949634, -0.6301607 ,  0.50959307, ...,  0.34661388,\n",
       "               0.14302868,  0.31867623], dtype=float32)               ,\n",
       "       array([ 1.0559896 ,  0.01863586,  0.30521137, ..., -0.5163381 ,\n",
       "               0.21720834,  0.60858107], dtype=float32)               ,\n",
       "       array([ 0.26121292, -0.39657637, -0.91416174, ..., -0.05771882,\n",
       "               1.3084677 ,  0.5512564 ], dtype=float32)               ,\n",
       "       array([ 0.1847952 , -0.11758649,  0.6312262 , ...,  1.2085782 ,\n",
       "              -0.14094849, -0.9035653 ], dtype=float32)               ,\n",
       "       array([-0.32119757,  0.56691515, -0.77315634, ...,  0.7422965 ,\n",
       "               0.5201106 ,  0.06088767], dtype=float32)               ,\n",
       "       array([-0.11671823,  0.61006176,  0.78134155, ...,  1.2351724 ,\n",
       "               0.6885001 ,  1.1600007 ], dtype=float32)               ,\n",
       "       array([-0.56977534, -0.31661975, -0.149054  , ..., -1.0433897 ,\n",
       "              -0.7268022 ,  0.37723964], dtype=float32)               ,\n",
       "       array([-0.4425972 , -0.66140527, -1.3750954 , ...,  0.6500542 ,\n",
       "               0.06980144,  0.40000582], dtype=float32)               ,\n",
       "       array([-0.19291635, -0.6954236 , -0.9269285 , ..., -0.36740464,\n",
       "              -0.7333845 ,  0.5205851 ], dtype=float32)               ,\n",
       "       array([-0.38724732,  0.99239326, -0.20774245, ...,  0.10940926,\n",
       "               0.27869263, -0.5266561 ], dtype=float32)               ,\n",
       "       array([-0.3983605 , -0.51533324, -0.40867415, ..., -1.6967639 ,\n",
       "              -0.81125826, -1.5679094 ], dtype=float32)               ,\n",
       "       array([0.15130648, 0.2505082 , 0.5328873 , ..., 0.1610769 , 0.44078824,\n",
       "              0.7115906 ], dtype=float32)                                     ,\n",
       "       array([ 0.5723093 ,  0.22085409,  0.27608484, ...,  0.5325038 ,\n",
       "               1.3329027 , -0.2194137 ], dtype=float32)               ,\n",
       "       array([ 1.1516272 , -1.4342364 ,  0.3706957 , ...,  0.15075582,\n",
       "               0.06844909,  0.99801314], dtype=float32)               ,\n",
       "       array([-0.28300416, -0.03713303, -0.57656753, ..., -0.9662099 ,\n",
       "               0.33091924, -0.04190015], dtype=float32)               ,\n",
       "       array([-0.5231145 ,  0.12337838, -0.8711445 , ...,  0.57754606,\n",
       "              -0.28263345, -0.71975887], dtype=float32)               ,\n",
       "       array([ 0.09124966,  1.19468   ,  0.24085496, ...,  0.04962613,\n",
       "              -0.15161802,  0.01764611], dtype=float32)               ,\n",
       "       array([-0.1822224 ,  1.0775737 ,  0.59890175, ..., -0.2201797 ,\n",
       "               0.13249561,  0.31079084], dtype=float32)               ,\n",
       "       array([ 0.61299217, -0.6423743 , -0.6572214 , ...,  0.23997052,\n",
       "              -0.31946293, -0.6839193 ], dtype=float32)               ,\n",
       "       array([-1.196701  , -0.36961937, -1.2885295 , ...,  0.41240382,\n",
       "               0.82880944, -0.8870723 ], dtype=float32)               ,\n",
       "       array([-0.5506267 , -0.24940315, -0.45646453, ..., -0.4568458 ,\n",
       "               0.208441  ,  0.3677021 ], dtype=float32)               ,\n",
       "       array([-0.10997382,  0.9257379 , -0.01543632, ...,  0.8350262 ,\n",
       "               0.29969478, -0.24612765], dtype=float32)               ,\n",
       "       array([ 0.40721956, -0.27987635,  0.3855101 , ..., -0.4619085 ,\n",
       "              -0.16700538,  0.25345382], dtype=float32)               ,\n",
       "       array([ 0.26012072, -1.0295651 , -0.5611864 , ..., -1.024561  ,\n",
       "              -1.6424308 ,  0.6866639 ], dtype=float32)               ,\n",
       "       array([-0.17001176, -1.6501825 ,  0.20618975, ...,  0.5118812 ,\n",
       "              -0.0666171 , -0.16642776], dtype=float32)               ,\n",
       "       array([-0.48029438, -0.48081884,  0.20103435, ..., -1.0048156 ,\n",
       "               0.27356023, -0.8216224 ], dtype=float32)               ,\n",
       "       array([-1.0987312 ,  0.07224466, -0.26922438, ...,  0.30536854,\n",
       "               0.56631815, -0.31029588], dtype=float32)               ,\n",
       "       array([ 0.9614713 ,  0.33264503,  0.8678603 , ..., -1.2709658 ,\n",
       "              -0.05825729, -0.66568553], dtype=float32)               ,\n",
       "       array([-0.27880624,  0.49572194, -0.24732953, ...,  0.5484885 ,\n",
       "              -0.6552691 , -0.4223008 ], dtype=float32)               ,\n",
       "       array([-0.59309185,  0.60370994,  0.02847384, ...,  0.29534256,\n",
       "               0.72793424,  0.5415471 ], dtype=float32)               ,\n",
       "       array([-0.6747991 , -1.2678028 ,  0.7400653 , ..., -0.64779204,\n",
       "               1.3342448 , -0.5724123 ], dtype=float32)               ,\n",
       "       array([-0.41175973,  0.92138565, -0.61506224, ..., -0.75227475,\n",
       "               0.3460401 ,  1.4685692 ], dtype=float32)               ,\n",
       "       array([ 1.1095805 , -0.02553846,  2.4525137 , ...,  0.2412668 ,\n",
       "              -0.29033205,  0.09109149], dtype=float32)               ,\n",
       "       array([ 0.08985398,  0.19095662, -0.7877202 , ...,  0.7801294 ,\n",
       "              -0.8528958 ,  0.83136946], dtype=float32)               ,\n",
       "       array([ 0.74151826,  0.45648608, -0.5932799 , ...,  0.24634202,\n",
       "               0.2843403 ,  1.0069717 ], dtype=float32)               ,\n",
       "       array([-0.12819627, -0.2594966 ,  0.51863754, ...,  1.2878675 ,\n",
       "               0.6051914 ,  0.23863116], dtype=float32)               ,\n",
       "       array([ 0.09499889, -0.21472979, -0.22728997, ..., -1.1524965 ,\n",
       "               0.5667506 , -0.8655441 ], dtype=float32)               ,\n",
       "       array([-0.6330321 ,  0.6498586 ,  1.3435924 , ..., -0.3878804 ,\n",
       "               0.26100993,  0.26921186], dtype=float32)               ,\n",
       "       array([-0.32911807,  0.78866297,  0.7111956 , ...,  0.20059606,\n",
       "               0.5022023 ,  0.43153262], dtype=float32)               ,\n",
       "       array([-0.5342514 , -0.48108995, -0.35026014, ..., -0.23723853,\n",
       "              -0.69664586, -0.18901107], dtype=float32)               ,\n",
       "       array([ 0.0494106 ,  0.23882349,  1.273361  , ...,  0.52023584,\n",
       "               0.04727142, -0.1180673 ], dtype=float32)               ,\n",
       "       array([ 0.9424676 , -0.2659395 ,  0.33659446, ..., -1.2434226 ,\n",
       "               0.44922736,  0.4387331 ], dtype=float32)               ,\n",
       "       array([ 0.4381721 ,  0.32799026, -0.00812272, ...,  0.00820112,\n",
       "               0.69911414, -0.0551278 ], dtype=float32)               ,\n",
       "       array([ 0.8083564 , -0.2605739 ,  0.41553077, ..., -0.6659517 ,\n",
       "              -0.3106766 , -0.69737715], dtype=float32)               ,\n",
       "       array([-0.57795054,  0.19394407,  0.42878413, ...,  0.9198402 ,\n",
       "               1.1290566 , -1.3084236 ], dtype=float32)               ,\n",
       "       array([-0.3771791,  0.646956 ,  1.324195 , ..., -0.8765876,  0.746626 ,\n",
       "               1.4163315], dtype=float32)                                     ,\n",
       "       array([-0.48156974,  1.7154104 , -0.13606115, ..., -0.29519656,\n",
       "               0.68394154, -0.9797863 ], dtype=float32)               ,\n",
       "       array([-0.32331648,  0.81511384, -0.3745856 , ..., -0.04804393,\n",
       "              -0.4112208 , -0.33799428], dtype=float32)               ,\n",
       "       array([-0.21294704,  0.38791165, -0.2661738 , ...,  0.41499338,\n",
       "              -0.09084186,  0.16084792], dtype=float32)               ,\n",
       "       array([-0.34406412, -0.12239013, -0.6588893 , ..., -1.4245317 ,\n",
       "               0.22030024,  0.05501927], dtype=float32)               ,\n",
       "       array([ 0.11023234,  0.46716413,  0.8219968 , ..., -0.86986494,\n",
       "              -0.08336835,  0.7384687 ], dtype=float32)               ,\n",
       "       array([ 1.500087  , -1.0717565 ,  0.82095855, ...,  0.29890874,\n",
       "               0.7383488 ,  1.0428246 ], dtype=float32)               ,\n",
       "       array([ 2.3887906,  1.5094366, -1.2272309, ...,  0.5613989,  1.0156106,\n",
       "              -1.0209811], dtype=float32)                                     ,\n",
       "       array([ 0.76427615, -0.7381216 ,  1.1456304 , ..., -0.00975545,\n",
       "               0.9053559 , -1.2331079 ], dtype=float32)               ,\n",
       "       array([-0.20000227,  0.25526622, -1.025982  , ..., -0.38758114,\n",
       "              -0.8503256 ,  0.04470278], dtype=float32)               ,\n",
       "       array([ 0.12016724, -0.5382026 , -0.11894102, ..., -0.4230123 ,\n",
       "               0.02390478,  0.05490913], dtype=float32)               ,\n",
       "       array([-0.0673168 , -1.6289307 , -1.823715  , ...,  0.2778778 ,\n",
       "               0.23676504, -1.4779259 ], dtype=float32)               ,\n",
       "       array([-0.20028545, -0.72427344, -0.9422385 , ..., -0.7998502 ,\n",
       "              -0.59815437,  0.10010055], dtype=float32)               ,\n",
       "       array([-0.53310233, -0.01769621,  0.43111053, ..., -0.16313733,\n",
       "              -0.92171997, -0.90246284], dtype=float32)               ,\n",
       "       array([-0.01614619, -0.7988267 ,  0.57307297, ...,  0.1746848 ,\n",
       "               0.38411734, -0.16037409], dtype=float32)               ,\n",
       "       array([ 0.3688483 , -0.7601329 , -0.4274891 , ...,  0.43262434,\n",
       "               0.5664599 , -0.31559065], dtype=float32)               ,\n",
       "       array([ 1.2811692 ,  0.66776663, -0.13681409, ..., -0.7264589 ,\n",
       "              -0.04537098, -0.48766947], dtype=float32)               ,\n",
       "       array([-0.5401641 ,  0.5145714 , -0.13838986, ...,  0.50841135,\n",
       "               0.60409665,  0.71854293], dtype=float32)               ,\n",
       "       array([ 0.09084442,  0.11318024,  0.18895808, ...,  0.18642734,\n",
       "              -0.39366668, -0.7695239 ], dtype=float32)               ,\n",
       "       array([ 0.46306783,  0.21083485,  0.13987476, ...,  0.39883494,\n",
       "              -0.7698223 ,  0.74351245], dtype=float32)               ,\n",
       "       array([-1.6327192 , -0.13797992, -0.18284635, ..., -0.07816368,\n",
       "               0.37399322, -0.99799454], dtype=float32)               ,\n",
       "       array([-0.4935288 ,  0.11192765,  0.24027896, ..., -0.5706602 ,\n",
       "               0.7440655 ,  0.31339148], dtype=float32)               ,\n",
       "       array([-1.2505407 , -1.0265782 , -0.79353505, ...,  1.5417652 ,\n",
       "              -0.953893  ,  2.3701181 ], dtype=float32)               ,\n",
       "       array([ 0.2776011 , -0.00320911, -0.02554104, ...,  0.44148383,\n",
       "              -0.10644923, -0.65831953], dtype=float32)               ,\n",
       "       array([-0.73275423, -0.05079748,  0.01464419, ...,  0.02219991,\n",
       "               0.02445157,  0.61761034], dtype=float32)               ,\n",
       "       array([-0.80073506,  0.66011477,  0.57561326, ..., -0.29642045,\n",
       "               0.41134998,  0.7624378 ], dtype=float32)               ,\n",
       "       array([ 0.24005355,  0.32493675,  0.61042464, ...,  0.6494533 ,\n",
       "              -0.11649279, -0.9192366 ], dtype=float32)               ,\n",
       "       array([ 0.320206 ,  0.5440154,  1.4855524, ...,  0.5176613, -0.6708861,\n",
       "               0.0915957], dtype=float32)                                     ,\n",
       "       array([-0.12767935,  0.38450098,  0.39949477, ...,  0.53704077,\n",
       "              -0.7143731 ,  0.41584024], dtype=float32)               ,\n",
       "       array([-0.53959674,  1.376881  , -0.20473263, ..., -0.5464621 ,\n",
       "               0.9088712 ,  0.49486232], dtype=float32)               ,\n",
       "       array([-1.0780509 ,  0.35489583,  0.1047884 , ..., -0.8511272 ,\n",
       "               0.30309984, -0.12596211], dtype=float32)               ,\n",
       "       array([ 0.8528822 ,  1.0391963 , -0.41347796, ...,  0.00952805,\n",
       "               0.4188444 , -0.01886628], dtype=float32)               ,\n",
       "       array([-0.43067533, -0.36924806,  0.5659269 , ..., -0.44474602,\n",
       "               0.6250576 ,  0.62591726], dtype=float32)               ,\n",
       "       array([-0.17409962,  0.32771748, -0.5667493 , ..., -0.26960334,\n",
       "              -0.2743271 , -0.49858588], dtype=float32)               ,\n",
       "       array([ 0.4314972 ,  0.46693224, -0.770972  , ..., -0.08932093,\n",
       "              -1.4382305 , -0.41608143], dtype=float32)               ,\n",
       "       array([ 0.81040055, -0.3060734 ,  0.96496487, ...,  0.38852632,\n",
       "              -0.5385805 ,  1.1644548 ], dtype=float32)               ,\n",
       "       array([ 0.05448401, -0.5732657 , -0.43870023, ..., -0.55416614,\n",
       "              -0.08051705,  0.68802106], dtype=float32)               ,\n",
       "       array([ 0.1819689 , -0.4527742 ,  0.5843611 , ...,  0.48688123,\n",
       "              -1.5421063 , -0.40357396], dtype=float32)               ,\n",
       "       array([-0.72756755, -0.40770447, -0.4689158 , ..., -0.05673551,\n",
       "               0.02030638, -0.727057  ], dtype=float32)               ,\n",
       "       array([-1.2412671 , -0.47880352, -0.29032728, ..., -0.04631358,\n",
       "              -1.3027735 ,  0.18879744], dtype=float32)               ],\n",
       "      dtype=object)"
      ]
     },
     "execution_count": 19,
     "metadata": {},
     "output_type": "execute_result"
    }
   ],
   "source": [
    "psscan._calibrated"
   ]
  },
  {
   "cell_type": "code",
   "execution_count": 20,
   "id": "54ecbe9e-2992-47a6-aa0e-06f7c66211a8",
   "metadata": {},
   "outputs": [
    {
     "data": {
      "image/png": "[encoded data removed]",
      "text/plain": [
       "<Figure size 640x480 with 1 Axes>"
      ]
     },
     "metadata": {},
     "output_type": "display_data"
    }
   ],
   "source": [
    "t=psscan.timeaverage(weights=None)\n",
    "t.plot()"
   ]
  },
  {
   "cell_type": "code",
   "execution_count": 22,
   "id": "b1e28f5d-a0ba-4f66-b6dc-258e96177d20",
   "metadata": {},
   "outputs": [
    {
     "name": "stdout",
     "output_type": "stream",
     "text": [
      "data shape  (151,)\n",
      "Tsys weight shape  (151,)\n"
     ]
    },
    {
     "data": {
      "image/png": "[encoded data removed]",
      "text/plain": [
       "<Figure size 640x480 with 1 Axes>"
      ]
     },
     "metadata": {},
     "output_type": "display_data"
    }
   ],
   "source": [
    "t=psscan.timeaverage(weights='tsys')\n",
    "t.plot()"
   ]
  },
  {
   "cell_type": "markdown",
   "id": "209c6253-4ed1-4135-9e87-1ebaec734f21",
   "metadata": {},
   "source": [
    "### A single integration of the calibrated Spectrum"
   ]
  },
  {
   "cell_type": "code",
   "execution_count": null,
   "id": "c83feceb-7435-4231-a0bd-cd177ad96e6f",
   "metadata": {},
   "outputs": [],
   "source": [
    "spec1 = psscan.calibrated(0)\n",
    "spec1.unit == u.K\n",
    "type(spec1.spectral_axis)\n",
    "sss=Spectrum(spec1)\n",
    "sss.__dict__"
   ]
  },
  {
   "cell_type": "code",
   "execution_count": null,
   "id": "54b6cea7-d0be-484f-9363-35d90a146226",
   "metadata": {},
   "outputs": [],
   "source": [
    "sp = SpectrumPlot(spec1)\n",
    "sp.plot(xaxis_unit=\"km/s\")"
   ]
  },
  {
   "cell_type": "code",
   "execution_count": null,
   "id": "4b7446a8-a455-4a78-b8fb-7f318fba399d",
   "metadata": {},
   "outputs": [],
   "source": [
    "if False:\n",
    "    fig,ax = plt.subplots()\n",
    "    ax.set_ylim([-4,4])\n",
    "    ax.plot(spec1.spectral_axis,spec1.flux)\n",
    "    ax.set_xlabel(\"Frequency (GHz)\")\n",
    "    ax.set_ylabel(r\"$T_a$ (K)\")"
   ]
  },
  {
   "cell_type": "code",
   "execution_count": null,
   "id": "78639ed9-1899-4a54-b451-56bd29a350d5",
   "metadata": {},
   "outputs": [],
   "source": [
    "## ignore this\n",
    "if False:\n",
    "    flx = np.mean(psscan._calibrated[np.arange(0,len(psscan._calibrated),4)])\n",
    "    fig,ax = plt.subplots()\n",
    "    ax.set_ylim([-4,4])\n",
    "    ax.plot(psscan.calibrated(0).spectral_axis,flx)\n",
    "    all(psscan.calibrated(0).spectral_axis==psscan.calibrated(3).spectral_axis),all(psscan.calibrated(4).spectral_axis==psscan.calibrated(7).spectral_axis)"
   ]
  },
  {
   "cell_type": "markdown",
   "id": "5e37156f-3a6c-4d52-bc65-97dd7901df68",
   "metadata": {},
   "source": [
    "### The average spectrum.  \n",
    "Note this will be encapsulated in a average() method.\n",
    "Compare this with GBTIDL `getps, 152`"
   ]
  },
  {
   "cell_type": "code",
   "execution_count": null,
   "id": "32d6bb9c-eead-4db0-b7e1-7a6ba171ad94",
   "metadata": {},
   "outputs": [],
   "source": [
    "avg = Spectrum(spectral_axis=psscan.calibrated(0).spectral_axis,flux=np.mean(psscan._calibrated)*u.K)\n",
    "avg.plot()\n",
    "print(f\"T_sys = {np.mean(psscan.tsys)}\")"
   ]
  },
  {
   "cell_type": "markdown",
   "id": "5882f438-270b-4d33-83f5-60147f8d662f",
   "metadata": {},
   "source": [
    "### Try a different polarization and IF and use the OFF scan number\n",
    "GBTIDL `getps, 153, ifnum=1, plnum=1`"
   ]
  },
  {
   "cell_type": "code",
   "execution_count": null,
   "id": "4e81e83c-ad8d-4a3d-a49e-782da34768f1",
   "metadata": {},
   "outputs": [],
   "source": [
    "psscan = p.getps(152,plnum=None,ifnum=1)\n",
    "psscan.calibrate()"
   ]
  },
  {
   "cell_type": "code",
   "execution_count": null,
   "id": "930f1d34-f799-4452-9b18-06be3d9df9a8",
   "metadata": {},
   "outputs": [],
   "source": [
    "avg = Spectrum(spectral_axis=psscan.calibrated(0).spectral_axis,flux=np.mean(psscan._calibrated)*u.K)\n",
    "avg.plot()\n",
    "print(f\"T_sys = {np.mean(psscan.tsys)}\")"
   ]
  },
  {
   "cell_type": "markdown",
   "id": "45a07714-7c30-497b-9a18-a5bec99d308d",
   "metadata": {},
   "source": [
    "--------------------------------"
   ]
  },
  {
   "cell_type": "markdown",
   "id": "4a82fa07-caed-43e3-81d4-1028e333ac4d",
   "metadata": {},
   "source": [
    "# NOD KPFA Data  -- THIS DOESN'T WORK"
   ]
  },
  {
   "cell_type": "code",
   "execution_count": null,
   "id": "8b47fcfb-a9f5-4dc9-9794-bf4612377e71",
   "metadata": {},
   "outputs": [],
   "source": [
    "datadir = \"/data/gbt/\"\n",
    "f = datadir + 'examples/nod-KFPA/data/TGBT22A_503_02.raw.vegas/TGBT22A_503_02.raw.vegas.A.fits'\n",
    "pnod = GBTFITSLoad(f)\n",
    "pnod.info()"
   ]
  },
  {
   "cell_type": "code",
   "execution_count": null,
   "id": "2a16a455-20b0-464a-ad75-756e285ed5c9",
   "metadata": {},
   "outputs": [],
   "source": [
    "p._hdu[1].header"
   ]
  },
  {
   "cell_type": "code",
   "execution_count": null,
   "id": "fe4e07a7-0c30-4a4e-93ac-12d976f9f4ed",
   "metadata": {},
   "outputs": [],
   "source": [
    "\"INSTRUMEN\" in p._ptable[0].columns"
   ]
  },
  {
   "cell_type": "code",
   "execution_count": null,
   "id": "181aeb01-7d38-476a-a7d7-75cd7c9f468a",
   "metadata": {},
   "outputs": [],
   "source": [
    "pnod.getspec(10,0).meta"
   ]
  },
  {
   "cell_type": "code",
   "execution_count": null,
   "id": "93068ad4-515a-4bec-ac35-805910ce72eb",
   "metadata": {},
   "outputs": [],
   "source": [
    "pnod.summary(verbose=True)[0:10]"
   ]
  },
  {
   "cell_type": "code",
   "execution_count": null,
   "id": "f179de1b-10ab-4119-bb34-fa840940ce74",
   "metadata": {},
   "outputs": [],
   "source": []
  },
  {
   "cell_type": "code",
   "execution_count": null,
   "id": "e5962b81-7739-437c-a6e0-934c8f171ccd",
   "metadata": {},
   "outputs": [],
   "source": [
    "pnod._ptable[0].columns"
   ]
  },
  {
   "cell_type": "code",
   "execution_count": null,
   "id": "f146aca9-033c-4c44-ae56-69e9cf8521b4",
   "metadata": {},
   "outputs": [],
   "source": [
    "set(pnod._ptable[0][\"INTNUM\"]),set(pnod._ptable[0][\"FDNUM\"]),set(pnod._ptable[0][\"FEED\"]),set(pnod._ptable[0][\"IFNUM\"]),set(pnod._ptable[0][\"SRFEED\"]),set(pnod._ptable[0][\"SAMPLER\"])"
   ]
  },
  {
   "cell_type": "markdown",
   "id": "44542afe-67b9-473d-bcbc-7d5a75c71b41",
   "metadata": {},
   "source": [
    "-----\n",
    "# Debugging from here down."
   ]
  },
  {
   "cell_type": "code",
   "execution_count": null,
   "id": "b24a1ad3-f497-4c4d-8641-fa09ca97fdf8",
   "metadata": {},
   "outputs": [],
   "source": [
    "df = p._ptable[0]\n",
    "len(p.select('OBJECT','NGC2415',p._ptable[0]))//p.npol(0)"
   ]
  },
  {
   "cell_type": "code",
   "execution_count": null,
   "id": "3cbbb8b7-5703-4a7d-b4aa-813c4a5e9f1c",
   "metadata": {},
   "outputs": [],
   "source": [
    "psscan.meta"
   ]
  },
  {
   "cell_type": "code",
   "execution_count": null,
   "id": "c38dfbf4-9332-44d4-95be-23225a5a8939",
   "metadata": {},
   "outputs": [],
   "source": [
    "p.index(0).iloc[psscan._scanrows[\"OFF\"]][\"CAL\"]"
   ]
  },
  {
   "cell_type": "code",
   "execution_count": null,
   "id": "cb7d1dfc-31ff-4abc-b0fb-e2280dd18f4c",
   "metadata": {},
   "outputs": [],
   "source": [
    "psscan.calibrate()"
   ]
  },
  {
   "cell_type": "code",
   "execution_count": null,
   "id": "545083db-790c-4ded-89eb-4821fb0e1bbd",
   "metadata": {},
   "outputs": [],
   "source": [
    "df = p._ptable[0]\n",
    "scans = [152,153]\n",
    "df2=df[df[\"SCAN\"].isin([152])]\n",
    "df3=df[df[\"SCAN\"].isin([153])]\n",
    "df4=df[df[\"SCAN\"].isin([156])]\n",
    "un = df2.index.union(df3.index)\n",
    "un2=df2.index\n",
    "un3=df3.index\n",
    "df[\"SCAN\"].iloc[un2]\n",
    "df3.reindex(un2).index"
   ]
  },
  {
   "cell_type": "code",
   "execution_count": null,
   "id": "ffe31e4e-fa2f-435e-8b48-c545df2beb33",
   "metadata": {},
   "outputs": [],
   "source": [
    "on = [152,154,156]\n",
    "off = [153,155,157]\n",
    "scans = [152,155]\n",
    "onrequested = set(on).intersection(scans)\n",
    "offrequested = set(off).intersection(scans)\n",
    "sons = list(onrequested.copy())\n",
    "soffs = list(offrequested.copy())\n",
    "missingoff = []\n",
    "missingon = []\n",
    "setoff = set(off)\n",
    "seton = set(on)\n",
    "for i in onrequested:\n",
    "    expectedoff = i+1\n",
    "    if len(setoff.intersection([expectedoff])) == 0:\n",
    "        missingoff.append(expectedoff)\n",
    "    else:\n",
    "        soffs.append(expectedoff)\n",
    "for i in offrequested:\n",
    "    expectedon = i-1\n",
    "    if len(seton.intersection([expectedon])) == 0:\n",
    "        missingon.append(expectedon)\n",
    "    else:\n",
    "        sons.append(expectedon)\n",
    "if len(missingoff) > 0:\n",
    "    raise ValueError(f\"For the requested ON scans {onrequested}, the OFF scans {missingoff} were not present in bintable {bintable}\")\n",
    "if len(missingon) > 0:\n",
    "    raise ValueError(f\"For the requested OFF scans {offrequested}, the ON scans {missingon} were not present in bintable {bintable}\")\n",
    "print(\"ON\",sorted(sons))\n",
    "print(\"OFF\",sorted(soffs))"
   ]
  },
  {
   "cell_type": "code",
   "execution_count": null,
   "id": "3cd32864-2081-406e-a14e-e4483136842b",
   "metadata": {},
   "outputs": [],
   "source": [
    "scanlist=p.onoff_scan_list()\n",
    "print(scanlist)\n",
    "#scanlist = p.onoff_scan_list([152])\n",
    "#print(scanlist)\n",
    "scanlist = p.onoff_scan_list([153])\n",
    "print(scanlist)\n",
    "scanlist = p.onoff_scan_list([152,153])\n",
    "print(scanlist)\n",
    "scanlist = p.onoff_scan_list(152)\n",
    "print(scanlist)"
   ]
  },
  {
   "cell_type": "code",
   "execution_count": null,
   "id": "efe7ba31-2218-4917-9ade-6d6ecb4a2347",
   "metadata": {},
   "outputs": [],
   "source": [
    "print(sonoff(p.index(0)[\"SCAN\"],p.index(0)[\"PROCSEQN\"]))\n",
    "myscans = set(sorted([153,155]))\n",
    "scanlist=p.onoff_scan_list()\n",
    "print(scanlist)\n",
    "allscans = set(sorted(scanlist[\"ON\"]+scanlist[\"OFF\"]+[1,2,3,4,5]))\n",
    "print(allscans)\n",
    "z=allscans.intersection(myscans)\n",
    "zz =allscans.difference(myscans)\n",
    "zzz=myscans.difference(allscans)\n",
    "print(z,zz,zzz)"
   ]
  },
  {
   "cell_type": "code",
   "execution_count": null,
   "id": "13f88a4c-07e3-4c07-b331-c41cab973b44",
   "metadata": {},
   "outputs": [],
   "source": [
    "psscan = p.getps(scans=[152])"
   ]
  },
  {
   "cell_type": "code",
   "execution_count": null,
   "id": "e8e4fb51-f536-4def-be44-797e61629240",
   "metadata": {},
   "outputs": [],
   "source": [
    "df = p._ptable[0]\n",
    "rows=list(df[df[\"SCAN\"].isin(scans[\"ON\"])].index)\n",
    "df"
   ]
  },
  {
   "cell_type": "code",
   "execution_count": null,
   "id": "cb751350-f340-48af-8688-6400a5cdbc34",
   "metadata": {},
   "outputs": [],
   "source": [
    "rows=p.onoff_rows()\n",
    "rows"
   ]
  },
  {
   "cell_type": "code",
   "execution_count": null,
   "id": "b032052c-27a1-4298-99c8-a3ef7b273a62",
   "metadata": {},
   "outputs": [],
   "source": [
    "show = [\"SCAN\", \"PROCSEQN\", \"PROCSIZE\", \"_OBSTYPE\"]\n",
    "df=df[df.columns & show]\n",
    "df[df[\"_OBSTYPE\"]==\"PSWITCHOFF\"]"
   ]
  },
  {
   "cell_type": "code",
   "execution_count": null,
   "id": "b9bd0e0c-effa-41c0-a434-3f862ddb7a09",
   "metadata": {},
   "outputs": [],
   "source": [
    "dict(p._ptable[0].iloc[0])"
   ]
  },
  {
   "cell_type": "code",
   "execution_count": null,
   "id": "0e431431-e505-49ab-9147-27e891800aa3",
   "metadata": {},
   "outputs": [],
   "source": [
    "df[\"RESTFREQ\"]/=1E9\n",
    "df[\"RESTFREQ\"]"
   ]
  },
  {
   "cell_type": "code",
   "execution_count": null,
   "id": "23f0bffb-e693-437e-a1b8-177d98b894b8",
   "metadata": {},
   "outputs": [],
   "source": [
    "show = [\"SCAN\", \"OBJECT\", \"OBSMODE\", \"VELOCITY\", \"PROCSCAN\", \"PROCSEQN\", \"PROCTYPE\", \"PROCSIZE\", \"RESTFREQ\", \"IFNUM\",\"FEED\", \"AZIMUTH\", \"ELEVATIO\", \"FDNUM\"] \n",
    "scan = [60,61]\n",
    "_df = df[df.columns & show].reindex(columns=show)"
   ]
  },
  {
   "cell_type": "code",
   "execution_count": null,
   "id": "7f3ab993-bd5a-4a4a-8eee-8ebd3fc9ba05",
   "metadata": {},
   "outputs": [],
   "source": [
    "_df[\"OBSMODE\"].str.split(':',expand=True)"
   ]
  },
  {
   "cell_type": "code",
   "execution_count": null,
   "id": "9734e259-6e83-4c45-9f36-d39a54d580a3",
   "metadata": {},
   "outputs": [],
   "source": [
    "\n",
    "_df[(_df[\"SCAN\"]>=scan[0]) & ( _df[\"SCAN\"] <= scan[1])]"
   ]
  },
  {
   "cell_type": "code",
   "execution_count": null,
   "id": "9481a149-c1db-47e9-9c75-74724cda933b",
   "metadata": {},
   "outputs": [],
   "source": [
    "df[\"SCAN\"]"
   ]
  },
  {
   "cell_type": "code",
   "execution_count": null,
   "id": "0c7574bf-7d6f-4fd9-bae1-ebb5efc6b029",
   "metadata": {},
   "outputs": [],
   "source": [
    "df['PROCTYPE']"
   ]
  },
  {
   "cell_type": "code",
   "execution_count": null,
   "id": "59b6be1e-29f2-4c70-bfc4-9b830c3a1d41",
   "metadata": {},
   "outputs": [],
   "source": []
  },
  {
   "cell_type": "code",
   "execution_count": null,
   "id": "43ca5580-f9d8-4cfc-a957-f91194f547a0",
   "metadata": {},
   "outputs": [],
   "source": []
  },
  {
   "cell_type": "code",
   "execution_count": null,
   "id": "2dddf8b5-d361-4bef-998b-1473071d1960",
   "metadata": {},
   "outputs": [],
   "source": []
  }
 ],
 "metadata": {
  "kernelspec": {
   "display_name": "Python 3 (ipykernel)",
   "language": "python",
   "name": "python3"
  },
  "language_info": {
   "codemirror_mode": {
    "name": "ipython",
    "version": 3
   },
   "file_extension": ".py",
   "mimetype": "text/x-python",
   "name": "python",
   "nbconvert_exporter": "python",
   "pygments_lexer": "ipython3",
   "version": "3.10.9"
  }
 },
 "nbformat": 4,
 "nbformat_minor": 5
}
