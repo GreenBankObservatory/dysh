{
    "cells": [
        {
            "cell_type": "code",
            "execution_count": null,
            "id": "0",
            "metadata": {},
            "outputs": [],
            "source": [
                "# Enable interactive plots\n",
                "%matplotlib ipympl\n",
                "\n",
                "import numpy as np\n",
                "import pandas as pd\n",
                "from astropy.io import fits\n",
                "from astropy.table import Table\n",
                "\n",
                "from dysh.log import init_logging\n",
                "from dysh.fits.gbtfitsload import GBTFITSLoad, GBTOffline, GBTOnline\n",
                "from dysh.util.files import dysh_data\n",
                "\n",
                "init_logging(3)"
            ]
        },
        {
            "cell_type": "code",
            "execution_count": null,
            "id": "1",
            "metadata": {},
            "outputs": [],
            "source": []
        }
    ],
    "metadata": {
        "kernelspec": {
            "display_name": "Python 3 (ipykernel)",
            "language": "python",
            "name": "python3"
        },
        "language_info": {
            "codemirror_mode": {
                "name": "ipython",
                "version": 3
            },
            "file_extension": ".py",
            "mimetype": "text/x-python",
            "name": "python",
            "nbconvert_exporter": "python",
            "pygments_lexer": "ipython3",
            "version": "3.10.0"
        }
    },
    "nbformat": 4,
    "nbformat_minor": 5
}
