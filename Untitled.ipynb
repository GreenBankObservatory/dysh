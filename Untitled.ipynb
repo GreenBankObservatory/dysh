{
 "cells": [
  {
   "cell_type": "code",
   "execution_count": 13,
   "id": "cd0d2e9b",
   "metadata": {},
   "outputs": [],
   "source": [
    "from dysh.fits.gbtfitsload import GBTFITSLoad\n",
    "from dysh.util.selection import Selection"
   ]
  },
  {
   "cell_type": "code",
   "execution_count": null,
   "id": "b91c738f",
   "metadata": {},
   "outputs": [],
   "source": []
  },
  {
   "cell_type": "code",
   "execution_count": null,
   "id": "df291f4f",
   "metadata": {},
   "outputs": [],
   "source": [
    "def info_printer(sb):\n",
    "    print(f'length: {len(sb)}')\n",
    "    for i in range(len(sb)):\n",
    "        print(f')"
   ]
  },
  {
   "cell_type": "code",
   "execution_count": 104,
   "id": "eac1f91e",
   "metadata": {},
   "outputs": [],
   "source": [
    "import matplotlib.pyplot as plt"
   ]
  },
  {
   "cell_type": "code",
   "execution_count": 47,
   "id": "e126fcf5",
   "metadata": {},
   "outputs": [],
   "source": [
    "import numpy as np"
   ]
  },
  {
   "cell_type": "code",
   "execution_count": 191,
   "id": "badff3db",
   "metadata": {},
   "outputs": [
    {
     "name": "stdout",
     "output_type": "stream",
     "text": [
      "Loaded 2 FITS files\n"
     ]
    }
   ],
   "source": [
    "infile = 'testdata/TGBT21A_501_11/TGBT21A_501_11.raw.156.fits'\n",
    "infile = '/home/sdfits/TRCO_231002_L/TRCO_231002_L.raw.vegas/'\n",
    "infile = '/home/sdfits/TRCO_231118_C/TRCO_231118_C.raw.vegas/'\n",
    "infile = 'testdata/TGBT21A_501_11/testselection.fits'\n",
    "infile = '/home/scratch/esmith/archive/TGBT21A_501_11.raw.vegas'\n",
    "\n",
    "\n",
    "sdf = GBTFITSLoad(infile)"
   ]
  },
  {
   "cell_type": "code",
   "execution_count": 187,
   "id": "8f984b07",
   "metadata": {},
   "outputs": [
    {
     "name": "stderr",
     "output_type": "stream",
     "text": [
      "/users/esmith/.conda/envs/dyshpy/lib/python3.9/site-packages/dysh/util/selection.py:541: UserWarning: Your selection rule resulted in no data being selected. Ignoring.\n",
      "  warnings.warn(\"Your selection rule resulted in no data being selected. Ignoring.\")\n"
     ]
    }
   ],
   "source": [
    "sdf.select(scan = np.r_[15:20])"
   ]
  },
  {
   "cell_type": "code",
   "execution_count": 198,
   "id": "a11652aa",
   "metadata": {
    "scrolled": false
   },
   "outputs": [
    {
     "data": {
      "text/html": [
       "<div>\n",
       "<style scoped>\n",
       "    .dataframe tbody tr th:only-of-type {\n",
       "        vertical-align: middle;\n",
       "    }\n",
       "\n",
       "    .dataframe tbody tr th {\n",
       "        vertical-align: top;\n",
       "    }\n",
       "\n",
       "    .dataframe thead th {\n",
       "        text-align: right;\n",
       "    }\n",
       "</style>\n",
       "<table border=\"1\" class=\"dataframe\">\n",
       "  <thead>\n",
       "    <tr style=\"text-align: right;\">\n",
       "      <th></th>\n",
       "      <th>SCAN</th>\n",
       "      <th>OBJECT</th>\n",
       "      <th>VELOCITY</th>\n",
       "      <th>PROC</th>\n",
       "      <th>PROCSEQN</th>\n",
       "      <th>RESTFREQ</th>\n",
       "      <th>DOPFREQ</th>\n",
       "      <th># IF</th>\n",
       "      <th># POL</th>\n",
       "      <th># INT</th>\n",
       "      <th># FEED</th>\n",
       "      <th>AZIMUTH</th>\n",
       "      <th>ELEVATIO</th>\n",
       "    </tr>\n",
       "  </thead>\n",
       "  <tbody>\n",
       "    <tr>\n",
       "      <th>0</th>\n",
       "      <td>144</td>\n",
       "      <td>PSR_B0329+54</td>\n",
       "      <td>0.0</td>\n",
       "      <td>Track</td>\n",
       "      <td>1</td>\n",
       "      <td>1.617185</td>\n",
       "      <td>1.420406</td>\n",
       "      <td>5</td>\n",
       "      <td>2</td>\n",
       "      <td>3700</td>\n",
       "      <td>1</td>\n",
       "      <td>327.088873</td>\n",
       "      <td>17.777965</td>\n",
       "    </tr>\n",
       "    <tr>\n",
       "      <th>1</th>\n",
       "      <td>152</td>\n",
       "      <td>NGC2415</td>\n",
       "      <td>3784.0</td>\n",
       "      <td>OnOff</td>\n",
       "      <td>1</td>\n",
       "      <td>1.617185</td>\n",
       "      <td>1.420406</td>\n",
       "      <td>5</td>\n",
       "      <td>2</td>\n",
       "      <td>151</td>\n",
       "      <td>1</td>\n",
       "      <td>286.218008</td>\n",
       "      <td>41.62843</td>\n",
       "    </tr>\n",
       "    <tr>\n",
       "      <th>2</th>\n",
       "      <td>153</td>\n",
       "      <td>NGC2415</td>\n",
       "      <td>3784.0</td>\n",
       "      <td>OnOff</td>\n",
       "      <td>2</td>\n",
       "      <td>1.617185</td>\n",
       "      <td>1.420406</td>\n",
       "      <td>5</td>\n",
       "      <td>2</td>\n",
       "      <td>151</td>\n",
       "      <td>1</td>\n",
       "      <td>286.886521</td>\n",
       "      <td>41.118134</td>\n",
       "    </tr>\n",
       "    <tr>\n",
       "      <th>3</th>\n",
       "      <td>154</td>\n",
       "      <td>3C196</td>\n",
       "      <td>0.0</td>\n",
       "      <td>OnOff</td>\n",
       "      <td>1</td>\n",
       "      <td>1.617185</td>\n",
       "      <td>1.420406</td>\n",
       "      <td>5</td>\n",
       "      <td>2</td>\n",
       "      <td>16</td>\n",
       "      <td>1</td>\n",
       "      <td>302.408541</td>\n",
       "      <td>49.254842</td>\n",
       "    </tr>\n",
       "    <tr>\n",
       "      <th>4</th>\n",
       "      <td>155</td>\n",
       "      <td>3C196</td>\n",
       "      <td>0.0</td>\n",
       "      <td>OnOff</td>\n",
       "      <td>2</td>\n",
       "      <td>1.617185</td>\n",
       "      <td>1.420406</td>\n",
       "      <td>5</td>\n",
       "      <td>2</td>\n",
       "      <td>16</td>\n",
       "      <td>1</td>\n",
       "      <td>303.968672</td>\n",
       "      <td>49.159197</td>\n",
       "    </tr>\n",
       "    <tr>\n",
       "      <th>5</th>\n",
       "      <td>156</td>\n",
       "      <td>NGC2782</td>\n",
       "      <td>2543.139777</td>\n",
       "      <td>OnOff</td>\n",
       "      <td>1</td>\n",
       "      <td>1.617185</td>\n",
       "      <td>1.420406</td>\n",
       "      <td>5</td>\n",
       "      <td>2</td>\n",
       "      <td>76</td>\n",
       "      <td>1</td>\n",
       "      <td>286.315641</td>\n",
       "      <td>57.760857</td>\n",
       "    </tr>\n",
       "    <tr>\n",
       "      <th>6</th>\n",
       "      <td>157</td>\n",
       "      <td>NGC2782</td>\n",
       "      <td>2543.139777</td>\n",
       "      <td>OnOff</td>\n",
       "      <td>2</td>\n",
       "      <td>1.617185</td>\n",
       "      <td>1.420406</td>\n",
       "      <td>5</td>\n",
       "      <td>2</td>\n",
       "      <td>76</td>\n",
       "      <td>1</td>\n",
       "      <td>285.968174</td>\n",
       "      <td>58.709599</td>\n",
       "    </tr>\n",
       "    <tr>\n",
       "      <th>7</th>\n",
       "      <td>158</td>\n",
       "      <td>NGC2782</td>\n",
       "      <td>2543.139777</td>\n",
       "      <td>OnOff</td>\n",
       "      <td>1</td>\n",
       "      <td>1.617185</td>\n",
       "      <td>1.420406</td>\n",
       "      <td>5</td>\n",
       "      <td>2</td>\n",
       "      <td>76</td>\n",
       "      <td>1</td>\n",
       "      <td>287.067642</td>\n",
       "      <td>55.736551</td>\n",
       "    </tr>\n",
       "    <tr>\n",
       "      <th>8</th>\n",
       "      <td>159</td>\n",
       "      <td>NGC2782</td>\n",
       "      <td>2543.139777</td>\n",
       "      <td>OnOff</td>\n",
       "      <td>2</td>\n",
       "      <td>1.617185</td>\n",
       "      <td>1.420406</td>\n",
       "      <td>5</td>\n",
       "      <td>2</td>\n",
       "      <td>76</td>\n",
       "      <td>1</td>\n",
       "      <td>286.705791</td>\n",
       "      <td>56.681541</td>\n",
       "    </tr>\n",
       "    <tr>\n",
       "      <th>9</th>\n",
       "      <td>167</td>\n",
       "      <td>ScoX-1</td>\n",
       "      <td>0.0</td>\n",
       "      <td>OnOff</td>\n",
       "      <td>1</td>\n",
       "      <td>5.375</td>\n",
       "      <td>4.5</td>\n",
       "      <td>8</td>\n",
       "      <td>2</td>\n",
       "      <td>11</td>\n",
       "      <td>1</td>\n",
       "      <td>126.125201</td>\n",
       "      <td>16.227996</td>\n",
       "    </tr>\n",
       "    <tr>\n",
       "      <th>10</th>\n",
       "      <td>168</td>\n",
       "      <td>ScoX-1</td>\n",
       "      <td>0.0</td>\n",
       "      <td>OnOff</td>\n",
       "      <td>2</td>\n",
       "      <td>5.375</td>\n",
       "      <td>4.5</td>\n",
       "      <td>8</td>\n",
       "      <td>2</td>\n",
       "      <td>11</td>\n",
       "      <td>1</td>\n",
       "      <td>124.670312</td>\n",
       "      <td>14.994732</td>\n",
       "    </tr>\n",
       "    <tr>\n",
       "      <th>11</th>\n",
       "      <td>169</td>\n",
       "      <td>ScoX-1</td>\n",
       "      <td>0.0</td>\n",
       "      <td>OnOff</td>\n",
       "      <td>1</td>\n",
       "      <td>5.375</td>\n",
       "      <td>4.5</td>\n",
       "      <td>8</td>\n",
       "      <td>2</td>\n",
       "      <td>11</td>\n",
       "      <td>1</td>\n",
       "      <td>126.326176</td>\n",
       "      <td>16.395182</td>\n",
       "    </tr>\n",
       "    <tr>\n",
       "      <th>12</th>\n",
       "      <td>170</td>\n",
       "      <td>ScoX-1</td>\n",
       "      <td>0.0</td>\n",
       "      <td>OnOff</td>\n",
       "      <td>2</td>\n",
       "      <td>5.375</td>\n",
       "      <td>4.5</td>\n",
       "      <td>8</td>\n",
       "      <td>2</td>\n",
       "      <td>7</td>\n",
       "      <td>1</td>\n",
       "      <td>124.863141</td>\n",
       "      <td>15.161276</td>\n",
       "    </tr>\n",
       "    <tr>\n",
       "      <th>13</th>\n",
       "      <td>171</td>\n",
       "      <td>ScoX-1</td>\n",
       "      <td>0.0</td>\n",
       "      <td>OnOff</td>\n",
       "      <td>1</td>\n",
       "      <td>5.375</td>\n",
       "      <td>4.5</td>\n",
       "      <td>8</td>\n",
       "      <td>2</td>\n",
       "      <td>11</td>\n",
       "      <td>1</td>\n",
       "      <td>126.535821</td>\n",
       "      <td>16.568273</td>\n",
       "    </tr>\n",
       "    <tr>\n",
       "      <th>14</th>\n",
       "      <td>172</td>\n",
       "      <td>ScoX-1</td>\n",
       "      <td>0.0</td>\n",
       "      <td>OnOff</td>\n",
       "      <td>2</td>\n",
       "      <td>5.375</td>\n",
       "      <td>4.5</td>\n",
       "      <td>8</td>\n",
       "      <td>2</td>\n",
       "      <td>11</td>\n",
       "      <td>1</td>\n",
       "      <td>125.073374</td>\n",
       "      <td>15.342359</td>\n",
       "    </tr>\n",
       "    <tr>\n",
       "      <th>15</th>\n",
       "      <td>173</td>\n",
       "      <td>ScoX-1</td>\n",
       "      <td>0.0</td>\n",
       "      <td>OnOff</td>\n",
       "      <td>1</td>\n",
       "      <td>5.375</td>\n",
       "      <td>4.5</td>\n",
       "      <td>8</td>\n",
       "      <td>2</td>\n",
       "      <td>11</td>\n",
       "      <td>1</td>\n",
       "      <td>126.73856</td>\n",
       "      <td>16.735803</td>\n",
       "    </tr>\n",
       "    <tr>\n",
       "      <th>16</th>\n",
       "      <td>174</td>\n",
       "      <td>ScoX-1</td>\n",
       "      <td>0.0</td>\n",
       "      <td>OnOff</td>\n",
       "      <td>2</td>\n",
       "      <td>5.375</td>\n",
       "      <td>4.5</td>\n",
       "      <td>8</td>\n",
       "      <td>2</td>\n",
       "      <td>11</td>\n",
       "      <td>1</td>\n",
       "      <td>125.282656</td>\n",
       "      <td>15.520965</td>\n",
       "    </tr>\n",
       "    <tr>\n",
       "      <th>17</th>\n",
       "      <td>175</td>\n",
       "      <td>ScoX-1</td>\n",
       "      <td>0.0</td>\n",
       "      <td>OnOff</td>\n",
       "      <td>1</td>\n",
       "      <td>5.375</td>\n",
       "      <td>4.5</td>\n",
       "      <td>8</td>\n",
       "      <td>2</td>\n",
       "      <td>11</td>\n",
       "      <td>1</td>\n",
       "      <td>126.95256</td>\n",
       "      <td>16.910736</td>\n",
       "    </tr>\n",
       "    <tr>\n",
       "      <th>18</th>\n",
       "      <td>176</td>\n",
       "      <td>ScoX-1</td>\n",
       "      <td>0.0</td>\n",
       "      <td>OnOff</td>\n",
       "      <td>2</td>\n",
       "      <td>5.375</td>\n",
       "      <td>4.5</td>\n",
       "      <td>8</td>\n",
       "      <td>2</td>\n",
       "      <td>11</td>\n",
       "      <td>1</td>\n",
       "      <td>125.482328</td>\n",
       "      <td>15.691038</td>\n",
       "    </tr>\n",
       "    <tr>\n",
       "      <th>19</th>\n",
       "      <td>177</td>\n",
       "      <td>ScoX-1</td>\n",
       "      <td>0.0</td>\n",
       "      <td>OnOff</td>\n",
       "      <td>1</td>\n",
       "      <td>5.375</td>\n",
       "      <td>4.5</td>\n",
       "      <td>8</td>\n",
       "      <td>2</td>\n",
       "      <td>11</td>\n",
       "      <td>1</td>\n",
       "      <td>127.156983</td>\n",
       "      <td>17.077335</td>\n",
       "    </tr>\n",
       "    <tr>\n",
       "      <th>20</th>\n",
       "      <td>178</td>\n",
       "      <td>ScoX-1</td>\n",
       "      <td>0.0</td>\n",
       "      <td>OnOff</td>\n",
       "      <td>2</td>\n",
       "      <td>5.375</td>\n",
       "      <td>4.5</td>\n",
       "      <td>8</td>\n",
       "      <td>2</td>\n",
       "      <td>11</td>\n",
       "      <td>1</td>\n",
       "      <td>125.682936</td>\n",
       "      <td>15.860763</td>\n",
       "    </tr>\n",
       "    <tr>\n",
       "      <th>21</th>\n",
       "      <td>179</td>\n",
       "      <td>ScoX-1</td>\n",
       "      <td>0.0</td>\n",
       "      <td>OnOff</td>\n",
       "      <td>1</td>\n",
       "      <td>5.375</td>\n",
       "      <td>4.5</td>\n",
       "      <td>8</td>\n",
       "      <td>2</td>\n",
       "      <td>11</td>\n",
       "      <td>1</td>\n",
       "      <td>127.362011</td>\n",
       "      <td>17.24349</td>\n",
       "    </tr>\n",
       "    <tr>\n",
       "      <th>22</th>\n",
       "      <td>180</td>\n",
       "      <td>ScoX-1</td>\n",
       "      <td>0.0</td>\n",
       "      <td>OnOff</td>\n",
       "      <td>2</td>\n",
       "      <td>5.375</td>\n",
       "      <td>4.5</td>\n",
       "      <td>8</td>\n",
       "      <td>2</td>\n",
       "      <td>11</td>\n",
       "      <td>1</td>\n",
       "      <td>125.882555</td>\n",
       "      <td>16.030037</td>\n",
       "    </tr>\n",
       "    <tr>\n",
       "      <th>23</th>\n",
       "      <td>181</td>\n",
       "      <td>ScoX-1</td>\n",
       "      <td>0.0</td>\n",
       "      <td>OnOff</td>\n",
       "      <td>1</td>\n",
       "      <td>5.375</td>\n",
       "      <td>4.5</td>\n",
       "      <td>8</td>\n",
       "      <td>2</td>\n",
       "      <td>11</td>\n",
       "      <td>1</td>\n",
       "      <td>127.56816</td>\n",
       "      <td>17.40928</td>\n",
       "    </tr>\n",
       "    <tr>\n",
       "      <th>24</th>\n",
       "      <td>182</td>\n",
       "      <td>ScoX-1</td>\n",
       "      <td>0.0</td>\n",
       "      <td>OnOff</td>\n",
       "      <td>2</td>\n",
       "      <td>5.375</td>\n",
       "      <td>4.5</td>\n",
       "      <td>8</td>\n",
       "      <td>2</td>\n",
       "      <td>11</td>\n",
       "      <td>1</td>\n",
       "      <td>126.08609</td>\n",
       "      <td>16.198928</td>\n",
       "    </tr>\n",
       "    <tr>\n",
       "      <th>25</th>\n",
       "      <td>183</td>\n",
       "      <td>ScoX-1</td>\n",
       "      <td>0.0</td>\n",
       "      <td>OnOff</td>\n",
       "      <td>1</td>\n",
       "      <td>5.375</td>\n",
       "      <td>4.5</td>\n",
       "      <td>8</td>\n",
       "      <td>2</td>\n",
       "      <td>11</td>\n",
       "      <td>1</td>\n",
       "      <td>127.774534</td>\n",
       "      <td>17.57449</td>\n",
       "    </tr>\n",
       "    <tr>\n",
       "      <th>26</th>\n",
       "      <td>184</td>\n",
       "      <td>ScoX-1</td>\n",
       "      <td>0.0</td>\n",
       "      <td>OnOff</td>\n",
       "      <td>2</td>\n",
       "      <td>5.375</td>\n",
       "      <td>4.5</td>\n",
       "      <td>8</td>\n",
       "      <td>2</td>\n",
       "      <td>11</td>\n",
       "      <td>1</td>\n",
       "      <td>126.288175</td>\n",
       "      <td>16.367402</td>\n",
       "    </tr>\n",
       "    <tr>\n",
       "      <th>27</th>\n",
       "      <td>185</td>\n",
       "      <td>ScoX-1</td>\n",
       "      <td>0.0</td>\n",
       "      <td>OnOff</td>\n",
       "      <td>1</td>\n",
       "      <td>5.375</td>\n",
       "      <td>4.5</td>\n",
       "      <td>8</td>\n",
       "      <td>2</td>\n",
       "      <td>11</td>\n",
       "      <td>1</td>\n",
       "      <td>127.982186</td>\n",
       "      <td>17.739357</td>\n",
       "    </tr>\n",
       "    <tr>\n",
       "      <th>28</th>\n",
       "      <td>186</td>\n",
       "      <td>ScoX-1</td>\n",
       "      <td>0.0</td>\n",
       "      <td>OnOff</td>\n",
       "      <td>2</td>\n",
       "      <td>5.375</td>\n",
       "      <td>4.5</td>\n",
       "      <td>8</td>\n",
       "      <td>2</td>\n",
       "      <td>11</td>\n",
       "      <td>1</td>\n",
       "      <td>126.490445</td>\n",
       "      <td>16.535379</td>\n",
       "    </tr>\n",
       "    <tr>\n",
       "      <th>29</th>\n",
       "      <td>187</td>\n",
       "      <td>ScoX-1</td>\n",
       "      <td>0.0</td>\n",
       "      <td>OnOff</td>\n",
       "      <td>1</td>\n",
       "      <td>5.375</td>\n",
       "      <td>4.5</td>\n",
       "      <td>8</td>\n",
       "      <td>2</td>\n",
       "      <td>11</td>\n",
       "      <td>1</td>\n",
       "      <td>128.189736</td>\n",
       "      <td>17.903636</td>\n",
       "    </tr>\n",
       "    <tr>\n",
       "      <th>30</th>\n",
       "      <td>188</td>\n",
       "      <td>ScoX-1</td>\n",
       "      <td>0.0</td>\n",
       "      <td>OnOff</td>\n",
       "      <td>2</td>\n",
       "      <td>5.375</td>\n",
       "      <td>4.5</td>\n",
       "      <td>8</td>\n",
       "      <td>2</td>\n",
       "      <td>11</td>\n",
       "      <td>1</td>\n",
       "      <td>126.694161</td>\n",
       "      <td>16.703051</td>\n",
       "    </tr>\n",
       "    <tr>\n",
       "      <th>31</th>\n",
       "      <td>189</td>\n",
       "      <td>ScoX-1</td>\n",
       "      <td>0.0</td>\n",
       "      <td>OnOff</td>\n",
       "      <td>1</td>\n",
       "      <td>5.375</td>\n",
       "      <td>4.5</td>\n",
       "      <td>8</td>\n",
       "      <td>2</td>\n",
       "      <td>11</td>\n",
       "      <td>1</td>\n",
       "      <td>128.397909</td>\n",
       "      <td>18.067636</td>\n",
       "    </tr>\n",
       "    <tr>\n",
       "      <th>32</th>\n",
       "      <td>190</td>\n",
       "      <td>ScoX-1</td>\n",
       "      <td>0.0</td>\n",
       "      <td>OnOff</td>\n",
       "      <td>2</td>\n",
       "      <td>5.375</td>\n",
       "      <td>4.5</td>\n",
       "      <td>8</td>\n",
       "      <td>2</td>\n",
       "      <td>11</td>\n",
       "      <td>1</td>\n",
       "      <td>126.897075</td>\n",
       "      <td>16.87017</td>\n",
       "    </tr>\n",
       "    <tr>\n",
       "      <th>33</th>\n",
       "      <td>191</td>\n",
       "      <td>ScoX-1</td>\n",
       "      <td>0.0</td>\n",
       "      <td>OnOff</td>\n",
       "      <td>1</td>\n",
       "      <td>5.375</td>\n",
       "      <td>4.5</td>\n",
       "      <td>8</td>\n",
       "      <td>2</td>\n",
       "      <td>11</td>\n",
       "      <td>1</td>\n",
       "      <td>128.606498</td>\n",
       "      <td>18.231054</td>\n",
       "    </tr>\n",
       "    <tr>\n",
       "      <th>34</th>\n",
       "      <td>192</td>\n",
       "      <td>ScoX-1</td>\n",
       "      <td>0.0</td>\n",
       "      <td>OnOff</td>\n",
       "      <td>2</td>\n",
       "      <td>5.375</td>\n",
       "      <td>4.5</td>\n",
       "      <td>8</td>\n",
       "      <td>2</td>\n",
       "      <td>11</td>\n",
       "      <td>1</td>\n",
       "      <td>127.102692</td>\n",
       "      <td>17.036944</td>\n",
       "    </tr>\n",
       "    <tr>\n",
       "      <th>35</th>\n",
       "      <td>193</td>\n",
       "      <td>ScoX-1</td>\n",
       "      <td>0.0</td>\n",
       "      <td>OnOff</td>\n",
       "      <td>1</td>\n",
       "      <td>5.375</td>\n",
       "      <td>4.5</td>\n",
       "      <td>8</td>\n",
       "      <td>2</td>\n",
       "      <td>11</td>\n",
       "      <td>1</td>\n",
       "      <td>128.816022</td>\n",
       "      <td>18.394082</td>\n",
       "    </tr>\n",
       "    <tr>\n",
       "      <th>36</th>\n",
       "      <td>194</td>\n",
       "      <td>ScoX-1</td>\n",
       "      <td>0.0</td>\n",
       "      <td>OnOff</td>\n",
       "      <td>2</td>\n",
       "      <td>5.375</td>\n",
       "      <td>4.5</td>\n",
       "      <td>8</td>\n",
       "      <td>2</td>\n",
       "      <td>11</td>\n",
       "      <td>1</td>\n",
       "      <td>127.307511</td>\n",
       "      <td>17.20324</td>\n",
       "    </tr>\n",
       "    <tr>\n",
       "      <th>37</th>\n",
       "      <td>195</td>\n",
       "      <td>ScoX-1</td>\n",
       "      <td>0.0</td>\n",
       "      <td>OnOff</td>\n",
       "      <td>1</td>\n",
       "      <td>5.375</td>\n",
       "      <td>4.5</td>\n",
       "      <td>8</td>\n",
       "      <td>2</td>\n",
       "      <td>11</td>\n",
       "      <td>1</td>\n",
       "      <td>129.029598</td>\n",
       "      <td>18.559042</td>\n",
       "    </tr>\n",
       "    <tr>\n",
       "      <th>38</th>\n",
       "      <td>196</td>\n",
       "      <td>ScoX-1</td>\n",
       "      <td>0.0</td>\n",
       "      <td>OnOff</td>\n",
       "      <td>2</td>\n",
       "      <td>5.375</td>\n",
       "      <td>4.5</td>\n",
       "      <td>8</td>\n",
       "      <td>2</td>\n",
       "      <td>11</td>\n",
       "      <td>1</td>\n",
       "      <td>127.519763</td>\n",
       "      <td>17.374278</td>\n",
       "    </tr>\n",
       "  </tbody>\n",
       "</table>\n",
       "</div>"
      ],
      "text/plain": [
       "    SCAN        OBJECT     VELOCITY   PROC  PROCSEQN  RESTFREQ   DOPFREQ # IF  \\\n",
       "0    144  PSR_B0329+54          0.0  Track         1  1.617185  1.420406    5   \n",
       "1    152       NGC2415       3784.0  OnOff         1  1.617185  1.420406    5   \n",
       "2    153       NGC2415       3784.0  OnOff         2  1.617185  1.420406    5   \n",
       "3    154         3C196          0.0  OnOff         1  1.617185  1.420406    5   \n",
       "4    155         3C196          0.0  OnOff         2  1.617185  1.420406    5   \n",
       "5    156       NGC2782  2543.139777  OnOff         1  1.617185  1.420406    5   \n",
       "6    157       NGC2782  2543.139777  OnOff         2  1.617185  1.420406    5   \n",
       "7    158       NGC2782  2543.139777  OnOff         1  1.617185  1.420406    5   \n",
       "8    159       NGC2782  2543.139777  OnOff         2  1.617185  1.420406    5   \n",
       "9    167        ScoX-1          0.0  OnOff         1     5.375       4.5    8   \n",
       "10   168        ScoX-1          0.0  OnOff         2     5.375       4.5    8   \n",
       "11   169        ScoX-1          0.0  OnOff         1     5.375       4.5    8   \n",
       "12   170        ScoX-1          0.0  OnOff         2     5.375       4.5    8   \n",
       "13   171        ScoX-1          0.0  OnOff         1     5.375       4.5    8   \n",
       "14   172        ScoX-1          0.0  OnOff         2     5.375       4.5    8   \n",
       "15   173        ScoX-1          0.0  OnOff         1     5.375       4.5    8   \n",
       "16   174        ScoX-1          0.0  OnOff         2     5.375       4.5    8   \n",
       "17   175        ScoX-1          0.0  OnOff         1     5.375       4.5    8   \n",
       "18   176        ScoX-1          0.0  OnOff         2     5.375       4.5    8   \n",
       "19   177        ScoX-1          0.0  OnOff         1     5.375       4.5    8   \n",
       "20   178        ScoX-1          0.0  OnOff         2     5.375       4.5    8   \n",
       "21   179        ScoX-1          0.0  OnOff         1     5.375       4.5    8   \n",
       "22   180        ScoX-1          0.0  OnOff         2     5.375       4.5    8   \n",
       "23   181        ScoX-1          0.0  OnOff         1     5.375       4.5    8   \n",
       "24   182        ScoX-1          0.0  OnOff         2     5.375       4.5    8   \n",
       "25   183        ScoX-1          0.0  OnOff         1     5.375       4.5    8   \n",
       "26   184        ScoX-1          0.0  OnOff         2     5.375       4.5    8   \n",
       "27   185        ScoX-1          0.0  OnOff         1     5.375       4.5    8   \n",
       "28   186        ScoX-1          0.0  OnOff         2     5.375       4.5    8   \n",
       "29   187        ScoX-1          0.0  OnOff         1     5.375       4.5    8   \n",
       "30   188        ScoX-1          0.0  OnOff         2     5.375       4.5    8   \n",
       "31   189        ScoX-1          0.0  OnOff         1     5.375       4.5    8   \n",
       "32   190        ScoX-1          0.0  OnOff         2     5.375       4.5    8   \n",
       "33   191        ScoX-1          0.0  OnOff         1     5.375       4.5    8   \n",
       "34   192        ScoX-1          0.0  OnOff         2     5.375       4.5    8   \n",
       "35   193        ScoX-1          0.0  OnOff         1     5.375       4.5    8   \n",
       "36   194        ScoX-1          0.0  OnOff         2     5.375       4.5    8   \n",
       "37   195        ScoX-1          0.0  OnOff         1     5.375       4.5    8   \n",
       "38   196        ScoX-1          0.0  OnOff         2     5.375       4.5    8   \n",
       "\n",
       "   # POL # INT # FEED     AZIMUTH   ELEVATIO  \n",
       "0      2  3700      1  327.088873  17.777965  \n",
       "1      2   151      1  286.218008   41.62843  \n",
       "2      2   151      1  286.886521  41.118134  \n",
       "3      2    16      1  302.408541  49.254842  \n",
       "4      2    16      1  303.968672  49.159197  \n",
       "5      2    76      1  286.315641  57.760857  \n",
       "6      2    76      1  285.968174  58.709599  \n",
       "7      2    76      1  287.067642  55.736551  \n",
       "8      2    76      1  286.705791  56.681541  \n",
       "9      2    11      1  126.125201  16.227996  \n",
       "10     2    11      1  124.670312  14.994732  \n",
       "11     2    11      1  126.326176  16.395182  \n",
       "12     2     7      1  124.863141  15.161276  \n",
       "13     2    11      1  126.535821  16.568273  \n",
       "14     2    11      1  125.073374  15.342359  \n",
       "15     2    11      1   126.73856  16.735803  \n",
       "16     2    11      1  125.282656  15.520965  \n",
       "17     2    11      1   126.95256  16.910736  \n",
       "18     2    11      1  125.482328  15.691038  \n",
       "19     2    11      1  127.156983  17.077335  \n",
       "20     2    11      1  125.682936  15.860763  \n",
       "21     2    11      1  127.362011   17.24349  \n",
       "22     2    11      1  125.882555  16.030037  \n",
       "23     2    11      1   127.56816   17.40928  \n",
       "24     2    11      1   126.08609  16.198928  \n",
       "25     2    11      1  127.774534   17.57449  \n",
       "26     2    11      1  126.288175  16.367402  \n",
       "27     2    11      1  127.982186  17.739357  \n",
       "28     2    11      1  126.490445  16.535379  \n",
       "29     2    11      1  128.189736  17.903636  \n",
       "30     2    11      1  126.694161  16.703051  \n",
       "31     2    11      1  128.397909  18.067636  \n",
       "32     2    11      1  126.897075   16.87017  \n",
       "33     2    11      1  128.606498  18.231054  \n",
       "34     2    11      1  127.102692  17.036944  \n",
       "35     2    11      1  128.816022  18.394082  \n",
       "36     2    11      1  127.307511   17.20324  \n",
       "37     2    11      1  129.029598  18.559042  \n",
       "38     2    11      1  127.519763  17.374278  "
      ]
     },
     "execution_count": 198,
     "metadata": {},
     "output_type": "execute_result"
    }
   ],
   "source": [
    "sdf.summary()"
   ]
  },
  {
   "cell_type": "code",
   "execution_count": 216,
   "id": "0fa59240",
   "metadata": {},
   "outputs": [],
   "source": [
    "s = Selection(sdf)\n",
    "s.select(scan=[171,172])"
   ]
  },
  {
   "cell_type": "code",
   "execution_count": 239,
   "id": "5abd98fc",
   "metadata": {},
   "outputs": [],
   "source": [
    "s.clear()\n",
    "s.select(scan=[171,172],plnum=0,ifnum=[0,1],intnum=np.r_[0:3])"
   ]
  },
  {
   "cell_type": "code",
   "execution_count": 243,
   "id": "aca99e2b",
   "metadata": {},
   "outputs": [],
   "source": [
    "s.clear()\n",
    "s.select(scan=[171,172],plnum=0,ifnum=[0,1])\n",
    "s.select_range(intnum=(4,8))"
   ]
  },
  {
   "cell_type": "code",
   "execution_count": 242,
   "id": "9eedb0c0",
   "metadata": {},
   "outputs": [
    {
     "name": "stdout",
     "output_type": "stream",
     "text": [
      " ID    TAG       SCAN    IFNUM  PLNUM  INTNUM  # SELECTED\n",
      "--- --------- ---------- ------ ----- -------- ----------\n",
      "  0 6c143a0ce [171, 172] [0, 1]     0                  88\n",
      "  1 83c3d045f                         [-4, 12]      12642\n"
     ]
    }
   ],
   "source": [
    "s.show()"
   ]
  },
  {
   "cell_type": "code",
   "execution_count": 213,
   "id": "955bb060",
   "metadata": {},
   "outputs": [
    {
     "ename": "AttributeError",
     "evalue": "'GBTFITSLoad' object has no attribute 'show'",
     "output_type": "error",
     "traceback": [
      "\u001b[0;31m---------------------------------------------------------------------------\u001b[0m",
      "\u001b[0;31mAttributeError\u001b[0m                            Traceback (most recent call last)",
      "Cell \u001b[0;32mIn[213], line 1\u001b[0m\n\u001b[0;32m----> 1\u001b[0m \u001b[43msdf\u001b[49m\u001b[38;5;241;43m.\u001b[39;49m\u001b[43mshow\u001b[49m()\n",
      "\u001b[0;31mAttributeError\u001b[0m: 'GBTFITSLoad' object has no attribute 'show'"
     ]
    }
   ],
   "source": [
    "sdf.show()"
   ]
  },
  {
   "cell_type": "code",
   "execution_count": 209,
   "id": "26975213",
   "metadata": {
    "scrolled": true
   },
   "outputs": [
    {
     "name": "stderr",
     "output_type": "stream",
     "text": [
      "/users/esmith/.conda/envs/dyshpy/lib/python3.9/site-packages/dysh/util/selection.py:541: UserWarning: Your selection rule resulted in no data being selected. Ignoring.\n",
      "  warnings.warn(\"Your selection rule resulted in no data being selected. Ignoring.\")\n"
     ]
    },
    {
     "ename": "KeyError",
     "evalue": "'IFNUM'",
     "output_type": "error",
     "traceback": [
      "\u001b[0;31m---------------------------------------------------------------------------\u001b[0m",
      "\u001b[0;31mKeyError\u001b[0m                                  Traceback (most recent call last)",
      "File \u001b[0;32m~/.conda/envs/dyshpy/lib/python3.9/site-packages/pandas/core/indexes/base.py:3802\u001b[0m, in \u001b[0;36mIndex.get_loc\u001b[0;34m(self, key, method, tolerance)\u001b[0m\n\u001b[1;32m   3801\u001b[0m \u001b[38;5;28;01mtry\u001b[39;00m:\n\u001b[0;32m-> 3802\u001b[0m     \u001b[38;5;28;01mreturn\u001b[39;00m \u001b[38;5;28;43mself\u001b[39;49m\u001b[38;5;241;43m.\u001b[39;49m\u001b[43m_engine\u001b[49m\u001b[38;5;241;43m.\u001b[39;49m\u001b[43mget_loc\u001b[49m\u001b[43m(\u001b[49m\u001b[43mcasted_key\u001b[49m\u001b[43m)\u001b[49m\n\u001b[1;32m   3803\u001b[0m \u001b[38;5;28;01mexcept\u001b[39;00m \u001b[38;5;167;01mKeyError\u001b[39;00m \u001b[38;5;28;01mas\u001b[39;00m err:\n",
      "File \u001b[0;32m~/.conda/envs/dyshpy/lib/python3.9/site-packages/pandas/_libs/index.pyx:138\u001b[0m, in \u001b[0;36mpandas._libs.index.IndexEngine.get_loc\u001b[0;34m()\u001b[0m\n",
      "File \u001b[0;32m~/.conda/envs/dyshpy/lib/python3.9/site-packages/pandas/_libs/index.pyx:165\u001b[0m, in \u001b[0;36mpandas._libs.index.IndexEngine.get_loc\u001b[0;34m()\u001b[0m\n",
      "File \u001b[0;32mpandas/_libs/hashtable_class_helper.pxi:5745\u001b[0m, in \u001b[0;36mpandas._libs.hashtable.PyObjectHashTable.get_item\u001b[0;34m()\u001b[0m\n",
      "File \u001b[0;32mpandas/_libs/hashtable_class_helper.pxi:5753\u001b[0m, in \u001b[0;36mpandas._libs.hashtable.PyObjectHashTable.get_item\u001b[0;34m()\u001b[0m\n",
      "\u001b[0;31mKeyError\u001b[0m: 'IFNUM'",
      "\nThe above exception was the direct cause of the following exception:\n",
      "\u001b[0;31mKeyError\u001b[0m                                  Traceback (most recent call last)",
      "Cell \u001b[0;32mIn[209], line 1\u001b[0m\n\u001b[0;32m----> 1\u001b[0m tp_sb \u001b[38;5;241m=\u001b[39m \u001b[43msdf\u001b[49m\u001b[38;5;241;43m.\u001b[39;49m\u001b[43mgettp\u001b[49m\u001b[43m(\u001b[49m\u001b[43mscan\u001b[49m\u001b[38;5;241;43m=\u001b[39;49m\u001b[43m[\u001b[49m\u001b[38;5;241;43m171\u001b[39;49m\u001b[43m,\u001b[49m\u001b[38;5;241;43m172\u001b[39;49m\u001b[43m]\u001b[49m\u001b[43m,\u001b[49m\u001b[43mifnum\u001b[49m\u001b[38;5;241;43m=\u001b[39;49m\u001b[38;5;124;43m'\u001b[39;49m\u001b[38;5;124;43m2:4\u001b[39;49m\u001b[38;5;124;43m'\u001b[39;49m\u001b[43m)\u001b[49m\n",
      "File \u001b[0;32m~/.conda/envs/dyshpy/lib/python3.9/site-packages/dysh/fits/gbtfitsload.py:959\u001b[0m, in \u001b[0;36mGBTFITSLoad.gettp\u001b[0;34m(self, sig, cal, calibrate, timeaverage, polaverage, weights, bintable, **kwargs)\u001b[0m\n\u001b[1;32m    957\u001b[0m ps_selection\u001b[38;5;241m.\u001b[39m_select_from_mixed_kwargs(\u001b[38;5;241m*\u001b[39m\u001b[38;5;241m*\u001b[39mkwargs)\n\u001b[1;32m    958\u001b[0m _sf \u001b[38;5;241m=\u001b[39m ps_selection\u001b[38;5;241m.\u001b[39mfinal\n\u001b[0;32m--> 959\u001b[0m ifnum \u001b[38;5;241m=\u001b[39m uniq(\u001b[43m_sf\u001b[49m\u001b[43m[\u001b[49m\u001b[38;5;124;43m\"\u001b[39;49m\u001b[38;5;124;43mIFNUM\u001b[39;49m\u001b[38;5;124;43m\"\u001b[39;49m\u001b[43m]\u001b[49m)\n\u001b[1;32m    960\u001b[0m plnum \u001b[38;5;241m=\u001b[39m uniq(_sf[\u001b[38;5;124m\"\u001b[39m\u001b[38;5;124mPLNUM\u001b[39m\u001b[38;5;124m\"\u001b[39m])\n\u001b[1;32m    961\u001b[0m scans \u001b[38;5;241m=\u001b[39m uniq(_sf[\u001b[38;5;124m\"\u001b[39m\u001b[38;5;124mSCAN\u001b[39m\u001b[38;5;124m\"\u001b[39m])\n",
      "File \u001b[0;32m~/.conda/envs/dyshpy/lib/python3.9/site-packages/pandas/core/frame.py:3807\u001b[0m, in \u001b[0;36mDataFrame.__getitem__\u001b[0;34m(self, key)\u001b[0m\n\u001b[1;32m   3805\u001b[0m \u001b[38;5;28;01mif\u001b[39;00m \u001b[38;5;28mself\u001b[39m\u001b[38;5;241m.\u001b[39mcolumns\u001b[38;5;241m.\u001b[39mnlevels \u001b[38;5;241m>\u001b[39m \u001b[38;5;241m1\u001b[39m:\n\u001b[1;32m   3806\u001b[0m     \u001b[38;5;28;01mreturn\u001b[39;00m \u001b[38;5;28mself\u001b[39m\u001b[38;5;241m.\u001b[39m_getitem_multilevel(key)\n\u001b[0;32m-> 3807\u001b[0m indexer \u001b[38;5;241m=\u001b[39m \u001b[38;5;28;43mself\u001b[39;49m\u001b[38;5;241;43m.\u001b[39;49m\u001b[43mcolumns\u001b[49m\u001b[38;5;241;43m.\u001b[39;49m\u001b[43mget_loc\u001b[49m\u001b[43m(\u001b[49m\u001b[43mkey\u001b[49m\u001b[43m)\u001b[49m\n\u001b[1;32m   3808\u001b[0m \u001b[38;5;28;01mif\u001b[39;00m is_integer(indexer):\n\u001b[1;32m   3809\u001b[0m     indexer \u001b[38;5;241m=\u001b[39m [indexer]\n",
      "File \u001b[0;32m~/.conda/envs/dyshpy/lib/python3.9/site-packages/pandas/core/indexes/base.py:3804\u001b[0m, in \u001b[0;36mIndex.get_loc\u001b[0;34m(self, key, method, tolerance)\u001b[0m\n\u001b[1;32m   3802\u001b[0m     \u001b[38;5;28;01mreturn\u001b[39;00m \u001b[38;5;28mself\u001b[39m\u001b[38;5;241m.\u001b[39m_engine\u001b[38;5;241m.\u001b[39mget_loc(casted_key)\n\u001b[1;32m   3803\u001b[0m \u001b[38;5;28;01mexcept\u001b[39;00m \u001b[38;5;167;01mKeyError\u001b[39;00m \u001b[38;5;28;01mas\u001b[39;00m err:\n\u001b[0;32m-> 3804\u001b[0m     \u001b[38;5;28;01mraise\u001b[39;00m \u001b[38;5;167;01mKeyError\u001b[39;00m(key) \u001b[38;5;28;01mfrom\u001b[39;00m \u001b[38;5;21;01merr\u001b[39;00m\n\u001b[1;32m   3805\u001b[0m \u001b[38;5;28;01mexcept\u001b[39;00m \u001b[38;5;167;01mTypeError\u001b[39;00m:\n\u001b[1;32m   3806\u001b[0m     \u001b[38;5;66;03m# If we have a listlike key, _check_indexing_error will raise\u001b[39;00m\n\u001b[1;32m   3807\u001b[0m     \u001b[38;5;66;03m#  InvalidIndexError. Otherwise we fall through and re-raise\u001b[39;00m\n\u001b[1;32m   3808\u001b[0m     \u001b[38;5;66;03m#  the TypeError.\u001b[39;00m\n\u001b[1;32m   3809\u001b[0m     \u001b[38;5;28mself\u001b[39m\u001b[38;5;241m.\u001b[39m_check_indexing_error(key)\n",
      "\u001b[0;31mKeyError\u001b[0m: 'IFNUM'"
     ]
    }
   ],
   "source": [
    "tp_sb = sdf.gettp(scan=[171,172],ifnum='2:4')\n",
    "\n",
    "#tpscan = tp_sb.timeaverage()"
   ]
  },
  {
   "cell_type": "code",
   "execution_count": null,
   "id": "76752dcd",
   "metadata": {},
   "outputs": [],
   "source": []
  },
  {
   "cell_type": "code",
   "execution_count": 205,
   "id": "da07307e",
   "metadata": {},
   "outputs": [
    {
     "data": {
      "text/plain": [
       "24"
      ]
     },
     "execution_count": 205,
     "metadata": {},
     "output_type": "execute_result"
    }
   ],
   "source": [
    "tp_sb[0].nrows"
   ]
  },
  {
   "cell_type": "code",
   "execution_count": 173,
   "id": "c1b643d2",
   "metadata": {},
   "outputs": [
    {
     "data": {
      "text/plain": [
       "0"
      ]
     },
     "execution_count": 173,
     "metadata": {},
     "output_type": "execute_result"
    }
   ],
   "source": [
    "tp_sb[1].ifnum"
   ]
  },
  {
   "cell_type": "code",
   "execution_count": 175,
   "id": "504f59f8",
   "metadata": {},
   "outputs": [
    {
     "data": {
      "text/plain": [
       "1"
      ]
     },
     "execution_count": 175,
     "metadata": {},
     "output_type": "execute_result"
    }
   ],
   "source": [
    "tp_sb[2].ifnum"
   ]
  },
  {
   "cell_type": "code",
   "execution_count": 174,
   "id": "fec1ab9f",
   "metadata": {},
   "outputs": [
    {
     "data": {
      "text/plain": [
       "4"
      ]
     },
     "execution_count": 174,
     "metadata": {},
     "output_type": "execute_result"
    }
   ],
   "source": [
    "len(tp_sb)"
   ]
  },
  {
   "cell_type": "code",
   "execution_count": 42,
   "id": "01ac483f",
   "metadata": {},
   "outputs": [
    {
     "data": {
      "text/plain": [
       "<dysh.spectra.scan.PSScan at 0x7f65133702e0>"
      ]
     },
     "execution_count": 42,
     "metadata": {},
     "output_type": "execute_result"
    }
   ],
   "source": [
    "ps_sb[0]"
   ]
  },
  {
   "cell_type": "code",
   "execution_count": 178,
   "id": "345321d6",
   "metadata": {},
   "outputs": [
    {
     "name": "stdout",
     "output_type": "stream",
     "text": [
      "4\n",
      "4\n",
      "4\n",
      "4\n",
      "--------\n",
      "scan pols ifnum\n",
      "17 [0, 1] 0\n",
      "18 [1, 0] 0\n",
      "19 [1, 0] 0\n",
      "20 [0, 1] 0\n",
      "--------\n",
      "17 [0, 1] 0\n",
      "18 [1, 0] 0\n",
      "19 [1, 0] 0\n",
      "20 [0, 1] 0\n",
      "--------\n",
      "17 [0, 1] 0\n",
      "18 [1, 0] 0\n",
      "19 [1, 0] 0\n",
      "20 [0, 1] 0\n",
      "--------\n",
      "17 [0, 1] 1\n",
      "18 [1, 0] 1\n",
      "19 [1, 0] 1\n",
      "20 [0, 1] 1\n"
     ]
    }
   ],
   "source": [
    "tp_sb_both = sdf.gettp(scan=[17,18,19,20],intnum=np.r_[6:12],ifnum=[0,1])\n",
    "tp_sb_neither = sdf.gettp(scan=[17,18,19,20],intnum=np.r_[6:12])\n",
    "\n",
    "tp_sb_if0 = sdf.gettp(scan=[17,18,19,20],intnum=np.r_[6:12],ifnum=0)\n",
    "tp_sb_if1 = sdf.gettp(scan=[17,18,19,20],intnum=np.r_[6:12],ifnum=1)\n",
    "\n",
    "print(len(tp_sb_both))\n",
    "print(len(tp_sb_neither))\n",
    "print(len(tp_sb_if0))\n",
    "print(len(tp_sb_if1))\n",
    "print('--------')\n",
    "print('scan pols ifnum')\n",
    "print(tp_sb_both[0].scan, tp_sb_both[0].pols, tp_sb_both[0].ifnum)\n",
    "print(tp_sb_both[1].scan, tp_sb_both[1].pols, tp_sb_both[1].ifnum)\n",
    "print(tp_sb_both[2].scan, tp_sb_both[2].pols, tp_sb_both[2].ifnum)\n",
    "print(tp_sb_both[3].scan, tp_sb_both[3].pols, tp_sb_both[3].ifnum)\n",
    "print('--------')\n",
    "print(tp_sb_neither[0].scan, tp_sb_neither[0].pols, tp_sb_neither[0].ifnum)\n",
    "print(tp_sb_neither[1].scan, tp_sb_neither[1].pols, tp_sb_neither[1].ifnum)\n",
    "print(tp_sb_neither[2].scan, tp_sb_neither[2].pols, tp_sb_neither[2].ifnum)\n",
    "print(tp_sb_neither[3].scan, tp_sb_neither[3].pols, tp_sb_neither[3].ifnum)\n",
    "print('--------')\n",
    "print(tp_sb_if0[0].scan, tp_sb_if0[0].pols, tp_sb_if0[0].ifnum)\n",
    "print(tp_sb_if0[1].scan, tp_sb_if0[1].pols, tp_sb_if0[1].ifnum)\n",
    "print(tp_sb_if0[2].scan, tp_sb_if0[2].pols, tp_sb_if0[2].ifnum)\n",
    "print(tp_sb_if0[3].scan, tp_sb_if0[3].pols, tp_sb_if0[3].ifnum)\n",
    "print('--------')\n",
    "print(tp_sb_if1[0].scan, tp_sb_if1[0].pols, tp_sb_if1[0].ifnum)\n",
    "print(tp_sb_if1[1].scan, tp_sb_if1[1].pols, tp_sb_if1[1].ifnum)\n",
    "print(tp_sb_if1[2].scan, tp_sb_if1[2].pols, tp_sb_if1[2].ifnum)\n",
    "print(tp_sb_if1[3].scan, tp_sb_if1[3].pols, tp_sb_if1[3].ifnum)"
   ]
  },
  {
   "cell_type": "code",
   "execution_count": null,
   "id": "419feedd",
   "metadata": {},
   "outputs": [],
   "source": [
    "print()"
   ]
  },
  {
   "cell_type": "code",
   "execution_count": null,
   "id": "e0ebe658",
   "metadata": {},
   "outputs": [],
   "source": []
  },
  {
   "cell_type": "code",
   "execution_count": 94,
   "id": "692b4eb0",
   "metadata": {},
   "outputs": [
    {
     "data": {
      "text/plain": [
       "2"
      ]
     },
     "execution_count": 94,
     "metadata": {},
     "output_type": "execute_result"
    }
   ],
   "source": [
    "len(tp_sb)"
   ]
  },
  {
   "cell_type": "code",
   "execution_count": 89,
   "id": "fc855311",
   "metadata": {},
   "outputs": [
    {
     "data": {
      "text/plain": [
       "[1, 0]"
      ]
     },
     "execution_count": 89,
     "metadata": {},
     "output_type": "execute_result"
    }
   ],
   "source": [
    "tp_sb[1].pols"
   ]
  },
  {
   "cell_type": "code",
   "execution_count": 84,
   "id": "b0e64433",
   "metadata": {},
   "outputs": [
    {
     "data": {
      "text/plain": [
       "17"
      ]
     },
     "execution_count": 84,
     "metadata": {},
     "output_type": "execute_result"
    }
   ],
   "source": [
    "tp_sb[0].scan"
   ]
  },
  {
   "cell_type": "code",
   "execution_count": 108,
   "id": "40e9c439",
   "metadata": {},
   "outputs": [],
   "source": [
    "tpscan0 = tp_sb[0].timeaverage()\n",
    "tpscan1 = tp_sb[1].timeaverage()\n",
    "tpscan = tp_sb.timeaverage()\n",
    "\n",
    "tpscan_if0 = tp_sb_if0.timeaverage()\n",
    "tpscan_if1 = tp_sb_if1.timeaverage()"
   ]
  },
  {
   "cell_type": "code",
   "execution_count": 109,
   "id": "4c7a22c1",
   "metadata": {},
   "outputs": [
    {
     "data": {
      "image/png": "[encoded data removed]",
      "text/plain": [
       "<Figure size 640x480 with 1 Axes>"
      ]
     },
     "metadata": {},
     "output_type": "display_data"
    }
   ],
   "source": [
    "tpscan_if0.plot()"
   ]
  },
  {
   "cell_type": "code",
   "execution_count": 110,
   "id": "88a576be",
   "metadata": {},
   "outputs": [
    {
     "data": {
      "image/png": "[encoded data removed]",
      "text/plain": [
       "<Figure size 640x480 with 1 Axes>"
      ]
     },
     "metadata": {},
     "output_type": "display_data"
    }
   ],
   "source": [
    "tpscan_if1.plot()"
   ]
  },
  {
   "cell_type": "code",
   "execution_count": 96,
   "id": "74710fb5",
   "metadata": {},
   "outputs": [
    {
     "data": {
      "image/png": "[encoded data removed]",
      "text/plain": [
       "<Figure size 640x480 with 1 Axes>"
      ]
     },
     "metadata": {},
     "output_type": "display_data"
    }
   ],
   "source": [
    "tpscan0.plot()"
   ]
  },
  {
   "cell_type": "code",
   "execution_count": 97,
   "id": "6701c8d3",
   "metadata": {},
   "outputs": [
    {
     "data": {
      "image/png": "[encoded data removed]",
      "text/plain": [
       "<Figure size 640x480 with 1 Axes>"
      ]
     },
     "metadata": {},
     "output_type": "display_data"
    }
   ],
   "source": [
    "tpscan1.plot()"
   ]
  },
  {
   "cell_type": "code",
   "execution_count": 100,
   "id": "85b08472",
   "metadata": {},
   "outputs": [
    {
     "data": {
      "image/png": "[encoded data removed]",
      "text/plain": [
       "<Figure size 640x480 with 1 Axes>"
      ]
     },
     "metadata": {},
     "output_type": "display_data"
    }
   ],
   "source": [
    "tpscan.plot()"
   ]
  },
  {
   "cell_type": "code",
   "execution_count": 103,
   "id": "c320d965",
   "metadata": {},
   "outputs": [],
   "source": [
    "tp0 = tpscan0.data\n",
    "tp1 = tpscan1.data\n",
    "tp = tpscan.data\n",
    "\n",
    "\n"
   ]
  },
  {
   "cell_type": "code",
   "execution_count": 112,
   "id": "b5a6c457",
   "metadata": {},
   "outputs": [
    {
     "data": {
      "text/plain": [
       "[<matplotlib.lines.Line2D at 0x7f650fe41370>]"
      ]
     },
     "execution_count": 112,
     "metadata": {},
     "output_type": "execute_result"
    },
    {
     "data": {
      "image/png": "[encoded data removed]",
      "text/plain": [
       "<Figure size 640x480 with 1 Axes>"
      ]
     },
     "metadata": {},
     "output_type": "display_data"
    }
   ],
   "source": [
    "plt.plot(tp0)\n",
    "plt.plot(tp1)\n",
    "plt.plot(tp)\n",
    "plt.plot(((tp0+tp1)/2))\n",
    "\n"
   ]
  },
  {
   "cell_type": "code",
   "execution_count": null,
   "id": "4f081847",
   "metadata": {},
   "outputs": [],
   "source": []
  },
  {
   "cell_type": "code",
   "execution_count": null,
   "id": "8f125df1",
   "metadata": {},
   "outputs": [],
   "source": []
  },
  {
   "cell_type": "code",
   "execution_count": 6,
   "id": "057b05dd",
   "metadata": {},
   "outputs": [],
   "source": [
    "sdf.select(scan=153)"
   ]
  },
  {
   "cell_type": "code",
   "execution_count": 34,
   "id": "70099188",
   "metadata": {},
   "outputs": [
    {
     "data": {
      "text/html": [
       "<div>\n",
       "<style scoped>\n",
       "    .dataframe tbody tr th:only-of-type {\n",
       "        vertical-align: middle;\n",
       "    }\n",
       "\n",
       "    .dataframe tbody tr th {\n",
       "        vertical-align: top;\n",
       "    }\n",
       "\n",
       "    .dataframe thead th {\n",
       "        text-align: right;\n",
       "    }\n",
       "</style>\n",
       "<table border=\"1\" class=\"dataframe\">\n",
       "  <thead>\n",
       "    <tr style=\"text-align: right;\">\n",
       "      <th></th>\n",
       "      <th>OBJECT</th>\n",
       "      <th>BANDWID</th>\n",
       "      <th>DATE-OBS</th>\n",
       "      <th>DURATION</th>\n",
       "      <th>EXPOSURE</th>\n",
       "      <th>TSYS</th>\n",
       "      <th>TDIM7</th>\n",
       "      <th>TUNIT7</th>\n",
       "      <th>CTYPE1</th>\n",
       "      <th>CRVAL1</th>\n",
       "      <th>...</th>\n",
       "      <th>PLNUM</th>\n",
       "      <th>FDNUM</th>\n",
       "      <th>HDU</th>\n",
       "      <th>BINTABLE</th>\n",
       "      <th>ROW</th>\n",
       "      <th>FITSINDEX</th>\n",
       "      <th>PROC</th>\n",
       "      <th>OBSTYPE</th>\n",
       "      <th>SUBOBSMODE</th>\n",
       "      <th>INTNUM</th>\n",
       "    </tr>\n",
       "  </thead>\n",
       "  <tbody>\n",
       "    <tr>\n",
       "      <th>0</th>\n",
       "      <td>3C286</td>\n",
       "      <td>1.080000e+09</td>\n",
       "      <td>2023-10-02T20:57:43.50</td>\n",
       "      <td>2.501898</td>\n",
       "      <td>2.481949</td>\n",
       "      <td>1.0</td>\n",
       "      <td>(16384,1,1,1)</td>\n",
       "      <td>Counts</td>\n",
       "      <td>FREQ-OBS</td>\n",
       "      <td>1.440000e+09</td>\n",
       "      <td>...</td>\n",
       "      <td>1</td>\n",
       "      <td>0</td>\n",
       "      <td>1</td>\n",
       "      <td>0</td>\n",
       "      <td>0</td>\n",
       "      <td>0.0</td>\n",
       "      <td>OffOn</td>\n",
       "      <td>PSWITCHOFF</td>\n",
       "      <td>TPWCAL</td>\n",
       "      <td>0</td>\n",
       "    </tr>\n",
       "    <tr>\n",
       "      <th>1</th>\n",
       "      <td>3C286</td>\n",
       "      <td>1.080000e+09</td>\n",
       "      <td>2023-10-02T20:57:43.50</td>\n",
       "      <td>2.501898</td>\n",
       "      <td>2.481949</td>\n",
       "      <td>1.0</td>\n",
       "      <td>(16384,1,1,1)</td>\n",
       "      <td>Counts</td>\n",
       "      <td>FREQ-OBS</td>\n",
       "      <td>1.440000e+09</td>\n",
       "      <td>...</td>\n",
       "      <td>1</td>\n",
       "      <td>0</td>\n",
       "      <td>1</td>\n",
       "      <td>0</td>\n",
       "      <td>1</td>\n",
       "      <td>0.0</td>\n",
       "      <td>OffOn</td>\n",
       "      <td>PSWITCHOFF</td>\n",
       "      <td>TPWCAL</td>\n",
       "      <td>0</td>\n",
       "    </tr>\n",
       "    <tr>\n",
       "      <th>2</th>\n",
       "      <td>3C286</td>\n",
       "      <td>1.080000e+09</td>\n",
       "      <td>2023-10-02T20:57:43.50</td>\n",
       "      <td>2.501898</td>\n",
       "      <td>2.481949</td>\n",
       "      <td>1.0</td>\n",
       "      <td>(16384,1,1,1)</td>\n",
       "      <td>Counts</td>\n",
       "      <td>FREQ-OBS</td>\n",
       "      <td>1.440000e+09</td>\n",
       "      <td>...</td>\n",
       "      <td>0</td>\n",
       "      <td>0</td>\n",
       "      <td>1</td>\n",
       "      <td>0</td>\n",
       "      <td>2</td>\n",
       "      <td>0.0</td>\n",
       "      <td>OffOn</td>\n",
       "      <td>PSWITCHOFF</td>\n",
       "      <td>TPWCAL</td>\n",
       "      <td>0</td>\n",
       "    </tr>\n",
       "    <tr>\n",
       "      <th>3</th>\n",
       "      <td>3C286</td>\n",
       "      <td>1.080000e+09</td>\n",
       "      <td>2023-10-02T20:57:43.50</td>\n",
       "      <td>2.501898</td>\n",
       "      <td>2.481949</td>\n",
       "      <td>1.0</td>\n",
       "      <td>(16384,1,1,1)</td>\n",
       "      <td>Counts</td>\n",
       "      <td>FREQ-OBS</td>\n",
       "      <td>1.440000e+09</td>\n",
       "      <td>...</td>\n",
       "      <td>0</td>\n",
       "      <td>0</td>\n",
       "      <td>1</td>\n",
       "      <td>0</td>\n",
       "      <td>3</td>\n",
       "      <td>0.0</td>\n",
       "      <td>OffOn</td>\n",
       "      <td>PSWITCHOFF</td>\n",
       "      <td>TPWCAL</td>\n",
       "      <td>0</td>\n",
       "    </tr>\n",
       "    <tr>\n",
       "      <th>4</th>\n",
       "      <td>3C286</td>\n",
       "      <td>1.080000e+09</td>\n",
       "      <td>2023-10-02T20:57:48.51</td>\n",
       "      <td>2.501898</td>\n",
       "      <td>2.483800</td>\n",
       "      <td>1.0</td>\n",
       "      <td>(16384,1,1,1)</td>\n",
       "      <td>Counts</td>\n",
       "      <td>FREQ-OBS</td>\n",
       "      <td>1.440000e+09</td>\n",
       "      <td>...</td>\n",
       "      <td>1</td>\n",
       "      <td>0</td>\n",
       "      <td>1</td>\n",
       "      <td>0</td>\n",
       "      <td>4</td>\n",
       "      <td>0.0</td>\n",
       "      <td>OffOn</td>\n",
       "      <td>PSWITCHOFF</td>\n",
       "      <td>TPWCAL</td>\n",
       "      <td>1</td>\n",
       "    </tr>\n",
       "    <tr>\n",
       "      <th>...</th>\n",
       "      <td>...</td>\n",
       "      <td>...</td>\n",
       "      <td>...</td>\n",
       "      <td>...</td>\n",
       "      <td>...</td>\n",
       "      <td>...</td>\n",
       "      <td>...</td>\n",
       "      <td>...</td>\n",
       "      <td>...</td>\n",
       "      <td>...</td>\n",
       "      <td>...</td>\n",
       "      <td>...</td>\n",
       "      <td>...</td>\n",
       "      <td>...</td>\n",
       "      <td>...</td>\n",
       "      <td>...</td>\n",
       "      <td>...</td>\n",
       "      <td>...</td>\n",
       "      <td>...</td>\n",
       "      <td>...</td>\n",
       "      <td>...</td>\n",
       "    </tr>\n",
       "    <tr>\n",
       "      <th>551</th>\n",
       "      <td>3C286</td>\n",
       "      <td>1.080000e+09</td>\n",
       "      <td>2023-10-02T21:14:31.52</td>\n",
       "      <td>2.501898</td>\n",
       "      <td>2.481949</td>\n",
       "      <td>1.0</td>\n",
       "      <td>(16384,1,1,1)</td>\n",
       "      <td>Counts</td>\n",
       "      <td>FREQ-OBS</td>\n",
       "      <td>1.440000e+09</td>\n",
       "      <td>...</td>\n",
       "      <td>1</td>\n",
       "      <td>0</td>\n",
       "      <td>1</td>\n",
       "      <td>0</td>\n",
       "      <td>551</td>\n",
       "      <td>0.0</td>\n",
       "      <td>OffOn</td>\n",
       "      <td>PSWITCHON</td>\n",
       "      <td>TPWCAL</td>\n",
       "      <td>5</td>\n",
       "    </tr>\n",
       "    <tr>\n",
       "      <th>552</th>\n",
       "      <td>3C286</td>\n",
       "      <td>1.080000e+09</td>\n",
       "      <td>2023-10-02T21:14:36.53</td>\n",
       "      <td>2.501898</td>\n",
       "      <td>2.481949</td>\n",
       "      <td>1.0</td>\n",
       "      <td>(16384,1,1,1)</td>\n",
       "      <td>Counts</td>\n",
       "      <td>FREQ-OBS</td>\n",
       "      <td>1.440000e+09</td>\n",
       "      <td>...</td>\n",
       "      <td>0</td>\n",
       "      <td>0</td>\n",
       "      <td>1</td>\n",
       "      <td>0</td>\n",
       "      <td>552</td>\n",
       "      <td>0.0</td>\n",
       "      <td>OffOn</td>\n",
       "      <td>PSWITCHON</td>\n",
       "      <td>TPWCAL</td>\n",
       "      <td>6</td>\n",
       "    </tr>\n",
       "    <tr>\n",
       "      <th>553</th>\n",
       "      <td>3C286</td>\n",
       "      <td>1.080000e+09</td>\n",
       "      <td>2023-10-02T21:14:36.53</td>\n",
       "      <td>2.501898</td>\n",
       "      <td>2.481949</td>\n",
       "      <td>1.0</td>\n",
       "      <td>(16384,1,1,1)</td>\n",
       "      <td>Counts</td>\n",
       "      <td>FREQ-OBS</td>\n",
       "      <td>1.440000e+09</td>\n",
       "      <td>...</td>\n",
       "      <td>0</td>\n",
       "      <td>0</td>\n",
       "      <td>1</td>\n",
       "      <td>0</td>\n",
       "      <td>553</td>\n",
       "      <td>0.0</td>\n",
       "      <td>OffOn</td>\n",
       "      <td>PSWITCHON</td>\n",
       "      <td>TPWCAL</td>\n",
       "      <td>6</td>\n",
       "    </tr>\n",
       "    <tr>\n",
       "      <th>554</th>\n",
       "      <td>3C286</td>\n",
       "      <td>1.080000e+09</td>\n",
       "      <td>2023-10-02T21:14:36.53</td>\n",
       "      <td>2.501898</td>\n",
       "      <td>2.481949</td>\n",
       "      <td>1.0</td>\n",
       "      <td>(16384,1,1,1)</td>\n",
       "      <td>Counts</td>\n",
       "      <td>FREQ-OBS</td>\n",
       "      <td>1.440000e+09</td>\n",
       "      <td>...</td>\n",
       "      <td>1</td>\n",
       "      <td>0</td>\n",
       "      <td>1</td>\n",
       "      <td>0</td>\n",
       "      <td>554</td>\n",
       "      <td>0.0</td>\n",
       "      <td>OffOn</td>\n",
       "      <td>PSWITCHON</td>\n",
       "      <td>TPWCAL</td>\n",
       "      <td>6</td>\n",
       "    </tr>\n",
       "    <tr>\n",
       "      <th>555</th>\n",
       "      <td>3C286</td>\n",
       "      <td>1.080000e+09</td>\n",
       "      <td>2023-10-02T21:14:36.53</td>\n",
       "      <td>2.501898</td>\n",
       "      <td>2.481949</td>\n",
       "      <td>1.0</td>\n",
       "      <td>(16384,1,1,1)</td>\n",
       "      <td>Counts</td>\n",
       "      <td>FREQ-OBS</td>\n",
       "      <td>1.440000e+09</td>\n",
       "      <td>...</td>\n",
       "      <td>1</td>\n",
       "      <td>0</td>\n",
       "      <td>1</td>\n",
       "      <td>0</td>\n",
       "      <td>555</td>\n",
       "      <td>0.0</td>\n",
       "      <td>OffOn</td>\n",
       "      <td>PSWITCHON</td>\n",
       "      <td>TPWCAL</td>\n",
       "      <td>6</td>\n",
       "    </tr>\n",
       "  </tbody>\n",
       "</table>\n",
       "<p>556 rows × 81 columns</p>\n",
       "</div>"
      ],
      "text/plain": [
       "    OBJECT       BANDWID                DATE-OBS  DURATION  EXPOSURE  TSYS  \\\n",
       "0    3C286  1.080000e+09  2023-10-02T20:57:43.50  2.501898  2.481949   1.0   \n",
       "1    3C286  1.080000e+09  2023-10-02T20:57:43.50  2.501898  2.481949   1.0   \n",
       "2    3C286  1.080000e+09  2023-10-02T20:57:43.50  2.501898  2.481949   1.0   \n",
       "3    3C286  1.080000e+09  2023-10-02T20:57:43.50  2.501898  2.481949   1.0   \n",
       "4    3C286  1.080000e+09  2023-10-02T20:57:48.51  2.501898  2.483800   1.0   \n",
       "..     ...           ...                     ...       ...       ...   ...   \n",
       "551  3C286  1.080000e+09  2023-10-02T21:14:31.52  2.501898  2.481949   1.0   \n",
       "552  3C286  1.080000e+09  2023-10-02T21:14:36.53  2.501898  2.481949   1.0   \n",
       "553  3C286  1.080000e+09  2023-10-02T21:14:36.53  2.501898  2.481949   1.0   \n",
       "554  3C286  1.080000e+09  2023-10-02T21:14:36.53  2.501898  2.481949   1.0   \n",
       "555  3C286  1.080000e+09  2023-10-02T21:14:36.53  2.501898  2.481949   1.0   \n",
       "\n",
       "             TDIM7  TUNIT7    CTYPE1        CRVAL1  ...  PLNUM  FDNUM HDU  \\\n",
       "0    (16384,1,1,1)  Counts  FREQ-OBS  1.440000e+09  ...      1      0   1   \n",
       "1    (16384,1,1,1)  Counts  FREQ-OBS  1.440000e+09  ...      1      0   1   \n",
       "2    (16384,1,1,1)  Counts  FREQ-OBS  1.440000e+09  ...      0      0   1   \n",
       "3    (16384,1,1,1)  Counts  FREQ-OBS  1.440000e+09  ...      0      0   1   \n",
       "4    (16384,1,1,1)  Counts  FREQ-OBS  1.440000e+09  ...      1      0   1   \n",
       "..             ...     ...       ...           ...  ...    ...    ...  ..   \n",
       "551  (16384,1,1,1)  Counts  FREQ-OBS  1.440000e+09  ...      1      0   1   \n",
       "552  (16384,1,1,1)  Counts  FREQ-OBS  1.440000e+09  ...      0      0   1   \n",
       "553  (16384,1,1,1)  Counts  FREQ-OBS  1.440000e+09  ...      0      0   1   \n",
       "554  (16384,1,1,1)  Counts  FREQ-OBS  1.440000e+09  ...      1      0   1   \n",
       "555  (16384,1,1,1)  Counts  FREQ-OBS  1.440000e+09  ...      1      0   1   \n",
       "\n",
       "     BINTABLE  ROW  FITSINDEX   PROC     OBSTYPE SUBOBSMODE  INTNUM  \n",
       "0           0    0        0.0  OffOn  PSWITCHOFF     TPWCAL       0  \n",
       "1           0    1        0.0  OffOn  PSWITCHOFF     TPWCAL       0  \n",
       "2           0    2        0.0  OffOn  PSWITCHOFF     TPWCAL       0  \n",
       "3           0    3        0.0  OffOn  PSWITCHOFF     TPWCAL       0  \n",
       "4           0    4        0.0  OffOn  PSWITCHOFF     TPWCAL       1  \n",
       "..        ...  ...        ...    ...         ...        ...     ...  \n",
       "551         0  551        0.0  OffOn   PSWITCHON     TPWCAL       5  \n",
       "552         0  552        0.0  OffOn   PSWITCHON     TPWCAL       6  \n",
       "553         0  553        0.0  OffOn   PSWITCHON     TPWCAL       6  \n",
       "554         0  554        0.0  OffOn   PSWITCHON     TPWCAL       6  \n",
       "555         0  555        0.0  OffOn   PSWITCHON     TPWCAL       6  \n",
       "\n",
       "[556 rows x 81 columns]"
      ]
     },
     "execution_count": 34,
     "metadata": {},
     "output_type": "execute_result"
    }
   ],
   "source": [
    "sdf.index()"
   ]
  },
  {
   "cell_type": "code",
   "execution_count": 11,
   "id": "6204f979",
   "metadata": {},
   "outputs": [
    {
     "data": {
      "text/plain": [
       "0    152\n",
       "1    152\n",
       "2    153\n",
       "3    153\n",
       "Name: SCAN, dtype: int32"
      ]
     },
     "execution_count": 11,
     "metadata": {},
     "output_type": "execute_result"
    }
   ],
   "source": [
    "sdf.index()['SCAN']"
   ]
  },
  {
   "cell_type": "code",
   "execution_count": 12,
   "id": "d5d35da4",
   "metadata": {},
   "outputs": [
    {
     "ename": "TypeError",
     "evalue": "'Selection' object is not callable",
     "output_type": "error",
     "traceback": [
      "\u001b[0;31m---------------------------------------------------------------------------\u001b[0m",
      "\u001b[0;31mTypeError\u001b[0m                                 Traceback (most recent call last)",
      "Cell \u001b[0;32mIn[12], line 1\u001b[0m\n\u001b[0;32m----> 1\u001b[0m \u001b[43msdf\u001b[49m\u001b[38;5;241;43m.\u001b[39;49m\u001b[43mselection\u001b[49m\u001b[43m(\u001b[49m\u001b[43m)\u001b[49m\n",
      "\u001b[0;31mTypeError\u001b[0m: 'Selection' object is not callable"
     ]
    }
   ],
   "source": [
    "sdf.selection()"
   ]
  },
  {
   "cell_type": "code",
   "execution_count": 14,
   "id": "2832b31f",
   "metadata": {},
   "outputs": [],
   "source": [
    "s = Selection(sdf)"
   ]
  },
  {
   "cell_type": "code",
   "execution_count": 15,
   "id": "2eb12135",
   "metadata": {},
   "outputs": [],
   "source": [
    "s.select(scan=153)"
   ]
  },
  {
   "cell_type": "code",
   "execution_count": 16,
   "id": "2b0177ff",
   "metadata": {},
   "outputs": [
    {
     "name": "stdout",
     "output_type": "stream",
     "text": [
      " ID    TAG    SCAN # SELECTED\n",
      "--- --------- ---- ----------\n",
      "  0 157ed0b23  153          2\n"
     ]
    }
   ],
   "source": [
    "s.show()"
   ]
  },
  {
   "cell_type": "code",
   "execution_count": 18,
   "id": "f016d301",
   "metadata": {},
   "outputs": [
    {
     "data": {
      "text/plain": [
       "0    152\n",
       "1    152\n",
       "2    153\n",
       "3    153\n",
       "Name: SCAN, dtype: int32"
      ]
     },
     "execution_count": 18,
     "metadata": {},
     "output_type": "execute_result"
    }
   ],
   "source": [
    "sdf.index()['SCAN']"
   ]
  },
  {
   "cell_type": "code",
   "execution_count": 20,
   "id": "e4efc97c",
   "metadata": {},
   "outputs": [],
   "source": [
    "sb = sdf.gettp()"
   ]
  },
  {
   "cell_type": "code",
   "execution_count": 21,
   "id": "541987c2",
   "metadata": {},
   "outputs": [
    {
     "data": {
      "text/plain": [
       "1"
      ]
     },
     "execution_count": 21,
     "metadata": {},
     "output_type": "execute_result"
    }
   ],
   "source": [
    "len(sb)"
   ]
  },
  {
   "cell_type": "markdown",
   "id": "87f15f1b",
   "metadata": {},
   "source": [
    "s.remove(0)"
   ]
  },
  {
   "cell_type": "code",
   "execution_count": 22,
   "id": "b5759aff",
   "metadata": {},
   "outputs": [],
   "source": [
    "s.remove(0)"
   ]
  },
  {
   "cell_type": "code",
   "execution_count": 23,
   "id": "e7f3efc9",
   "metadata": {},
   "outputs": [
    {
     "name": "stdout",
     "output_type": "stream",
     "text": [
      " ID TAG SCAN # SELECTED\n",
      "--- --- ---- ----------\n"
     ]
    }
   ],
   "source": [
    "s.show()"
   ]
  },
  {
   "cell_type": "code",
   "execution_count": 24,
   "id": "f508ed78",
   "metadata": {},
   "outputs": [],
   "source": [
    "sb = sdf.gettp()"
   ]
  },
  {
   "cell_type": "code",
   "execution_count": 25,
   "id": "e09e2cbf",
   "metadata": {},
   "outputs": [
    {
     "data": {
      "text/plain": [
       "1"
      ]
     },
     "execution_count": 25,
     "metadata": {},
     "output_type": "execute_result"
    }
   ],
   "source": [
    "len(sb)"
   ]
  },
  {
   "cell_type": "code",
   "execution_count": null,
   "id": "190d8847",
   "metadata": {},
   "outputs": [],
   "source": []
  }
 ],
 "metadata": {
  "kernelspec": {
   "display_name": "Python (dysh)",
   "language": "python",
   "name": "dyshpy"
  },
  "language_info": {
   "codemirror_mode": {
    "name": "ipython",
    "version": 3
   },
   "file_extension": ".py",
   "mimetype": "text/x-python",
   "name": "python",
   "nbconvert_exporter": "python",
   "pygments_lexer": "ipython3",
   "version": "3.9.16"
  }
 },
 "nbformat": 4,
 "nbformat_minor": 5
}
